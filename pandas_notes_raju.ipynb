{
 "cells": [
  {
   "cell_type": "markdown",
   "id": "c72a8095",
   "metadata": {},
   "source": [
    "## Pandas DataFrame\n",
    "- DataFrame is the most widely used data structure in Python pandas. You can imagine it as a table in a database or a spreadsheet.\n",
    "\n",
    "- Imagine you have an automobile showroom, and you want to analyze cars’ data to make business strategies. For example, you need to check how many vehicles you have in your showroom of type sedan, or the cars that give good mileage. For such analysis pandas DataFrame is used."
   ]
  },
  {
   "cell_type": "markdown",
   "id": "3e55810b",
   "metadata": {},
   "source": [
    "## What is DataFrame in Pandas\n",
    "\n",
    "- Dataframe is a tabular(rows, columns) representation of data. It is a two-dimensional data structure with potentially heterogeneous data.\n",
    "\n",
    "- Dataframe is a size-mutable structure that means data can be added or deleted from it, unlike data series, which does not allow operations that change its size."
   ]
  },
  {
   "cell_type": "markdown",
   "id": "7d70164d",
   "metadata": {},
   "source": [
    "## DataFrame creation\n",
    "\n",
    "- Data is available in various forms and types like CSV, SQL table, JSON, or Python structures like list, dict etc. We need to convert all such different data formats into a DataFrame so that we can use pandas libraries to analyze such data efficiently.\n",
    "\n",
    "- To create DataFrame, we can use either the DataFrame constructor or pandas’ built-in functions"
   ]
  },
  {
   "cell_type": "markdown",
   "id": "35f1f112",
   "metadata": {},
   "source": [
    "## DataFrame constructor\n",
    "\n",
    "- pandas.DataFrame(data=None, index=None, columns=None, dtype=None, copy=False)\n",
    "\n",
    "## Parameters:\n",
    "\n",
    "- data: It takes input dict, list, set, ndarray, Iterable, or DataFrame. If the input is not provided, then it creates an empty DataFrame. The resultant column order follows the insertion order.\n",
    "    \n",
    "- index: (Optional) It takes the list of row index for the DataFrame. The default value is a range of integers 0, 1,…n.\n",
    "    \n",
    "- columns : (Optional) It takes the list of columns for the DataFrame. The default value is a range of integers 0, 1,…n.\n",
    "    \n",
    "- dtype : (Optional) By default, It infers the data type from the data, but this option applies any specific data type to the whole DataFrame.\n",
    "    \n",
    "- copy : (Optional) Copy data from inputs. Boolean, Default False. Only affects DataFrame or 2d array-like inputs."
   ]
  },
  {
   "cell_type": "markdown",
   "id": "950499ba",
   "metadata": {},
   "source": [
    "## Dataframe from dict\n",
    "\n",
    "- When we have data in dict or any default data structures in Python, we can convert it into DataFrame using the DataFrame constructor.\n",
    "\n",
    "- To construct a DataFrame from a dict object, we can pass it to the DataFrame constructor pd.DataFrame(dict). It creates DataFrame using, where dict keys will be column labels, and dict values will be the columns’ data. We can also use DataFrame.from_dict() function to Create DataFrame from dict."
   ]
  },
  {
   "cell_type": "code",
   "execution_count": 2,
   "id": "94cd87e4",
   "metadata": {},
   "outputs": [
    {
     "name": "stdout",
     "output_type": "stream",
     "text": [
      "{'Name': ['raju', 'klyan'], 'age': [29, 30], 'marks': [99, 98]}\n"
     ]
    }
   ],
   "source": [
    "import pandas as pd\n",
    "#python dict object\n",
    "my_dict = {'Name': ['raju', 'klyan'], 'age': [29, 30], 'marks': [99,98]}\n",
    "print(my_dict)"
   ]
  },
  {
   "cell_type": "code",
   "execution_count": 7,
   "id": "9e203cac",
   "metadata": {},
   "outputs": [
    {
     "name": "stdout",
     "output_type": "stream",
     "text": [
      "    Name  age  marks\n",
      "0   raju   29     99\n",
      "1  klyan   30     98\n"
     ]
    }
   ],
   "source": [
    "df = pd.DataFrame(my_dict)\n",
    "print(df)"
   ]
  },
  {
   "cell_type": "code",
   "execution_count": 13,
   "id": "cb122a38",
   "metadata": {},
   "outputs": [
    {
     "name": "stdout",
     "output_type": "stream",
     "text": [
      "     Name   age  marks\n",
      "11   raju  29.0   99.0\n",
      "12  klyan  30.0   98.0\n"
     ]
    },
    {
     "name": "stderr",
     "output_type": "stream",
     "text": [
      "C:\\Users\\RAJU~1.GUL\\AppData\\Local\\Temp/ipykernel_2072/2402174807.py:1: FutureWarning: Could not cast to float64, falling back to object. This behavior is deprecated. In a future version, when a dtype is passed to 'DataFrame', either all columns will be cast to that dtype, or a TypeError will be raised\n",
      "  df = pd.DataFrame(my_dict, index = [11, 12], dtype = float)\n"
     ]
    }
   ],
   "source": [
    "df = pd.DataFrame(my_dict, index = [11, 12], dtype = float)\n",
    "print(df)"
   ]
  },
  {
   "cell_type": "code",
   "execution_count": 16,
   "id": "fbda5495",
   "metadata": {},
   "outputs": [
    {
     "data": {
      "text/plain": [
       "'E:\\\\RAJU'"
      ]
     },
     "execution_count": 16,
     "metadata": {},
     "output_type": "execute_result"
    }
   ],
   "source": [
    "pwd"
   ]
  },
  {
   "cell_type": "markdown",
   "id": "f4d04271",
   "metadata": {},
   "source": [
    "## Dataframe from CSV\n",
    "\n",
    "- In the field of Data Science, CSV files are used to store large datasets. To efficiently analyze such datasets, we need to convert them into pandas DataFrame.\n",
    "\n",
    "- To create a DataFrame from CSV, we use the read_csv('file_name') function that takes the file name as input and returns DataFrame as output."
   ]
  },
  {
   "cell_type": "code",
   "execution_count": 17,
   "id": "1b1d71ae",
   "metadata": {},
   "outputs": [],
   "source": [
    "cars = pd.read_csv(\"Automobile_data.csv\")"
   ]
  },
  {
   "cell_type": "code",
   "execution_count": 18,
   "id": "f3e0508a",
   "metadata": {},
   "outputs": [
    {
     "name": "stdout",
     "output_type": "stream",
     "text": [
      "          company   body-style  length engine-type  avg-mileage\n",
      "0     alfa-romero  convertible   168.8        dohc           21\n",
      "1     alfa-romero    hatchback   171.2        ohcv           19\n",
      "2            audi        sedan   176.6         ohc           24\n",
      "3            audi        sedan   176.6         ohc           18\n",
      "4            audi        sedan   177.3         ohc           19\n",
      "5            audi        wagon   192.7         ohc           19\n",
      "6             bmw        sedan   176.8         ohc           23\n",
      "7             bmw        sedan   176.8         ohc           23\n",
      "8             bmw        sedan   176.8         ohc           21\n",
      "9             bmw        sedan   189.0         ohc           16\n",
      "10            bmw        sedan   193.8         ohc           16\n",
      "11            bmw        sedan   197.0         ohc           15\n",
      "12      chevrolet    hatchback   141.1         ohc           47\n",
      "13      chevrolet    hatchback   155.9         ohc           38\n",
      "14      chevrolet        sedan   158.8         ohc           38\n",
      "15          dodge    hatchback   157.3         ohc           31\n",
      "16          dodge    hatchback   157.3         ohc           31\n",
      "17          honda        wagon   157.1         ohc           30\n",
      "18          honda        sedan   175.4         ohc           24\n",
      "19          honda        sedan   169.1         ohc           25\n",
      "20          isuzu        sedan   170.7         ohc           24\n",
      "21          isuzu        sedan   155.9         ohc           38\n",
      "22          isuzu        sedan   155.9         ohc           38\n",
      "23         jaguar        sedan   199.6        dohc           15\n",
      "24         jaguar        sedan   199.6        dohc           15\n",
      "25         jaguar        sedan   191.7        ohcv           13\n",
      "26          mazda    hatchback   159.1         ohc           30\n",
      "27          mazda    hatchback   159.1         ohc           31\n",
      "28          mazda    hatchback   159.1         ohc           31\n",
      "29          mazda    hatchback   169.0       rotor           17\n",
      "30          mazda        sedan   175.0         ohc           31\n",
      "31  mercedes-benz        sedan   190.9         ohc           22\n",
      "32  mercedes-benz        wagon   190.9         ohc           22\n",
      "33  mercedes-benz        sedan   208.1        ohcv           14\n",
      "34  mercedes-benz      hardtop   199.2        ohcv           14\n",
      "35     mitsubishi    hatchback   157.3         ohc           37\n",
      "36     mitsubishi    hatchback   157.3         ohc           31\n",
      "37     mitsubishi        sedan   172.4         ohc           25\n",
      "38     mitsubishi        sedan   172.4         ohc           25\n",
      "39         nissan        sedan   165.3         ohc           45\n",
      "40         nissan        sedan   165.3         ohc           31\n",
      "41         nissan        sedan   165.3         ohc           31\n",
      "42         nissan        wagon   170.2         ohc           31\n",
      "43         nissan        sedan   184.6        ohcv           19\n",
      "44        porsche      hardtop   168.9        ohcf           17\n",
      "45        porsche  convertible   168.9        ohcf           17\n",
      "46        porsche    hatchback   175.7       dohcv           17\n",
      "47         toyota    hatchback   158.7         ohc           35\n",
      "48         toyota    hatchback   158.7         ohc           31\n",
      "49         toyota    hatchback   158.7         ohc           31\n",
      "50         toyota        wagon   169.7         ohc           31\n",
      "51         toyota        wagon   169.7         ohc           27\n",
      "52         toyota        wagon   169.7         ohc           27\n",
      "53         toyota        wagon   187.8        dohc           19\n",
      "54     volkswagen        sedan   171.7         ohc           37\n",
      "55     volkswagen        sedan   171.7         ohc           27\n",
      "56     volkswagen        sedan   171.7         ohc           37\n",
      "57     volkswagen        sedan   171.7         ohc           26\n",
      "58          volvo        sedan   188.8         ohc           23\n",
      "59          volvo        wagon   188.8         ohc           23\n"
     ]
    }
   ],
   "source": [
    "print(cars)"
   ]
  },
  {
   "cell_type": "markdown",
   "id": "ef261be2",
   "metadata": {},
   "source": [
    "## DataFrame Options\n",
    "\n",
    "- When DataFrame is vast, and we can not display the whole data while printing. In that case, we need to change how DataFrame gets display on the console using the print function. For that, pandas have provided many options and functions to customize the presentation of the DataFrame.\n",
    "\n",
    "## To customize the display of DataFrame while printing\n",
    "- When we display the DataFrame using print() function by default, it displays 10 rows (top 5 and bottom 5). Sometimes we may need to show more or lesser rows than the default view of the DataFrame.\n",
    "\n",
    "- We can change the setting by using pd.options or pd.set_option() functions. Both can be used interchangeably."
   ]
  },
  {
   "cell_type": "code",
   "execution_count": 20,
   "id": "fe3d778c",
   "metadata": {},
   "outputs": [
    {
     "name": "stdout",
     "output_type": "stream",
     "text": [
      "        company   body-style  length engine-type  avg-mileage\n",
      "0   alfa-romero  convertible   168.8        dohc           21\n",
      "1   alfa-romero    hatchback   171.2        ohcv           19\n",
      "2          audi        sedan   176.6         ohc           24\n",
      "3          audi        sedan   176.6         ohc           18\n",
      "4          audi        sedan   177.3         ohc           19\n",
      "..          ...          ...     ...         ...          ...\n",
      "55   volkswagen        sedan   171.7         ohc           27\n",
      "56   volkswagen        sedan   171.7         ohc           37\n",
      "57   volkswagen        sedan   171.7         ohc           26\n",
      "58        volvo        sedan   188.8         ohc           23\n",
      "59        volvo        wagon   188.8         ohc           23\n",
      "\n",
      "[60 rows x 5 columns]\n"
     ]
    }
   ],
   "source": [
    "# setting max rows to be shown\n",
    "pd.options.display.max_rows = 20\n",
    "print(cars)\n"
   ]
  },
  {
   "cell_type": "code",
   "execution_count": 22,
   "id": "cb00d875",
   "metadata": {},
   "outputs": [
    {
     "name": "stdout",
     "output_type": "stream",
     "text": [
      "        company   body-style  length engine-type  avg-mileage\n",
      "0   alfa-romero  convertible   168.8        dohc           21\n",
      "1   alfa-romero    hatchback   171.2        ohcv           19\n",
      "..          ...          ...     ...         ...          ...\n",
      "58        volvo        sedan   188.8         ohc           23\n",
      "59        volvo        wagon   188.8         ohc           23\n",
      "\n",
      "[60 rows x 5 columns]\n"
     ]
    }
   ],
   "source": [
    "# setting minimum rows to be shown\n",
    "\n",
    "pd.set_option('display.min_rows', 5)\n",
    "print(cars)"
   ]
  },
  {
   "cell_type": "markdown",
   "id": "bf43238c",
   "metadata": {},
   "source": [
    "## DataFrame metadata\n",
    "\n",
    "- Sometimes we need to get metadata of the DataFrame and not the content inside it. Such metadata information is useful to understand the DataFrame as it gives more details about the DataFrame that we need to process.\n",
    "\n",
    "- In this section, we cover the functions which provide such information of the DataFrame.\n",
    "\n",
    "## Metadata info of DataFrame\n",
    "- DataFrame.info() is a function of DataFrame that gives metadata of DataFrame. Which includes,\n",
    "\n",
    "\n",
    "\n",
    "- Number of rows and its range of index\n",
    "- Total number of columns\n",
    "- List of columns\n",
    "- Count of the total number of non-null values in the column\n",
    "- Data type of column\n",
    "- Count of columns in each data type\n",
    "- Memory usage by the DataFrame"
   ]
  },
  {
   "cell_type": "code",
   "execution_count": 30,
   "id": "b21c718a",
   "metadata": {},
   "outputs": [
    {
     "name": "stdout",
     "output_type": "stream",
     "text": [
      "<class 'pandas.core.frame.DataFrame'>\n",
      "RangeIndex: 60 entries, 0 to 59\n",
      "Data columns (total 5 columns):\n",
      " #   Column       Non-Null Count  Dtype  \n",
      "---  ------       --------------  -----  \n",
      " 0   company      60 non-null     object \n",
      " 1   body-style   60 non-null     object \n",
      " 2   length       60 non-null     float64\n",
      " 3   engine-type  60 non-null     object \n",
      " 4   avg-mileage  60 non-null     int64  \n",
      "dtypes: float64(1), int64(1), object(3)\n",
      "memory usage: 2.5+ KB\n"
     ]
    }
   ],
   "source": [
    "cars = pd.read_csv(\"Automobile_data.csv\")\n",
    "#get data frame info\n",
    "cars.info()"
   ]
  },
  {
   "cell_type": "markdown",
   "id": "dde45a16",
   "metadata": {},
   "source": [
    "## Get the statistics of DataFrame\n",
    "- DataFrame.describe() is a function that gives mathematical statistics of the data in DataFrame. But, it applies to the columns that contain numeric values.\n",
    "\n",
    "- In our example of student DataFrame, it gives descriptive statistics of “Age” and “Marks” columns only, that includes:\n",
    "\n",
    "- count: Total number of non-null values in the column\n",
    "- mean: an average of numbers\n",
    "- std: a standard deviation value\n",
    "- min: minimum value\n",
    "- 25%: 25th percentile\n",
    "- 50%: 50th percentile\n",
    "- 75%: 75th percentile\n",
    "- max: maximum value"
   ]
  },
  {
   "cell_type": "code",
   "execution_count": 31,
   "id": "9f3d51d1",
   "metadata": {},
   "outputs": [
    {
     "data": {
      "text/html": [
       "<div>\n",
       "<style scoped>\n",
       "    .dataframe tbody tr th:only-of-type {\n",
       "        vertical-align: middle;\n",
       "    }\n",
       "\n",
       "    .dataframe tbody tr th {\n",
       "        vertical-align: top;\n",
       "    }\n",
       "\n",
       "    .dataframe thead th {\n",
       "        text-align: right;\n",
       "    }\n",
       "</style>\n",
       "<table border=\"1\" class=\"dataframe\">\n",
       "  <thead>\n",
       "    <tr style=\"text-align: right;\">\n",
       "      <th></th>\n",
       "      <th>length</th>\n",
       "      <th>avg-mileage</th>\n",
       "    </tr>\n",
       "  </thead>\n",
       "  <tbody>\n",
       "    <tr>\n",
       "      <th>count</th>\n",
       "      <td>60.000000</td>\n",
       "      <td>60.000000</td>\n",
       "    </tr>\n",
       "    <tr>\n",
       "      <th>mean</th>\n",
       "      <td>173.170000</td>\n",
       "      <td>25.883333</td>\n",
       "    </tr>\n",
       "    <tr>\n",
       "      <th>std</th>\n",
       "      <td>14.128914</td>\n",
       "      <td>8.174146</td>\n",
       "    </tr>\n",
       "    <tr>\n",
       "      <th>min</th>\n",
       "      <td>141.100000</td>\n",
       "      <td>13.000000</td>\n",
       "    </tr>\n",
       "    <tr>\n",
       "      <th>25%</th>\n",
       "      <td>159.100000</td>\n",
       "      <td>19.000000</td>\n",
       "    </tr>\n",
       "    <tr>\n",
       "      <th>50%</th>\n",
       "      <td>171.450000</td>\n",
       "      <td>25.000000</td>\n",
       "    </tr>\n",
       "    <tr>\n",
       "      <th>75%</th>\n",
       "      <td>179.125000</td>\n",
       "      <td>31.000000</td>\n",
       "    </tr>\n",
       "    <tr>\n",
       "      <th>max</th>\n",
       "      <td>208.100000</td>\n",
       "      <td>47.000000</td>\n",
       "    </tr>\n",
       "  </tbody>\n",
       "</table>\n",
       "</div>"
      ],
      "text/plain": [
       "           length  avg-mileage\n",
       "count   60.000000    60.000000\n",
       "mean   173.170000    25.883333\n",
       "std     14.128914     8.174146\n",
       "min    141.100000    13.000000\n",
       "25%    159.100000    19.000000\n",
       "50%    171.450000    25.000000\n",
       "75%    179.125000    31.000000\n",
       "max    208.100000    47.000000"
      ]
     },
     "execution_count": 31,
     "metadata": {},
     "output_type": "execute_result"
    }
   ],
   "source": [
    "# get data Frame discription\n",
    "cars.describe()"
   ]
  },
  {
   "cell_type": "markdown",
   "id": "bf9e8cca",
   "metadata": {},
   "source": [
    "Home » Python » Pandas » Pandas DataFrame\n",
    "Pandas DataFrame\n",
    "Updated on: April 5, 2021 | 1 Comment\n",
    "\n",
    "In this lesson, you will learn pandas DataFrame. It covers the basics of DataFrame, its attributes, functions, and how to use DataFrame for Data Analysis.\n",
    "\n",
    "DataFrame is the most widely used data structure in Python pandas. You can imagine it as a table in a database or a spreadsheet.\n",
    "\n",
    "Imagine you have an automobile showroom, and you want to analyze cars’ data to make business strategies. For example, you need to check how many vehicles you have in your showroom of type sedan, or the cars that give good mileage. For such analysis pandas DataFrame is used.\n",
    "\n",
    "Table of contents\n",
    "What is DataFrame in Pandas\n",
    "DataFrame creation\n",
    "DataFrame constructor\n",
    "Dataframe from dict\n",
    "Dataframe from CSV\n",
    "DataFrame Options\n",
    "To customize the display of DataFrame while printing\n",
    "DataFrame metadata\n",
    "Metadata info of DataFrame\n",
    "Get the statistics of DataFrame\n",
    "DataFrame Attributes\n",
    "Example\n",
    "DataFrame selection\n",
    "Example\n",
    "DataFrame modification\n",
    "Insert columns\n",
    "Drop columns\n",
    "Apply condition\n",
    "DataFrame filter columns\n",
    "DataFrame rename columns\n",
    "DataFrame Join\n",
    "DataFrame GroupBy\n",
    "DataFrame Iteration\n",
    "DataFrame Sorting\n",
    "DataFrame conversion\n",
    "Next Steps\n",
    "\n",
    "What is DataFrame in Pandas\n",
    "Dataframe is a tabular(rows, columns) representation of data. It is a two-dimensional data structure with potentially heterogeneous data.\n",
    "\n",
    "Dataframe is a size-mutable structure that means data can be added or deleted from it, unlike data series, which does not allow operations that change its size.\n",
    "\n",
    "Pandas DataFrame\n",
    "Pandas DataFrame\n",
    "\n",
    "DataFrame creation\n",
    "Data is available in various forms and types like CSV, SQL table, JSON, or Python structures like list, dict etc. We need to convert all such different data formats into a DataFrame so that we can use pandas libraries to analyze such data efficiently.\n",
    "\n",
    "To create DataFrame, we can use either the DataFrame constructor or pandas’ built-in functions. Below are some examples.\n",
    "\n",
    "DataFrame constructor\n",
    "\n",
    "pandas.DataFrame(data=None, index=None, columns=None, dtype=None, copy=False)\n",
    "Parameters:\n",
    "\n",
    "data: It takes input dict, list, set, ndarray, Iterable, or DataFrame. If the input is not provided, then it creates an empty DataFrame. The resultant column order follows the insertion order.\n",
    "index: (Optional) It takes the list of row index for the DataFrame. The default value is a range of integers 0, 1,…n.\n",
    "columns : (Optional) It takes the list of columns for the DataFrame. The default value is a range of integers 0, 1,…n.\n",
    "dtype : (Optional) By default, It infers the data type from the data, but this option applies any specific data type to the whole DataFrame.\n",
    "copy : (Optional) Copy data from inputs. Boolean, Default False. Only affects DataFrame or 2d array-like inputs\n",
    "\n",
    "Refer the following articles for more details:\n",
    "\n",
    "Create pandas DataFrame from Python List\n",
    "Create pandas DataFrame from Python Dictionary\n",
    "Dataframe from dict\n",
    "When we have data in dict or any default data structures in Python, we can convert it into DataFrame using the DataFrame constructor.\n",
    "\n",
    "To construct a DataFrame from a dict object, we can pass it to the DataFrame constructor pd.DataFrame(dict). It creates DataFrame using, where dict keys will be column labels, and dict values will be the columns’ data. We can also use DataFrame.from_dict() function to Create DataFrame from dict.\n",
    "\n",
    "\n",
    "Example\n",
    "\n",
    "Dictionary\n",
    "\n",
    "student_dict = {'Name':['Joe','Nat'], 'Age':[20,21], 'Marks':[85.10, 77.80]}\n",
    "‘Name‘, ‘Age‘ and ‘Marks‘ are the keys in the dict when you convert they will become the column labels of the DataFrame.\n",
    "\n",
    "import pandas as pd\n",
    "\n",
    "# Python dict object\n",
    "student_dict = {'Name': ['Joe', 'Nat'], 'Age': [20, 21], 'Marks': [85.10, 77.80]}\n",
    "print(student_dict)\n",
    "\n",
    "# Create DataFrame from dict\n",
    "student_df = pd.DataFrame(student_dict)\n",
    "print(student_df)\n",
    " Run\n",
    "Output\n",
    "\n",
    "{'Name': ['Joe', 'Nat'], 'Age': [20, 21], 'Marks': [85.1, 77.8]}\n",
    "\n",
    "  Name  Age  Marks\n",
    "0  Joe   20   85.1\n",
    "1  Nat   21   77.8\n",
    "Dataframe from CSV\n",
    "In the field of Data Science, CSV files are used to store large datasets. To efficiently analyze such datasets, we need to convert them into pandas DataFrame.\n",
    "\n",
    "To create a DataFrame from CSV, we use the read_csv('file_name') function that takes the file name as input and returns DataFrame as output.\n",
    "\n",
    "Let’s see how to read the Automobile_data.csv file into the DataFrame.\n",
    "\n",
    "Automobile Dataset CSV File\n",
    "‘Automobile_data.csv’ Dataset\n",
    "cars = pd.read_csv(\"Automobile_data.csv\")\n",
    "print(cars)\n",
    "Output\n",
    "\n",
    "        company   body-style  length engine-type  avg-mileage\n",
    "0   alfa-romero  convertible   168.8        dohc           21\n",
    "1   alfa-romero    hatchback   171.2        ohcv           19\n",
    "2          audi        sedan   176.6         ohc           24\n",
    "..          ...          ...     ...         ...          ...\n",
    "58        volvo        sedan   188.8         ohc           23\n",
    "59        volvo        wagon   188.8         ohc           23\n",
    "DataFrame Options\n",
    "When DataFrame is vast, and we can not display the whole data while printing. In that case, we need to change how DataFrame gets display on the console using the print function. For that, pandas have provided many options and functions to customize the presentation of the DataFrame.\n",
    "\n",
    "To customize the display of DataFrame while printing\n",
    "When we display the DataFrame using print() function by default, it displays 10 rows (top 5 and bottom 5). Sometimes we may need to show more or lesser rows than the default view of the DataFrame.\n",
    "\n",
    "We can change the setting by using pd.options or pd.set_option() functions. Both can be used interchangeably.\n",
    "\n",
    "The below example will show a maximum of 20 and a minimum of 5 rows while printing DataFrame.\n",
    "\n",
    "import pandas as pd\n",
    "\n",
    "# Setting maximum rows to be shown \n",
    "pd.options.display.max_rows = 20\n",
    "\n",
    "# Setting minimum rows to be shown\n",
    "pd.set_option(\"display.min_rows\", 5)\n",
    "\n",
    "# Print DataFrame\n",
    "print(cars)\n",
    "Output\n",
    "\n",
    "        company   body-style  length engine-type  avg-mileage\n",
    "0   alfa-romero  convertible   168.8        dohc           21\n",
    "1   alfa-romero    hatchback   171.2        ohcv           19\n",
    "..          ...          ...     ...         ...          ...\n",
    "58        volvo        sedan   188.8         ohc           23\n",
    "59        volvo        wagon   188.8         ohc           23\n",
    "\n",
    "[60 rows x 5 columns]\n",
    "DataFrame metadata\n",
    "Sometimes we need to get metadata of the DataFrame and not the content inside it. Such metadata information is useful to understand the DataFrame as it gives more details about the DataFrame that we need to process.\n",
    "\n",
    "In this section, we cover the functions which provide such information of the DataFrame.\n",
    "\n",
    "Let’s take an example of student DataFrame which contains ‘Name‘, ‘Age‘ and ‘Marks‘ of students as shown below.\n",
    "\n",
    "    Name  Age  Marks\n",
    "0    Joe   20  85.10\n",
    "1    Nat   21  77.80\n",
    "2  Harry   19  91.54\n",
    "\n",
    "Metadata info of DataFrame\n",
    "DataFrame.info() is a function of DataFrame that gives metadata of DataFrame. Which includes,\n",
    "\n",
    "Number of rows and its range of index\n",
    "Total number of columns\n",
    "List of columns\n",
    "Count of the total number of non-null values in the column\n",
    "Data type of column\n",
    "Count of columns in each data type\n",
    "Memory usage by the DataFrame\n",
    "\n",
    "Example\n",
    "\n",
    "In the below example, we got metadata information of student DataFrame.\n",
    "\n",
    "# get dataframe info\n",
    "student_df.info()\n",
    "Output\n",
    "\n",
    "<class 'pandas.core.frame.DataFrame'>\n",
    "RangeIndex: 3 entries, 0 to 2\n",
    "Data columns (total 3 columns):\n",
    " #   Column  Non-Null Count  Dtype  \n",
    "---  ------  --------------  -----  \n",
    " 0   Name    3 non-null      object \n",
    " 1   Age     3 non-null      int64  \n",
    " 2   Marks   3 non-null      float64\n",
    "dtypes: float64(1), int64(1), object(1)\n",
    "memory usage: 200.0+ bytes\n",
    "\n",
    "Get the statistics of DataFrame\n",
    "DataFrame.describe() is a function that gives mathematical statistics of the data in DataFrame. But, it applies to the columns that contain numeric values.\n",
    "\n",
    "In our example of student DataFrame, it gives descriptive statistics of “Age” and “Marks” columns only, that includes:\n",
    "\n",
    "count: Total number of non-null values in the column\n",
    "mean: an average of numbers\n",
    "std: a standard deviation value\n",
    "min: minimum value\n",
    "25%: 25th percentile\n",
    "50%: 50th percentile\n",
    "75%: 75th percentile\n",
    "max: maximum value\n",
    "\n",
    "Note: Output of  DataFrame.describe() function varies depending on the input DataFrame.\n",
    "\n",
    "Example\n",
    "\n",
    "# get dataframe description\n",
    "student_df.describe()\n",
    "Output\n",
    "\n",
    "        Age      Marks\n",
    "count   3.0   3.000000\n",
    "mean   20.0  84.813333\n",
    "std     1.0   6.874484\n",
    "min    19.0  77.800000\n",
    "25%    19.5  81.450000\n",
    "50%    20.0  85.100000\n",
    "75%    20.5  88.320000\n",
    "max    21.0  91.540000"
   ]
  },
  {
   "cell_type": "markdown",
   "id": "17a77e00",
   "metadata": {},
   "source": [
    "## DataFrame Attributes\n",
    "- DataFrame has provided many built-in attributes. Attributes do not modify the underlying data, unlike functions, but it is used to get more details about the DataFrame.\n",
    "\n",
    "- Following are majorly used attributes of the DataFrame.\n",
    "\n",
    "## Attribute\tDescription\n",
    "1.DataFrame.index:\tIt gives the Range of the row index\n",
    "\n",
    "2.DataFrame.columns:\tIt gives a list of column labels\n",
    "\n",
    "3.DataFrame.dtypes:\tIt gives column names and their data type\n",
    "\n",
    "4.DataFrame.values:\tIt gives all the rows in DataFrame\n",
    "\n",
    "5.DataFrame.empty:\tIt is used to check if the DataFrame is empty\n",
    "\n",
    "6.DataFrame.size:\tIt gives a total number of values in DataFrame\n",
    "\n",
    "7.DataFrame.shape:\tIt a number of rows and columns in DataFrame\n",
    "                     pandas DataFrame Attributes"
   ]
  },
  {
   "cell_type": "code",
   "execution_count": 35,
   "id": "85375983",
   "metadata": {},
   "outputs": [
    {
     "name": "stdout",
     "output_type": "stream",
     "text": [
      "Data Frame:\n",
      "      name  Age  marks\n",
      "0    raju   30     99\n",
      "1  kalyan   29     98\n",
      "2   sunny    7    100\n"
     ]
    }
   ],
   "source": [
    "import pandas as pd\n",
    "#create data frame from dict\n",
    "my_dict = { 'name': ['raju', 'kalyan', 'sunny'], 'Age': [30, 29, 7], 'marks': [99, 98, 100]}\n",
    "df = pd.DataFrame(my_dict)\n",
    "print(\"Data Frame:\\n\", df)"
   ]
  },
  {
   "cell_type": "code",
   "execution_count": 36,
   "id": "ca31396e",
   "metadata": {},
   "outputs": [
    {
     "name": "stdout",
     "output_type": "stream",
     "text": [
      "Data Frame Columns:\n",
      " Index(['name', 'Age', 'marks'], dtype='object')\n"
     ]
    }
   ],
   "source": [
    "print('Data Frame Columns:\\n', df.columns)"
   ]
  },
  {
   "cell_type": "code",
   "execution_count": 38,
   "id": "951bdf5c",
   "metadata": {},
   "outputs": [
    {
     "name": "stdout",
     "output_type": "stream",
     "text": [
      "Data Frame Column type:\n",
      " name     object\n",
      "Age       int64\n",
      "marks     int64\n",
      "dtype: object\n"
     ]
    }
   ],
   "source": [
    "print('Data Frame Column type:\\n', df.dtypes)"
   ]
  },
  {
   "cell_type": "code",
   "execution_count": 39,
   "id": "fd5a335b",
   "metadata": {},
   "outputs": [
    {
     "name": "stdout",
     "output_type": "stream",
     "text": [
      "Data Frame is empty:\n",
      " False\n"
     ]
    }
   ],
   "source": [
    "print('Data Frame is empty:\\n', df.empty)"
   ]
  },
  {
   "cell_type": "code",
   "execution_count": 40,
   "id": "1bbf9338",
   "metadata": {},
   "outputs": [
    {
     "name": "stdout",
     "output_type": "stream",
     "text": [
      "Data Frame Shape:\n",
      " (3, 3)\n"
     ]
    }
   ],
   "source": [
    "print('Data Frame Shape:\\n', df.shape)"
   ]
  },
  {
   "cell_type": "code",
   "execution_count": 41,
   "id": "41ce93a8",
   "metadata": {},
   "outputs": [
    {
     "name": "stdout",
     "output_type": "stream",
     "text": [
      "Data Frame size:\n",
      " 9\n"
     ]
    }
   ],
   "source": [
    "print('Data Frame size:\\n', df.size)"
   ]
  },
  {
   "cell_type": "code",
   "execution_count": 42,
   "id": "0dffe3ea",
   "metadata": {},
   "outputs": [
    {
     "name": "stdout",
     "output_type": "stream",
     "text": [
      "Data Frame values:\n",
      " [['raju' 30 99]\n",
      " ['kalyan' 29 98]\n",
      " ['sunny' 7 100]]\n"
     ]
    }
   ],
   "source": [
    "print('Data Frame values:\\n', df.values)"
   ]
  },
  {
   "cell_type": "markdown",
   "id": "7b657591",
   "metadata": {},
   "source": [
    "## DataFrame selection\n",
    "- While dealing with the vast data in DataFrame, a data analyst always needs to select a particular row or column for the analysis. In such cases, functions that can choose a set of rows or columns like top rows, bottom rows, or data within an index range play a significant role.\n",
    "\n",
    "- Following are the functions that help in selecting the subset of the DataFrame.\n",
    "\n",
    "## Function\tDescription\n",
    "1.DataFrame.head(n)\t: It is used to select top ‘n’ rows in DataFrame.\n",
    "\n",
    "2.DataFrame.tail(n):\tIt is used to select bottom ‘n’ rows in DataFrame.\n",
    "\n",
    "3.DataFrame.at:\tIt is used to get and set the particular value of DataFrame using row and column labels.\n",
    "\n",
    "4.DataFrame.iat:\tIt is used to get and set the particular value of DataFrame using row and column index positions.\n",
    "\n",
    "5.DataFrame.get(key):\tIt is used to get the value of a key in DataFrame where Key is the column name.\n",
    "\n",
    "6.DataFrame.loc():\tIt is used to select a group of data based on the row and column labels. It is used for slicing and filtering of the DataFrame.\n",
    "\n",
    "7.DataFrame.iloc():\tIt is used to select a group of data based on the row and column index position. Use it for slicing and filtering the DataFrame. pandas function for selecting data from DataFrame"
   ]
  },
  {
   "cell_type": "code",
   "execution_count": 44,
   "id": "968e3273",
   "metadata": {},
   "outputs": [
    {
     "name": "stdout",
     "output_type": "stream",
     "text": [
      "Data Frame:\n",
      "      name  Age  marks\n",
      "0    raju   30     99\n",
      "1  kalyan   29     98\n",
      "2   sunny    7    100\n"
     ]
    }
   ],
   "source": [
    "import pandas as pd\n",
    "#create data frame from dict\n",
    "my_dict = { 'name': ['raju', 'kalyan', 'sunny'], 'Age': [30, 29, 7], 'marks': [99, 98, 100]}\n",
    "df = pd.DataFrame(my_dict)\n",
    "print(\"Data Frame:\\n\", df)"
   ]
  },
  {
   "cell_type": "code",
   "execution_count": 45,
   "id": "1ea9c13e",
   "metadata": {},
   "outputs": [
    {
     "data": {
      "text/html": [
       "<div>\n",
       "<style scoped>\n",
       "    .dataframe tbody tr th:only-of-type {\n",
       "        vertical-align: middle;\n",
       "    }\n",
       "\n",
       "    .dataframe tbody tr th {\n",
       "        vertical-align: top;\n",
       "    }\n",
       "\n",
       "    .dataframe thead th {\n",
       "        text-align: right;\n",
       "    }\n",
       "</style>\n",
       "<table border=\"1\" class=\"dataframe\">\n",
       "  <thead>\n",
       "    <tr style=\"text-align: right;\">\n",
       "      <th></th>\n",
       "      <th>name</th>\n",
       "      <th>Age</th>\n",
       "      <th>marks</th>\n",
       "    </tr>\n",
       "  </thead>\n",
       "  <tbody>\n",
       "    <tr>\n",
       "      <th>0</th>\n",
       "      <td>raju</td>\n",
       "      <td>30</td>\n",
       "      <td>99</td>\n",
       "    </tr>\n",
       "    <tr>\n",
       "      <th>1</th>\n",
       "      <td>kalyan</td>\n",
       "      <td>29</td>\n",
       "      <td>98</td>\n",
       "    </tr>\n",
       "  </tbody>\n",
       "</table>\n",
       "</div>"
      ],
      "text/plain": [
       "     name  Age  marks\n",
       "0    raju   30     99\n",
       "1  kalyan   29     98"
      ]
     },
     "execution_count": 45,
     "metadata": {},
     "output_type": "execute_result"
    }
   ],
   "source": [
    "#select top 2 rows\n",
    "df.head(2)"
   ]
  },
  {
   "cell_type": "code",
   "execution_count": 46,
   "id": "388ff49d",
   "metadata": {},
   "outputs": [
    {
     "data": {
      "text/html": [
       "<div>\n",
       "<style scoped>\n",
       "    .dataframe tbody tr th:only-of-type {\n",
       "        vertical-align: middle;\n",
       "    }\n",
       "\n",
       "    .dataframe tbody tr th {\n",
       "        vertical-align: top;\n",
       "    }\n",
       "\n",
       "    .dataframe thead th {\n",
       "        text-align: right;\n",
       "    }\n",
       "</style>\n",
       "<table border=\"1\" class=\"dataframe\">\n",
       "  <thead>\n",
       "    <tr style=\"text-align: right;\">\n",
       "      <th></th>\n",
       "      <th>name</th>\n",
       "      <th>Age</th>\n",
       "      <th>marks</th>\n",
       "    </tr>\n",
       "  </thead>\n",
       "  <tbody>\n",
       "    <tr>\n",
       "      <th>1</th>\n",
       "      <td>kalyan</td>\n",
       "      <td>29</td>\n",
       "      <td>98</td>\n",
       "    </tr>\n",
       "    <tr>\n",
       "      <th>2</th>\n",
       "      <td>sunny</td>\n",
       "      <td>7</td>\n",
       "      <td>100</td>\n",
       "    </tr>\n",
       "  </tbody>\n",
       "</table>\n",
       "</div>"
      ],
      "text/plain": [
       "     name  Age  marks\n",
       "1  kalyan   29     98\n",
       "2   sunny    7    100"
      ]
     },
     "execution_count": 46,
     "metadata": {},
     "output_type": "execute_result"
    }
   ],
   "source": [
    "#select bottom 2 rows\n",
    "df.tail(2)"
   ]
  },
  {
   "cell_type": "code",
   "execution_count": 49,
   "id": "49af860a",
   "metadata": {},
   "outputs": [
    {
     "name": "stdout",
     "output_type": "stream",
     "text": [
      "raju\n",
      "kalyan\n",
      "29\n"
     ]
    }
   ],
   "source": [
    "#select values at row index and column name\n",
    "print(df.at[0, 'name'])\n",
    "print(df.at[1, 'name'])\n",
    "print(df.at[1, 'Age'])"
   ]
  },
  {
   "cell_type": "code",
   "execution_count": 53,
   "id": "1a7f66bd",
   "metadata": {},
   "outputs": [
    {
     "name": "stdout",
     "output_type": "stream",
     "text": [
      "raju\n",
      "30\n",
      "29\n",
      "kalyan\n"
     ]
    }
   ],
   "source": [
    "#select value at 1st row and 1st index\n",
    "print(df.iat[0,0])\n",
    "print(df.iat[0,1])\n",
    "print(df.iat[1,1])\n",
    "print(df.iat[1,0])"
   ]
  },
  {
   "cell_type": "code",
   "execution_count": 54,
   "id": "ef296ce2",
   "metadata": {},
   "outputs": [
    {
     "name": "stdout",
     "output_type": "stream",
     "text": [
      "0      raju\n",
      "1    kalyan\n",
      "2     sunny\n",
      "Name: name, dtype: object\n"
     ]
    }
   ],
   "source": [
    "#select the values of name column\n",
    "print(df.get('name'))"
   ]
  },
  {
   "cell_type": "code",
   "execution_count": 56,
   "id": "e0901bfd",
   "metadata": {},
   "outputs": [
    {
     "name": "stdout",
     "output_type": "stream",
     "text": [
      "0    30\n",
      "1    29\n",
      "2     7\n",
      "Name: Age, dtype: int64\n"
     ]
    }
   ],
   "source": [
    "print(df.get('Age'))"
   ]
  },
  {
   "cell_type": "code",
   "execution_count": 57,
   "id": "0db1cb6e",
   "metadata": {},
   "outputs": [
    {
     "name": "stdout",
     "output_type": "stream",
     "text": [
      "     name\n",
      "0    raju\n",
      "1  kalyan\n",
      "2   sunny\n"
     ]
    }
   ],
   "source": [
    "# Select values from row index 0 t0 2 and 'name' column\n",
    "print(df.loc[0:2, ['name']])"
   ]
  },
  {
   "cell_type": "code",
   "execution_count": 58,
   "id": "ece39010",
   "metadata": {},
   "outputs": [
    {
     "name": "stdout",
     "output_type": "stream",
     "text": [
      "     name  Age  marks\n",
      "0    raju   30     99\n",
      "1  kalyan   29     98\n",
      "2   sunny    7    100\n"
     ]
    }
   ],
   "source": [
    "print(df.loc[0:2])"
   ]
  },
  {
   "cell_type": "code",
   "execution_count": 60,
   "id": "a3131327",
   "metadata": {},
   "outputs": [
    {
     "name": "stdout",
     "output_type": "stream",
     "text": [
      "     name  Age  marks\n",
      "0    raju   30     99\n",
      "1  kalyan   29     98\n"
     ]
    }
   ],
   "source": [
    "print(df.loc[0:1])"
   ]
  },
  {
   "cell_type": "code",
   "execution_count": 62,
   "id": "8c3a6516",
   "metadata": {},
   "outputs": [
    {
     "name": "stdout",
     "output_type": "stream",
     "text": [
      "     name  marks\n",
      "0    raju     99\n",
      "1  kalyan     98\n",
      "2   sunny    100\n"
     ]
    }
   ],
   "source": [
    "print(df.loc[0:2, ['name', 'marks']])"
   ]
  },
  {
   "cell_type": "code",
   "execution_count": 65,
   "id": "7511493d",
   "metadata": {},
   "outputs": [
    {
     "name": "stdout",
     "output_type": "stream",
     "text": [
      "     name  marks\n",
      "0    raju     99\n",
      "1  kalyan     98\n",
      "2   sunny    100\n"
     ]
    }
   ],
   "source": [
    "df1 = df.loc[0:2, ['name', 'marks']]\n",
    "print(df1)"
   ]
  },
  {
   "cell_type": "code",
   "execution_count": 66,
   "id": "3d3ba224",
   "metadata": {},
   "outputs": [
    {
     "name": "stdout",
     "output_type": "stream",
     "text": [
      "     name  Age\n",
      "0    raju   30\n",
      "1  kalyan   29\n"
     ]
    }
   ],
   "source": [
    "# select row index 0 to2(exclusive) and column position 0 t0 2(exclusive)\n",
    "print(df.iloc[0:2, 0:2])"
   ]
  },
  {
   "cell_type": "code",
   "execution_count": 71,
   "id": "5caf0df7",
   "metadata": {},
   "outputs": [
    {
     "name": "stdout",
     "output_type": "stream",
     "text": [
      "name     raju\n",
      "Age        30\n",
      "marks      99\n",
      "Name: 0, dtype: object\n"
     ]
    }
   ],
   "source": [
    "print(df.iloc[0])"
   ]
  },
  {
   "cell_type": "code",
   "execution_count": 75,
   "id": "f3b0b5e5",
   "metadata": {},
   "outputs": [
    {
     "name": "stdout",
     "output_type": "stream",
     "text": [
      "     name  Age  marks\n",
      "0    raju   30     99\n",
      "1  kalyan   29     98\n",
      "2   sunny    7    100\n"
     ]
    }
   ],
   "source": [
    "print(df.iloc[0:3])"
   ]
  },
  {
   "cell_type": "code",
   "execution_count": 73,
   "id": "0a589237",
   "metadata": {},
   "outputs": [
    {
     "name": "stdout",
     "output_type": "stream",
     "text": [
      "     name  Age  marks\n",
      "0    raju   30     99\n",
      "1  kalyan   29     98\n"
     ]
    }
   ],
   "source": [
    "print(df.iloc[0:2])"
   ]
  },
  {
   "cell_type": "code",
   "execution_count": 76,
   "id": "b06063e6",
   "metadata": {},
   "outputs": [
    {
     "name": "stdout",
     "output_type": "stream",
     "text": [
      "     name  Age  marks\n",
      "0    raju   30     99\n",
      "1  kalyan   29     98\n",
      "2   sunny    7    100\n"
     ]
    }
   ],
   "source": [
    "print(df.iloc[:])"
   ]
  },
  {
   "cell_type": "code",
   "execution_count": 78,
   "id": "1f323e9f",
   "metadata": {},
   "outputs": [
    {
     "name": "stdout",
     "output_type": "stream",
     "text": [
      "Empty DataFrame\n",
      "Columns: [name, Age, marks]\n",
      "Index: []\n"
     ]
    }
   ],
   "source": [
    "print(df.iloc[:0:3])"
   ]
  },
  {
   "cell_type": "markdown",
   "id": "16346c2c",
   "metadata": {},
   "source": [
    "## DataFrame modification\n",
    "- DataFrame is similar to any excel sheet or a database table where we need to insert new data or drop columns and rows if not required. Such data manipulation operations are very common on a DataFrame.\n",
    "\n",
    "## Insert columns\n",
    "- Sometimes it is required to add a new column in the DataFrame. DataFrame.insert() function is used to insert a new column in DataFrame at the specified position.\n",
    "\n",
    "- In the below example, we insert a new column “Class” as a third new column in the DataFrame with default value ‘A’ using the syntax:\n",
    "\n",
    "- df.insert(loc = col_position, column = new_col_name, value = default_value)\n"
   ]
  },
  {
   "cell_type": "code",
   "execution_count": 86,
   "id": "b5e6117c",
   "metadata": {},
   "outputs": [
    {
     "name": "stdout",
     "output_type": "stream",
     "text": [
      "Data Frame:\n",
      "      name  Age  marks\n",
      "0    raju   30     99\n",
      "1  kalyan   29     98\n",
      "2   sunny    7    100\n"
     ]
    }
   ],
   "source": [
    "import pandas as pd\n",
    "#create data frame from dict\n",
    "my_dict = { 'name': ['raju', 'kalyan', 'sunny'], 'Age': [30, 29, 7], 'marks': [99, 98, 100]}\n",
    "df1 = pd.DataFrame(my_dict)\n",
    "print(\"Data Frame:\\n\", df1)"
   ]
  },
  {
   "cell_type": "code",
   "execution_count": 87,
   "id": "42260379",
   "metadata": {},
   "outputs": [
    {
     "name": "stdout",
     "output_type": "stream",
     "text": [
      "     name  Age  marks\n",
      "0    raju   30     99\n",
      "1  kalyan   29     98\n",
      "2   sunny    7    100\n"
     ]
    }
   ],
   "source": [
    "print(df1)"
   ]
  },
  {
   "cell_type": "code",
   "execution_count": 90,
   "id": "a0e433e3",
   "metadata": {},
   "outputs": [
    {
     "name": "stdout",
     "output_type": "stream",
     "text": [
      "     name  Age Class  marks\n",
      "0    raju   30     A     99\n",
      "1  kalyan   29     A     98\n",
      "2   sunny    7     A    100\n"
     ]
    }
   ],
   "source": [
    "#insert new column in Data Frame and display\n",
    "\n",
    "df1.insert(loc = 2, column = \"Class\", value = \"A\")\n",
    "print(df1)"
   ]
  },
  {
   "cell_type": "markdown",
   "id": "72a7bdb6",
   "metadata": {},
   "source": [
    "## Drop columns\n",
    "- DataFrame may contain redundant data, in such cases, we may need to delete such data that is not required. DataFrame.drop() function is used to delete the columns from DataFrame.\n",
    "\n",
    "- In the below example, we delete the “Age” column from the student DataFrame using  df.drop(columns=[col1,col2...])."
   ]
  },
  {
   "cell_type": "code",
   "execution_count": 92,
   "id": "7965acc4",
   "metadata": {},
   "outputs": [
    {
     "name": "stdout",
     "output_type": "stream",
     "text": [
      "Data Frame:\n",
      "      name  Age  marks\n",
      "0    raju   30     99\n",
      "1  kalyan   29     98\n",
      "2   sunny    7    100\n"
     ]
    }
   ],
   "source": [
    "import pandas as pd\n",
    "#create data frame from dict\n",
    "my_dict = { 'name': ['raju', 'kalyan', 'sunny'], 'Age': [30, 29, 7], 'marks': [99, 98, 100]}\n",
    "df2 = pd.DataFrame(my_dict)\n",
    "print(\"Data Frame:\\n\", df2)"
   ]
  },
  {
   "cell_type": "code",
   "execution_count": 93,
   "id": "d1f19781",
   "metadata": {},
   "outputs": [],
   "source": [
    "df2 = df2.drop(columns = 'Age')"
   ]
  },
  {
   "cell_type": "code",
   "execution_count": 94,
   "id": "aa6fdcd3",
   "metadata": {},
   "outputs": [
    {
     "data": {
      "text/html": [
       "<div>\n",
       "<style scoped>\n",
       "    .dataframe tbody tr th:only-of-type {\n",
       "        vertical-align: middle;\n",
       "    }\n",
       "\n",
       "    .dataframe tbody tr th {\n",
       "        vertical-align: top;\n",
       "    }\n",
       "\n",
       "    .dataframe thead th {\n",
       "        text-align: right;\n",
       "    }\n",
       "</style>\n",
       "<table border=\"1\" class=\"dataframe\">\n",
       "  <thead>\n",
       "    <tr style=\"text-align: right;\">\n",
       "      <th></th>\n",
       "      <th>name</th>\n",
       "      <th>marks</th>\n",
       "    </tr>\n",
       "  </thead>\n",
       "  <tbody>\n",
       "    <tr>\n",
       "      <th>0</th>\n",
       "      <td>raju</td>\n",
       "      <td>99</td>\n",
       "    </tr>\n",
       "    <tr>\n",
       "      <th>1</th>\n",
       "      <td>kalyan</td>\n",
       "      <td>98</td>\n",
       "    </tr>\n",
       "    <tr>\n",
       "      <th>2</th>\n",
       "      <td>sunny</td>\n",
       "      <td>100</td>\n",
       "    </tr>\n",
       "  </tbody>\n",
       "</table>\n",
       "</div>"
      ],
      "text/plain": [
       "     name  marks\n",
       "0    raju     99\n",
       "1  kalyan     98\n",
       "2   sunny    100"
      ]
     },
     "execution_count": 94,
     "metadata": {},
     "output_type": "execute_result"
    }
   ],
   "source": [
    "df2"
   ]
  },
  {
   "cell_type": "code",
   "execution_count": 95,
   "id": "7ea4aeae",
   "metadata": {},
   "outputs": [],
   "source": [
    "df2 = df2.drop(columns = ['name', 'marks'])"
   ]
  },
  {
   "cell_type": "code",
   "execution_count": 96,
   "id": "bb4656f5",
   "metadata": {},
   "outputs": [
    {
     "data": {
      "text/html": [
       "<div>\n",
       "<style scoped>\n",
       "    .dataframe tbody tr th:only-of-type {\n",
       "        vertical-align: middle;\n",
       "    }\n",
       "\n",
       "    .dataframe tbody tr th {\n",
       "        vertical-align: top;\n",
       "    }\n",
       "\n",
       "    .dataframe thead th {\n",
       "        text-align: right;\n",
       "    }\n",
       "</style>\n",
       "<table border=\"1\" class=\"dataframe\">\n",
       "  <thead>\n",
       "    <tr style=\"text-align: right;\">\n",
       "      <th></th>\n",
       "    </tr>\n",
       "  </thead>\n",
       "  <tbody>\n",
       "    <tr>\n",
       "      <th>0</th>\n",
       "    </tr>\n",
       "    <tr>\n",
       "      <th>1</th>\n",
       "    </tr>\n",
       "    <tr>\n",
       "      <th>2</th>\n",
       "    </tr>\n",
       "  </tbody>\n",
       "</table>\n",
       "</div>"
      ],
      "text/plain": [
       "Empty DataFrame\n",
       "Columns: []\n",
       "Index: [0, 1, 2]"
      ]
     },
     "execution_count": 96,
     "metadata": {},
     "output_type": "execute_result"
    }
   ],
   "source": [
    "df2"
   ]
  },
  {
   "cell_type": "code",
   "execution_count": 97,
   "id": "a7520bb5",
   "metadata": {},
   "outputs": [
    {
     "data": {
      "text/html": [
       "<div>\n",
       "<style scoped>\n",
       "    .dataframe tbody tr th:only-of-type {\n",
       "        vertical-align: middle;\n",
       "    }\n",
       "\n",
       "    .dataframe tbody tr th {\n",
       "        vertical-align: top;\n",
       "    }\n",
       "\n",
       "    .dataframe thead th {\n",
       "        text-align: right;\n",
       "    }\n",
       "</style>\n",
       "<table border=\"1\" class=\"dataframe\">\n",
       "  <thead>\n",
       "    <tr style=\"text-align: right;\">\n",
       "      <th></th>\n",
       "      <th>name</th>\n",
       "      <th>Age</th>\n",
       "      <th>Class</th>\n",
       "      <th>marks</th>\n",
       "    </tr>\n",
       "  </thead>\n",
       "  <tbody>\n",
       "    <tr>\n",
       "      <th>0</th>\n",
       "      <td>raju</td>\n",
       "      <td>30</td>\n",
       "      <td>A</td>\n",
       "      <td>99</td>\n",
       "    </tr>\n",
       "    <tr>\n",
       "      <th>1</th>\n",
       "      <td>kalyan</td>\n",
       "      <td>29</td>\n",
       "      <td>A</td>\n",
       "      <td>98</td>\n",
       "    </tr>\n",
       "    <tr>\n",
       "      <th>2</th>\n",
       "      <td>sunny</td>\n",
       "      <td>7</td>\n",
       "      <td>A</td>\n",
       "      <td>100</td>\n",
       "    </tr>\n",
       "  </tbody>\n",
       "</table>\n",
       "</div>"
      ],
      "text/plain": [
       "     name  Age Class  marks\n",
       "0    raju   30     A     99\n",
       "1  kalyan   29     A     98\n",
       "2   sunny    7     A    100"
      ]
     },
     "execution_count": 97,
     "metadata": {},
     "output_type": "execute_result"
    }
   ],
   "source": [
    "df1"
   ]
  },
  {
   "cell_type": "markdown",
   "id": "6100f3c0",
   "metadata": {},
   "source": [
    "## Apply condition\n",
    "- We may need to update the value in the DataFrame based on some condition. DataFrame.where() function is used to replace the value of DataFrame, where the condition is False.\n",
    "\n",
    "- where(filter, other=new_value)\n",
    "## It applies the filter condition on all the rows in the DataFrame, as follows:\n",
    "\n",
    "- If the filter condition returns False, then it updates the row with the value specified in other parameter.\n",
    "\n",
    "- If the filter condition returns True, then it does not update the row.\n",
    "\n",
    "## Example\n",
    "\n",
    "- In the below example, we want to replace the student marks with ‘0’ where marks are less than 95. We pass a filter condition df['Marks'] > 80 to the function."
   ]
  },
  {
   "cell_type": "code",
   "execution_count": 99,
   "id": "af1ca976",
   "metadata": {},
   "outputs": [
    {
     "name": "stdout",
     "output_type": "stream",
     "text": [
      "     Name  Age  marks\n",
      "0    raju   30     99\n",
      "1  kalyan   31     94\n",
      "2   sunny    7     98\n"
     ]
    }
   ],
   "source": [
    "my_dict = {'Name': ['raju', 'kalyan', 'sunny'], 'Age': [30, 31, 7], 'marks': [99, 94, 98]}\n",
    "df = pd.DataFrame(my_dict)\n",
    "print(df)"
   ]
  },
  {
   "cell_type": "code",
   "execution_count": 101,
   "id": "b458db6c",
   "metadata": {},
   "outputs": [
    {
     "name": "stdout",
     "output_type": "stream",
     "text": [
      "     Name  Age  marks\n",
      "0    raju   30     99\n",
      "1  kalyan   31      0\n",
      "2   sunny    7     98\n"
     ]
    }
   ],
   "source": [
    "#define filter\n",
    "filter = df[\"marks\"] > 95\n",
    "df['marks'].where(filter, other = 0, inplace = True)\n",
    "print(df)"
   ]
  },
  {
   "cell_type": "markdown",
   "id": "6a70d3a2",
   "metadata": {},
   "source": [
    "## DataFrame filter columns\n",
    "- Datasets contain massive data that need to be analyzed. But, sometimes, we may want to analyze relevant data and filter out all the other data. In such a case, we can use DataFrame.filter() function to fetch only required data from DataFrame.\n",
    "\n",
    "- It returns the subset of the DataFrame by applying conditions on each row index or column label as specified using the below syntax.\n",
    "\n",
    "## df.filter(like = filter_cond, axis = 'columns' or 'index')\n",
    "\n",
    "- It applies the condition on each row index or column label.\n",
    "\n",
    "- If the condition passed then, it includes that row or column in the resultant DataFrame.\n",
    "- If the condition failed, then it does not have that row or column in the resulting DataFrame.\n",
    "- Note: It applies the filter on row index or column label, not on actual data.\n"
   ]
  },
  {
   "cell_type": "code",
   "execution_count": 113,
   "id": "43bac2d4",
   "metadata": {},
   "outputs": [
    {
     "name": "stdout",
     "output_type": "stream",
     "text": [
      "     Name  Age  marks\n",
      "0    raju   30     99\n",
      "1  kalyan   31     94\n",
      "2   sunny    7     98\n",
      "     Name\n",
      "0    raju\n",
      "1  kalyan\n",
      "2   sunny\n"
     ]
    }
   ],
   "source": [
    "#Example\n",
    "my_dict = {'Name': ['raju', 'kalyan', 'sunny'], 'Age': [30, 31, 7], 'marks': [99, 94, 98]}\n",
    "df = pd.DataFrame(my_dict)\n",
    "print(df)\n",
    "#In the below example, we only include the column with a column label that starts with ‘N’.\n",
    "\n",
    "#applying filter on Data Frame\n",
    "df = df.filter(like = 'N', axis = 'columns')\n",
    "print(df)\n"
   ]
  },
  {
   "cell_type": "markdown",
   "id": "d1a35a11",
   "metadata": {},
   "source": [
    "## DataFrame rename columns\n",
    "- While working with DataFrame, we may need to rename the column or row index. We can use DataFrame.rename() function to alter the row or column labels.\n",
    "\n",
    "- We need to pass a dictionary of key-value pairs as input to the function. Where key of the dict is the existing column label, and the value of dict is the new column label.\n",
    "\n",
    "- df.rename(columns = {'old':'new'})\n",
    "\n",
    "- It can be used to rename single or multiple columns and row labels.\n",
    "\n",
    "## Example\n",
    "\n",
    "- In the below example, we rename column ‘Marks‘ to ‘Percentage‘ in the student DataFrame."
   ]
  },
  {
   "cell_type": "code",
   "execution_count": 118,
   "id": "795db0a6",
   "metadata": {},
   "outputs": [
    {
     "name": "stdout",
     "output_type": "stream",
     "text": [
      "     Name  Age  Marks\n",
      "0    raju   30     99\n",
      "1  kalyan   31     94\n",
      "2   sunny    7     98\n",
      "     Name  Age  Percentage\n",
      "0    raju   30          99\n",
      "1  kalyan   31          94\n",
      "2   sunny    7          98\n"
     ]
    }
   ],
   "source": [
    "#Example\n",
    "my_dict = {'Name': ['raju', 'kalyan', 'sunny'], 'Age': [30, 31, 7], 'Marks': [99, 94, 98]}\n",
    "df = pd.DataFrame(my_dict)\n",
    "print(df)\n",
    "\n",
    "#rename column\n",
    "\n",
    "df = df.rename(columns = {'Marks': 'Percentage'})\n",
    "print(df)"
   ]
  },
  {
   "cell_type": "code",
   "execution_count": 119,
   "id": "397f66c9",
   "metadata": {},
   "outputs": [
    {
     "data": {
      "text/html": [
       "<div>\n",
       "<style scoped>\n",
       "    .dataframe tbody tr th:only-of-type {\n",
       "        vertical-align: middle;\n",
       "    }\n",
       "\n",
       "    .dataframe tbody tr th {\n",
       "        vertical-align: top;\n",
       "    }\n",
       "\n",
       "    .dataframe thead th {\n",
       "        text-align: right;\n",
       "    }\n",
       "</style>\n",
       "<table border=\"1\" class=\"dataframe\">\n",
       "  <thead>\n",
       "    <tr style=\"text-align: right;\">\n",
       "      <th></th>\n",
       "      <th>Name</th>\n",
       "      <th>Age</th>\n",
       "      <th>Percentage</th>\n",
       "    </tr>\n",
       "  </thead>\n",
       "  <tbody>\n",
       "    <tr>\n",
       "      <th>0</th>\n",
       "      <td>raju</td>\n",
       "      <td>30</td>\n",
       "      <td>99</td>\n",
       "    </tr>\n",
       "    <tr>\n",
       "      <th>1</th>\n",
       "      <td>kalyan</td>\n",
       "      <td>31</td>\n",
       "      <td>94</td>\n",
       "    </tr>\n",
       "    <tr>\n",
       "      <th>2</th>\n",
       "      <td>sunny</td>\n",
       "      <td>7</td>\n",
       "      <td>98</td>\n",
       "    </tr>\n",
       "  </tbody>\n",
       "</table>\n",
       "</div>"
      ],
      "text/plain": [
       "     Name  Age  Percentage\n",
       "0    raju   30          99\n",
       "1  kalyan   31          94\n",
       "2   sunny    7          98"
      ]
     },
     "execution_count": 119,
     "metadata": {},
     "output_type": "execute_result"
    }
   ],
   "source": [
    "df"
   ]
  },
  {
   "cell_type": "code",
   "execution_count": 120,
   "id": "496c5557",
   "metadata": {},
   "outputs": [
    {
     "name": "stdout",
     "output_type": "stream",
     "text": [
      "    Names  age  Percentage\n",
      "0    raju   30          99\n",
      "1  kalyan   31          94\n",
      "2   sunny    7          98\n"
     ]
    }
   ],
   "source": [
    "#rename column\n",
    "\n",
    "df = df.rename(columns = {'Name': 'Names', \"Age\": 'age'})\n",
    "print(df)"
   ]
  },
  {
   "cell_type": "markdown",
   "id": "4f6122c7",
   "metadata": {},
   "source": [
    "## DataFrame Join\n",
    "- In most of the use cases of Data Analytics, data gathered from multiple sources, and we need to combine that data for further analysis. In such instances, join and merge operations are required.\n",
    "\n",
    "- DataFrame.join() function is used to join one DataFrame with another DataFrame as df1.join(df2)"
   ]
  },
  {
   "cell_type": "code",
   "execution_count": 121,
   "id": "a414c1be",
   "metadata": {},
   "outputs": [
    {
     "name": "stdout",
     "output_type": "stream",
     "text": [
      "     Name  age\n",
      "0    raju   30\n",
      "1  kalyan   29\n"
     ]
    }
   ],
   "source": [
    "import pandas as pd\n",
    "#create data frame from dict\n",
    "my_dict1 = {'Name': ['raju', 'kalyan'], 'age': [30, 29]}\n",
    "df1 = pd.DataFrame(my_dict1)\n",
    "print(df1)"
   ]
  },
  {
   "cell_type": "code",
   "execution_count": 123,
   "id": "4d373240",
   "metadata": {},
   "outputs": [
    {
     "name": "stdout",
     "output_type": "stream",
     "text": [
      "   marks\n",
      "0     99\n",
      "1     98\n"
     ]
    }
   ],
   "source": [
    "my_dict2 = {'marks': [99, 98]}\n",
    "df2 = pd.DataFrame(my_dict2)\n",
    "print(df2)"
   ]
  },
  {
   "cell_type": "code",
   "execution_count": 124,
   "id": "d40f9a6d",
   "metadata": {},
   "outputs": [],
   "source": [
    "#joining 2 data frames\n",
    "df3 = df1.join(df2)"
   ]
  },
  {
   "cell_type": "code",
   "execution_count": 125,
   "id": "ea4e55a7",
   "metadata": {},
   "outputs": [
    {
     "data": {
      "text/html": [
       "<div>\n",
       "<style scoped>\n",
       "    .dataframe tbody tr th:only-of-type {\n",
       "        vertical-align: middle;\n",
       "    }\n",
       "\n",
       "    .dataframe tbody tr th {\n",
       "        vertical-align: top;\n",
       "    }\n",
       "\n",
       "    .dataframe thead th {\n",
       "        text-align: right;\n",
       "    }\n",
       "</style>\n",
       "<table border=\"1\" class=\"dataframe\">\n",
       "  <thead>\n",
       "    <tr style=\"text-align: right;\">\n",
       "      <th></th>\n",
       "      <th>Name</th>\n",
       "      <th>age</th>\n",
       "      <th>marks</th>\n",
       "    </tr>\n",
       "  </thead>\n",
       "  <tbody>\n",
       "    <tr>\n",
       "      <th>0</th>\n",
       "      <td>raju</td>\n",
       "      <td>30</td>\n",
       "      <td>99</td>\n",
       "    </tr>\n",
       "    <tr>\n",
       "      <th>1</th>\n",
       "      <td>kalyan</td>\n",
       "      <td>29</td>\n",
       "      <td>98</td>\n",
       "    </tr>\n",
       "  </tbody>\n",
       "</table>\n",
       "</div>"
      ],
      "text/plain": [
       "     Name  age  marks\n",
       "0    raju   30     99\n",
       "1  kalyan   29     98"
      ]
     },
     "execution_count": 125,
     "metadata": {},
     "output_type": "execute_result"
    }
   ],
   "source": [
    "df3"
   ]
  },
  {
   "cell_type": "markdown",
   "id": "0af1b241",
   "metadata": {},
   "source": [
    "## DataFrame GroupBy\n",
    "- GroupBy operation means splitting the data and then combining them based on some condition. Large data can be divided into logical groups to analyze it.\n",
    "\n",
    "- DataFrame.groupby() function groups the DataFrame row-wise or column-wise based on the condition."
   ]
  },
  {
   "cell_type": "markdown",
   "id": "815c5d5e",
   "metadata": {},
   "source": [
    "## Example\n",
    "\n",
    "- If we want to analyze each class’s average marks, we need to combine the student data based on the ‘Class’ column and calculate its average using df.groupby(col_label).mean() as shown in the below example."
   ]
  },
  {
   "cell_type": "code",
   "execution_count": 132,
   "id": "5d24cfcc",
   "metadata": {},
   "outputs": [
    {
     "name": "stdout",
     "output_type": "stream",
     "text": [
      "     Name  age class  marks\n",
      "0    raju   30     A     99\n",
      "1  kalyan   29     B     97\n",
      "2   sunny    7     A     98\n"
     ]
    }
   ],
   "source": [
    "#create a data frame from dict\n",
    "\n",
    "my_dict = {'Name': ['raju', 'kalyan', 'sunny'], 'age': [30,29, 7], 'class': ['A', 'B', 'A'], 'marks': [99, 97, 98]}\n",
    "df = pd.DataFrame(my_dict)\n",
    "print(df)"
   ]
  },
  {
   "cell_type": "code",
   "execution_count": 133,
   "id": "70e20b8c",
   "metadata": {},
   "outputs": [],
   "source": [
    "df1 = df"
   ]
  },
  {
   "cell_type": "code",
   "execution_count": 134,
   "id": "f45faf2b",
   "metadata": {},
   "outputs": [
    {
     "name": "stdout",
     "output_type": "stream",
     "text": [
      "        age  marks\n",
      "class             \n",
      "A      18.5   98.5\n",
      "B      29.0   97.0\n"
     ]
    }
   ],
   "source": [
    "#apply group by\n",
    "df1 = df1.groupby('class').mean()\n",
    "print(df1)"
   ]
  },
  {
   "cell_type": "markdown",
   "id": "466d03f4",
   "metadata": {},
   "source": [
    "## DataFrame Iteration\n",
    "- DataFrame iteration means visiting each element in the DataFrame one by one. While analyzing a DataFrame, we may need to iterate over each row of the DataFrame.\n",
    "\n",
    "- There are multiple ways to iterate a DataFrame. We will see the function DataFrame.iterrows(), which can loop a DataFrame row-wise. It returns the index and row of the DataFrame in each iteration of the for a loop."
   ]
  },
  {
   "cell_type": "code",
   "execution_count": 138,
   "id": "0849053f",
   "metadata": {},
   "outputs": [
    {
     "name": "stdout",
     "output_type": "stream",
     "text": [
      "     Name  age class  marks\n",
      "0    raju   30     A     99\n",
      "1  kalyan   29     B     97\n",
      "2   sunny    7     A     98\n"
     ]
    }
   ],
   "source": [
    "my_dict = {'Name': ['raju', 'kalyan', 'sunny'], 'age': [30,29, 7], 'class': ['A', 'B', 'A'], 'marks': [99, 97, 98]}\n",
    "df = pd.DataFrame(my_dict)\n",
    "print(df)"
   ]
  },
  {
   "cell_type": "code",
   "execution_count": 139,
   "id": "da1f9a94",
   "metadata": {},
   "outputs": [
    {
     "name": "stdout",
     "output_type": "stream",
     "text": [
      "0 Name     raju\n",
      "age        30\n",
      "class       A\n",
      "marks      99\n",
      "Name: 0, dtype: object\n",
      "1 Name     kalyan\n",
      "age          29\n",
      "class         B\n",
      "marks        97\n",
      "Name: 1, dtype: object\n",
      "2 Name     sunny\n",
      "age          7\n",
      "class        A\n",
      "marks       98\n",
      "Name: 2, dtype: object\n"
     ]
    }
   ],
   "source": [
    "for index, row in df.iterrows():\n",
    "    print(index, row)"
   ]
  },
  {
   "cell_type": "markdown",
   "id": "7c5ed58b",
   "metadata": {},
   "source": [
    "## DataFrame Sorting\n",
    "\n",
    "- Data Analyst always needs to perform different operations on the underlying data like merge, sort, concatenate, etc. The most frequently used operation is the sorting of data. Sorted data becomes easy to analyze and inferred.\n",
    "\n",
    "- The DataFrame.sort_values() function is used to sort the DataFrame using one or more columns in ascending (default) or descending order."
   ]
  },
  {
   "cell_type": "code",
   "execution_count": 140,
   "id": "7b1818bf",
   "metadata": {},
   "outputs": [
    {
     "name": "stdout",
     "output_type": "stream",
     "text": [
      "     Name  age class  marks\n",
      "0    raju   30     A     99\n",
      "1  kalyan   29     B     97\n",
      "2   sunny    7     A     98\n"
     ]
    }
   ],
   "source": [
    "#Example\n",
    "\n",
    "# In the below example, we sort the student data based on the ‘Marks‘.\n",
    "\n",
    "my_dict = {'Name': ['raju', 'kalyan', 'sunny'], 'age': [30,29, 7], 'class': ['A', 'B', 'A'], 'marks': [99, 97, 98]}\n",
    "df = pd.DataFrame(my_dict)\n",
    "print(df)\n"
   ]
  },
  {
   "cell_type": "code",
   "execution_count": 141,
   "id": "e3e2e2a6",
   "metadata": {},
   "outputs": [
    {
     "name": "stdout",
     "output_type": "stream",
     "text": [
      "     Name  age class  marks\n",
      "1  kalyan   29     B     97\n",
      "2   sunny    7     A     98\n",
      "0    raju   30     A     99\n"
     ]
    }
   ],
   "source": [
    "df = df.sort_values(by = ['marks'])\n",
    "print(df)"
   ]
  },
  {
   "cell_type": "code",
   "execution_count": 142,
   "id": "964c1bc4",
   "metadata": {},
   "outputs": [
    {
     "name": "stdout",
     "output_type": "stream",
     "text": [
      "     Name  age class  marks\n",
      "2   sunny    7     A     98\n",
      "1  kalyan   29     B     97\n",
      "0    raju   30     A     99\n"
     ]
    }
   ],
   "source": [
    "df = df.sort_values(by = ['age'])\n",
    "print(df)"
   ]
  },
  {
   "cell_type": "markdown",
   "id": "4825d5a3",
   "metadata": {},
   "source": [
    "## DataFrame conversion\n",
    "- After all the processing on DataFrame, we will get the expected data in the DataFrame. But, we may require to convert the DataFrame back to its original formats like CSV file or dict, or we may need to convert it to another format for further action like storing it into the Database as SQL table format.\n",
    "\n",
    "- Pandas have provided plenty of functions to convert the DataFrames into many different formats.\n",
    "\n",
    "- For example, DataFrame.to_dict() function is used to converts the DataFrame into a Python dictionary object."
   ]
  },
  {
   "cell_type": "code",
   "execution_count": 144,
   "id": "9c772d0f",
   "metadata": {},
   "outputs": [
    {
     "name": "stdout",
     "output_type": "stream",
     "text": [
      "     Name  age class  marks\n",
      "2   sunny    7     A     98\n",
      "1  kalyan   29     B     97\n",
      "0    raju   30     A     99\n"
     ]
    }
   ],
   "source": [
    "# Let’s see how we can use DataFrame.to_dict() function to convert the DataFrame into the Python dictionary. By default, it creates the dictionary with keys as column labels and values as mapping of the row index and data.\n",
    "print(df)"
   ]
  },
  {
   "cell_type": "code",
   "execution_count": 145,
   "id": "7df77207",
   "metadata": {},
   "outputs": [
    {
     "name": "stdout",
     "output_type": "stream",
     "text": [
      "{'Name': {2: 'sunny', 1: 'kalyan', 0: 'raju'}, 'age': {2: 7, 1: 29, 0: 30}, 'class': {2: 'A', 1: 'B', 0: 'A'}, 'marks': {2: 98, 1: 97, 0: 99}}\n"
     ]
    }
   ],
   "source": [
    "#convert data frame to dict\n",
    "\n",
    "dict2 = df.to_dict()\n",
    "print(dict2)"
   ]
  },
  {
   "cell_type": "markdown",
   "id": "9ade6b7a",
   "metadata": {},
   "source": [
    "## Create Pandas DataFrame from Python dictionary\n",
    "\n",
    "- Python dictionary is the data structure that stores the data in key-value pairs. By converting data from dictionary format to DataFrame will make it very competent for analysis by using functions of DataFrame.\n",
    "\n",
    "- There are multiple ways to convert Python dictionary object into Pandas DataFrame. Majorly used ways are,\n",
    "1.DataFrame constructor\n",
    "\n",
    "2. from_dict()"
   ]
  },
  {
   "cell_type": "markdown",
   "id": "6d07d91e",
   "metadata": {},
   "source": [
    "## Create DataFrame from dict using constructor\n",
    "\n",
    "- DataFrame constructor can be used to create DataFrame from different data structures in python like dict, list, set, tuple, and ndarray.\n",
    "\n",
    "- When you convert a dict to DataFrame by default,  all the keys of the dict object becomes columns, and the range of numbers 0, 1, 2,…,n is assigned as a row index."
   ]
  },
  {
   "cell_type": "code",
   "execution_count": 148,
   "id": "1c18eedb",
   "metadata": {},
   "outputs": [
    {
     "name": "stdout",
     "output_type": "stream",
     "text": [
      "     name  age  marks\n",
      "0    raju   30     99\n",
      "1  kalyan   29     98\n",
      "2   sunny    7     97\n"
     ]
    }
   ],
   "source": [
    "import pandas as pd\n",
    "\n",
    "#create data frame with dict\n",
    "\n",
    "my_dict = {'name': ['raju', 'kalyan', 'sunny'], 'age': [30,29,7], 'marks': [99,98, 97]}\n",
    "\n",
    "df = pd.DataFrame(my_dict)\n",
    "print(df)"
   ]
  },
  {
   "cell_type": "markdown",
   "id": "2af29172",
   "metadata": {},
   "source": [
    "## DataFrame from dict with required columns only\n",
    "- While converting the whole dict to DataFrame, we may need only some of the columns to be included in the resulting DataFrame.\n",
    "\n",
    "- We can select only required columns by passing list column labels to columns=['col1', 'col2'] parameter in the constructor."
   ]
  },
  {
   "cell_type": "code",
   "execution_count": 149,
   "id": "77719a65",
   "metadata": {},
   "outputs": [
    {
     "name": "stdout",
     "output_type": "stream",
     "text": [
      "     name  marks\n",
      "0    raju     99\n",
      "1  kalyan     98\n",
      "2   sunny     97\n"
     ]
    }
   ],
   "source": [
    "#Example\n",
    "\n",
    "#In the case of student DataFrame for analyzing the annual score, we need only “student name” and “marks” whereas the “age” \n",
    "#column is not required. We can select only required columns, as shown in the below example.\n",
    "\n",
    "my_dict = {'name': ['raju', 'kalyan', 'sunny'], 'age': [30,29,7], 'marks': [99,98, 97]}\n",
    "\n",
    "df = pd.DataFrame(my_dict, columns = ['name', 'marks'])\n",
    "print(df)\n"
   ]
  },
  {
   "cell_type": "markdown",
   "id": "9899b34b",
   "metadata": {},
   "source": [
    "## DataFrame from dict with user-defined indexes\n",
    "- In pandas DataFrame, each row has an index that is used to identify each row. In some cases, we need to provide a customized index for each row. We can do that while creating the DataFrame from dict using the index parameter of the DataFrame constructor.\n",
    "\n",
    "- The default index is a range of integers starting from 0 to a number of rows. We can pass a list of the row indexes as index=['index1','index2'] to the dataFrame constructor.\n"
   ]
  },
  {
   "cell_type": "code",
   "execution_count": 150,
   "id": "ae9ed213",
   "metadata": {},
   "outputs": [
    {
     "name": "stdout",
     "output_type": "stream",
     "text": [
      "         name  age  marks\n",
      "stud1    raju   30     99\n",
      "stud2  kalyan   29     98\n",
      "stud3   sunny    7     97\n"
     ]
    }
   ],
   "source": [
    "#Example\n",
    "\n",
    "#In the below example, we have given a customer index for each student, making it more readable and easy to access the \n",
    "#row using it.\n",
    "my_dict = {'name': ['raju', 'kalyan', 'sunny'], 'age': [30,29,7], 'marks': [99,98, 97]}\n",
    "\n",
    "df = pd.DataFrame(my_dict, index = ['stud1', 'stud2', 'stud3'])\n",
    "print(df)\n"
   ]
  },
  {
   "cell_type": "markdown",
   "id": "26c45fbe",
   "metadata": {},
   "source": [
    "## DataFrame from dict by changing the column data type\n",
    "\n",
    "- By default, while creating a DataFrame from dict using constructor, it keeps the original data type of the values in dict. But, if we need to change the data type of the data in the resulting DataFrame, we can use the dtype parameter in the constructor.\n",
    "\n",
    "- Only one data type is allowed to specify as dtype='data_type' which will be applicable for all the data in the resultant DataFrame. If we do not force such a data type, it internally infers from the Data.\n",
    "\n",
    "- Note: It changes the data type only if it is compatible with the new data type. Otherwise, it keeps the original data type."
   ]
  },
  {
   "cell_type": "code",
   "execution_count": 152,
   "id": "9686d47e",
   "metadata": {},
   "outputs": [
    {
     "name": "stdout",
     "output_type": "stream",
     "text": [
      "Data Frame with inferred data type:\n",
      " name     object\n",
      "age       int64\n",
      "marks     int64\n",
      "dtype: object\n"
     ]
    }
   ],
   "source": [
    "\n",
    "my_dict = {'name': ['raju', 'kalyan', 'sunny'], 'age': [30,29,7], 'marks': [99,98, 97]}\n",
    "\n",
    "df = pd.DataFrame(my_dict)\n",
    "print('Data Frame with inferred data type:\\n', df.dtypes)\n",
    "\n"
   ]
  },
  {
   "cell_type": "code",
   "execution_count": 153,
   "id": "5ac161a8",
   "metadata": {},
   "outputs": [
    {
     "name": "stdout",
     "output_type": "stream",
     "text": [
      "data frame with changed data type name      object\n",
      "age      float64\n",
      "marks    float64\n",
      "dtype: object\n"
     ]
    },
    {
     "name": "stderr",
     "output_type": "stream",
     "text": [
      "C:\\Users\\RAJU~1.GUL\\AppData\\Local\\Temp/ipykernel_2072/312180822.py:1: FutureWarning: Could not cast to float64, falling back to object. This behavior is deprecated. In a future version, when a dtype is passed to 'DataFrame', either all columns will be cast to that dtype, or a TypeError will be raised\n",
      "  df = pd.DataFrame(my_dict, dtype = 'float64')\n"
     ]
    }
   ],
   "source": [
    "df = pd.DataFrame(my_dict, dtype = 'float64')\n",
    "print('data frame with changed data type', df.dtypes)"
   ]
  },
  {
   "cell_type": "markdown",
   "id": "106e63ed",
   "metadata": {},
   "source": [
    "## DataFrame from dict with a single value\n",
    "- If we have a dict with only single values for each key and need to convert such dict to the DataFrame, we can use the DataFrame constructor.\n",
    "\n",
    "- In such a case, it converts the dict to DataFrame as we have seen before, like keys of the dict will be column labels and values will be the column data. But, we must provide the index parameter to give the row index. Else it throws an error,\n",
    "\n",
    "- ValueError: If using all scalar values, you must pass an index"
   ]
  },
  {
   "cell_type": "code",
   "execution_count": 156,
   "id": "4f690097",
   "metadata": {},
   "outputs": [
    {
     "name": "stdout",
     "output_type": "stream",
     "text": [
      "       name  age  marks\n",
      "stud1  raju   30    100\n"
     ]
    }
   ],
   "source": [
    "#In the below example, we have provided the customized index=['stud1'] to the DataFrame.\n",
    "\n",
    "my_dict = {'name': 'raju', 'age': 30, 'marks': 100}\n",
    "df = pd.DataFrame(my_dict, index = ['stud1'])\n",
    "print(df)"
   ]
  },
  {
   "cell_type": "markdown",
   "id": "6e508021",
   "metadata": {},
   "source": [
    "## DataFrame from dict with key and value as a column\n",
    "- Suppose we have a dictionary object where the key is the student’s name, and the value is the student’s marks. And we want the keys in one column and all the values in another column of the DataFrame.\n",
    "\n",
    "- For that, rather than passing a whole dict object, we need to pass each key-value pair in the dictionary to the DataFrame constructor to create a new DataFrame.\n",
    "\n",
    "- We can get the entry of key-value pair using dict.items() and pass that function to the constructor."
   ]
  },
  {
   "cell_type": "code",
   "execution_count": 160,
   "id": "dfaa4599",
   "metadata": {},
   "outputs": [
    {
     "name": "stdout",
     "output_type": "stream",
     "text": [
      "   name11  marks22\n",
      "0    raju       99\n",
      "1  kalyan       97\n",
      "2   sunny      100\n"
     ]
    }
   ],
   "source": [
    "#Example\n",
    "\n",
    "# As shown in the below example, we need to pass an entry of key-value to the constructor and give column labels using columns parameter.\n",
    "\n",
    "# create dict object\n",
    "\n",
    "my_dict = {'raju': 99, 'kalyan': 97, 'sunny': 100}\n",
    "\n",
    "#create data frame from dict\n",
    "\n",
    "df = pd.DataFrame(my_dict.items(), columns = ['name11', 'marks22'])\n",
    "print(df)"
   ]
  },
  {
   "cell_type": "markdown",
   "id": "eec1a6c4",
   "metadata": {},
   "source": [
    "## Create DataFrame from list of dict\n",
    "\n",
    "- For the sake of our understanding, consider the case where each school stores data of students into the dictionary data structure. Each school store different information about students. Like, some school stores student’s hobby whereas some school only stores academic information. If we want to analyze data of all the students from the city, we need to gather all this information into the DataFrame.\n",
    "\n",
    "- To convert such a list of dict from different schools can be converted to a single DataFrame using either DataFrame.from_dict() function or DataFrame constructor.\n",
    "\n",
    "- By default, keys of all the different dictionary objects are converted into columns of resultant DataFrame. It handles the missing keys by adding NaN where the values for the column are missing."
   ]
  },
  {
   "cell_type": "code",
   "execution_count": 161,
   "id": "7cb3a700",
   "metadata": {},
   "outputs": [
    {
     "name": "stdout",
     "output_type": "stream",
     "text": [
      "     name  age marks    hobby\n",
      "0    raju   30    99  reading\n",
      "1  kalyan   29    98      NaN\n",
      "2   sunny    7    97      NaN\n"
     ]
    }
   ],
   "source": [
    "#Let’s see how we can use a constructor to create DataFrame from different dictionary objects.\n",
    "import pandas as pd\n",
    "#create a dict object\n",
    "my_dict = [{'name': 'raju', 'age': 30, 'marks': '99', 'hobby': 'reading'}, {'name': 'kalyan', 'age': 29, 'marks': 98}, \n",
    "           {'name': 'sunny', 'age': 7, 'marks': 97}]\n",
    "df = pd.DataFrame(my_dict)\n",
    "print(df)"
   ]
  },
  {
   "cell_type": "markdown",
   "id": "aa3fb4d5",
   "metadata": {},
   "source": [
    "## The from_dict() function\n",
    "- This is another way of creating DataFrame from a Python dictionary using DataFrame.from_dict() method.\n",
    "\n",
    "- Note: This method is useful for the cases when you need to transpose the DataFrame i.e. when we need the keys in the dictionary object as rows in the resultant DataFrame. In all the other cases DataFrame constructor should be preferred.\n",
    "    \n",
    "- DataFrame.from_dict(data, orient='columns', dtype=None, columns=None)\n",
    "\n",
    "- 1.data: It takes dict, list, set, ndarray, Iterable, or DataFrame as input. An empty DataFrame will be created if it is not provided. The resultant column order follows the insertion order.\n",
    "- 2.orient: (Optional) If the keys of the dict should be the rows of the DataFrame, then set orient = index else set it to column (Default) if the keys should be columns of the resultant DataFrame.\n",
    "- 3.dtype : (Optional) data type to force on resulting DataFrame. Only a single data type is allowed. If not given, then it’s inferred from the data.\n",
    "- 4.columns : (Optional) Only be used in case of orient=\"index\" to specify column labels in the resulting DataFrame. Default column labels are range of integer i.e. 0,1,2…n. Note: If we use the columns parameter with orient='columns' it throws an ValueError: cannot use columns parameter with orient='columns'"
   ]
  },
  {
   "cell_type": "markdown",
   "id": "b42a8097",
   "metadata": {},
   "source": [
    "## DataFrame from dict with dict keys as a row\n",
    "- It is used to transpose the DataFrame, i.e., when keys in the dictionary should be the rows in the resultant DataFrame. We can change the orientation of the DataFrame using a parameter orient=\"index\" in DataFrame.from_dict().\n",
    "\n",
    "- Example\n",
    "\n",
    "- In the below example, keys “name“, “age“, and “marks” becomes row indexes in the DataFrame, and values are added in respective rows. New column labels are provided using columns parameter."
   ]
  },
  {
   "cell_type": "code",
   "execution_count": 170,
   "id": "3c8d1797",
   "metadata": {},
   "outputs": [
    {
     "name": "stdout",
     "output_type": "stream",
     "text": [
      "      stud1   stud2  stud3\n",
      "name   raju  kalyan  sunny\n",
      "age      30      29      7\n",
      "marks    99      98     97\n"
     ]
    }
   ],
   "source": [
    "my_dict ={'name': ['raju', 'kalyan', 'sunny'], 'age': [30, 29, 7], 'marks': [99,98, 97]}\n",
    "#df = pd.DataFrame(my_dict)\n",
    "df22 = pd.DataFrame.from_dict(my_dict,  orient='index', columns=['stud1', 'stud2', 'stud3'])\n",
    "print(df22)"
   ]
  },
  {
   "cell_type": "markdown",
   "id": "4bebc237",
   "metadata": {},
   "source": [
    "## DataFrame from dict where values are variable-length lists\n",
    "- It is a widespread use case in the IT industry where data is stored in the dictionary with different values against each key.\n",
    "\n",
    "- If such a dictionary object needs to be converted into the DataFrame such that keys and values will be added as columns in DataFrame. Then it can be done using chaining of DataFrame.from_dict(), stack(), and reset_index() functions.\n",
    "\n",
    "- Example\n",
    "\n",
    "- Here, we have dict with values are of different sizes and still we need to add all the key-values into a DataFrame."
   ]
  },
  {
   "cell_type": "code",
   "execution_count": 172,
   "id": "c184702d",
   "metadata": {},
   "outputs": [
    {
     "name": "stdout",
     "output_type": "stream",
     "text": [
      "   level_0      0\n",
      "0  Grade A   raju\n",
      "1  Grade A  klayn\n",
      "0  Grade B  vinny\n"
     ]
    }
   ],
   "source": [
    "my_dict = {'Grade A': ['raju', 'klayn'], 'Grade B': ['vinny']}\n",
    "\n",
    "df = pd.DataFrame.from_dict(my_dict, 'index').stack().reset_index(level = 0)\n",
    "print(df)"
   ]
  },
  {
   "cell_type": "markdown",
   "id": "efb6fba8",
   "metadata": {},
   "source": [
    "## DataFrame from dict nested dict\n",
    "- In this section, we cover the complex structure of the dictionary object where we have a hierarchical structure of the dictionary i.e. one dictionary object into another dictionary object.\n",
    "\n",
    "- In the below example, we have a student dictionary object where student data categorized by their grades and further divided as per their class. Such a dictionary object is converted into the multi-index DataFrame using DataFrame.from_dict() by iterating over each key and its values and parameter orient='index'."
   ]
  },
  {
   "cell_type": "code",
   "execution_count": null,
   "id": "0bff44ee",
   "metadata": {},
   "outputs": [],
   "source": []
  },
  {
   "cell_type": "code",
   "execution_count": 176,
   "id": "fff113be",
   "metadata": {},
   "outputs": [],
   "source": [
    "#create  hierarchical dict\n",
    "\n",
    "my_dict = {'Grade A': {'Class A': {'name': 'raju', 'marks': 99},\n",
    "                       'Class B': {'name': 'klayan', 'marks': 98}}, \n",
    "                                                                            \n",
    "        'Grade B': {'Class A': {'name': 'sunny', 'marks': 97}, \n",
    "                    'Class B': {'name': 'vinny', 'marks': 95}}}\n"
   ]
  },
  {
   "cell_type": "code",
   "execution_count": 178,
   "id": "4357e4ea",
   "metadata": {},
   "outputs": [],
   "source": [
    "#create multi index data frame\n",
    "\n",
    "df = pd.DataFrame.from_dict({(i, j): my_dict[i][j]\n",
    "                            for i in my_dict.keys()\n",
    "                            for j in my_dict[i].keys()}, orient = 'index')"
   ]
  },
  {
   "cell_type": "code",
   "execution_count": 179,
   "id": "ed67bd37",
   "metadata": {},
   "outputs": [
    {
     "name": "stdout",
     "output_type": "stream",
     "text": [
      "                   name  marks\n",
      "Grade A Class A    raju     99\n",
      "        Class B  klayan     98\n",
      "Grade B Class A   sunny     97\n",
      "        Class B   vinny     95\n"
     ]
    }
   ],
   "source": [
    "print(df)"
   ]
  },
  {
   "cell_type": "markdown",
   "id": "f44126f6",
   "metadata": {},
   "source": [
    "## Create Pandas DataFrame from Python List\n",
    "\n",
    "- The List is a simple data structure in Python that stores the values as a List. The List can have heterogeneous elements, i.e., it can have values of different types. To analyze such a List, we can convert it into the pandas DataFrame. By converting the List into a 2-dimensional structure makes it efficient to process.\n",
    "\n"
   ]
  },
  {
   "cell_type": "markdown",
   "id": "a79f1dfb",
   "metadata": {},
   "source": [
    "## Create DataFrame from list using constructor\n",
    "\n",
    "- DataFrame constructor can create DataFrame from different data structures in python like dict, list, set, tuple, and ndarray.\n",
    "\n",
    "- In the below example, we create a DataFrame object using a list of heterogeneous data. By default, all list elements are added as a row in the DataFrame. And row index is the range of numbers(starting at 0).\n"
   ]
  },
  {
   "cell_type": "code",
   "execution_count": 180,
   "id": "a5b05627",
   "metadata": {},
   "outputs": [
    {
     "name": "stdout",
     "output_type": "stream",
     "text": [
      "        0\n",
      "0    raju\n",
      "1      99\n",
      "2  kalyan\n",
      "3     100\n"
     ]
    }
   ],
   "source": [
    "import pandas as pd\n",
    "\n",
    "lst = ['raju', 99, 'kalyan', 100]\n",
    "df = pd.DataFrame(lst)\n",
    "print(df)"
   ]
  },
  {
   "cell_type": "markdown",
   "id": "bd34929a",
   "metadata": {},
   "source": [
    "## Create DataFrame from list with a customized column name\n",
    "- While creating a DataFrame from the list, we can give a customized column label in the resultant DataFrame. By default, it provides a range of integers as column labels, i.e., 0, 1, 2…n.\n",
    "\n",
    "- We can specify column labels into the columns=[col_labels] parameter in the DataFrame constructor."
   ]
  },
  {
   "cell_type": "code",
   "execution_count": 181,
   "id": "9a654a85",
   "metadata": {},
   "outputs": [
    {
     "name": "stdout",
     "output_type": "stream",
     "text": [
      "   Fruits\n",
      "0   apple\n",
      "1  banana\n",
      "2  orange\n",
      "3   mango\n"
     ]
    }
   ],
   "source": [
    "#In the below example, we create DataFrame from a list of fruit names and provides a column label as “Fruits”.\n",
    "\n",
    "lst = ['apple','banana', 'orange', 'mango']\n",
    "df = pd.DataFrame(lst, columns = ['Fruits'])\n",
    "print(df)"
   ]
  },
  {
   "cell_type": "markdown",
   "id": "56de8db0",
   "metadata": {},
   "source": [
    "## Create DataFrame from list with a customized index\n",
    "\n",
    "- As we just discussed the changing column label, we can even customize the row index as well. We can give a meaningful row index to identify each row uniquely. It becomes easier to access the rows using the index label.\n",
    "\n",
    "- We can specify row index into the index=[row_index1, row_index2] parameter in the DataFrame constructor. By default, it gives a range of integers as row index i.e. 0, 1, 2…n."
   ]
  },
  {
   "cell_type": "code",
   "execution_count": 182,
   "id": "ad3e5b9f",
   "metadata": {},
   "outputs": [
    {
     "name": "stdout",
     "output_type": "stream",
     "text": [
      "             0\n",
      "Fruit1   apple\n",
      "Fruit2  banana\n",
      "Fruit3  orange\n",
      "Fruit4   mango\n"
     ]
    }
   ],
   "source": [
    "lst = ['apple','banana', 'orange', 'mango']\n",
    "\n",
    "df = pd.DataFrame(lst, index = ['Fruit1', 'Fruit2', 'Fruit3', 'Fruit4'])\n",
    "print(df)"
   ]
  },
  {
   "cell_type": "code",
   "execution_count": 184,
   "id": "38610a7b",
   "metadata": {},
   "outputs": [
    {
     "name": "stdout",
     "output_type": "stream",
     "text": [
      "       Name_Fruits\n",
      "Fruit1       apple\n",
      "Fruit2      banana\n",
      "Fruit3      orange\n",
      "Fruit4       mango\n"
     ]
    }
   ],
   "source": [
    "df = pd.DataFrame(lst, index = ['Fruit1', 'Fruit2', 'Fruit3', 'Fruit4'], columns = ['Name_Fruits'])\n",
    "print(df)"
   ]
  },
  {
   "cell_type": "markdown",
   "id": "fe3e31f5",
   "metadata": {},
   "source": [
    "## Create DataFrame from list by changing data type\n",
    "\n",
    "- While converting a Python List to the DataFrame, we may need to change the values’ data type.\n",
    "\n",
    "- We can change the data type of the list elements using the dtype parameter of the DataFrame constructor.\n",
    "\n",
    "- Example\n",
    "\n",
    "- Suppose we have a list of fruit’s prices of type object. But, while creating DataFrame we need to correct its data type to float64. In such case we use dtype parameter as shown below example."
   ]
  },
  {
   "cell_type": "code",
   "execution_count": 188,
   "id": "865403e3",
   "metadata": {},
   "outputs": [
    {
     "name": "stdout",
     "output_type": "stream",
     "text": [
      "data type before 0    int64\n",
      "dtype: object\n",
      "data type after 0    float64\n",
      "dtype: object\n"
     ]
    }
   ],
   "source": [
    "price_list = [20,30,40,50]\n",
    "#create data frame from list\n",
    "df = pd.DataFrame(price_list)\n",
    "print('data type before', df.dtypes)\n",
    "df1 = pd.DataFrame(price_list, dtype = 'float64')\n",
    "print('data type after', df1.dtypes)"
   ]
  },
  {
   "cell_type": "markdown",
   "id": "ffd9d4fb",
   "metadata": {},
   "source": [
    "## Create DataFrame from hierarchical lists as rows\n",
    "- It may be possible to have data scattered into multiple lists or in the list of lists, also called a multi-dimensional list. In such a case, We can pass such a list to the DataFrame constructor to convert it into the DataFrame. By default, it adds each list as a row in the resultant DataFrame.\n",
    "\n",
    "- Example\n",
    "\n",
    "- In the below example, we have a list that has lists of fruit names and their prices. DataFrame constructor will add both the lists as a separate row in the resulting DataFrame."
   ]
  },
  {
   "cell_type": "code",
   "execution_count": 190,
   "id": "0a41a501",
   "metadata": {},
   "outputs": [
    {
     "name": "stdout",
     "output_type": "stream",
     "text": [
      "       0       1       2      3\n",
      "0  apple  banana  orange  mango\n",
      "1    100      40      80     70\n"
     ]
    }
   ],
   "source": [
    "fruits_list = [['apple', 'banana', 'orange', 'mango'], [100, 40, 80, 70]]\n",
    "df = pd.DataFrame(fruits_list)\n",
    "print(df)"
   ]
  },
  {
   "cell_type": "markdown",
   "id": "852cd2e6",
   "metadata": {},
   "source": [
    "## Create DataFrame from Hierarchical lists as columns\n",
    "- As discussed in the above section, we have a multi-dimensional list, but we do not want them to add to the DataFrame as a row. Instead, we want to add each list as a separate column in the DataFrame. For that, we need to use the transpose() function.\n",
    "\n",
    "- In the below example, we have a list of two lists, fruit names and another for the fruits’ price. And we want to add both the list as a separate column in the DataFrame."
   ]
  },
  {
   "cell_type": "code",
   "execution_count": 192,
   "id": "5e6d2a33",
   "metadata": {},
   "outputs": [
    {
     "name": "stdout",
     "output_type": "stream",
     "text": [
      "        0    1\n",
      "0   apple  100\n",
      "1  banana   40\n",
      "2  orange   80\n",
      "3   mango   70\n"
     ]
    }
   ],
   "source": [
    "fruits_list = [['apple', 'banana', 'orange', 'mango'], [100, 40, 80, 70]]\n",
    "\n",
    "df = pd.DataFrame(fruits_list).transpose()\n",
    "print(df)"
   ]
  },
  {
   "cell_type": "markdown",
   "id": "a0e41e47",
   "metadata": {},
   "source": [
    "## Create DataFrame from multiple lists\n",
    "- It is the most common use case in the industry where you have multiple separate lists, and you need to add them as different columns in the DataFrame. This case can be resolved by following two ways:\n",
    "\n",
    "- using zip(list1, list2...)\n",
    "- using dict { 'col1' : list1, 'col2' : list2}\n",
    "\n",
    "- Example\n",
    "\n",
    "- The below example demonstrates the use of zip() function to combine multiple lists in one list and pass it to the DataFrame constructor."
   ]
  },
  {
   "cell_type": "code",
   "execution_count": 193,
   "id": "2c014059",
   "metadata": {},
   "outputs": [
    {
     "name": "stdout",
     "output_type": "stream",
     "text": [
      "     Name  Price\n",
      "0   apple    100\n",
      "1  banana     40\n",
      "2  orange     80\n",
      "3   mango     70\n"
     ]
    }
   ],
   "source": [
    "#create multiplelists\n",
    "fruit_list = ['apple', 'banana', 'orange', 'mango']\n",
    "price_list = [100, 40, 80, 70]\n",
    "df = pd.DataFrame(list(zip(fruit_list, price_list)), columns = ['Name', 'Price'])\n",
    "print(df)"
   ]
  },
  {
   "cell_type": "code",
   "execution_count": 195,
   "id": "7ad1429d",
   "metadata": {},
   "outputs": [
    {
     "name": "stdout",
     "output_type": "stream",
     "text": [
      "     Name  Price\n",
      "0   apple    100\n",
      "1  banana     40\n",
      "2  orange     80\n",
      "3   mango     70\n"
     ]
    }
   ],
   "source": [
    "# The below example demonstrates the use of Python dictionary data structure to solve the purpose. \n",
    "#Here, column names are keys of the dict and, lists are the values of dict which need to be added in the DataFrame.\n",
    "\n",
    "fruit_list = ['apple', 'banana', 'orange', 'mango']\n",
    "price_list = [100, 40, 80, 70]\n",
    "\n",
    "my_dict = {'Name': fruit_list, \n",
    "          'Price': price_list}\n",
    "df = pd.DataFrame(my_dict)\n",
    "print(df)"
   ]
  },
  {
   "cell_type": "markdown",
   "id": "edea60af",
   "metadata": {},
   "source": [
    "## Pandas DataFrame head, tail, at, iat\n",
    "\n",
    "## How to use DataFrame.head() function\n",
    "- This function is used to see the first n rows in the DataFrame. It is beneficial when we have massive datasets, and it is not possible to see the entire dataset at once.\n",
    "\n",
    "- It takes input as the number of rows to be displayed from the top. The default value is 5.\n",
    "\n",
    "- Syntax\n",
    "\n",
    "- DataFrame.head(n=5)"
   ]
  },
  {
   "cell_type": "code",
   "execution_count": 196,
   "id": "9e1d79ea",
   "metadata": {},
   "outputs": [],
   "source": [
    "student_dict = {'name':['raju', 'kalyan', 'rajukalyan', 'sunny', 'bunny', 'vinny', 'kanna'],\n",
    "               'Age': [17,18, 19, 20, 21, 22, 23],\n",
    "               'Marks': [99,98,97, 95, 94, 97, 98]}"
   ]
  },
  {
   "cell_type": "code",
   "execution_count": 198,
   "id": "280b7db9",
   "metadata": {},
   "outputs": [
    {
     "data": {
      "text/html": [
       "<div>\n",
       "<style scoped>\n",
       "    .dataframe tbody tr th:only-of-type {\n",
       "        vertical-align: middle;\n",
       "    }\n",
       "\n",
       "    .dataframe tbody tr th {\n",
       "        vertical-align: top;\n",
       "    }\n",
       "\n",
       "    .dataframe thead th {\n",
       "        text-align: right;\n",
       "    }\n",
       "</style>\n",
       "<table border=\"1\" class=\"dataframe\">\n",
       "  <thead>\n",
       "    <tr style=\"text-align: right;\">\n",
       "      <th></th>\n",
       "      <th>name</th>\n",
       "      <th>Age</th>\n",
       "      <th>Marks</th>\n",
       "    </tr>\n",
       "  </thead>\n",
       "  <tbody>\n",
       "    <tr>\n",
       "      <th>0</th>\n",
       "      <td>raju</td>\n",
       "      <td>17</td>\n",
       "      <td>99</td>\n",
       "    </tr>\n",
       "    <tr>\n",
       "      <th>1</th>\n",
       "      <td>kalyan</td>\n",
       "      <td>18</td>\n",
       "      <td>98</td>\n",
       "    </tr>\n",
       "    <tr>\n",
       "      <th>2</th>\n",
       "      <td>rajukalyan</td>\n",
       "      <td>19</td>\n",
       "      <td>97</td>\n",
       "    </tr>\n",
       "    <tr>\n",
       "      <th>3</th>\n",
       "      <td>sunny</td>\n",
       "      <td>20</td>\n",
       "      <td>95</td>\n",
       "    </tr>\n",
       "    <tr>\n",
       "      <th>4</th>\n",
       "      <td>bunny</td>\n",
       "      <td>21</td>\n",
       "      <td>94</td>\n",
       "    </tr>\n",
       "  </tbody>\n",
       "</table>\n",
       "</div>"
      ],
      "text/plain": [
       "         name  Age  Marks\n",
       "0        raju   17     99\n",
       "1      kalyan   18     98\n",
       "2  rajukalyan   19     97\n",
       "3       sunny   20     95\n",
       "4       bunny   21     94"
      ]
     },
     "execution_count": 198,
     "metadata": {},
     "output_type": "execute_result"
    }
   ],
   "source": [
    "import pandas as pd\n",
    "df = pd.DataFrame(student_dict)\n",
    "#display 1st 5 rows\n",
    "df.head()"
   ]
  },
  {
   "cell_type": "markdown",
   "id": "7bbea4a4",
   "metadata": {},
   "source": [
    "## Select top n rows in pandas DataFrame\n",
    "- When we want to see a smaller section of data, we can use the function DataFrame.head() and pass a parameter as the number of rows to display from the top."
   ]
  },
  {
   "cell_type": "code",
   "execution_count": 199,
   "id": "1da4925a",
   "metadata": {},
   "outputs": [
    {
     "data": {
      "text/html": [
       "<div>\n",
       "<style scoped>\n",
       "    .dataframe tbody tr th:only-of-type {\n",
       "        vertical-align: middle;\n",
       "    }\n",
       "\n",
       "    .dataframe tbody tr th {\n",
       "        vertical-align: top;\n",
       "    }\n",
       "\n",
       "    .dataframe thead th {\n",
       "        text-align: right;\n",
       "    }\n",
       "</style>\n",
       "<table border=\"1\" class=\"dataframe\">\n",
       "  <thead>\n",
       "    <tr style=\"text-align: right;\">\n",
       "      <th></th>\n",
       "      <th>name</th>\n",
       "      <th>Age</th>\n",
       "      <th>Marks</th>\n",
       "    </tr>\n",
       "  </thead>\n",
       "  <tbody>\n",
       "    <tr>\n",
       "      <th>0</th>\n",
       "      <td>raju</td>\n",
       "      <td>17</td>\n",
       "      <td>99</td>\n",
       "    </tr>\n",
       "    <tr>\n",
       "      <th>1</th>\n",
       "      <td>kalyan</td>\n",
       "      <td>18</td>\n",
       "      <td>98</td>\n",
       "    </tr>\n",
       "  </tbody>\n",
       "</table>\n",
       "</div>"
      ],
      "text/plain": [
       "     name  Age  Marks\n",
       "0    raju   17     99\n",
       "1  kalyan   18     98"
      ]
     },
     "execution_count": 199,
     "metadata": {},
     "output_type": "execute_result"
    }
   ],
   "source": [
    "#display 1st 2 rows\n",
    "df.head(n=2)"
   ]
  },
  {
   "cell_type": "markdown",
   "id": "0c864f77",
   "metadata": {},
   "source": [
    "## Select top rows except for last n rows\n",
    "- When we have a vast DataFrame, and we want to see all the rows except for the last n rows, we can pass the negative value as a parameter to DataFrame.head()."
   ]
  },
  {
   "cell_type": "code",
   "execution_count": 200,
   "id": "e3fe1706",
   "metadata": {},
   "outputs": [
    {
     "data": {
      "text/html": [
       "<div>\n",
       "<style scoped>\n",
       "    .dataframe tbody tr th:only-of-type {\n",
       "        vertical-align: middle;\n",
       "    }\n",
       "\n",
       "    .dataframe tbody tr th {\n",
       "        vertical-align: top;\n",
       "    }\n",
       "\n",
       "    .dataframe thead th {\n",
       "        text-align: right;\n",
       "    }\n",
       "</style>\n",
       "<table border=\"1\" class=\"dataframe\">\n",
       "  <thead>\n",
       "    <tr style=\"text-align: right;\">\n",
       "      <th></th>\n",
       "      <th>name</th>\n",
       "      <th>Age</th>\n",
       "      <th>Marks</th>\n",
       "    </tr>\n",
       "  </thead>\n",
       "  <tbody>\n",
       "    <tr>\n",
       "      <th>0</th>\n",
       "      <td>raju</td>\n",
       "      <td>17</td>\n",
       "      <td>99</td>\n",
       "    </tr>\n",
       "    <tr>\n",
       "      <th>1</th>\n",
       "      <td>kalyan</td>\n",
       "      <td>18</td>\n",
       "      <td>98</td>\n",
       "    </tr>\n",
       "    <tr>\n",
       "      <th>2</th>\n",
       "      <td>rajukalyan</td>\n",
       "      <td>19</td>\n",
       "      <td>97</td>\n",
       "    </tr>\n",
       "    <tr>\n",
       "      <th>3</th>\n",
       "      <td>sunny</td>\n",
       "      <td>20</td>\n",
       "      <td>95</td>\n",
       "    </tr>\n",
       "    <tr>\n",
       "      <th>4</th>\n",
       "      <td>bunny</td>\n",
       "      <td>21</td>\n",
       "      <td>94</td>\n",
       "    </tr>\n",
       "  </tbody>\n",
       "</table>\n",
       "</div>"
      ],
      "text/plain": [
       "         name  Age  Marks\n",
       "0        raju   17     99\n",
       "1      kalyan   18     98\n",
       "2  rajukalyan   19     97\n",
       "3       sunny   20     95\n",
       "4       bunny   21     94"
      ]
     },
     "execution_count": 200,
     "metadata": {},
     "output_type": "execute_result"
    }
   ],
   "source": [
    "df.head(n = -2) #remove last 2 rows"
   ]
  },
  {
   "cell_type": "markdown",
   "id": "ff47ddb3",
   "metadata": {},
   "source": [
    "## Select top rows from multi-index DataFrames\n",
    "- When Python pandas DataFrame has multiple row index or column headers, then are called multi-level or hierarchical DataFrame. As we have discussed in the above section, we can use the DataFrame.head() function on multi-index DataFrames to display the top rows.\n",
    "\n",
    "- The below diagram shows hierarchical DataFrame of Student data with two-column headers where column labels ‘Name‘ and ‘Marks‘ are at level 0 and ‘Surname‘ and ‘Percentage‘ at level 1. Similarly, two-row indexes are index ‘Standard‘ at level 0 and ‘Class‘ at level 1 of the DataFrame."
   ]
  },
  {
   "cell_type": "code",
   "execution_count": null,
   "id": "7cc55854",
   "metadata": {},
   "outputs": [],
   "source": [
    "#https://pynative.com/pandas-dataframe-head-tail-at-iat/"
   ]
  },
  {
   "cell_type": "code",
   "execution_count": null,
   "id": "c388ae2e",
   "metadata": {},
   "outputs": [],
   "source": [
    "import pandas as pd\n",
    "\n",
    "index = pd.MultiIndex.from_tuples([('Standard 1', 'Class A'), ('Standard 1', 'Class B'),\n",
    "                                   ('Standard 2', 'Class A'), ('Standard 2', 'Class B'),\n",
    "                                   ('Standard 3', 'Class A'), ('Standard 3', 'Class B')],\n",
    "                                  names=['Standard', 'Class'])\n",
    "\n",
    "columns = pd.MultiIndex.from_tuples([('Name', 'Surname'),\n",
    "('Marks', 'Percentage')])\n",
    "\n",
    "# create multi-index dataframe\n",
    "student_df = pd.DataFrame([('Joe', 91.56), ('Nat', 87.90),('Harry', 70.10), \n",
    "                           ('Sam', 65.48), (\"Jill\", 72), (\"Jane\", 80)],\n",
    "                          index=index, columns=columns)\n",
    "\n",
    "topRows = student_df.head()\n",
    "print(topRows)"
   ]
  },
  {
   "cell_type": "code",
   "execution_count": 203,
   "id": "8be87eb7",
   "metadata": {},
   "outputs": [],
   "source": [
    "import pandas as pd\n",
    "\n",
    "index = pd.MultiIndex.from_tuples([('Standard 1', 'Class A'), ('Standard 1', 'Class B'),\n",
    "                                  ('Standard 2', 'Class A'),('Standard 2', 'Class B'),\n",
    "                                  ('Standard 3', 'Class A'),('Standard 3', 'Class B')],\n",
    "                                 names = ['Standard', 'Class'])\n",
    "columns = pd.MultiIndex.from_tuples([('Name', 'Surname'), \n",
    "                                   ('Marks', 'Percentage')])"
   ]
  },
  {
   "cell_type": "code",
   "execution_count": 206,
   "id": "9e83c696",
   "metadata": {},
   "outputs": [
    {
     "name": "stdout",
     "output_type": "stream",
     "text": [
      "                      Name      Marks\n",
      "                   Surname Percentage\n",
      "Standard   Class                     \n",
      "Standard 1 Class A    raju         99\n",
      "           Class B  kalyan         98\n",
      "Standard 2 Class A   sunny         97\n",
      "           Class B   vinny         95\n",
      "Standard 3 Class A   pinny         94\n",
      "           Class B   bunny         93\n"
     ]
    }
   ],
   "source": [
    "#Create multi-index dataframe\n",
    "df = pd.DataFrame([('raju', 99), ('kalyan', 98), ('sunny', 97),('vinny', 95), ('pinny', 94), ('bunny', 93)], \n",
    "                  index = index, columns = columns)\n",
    "print(df)"
   ]
  },
  {
   "cell_type": "code",
   "execution_count": 207,
   "id": "d20c0df0",
   "metadata": {},
   "outputs": [
    {
     "data": {
      "text/html": [
       "<div>\n",
       "<style scoped>\n",
       "    .dataframe tbody tr th:only-of-type {\n",
       "        vertical-align: middle;\n",
       "    }\n",
       "\n",
       "    .dataframe tbody tr th {\n",
       "        vertical-align: top;\n",
       "    }\n",
       "\n",
       "    .dataframe thead tr th {\n",
       "        text-align: left;\n",
       "    }\n",
       "\n",
       "    .dataframe thead tr:last-of-type th {\n",
       "        text-align: right;\n",
       "    }\n",
       "</style>\n",
       "<table border=\"1\" class=\"dataframe\">\n",
       "  <thead>\n",
       "    <tr>\n",
       "      <th></th>\n",
       "      <th></th>\n",
       "      <th>Name</th>\n",
       "      <th>Marks</th>\n",
       "    </tr>\n",
       "    <tr>\n",
       "      <th></th>\n",
       "      <th></th>\n",
       "      <th>Surname</th>\n",
       "      <th>Percentage</th>\n",
       "    </tr>\n",
       "    <tr>\n",
       "      <th>Standard</th>\n",
       "      <th>Class</th>\n",
       "      <th></th>\n",
       "      <th></th>\n",
       "    </tr>\n",
       "  </thead>\n",
       "  <tbody>\n",
       "    <tr>\n",
       "      <th rowspan=\"2\" valign=\"top\">Standard 1</th>\n",
       "      <th>Class A</th>\n",
       "      <td>raju</td>\n",
       "      <td>99</td>\n",
       "    </tr>\n",
       "    <tr>\n",
       "      <th>Class B</th>\n",
       "      <td>kalyan</td>\n",
       "      <td>98</td>\n",
       "    </tr>\n",
       "    <tr>\n",
       "      <th rowspan=\"2\" valign=\"top\">Standard 2</th>\n",
       "      <th>Class A</th>\n",
       "      <td>sunny</td>\n",
       "      <td>97</td>\n",
       "    </tr>\n",
       "    <tr>\n",
       "      <th>Class B</th>\n",
       "      <td>vinny</td>\n",
       "      <td>95</td>\n",
       "    </tr>\n",
       "    <tr>\n",
       "      <th>Standard 3</th>\n",
       "      <th>Class A</th>\n",
       "      <td>pinny</td>\n",
       "      <td>94</td>\n",
       "    </tr>\n",
       "  </tbody>\n",
       "</table>\n",
       "</div>"
      ],
      "text/plain": [
       "                      Name      Marks\n",
       "                   Surname Percentage\n",
       "Standard   Class                     \n",
       "Standard 1 Class A    raju         99\n",
       "           Class B  kalyan         98\n",
       "Standard 2 Class A   sunny         97\n",
       "           Class B   vinny         95\n",
       "Standard 3 Class A   pinny         94"
      ]
     },
     "execution_count": 207,
     "metadata": {},
     "output_type": "execute_result"
    }
   ],
   "source": [
    "df.head()"
   ]
  },
  {
   "cell_type": "markdown",
   "id": "7df84cdc",
   "metadata": {},
   "source": [
    "## How to use DataFrame.tail() function\n",
    "\n",
    "- We can use the DataFrame.tail() function to display the last n rows of the DataFrame. Like the head function, this function is used when we want to view a smaller section of the entire DataFrame.\n",
    "\n",
    "- It takes input as the number of rows to be displayed from the bottom. The default value is 5.\n",
    "\n",
    "- Syntax\n",
    "\n",
    "- DataFrame.tail(n=5)"
   ]
  },
  {
   "cell_type": "code",
   "execution_count": 209,
   "id": "a4b85532",
   "metadata": {},
   "outputs": [
    {
     "name": "stdout",
     "output_type": "stream",
     "text": [
      "     Name  Age  Marks\n",
      "0    raju   30     99\n",
      "1  kalyan   29     98\n",
      "2   sunny    7     97\n",
      "3   bunny   40     95\n",
      "4   vinny   50     94\n"
     ]
    }
   ],
   "source": [
    "my_dict = {'Name': ['raju', 'kalyan', 'sunny', 'bunny', 'vinny'],\n",
    "          \"Age\": [30,29,7, 40, 50],\n",
    "          \"Marks\": [99, 98, 97, 95, 94]}\n",
    "df = pd.DataFrame(my_dict)\n",
    "print(df)"
   ]
  },
  {
   "cell_type": "code",
   "execution_count": 210,
   "id": "3e2bdc4f",
   "metadata": {},
   "outputs": [
    {
     "data": {
      "text/html": [
       "<div>\n",
       "<style scoped>\n",
       "    .dataframe tbody tr th:only-of-type {\n",
       "        vertical-align: middle;\n",
       "    }\n",
       "\n",
       "    .dataframe tbody tr th {\n",
       "        vertical-align: top;\n",
       "    }\n",
       "\n",
       "    .dataframe thead th {\n",
       "        text-align: right;\n",
       "    }\n",
       "</style>\n",
       "<table border=\"1\" class=\"dataframe\">\n",
       "  <thead>\n",
       "    <tr style=\"text-align: right;\">\n",
       "      <th></th>\n",
       "      <th>Name</th>\n",
       "      <th>Age</th>\n",
       "      <th>Marks</th>\n",
       "    </tr>\n",
       "  </thead>\n",
       "  <tbody>\n",
       "    <tr>\n",
       "      <th>0</th>\n",
       "      <td>raju</td>\n",
       "      <td>30</td>\n",
       "      <td>99</td>\n",
       "    </tr>\n",
       "    <tr>\n",
       "      <th>1</th>\n",
       "      <td>kalyan</td>\n",
       "      <td>29</td>\n",
       "      <td>98</td>\n",
       "    </tr>\n",
       "    <tr>\n",
       "      <th>2</th>\n",
       "      <td>sunny</td>\n",
       "      <td>7</td>\n",
       "      <td>97</td>\n",
       "    </tr>\n",
       "    <tr>\n",
       "      <th>3</th>\n",
       "      <td>bunny</td>\n",
       "      <td>40</td>\n",
       "      <td>95</td>\n",
       "    </tr>\n",
       "    <tr>\n",
       "      <th>4</th>\n",
       "      <td>vinny</td>\n",
       "      <td>50</td>\n",
       "      <td>94</td>\n",
       "    </tr>\n",
       "  </tbody>\n",
       "</table>\n",
       "</div>"
      ],
      "text/plain": [
       "     Name  Age  Marks\n",
       "0    raju   30     99\n",
       "1  kalyan   29     98\n",
       "2   sunny    7     97\n",
       "3   bunny   40     95\n",
       "4   vinny   50     94"
      ]
     },
     "execution_count": 210,
     "metadata": {},
     "output_type": "execute_result"
    }
   ],
   "source": [
    "#display bottom 5 rows\n",
    "\n",
    "df.tail()"
   ]
  },
  {
   "cell_type": "markdown",
   "id": "43dc65c7",
   "metadata": {},
   "source": [
    "## Select bottom n rows in pandas DataFrame\n",
    "- When we want to see a smaller section of data from the bottom of the DataFrame, we can use the function DataFrame.tail() and pass a parameter as the number of rows to display from the bottom."
   ]
  },
  {
   "cell_type": "code",
   "execution_count": 212,
   "id": "e87c408b",
   "metadata": {},
   "outputs": [
    {
     "data": {
      "text/html": [
       "<div>\n",
       "<style scoped>\n",
       "    .dataframe tbody tr th:only-of-type {\n",
       "        vertical-align: middle;\n",
       "    }\n",
       "\n",
       "    .dataframe tbody tr th {\n",
       "        vertical-align: top;\n",
       "    }\n",
       "\n",
       "    .dataframe thead th {\n",
       "        text-align: right;\n",
       "    }\n",
       "</style>\n",
       "<table border=\"1\" class=\"dataframe\">\n",
       "  <thead>\n",
       "    <tr style=\"text-align: right;\">\n",
       "      <th></th>\n",
       "      <th>Name</th>\n",
       "      <th>Age</th>\n",
       "      <th>Marks</th>\n",
       "    </tr>\n",
       "  </thead>\n",
       "  <tbody>\n",
       "    <tr>\n",
       "      <th>2</th>\n",
       "      <td>sunny</td>\n",
       "      <td>7</td>\n",
       "      <td>97</td>\n",
       "    </tr>\n",
       "    <tr>\n",
       "      <th>3</th>\n",
       "      <td>bunny</td>\n",
       "      <td>40</td>\n",
       "      <td>95</td>\n",
       "    </tr>\n",
       "    <tr>\n",
       "      <th>4</th>\n",
       "      <td>vinny</td>\n",
       "      <td>50</td>\n",
       "      <td>94</td>\n",
       "    </tr>\n",
       "  </tbody>\n",
       "</table>\n",
       "</div>"
      ],
      "text/plain": [
       "    Name  Age  Marks\n",
       "2  sunny    7     97\n",
       "3  bunny   40     95\n",
       "4  vinny   50     94"
      ]
     },
     "execution_count": 212,
     "metadata": {},
     "output_type": "execute_result"
    }
   ],
   "source": [
    "df.tail(3)"
   ]
  },
  {
   "cell_type": "code",
   "execution_count": 211,
   "id": "b976445c",
   "metadata": {},
   "outputs": [
    {
     "data": {
      "text/html": [
       "<div>\n",
       "<style scoped>\n",
       "    .dataframe tbody tr th:only-of-type {\n",
       "        vertical-align: middle;\n",
       "    }\n",
       "\n",
       "    .dataframe tbody tr th {\n",
       "        vertical-align: top;\n",
       "    }\n",
       "\n",
       "    .dataframe thead th {\n",
       "        text-align: right;\n",
       "    }\n",
       "</style>\n",
       "<table border=\"1\" class=\"dataframe\">\n",
       "  <thead>\n",
       "    <tr style=\"text-align: right;\">\n",
       "      <th></th>\n",
       "      <th>Name</th>\n",
       "      <th>Age</th>\n",
       "      <th>Marks</th>\n",
       "    </tr>\n",
       "  </thead>\n",
       "  <tbody>\n",
       "    <tr>\n",
       "      <th>3</th>\n",
       "      <td>bunny</td>\n",
       "      <td>40</td>\n",
       "      <td>95</td>\n",
       "    </tr>\n",
       "    <tr>\n",
       "      <th>4</th>\n",
       "      <td>vinny</td>\n",
       "      <td>50</td>\n",
       "      <td>94</td>\n",
       "    </tr>\n",
       "  </tbody>\n",
       "</table>\n",
       "</div>"
      ],
      "text/plain": [
       "    Name  Age  Marks\n",
       "3  bunny   40     95\n",
       "4  vinny   50     94"
      ]
     },
     "execution_count": 211,
     "metadata": {},
     "output_type": "execute_result"
    }
   ],
   "source": [
    "df.tail(n=2)"
   ]
  },
  {
   "cell_type": "markdown",
   "id": "f296fb00",
   "metadata": {},
   "source": [
    "## Select bottom rows except for first n rows\n",
    "- When we want to see our entire dataset except for the first few rows, we can use DataFrame.tail() function and pass the negative value as a parameter to it."
   ]
  },
  {
   "cell_type": "code",
   "execution_count": 213,
   "id": "f68e149e",
   "metadata": {},
   "outputs": [
    {
     "data": {
      "text/html": [
       "<div>\n",
       "<style scoped>\n",
       "    .dataframe tbody tr th:only-of-type {\n",
       "        vertical-align: middle;\n",
       "    }\n",
       "\n",
       "    .dataframe tbody tr th {\n",
       "        vertical-align: top;\n",
       "    }\n",
       "\n",
       "    .dataframe thead th {\n",
       "        text-align: right;\n",
       "    }\n",
       "</style>\n",
       "<table border=\"1\" class=\"dataframe\">\n",
       "  <thead>\n",
       "    <tr style=\"text-align: right;\">\n",
       "      <th></th>\n",
       "      <th>Name</th>\n",
       "      <th>Age</th>\n",
       "      <th>Marks</th>\n",
       "    </tr>\n",
       "  </thead>\n",
       "  <tbody>\n",
       "    <tr>\n",
       "      <th>2</th>\n",
       "      <td>sunny</td>\n",
       "      <td>7</td>\n",
       "      <td>97</td>\n",
       "    </tr>\n",
       "    <tr>\n",
       "      <th>3</th>\n",
       "      <td>bunny</td>\n",
       "      <td>40</td>\n",
       "      <td>95</td>\n",
       "    </tr>\n",
       "    <tr>\n",
       "      <th>4</th>\n",
       "      <td>vinny</td>\n",
       "      <td>50</td>\n",
       "      <td>94</td>\n",
       "    </tr>\n",
       "  </tbody>\n",
       "</table>\n",
       "</div>"
      ],
      "text/plain": [
       "    Name  Age  Marks\n",
       "2  sunny    7     97\n",
       "3  bunny   40     95\n",
       "4  vinny   50     94"
      ]
     },
     "execution_count": 213,
     "metadata": {},
     "output_type": "execute_result"
    }
   ],
   "source": [
    "df.tail(-2)"
   ]
  },
  {
   "cell_type": "markdown",
   "id": "dbca6303",
   "metadata": {},
   "source": [
    "## Select bottom rows from the multi index DataFrame\n",
    "- We can apply the DataFrame.tail() function on multi-index DataFrames as well. It works in the same way as normal DataFrames."
   ]
  },
  {
   "cell_type": "code",
   "execution_count": 214,
   "id": "d0e34227",
   "metadata": {},
   "outputs": [],
   "source": [
    "import pandas as pd\n",
    "\n",
    "index = pd.MultiIndex.from_tuples([('Standard 1', 'Class A'), ('Standard 1', 'Class B'),\n",
    "                                  ('Standard 2', 'Class A'),('Standard 2', 'Class B'),\n",
    "                                  ('Standard 3', 'Class A'),('Standard 3', 'Class B')],\n",
    "                                 names = ['Standard', 'Class'])\n",
    "columns = pd.MultiIndex.from_tuples([('Name', 'Surname'), \n",
    "                                   ('Marks', 'Percentage')])"
   ]
  },
  {
   "cell_type": "code",
   "execution_count": 215,
   "id": "e5126553",
   "metadata": {},
   "outputs": [
    {
     "name": "stdout",
     "output_type": "stream",
     "text": [
      "                      Name      Marks\n",
      "                   Surname Percentage\n",
      "Standard   Class                     \n",
      "Standard 1 Class A    raju         99\n",
      "           Class B  kalyan         98\n",
      "Standard 2 Class A   sunny         97\n",
      "           Class B   vinny         95\n",
      "Standard 3 Class A   pinny         94\n",
      "           Class B   bunny         93\n"
     ]
    }
   ],
   "source": [
    "#Create multi-index dataframe\n",
    "df = pd.DataFrame([('raju', 99), ('kalyan', 98), ('sunny', 97),('vinny', 95), ('pinny', 94), ('bunny', 93)], \n",
    "                  index = index, columns = columns)\n",
    "print(df)"
   ]
  },
  {
   "cell_type": "code",
   "execution_count": 216,
   "id": "5418e0d2",
   "metadata": {},
   "outputs": [
    {
     "data": {
      "text/html": [
       "<div>\n",
       "<style scoped>\n",
       "    .dataframe tbody tr th:only-of-type {\n",
       "        vertical-align: middle;\n",
       "    }\n",
       "\n",
       "    .dataframe tbody tr th {\n",
       "        vertical-align: top;\n",
       "    }\n",
       "\n",
       "    .dataframe thead tr th {\n",
       "        text-align: left;\n",
       "    }\n",
       "\n",
       "    .dataframe thead tr:last-of-type th {\n",
       "        text-align: right;\n",
       "    }\n",
       "</style>\n",
       "<table border=\"1\" class=\"dataframe\">\n",
       "  <thead>\n",
       "    <tr>\n",
       "      <th></th>\n",
       "      <th></th>\n",
       "      <th>Name</th>\n",
       "      <th>Marks</th>\n",
       "    </tr>\n",
       "    <tr>\n",
       "      <th></th>\n",
       "      <th></th>\n",
       "      <th>Surname</th>\n",
       "      <th>Percentage</th>\n",
       "    </tr>\n",
       "    <tr>\n",
       "      <th>Standard</th>\n",
       "      <th>Class</th>\n",
       "      <th></th>\n",
       "      <th></th>\n",
       "    </tr>\n",
       "  </thead>\n",
       "  <tbody>\n",
       "    <tr>\n",
       "      <th>Standard 1</th>\n",
       "      <th>Class B</th>\n",
       "      <td>kalyan</td>\n",
       "      <td>98</td>\n",
       "    </tr>\n",
       "    <tr>\n",
       "      <th rowspan=\"2\" valign=\"top\">Standard 2</th>\n",
       "      <th>Class A</th>\n",
       "      <td>sunny</td>\n",
       "      <td>97</td>\n",
       "    </tr>\n",
       "    <tr>\n",
       "      <th>Class B</th>\n",
       "      <td>vinny</td>\n",
       "      <td>95</td>\n",
       "    </tr>\n",
       "    <tr>\n",
       "      <th rowspan=\"2\" valign=\"top\">Standard 3</th>\n",
       "      <th>Class A</th>\n",
       "      <td>pinny</td>\n",
       "      <td>94</td>\n",
       "    </tr>\n",
       "    <tr>\n",
       "      <th>Class B</th>\n",
       "      <td>bunny</td>\n",
       "      <td>93</td>\n",
       "    </tr>\n",
       "  </tbody>\n",
       "</table>\n",
       "</div>"
      ],
      "text/plain": [
       "                      Name      Marks\n",
       "                   Surname Percentage\n",
       "Standard   Class                     \n",
       "Standard 1 Class B  kalyan         98\n",
       "Standard 2 Class A   sunny         97\n",
       "           Class B   vinny         95\n",
       "Standard 3 Class A   pinny         94\n",
       "           Class B   bunny         93"
      ]
     },
     "execution_count": 216,
     "metadata": {},
     "output_type": "execute_result"
    }
   ],
   "source": [
    "df.tail()"
   ]
  },
  {
   "cell_type": "markdown",
   "id": "df20fbd5",
   "metadata": {},
   "source": [
    "## Select value using row and column labels using DataFrame.at\n",
    "\n",
    "- There are cases in the field of Data Science that we need to access a specific element of the DataFrame using its column label and row index. In such cases, we can use the DataFrame.at property and pass the row index and column labels of the value to access as parameters. This property can be used with Multi-index DataFrame as well.\n",
    "\n",
    "- Note: It throws KeyError if the label does not exist in DataFrame."
   ]
  },
  {
   "cell_type": "code",
   "execution_count": 217,
   "id": "af398110",
   "metadata": {},
   "outputs": [
    {
     "name": "stdout",
     "output_type": "stream",
     "text": [
      "     Name  Age  Marks\n",
      "0    raju   30     99\n",
      "1  kalyan   29     98\n",
      "2   sunny    7     97\n",
      "3   bunny   40     95\n",
      "4   vinny   50     94\n"
     ]
    }
   ],
   "source": [
    "my_dict = {'Name': ['raju', 'kalyan', 'sunny', 'bunny', 'vinny'],\n",
    "          \"Age\": [30,29,7, 40, 50],\n",
    "          \"Marks\": [99, 98, 97, 95, 94]}\n",
    "df = pd.DataFrame(my_dict)\n",
    "print(df)"
   ]
  },
  {
   "cell_type": "code",
   "execution_count": 218,
   "id": "72b1b81e",
   "metadata": {},
   "outputs": [
    {
     "data": {
      "text/plain": [
       "7"
      ]
     },
     "execution_count": 218,
     "metadata": {},
     "output_type": "execute_result"
    }
   ],
   "source": [
    "df.at[2,\"Age\"]"
   ]
  },
  {
   "cell_type": "code",
   "execution_count": 219,
   "id": "90584538",
   "metadata": {},
   "outputs": [
    {
     "data": {
      "text/plain": [
       "95"
      ]
     },
     "execution_count": 219,
     "metadata": {},
     "output_type": "execute_result"
    }
   ],
   "source": [
    "df.at[3, 'Marks']"
   ]
  },
  {
   "cell_type": "markdown",
   "id": "e88866fa",
   "metadata": {},
   "source": [
    "## Set specific value in pandas DataFrame\n",
    "- When we want to update the value of the particular element from DataFrame based on its column label and row index, we can use DataFrame.at property."
   ]
  },
  {
   "cell_type": "code",
   "execution_count": 220,
   "id": "b3bb9d9c",
   "metadata": {},
   "outputs": [],
   "source": [
    "df.at[2,\"Age\"] = 10"
   ]
  },
  {
   "cell_type": "code",
   "execution_count": 221,
   "id": "5176303c",
   "metadata": {},
   "outputs": [
    {
     "data": {
      "text/html": [
       "<div>\n",
       "<style scoped>\n",
       "    .dataframe tbody tr th:only-of-type {\n",
       "        vertical-align: middle;\n",
       "    }\n",
       "\n",
       "    .dataframe tbody tr th {\n",
       "        vertical-align: top;\n",
       "    }\n",
       "\n",
       "    .dataframe thead th {\n",
       "        text-align: right;\n",
       "    }\n",
       "</style>\n",
       "<table border=\"1\" class=\"dataframe\">\n",
       "  <thead>\n",
       "    <tr style=\"text-align: right;\">\n",
       "      <th></th>\n",
       "      <th>Name</th>\n",
       "      <th>Age</th>\n",
       "      <th>Marks</th>\n",
       "    </tr>\n",
       "  </thead>\n",
       "  <tbody>\n",
       "    <tr>\n",
       "      <th>0</th>\n",
       "      <td>raju</td>\n",
       "      <td>30</td>\n",
       "      <td>99</td>\n",
       "    </tr>\n",
       "    <tr>\n",
       "      <th>1</th>\n",
       "      <td>kalyan</td>\n",
       "      <td>29</td>\n",
       "      <td>98</td>\n",
       "    </tr>\n",
       "    <tr>\n",
       "      <th>2</th>\n",
       "      <td>sunny</td>\n",
       "      <td>10</td>\n",
       "      <td>97</td>\n",
       "    </tr>\n",
       "    <tr>\n",
       "      <th>3</th>\n",
       "      <td>bunny</td>\n",
       "      <td>40</td>\n",
       "      <td>95</td>\n",
       "    </tr>\n",
       "    <tr>\n",
       "      <th>4</th>\n",
       "      <td>vinny</td>\n",
       "      <td>50</td>\n",
       "      <td>94</td>\n",
       "    </tr>\n",
       "  </tbody>\n",
       "</table>\n",
       "</div>"
      ],
      "text/plain": [
       "     Name  Age  Marks\n",
       "0    raju   30     99\n",
       "1  kalyan   29     98\n",
       "2   sunny   10     97\n",
       "3   bunny   40     95\n",
       "4   vinny   50     94"
      ]
     },
     "execution_count": 221,
     "metadata": {},
     "output_type": "execute_result"
    }
   ],
   "source": [
    "df"
   ]
  },
  {
   "cell_type": "markdown",
   "id": "c29c5356",
   "metadata": {},
   "source": [
    "## Select value using row and column position using DataFrame.iat\n",
    "- We want to access a specific element from a very large DataFrame, but we do not know its column label or row index. We can still access such an element using its column and row positions. For that, we can use DataFrame.iat property of python pandas. Unlike DataFrame.at it can work on the row and column index position of the DataFrame.\n",
    "\n",
    "- Note: Index positions starts at 0."
   ]
  },
  {
   "cell_type": "code",
   "execution_count": 222,
   "id": "7d5b3ff5",
   "metadata": {},
   "outputs": [
    {
     "data": {
      "text/plain": [
       "98"
      ]
     },
     "execution_count": 222,
     "metadata": {},
     "output_type": "execute_result"
    }
   ],
   "source": [
    "df.iat[1,2]"
   ]
  },
  {
   "cell_type": "code",
   "execution_count": 223,
   "id": "75f070f4",
   "metadata": {},
   "outputs": [
    {
     "data": {
      "text/plain": [
       "'kalyan'"
      ]
     },
     "execution_count": 223,
     "metadata": {},
     "output_type": "execute_result"
    }
   ],
   "source": [
    "df.iat[1,0]"
   ]
  },
  {
   "cell_type": "markdown",
   "id": "efa05738",
   "metadata": {},
   "source": [
    "## Set specific value in pandas DataFrame\n",
    "- When we want to update the value of the particular element from DataFrame based on its column and row position, we can use DataFrame.iat property."
   ]
  },
  {
   "cell_type": "code",
   "execution_count": 225,
   "id": "1ae22ffe",
   "metadata": {},
   "outputs": [],
   "source": [
    "# change value\n",
    "\n",
    "df.iat[1,1] = 25"
   ]
  },
  {
   "cell_type": "code",
   "execution_count": 226,
   "id": "e258ed5f",
   "metadata": {},
   "outputs": [
    {
     "data": {
      "text/html": [
       "<div>\n",
       "<style scoped>\n",
       "    .dataframe tbody tr th:only-of-type {\n",
       "        vertical-align: middle;\n",
       "    }\n",
       "\n",
       "    .dataframe tbody tr th {\n",
       "        vertical-align: top;\n",
       "    }\n",
       "\n",
       "    .dataframe thead th {\n",
       "        text-align: right;\n",
       "    }\n",
       "</style>\n",
       "<table border=\"1\" class=\"dataframe\">\n",
       "  <thead>\n",
       "    <tr style=\"text-align: right;\">\n",
       "      <th></th>\n",
       "      <th>Name</th>\n",
       "      <th>Age</th>\n",
       "      <th>Marks</th>\n",
       "    </tr>\n",
       "  </thead>\n",
       "  <tbody>\n",
       "    <tr>\n",
       "      <th>0</th>\n",
       "      <td>raju</td>\n",
       "      <td>30</td>\n",
       "      <td>99</td>\n",
       "    </tr>\n",
       "    <tr>\n",
       "      <th>1</th>\n",
       "      <td>kalyan</td>\n",
       "      <td>25</td>\n",
       "      <td>98</td>\n",
       "    </tr>\n",
       "    <tr>\n",
       "      <th>2</th>\n",
       "      <td>sunny</td>\n",
       "      <td>10</td>\n",
       "      <td>97</td>\n",
       "    </tr>\n",
       "    <tr>\n",
       "      <th>3</th>\n",
       "      <td>bunny</td>\n",
       "      <td>40</td>\n",
       "      <td>95</td>\n",
       "    </tr>\n",
       "    <tr>\n",
       "      <th>4</th>\n",
       "      <td>vinny</td>\n",
       "      <td>50</td>\n",
       "      <td>94</td>\n",
       "    </tr>\n",
       "  </tbody>\n",
       "</table>\n",
       "</div>"
      ],
      "text/plain": [
       "     Name  Age  Marks\n",
       "0    raju   30     99\n",
       "1  kalyan   25     98\n",
       "2   sunny   10     97\n",
       "3   bunny   40     95\n",
       "4   vinny   50     94"
      ]
     },
     "execution_count": 226,
     "metadata": {},
     "output_type": "execute_result"
    }
   ],
   "source": [
    "df"
   ]
  },
  {
   "cell_type": "markdown",
   "id": "f060f2e7",
   "metadata": {},
   "source": [
    "## Drop columns in pandas DataFrame\n",
    "\n",
    "\n",
    "- Datasets could be in any shape and form. To optimize the data analysis, we need to remove some data that is redundant or not required. This article aims to discuss all the cases of dropping single or multiple columns from a pandas DataFrame.\n",
    "\n",
    "- The following functions are discussed in this article in detail:\n",
    "\n",
    "- df.drop(columns = ['col1','col2'...])\n",
    "- df.pop('col_name')\n",
    "- del df['col_name']"
   ]
  },
  {
   "cell_type": "markdown",
   "id": "91441aee",
   "metadata": {},
   "source": [
    "## The DataFrame.drop() function\n",
    "- We can use this pandas function to remove the columns or rows from simple as well as multi-index DataFrame.\n",
    "- DataFrame.drop(labels=None, axis=1, columns=None, level=None, inplace=False, errors='raise')\n",
    "\n",
    "## Parameters:\n",
    "\n",
    "- 1.labels: It takes a list of column labels to drop.\n",
    "- 2.axis: It specifies to drop columns or rows. set a axis to 1 or ‘columns’ to drop columns. By default, it drops the rows from DataFrame.\n",
    "- 3.columns: It is an alternative to axis='columns'. It takes a single column label or list of column labels as input.\n",
    "- 4.level: It is used in the case of a MultiIndex DataFrame to specify the level from which the labels should be removed. It takes a level position or level name as input.\n",
    "- 5.inplace: It is used to specify whether to return a new DataFrame or update an existing one. It is a boolean flag with default False.\n",
    "- 6.errors: It is used to suppress KeyError error if a column is not present. It takes the following inputs:\n",
    "      ‘ignore‘: It suppresses the error and drops only existing labels.\n",
    "       ‘raise‘: Throws the errors if the column does not exist. It is the default case.\n",
    "       \n",
    "## Returns:\n",
    "\n",
    "- It returns the DataFrame with dropped columns or None if inplace=True\n",
    "- It also raises KeyError if labels are not found.\n",
    "\n",
    "## Drop single column\n",
    "- We may need to delete a single or specific column from a DataFrame.\n",
    "\n",
    "- In the below example we drop the ‘age‘ column from the DataFrame using df.drop(columns = 'col_name')"
   ]
  },
  {
   "cell_type": "code",
   "execution_count": 227,
   "id": "11db6d7c",
   "metadata": {},
   "outputs": [
    {
     "name": "stdout",
     "output_type": "stream",
     "text": [
      "     Name  Age  Marks\n",
      "0    raju   30     99\n",
      "1  kalyan   29     98\n",
      "2   sunny    7     97\n",
      "3   bunny   40     95\n",
      "4   vinny   50     94\n"
     ]
    }
   ],
   "source": [
    "my_dict = {'Name': ['raju', 'kalyan', 'sunny', 'bunny', 'vinny'],\n",
    "          \"Age\": [30,29,7, 40, 50],\n",
    "          \"Marks\": [99, 98, 97, 95, 94]}\n",
    "df = pd.DataFrame(my_dict)\n",
    "print(df)"
   ]
  },
  {
   "cell_type": "code",
   "execution_count": 228,
   "id": "745b32a3",
   "metadata": {},
   "outputs": [],
   "source": [
    "# drop column\n",
    "\n",
    "df1 = df.drop(columns = 'Age')"
   ]
  },
  {
   "cell_type": "code",
   "execution_count": 229,
   "id": "3e412e6d",
   "metadata": {},
   "outputs": [
    {
     "data": {
      "text/html": [
       "<div>\n",
       "<style scoped>\n",
       "    .dataframe tbody tr th:only-of-type {\n",
       "        vertical-align: middle;\n",
       "    }\n",
       "\n",
       "    .dataframe tbody tr th {\n",
       "        vertical-align: top;\n",
       "    }\n",
       "\n",
       "    .dataframe thead th {\n",
       "        text-align: right;\n",
       "    }\n",
       "</style>\n",
       "<table border=\"1\" class=\"dataframe\">\n",
       "  <thead>\n",
       "    <tr style=\"text-align: right;\">\n",
       "      <th></th>\n",
       "      <th>Name</th>\n",
       "      <th>Marks</th>\n",
       "    </tr>\n",
       "  </thead>\n",
       "  <tbody>\n",
       "    <tr>\n",
       "      <th>0</th>\n",
       "      <td>raju</td>\n",
       "      <td>99</td>\n",
       "    </tr>\n",
       "    <tr>\n",
       "      <th>1</th>\n",
       "      <td>kalyan</td>\n",
       "      <td>98</td>\n",
       "    </tr>\n",
       "    <tr>\n",
       "      <th>2</th>\n",
       "      <td>sunny</td>\n",
       "      <td>97</td>\n",
       "    </tr>\n",
       "    <tr>\n",
       "      <th>3</th>\n",
       "      <td>bunny</td>\n",
       "      <td>95</td>\n",
       "    </tr>\n",
       "    <tr>\n",
       "      <th>4</th>\n",
       "      <td>vinny</td>\n",
       "      <td>94</td>\n",
       "    </tr>\n",
       "  </tbody>\n",
       "</table>\n",
       "</div>"
      ],
      "text/plain": [
       "     Name  Marks\n",
       "0    raju     99\n",
       "1  kalyan     98\n",
       "2   sunny     97\n",
       "3   bunny     95\n",
       "4   vinny     94"
      ]
     },
     "execution_count": 229,
     "metadata": {},
     "output_type": "execute_result"
    }
   ],
   "source": [
    "df1"
   ]
  },
  {
   "cell_type": "markdown",
   "id": "5272534e",
   "metadata": {},
   "source": [
    "## Drop multiple columns\n",
    "\n",
    "- Use any of the following two parameters of DataFrame.drop() to delete multiple columns of DataFrame at once.\n",
    "\n",
    "- Use the column parameter and pass the list of column names you want to remove.\n",
    "- Set the axis=1 and pass the list of column names."
   ]
  },
  {
   "cell_type": "code",
   "execution_count": 232,
   "id": "e6f46f71",
   "metadata": {},
   "outputs": [
    {
     "name": "stdout",
     "output_type": "stream",
     "text": [
      "     Name\n",
      "0    raju\n",
      "1  kalyan\n",
      "2   sunny\n",
      "3   bunny\n",
      "4   vinny\n"
     ]
    }
   ],
   "source": [
    "df2 = df.drop(columns = ['Age', 'Marks'])\n",
    "print(df2)"
   ]
  },
  {
   "cell_type": "markdown",
   "id": "d42b3130",
   "metadata": {},
   "source": [
    "## Using drop with axis='columns' or axis=1\n",
    "- Let’s see how to drop using the axis-style convention. This is a new approach. ( This approach makes this method match the rest of the pandas API).\n",
    "\n",
    "- Use the axis parameter of a DataFrame.drop() to delete columns. The axis can be a row or column. The column axis represented as 1 or ‘columns’.\n",
    "\n",
    "- Set axis=1 or axis='columns' and pass the list of column names you want to remove."
   ]
  },
  {
   "cell_type": "code",
   "execution_count": 234,
   "id": "d775837b",
   "metadata": {},
   "outputs": [
    {
     "name": "stdout",
     "output_type": "stream",
     "text": [
      "     Name\n",
      "0    raju\n",
      "1  kalyan\n",
      "2   sunny\n",
      "3   bunny\n",
      "4   vinny\n"
     ]
    }
   ],
   "source": [
    "df3 = df.drop(columns= [\"Age\", \"Marks\"], axis = 'columns')\n",
    "print(df3)"
   ]
  },
  {
   "cell_type": "code",
   "execution_count": 235,
   "id": "69f8d0af",
   "metadata": {},
   "outputs": [
    {
     "name": "stdout",
     "output_type": "stream",
     "text": [
      "     Name\n",
      "0    raju\n",
      "1  kalyan\n",
      "2   sunny\n",
      "3   bunny\n",
      "4   vinny\n"
     ]
    }
   ],
   "source": [
    "df4 = df.drop(columns = ['Age', \"Marks\"], axis = 1)\n",
    "print(df4)"
   ]
  },
  {
   "cell_type": "markdown",
   "id": "9df3b5ed",
   "metadata": {},
   "source": [
    "## Drop column in place\n",
    "- In the above examples, whenever we executed drop operations, pandas created a new copy of DataFrame because the modification is not in place.\n",
    "\n",
    "- Parameter inplace is used to indicate if drop column from the existing DataFrame or create a copy of it.\n",
    "\n",
    "- If the inplace=True then it updates the existing DataFrame and does not return anything.\n",
    "- If the inplace=False then it creates a new DataFrame with updated changes and returns it.\n",
    "\n",
    "- Note: Set inplace=True when we are doing function chaining to avoid assigning the result back to a variable as we are performing modifications in place."
   ]
  },
  {
   "cell_type": "code",
   "execution_count": 239,
   "id": "9950bc9b",
   "metadata": {},
   "outputs": [
    {
     "name": "stdout",
     "output_type": "stream",
     "text": [
      "     Name  Age  Marks\n",
      "0    raju   30     99\n",
      "1  kalyan   29     98\n",
      "2   sunny    7     97\n",
      "3   bunny   40     95\n",
      "4   vinny   50     94\n"
     ]
    }
   ],
   "source": [
    "my_dict = {'Name': ['raju', 'kalyan', 'sunny', 'bunny', 'vinny'],\n",
    "          \"Age\": [30,29,7, 40, 50],\n",
    "          \"Marks\": [99, 98, 97, 95, 94]}\n",
    "df = pd.DataFrame(my_dict)\n",
    "print(df)"
   ]
  },
  {
   "cell_type": "code",
   "execution_count": 237,
   "id": "9f92ab35",
   "metadata": {},
   "outputs": [],
   "source": [
    "df.drop(columns = [\"Age\", \"Marks\"], inplace = True)#it will change in same data frame"
   ]
  },
  {
   "cell_type": "code",
   "execution_count": 238,
   "id": "d2c49ba5",
   "metadata": {},
   "outputs": [
    {
     "data": {
      "text/html": [
       "<div>\n",
       "<style scoped>\n",
       "    .dataframe tbody tr th:only-of-type {\n",
       "        vertical-align: middle;\n",
       "    }\n",
       "\n",
       "    .dataframe tbody tr th {\n",
       "        vertical-align: top;\n",
       "    }\n",
       "\n",
       "    .dataframe thead th {\n",
       "        text-align: right;\n",
       "    }\n",
       "</style>\n",
       "<table border=\"1\" class=\"dataframe\">\n",
       "  <thead>\n",
       "    <tr style=\"text-align: right;\">\n",
       "      <th></th>\n",
       "      <th>Name</th>\n",
       "    </tr>\n",
       "  </thead>\n",
       "  <tbody>\n",
       "    <tr>\n",
       "      <th>0</th>\n",
       "      <td>raju</td>\n",
       "    </tr>\n",
       "    <tr>\n",
       "      <th>1</th>\n",
       "      <td>kalyan</td>\n",
       "    </tr>\n",
       "    <tr>\n",
       "      <th>2</th>\n",
       "      <td>sunny</td>\n",
       "    </tr>\n",
       "    <tr>\n",
       "      <th>3</th>\n",
       "      <td>bunny</td>\n",
       "    </tr>\n",
       "    <tr>\n",
       "      <th>4</th>\n",
       "      <td>vinny</td>\n",
       "    </tr>\n",
       "  </tbody>\n",
       "</table>\n",
       "</div>"
      ],
      "text/plain": [
       "     Name\n",
       "0    raju\n",
       "1  kalyan\n",
       "2   sunny\n",
       "3   bunny\n",
       "4   vinny"
      ]
     },
     "execution_count": 238,
     "metadata": {},
     "output_type": "execute_result"
    }
   ],
   "source": [
    "df"
   ]
  },
  {
   "cell_type": "code",
   "execution_count": null,
   "id": "cdc2615f",
   "metadata": {},
   "outputs": [],
   "source": [
    "my_dict = {'Name': ['raju', 'kalyan', 'sunny', 'bunny', 'vinny'],\n",
    "          \"Age\": [30,29,7, 40, 50],\n",
    "          \"Marks\": [99, 98, 97, 95, 94]}\n",
    "df = pd.DataFrame(my_dict)\n",
    "print(df)"
   ]
  },
  {
   "cell_type": "code",
   "execution_count": 240,
   "id": "d2cf7d14",
   "metadata": {},
   "outputs": [
    {
     "data": {
      "text/html": [
       "<div>\n",
       "<style scoped>\n",
       "    .dataframe tbody tr th:only-of-type {\n",
       "        vertical-align: middle;\n",
       "    }\n",
       "\n",
       "    .dataframe tbody tr th {\n",
       "        vertical-align: top;\n",
       "    }\n",
       "\n",
       "    .dataframe thead th {\n",
       "        text-align: right;\n",
       "    }\n",
       "</style>\n",
       "<table border=\"1\" class=\"dataframe\">\n",
       "  <thead>\n",
       "    <tr style=\"text-align: right;\">\n",
       "      <th></th>\n",
       "      <th>Name</th>\n",
       "    </tr>\n",
       "  </thead>\n",
       "  <tbody>\n",
       "    <tr>\n",
       "      <th>0</th>\n",
       "      <td>raju</td>\n",
       "    </tr>\n",
       "    <tr>\n",
       "      <th>1</th>\n",
       "      <td>kalyan</td>\n",
       "    </tr>\n",
       "    <tr>\n",
       "      <th>2</th>\n",
       "      <td>sunny</td>\n",
       "    </tr>\n",
       "    <tr>\n",
       "      <th>3</th>\n",
       "      <td>bunny</td>\n",
       "    </tr>\n",
       "    <tr>\n",
       "      <th>4</th>\n",
       "      <td>vinny</td>\n",
       "    </tr>\n",
       "  </tbody>\n",
       "</table>\n",
       "</div>"
      ],
      "text/plain": [
       "     Name\n",
       "0    raju\n",
       "1  kalyan\n",
       "2   sunny\n",
       "3   bunny\n",
       "4   vinny"
      ]
     },
     "execution_count": 240,
     "metadata": {},
     "output_type": "execute_result"
    }
   ],
   "source": [
    "df.drop(columns = [\"Age\", \"Marks\"], inplace = False) # it will return another data frame"
   ]
  },
  {
   "cell_type": "code",
   "execution_count": 241,
   "id": "e9b6d9d7",
   "metadata": {},
   "outputs": [
    {
     "data": {
      "text/html": [
       "<div>\n",
       "<style scoped>\n",
       "    .dataframe tbody tr th:only-of-type {\n",
       "        vertical-align: middle;\n",
       "    }\n",
       "\n",
       "    .dataframe tbody tr th {\n",
       "        vertical-align: top;\n",
       "    }\n",
       "\n",
       "    .dataframe thead th {\n",
       "        text-align: right;\n",
       "    }\n",
       "</style>\n",
       "<table border=\"1\" class=\"dataframe\">\n",
       "  <thead>\n",
       "    <tr style=\"text-align: right;\">\n",
       "      <th></th>\n",
       "      <th>Name</th>\n",
       "      <th>Age</th>\n",
       "      <th>Marks</th>\n",
       "    </tr>\n",
       "  </thead>\n",
       "  <tbody>\n",
       "    <tr>\n",
       "      <th>0</th>\n",
       "      <td>raju</td>\n",
       "      <td>30</td>\n",
       "      <td>99</td>\n",
       "    </tr>\n",
       "    <tr>\n",
       "      <th>1</th>\n",
       "      <td>kalyan</td>\n",
       "      <td>29</td>\n",
       "      <td>98</td>\n",
       "    </tr>\n",
       "    <tr>\n",
       "      <th>2</th>\n",
       "      <td>sunny</td>\n",
       "      <td>7</td>\n",
       "      <td>97</td>\n",
       "    </tr>\n",
       "    <tr>\n",
       "      <th>3</th>\n",
       "      <td>bunny</td>\n",
       "      <td>40</td>\n",
       "      <td>95</td>\n",
       "    </tr>\n",
       "    <tr>\n",
       "      <th>4</th>\n",
       "      <td>vinny</td>\n",
       "      <td>50</td>\n",
       "      <td>94</td>\n",
       "    </tr>\n",
       "  </tbody>\n",
       "</table>\n",
       "</div>"
      ],
      "text/plain": [
       "     Name  Age  Marks\n",
       "0    raju   30     99\n",
       "1  kalyan   29     98\n",
       "2   sunny    7     97\n",
       "3   bunny   40     95\n",
       "4   vinny   50     94"
      ]
     },
     "execution_count": 241,
     "metadata": {},
     "output_type": "execute_result"
    }
   ],
   "source": [
    "df"
   ]
  },
  {
   "cell_type": "markdown",
   "id": "11a5cd78",
   "metadata": {},
   "source": [
    "## Drop column by suppressing errors\n",
    "- By default, The DataFrame.drop()  throws KeyError if the column you are trying to delete does not exist in the dataset.\n",
    "\n",
    "- If we want to drop the column only if exists then we can suppress the error by using the parameter errors.\n",
    "\n",
    "- Set errors='ignore' to not throw any errors.\n",
    "- Set errors='raised' to throw KeyError for the unknown columns"
   ]
  },
  {
   "cell_type": "code",
   "execution_count": 242,
   "id": "7b1cc9bf",
   "metadata": {},
   "outputs": [
    {
     "name": "stdout",
     "output_type": "stream",
     "text": [
      "     Name  Age  Marks\n",
      "0    raju   30     99\n",
      "1  kalyan   29     98\n",
      "2   sunny    7     97\n",
      "3   bunny   40     95\n",
      "4   vinny   50     94\n"
     ]
    }
   ],
   "source": [
    "my_dict = {'Name': ['raju', 'kalyan', 'sunny', 'bunny', 'vinny'],\n",
    "          \"Age\": [30,29,7, 40, 50],\n",
    "          \"Marks\": [99, 98, 97, 95, 94]}\n",
    "df = pd.DataFrame(my_dict)\n",
    "print(df)"
   ]
  },
  {
   "cell_type": "code",
   "execution_count": 244,
   "id": "cf57665b",
   "metadata": {},
   "outputs": [],
   "source": [
    "#supres error\n",
    "\n",
    "df11 = df.drop(columns = 'salary', errors = 'ignore') # no change in df"
   ]
  },
  {
   "cell_type": "code",
   "execution_count": 245,
   "id": "b55fcb46",
   "metadata": {},
   "outputs": [
    {
     "data": {
      "text/html": [
       "<div>\n",
       "<style scoped>\n",
       "    .dataframe tbody tr th:only-of-type {\n",
       "        vertical-align: middle;\n",
       "    }\n",
       "\n",
       "    .dataframe tbody tr th {\n",
       "        vertical-align: top;\n",
       "    }\n",
       "\n",
       "    .dataframe thead th {\n",
       "        text-align: right;\n",
       "    }\n",
       "</style>\n",
       "<table border=\"1\" class=\"dataframe\">\n",
       "  <thead>\n",
       "    <tr style=\"text-align: right;\">\n",
       "      <th></th>\n",
       "      <th>Name</th>\n",
       "      <th>Age</th>\n",
       "      <th>Marks</th>\n",
       "    </tr>\n",
       "  </thead>\n",
       "  <tbody>\n",
       "    <tr>\n",
       "      <th>0</th>\n",
       "      <td>raju</td>\n",
       "      <td>30</td>\n",
       "      <td>99</td>\n",
       "    </tr>\n",
       "    <tr>\n",
       "      <th>1</th>\n",
       "      <td>kalyan</td>\n",
       "      <td>29</td>\n",
       "      <td>98</td>\n",
       "    </tr>\n",
       "    <tr>\n",
       "      <th>2</th>\n",
       "      <td>sunny</td>\n",
       "      <td>7</td>\n",
       "      <td>97</td>\n",
       "    </tr>\n",
       "    <tr>\n",
       "      <th>3</th>\n",
       "      <td>bunny</td>\n",
       "      <td>40</td>\n",
       "      <td>95</td>\n",
       "    </tr>\n",
       "    <tr>\n",
       "      <th>4</th>\n",
       "      <td>vinny</td>\n",
       "      <td>50</td>\n",
       "      <td>94</td>\n",
       "    </tr>\n",
       "  </tbody>\n",
       "</table>\n",
       "</div>"
      ],
      "text/plain": [
       "     Name  Age  Marks\n",
       "0    raju   30     99\n",
       "1  kalyan   29     98\n",
       "2   sunny    7     97\n",
       "3   bunny   40     95\n",
       "4   vinny   50     94"
      ]
     },
     "execution_count": 245,
     "metadata": {},
     "output_type": "execute_result"
    }
   ],
   "source": [
    "df11"
   ]
  },
  {
   "cell_type": "code",
   "execution_count": 246,
   "id": "5be15776",
   "metadata": {},
   "outputs": [
    {
     "ename": "KeyError",
     "evalue": "\"['salary'] not found in axis\"",
     "output_type": "error",
     "traceback": [
      "\u001b[1;31m---------------------------------------------------------------------------\u001b[0m",
      "\u001b[1;31mKeyError\u001b[0m                                  Traceback (most recent call last)",
      "\u001b[1;32mC:\\Users\\RAJU~1.GUL\\AppData\\Local\\Temp/ipykernel_2072/1197979616.py\u001b[0m in \u001b[0;36m<module>\u001b[1;34m\u001b[0m\n\u001b[1;32m----> 1\u001b[1;33m \u001b[0mdf22\u001b[0m \u001b[1;33m=\u001b[0m \u001b[0mdf\u001b[0m\u001b[1;33m.\u001b[0m\u001b[0mdrop\u001b[0m\u001b[1;33m(\u001b[0m\u001b[0mcolumns\u001b[0m \u001b[1;33m=\u001b[0m \u001b[1;34m'salary'\u001b[0m\u001b[1;33m,\u001b[0m \u001b[0merrors\u001b[0m \u001b[1;33m=\u001b[0m \u001b[1;34m'raised'\u001b[0m\u001b[1;33m)\u001b[0m\u001b[1;33m\u001b[0m\u001b[1;33m\u001b[0m\u001b[0m\n\u001b[0m",
      "\u001b[1;32m~\\Anaconda3\\lib\\site-packages\\pandas\\util\\_decorators.py\u001b[0m in \u001b[0;36mwrapper\u001b[1;34m(*args, **kwargs)\u001b[0m\n\u001b[0;32m    309\u001b[0m                     \u001b[0mstacklevel\u001b[0m\u001b[1;33m=\u001b[0m\u001b[0mstacklevel\u001b[0m\u001b[1;33m,\u001b[0m\u001b[1;33m\u001b[0m\u001b[1;33m\u001b[0m\u001b[0m\n\u001b[0;32m    310\u001b[0m                 )\n\u001b[1;32m--> 311\u001b[1;33m             \u001b[1;32mreturn\u001b[0m \u001b[0mfunc\u001b[0m\u001b[1;33m(\u001b[0m\u001b[1;33m*\u001b[0m\u001b[0margs\u001b[0m\u001b[1;33m,\u001b[0m \u001b[1;33m**\u001b[0m\u001b[0mkwargs\u001b[0m\u001b[1;33m)\u001b[0m\u001b[1;33m\u001b[0m\u001b[1;33m\u001b[0m\u001b[0m\n\u001b[0m\u001b[0;32m    312\u001b[0m \u001b[1;33m\u001b[0m\u001b[0m\n\u001b[0;32m    313\u001b[0m         \u001b[1;32mreturn\u001b[0m \u001b[0mwrapper\u001b[0m\u001b[1;33m\u001b[0m\u001b[1;33m\u001b[0m\u001b[0m\n",
      "\u001b[1;32m~\\Anaconda3\\lib\\site-packages\\pandas\\core\\frame.py\u001b[0m in \u001b[0;36mdrop\u001b[1;34m(self, labels, axis, index, columns, level, inplace, errors)\u001b[0m\n\u001b[0;32m   4904\u001b[0m                 \u001b[0mweight\u001b[0m  \u001b[1;36m1.0\u001b[0m     \u001b[1;36m0.8\u001b[0m\u001b[1;33m\u001b[0m\u001b[1;33m\u001b[0m\u001b[0m\n\u001b[0;32m   4905\u001b[0m         \"\"\"\n\u001b[1;32m-> 4906\u001b[1;33m         return super().drop(\n\u001b[0m\u001b[0;32m   4907\u001b[0m             \u001b[0mlabels\u001b[0m\u001b[1;33m=\u001b[0m\u001b[0mlabels\u001b[0m\u001b[1;33m,\u001b[0m\u001b[1;33m\u001b[0m\u001b[1;33m\u001b[0m\u001b[0m\n\u001b[0;32m   4908\u001b[0m             \u001b[0maxis\u001b[0m\u001b[1;33m=\u001b[0m\u001b[0maxis\u001b[0m\u001b[1;33m,\u001b[0m\u001b[1;33m\u001b[0m\u001b[1;33m\u001b[0m\u001b[0m\n",
      "\u001b[1;32m~\\Anaconda3\\lib\\site-packages\\pandas\\core\\generic.py\u001b[0m in \u001b[0;36mdrop\u001b[1;34m(self, labels, axis, index, columns, level, inplace, errors)\u001b[0m\n\u001b[0;32m   4148\u001b[0m         \u001b[1;32mfor\u001b[0m \u001b[0maxis\u001b[0m\u001b[1;33m,\u001b[0m \u001b[0mlabels\u001b[0m \u001b[1;32min\u001b[0m \u001b[0maxes\u001b[0m\u001b[1;33m.\u001b[0m\u001b[0mitems\u001b[0m\u001b[1;33m(\u001b[0m\u001b[1;33m)\u001b[0m\u001b[1;33m:\u001b[0m\u001b[1;33m\u001b[0m\u001b[1;33m\u001b[0m\u001b[0m\n\u001b[0;32m   4149\u001b[0m             \u001b[1;32mif\u001b[0m \u001b[0mlabels\u001b[0m \u001b[1;32mis\u001b[0m \u001b[1;32mnot\u001b[0m \u001b[1;32mNone\u001b[0m\u001b[1;33m:\u001b[0m\u001b[1;33m\u001b[0m\u001b[1;33m\u001b[0m\u001b[0m\n\u001b[1;32m-> 4150\u001b[1;33m                 \u001b[0mobj\u001b[0m \u001b[1;33m=\u001b[0m \u001b[0mobj\u001b[0m\u001b[1;33m.\u001b[0m\u001b[0m_drop_axis\u001b[0m\u001b[1;33m(\u001b[0m\u001b[0mlabels\u001b[0m\u001b[1;33m,\u001b[0m \u001b[0maxis\u001b[0m\u001b[1;33m,\u001b[0m \u001b[0mlevel\u001b[0m\u001b[1;33m=\u001b[0m\u001b[0mlevel\u001b[0m\u001b[1;33m,\u001b[0m \u001b[0merrors\u001b[0m\u001b[1;33m=\u001b[0m\u001b[0merrors\u001b[0m\u001b[1;33m)\u001b[0m\u001b[1;33m\u001b[0m\u001b[1;33m\u001b[0m\u001b[0m\n\u001b[0m\u001b[0;32m   4151\u001b[0m \u001b[1;33m\u001b[0m\u001b[0m\n\u001b[0;32m   4152\u001b[0m         \u001b[1;32mif\u001b[0m \u001b[0minplace\u001b[0m\u001b[1;33m:\u001b[0m\u001b[1;33m\u001b[0m\u001b[1;33m\u001b[0m\u001b[0m\n",
      "\u001b[1;32m~\\Anaconda3\\lib\\site-packages\\pandas\\core\\generic.py\u001b[0m in \u001b[0;36m_drop_axis\u001b[1;34m(self, labels, axis, level, errors)\u001b[0m\n\u001b[0;32m   4183\u001b[0m                 \u001b[0mnew_axis\u001b[0m \u001b[1;33m=\u001b[0m \u001b[0maxis\u001b[0m\u001b[1;33m.\u001b[0m\u001b[0mdrop\u001b[0m\u001b[1;33m(\u001b[0m\u001b[0mlabels\u001b[0m\u001b[1;33m,\u001b[0m \u001b[0mlevel\u001b[0m\u001b[1;33m=\u001b[0m\u001b[0mlevel\u001b[0m\u001b[1;33m,\u001b[0m \u001b[0merrors\u001b[0m\u001b[1;33m=\u001b[0m\u001b[0merrors\u001b[0m\u001b[1;33m)\u001b[0m\u001b[1;33m\u001b[0m\u001b[1;33m\u001b[0m\u001b[0m\n\u001b[0;32m   4184\u001b[0m             \u001b[1;32melse\u001b[0m\u001b[1;33m:\u001b[0m\u001b[1;33m\u001b[0m\u001b[1;33m\u001b[0m\u001b[0m\n\u001b[1;32m-> 4185\u001b[1;33m                 \u001b[0mnew_axis\u001b[0m \u001b[1;33m=\u001b[0m \u001b[0maxis\u001b[0m\u001b[1;33m.\u001b[0m\u001b[0mdrop\u001b[0m\u001b[1;33m(\u001b[0m\u001b[0mlabels\u001b[0m\u001b[1;33m,\u001b[0m \u001b[0merrors\u001b[0m\u001b[1;33m=\u001b[0m\u001b[0merrors\u001b[0m\u001b[1;33m)\u001b[0m\u001b[1;33m\u001b[0m\u001b[1;33m\u001b[0m\u001b[0m\n\u001b[0m\u001b[0;32m   4186\u001b[0m             \u001b[0mresult\u001b[0m \u001b[1;33m=\u001b[0m \u001b[0mself\u001b[0m\u001b[1;33m.\u001b[0m\u001b[0mreindex\u001b[0m\u001b[1;33m(\u001b[0m\u001b[1;33m**\u001b[0m\u001b[1;33m{\u001b[0m\u001b[0maxis_name\u001b[0m\u001b[1;33m:\u001b[0m \u001b[0mnew_axis\u001b[0m\u001b[1;33m}\u001b[0m\u001b[1;33m)\u001b[0m\u001b[1;33m\u001b[0m\u001b[1;33m\u001b[0m\u001b[0m\n\u001b[0;32m   4187\u001b[0m \u001b[1;33m\u001b[0m\u001b[0m\n",
      "\u001b[1;32m~\\Anaconda3\\lib\\site-packages\\pandas\\core\\indexes\\base.py\u001b[0m in \u001b[0;36mdrop\u001b[1;34m(self, labels, errors)\u001b[0m\n\u001b[0;32m   6015\u001b[0m         \u001b[1;32mif\u001b[0m \u001b[0mmask\u001b[0m\u001b[1;33m.\u001b[0m\u001b[0many\u001b[0m\u001b[1;33m(\u001b[0m\u001b[1;33m)\u001b[0m\u001b[1;33m:\u001b[0m\u001b[1;33m\u001b[0m\u001b[1;33m\u001b[0m\u001b[0m\n\u001b[0;32m   6016\u001b[0m             \u001b[1;32mif\u001b[0m \u001b[0merrors\u001b[0m \u001b[1;33m!=\u001b[0m \u001b[1;34m\"ignore\"\u001b[0m\u001b[1;33m:\u001b[0m\u001b[1;33m\u001b[0m\u001b[1;33m\u001b[0m\u001b[0m\n\u001b[1;32m-> 6017\u001b[1;33m                 \u001b[1;32mraise\u001b[0m \u001b[0mKeyError\u001b[0m\u001b[1;33m(\u001b[0m\u001b[1;34mf\"{labels[mask]} not found in axis\"\u001b[0m\u001b[1;33m)\u001b[0m\u001b[1;33m\u001b[0m\u001b[1;33m\u001b[0m\u001b[0m\n\u001b[0m\u001b[0;32m   6018\u001b[0m             \u001b[0mindexer\u001b[0m \u001b[1;33m=\u001b[0m \u001b[0mindexer\u001b[0m\u001b[1;33m[\u001b[0m\u001b[1;33m~\u001b[0m\u001b[0mmask\u001b[0m\u001b[1;33m]\u001b[0m\u001b[1;33m\u001b[0m\u001b[1;33m\u001b[0m\u001b[0m\n\u001b[0;32m   6019\u001b[0m         \u001b[1;32mreturn\u001b[0m \u001b[0mself\u001b[0m\u001b[1;33m.\u001b[0m\u001b[0mdelete\u001b[0m\u001b[1;33m(\u001b[0m\u001b[0mindexer\u001b[0m\u001b[1;33m)\u001b[0m\u001b[1;33m\u001b[0m\u001b[1;33m\u001b[0m\u001b[0m\n",
      "\u001b[1;31mKeyError\u001b[0m: \"['salary'] not found in axis\""
     ]
    }
   ],
   "source": [
    "df22 = df.drop(columns = 'salary', errors = 'raised')"
   ]
  },
  {
   "cell_type": "markdown",
   "id": "919a497b",
   "metadata": {},
   "source": [
    "## Drop column by index position\n",
    "- If there is a case where we want to drop columns in the DataFrame, but we do not know the name of the columns still we can delete the column using its index position.\n",
    "\n",
    "- Note: Column index starts from 0 (zero) and it goes till the last column whose index value will be len(df.columns)-1 .\n",
    "\n",
    "## Drop the last column\n",
    "- Assume you want to drop the first column or the last column of the DataFrame without using the column name.\n",
    "\n",
    "- In such cases, use the DataFrame.columns attribute to delete a column of the DataFrame based on its index position. Simply pass df.columns[index] to the columns parameter of the DataFrame.drop().\n",
    "\n",
    "## Example\n",
    "\n",
    "- In the below example, we are dropping the last column of the DataFrame using  df.columns[last_index]."
   ]
  },
  {
   "cell_type": "code",
   "execution_count": 247,
   "id": "cfd4a944",
   "metadata": {},
   "outputs": [
    {
     "name": "stdout",
     "output_type": "stream",
     "text": [
      "     Name  Age  Marks\n",
      "0    raju   30     99\n",
      "1  kalyan   29     98\n",
      "2   sunny    7     97\n",
      "3   bunny   40     95\n",
      "4   vinny   50     94\n"
     ]
    }
   ],
   "source": [
    "my_dict = {'Name': ['raju', 'kalyan', 'sunny', 'bunny', 'vinny'],\n",
    "          \"Age\": [30,29,7, 40, 50],\n",
    "          \"Marks\": [99, 98, 97, 95, 94]}\n",
    "df = pd.DataFrame(my_dict)\n",
    "print(df)"
   ]
  },
  {
   "cell_type": "code",
   "execution_count": 248,
   "id": "64faab36",
   "metadata": {},
   "outputs": [],
   "source": [
    "#find the position of last column and drop\n",
    "\n",
    "pos = len(df.columns)-1"
   ]
  },
  {
   "cell_type": "code",
   "execution_count": 249,
   "id": "f06648b1",
   "metadata": {},
   "outputs": [
    {
     "data": {
      "text/plain": [
       "2"
      ]
     },
     "execution_count": 249,
     "metadata": {},
     "output_type": "execute_result"
    }
   ],
   "source": [
    "pos"
   ]
  },
  {
   "cell_type": "code",
   "execution_count": 251,
   "id": "a03cf315",
   "metadata": {},
   "outputs": [],
   "source": [
    "df44 = df.drop(columns = df.columns[pos])"
   ]
  },
  {
   "cell_type": "code",
   "execution_count": 252,
   "id": "23efdfa0",
   "metadata": {},
   "outputs": [
    {
     "data": {
      "text/html": [
       "<div>\n",
       "<style scoped>\n",
       "    .dataframe tbody tr th:only-of-type {\n",
       "        vertical-align: middle;\n",
       "    }\n",
       "\n",
       "    .dataframe tbody tr th {\n",
       "        vertical-align: top;\n",
       "    }\n",
       "\n",
       "    .dataframe thead th {\n",
       "        text-align: right;\n",
       "    }\n",
       "</style>\n",
       "<table border=\"1\" class=\"dataframe\">\n",
       "  <thead>\n",
       "    <tr style=\"text-align: right;\">\n",
       "      <th></th>\n",
       "      <th>Name</th>\n",
       "      <th>Age</th>\n",
       "    </tr>\n",
       "  </thead>\n",
       "  <tbody>\n",
       "    <tr>\n",
       "      <th>0</th>\n",
       "      <td>raju</td>\n",
       "      <td>30</td>\n",
       "    </tr>\n",
       "    <tr>\n",
       "      <th>1</th>\n",
       "      <td>kalyan</td>\n",
       "      <td>29</td>\n",
       "    </tr>\n",
       "    <tr>\n",
       "      <th>2</th>\n",
       "      <td>sunny</td>\n",
       "      <td>7</td>\n",
       "    </tr>\n",
       "    <tr>\n",
       "      <th>3</th>\n",
       "      <td>bunny</td>\n",
       "      <td>40</td>\n",
       "    </tr>\n",
       "    <tr>\n",
       "      <th>4</th>\n",
       "      <td>vinny</td>\n",
       "      <td>50</td>\n",
       "    </tr>\n",
       "  </tbody>\n",
       "</table>\n",
       "</div>"
      ],
      "text/plain": [
       "     Name  Age\n",
       "0    raju   30\n",
       "1  kalyan   29\n",
       "2   sunny    7\n",
       "3   bunny   40\n",
       "4   vinny   50"
      ]
     },
     "execution_count": 252,
     "metadata": {},
     "output_type": "execute_result"
    }
   ],
   "source": [
    "df44"
   ]
  },
  {
   "cell_type": "code",
   "execution_count": 253,
   "id": "afe9d2e9",
   "metadata": {},
   "outputs": [
    {
     "data": {
      "text/html": [
       "<div>\n",
       "<style scoped>\n",
       "    .dataframe tbody tr th:only-of-type {\n",
       "        vertical-align: middle;\n",
       "    }\n",
       "\n",
       "    .dataframe tbody tr th {\n",
       "        vertical-align: top;\n",
       "    }\n",
       "\n",
       "    .dataframe thead th {\n",
       "        text-align: right;\n",
       "    }\n",
       "</style>\n",
       "<table border=\"1\" class=\"dataframe\">\n",
       "  <thead>\n",
       "    <tr style=\"text-align: right;\">\n",
       "      <th></th>\n",
       "      <th>Name</th>\n",
       "      <th>Age</th>\n",
       "      <th>Marks</th>\n",
       "    </tr>\n",
       "  </thead>\n",
       "  <tbody>\n",
       "    <tr>\n",
       "      <th>0</th>\n",
       "      <td>raju</td>\n",
       "      <td>30</td>\n",
       "      <td>99</td>\n",
       "    </tr>\n",
       "    <tr>\n",
       "      <th>1</th>\n",
       "      <td>kalyan</td>\n",
       "      <td>29</td>\n",
       "      <td>98</td>\n",
       "    </tr>\n",
       "    <tr>\n",
       "      <th>2</th>\n",
       "      <td>sunny</td>\n",
       "      <td>7</td>\n",
       "      <td>97</td>\n",
       "    </tr>\n",
       "    <tr>\n",
       "      <th>3</th>\n",
       "      <td>bunny</td>\n",
       "      <td>40</td>\n",
       "      <td>95</td>\n",
       "    </tr>\n",
       "    <tr>\n",
       "      <th>4</th>\n",
       "      <td>vinny</td>\n",
       "      <td>50</td>\n",
       "      <td>94</td>\n",
       "    </tr>\n",
       "  </tbody>\n",
       "</table>\n",
       "</div>"
      ],
      "text/plain": [
       "     Name  Age  Marks\n",
       "0    raju   30     99\n",
       "1  kalyan   29     98\n",
       "2   sunny    7     97\n",
       "3   bunny   40     95\n",
       "4   vinny   50     94"
      ]
     },
     "execution_count": 253,
     "metadata": {},
     "output_type": "execute_result"
    }
   ],
   "source": [
    "df"
   ]
  },
  {
   "cell_type": "code",
   "execution_count": 254,
   "id": "ac411b8e",
   "metadata": {},
   "outputs": [
    {
     "data": {
      "text/html": [
       "<div>\n",
       "<style scoped>\n",
       "    .dataframe tbody tr th:only-of-type {\n",
       "        vertical-align: middle;\n",
       "    }\n",
       "\n",
       "    .dataframe tbody tr th {\n",
       "        vertical-align: top;\n",
       "    }\n",
       "\n",
       "    .dataframe thead th {\n",
       "        text-align: right;\n",
       "    }\n",
       "</style>\n",
       "<table border=\"1\" class=\"dataframe\">\n",
       "  <thead>\n",
       "    <tr style=\"text-align: right;\">\n",
       "      <th></th>\n",
       "      <th>Name</th>\n",
       "      <th>Marks</th>\n",
       "    </tr>\n",
       "  </thead>\n",
       "  <tbody>\n",
       "    <tr>\n",
       "      <th>0</th>\n",
       "      <td>raju</td>\n",
       "      <td>99</td>\n",
       "    </tr>\n",
       "    <tr>\n",
       "      <th>1</th>\n",
       "      <td>kalyan</td>\n",
       "      <td>98</td>\n",
       "    </tr>\n",
       "    <tr>\n",
       "      <th>2</th>\n",
       "      <td>sunny</td>\n",
       "      <td>97</td>\n",
       "    </tr>\n",
       "    <tr>\n",
       "      <th>3</th>\n",
       "      <td>bunny</td>\n",
       "      <td>95</td>\n",
       "    </tr>\n",
       "    <tr>\n",
       "      <th>4</th>\n",
       "      <td>vinny</td>\n",
       "      <td>94</td>\n",
       "    </tr>\n",
       "  </tbody>\n",
       "</table>\n",
       "</div>"
      ],
      "text/plain": [
       "     Name  Marks\n",
       "0    raju     99\n",
       "1  kalyan     98\n",
       "2   sunny     97\n",
       "3   bunny     95\n",
       "4   vinny     94"
      ]
     },
     "execution_count": 254,
     "metadata": {},
     "output_type": "execute_result"
    }
   ],
   "source": [
    "#delete column present at index 1\n",
    "\n",
    "df.drop(columns = df.columns[1])"
   ]
  },
  {
   "cell_type": "code",
   "execution_count": 255,
   "id": "d7d51de3",
   "metadata": {},
   "outputs": [
    {
     "data": {
      "text/html": [
       "<div>\n",
       "<style scoped>\n",
       "    .dataframe tbody tr th:only-of-type {\n",
       "        vertical-align: middle;\n",
       "    }\n",
       "\n",
       "    .dataframe tbody tr th {\n",
       "        vertical-align: top;\n",
       "    }\n",
       "\n",
       "    .dataframe thead th {\n",
       "        text-align: right;\n",
       "    }\n",
       "</style>\n",
       "<table border=\"1\" class=\"dataframe\">\n",
       "  <thead>\n",
       "    <tr style=\"text-align: right;\">\n",
       "      <th></th>\n",
       "      <th>Name</th>\n",
       "      <th>Age</th>\n",
       "    </tr>\n",
       "  </thead>\n",
       "  <tbody>\n",
       "    <tr>\n",
       "      <th>0</th>\n",
       "      <td>raju</td>\n",
       "      <td>30</td>\n",
       "    </tr>\n",
       "    <tr>\n",
       "      <th>1</th>\n",
       "      <td>kalyan</td>\n",
       "      <td>29</td>\n",
       "    </tr>\n",
       "    <tr>\n",
       "      <th>2</th>\n",
       "      <td>sunny</td>\n",
       "      <td>7</td>\n",
       "    </tr>\n",
       "    <tr>\n",
       "      <th>3</th>\n",
       "      <td>bunny</td>\n",
       "      <td>40</td>\n",
       "    </tr>\n",
       "    <tr>\n",
       "      <th>4</th>\n",
       "      <td>vinny</td>\n",
       "      <td>50</td>\n",
       "    </tr>\n",
       "  </tbody>\n",
       "</table>\n",
       "</div>"
      ],
      "text/plain": [
       "     Name  Age\n",
       "0    raju   30\n",
       "1  kalyan   29\n",
       "2   sunny    7\n",
       "3   bunny   40\n",
       "4   vinny   50"
      ]
     },
     "execution_count": 255,
     "metadata": {},
     "output_type": "execute_result"
    }
   ],
   "source": [
    "df.drop(columns = df.columns[2])"
   ]
  },
  {
   "cell_type": "markdown",
   "id": "ee483f85",
   "metadata": {},
   "source": [
    "## Drop range of columns using iloc\n",
    "- There could be a case when we need to delete the fourth column from the dataset or need to delete a range of columns. We can use DataFrame.iloc to select single or multiple columns from the DataFrame.\n",
    "\n",
    "- We can use DataFrame.iloc in the columns parameter to specify the index position of the columns which need to drop."
   ]
  },
  {
   "cell_type": "code",
   "execution_count": 256,
   "id": "8458420a",
   "metadata": {},
   "outputs": [
    {
     "name": "stdout",
     "output_type": "stream",
     "text": [
      "     Name  Age  Marks\n",
      "0    raju   30     99\n",
      "1  kalyan   29     98\n",
      "2   sunny    7     97\n",
      "3   bunny   40     95\n",
      "4   vinny   50     94\n"
     ]
    }
   ],
   "source": [
    "#Example\n",
    "\n",
    "#Let’s see how we can drop the range of the columns based on the index position. In the below example, we are dropping columns from index position 1 to 3 (exclusive).\n",
    "\n",
    "my_dict = {'Name': ['raju', 'kalyan', 'sunny', 'bunny', 'vinny'],\n",
    "          \"Age\": [30,29,7, 40, 50],\n",
    "          \"Marks\": [99, 98, 97, 95, 94]}\n",
    "df = pd.DataFrame(my_dict)\n",
    "print(df)\n",
    "\n"
   ]
  },
  {
   "cell_type": "code",
   "execution_count": 257,
   "id": "b61ee307",
   "metadata": {},
   "outputs": [
    {
     "data": {
      "text/plain": [
       "array(['Name', 'Age', 'Marks'], dtype=object)"
      ]
     },
     "execution_count": 257,
     "metadata": {},
     "output_type": "execute_result"
    }
   ],
   "source": [
    "df.columns.values"
   ]
  },
  {
   "cell_type": "code",
   "execution_count": 258,
   "id": "b3b26658",
   "metadata": {},
   "outputs": [],
   "source": [
    "#drop column from 1 to 3\n",
    "\n",
    "df1 = df.drop(columns = df.iloc[:, 1:3])\n"
   ]
  },
  {
   "cell_type": "code",
   "execution_count": 259,
   "id": "80024c99",
   "metadata": {},
   "outputs": [
    {
     "data": {
      "text/html": [
       "<div>\n",
       "<style scoped>\n",
       "    .dataframe tbody tr th:only-of-type {\n",
       "        vertical-align: middle;\n",
       "    }\n",
       "\n",
       "    .dataframe tbody tr th {\n",
       "        vertical-align: top;\n",
       "    }\n",
       "\n",
       "    .dataframe thead th {\n",
       "        text-align: right;\n",
       "    }\n",
       "</style>\n",
       "<table border=\"1\" class=\"dataframe\">\n",
       "  <thead>\n",
       "    <tr style=\"text-align: right;\">\n",
       "      <th></th>\n",
       "      <th>Name</th>\n",
       "    </tr>\n",
       "  </thead>\n",
       "  <tbody>\n",
       "    <tr>\n",
       "      <th>0</th>\n",
       "      <td>raju</td>\n",
       "    </tr>\n",
       "    <tr>\n",
       "      <th>1</th>\n",
       "      <td>kalyan</td>\n",
       "    </tr>\n",
       "    <tr>\n",
       "      <th>2</th>\n",
       "      <td>sunny</td>\n",
       "    </tr>\n",
       "    <tr>\n",
       "      <th>3</th>\n",
       "      <td>bunny</td>\n",
       "    </tr>\n",
       "    <tr>\n",
       "      <th>4</th>\n",
       "      <td>vinny</td>\n",
       "    </tr>\n",
       "  </tbody>\n",
       "</table>\n",
       "</div>"
      ],
      "text/plain": [
       "     Name\n",
       "0    raju\n",
       "1  kalyan\n",
       "2   sunny\n",
       "3   bunny\n",
       "4   vinny"
      ]
     },
     "execution_count": 259,
     "metadata": {},
     "output_type": "execute_result"
    }
   ],
   "source": [
    "df1"
   ]
  },
  {
   "cell_type": "code",
   "execution_count": 262,
   "id": "b2bd4784",
   "metadata": {},
   "outputs": [
    {
     "data": {
      "text/plain": [
       "array(['Name'], dtype=object)"
      ]
     },
     "execution_count": 262,
     "metadata": {},
     "output_type": "execute_result"
    }
   ],
   "source": [
    "df1.columns.values"
   ]
  },
  {
   "cell_type": "markdown",
   "id": "86704f64",
   "metadata": {},
   "source": [
    "## Drop first n columns\n",
    "- If we need to delete the first ‘n’ columns from a DataFrame, we can use DataFrame.iloc and the Python range() function to specify the columns’ range to be deleted.\n",
    "\n",
    "- We need to use the built-in function range() with columns parameter of DataFrame.drop()."
   ]
  },
  {
   "cell_type": "code",
   "execution_count": 274,
   "id": "fd4e7e73",
   "metadata": {},
   "outputs": [
    {
     "name": "stdout",
     "output_type": "stream",
     "text": [
      "     Name  Age  Marks class city\n",
      "0    raju   30     99     A  hyd\n",
      "1  kalyan   29     98     A  hyd\n",
      "2   sunny    7     97     A  hyd\n",
      "3   bunny   40     95     A  hyd\n",
      "4   vinny   50     94     A  hyd\n"
     ]
    }
   ],
   "source": [
    "my_dict = {'Name': ['raju', 'kalyan', 'sunny', 'bunny', 'vinny'],\n",
    "          \"Age\": [30,29,7, 40, 50],\n",
    "          \"Marks\": [99, 98, 97, 95, 94],\n",
    "          'class': [\"A\", 'A', 'A', 'A', 'A'],\n",
    "         'city': ['hyd', 'hyd', 'hyd', 'hyd', 'hyd']}\n",
    "df44 = pd.DataFrame(my_dict)\n",
    "print(df44)\n",
    "\n"
   ]
  },
  {
   "cell_type": "code",
   "execution_count": 275,
   "id": "a4b2023d",
   "metadata": {},
   "outputs": [
    {
     "data": {
      "text/plain": [
       "array(['Name', 'Age', 'Marks', 'class', 'city'], dtype=object)"
      ]
     },
     "execution_count": 275,
     "metadata": {},
     "output_type": "execute_result"
    }
   ],
   "source": [
    "df44.columns.values"
   ]
  },
  {
   "cell_type": "code",
   "execution_count": 281,
   "id": "1a4a18c8",
   "metadata": {},
   "outputs": [
    {
     "name": "stdout",
     "output_type": "stream",
     "text": [
      "   Marks class city\n",
      "0     99     A  hyd\n",
      "1     98     A  hyd\n",
      "2     97     A  hyd\n",
      "3     95     A  hyd\n",
      "4     94     A  hyd\n"
     ]
    }
   ],
   "source": [
    "#drop column 1 and 2\n",
    "\n",
    "df2 = df44.drop(columns = df44.iloc[:, range(2)])\n",
    "print(df2)\n"
   ]
  },
  {
   "cell_type": "code",
   "execution_count": 282,
   "id": "562bf4c9",
   "metadata": {},
   "outputs": [
    {
     "data": {
      "text/plain": [
       "array(['Marks', 'class', 'city'], dtype=object)"
      ]
     },
     "execution_count": 282,
     "metadata": {},
     "output_type": "execute_result"
    }
   ],
   "source": [
    "df2.columns.values"
   ]
  },
  {
   "cell_type": "markdown",
   "id": "fe7ee187",
   "metadata": {},
   "source": [
    "## Drop column from multi-index DataFrame\n",
    "- DataFrame can have multiple column headers, such DataFrame is called a multi-index DataFrame. Such headers are divided into the levels where the first header is at level 0, the second header is at level 1, and so on.\n",
    "\n",
    "- We can drop a column from any level of multi-index DataFrame. By default, it drops columns from all the levels, but we can use a parameter level to drop from a particular level only.\n",
    "\n",
    "- We need to pass a level name or level index as level=level_index."
   ]
  },
  {
   "cell_type": "code",
   "execution_count": 284,
   "id": "82625fb1",
   "metadata": {},
   "outputs": [
    {
     "name": "stdout",
     "output_type": "stream",
     "text": [
      "  Class A Class B\n",
      "     Name    Name\n",
      "0     Joe     Nat\n",
      "1   Harry     Sam\n"
     ]
    }
   ],
   "source": [
    "# drop column\n",
    "student_df = student_df.drop(columns=['Marks'], level=1)\n",
    "print(student_df)"
   ]
  },
  {
   "cell_type": "code",
   "execution_count": 285,
   "id": "08d56fb3",
   "metadata": {},
   "outputs": [],
   "source": [
    "#create a column header\n",
    "\n",
    "col = pd.MultiIndex.from_arrays([['Class A', 'Class A', 'Class B', 'Class B'], ['Name', 'Marks', 'Name', 'Marks']])"
   ]
  },
  {
   "cell_type": "code",
   "execution_count": 286,
   "id": "8f0a4b3b",
   "metadata": {},
   "outputs": [
    {
     "name": "stdout",
     "output_type": "stream",
     "text": [
      "  Class A       Class B      \n",
      "     Name Marks    Name Marks\n",
      "0    raju    99  kalyan    98\n",
      "1   sunny    97   bunny    95\n"
     ]
    }
   ],
   "source": [
    "#create a data frame from 2d array\n",
    "df = pd.DataFrame([['raju', '99', 'kalyan', '98'], ['sunny', '97', 'bunny', '95']], columns = col)\n",
    "print(df)"
   ]
  },
  {
   "cell_type": "code",
   "execution_count": 288,
   "id": "076e4346",
   "metadata": {},
   "outputs": [],
   "source": [
    "#drop column\n",
    "df9 = df.drop(columns = ['Marks'], level = 1)"
   ]
  },
  {
   "cell_type": "code",
   "execution_count": 289,
   "id": "600f87bf",
   "metadata": {},
   "outputs": [
    {
     "data": {
      "text/html": [
       "<div>\n",
       "<style scoped>\n",
       "    .dataframe tbody tr th:only-of-type {\n",
       "        vertical-align: middle;\n",
       "    }\n",
       "\n",
       "    .dataframe tbody tr th {\n",
       "        vertical-align: top;\n",
       "    }\n",
       "\n",
       "    .dataframe thead tr th {\n",
       "        text-align: left;\n",
       "    }\n",
       "</style>\n",
       "<table border=\"1\" class=\"dataframe\">\n",
       "  <thead>\n",
       "    <tr>\n",
       "      <th></th>\n",
       "      <th>Class A</th>\n",
       "      <th>Class B</th>\n",
       "    </tr>\n",
       "    <tr>\n",
       "      <th></th>\n",
       "      <th>Name</th>\n",
       "      <th>Name</th>\n",
       "    </tr>\n",
       "  </thead>\n",
       "  <tbody>\n",
       "    <tr>\n",
       "      <th>0</th>\n",
       "      <td>raju</td>\n",
       "      <td>kalyan</td>\n",
       "    </tr>\n",
       "    <tr>\n",
       "      <th>1</th>\n",
       "      <td>sunny</td>\n",
       "      <td>bunny</td>\n",
       "    </tr>\n",
       "  </tbody>\n",
       "</table>\n",
       "</div>"
      ],
      "text/plain": [
       "  Class A Class B\n",
       "     Name    Name\n",
       "0    raju  kalyan\n",
       "1   sunny   bunny"
      ]
     },
     "execution_count": 289,
     "metadata": {},
     "output_type": "execute_result"
    }
   ],
   "source": [
    "df9"
   ]
  },
  {
   "cell_type": "markdown",
   "id": "176d4c11",
   "metadata": {},
   "source": [
    "## Drop column using a function\n",
    "- We can also use the function to delete columns by applying some logic or based on some condition. We can use built-in as well as user-defined functions to drop columns.\n",
    "\n",
    "- Drop all the columns using loc\n",
    "- If we want to drop all the columns from DataFrame we can easily do that using DataFrame.loc in the columns parameter of DataFrame.drop().\n",
    "\n",
    "- DataFrame.loc is used to specify the column labels which need to delete.  If we do not specify any column labels like df.loc[:] then it will drop all the columns in the DataFrame."
   ]
  },
  {
   "cell_type": "code",
   "execution_count": 291,
   "id": "f4b94915",
   "metadata": {},
   "outputs": [
    {
     "name": "stdout",
     "output_type": "stream",
     "text": [
      "     name  age  marks\n",
      "0    raju   30     99\n",
      "1  kalyan   29     98\n"
     ]
    }
   ],
   "source": [
    "my_dict = {'name': ['raju', 'kalyan'], 'age': [30,29], 'marks': [99,98]}\n",
    "df = pd.DataFrame(my_dict)\n",
    "print(df)"
   ]
  },
  {
   "cell_type": "code",
   "execution_count": 293,
   "id": "9f091ad6",
   "metadata": {},
   "outputs": [
    {
     "name": "stdout",
     "output_type": "stream",
     "text": [
      "Empty DataFrame\n",
      "Columns: []\n",
      "Index: [0, 1]\n"
     ]
    }
   ],
   "source": [
    "df7 = df.drop(columns = df.loc[:])\n",
    "print(df7)"
   ]
  },
  {
   "cell_type": "markdown",
   "id": "7fe54d81",
   "metadata": {},
   "source": [
    "## Drop column using pandas DataFrame.pop() function\n",
    "- If we want to delete a single column then we can also do that using DataFrame.pop(col_label) function. We need to pass a column label that needs to delete.\n",
    "\n",
    "- It removes the column in-place by updating the existing DataFrame. It raises KeyError if the column is not found.\n",
    "\n",
    "- Note: It can be used to drop a column only. It cannot drop multiple columns or row(s)."
   ]
  },
  {
   "cell_type": "code",
   "execution_count": 294,
   "id": "5fa54d24",
   "metadata": {},
   "outputs": [
    {
     "name": "stdout",
     "output_type": "stream",
     "text": [
      "     name  age  marks\n",
      "0    raju   30     99\n",
      "1  kalyan   29     98\n"
     ]
    }
   ],
   "source": [
    "my_dict = {'name': ['raju', 'kalyan'], 'age': [30,29], 'marks': [99,98]}\n",
    "df = pd.DataFrame(my_dict)\n",
    "print(df)"
   ]
  },
  {
   "cell_type": "code",
   "execution_count": 298,
   "id": "0ac700d6",
   "metadata": {},
   "outputs": [],
   "source": [
    "#drop column\n",
    "df.pop('age')\n"
   ]
  },
  {
   "cell_type": "code",
   "execution_count": 300,
   "id": "76e2a324",
   "metadata": {},
   "outputs": [
    {
     "data": {
      "text/html": [
       "<div>\n",
       "<style scoped>\n",
       "    .dataframe tbody tr th:only-of-type {\n",
       "        vertical-align: middle;\n",
       "    }\n",
       "\n",
       "    .dataframe tbody tr th {\n",
       "        vertical-align: top;\n",
       "    }\n",
       "\n",
       "    .dataframe thead th {\n",
       "        text-align: right;\n",
       "    }\n",
       "</style>\n",
       "<table border=\"1\" class=\"dataframe\">\n",
       "  <thead>\n",
       "    <tr style=\"text-align: right;\">\n",
       "      <th></th>\n",
       "      <th>name</th>\n",
       "      <th>marks</th>\n",
       "    </tr>\n",
       "  </thead>\n",
       "  <tbody>\n",
       "    <tr>\n",
       "      <th>0</th>\n",
       "      <td>raju</td>\n",
       "      <td>99</td>\n",
       "    </tr>\n",
       "    <tr>\n",
       "      <th>1</th>\n",
       "      <td>kalyan</td>\n",
       "      <td>98</td>\n",
       "    </tr>\n",
       "  </tbody>\n",
       "</table>\n",
       "</div>"
      ],
      "text/plain": [
       "     name  marks\n",
       "0    raju     99\n",
       "1  kalyan     98"
      ]
     },
     "execution_count": 300,
     "metadata": {},
     "output_type": "execute_result"
    }
   ],
   "source": [
    "df"
   ]
  },
  {
   "cell_type": "markdown",
   "id": "f2f4a25a",
   "metadata": {},
   "source": [
    "## Drop column using pandas DataFrame delete\n",
    "- We can also use the pandas inbuilt function del to drop a single column from a DataFrame. It is a very simplified way of dropping the column from a DataFrame.\n",
    "\n",
    "- We need to select the column of DataFrame which needs to be deleted and pass it as  del df[col_label].\n",
    "\n",
    "- Note: It can be used to drop a column only. It cannot drop multiple columns or row(s)."
   ]
  },
  {
   "cell_type": "code",
   "execution_count": 301,
   "id": "e5f152a8",
   "metadata": {},
   "outputs": [
    {
     "name": "stdout",
     "output_type": "stream",
     "text": [
      "     name  age  marks\n",
      "0    raju   30     99\n",
      "1  kalyan   29     98\n"
     ]
    }
   ],
   "source": [
    "my_dict = {'name': ['raju', 'kalyan'], 'age': [30,29], 'marks': [99,98]}\n",
    "df = pd.DataFrame(my_dict)\n",
    "print(df)"
   ]
  },
  {
   "cell_type": "code",
   "execution_count": 302,
   "id": "9c0554a2",
   "metadata": {},
   "outputs": [],
   "source": [
    "#drop column\n",
    "\n",
    "del df['age']"
   ]
  },
  {
   "cell_type": "code",
   "execution_count": 303,
   "id": "01703908",
   "metadata": {},
   "outputs": [
    {
     "data": {
      "text/html": [
       "<div>\n",
       "<style scoped>\n",
       "    .dataframe tbody tr th:only-of-type {\n",
       "        vertical-align: middle;\n",
       "    }\n",
       "\n",
       "    .dataframe tbody tr th {\n",
       "        vertical-align: top;\n",
       "    }\n",
       "\n",
       "    .dataframe thead th {\n",
       "        text-align: right;\n",
       "    }\n",
       "</style>\n",
       "<table border=\"1\" class=\"dataframe\">\n",
       "  <thead>\n",
       "    <tr style=\"text-align: right;\">\n",
       "      <th></th>\n",
       "      <th>name</th>\n",
       "      <th>marks</th>\n",
       "    </tr>\n",
       "  </thead>\n",
       "  <tbody>\n",
       "    <tr>\n",
       "      <th>0</th>\n",
       "      <td>raju</td>\n",
       "      <td>99</td>\n",
       "    </tr>\n",
       "    <tr>\n",
       "      <th>1</th>\n",
       "      <td>kalyan</td>\n",
       "      <td>98</td>\n",
       "    </tr>\n",
       "  </tbody>\n",
       "</table>\n",
       "</div>"
      ],
      "text/plain": [
       "     name  marks\n",
       "0    raju     99\n",
       "1  kalyan     98"
      ]
     },
     "execution_count": 303,
     "metadata": {},
     "output_type": "execute_result"
    }
   ],
   "source": [
    "df"
   ]
  },
  {
   "cell_type": "raw",
   "id": "37031e38",
   "metadata": {},
   "source": [
    "Compare DataFrame drop() vs. pop() vs. del\n",
    "\n",
    "Features\t                  drop()\tpop()\tdel\n",
    "\n",
    "Operates on axis\t    columns and rows\tonly column\tonly column\n",
    "\n",
    "Delete multiple columns\t  Yes\tNo\tNo\n",
    "\n",
    "Drop in-place or return a copy\tBoth\tOnly in-place\tOnly in-place\n",
    "\n",
    "Performance\t                  Fast\tSlow\tSlow"
   ]
  },
  {
   "cell_type": "markdown",
   "id": "97bcdd3b",
   "metadata": {},
   "source": [
    "## Drop duplicates in pandas DataFrame\n",
    "\n",
    "- Data is gathered from various sources. It may not be in the proper form. It contains garbage values and duplicate data. Before analyzing a dataset, it must be clean and precise.\n",
    "\n",
    "The DataFrame.drop_duplicates() function\n",
    "\n",
    "## DataFrame.drop_duplicates(subset=None, keep='first', inplace=False, ignore_index=False)\n",
    "\n",
    "## Parameters:\n",
    "\n",
    "- subset: By default, if the rows have the same values in all the columns, they are considered duplicates. This parameter is used to specify the columns that only need to be considered for identifying duplicates.\n",
    "- keep: Determines which duplicates (if any) to keep. It takes inputs as,\n",
    "   -    first – Drop duplicates except for the first occurrence. This is the default behavior.\n",
    "   -    last – Drop duplicates except for the last occurrence.\n",
    "   -    False – Drop all duplicates.\n",
    "- inplace: It is used to specify whether to return a new DataFrame or update an existing one. It is a boolean flag with default False.\n",
    "- ignore_index: It is a boolean flag to indicate if row index should be reset after dropping duplicate rows. False: It keeps the original row index. True: It reset the index, and the resulting rows will be labeled 0, 1, …, n – 1.\n",
    "\n",
    "## Returns:\n",
    "\n",
    "- It returns the DataFrame with dropped duplicates or None if inplace=True\n",
    "\n",
    "\n",
    "## Drop duplicates but keep first\n",
    "- When we have the DataFrame with many duplicate rows that we want to remove we use DataFrame.drop_duplicates().\n",
    "\n",
    "- The rows that contain the same values in all the columns then are identified as duplicates. If the row is duplicated then by default DataFrame.drop_duplicates() keeps the first occurrence of that row and drops all other duplicates of it."
   ]
  },
  {
   "cell_type": "code",
   "execution_count": 315,
   "id": "ccf0cacd",
   "metadata": {},
   "outputs": [
    {
     "name": "stdout",
     "output_type": "stream",
     "text": [
      "     Name  age  marks\n",
      "0    raju   30     99\n",
      "1  kalyan   29     97\n",
      "2    raju   30     99\n",
      "3  kalyan   29     97\n",
      "4   sunny    7     94\n"
     ]
    }
   ],
   "source": [
    "my_dict = {'Name': ['raju', 'kalyan', 'raju', 'kalyan', 'sunny'], 'age': [30, 29, 30, 29, 7],\n",
    "          'marks': [99,97,99,97,94]}\n",
    "df = pd.DataFrame(my_dict)\n",
    "print(df)"
   ]
  },
  {
   "cell_type": "code",
   "execution_count": 316,
   "id": "6a9ce383",
   "metadata": {},
   "outputs": [],
   "source": [
    "#drop dublicate rows\n",
    "\n",
    "df = df.drop_duplicates()"
   ]
  },
  {
   "cell_type": "code",
   "execution_count": 317,
   "id": "2160ffad",
   "metadata": {},
   "outputs": [
    {
     "data": {
      "text/html": [
       "<div>\n",
       "<style scoped>\n",
       "    .dataframe tbody tr th:only-of-type {\n",
       "        vertical-align: middle;\n",
       "    }\n",
       "\n",
       "    .dataframe tbody tr th {\n",
       "        vertical-align: top;\n",
       "    }\n",
       "\n",
       "    .dataframe thead th {\n",
       "        text-align: right;\n",
       "    }\n",
       "</style>\n",
       "<table border=\"1\" class=\"dataframe\">\n",
       "  <thead>\n",
       "    <tr style=\"text-align: right;\">\n",
       "      <th></th>\n",
       "      <th>Name</th>\n",
       "      <th>age</th>\n",
       "      <th>marks</th>\n",
       "    </tr>\n",
       "  </thead>\n",
       "  <tbody>\n",
       "    <tr>\n",
       "      <th>0</th>\n",
       "      <td>raju</td>\n",
       "      <td>30</td>\n",
       "      <td>99</td>\n",
       "    </tr>\n",
       "    <tr>\n",
       "      <th>1</th>\n",
       "      <td>kalyan</td>\n",
       "      <td>29</td>\n",
       "      <td>97</td>\n",
       "    </tr>\n",
       "    <tr>\n",
       "      <th>4</th>\n",
       "      <td>sunny</td>\n",
       "      <td>7</td>\n",
       "      <td>94</td>\n",
       "    </tr>\n",
       "  </tbody>\n",
       "</table>\n",
       "</div>"
      ],
      "text/plain": [
       "     Name  age  marks\n",
       "0    raju   30     99\n",
       "1  kalyan   29     97\n",
       "4   sunny    7     94"
      ]
     },
     "execution_count": 317,
     "metadata": {},
     "output_type": "execute_result"
    }
   ],
   "source": [
    "df"
   ]
  },
  {
   "cell_type": "markdown",
   "id": "8b010211",
   "metadata": {},
   "source": [
    "## Drop duplicates from defined columns\n",
    "- By default, DataFrame.drop_duplicate() removes rows with the same values in all the columns. But, we can modify this behavior using a subset parameter.\n",
    "\n",
    "- For example, subset=[col1, col2] will remove the duplicate rows with the same values in specified columns only, i.e., col1 and col2."
   ]
  },
  {
   "cell_type": "code",
   "execution_count": 318,
   "id": "3a7b6256",
   "metadata": {},
   "outputs": [
    {
     "name": "stdout",
     "output_type": "stream",
     "text": [
      "      Name  age  marks\n",
      "0     raju   30     99\n",
      "1   kalyan   29     98\n",
      "2    raju2   30     99\n",
      "3  kalyan2   29     97\n",
      "4    sunny    7     94\n"
     ]
    }
   ],
   "source": [
    "my_dict = {'Name': ['raju', 'kalyan', 'raju2', 'kalyan2', 'sunny'], 'age': [30, 29, 30, 29, 7],\n",
    "          'marks': [99,98,99,97,94]}\n",
    "df = pd.DataFrame(my_dict)\n",
    "print(df)"
   ]
  },
  {
   "cell_type": "code",
   "execution_count": 320,
   "id": "08059743",
   "metadata": {},
   "outputs": [
    {
     "name": "stdout",
     "output_type": "stream",
     "text": [
      "      Name  age  marks\n",
      "0     raju   30     99\n",
      "1   kalyan   29     98\n",
      "3  kalyan2   29     97\n",
      "4    sunny    7     94\n"
     ]
    }
   ],
   "source": [
    "df = df.drop_duplicates(subset = ['age', 'marks'])\n",
    "print(df)"
   ]
  },
  {
   "cell_type": "markdown",
   "id": "5c5e13af",
   "metadata": {},
   "source": [
    "## Drop duplicates but keep last\n",
    "- Let’s consider the case where we have a row that is duplicated multiple times in the DataSet. In such a case, To keep only one occurrence of the duplicate row, we can use the keep parameter of a DataFrame.drop_duplicate(), which takes the following inputs:\n",
    "\n",
    "- first – Drop duplicates except for the first occurrence of the duplicate row. This is the default behavior.\n",
    "- last – Drop duplicates except for the last occurrence of the duplicate row.\n",
    "- False – Drop all the rows which are duplicate."
   ]
  },
  {
   "cell_type": "code",
   "execution_count": 321,
   "id": "a44126a8",
   "metadata": {},
   "outputs": [
    {
     "name": "stdout",
     "output_type": "stream",
     "text": [
      "      Name  age  marks\n",
      "0     raju   30     99\n",
      "1   kalyan   29     98\n",
      "2    sunny    7     94\n",
      "3  kalyan2   29     97\n",
      "4     raju   30     99\n"
     ]
    }
   ],
   "source": [
    "my_dict = {'Name': ['raju', 'kalyan', 'sunny', 'kalyan2', 'raju'], 'age': [30, 29, 7, 29, 30],\n",
    "          'marks': [99,98,94,97,99]}\n",
    "df = pd.DataFrame(my_dict)\n",
    "print(df)"
   ]
  },
  {
   "cell_type": "code",
   "execution_count": 322,
   "id": "c5727180",
   "metadata": {},
   "outputs": [],
   "source": [
    "df = df.drop_duplicates(keep = 'last')"
   ]
  },
  {
   "cell_type": "code",
   "execution_count": 323,
   "id": "7356d6b4",
   "metadata": {},
   "outputs": [
    {
     "data": {
      "text/html": [
       "<div>\n",
       "<style scoped>\n",
       "    .dataframe tbody tr th:only-of-type {\n",
       "        vertical-align: middle;\n",
       "    }\n",
       "\n",
       "    .dataframe tbody tr th {\n",
       "        vertical-align: top;\n",
       "    }\n",
       "\n",
       "    .dataframe thead th {\n",
       "        text-align: right;\n",
       "    }\n",
       "</style>\n",
       "<table border=\"1\" class=\"dataframe\">\n",
       "  <thead>\n",
       "    <tr style=\"text-align: right;\">\n",
       "      <th></th>\n",
       "      <th>Name</th>\n",
       "      <th>age</th>\n",
       "      <th>marks</th>\n",
       "    </tr>\n",
       "  </thead>\n",
       "  <tbody>\n",
       "    <tr>\n",
       "      <th>1</th>\n",
       "      <td>kalyan</td>\n",
       "      <td>29</td>\n",
       "      <td>98</td>\n",
       "    </tr>\n",
       "    <tr>\n",
       "      <th>2</th>\n",
       "      <td>sunny</td>\n",
       "      <td>7</td>\n",
       "      <td>94</td>\n",
       "    </tr>\n",
       "    <tr>\n",
       "      <th>3</th>\n",
       "      <td>kalyan2</td>\n",
       "      <td>29</td>\n",
       "      <td>97</td>\n",
       "    </tr>\n",
       "    <tr>\n",
       "      <th>4</th>\n",
       "      <td>raju</td>\n",
       "      <td>30</td>\n",
       "      <td>99</td>\n",
       "    </tr>\n",
       "  </tbody>\n",
       "</table>\n",
       "</div>"
      ],
      "text/plain": [
       "      Name  age  marks\n",
       "1   kalyan   29     98\n",
       "2    sunny    7     94\n",
       "3  kalyan2   29     97\n",
       "4     raju   30     99"
      ]
     },
     "execution_count": 323,
     "metadata": {},
     "output_type": "execute_result"
    }
   ],
   "source": [
    "df"
   ]
  },
  {
   "cell_type": "code",
   "execution_count": 324,
   "id": "7454d63f",
   "metadata": {},
   "outputs": [
    {
     "name": "stdout",
     "output_type": "stream",
     "text": [
      "      Name  age  marks\n",
      "0     raju   30     99\n",
      "1   kalyan   29     98\n",
      "2    sunny    7     94\n",
      "3  kalyan2   29     97\n",
      "4     raju   30     99\n"
     ]
    }
   ],
   "source": [
    "my_dict = {'Name': ['raju', 'kalyan', 'sunny', 'kalyan2', 'raju'], 'age': [30, 29, 7, 29, 30],\n",
    "          'marks': [99,98,94,97,99]}\n",
    "df = pd.DataFrame(my_dict)\n",
    "print(df)"
   ]
  },
  {
   "cell_type": "code",
   "execution_count": 325,
   "id": "c3aa4a46",
   "metadata": {},
   "outputs": [],
   "source": [
    "df = df.drop_duplicates(keep = 'first') #keeping first dup"
   ]
  },
  {
   "cell_type": "code",
   "execution_count": 326,
   "id": "48a786cb",
   "metadata": {},
   "outputs": [
    {
     "data": {
      "text/html": [
       "<div>\n",
       "<style scoped>\n",
       "    .dataframe tbody tr th:only-of-type {\n",
       "        vertical-align: middle;\n",
       "    }\n",
       "\n",
       "    .dataframe tbody tr th {\n",
       "        vertical-align: top;\n",
       "    }\n",
       "\n",
       "    .dataframe thead th {\n",
       "        text-align: right;\n",
       "    }\n",
       "</style>\n",
       "<table border=\"1\" class=\"dataframe\">\n",
       "  <thead>\n",
       "    <tr style=\"text-align: right;\">\n",
       "      <th></th>\n",
       "      <th>Name</th>\n",
       "      <th>age</th>\n",
       "      <th>marks</th>\n",
       "    </tr>\n",
       "  </thead>\n",
       "  <tbody>\n",
       "    <tr>\n",
       "      <th>0</th>\n",
       "      <td>raju</td>\n",
       "      <td>30</td>\n",
       "      <td>99</td>\n",
       "    </tr>\n",
       "    <tr>\n",
       "      <th>1</th>\n",
       "      <td>kalyan</td>\n",
       "      <td>29</td>\n",
       "      <td>98</td>\n",
       "    </tr>\n",
       "    <tr>\n",
       "      <th>2</th>\n",
       "      <td>sunny</td>\n",
       "      <td>7</td>\n",
       "      <td>94</td>\n",
       "    </tr>\n",
       "    <tr>\n",
       "      <th>3</th>\n",
       "      <td>kalyan2</td>\n",
       "      <td>29</td>\n",
       "      <td>97</td>\n",
       "    </tr>\n",
       "  </tbody>\n",
       "</table>\n",
       "</div>"
      ],
      "text/plain": [
       "      Name  age  marks\n",
       "0     raju   30     99\n",
       "1   kalyan   29     98\n",
       "2    sunny    7     94\n",
       "3  kalyan2   29     97"
      ]
     },
     "execution_count": 326,
     "metadata": {},
     "output_type": "execute_result"
    }
   ],
   "source": [
    "df"
   ]
  },
  {
   "cell_type": "markdown",
   "id": "ebc8619c",
   "metadata": {},
   "source": [
    "## Drop all duplicates\n",
    "\n",
    "- As explained in the above section, by default, DataFrame.drop_duplicates() keeps the duplicate row’s first occurrence and removes all others."
   ]
  },
  {
   "cell_type": "code",
   "execution_count": 327,
   "id": "2fe2b3f6",
   "metadata": {},
   "outputs": [
    {
     "name": "stdout",
     "output_type": "stream",
     "text": [
      "      Name  age  marks\n",
      "0     raju   30     99\n",
      "1   kalyan   29     98\n",
      "2    sunny    7     94\n",
      "3  kalyan2   29     97\n",
      "4     raju   30     99\n"
     ]
    }
   ],
   "source": [
    "my_dict = {'Name': ['raju', 'kalyan', 'sunny', 'kalyan2', 'raju'], 'age': [30, 29, 7, 29, 30],\n",
    "          'marks': [99,98,94,97,99]}\n",
    "df = pd.DataFrame(my_dict)\n",
    "print(df)"
   ]
  },
  {
   "cell_type": "code",
   "execution_count": 329,
   "id": "a564a178",
   "metadata": {},
   "outputs": [],
   "source": [
    "df = df.drop_duplicates(keep = False)#all duplicates dropped"
   ]
  },
  {
   "cell_type": "code",
   "execution_count": 330,
   "id": "6f2b9381",
   "metadata": {},
   "outputs": [
    {
     "data": {
      "text/html": [
       "<div>\n",
       "<style scoped>\n",
       "    .dataframe tbody tr th:only-of-type {\n",
       "        vertical-align: middle;\n",
       "    }\n",
       "\n",
       "    .dataframe tbody tr th {\n",
       "        vertical-align: top;\n",
       "    }\n",
       "\n",
       "    .dataframe thead th {\n",
       "        text-align: right;\n",
       "    }\n",
       "</style>\n",
       "<table border=\"1\" class=\"dataframe\">\n",
       "  <thead>\n",
       "    <tr style=\"text-align: right;\">\n",
       "      <th></th>\n",
       "      <th>Name</th>\n",
       "      <th>age</th>\n",
       "      <th>marks</th>\n",
       "    </tr>\n",
       "  </thead>\n",
       "  <tbody>\n",
       "    <tr>\n",
       "      <th>1</th>\n",
       "      <td>kalyan</td>\n",
       "      <td>29</td>\n",
       "      <td>98</td>\n",
       "    </tr>\n",
       "    <tr>\n",
       "      <th>2</th>\n",
       "      <td>sunny</td>\n",
       "      <td>7</td>\n",
       "      <td>94</td>\n",
       "    </tr>\n",
       "    <tr>\n",
       "      <th>3</th>\n",
       "      <td>kalyan2</td>\n",
       "      <td>29</td>\n",
       "      <td>97</td>\n",
       "    </tr>\n",
       "  </tbody>\n",
       "</table>\n",
       "</div>"
      ],
      "text/plain": [
       "      Name  age  marks\n",
       "1   kalyan   29     98\n",
       "2    sunny    7     94\n",
       "3  kalyan2   29     97"
      ]
     },
     "execution_count": 330,
     "metadata": {},
     "output_type": "execute_result"
    }
   ],
   "source": [
    "df"
   ]
  },
  {
   "cell_type": "markdown",
   "id": "44cae2ee",
   "metadata": {},
   "source": [
    "## Drop duplicates in place\n",
    "\n",
    "- By default, DataFrame.drop_duplicates() removes the duplicates and returns the copy of the DataFrame.\n",
    "\n",
    "- But, if we want to make changes in the existing DataFrame, then set the flag inplace=True. It can be used when the drop operation is part of the function chaining."
   ]
  },
  {
   "cell_type": "code",
   "execution_count": 333,
   "id": "ccc18ae7",
   "metadata": {},
   "outputs": [
    {
     "name": "stdout",
     "output_type": "stream",
     "text": [
      "     Name  age  marks\n",
      "0    raju   30     99\n",
      "1  kalyan   29     97\n",
      "2    raju   30     99\n",
      "3  kalyan   29     97\n",
      "4   sunny    7     94\n"
     ]
    }
   ],
   "source": [
    "my_dict = {'Name': ['raju', 'kalyan', 'raju', 'kalyan', 'sunny'], 'age': [30, 29, 30, 29, 7],\n",
    "          'marks': [99,97,99,97,94]}\n",
    "df = pd.DataFrame(my_dict)\n",
    "print(df)"
   ]
  },
  {
   "cell_type": "code",
   "execution_count": 334,
   "id": "02442688",
   "metadata": {},
   "outputs": [],
   "source": [
    "#drop duplicates rows\n",
    "\n",
    "df.drop_duplicates(inplace = True)"
   ]
  },
  {
   "cell_type": "code",
   "execution_count": 335,
   "id": "3b0bdaad",
   "metadata": {},
   "outputs": [
    {
     "data": {
      "text/html": [
       "<div>\n",
       "<style scoped>\n",
       "    .dataframe tbody tr th:only-of-type {\n",
       "        vertical-align: middle;\n",
       "    }\n",
       "\n",
       "    .dataframe tbody tr th {\n",
       "        vertical-align: top;\n",
       "    }\n",
       "\n",
       "    .dataframe thead th {\n",
       "        text-align: right;\n",
       "    }\n",
       "</style>\n",
       "<table border=\"1\" class=\"dataframe\">\n",
       "  <thead>\n",
       "    <tr style=\"text-align: right;\">\n",
       "      <th></th>\n",
       "      <th>Name</th>\n",
       "      <th>age</th>\n",
       "      <th>marks</th>\n",
       "    </tr>\n",
       "  </thead>\n",
       "  <tbody>\n",
       "    <tr>\n",
       "      <th>0</th>\n",
       "      <td>raju</td>\n",
       "      <td>30</td>\n",
       "      <td>99</td>\n",
       "    </tr>\n",
       "    <tr>\n",
       "      <th>1</th>\n",
       "      <td>kalyan</td>\n",
       "      <td>29</td>\n",
       "      <td>97</td>\n",
       "    </tr>\n",
       "    <tr>\n",
       "      <th>4</th>\n",
       "      <td>sunny</td>\n",
       "      <td>7</td>\n",
       "      <td>94</td>\n",
       "    </tr>\n",
       "  </tbody>\n",
       "</table>\n",
       "</div>"
      ],
      "text/plain": [
       "     Name  age  marks\n",
       "0    raju   30     99\n",
       "1  kalyan   29     97\n",
       "4   sunny    7     94"
      ]
     },
     "execution_count": 335,
     "metadata": {},
     "output_type": "execute_result"
    }
   ],
   "source": [
    "df"
   ]
  },
  {
   "cell_type": "markdown",
   "id": "b8189bf2",
   "metadata": {},
   "source": [
    "## Drop duplicates and reset the index\n",
    "- When we drop the rows from DataFrame, by default, it keeps the original row index as is. But, if we need to reset the index of the resultant DataFrame, we can do that using the ignore_index parameter of DataFrame.drop_duplicate().\n",
    "\n",
    "- If ignore_index=True, it reset the row labels of resultant DataFrame to 0, 1, …, n – 1.\n",
    "- If ignore_index=False it does not change the original row index. By default, it is False."
   ]
  },
  {
   "cell_type": "code",
   "execution_count": 336,
   "id": "983c3fd6",
   "metadata": {},
   "outputs": [
    {
     "name": "stdout",
     "output_type": "stream",
     "text": [
      "     Name  age  marks\n",
      "0    raju   30     99\n",
      "1  kalyan   29     97\n",
      "2    raju   30     99\n",
      "3  kalyan   29     97\n",
      "4   sunny    7     94\n"
     ]
    }
   ],
   "source": [
    "my_dict = {'Name': ['raju', 'kalyan', 'raju', 'kalyan', 'sunny'], 'age': [30, 29, 30, 29, 7],\n",
    "          'marks': [99,97,99,97,94]}\n",
    "df = pd.DataFrame(my_dict)\n",
    "print(df)"
   ]
  },
  {
   "cell_type": "code",
   "execution_count": 337,
   "id": "46e95ac5",
   "metadata": {},
   "outputs": [],
   "source": [
    "#drop duplicate rows\n",
    "\n",
    "df1 = df.drop_duplicates(keep= False, ignore_index=True)"
   ]
  },
  {
   "cell_type": "code",
   "execution_count": 338,
   "id": "91bc9b95",
   "metadata": {},
   "outputs": [
    {
     "data": {
      "text/html": [
       "<div>\n",
       "<style scoped>\n",
       "    .dataframe tbody tr th:only-of-type {\n",
       "        vertical-align: middle;\n",
       "    }\n",
       "\n",
       "    .dataframe tbody tr th {\n",
       "        vertical-align: top;\n",
       "    }\n",
       "\n",
       "    .dataframe thead th {\n",
       "        text-align: right;\n",
       "    }\n",
       "</style>\n",
       "<table border=\"1\" class=\"dataframe\">\n",
       "  <thead>\n",
       "    <tr style=\"text-align: right;\">\n",
       "      <th></th>\n",
       "      <th>Name</th>\n",
       "      <th>age</th>\n",
       "      <th>marks</th>\n",
       "    </tr>\n",
       "  </thead>\n",
       "  <tbody>\n",
       "    <tr>\n",
       "      <th>0</th>\n",
       "      <td>sunny</td>\n",
       "      <td>7</td>\n",
       "      <td>94</td>\n",
       "    </tr>\n",
       "  </tbody>\n",
       "</table>\n",
       "</div>"
      ],
      "text/plain": [
       "    Name  age  marks\n",
       "0  sunny    7     94"
      ]
     },
     "execution_count": 338,
     "metadata": {},
     "output_type": "execute_result"
    }
   ],
   "source": [
    "df1"
   ]
  },
  {
   "cell_type": "markdown",
   "id": "d9478f22",
   "metadata": {},
   "source": [
    "## Drop columns with NA in pandas DataFrame\n",
    "\n",
    "- For multiple reasons, it could happen that data in the Dataset is missing or not available. It is a very usual case where we need to clean the data before start analyzing it.\n",
    "\n",
    "## The DataFrame.dropna() function.\n",
    "\n",
    "- We can use this pandas function to remove columns from the DataFrame with values Not Available(NA).\n",
    "\n",
    "\n",
    "## Parameters:\n",
    "\n",
    "- axis: It determines the axis to remove. Set it to 1 or column to remove columns containing missing values. By default, it removes rows with NA from DataFrame.\n",
    "- how: It takes the following inputs:\n",
    "    - ‘any’: This is the default case to drop the column if it has at least one value missing.\n",
    "     - ‘all’: Drop the column only if it has all the values as NA.\n",
    "- thresh: It applies a condition to drop the columns only if it does not contain the required number of values. It takes an int as input.\n",
    "- subset: While dropping columns, it is used to specify the list of rows to be considered to find NA.\n",
    "- inplace: It is used to specify whether to return a new DataFrame or update an existing one. It is a boolean flag with default False.\n",
    "\n",
    "## Returns:\n",
    "\n",
    "- It returns the DataFrame with dropped NA or None if inplace=True"
   ]
  },
  {
   "cell_type": "markdown",
   "id": "cf24f4fb",
   "metadata": {},
   "source": [
    "## Drop column where at least one value is missing\n",
    "- There is a case when we cannot process the dataset with missing values. If we need to drop such columns that contain NA, we can use the axis=columns parameter of DataFrame.dropna() to specify deleting the columns.\n",
    "\n",
    "- By default, it removes the column where one or more values are missing."
   ]
  },
  {
   "cell_type": "code",
   "execution_count": 340,
   "id": "8a1a5828",
   "metadata": {},
   "outputs": [
    {
     "name": "stdout",
     "output_type": "stream",
     "text": [
      "     name  age  marks\n",
      "0    raju   30   99.0\n",
      "1  kalyan   29   98.0\n",
      "2   sunny    7    NaN\n"
     ]
    }
   ],
   "source": [
    "import numpy as np\n",
    "my_dict = {'name': ['raju', 'kalyan', 'sunny'], 'age': [30,29, 7], 'marks': [99,98, np.nan]}\n",
    "\n",
    "df = pd.DataFrame(my_dict)\n",
    "print(df)"
   ]
  },
  {
   "cell_type": "code",
   "execution_count": 342,
   "id": "d98fd435",
   "metadata": {},
   "outputs": [],
   "source": [
    "# drop column with NaN\n",
    "df1 = df.dropna(axis = 'columns')\n"
   ]
  },
  {
   "cell_type": "code",
   "execution_count": 343,
   "id": "0b24cce4",
   "metadata": {},
   "outputs": [
    {
     "data": {
      "text/html": [
       "<div>\n",
       "<style scoped>\n",
       "    .dataframe tbody tr th:only-of-type {\n",
       "        vertical-align: middle;\n",
       "    }\n",
       "\n",
       "    .dataframe tbody tr th {\n",
       "        vertical-align: top;\n",
       "    }\n",
       "\n",
       "    .dataframe thead th {\n",
       "        text-align: right;\n",
       "    }\n",
       "</style>\n",
       "<table border=\"1\" class=\"dataframe\">\n",
       "  <thead>\n",
       "    <tr style=\"text-align: right;\">\n",
       "      <th></th>\n",
       "      <th>name</th>\n",
       "      <th>age</th>\n",
       "    </tr>\n",
       "  </thead>\n",
       "  <tbody>\n",
       "    <tr>\n",
       "      <th>0</th>\n",
       "      <td>raju</td>\n",
       "      <td>30</td>\n",
       "    </tr>\n",
       "    <tr>\n",
       "      <th>1</th>\n",
       "      <td>kalyan</td>\n",
       "      <td>29</td>\n",
       "    </tr>\n",
       "    <tr>\n",
       "      <th>2</th>\n",
       "      <td>sunny</td>\n",
       "      <td>7</td>\n",
       "    </tr>\n",
       "  </tbody>\n",
       "</table>\n",
       "</div>"
      ],
      "text/plain": [
       "     name  age\n",
       "0    raju   30\n",
       "1  kalyan   29\n",
       "2   sunny    7"
      ]
     },
     "execution_count": 343,
     "metadata": {},
     "output_type": "execute_result"
    }
   ],
   "source": [
    "df1 # removed marks column"
   ]
  },
  {
   "cell_type": "markdown",
   "id": "9ed85b86",
   "metadata": {},
   "source": [
    "## Drop column where all values are missing\n",
    "- We can drop an empty column from DataFrame using DataFrame.dropna().\n",
    "\n",
    "- We need to use how parameter as follows:\n",
    "\n",
    "- If how='all', it drops the column where all the values are NA.\n",
    "- By default, how='any', it removes the columns where one or more values are NA."
   ]
  },
  {
   "cell_type": "code",
   "execution_count": 344,
   "id": "35273155",
   "metadata": {},
   "outputs": [
    {
     "name": "stdout",
     "output_type": "stream",
     "text": [
      "    name  age  marks\n",
      "0   raju  NaN   99.0\n",
      "1    NaN  NaN   98.0\n",
      "2  sunny  NaN    NaN\n"
     ]
    }
   ],
   "source": [
    "import numpy as np\n",
    "my_dict = {'name': ['raju', np.nan, 'sunny'], 'age': [np.nan,np.nan, np.nan], 'marks': [99,98, np.nan]}\n",
    "\n",
    "df = pd.DataFrame(my_dict)\n",
    "print(df)"
   ]
  },
  {
   "cell_type": "code",
   "execution_count": 345,
   "id": "fabe028a",
   "metadata": {},
   "outputs": [
    {
     "data": {
      "text/html": [
       "<div>\n",
       "<style scoped>\n",
       "    .dataframe tbody tr th:only-of-type {\n",
       "        vertical-align: middle;\n",
       "    }\n",
       "\n",
       "    .dataframe tbody tr th {\n",
       "        vertical-align: top;\n",
       "    }\n",
       "\n",
       "    .dataframe thead th {\n",
       "        text-align: right;\n",
       "    }\n",
       "</style>\n",
       "<table border=\"1\" class=\"dataframe\">\n",
       "  <thead>\n",
       "    <tr style=\"text-align: right;\">\n",
       "      <th></th>\n",
       "      <th>name</th>\n",
       "      <th>marks</th>\n",
       "    </tr>\n",
       "  </thead>\n",
       "  <tbody>\n",
       "    <tr>\n",
       "      <th>0</th>\n",
       "      <td>raju</td>\n",
       "      <td>99.0</td>\n",
       "    </tr>\n",
       "    <tr>\n",
       "      <th>1</th>\n",
       "      <td>NaN</td>\n",
       "      <td>98.0</td>\n",
       "    </tr>\n",
       "    <tr>\n",
       "      <th>2</th>\n",
       "      <td>sunny</td>\n",
       "      <td>NaN</td>\n",
       "    </tr>\n",
       "  </tbody>\n",
       "</table>\n",
       "</div>"
      ],
      "text/plain": [
       "    name  marks\n",
       "0   raju   99.0\n",
       "1    NaN   98.0\n",
       "2  sunny    NaN"
      ]
     },
     "execution_count": 345,
     "metadata": {},
     "output_type": "execute_result"
    }
   ],
   "source": [
    "df1 = df.dropna(axis = 1, how = 'all')#axis = columns\n",
    "df1"
   ]
  },
  {
   "cell_type": "markdown",
   "id": "594d23d5",
   "metadata": {},
   "source": [
    "## Drop column with the number of NA\n",
    "- While cleaning the dataset, we can keep the columns with at least some data available in it else drop otherwise.\n",
    "\n",
    "- We need to use the parameter thresh=no_of_nonNA_values of DataFrame.drop() to specify the number of values that must be available in the column. Else, drop the column."
   ]
  },
  {
   "cell_type": "code",
   "execution_count": 351,
   "id": "7f3be8e9",
   "metadata": {},
   "outputs": [
    {
     "name": "stdout",
     "output_type": "stream",
     "text": [
      "     name  age  marks\n",
      "0    raju  NaN   99.0\n",
      "1     NaN  NaN    NaN\n",
      "2   sunny  NaN    NaN\n",
      "3  kalyan  NaN  100.0\n"
     ]
    }
   ],
   "source": [
    "#In the below example, we keep the column where at least three or more values are available and drop the column if the condition is not met.\n",
    "\n",
    "import numpy as np\n",
    "my_dict = {'name': ['raju', np.nan, 'sunny', 'kalyan'], 'age': [np.nan,np.nan, np.nan, np.nan], 'marks': [99,np.nan, np.nan, 100]}\n",
    "\n",
    "df = pd.DataFrame(my_dict)\n",
    "print(df)"
   ]
  },
  {
   "cell_type": "code",
   "execution_count": 353,
   "id": "a9fbc6f8",
   "metadata": {},
   "outputs": [
    {
     "data": {
      "text/html": [
       "<div>\n",
       "<style scoped>\n",
       "    .dataframe tbody tr th:only-of-type {\n",
       "        vertical-align: middle;\n",
       "    }\n",
       "\n",
       "    .dataframe tbody tr th {\n",
       "        vertical-align: top;\n",
       "    }\n",
       "\n",
       "    .dataframe thead th {\n",
       "        text-align: right;\n",
       "    }\n",
       "</style>\n",
       "<table border=\"1\" class=\"dataframe\">\n",
       "  <thead>\n",
       "    <tr style=\"text-align: right;\">\n",
       "      <th></th>\n",
       "      <th>name</th>\n",
       "    </tr>\n",
       "  </thead>\n",
       "  <tbody>\n",
       "    <tr>\n",
       "      <th>0</th>\n",
       "      <td>raju</td>\n",
       "    </tr>\n",
       "    <tr>\n",
       "      <th>1</th>\n",
       "      <td>NaN</td>\n",
       "    </tr>\n",
       "    <tr>\n",
       "      <th>2</th>\n",
       "      <td>sunny</td>\n",
       "    </tr>\n",
       "    <tr>\n",
       "      <th>3</th>\n",
       "      <td>kalyan</td>\n",
       "    </tr>\n",
       "  </tbody>\n",
       "</table>\n",
       "</div>"
      ],
      "text/plain": [
       "     name\n",
       "0    raju\n",
       "1     NaN\n",
       "2   sunny\n",
       "3  kalyan"
      ]
     },
     "execution_count": 353,
     "metadata": {},
     "output_type": "execute_result"
    }
   ],
   "source": [
    "# keep column with 3 or more non-NA values\n",
    "\n",
    "df1 = df.dropna(axis = 1, thresh=3)\n",
    "df1"
   ]
  },
  {
   "cell_type": "code",
   "execution_count": 354,
   "id": "f9abaabb",
   "metadata": {},
   "outputs": [
    {
     "data": {
      "text/html": [
       "<div>\n",
       "<style scoped>\n",
       "    .dataframe tbody tr th:only-of-type {\n",
       "        vertical-align: middle;\n",
       "    }\n",
       "\n",
       "    .dataframe tbody tr th {\n",
       "        vertical-align: top;\n",
       "    }\n",
       "\n",
       "    .dataframe thead th {\n",
       "        text-align: right;\n",
       "    }\n",
       "</style>\n",
       "<table border=\"1\" class=\"dataframe\">\n",
       "  <thead>\n",
       "    <tr style=\"text-align: right;\">\n",
       "      <th></th>\n",
       "      <th>name</th>\n",
       "      <th>marks</th>\n",
       "    </tr>\n",
       "  </thead>\n",
       "  <tbody>\n",
       "    <tr>\n",
       "      <th>0</th>\n",
       "      <td>raju</td>\n",
       "      <td>99.0</td>\n",
       "    </tr>\n",
       "    <tr>\n",
       "      <th>1</th>\n",
       "      <td>NaN</td>\n",
       "      <td>NaN</td>\n",
       "    </tr>\n",
       "    <tr>\n",
       "      <th>2</th>\n",
       "      <td>sunny</td>\n",
       "      <td>NaN</td>\n",
       "    </tr>\n",
       "    <tr>\n",
       "      <th>3</th>\n",
       "      <td>kalyan</td>\n",
       "      <td>100.0</td>\n",
       "    </tr>\n",
       "  </tbody>\n",
       "</table>\n",
       "</div>"
      ],
      "text/plain": [
       "     name  marks\n",
       "0    raju   99.0\n",
       "1     NaN    NaN\n",
       "2   sunny    NaN\n",
       "3  kalyan  100.0"
      ]
     },
     "execution_count": 354,
     "metadata": {},
     "output_type": "execute_result"
    }
   ],
   "source": [
    "df2 = df.dropna(axis = 1, thresh = 2)\n",
    "df2"
   ]
  },
  {
   "cell_type": "markdown",
   "id": "316fafd8",
   "metadata": {},
   "source": [
    "## Drop NA from defined rows\n",
    "- Suppose we are interested in dropping the column only if it contains null values in some particular rows. For example, consider when we need to drop a column if it does not have data in its initial rows.\n",
    "\n",
    "- In such a case, we can use subset=[row1, row2] of DataFrame.dropna() to specify the list of row indexes so that it drops the columns containing missing values in these rows only, i.e., row1 and row2 in this case."
   ]
  },
  {
   "cell_type": "code",
   "execution_count": 360,
   "id": "9700c978",
   "metadata": {},
   "outputs": [
    {
     "name": "stdout",
     "output_type": "stream",
     "text": [
      "     name  age  marks\n",
      "0    raju  NaN   99.0\n",
      "1  kalyan  NaN   98.0\n",
      "2   sunny  NaN    NaN\n"
     ]
    }
   ],
   "source": [
    "# Let’s see how to delete a column only if it contains the empty value in row 0 or 2, otherwise do not delete the column.\n",
    "\n",
    "import numpy as np\n",
    "my_dict = {'name': ['raju', 'kalyan', 'sunny'], 'age': [np.nan,np.nan, np.nan], 'marks': [99,98, np.nan]}\n",
    "\n",
    "df = pd.DataFrame(my_dict)\n",
    "print(df)\n",
    "\n"
   ]
  },
  {
   "cell_type": "code",
   "execution_count": 361,
   "id": "ff8bf99e",
   "metadata": {},
   "outputs": [
    {
     "data": {
      "text/html": [
       "<div>\n",
       "<style scoped>\n",
       "    .dataframe tbody tr th:only-of-type {\n",
       "        vertical-align: middle;\n",
       "    }\n",
       "\n",
       "    .dataframe tbody tr th {\n",
       "        vertical-align: top;\n",
       "    }\n",
       "\n",
       "    .dataframe thead th {\n",
       "        text-align: right;\n",
       "    }\n",
       "</style>\n",
       "<table border=\"1\" class=\"dataframe\">\n",
       "  <thead>\n",
       "    <tr style=\"text-align: right;\">\n",
       "      <th></th>\n",
       "      <th>name</th>\n",
       "      <th>marks</th>\n",
       "    </tr>\n",
       "  </thead>\n",
       "  <tbody>\n",
       "    <tr>\n",
       "      <th>0</th>\n",
       "      <td>raju</td>\n",
       "      <td>99.0</td>\n",
       "    </tr>\n",
       "    <tr>\n",
       "      <th>1</th>\n",
       "      <td>kalyan</td>\n",
       "      <td>98.0</td>\n",
       "    </tr>\n",
       "    <tr>\n",
       "      <th>2</th>\n",
       "      <td>sunny</td>\n",
       "      <td>NaN</td>\n",
       "    </tr>\n",
       "  </tbody>\n",
       "</table>\n",
       "</div>"
      ],
      "text/plain": [
       "     name  marks\n",
       "0    raju   99.0\n",
       "1  kalyan   98.0\n",
       "2   sunny    NaN"
      ]
     },
     "execution_count": 361,
     "metadata": {},
     "output_type": "execute_result"
    }
   ],
   "source": [
    "#drop marks column with NaN\n",
    "\n",
    "df22 = df.dropna(axis = 'columns', subset = [0,1])\n",
    "df22"
   ]
  },
  {
   "cell_type": "markdown",
   "id": "7a222f13",
   "metadata": {},
   "source": [
    "## Drop column with missing values in place\n",
    "- We can drop columns from the existing DataFrame or by creating a copy of it. For that, we can use a flag inplace of DataFrame.dropna().\n",
    "\n",
    "- If the inplace=True, then it updates the DataFrame and returns None.\n",
    "- If inplace=False, it returns the updated copy of the DataFrame."
   ]
  },
  {
   "cell_type": "code",
   "execution_count": 362,
   "id": "2758d646",
   "metadata": {},
   "outputs": [
    {
     "name": "stdout",
     "output_type": "stream",
     "text": [
      "     name  age  marks\n",
      "0    raju   30   99.0\n",
      "1  kalyan   29   98.0\n",
      "2   sunny    7    NaN\n"
     ]
    }
   ],
   "source": [
    "#As shown in the below example, we are dropping the column from the existing DataFrame without reassigning it to a new variable.\n",
    "\n",
    "import numpy as np\n",
    "my_dict = {'name': ['raju', 'kalyan', 'sunny'], 'age': [30,29, 7], 'marks': [99,98, np.nan]}\n",
    "\n",
    "df = pd.DataFrame(my_dict)\n",
    "print(df)"
   ]
  },
  {
   "cell_type": "code",
   "execution_count": 363,
   "id": "d32ba185",
   "metadata": {},
   "outputs": [],
   "source": [
    "df.dropna(inplace = True)"
   ]
  },
  {
   "cell_type": "code",
   "execution_count": 364,
   "id": "3d0ad099",
   "metadata": {},
   "outputs": [
    {
     "data": {
      "text/html": [
       "<div>\n",
       "<style scoped>\n",
       "    .dataframe tbody tr th:only-of-type {\n",
       "        vertical-align: middle;\n",
       "    }\n",
       "\n",
       "    .dataframe tbody tr th {\n",
       "        vertical-align: top;\n",
       "    }\n",
       "\n",
       "    .dataframe thead th {\n",
       "        text-align: right;\n",
       "    }\n",
       "</style>\n",
       "<table border=\"1\" class=\"dataframe\">\n",
       "  <thead>\n",
       "    <tr style=\"text-align: right;\">\n",
       "      <th></th>\n",
       "      <th>name</th>\n",
       "      <th>age</th>\n",
       "      <th>marks</th>\n",
       "    </tr>\n",
       "  </thead>\n",
       "  <tbody>\n",
       "    <tr>\n",
       "      <th>0</th>\n",
       "      <td>raju</td>\n",
       "      <td>30</td>\n",
       "      <td>99.0</td>\n",
       "    </tr>\n",
       "    <tr>\n",
       "      <th>1</th>\n",
       "      <td>kalyan</td>\n",
       "      <td>29</td>\n",
       "      <td>98.0</td>\n",
       "    </tr>\n",
       "  </tbody>\n",
       "</table>\n",
       "</div>"
      ],
      "text/plain": [
       "     name  age  marks\n",
       "0    raju   30   99.0\n",
       "1  kalyan   29   98.0"
      ]
     },
     "execution_count": 364,
     "metadata": {},
     "output_type": "execute_result"
    }
   ],
   "source": [
    "df"
   ]
  },
  {
   "cell_type": "markdown",
   "id": "f6e850dd",
   "metadata": {},
   "source": [
    "## Rename columns in Pandas DataFrame\n",
    "\n",
    "## The DataFrame.rename() function\n",
    "- This is the most widely used pandas function for renaming columns and row indexes. Let’s see the syntax of it before moving to examples.\n",
    "\n",
    "- DataFrame.rename(mapper=None, columns=None, axis=None, copy=True, inplace=False, level=None, errors='ignore')\n",
    "\n",
    "## Parameters:\n",
    "\n",
    "- mapper: It is used to specify new names for columns. It takes a Python dictionary or function as input.\n",
    "- columns: It is used to specify new names for columns. It takes to dictionary or function as input.\n",
    "- axis: Alternative to columns. It is used to specify the axis to apply with the mapper. Column axis represented as 1 or ‘columns‘. Default 0.\n",
    "- copy: It allows the copy of underlying data. It is a boolean flag with default True.\n",
    "- inplace: It is used to specify whether to return a new copy of a DataFrame or update existing ones. It is a boolean flag with default False.\n",
    "- level: In the case of a multi-index DataFrame, only rename labels in the specified level. It takes int or level name as input. The default value is None.\n",
    "- errors: It is either ‘ignore’ or ‘raise’. Default is ‘ignore’. If ‘raise’, raise a KeyError if the columns or index are not present. If ‘ignore’, existing keys will be renamed and extra keys will be ignored.\n",
    "\n",
    "\n",
    "## Return value:\n",
    "\n",
    "- It returns a DataFrame with the renamed column and row labels or None if inplace=True.\n",
    "- Also, It raises KeyError If any of the labels are not found in the selected axis when errors='raise'"
   ]
  },
  {
   "cell_type": "markdown",
   "id": "8c1416ab",
   "metadata": {},
   "source": [
    "## Rename a single column\n",
    "- Sometimes it is required to rename the single or specific column names only.  Use the column parameter of DataFrame.rename() function and pass the columns to be renamed.\n",
    "\n",
    "- df.rename(columns={'column_current_name': 'new_name'})"
   ]
  },
  {
   "cell_type": "code",
   "execution_count": 366,
   "id": "85c835b6",
   "metadata": {},
   "outputs": [
    {
     "data": {
      "text/html": [
       "<div>\n",
       "<style scoped>\n",
       "    .dataframe tbody tr th:only-of-type {\n",
       "        vertical-align: middle;\n",
       "    }\n",
       "\n",
       "    .dataframe tbody tr th {\n",
       "        vertical-align: top;\n",
       "    }\n",
       "\n",
       "    .dataframe thead th {\n",
       "        text-align: right;\n",
       "    }\n",
       "</style>\n",
       "<table border=\"1\" class=\"dataframe\">\n",
       "  <thead>\n",
       "    <tr style=\"text-align: right;\">\n",
       "      <th></th>\n",
       "      <th>name</th>\n",
       "      <th>age</th>\n",
       "      <th>marks</th>\n",
       "    </tr>\n",
       "  </thead>\n",
       "  <tbody>\n",
       "    <tr>\n",
       "      <th>0</th>\n",
       "      <td>raju</td>\n",
       "      <td>30</td>\n",
       "      <td>99</td>\n",
       "    </tr>\n",
       "    <tr>\n",
       "      <th>1</th>\n",
       "      <td>kalyan</td>\n",
       "      <td>29</td>\n",
       "      <td>98</td>\n",
       "    </tr>\n",
       "    <tr>\n",
       "      <th>2</th>\n",
       "      <td>sunny</td>\n",
       "      <td>7</td>\n",
       "      <td>97</td>\n",
       "    </tr>\n",
       "  </tbody>\n",
       "</table>\n",
       "</div>"
      ],
      "text/plain": [
       "     name  age  marks\n",
       "0    raju   30     99\n",
       "1  kalyan   29     98\n",
       "2   sunny    7     97"
      ]
     },
     "execution_count": 366,
     "metadata": {},
     "output_type": "execute_result"
    }
   ],
   "source": [
    "my_dict = {'name': ['raju', 'kalyan', 'sunny'], 'age': [30,29,7], 'marks': [99,98,97]}\n",
    "df = pd.DataFrame(my_dict)\n",
    "df"
   ]
  },
  {
   "cell_type": "code",
   "execution_count": 367,
   "id": "d134931d",
   "metadata": {},
   "outputs": [
    {
     "name": "stdout",
     "output_type": "stream",
     "text": [
      "     name  age  percentage\n",
      "0    raju   30          99\n",
      "1  kalyan   29          98\n",
      "2   sunny    7          97\n"
     ]
    }
   ],
   "source": [
    "df = df.rename(columns = {'marks': 'percentage'})\n",
    "print(df)"
   ]
  },
  {
   "cell_type": "markdown",
   "id": "5ea823ed",
   "metadata": {},
   "source": [
    "## Rename multiple columns\n",
    "\n",
    "- Use any of the following two parameters of a DataFrame.rename() to rename multiple or all column labels at once.\n",
    "\n",
    "- Use the column parameter and pass all column names you want to rename as a dictionary (old column name as a key and new column name as a value).\n",
    "- Set the axis=1 and pass column names you want to rename as a dictionary"
   ]
  },
  {
   "cell_type": "code",
   "execution_count": 368,
   "id": "2340f900",
   "metadata": {},
   "outputs": [
    {
     "data": {
      "text/html": [
       "<div>\n",
       "<style scoped>\n",
       "    .dataframe tbody tr th:only-of-type {\n",
       "        vertical-align: middle;\n",
       "    }\n",
       "\n",
       "    .dataframe tbody tr th {\n",
       "        vertical-align: top;\n",
       "    }\n",
       "\n",
       "    .dataframe thead th {\n",
       "        text-align: right;\n",
       "    }\n",
       "</style>\n",
       "<table border=\"1\" class=\"dataframe\">\n",
       "  <thead>\n",
       "    <tr style=\"text-align: right;\">\n",
       "      <th></th>\n",
       "      <th>name</th>\n",
       "      <th>age</th>\n",
       "      <th>marks</th>\n",
       "    </tr>\n",
       "  </thead>\n",
       "  <tbody>\n",
       "    <tr>\n",
       "      <th>0</th>\n",
       "      <td>raju</td>\n",
       "      <td>30</td>\n",
       "      <td>99</td>\n",
       "    </tr>\n",
       "    <tr>\n",
       "      <th>1</th>\n",
       "      <td>kalyan</td>\n",
       "      <td>29</td>\n",
       "      <td>98</td>\n",
       "    </tr>\n",
       "    <tr>\n",
       "      <th>2</th>\n",
       "      <td>sunny</td>\n",
       "      <td>7</td>\n",
       "      <td>97</td>\n",
       "    </tr>\n",
       "  </tbody>\n",
       "</table>\n",
       "</div>"
      ],
      "text/plain": [
       "     name  age  marks\n",
       "0    raju   30     99\n",
       "1  kalyan   29     98\n",
       "2   sunny    7     97"
      ]
     },
     "execution_count": 368,
     "metadata": {},
     "output_type": "execute_result"
    }
   ],
   "source": [
    "my_dict = {'name': ['raju', 'kalyan', 'sunny'], 'age': [30,29,7], 'marks': [99,98,97]}\n",
    "df = pd.DataFrame(my_dict)\n",
    "df"
   ]
  },
  {
   "cell_type": "code",
   "execution_count": 369,
   "id": "494f258b",
   "metadata": {},
   "outputs": [
    {
     "data": {
      "text/html": [
       "<div>\n",
       "<style scoped>\n",
       "    .dataframe tbody tr th:only-of-type {\n",
       "        vertical-align: middle;\n",
       "    }\n",
       "\n",
       "    .dataframe tbody tr th {\n",
       "        vertical-align: top;\n",
       "    }\n",
       "\n",
       "    .dataframe thead th {\n",
       "        text-align: right;\n",
       "    }\n",
       "</style>\n",
       "<table border=\"1\" class=\"dataframe\">\n",
       "  <thead>\n",
       "    <tr style=\"text-align: right;\">\n",
       "      <th></th>\n",
       "      <th>a</th>\n",
       "      <th>b</th>\n",
       "      <th>c</th>\n",
       "    </tr>\n",
       "  </thead>\n",
       "  <tbody>\n",
       "    <tr>\n",
       "      <th>0</th>\n",
       "      <td>raju</td>\n",
       "      <td>30</td>\n",
       "      <td>99</td>\n",
       "    </tr>\n",
       "    <tr>\n",
       "      <th>1</th>\n",
       "      <td>kalyan</td>\n",
       "      <td>29</td>\n",
       "      <td>98</td>\n",
       "    </tr>\n",
       "    <tr>\n",
       "      <th>2</th>\n",
       "      <td>sunny</td>\n",
       "      <td>7</td>\n",
       "      <td>97</td>\n",
       "    </tr>\n",
       "  </tbody>\n",
       "</table>\n",
       "</div>"
      ],
      "text/plain": [
       "        a   b   c\n",
       "0    raju  30  99\n",
       "1  kalyan  29  98\n",
       "2   sunny   7  97"
      ]
     },
     "execution_count": 369,
     "metadata": {},
     "output_type": "execute_result"
    }
   ],
   "source": [
    "df = df.rename(columns = {'name': 'a', 'age': 'b','marks': 'c'})\n",
    "df"
   ]
  },
  {
   "cell_type": "code",
   "execution_count": 370,
   "id": "4e919735",
   "metadata": {},
   "outputs": [
    {
     "data": {
      "text/plain": [
       "array(['a', 'b', 'c'], dtype=object)"
      ]
     },
     "execution_count": 370,
     "metadata": {},
     "output_type": "execute_result"
    }
   ],
   "source": [
    "df.columns.values"
   ]
  },
  {
   "cell_type": "markdown",
   "id": "4391030a",
   "metadata": {},
   "source": [
    "## Using rename with axis='columns' or axis=1\n",
    "\n",
    "- Use the axis parameter of a df.rename() to rename columns and row index. The axis can be a row or column. The column axis represented as 1 or ‘columns’.\n",
    "\n",
    "- Set axis=1 and pass column names you want to rename as a dictionary (Key-Value pairs)."
   ]
  },
  {
   "cell_type": "code",
   "execution_count": 371,
   "id": "3ef1fb52",
   "metadata": {},
   "outputs": [
    {
     "data": {
      "text/html": [
       "<div>\n",
       "<style scoped>\n",
       "    .dataframe tbody tr th:only-of-type {\n",
       "        vertical-align: middle;\n",
       "    }\n",
       "\n",
       "    .dataframe tbody tr th {\n",
       "        vertical-align: top;\n",
       "    }\n",
       "\n",
       "    .dataframe thead th {\n",
       "        text-align: right;\n",
       "    }\n",
       "</style>\n",
       "<table border=\"1\" class=\"dataframe\">\n",
       "  <thead>\n",
       "    <tr style=\"text-align: right;\">\n",
       "      <th></th>\n",
       "      <th>name</th>\n",
       "      <th>age</th>\n",
       "      <th>marks</th>\n",
       "    </tr>\n",
       "  </thead>\n",
       "  <tbody>\n",
       "    <tr>\n",
       "      <th>0</th>\n",
       "      <td>raju</td>\n",
       "      <td>30</td>\n",
       "      <td>99</td>\n",
       "    </tr>\n",
       "    <tr>\n",
       "      <th>1</th>\n",
       "      <td>kalyan</td>\n",
       "      <td>29</td>\n",
       "      <td>98</td>\n",
       "    </tr>\n",
       "    <tr>\n",
       "      <th>2</th>\n",
       "      <td>sunny</td>\n",
       "      <td>7</td>\n",
       "      <td>97</td>\n",
       "    </tr>\n",
       "  </tbody>\n",
       "</table>\n",
       "</div>"
      ],
      "text/plain": [
       "     name  age  marks\n",
       "0    raju   30     99\n",
       "1  kalyan   29     98\n",
       "2   sunny    7     97"
      ]
     },
     "execution_count": 371,
     "metadata": {},
     "output_type": "execute_result"
    }
   ],
   "source": [
    "my_dict = {'name': ['raju', 'kalyan', 'sunny'], 'age': [30,29,7], 'marks': [99,98,97]}\n",
    "df = pd.DataFrame(my_dict)\n",
    "df\n"
   ]
  },
  {
   "cell_type": "code",
   "execution_count": 373,
   "id": "59c0f78c",
   "metadata": {},
   "outputs": [
    {
     "data": {
      "text/html": [
       "<div>\n",
       "<style scoped>\n",
       "    .dataframe tbody tr th:only-of-type {\n",
       "        vertical-align: middle;\n",
       "    }\n",
       "\n",
       "    .dataframe tbody tr th {\n",
       "        vertical-align: top;\n",
       "    }\n",
       "\n",
       "    .dataframe thead th {\n",
       "        text-align: right;\n",
       "    }\n",
       "</style>\n",
       "<table border=\"1\" class=\"dataframe\">\n",
       "  <thead>\n",
       "    <tr style=\"text-align: right;\">\n",
       "      <th></th>\n",
       "      <th>a</th>\n",
       "      <th>b</th>\n",
       "      <th>c</th>\n",
       "    </tr>\n",
       "  </thead>\n",
       "  <tbody>\n",
       "    <tr>\n",
       "      <th>0</th>\n",
       "      <td>raju</td>\n",
       "      <td>30</td>\n",
       "      <td>99</td>\n",
       "    </tr>\n",
       "    <tr>\n",
       "      <th>1</th>\n",
       "      <td>kalyan</td>\n",
       "      <td>29</td>\n",
       "      <td>98</td>\n",
       "    </tr>\n",
       "    <tr>\n",
       "      <th>2</th>\n",
       "      <td>sunny</td>\n",
       "      <td>7</td>\n",
       "      <td>97</td>\n",
       "    </tr>\n",
       "  </tbody>\n",
       "</table>\n",
       "</div>"
      ],
      "text/plain": [
       "        a   b   c\n",
       "0    raju  30  99\n",
       "1  kalyan  29  98\n",
       "2   sunny   7  97"
      ]
     },
     "execution_count": 373,
     "metadata": {},
     "output_type": "execute_result"
    }
   ],
   "source": [
    "df1 = df.rename({'name': 'a', 'age': 'b','marks': 'c'}, axis = 1)\n",
    "df1"
   ]
  },
  {
   "cell_type": "code",
   "execution_count": 374,
   "id": "44b0f7ab",
   "metadata": {},
   "outputs": [
    {
     "data": {
      "text/html": [
       "<div>\n",
       "<style scoped>\n",
       "    .dataframe tbody tr th:only-of-type {\n",
       "        vertical-align: middle;\n",
       "    }\n",
       "\n",
       "    .dataframe tbody tr th {\n",
       "        vertical-align: top;\n",
       "    }\n",
       "\n",
       "    .dataframe thead th {\n",
       "        text-align: right;\n",
       "    }\n",
       "</style>\n",
       "<table border=\"1\" class=\"dataframe\">\n",
       "  <thead>\n",
       "    <tr style=\"text-align: right;\">\n",
       "      <th></th>\n",
       "      <th>a</th>\n",
       "      <th>b</th>\n",
       "      <th>c</th>\n",
       "    </tr>\n",
       "  </thead>\n",
       "  <tbody>\n",
       "    <tr>\n",
       "      <th>0</th>\n",
       "      <td>raju</td>\n",
       "      <td>30</td>\n",
       "      <td>99</td>\n",
       "    </tr>\n",
       "    <tr>\n",
       "      <th>1</th>\n",
       "      <td>kalyan</td>\n",
       "      <td>29</td>\n",
       "      <td>98</td>\n",
       "    </tr>\n",
       "    <tr>\n",
       "      <th>2</th>\n",
       "      <td>sunny</td>\n",
       "      <td>7</td>\n",
       "      <td>97</td>\n",
       "    </tr>\n",
       "  </tbody>\n",
       "</table>\n",
       "</div>"
      ],
      "text/plain": [
       "        a   b   c\n",
       "0    raju  30  99\n",
       "1  kalyan  29  98\n",
       "2   sunny   7  97"
      ]
     },
     "execution_count": 374,
     "metadata": {},
     "output_type": "execute_result"
    }
   ],
   "source": [
    "df2 = df.rename({'name': 'a', 'age': 'b','marks': 'c'}, axis = 'columns')\n",
    "df2"
   ]
  },
  {
   "cell_type": "markdown",
   "id": "6e4d24a8",
   "metadata": {},
   "source": [
    "## Rename columns in place\n",
    "- In the above examples, whenever we executed rename operations, pandas created a new copy of DataFrame because the modification is not-in place.\n",
    "\n",
    "- Specify inplace=True to rename the existing DataFrame rather than creating a copy of it.\n",
    "\n",
    "- If the inplace=True then it updates the existing DataFrame and does not return anything.\n",
    "- If the inplace=False then it creates a new DataFrame with updated changes and returns it.\n",
    "\n",
    "- Note: You don’t need to assign the result back to a variable as we are performing modifications in place."
   ]
  },
  {
   "cell_type": "code",
   "execution_count": 375,
   "id": "8f478ba0",
   "metadata": {},
   "outputs": [
    {
     "data": {
      "text/html": [
       "<div>\n",
       "<style scoped>\n",
       "    .dataframe tbody tr th:only-of-type {\n",
       "        vertical-align: middle;\n",
       "    }\n",
       "\n",
       "    .dataframe tbody tr th {\n",
       "        vertical-align: top;\n",
       "    }\n",
       "\n",
       "    .dataframe thead th {\n",
       "        text-align: right;\n",
       "    }\n",
       "</style>\n",
       "<table border=\"1\" class=\"dataframe\">\n",
       "  <thead>\n",
       "    <tr style=\"text-align: right;\">\n",
       "      <th></th>\n",
       "      <th>name</th>\n",
       "      <th>age</th>\n",
       "      <th>marks</th>\n",
       "    </tr>\n",
       "  </thead>\n",
       "  <tbody>\n",
       "    <tr>\n",
       "      <th>0</th>\n",
       "      <td>raju</td>\n",
       "      <td>30</td>\n",
       "      <td>99</td>\n",
       "    </tr>\n",
       "    <tr>\n",
       "      <th>1</th>\n",
       "      <td>kalyan</td>\n",
       "      <td>29</td>\n",
       "      <td>98</td>\n",
       "    </tr>\n",
       "    <tr>\n",
       "      <th>2</th>\n",
       "      <td>sunny</td>\n",
       "      <td>7</td>\n",
       "      <td>97</td>\n",
       "    </tr>\n",
       "  </tbody>\n",
       "</table>\n",
       "</div>"
      ],
      "text/plain": [
       "     name  age  marks\n",
       "0    raju   30     99\n",
       "1  kalyan   29     98\n",
       "2   sunny    7     97"
      ]
     },
     "execution_count": 375,
     "metadata": {},
     "output_type": "execute_result"
    }
   ],
   "source": [
    "my_dict = {'name': ['raju', 'kalyan', 'sunny'], 'age': [30,29,7], 'marks': [99,98,97]}\n",
    "df = pd.DataFrame(my_dict)\n",
    "df\n"
   ]
  },
  {
   "cell_type": "code",
   "execution_count": 378,
   "id": "1f08e796",
   "metadata": {},
   "outputs": [
    {
     "data": {
      "text/plain": [
       "array(['a', 'age', 'marks'], dtype=object)"
      ]
     },
     "execution_count": 378,
     "metadata": {},
     "output_type": "execute_result"
    }
   ],
   "source": [
    "df.rename(columns = {'name': 'a'}, inplace = True)\n",
    "df\n",
    "df.columns.values"
   ]
  },
  {
   "cell_type": "markdown",
   "id": "48496de5",
   "metadata": {},
   "source": [
    "## Rename column using a function\n",
    "- We can also use the function to rename column labels by applying some logic to it. We can use built-in as well as user-defined functions to rename columns."
   ]
  },
  {
   "cell_type": "code",
   "execution_count": 379,
   "id": "3d5cf93e",
   "metadata": {},
   "outputs": [
    {
     "data": {
      "text/html": [
       "<div>\n",
       "<style scoped>\n",
       "    .dataframe tbody tr th:only-of-type {\n",
       "        vertical-align: middle;\n",
       "    }\n",
       "\n",
       "    .dataframe tbody tr th {\n",
       "        vertical-align: top;\n",
       "    }\n",
       "\n",
       "    .dataframe thead th {\n",
       "        text-align: right;\n",
       "    }\n",
       "</style>\n",
       "<table border=\"1\" class=\"dataframe\">\n",
       "  <thead>\n",
       "    <tr style=\"text-align: right;\">\n",
       "      <th></th>\n",
       "      <th>name</th>\n",
       "      <th>age</th>\n",
       "      <th>marks</th>\n",
       "    </tr>\n",
       "  </thead>\n",
       "  <tbody>\n",
       "    <tr>\n",
       "      <th>0</th>\n",
       "      <td>raju</td>\n",
       "      <td>30</td>\n",
       "      <td>99</td>\n",
       "    </tr>\n",
       "    <tr>\n",
       "      <th>1</th>\n",
       "      <td>kalyan</td>\n",
       "      <td>29</td>\n",
       "      <td>98</td>\n",
       "    </tr>\n",
       "    <tr>\n",
       "      <th>2</th>\n",
       "      <td>sunny</td>\n",
       "      <td>7</td>\n",
       "      <td>97</td>\n",
       "    </tr>\n",
       "  </tbody>\n",
       "</table>\n",
       "</div>"
      ],
      "text/plain": [
       "     name  age  marks\n",
       "0    raju   30     99\n",
       "1  kalyan   29     98\n",
       "2   sunny    7     97"
      ]
     },
     "execution_count": 379,
     "metadata": {},
     "output_type": "execute_result"
    }
   ],
   "source": [
    "#In the below example, we rename all column names to UPPER CASE using the string function str.upper.\n",
    "\n",
    "my_dict = {'name': ['raju', 'kalyan', 'sunny'], 'age': [30,29,7], 'marks': [99,98,97]}\n",
    "df = pd.DataFrame(my_dict)\n",
    "df\n"
   ]
  },
  {
   "cell_type": "code",
   "execution_count": 381,
   "id": "9238aa24",
   "metadata": {},
   "outputs": [
    {
     "data": {
      "text/html": [
       "<div>\n",
       "<style scoped>\n",
       "    .dataframe tbody tr th:only-of-type {\n",
       "        vertical-align: middle;\n",
       "    }\n",
       "\n",
       "    .dataframe tbody tr th {\n",
       "        vertical-align: top;\n",
       "    }\n",
       "\n",
       "    .dataframe thead th {\n",
       "        text-align: right;\n",
       "    }\n",
       "</style>\n",
       "<table border=\"1\" class=\"dataframe\">\n",
       "  <thead>\n",
       "    <tr style=\"text-align: right;\">\n",
       "      <th></th>\n",
       "      <th>NAME</th>\n",
       "      <th>AGE</th>\n",
       "      <th>MARKS</th>\n",
       "    </tr>\n",
       "  </thead>\n",
       "  <tbody>\n",
       "    <tr>\n",
       "      <th>0</th>\n",
       "      <td>raju</td>\n",
       "      <td>30</td>\n",
       "      <td>99</td>\n",
       "    </tr>\n",
       "    <tr>\n",
       "      <th>1</th>\n",
       "      <td>kalyan</td>\n",
       "      <td>29</td>\n",
       "      <td>98</td>\n",
       "    </tr>\n",
       "    <tr>\n",
       "      <th>2</th>\n",
       "      <td>sunny</td>\n",
       "      <td>7</td>\n",
       "      <td>97</td>\n",
       "    </tr>\n",
       "  </tbody>\n",
       "</table>\n",
       "</div>"
      ],
      "text/plain": [
       "     NAME  AGE  MARKS\n",
       "0    raju   30     99\n",
       "1  kalyan   29     98\n",
       "2   sunny    7     97"
      ]
     },
     "execution_count": 381,
     "metadata": {},
     "output_type": "execute_result"
    }
   ],
   "source": [
    "df.rename(columns = str.upper, inplace = True)\n",
    "df"
   ]
  },
  {
   "cell_type": "code",
   "execution_count": 383,
   "id": "de359b12",
   "metadata": {},
   "outputs": [
    {
     "data": {
      "text/html": [
       "<div>\n",
       "<style scoped>\n",
       "    .dataframe tbody tr th:only-of-type {\n",
       "        vertical-align: middle;\n",
       "    }\n",
       "\n",
       "    .dataframe tbody tr th {\n",
       "        vertical-align: top;\n",
       "    }\n",
       "\n",
       "    .dataframe thead th {\n",
       "        text-align: right;\n",
       "    }\n",
       "</style>\n",
       "<table border=\"1\" class=\"dataframe\">\n",
       "  <thead>\n",
       "    <tr style=\"text-align: right;\">\n",
       "      <th></th>\n",
       "      <th>Name</th>\n",
       "      <th>Age</th>\n",
       "      <th>Marks</th>\n",
       "    </tr>\n",
       "  </thead>\n",
       "  <tbody>\n",
       "    <tr>\n",
       "      <th>0</th>\n",
       "      <td>raju</td>\n",
       "      <td>30</td>\n",
       "      <td>99</td>\n",
       "    </tr>\n",
       "    <tr>\n",
       "      <th>1</th>\n",
       "      <td>kalyan</td>\n",
       "      <td>29</td>\n",
       "      <td>98</td>\n",
       "    </tr>\n",
       "    <tr>\n",
       "      <th>2</th>\n",
       "      <td>sunny</td>\n",
       "      <td>7</td>\n",
       "      <td>97</td>\n",
       "    </tr>\n",
       "  </tbody>\n",
       "</table>\n",
       "</div>"
      ],
      "text/plain": [
       "     Name  Age  Marks\n",
       "0    raju   30     99\n",
       "1  kalyan   29     98\n",
       "2   sunny    7     97"
      ]
     },
     "execution_count": 383,
     "metadata": {},
     "output_type": "execute_result"
    }
   ],
   "source": [
    "df.rename(columns = str.capitalize, inplace = True)\n",
    "df"
   ]
  },
  {
   "cell_type": "code",
   "execution_count": 384,
   "id": "d7599c68",
   "metadata": {},
   "outputs": [
    {
     "data": {
      "text/plain": [
       "array(['Name', 'Age', 'Marks'], dtype=object)"
      ]
     },
     "execution_count": 384,
     "metadata": {},
     "output_type": "execute_result"
    }
   ],
   "source": [
    "df.columns.values"
   ]
  },
  {
   "cell_type": "code",
   "execution_count": 385,
   "id": "02b640cb",
   "metadata": {},
   "outputs": [
    {
     "data": {
      "text/plain": [
       "Index(['Name', 'Age', 'Marks'], dtype='object')"
      ]
     },
     "execution_count": 385,
     "metadata": {},
     "output_type": "execute_result"
    }
   ],
   "source": [
    "df.columns"
   ]
  },
  {
   "cell_type": "markdown",
   "id": "942f81e6",
   "metadata": {},
   "source": [
    "## Use lambda expressions to rename\n",
    "- Also, you can use lambda expressions to rename column label or row index. Let’s see how to remove the first character from each column label using lambda."
   ]
  },
  {
   "cell_type": "code",
   "execution_count": 386,
   "id": "b22ac3d8",
   "metadata": {},
   "outputs": [
    {
     "data": {
      "text/html": [
       "<div>\n",
       "<style scoped>\n",
       "    .dataframe tbody tr th:only-of-type {\n",
       "        vertical-align: middle;\n",
       "    }\n",
       "\n",
       "    .dataframe tbody tr th {\n",
       "        vertical-align: top;\n",
       "    }\n",
       "\n",
       "    .dataframe thead th {\n",
       "        text-align: right;\n",
       "    }\n",
       "</style>\n",
       "<table border=\"1\" class=\"dataframe\">\n",
       "  <thead>\n",
       "    <tr style=\"text-align: right;\">\n",
       "      <th></th>\n",
       "      <th>#name</th>\n",
       "      <th>#age</th>\n",
       "      <th>#marks</th>\n",
       "    </tr>\n",
       "  </thead>\n",
       "  <tbody>\n",
       "    <tr>\n",
       "      <th>0</th>\n",
       "      <td>raju</td>\n",
       "      <td>30</td>\n",
       "      <td>99</td>\n",
       "    </tr>\n",
       "    <tr>\n",
       "      <th>1</th>\n",
       "      <td>kalyan</td>\n",
       "      <td>29</td>\n",
       "      <td>98</td>\n",
       "    </tr>\n",
       "    <tr>\n",
       "      <th>2</th>\n",
       "      <td>sunny</td>\n",
       "      <td>7</td>\n",
       "      <td>97</td>\n",
       "    </tr>\n",
       "  </tbody>\n",
       "</table>\n",
       "</div>"
      ],
      "text/plain": [
       "    #name  #age  #marks\n",
       "0    raju    30      99\n",
       "1  kalyan    29      98\n",
       "2   sunny     7      97"
      ]
     },
     "execution_count": 386,
     "metadata": {},
     "output_type": "execute_result"
    }
   ],
   "source": [
    "my_dict = {'#name': ['raju', 'kalyan', 'sunny'], '#age': [30,29,7], '#marks': [99,98,97]}\n",
    "df = pd.DataFrame(my_dict)\n",
    "df\n"
   ]
  },
  {
   "cell_type": "code",
   "execution_count": 387,
   "id": "94a9c47b",
   "metadata": {},
   "outputs": [
    {
     "data": {
      "text/plain": [
       "Index(['#name', '#age', '#marks'], dtype='object')"
      ]
     },
     "execution_count": 387,
     "metadata": {},
     "output_type": "execute_result"
    }
   ],
   "source": [
    "df.columns"
   ]
  },
  {
   "cell_type": "code",
   "execution_count": 388,
   "id": "05a6a8a5",
   "metadata": {},
   "outputs": [
    {
     "data": {
      "text/html": [
       "<div>\n",
       "<style scoped>\n",
       "    .dataframe tbody tr th:only-of-type {\n",
       "        vertical-align: middle;\n",
       "    }\n",
       "\n",
       "    .dataframe tbody tr th {\n",
       "        vertical-align: top;\n",
       "    }\n",
       "\n",
       "    .dataframe thead th {\n",
       "        text-align: right;\n",
       "    }\n",
       "</style>\n",
       "<table border=\"1\" class=\"dataframe\">\n",
       "  <thead>\n",
       "    <tr style=\"text-align: right;\">\n",
       "      <th></th>\n",
       "      <th>name</th>\n",
       "      <th>age</th>\n",
       "      <th>marks</th>\n",
       "    </tr>\n",
       "  </thead>\n",
       "  <tbody>\n",
       "    <tr>\n",
       "      <th>0</th>\n",
       "      <td>raju</td>\n",
       "      <td>30</td>\n",
       "      <td>99</td>\n",
       "    </tr>\n",
       "    <tr>\n",
       "      <th>1</th>\n",
       "      <td>kalyan</td>\n",
       "      <td>29</td>\n",
       "      <td>98</td>\n",
       "    </tr>\n",
       "    <tr>\n",
       "      <th>2</th>\n",
       "      <td>sunny</td>\n",
       "      <td>7</td>\n",
       "      <td>97</td>\n",
       "    </tr>\n",
       "  </tbody>\n",
       "</table>\n",
       "</div>"
      ],
      "text/plain": [
       "     name  age  marks\n",
       "0    raju   30     99\n",
       "1  kalyan   29     98\n",
       "2   sunny    7     97"
      ]
     },
     "execution_count": 388,
     "metadata": {},
     "output_type": "execute_result"
    }
   ],
   "source": [
    "#remove 1st cha of col\n",
    "\n",
    "df.rename(columns = lambda x:x[1:], inplace = True)\n",
    "df"
   ]
  },
  {
   "cell_type": "markdown",
   "id": "a5201b3d",
   "metadata": {},
   "source": [
    "## Rename columns by removing leading and trailing spaces\n",
    "- Use lambda expression to rename columns by removing leading and trailing spaces from the column names"
   ]
  },
  {
   "cell_type": "code",
   "execution_count": 392,
   "id": "faf024f3",
   "metadata": {},
   "outputs": [
    {
     "data": {
      "text/html": [
       "<div>\n",
       "<style scoped>\n",
       "    .dataframe tbody tr th:only-of-type {\n",
       "        vertical-align: middle;\n",
       "    }\n",
       "\n",
       "    .dataframe tbody tr th {\n",
       "        vertical-align: top;\n",
       "    }\n",
       "\n",
       "    .dataframe thead th {\n",
       "        text-align: right;\n",
       "    }\n",
       "</style>\n",
       "<table border=\"1\" class=\"dataframe\">\n",
       "  <thead>\n",
       "    <tr style=\"text-align: right;\">\n",
       "      <th></th>\n",
       "      <th>name</th>\n",
       "      <th>age</th>\n",
       "      <th>marks</th>\n",
       "    </tr>\n",
       "  </thead>\n",
       "  <tbody>\n",
       "    <tr>\n",
       "      <th>0</th>\n",
       "      <td>raju</td>\n",
       "      <td>30</td>\n",
       "      <td>99</td>\n",
       "    </tr>\n",
       "    <tr>\n",
       "      <th>1</th>\n",
       "      <td>kalyan</td>\n",
       "      <td>29</td>\n",
       "      <td>98</td>\n",
       "    </tr>\n",
       "    <tr>\n",
       "      <th>2</th>\n",
       "      <td>sunny</td>\n",
       "      <td>7</td>\n",
       "      <td>97</td>\n",
       "    </tr>\n",
       "  </tbody>\n",
       "</table>\n",
       "</div>"
      ],
      "text/plain": [
       "     name   age    marks\n",
       "0    raju     30      99\n",
       "1  kalyan     29      98\n",
       "2   sunny      7      97"
      ]
     },
     "execution_count": 392,
     "metadata": {},
     "output_type": "execute_result"
    }
   ],
   "source": [
    "my_dict = {' name': ['raju', 'kalyan', 'sunny'], ' age ': [30,29,7], ' marks': [99,98,97]}\n",
    "df = pd.DataFrame(my_dict)\n",
    "df"
   ]
  },
  {
   "cell_type": "code",
   "execution_count": 393,
   "id": "810447ec",
   "metadata": {},
   "outputs": [
    {
     "data": {
      "text/plain": [
       "array([' name', ' age ', ' marks'], dtype=object)"
      ]
     },
     "execution_count": 393,
     "metadata": {},
     "output_type": "execute_result"
    }
   ],
   "source": [
    "df.columns.values"
   ]
  },
  {
   "cell_type": "code",
   "execution_count": 396,
   "id": "9117a0a6",
   "metadata": {},
   "outputs": [
    {
     "data": {
      "text/html": [
       "<div>\n",
       "<style scoped>\n",
       "    .dataframe tbody tr th:only-of-type {\n",
       "        vertical-align: middle;\n",
       "    }\n",
       "\n",
       "    .dataframe tbody tr th {\n",
       "        vertical-align: top;\n",
       "    }\n",
       "\n",
       "    .dataframe thead th {\n",
       "        text-align: right;\n",
       "    }\n",
       "</style>\n",
       "<table border=\"1\" class=\"dataframe\">\n",
       "  <thead>\n",
       "    <tr style=\"text-align: right;\">\n",
       "      <th></th>\n",
       "      <th>name</th>\n",
       "      <th>age</th>\n",
       "      <th>marks</th>\n",
       "    </tr>\n",
       "  </thead>\n",
       "  <tbody>\n",
       "    <tr>\n",
       "      <th>0</th>\n",
       "      <td>raju</td>\n",
       "      <td>30</td>\n",
       "      <td>99</td>\n",
       "    </tr>\n",
       "    <tr>\n",
       "      <th>1</th>\n",
       "      <td>kalyan</td>\n",
       "      <td>29</td>\n",
       "      <td>98</td>\n",
       "    </tr>\n",
       "    <tr>\n",
       "      <th>2</th>\n",
       "      <td>sunny</td>\n",
       "      <td>7</td>\n",
       "      <td>97</td>\n",
       "    </tr>\n",
       "  </tbody>\n",
       "</table>\n",
       "</div>"
      ],
      "text/plain": [
       "     name  age  marks\n",
       "0    raju   30     99\n",
       "1  kalyan   29     98\n",
       "2   sunny    7     97"
      ]
     },
     "execution_count": 396,
     "metadata": {},
     "output_type": "execute_result"
    }
   ],
   "source": [
    "df.rename(lambda x:x.strip(), axis = 1, inplace = True)\n",
    "df"
   ]
  },
  {
   "cell_type": "code",
   "execution_count": 397,
   "id": "b0a76dd5",
   "metadata": {},
   "outputs": [
    {
     "data": {
      "text/plain": [
       "array(['name', 'age', 'marks'], dtype=object)"
      ]
     },
     "execution_count": 397,
     "metadata": {},
     "output_type": "execute_result"
    }
   ],
   "source": [
    "df.columns.values"
   ]
  },
  {
   "cell_type": "markdown",
   "id": "4fb7b058",
   "metadata": {},
   "source": [
    "## Rename all columns with a list\n",
    "- Suppose we have a list of column names that we need to use to rename the existing DataFrame. In that case, we can pass the list of column labels to a DataFrame.columns  attributes as shown in the below example.\n",
    "\n",
    "- It will replace the existing names with the new names in the order you provide."
   ]
  },
  {
   "cell_type": "code",
   "execution_count": 398,
   "id": "d352d169",
   "metadata": {},
   "outputs": [
    {
     "data": {
      "text/html": [
       "<div>\n",
       "<style scoped>\n",
       "    .dataframe tbody tr th:only-of-type {\n",
       "        vertical-align: middle;\n",
       "    }\n",
       "\n",
       "    .dataframe tbody tr th {\n",
       "        vertical-align: top;\n",
       "    }\n",
       "\n",
       "    .dataframe thead th {\n",
       "        text-align: right;\n",
       "    }\n",
       "</style>\n",
       "<table border=\"1\" class=\"dataframe\">\n",
       "  <thead>\n",
       "    <tr style=\"text-align: right;\">\n",
       "      <th></th>\n",
       "      <th>name</th>\n",
       "      <th>age</th>\n",
       "      <th>marks</th>\n",
       "    </tr>\n",
       "  </thead>\n",
       "  <tbody>\n",
       "    <tr>\n",
       "      <th>0</th>\n",
       "      <td>raju</td>\n",
       "      <td>30</td>\n",
       "      <td>99</td>\n",
       "    </tr>\n",
       "    <tr>\n",
       "      <th>1</th>\n",
       "      <td>kalyan</td>\n",
       "      <td>29</td>\n",
       "      <td>98</td>\n",
       "    </tr>\n",
       "    <tr>\n",
       "      <th>2</th>\n",
       "      <td>sunny</td>\n",
       "      <td>7</td>\n",
       "      <td>97</td>\n",
       "    </tr>\n",
       "  </tbody>\n",
       "</table>\n",
       "</div>"
      ],
      "text/plain": [
       "     name   age    marks\n",
       "0    raju     30      99\n",
       "1  kalyan     29      98\n",
       "2   sunny      7      97"
      ]
     },
     "execution_count": 398,
     "metadata": {},
     "output_type": "execute_result"
    }
   ],
   "source": [
    "my_dict = {' name': ['raju', 'kalyan', 'sunny'], ' age ': [30,29,7], ' marks': [99,98,97]}\n",
    "df = pd.DataFrame(my_dict)\n",
    "df"
   ]
  },
  {
   "cell_type": "code",
   "execution_count": 399,
   "id": "94ba1fc4",
   "metadata": {},
   "outputs": [
    {
     "data": {
      "text/html": [
       "<div>\n",
       "<style scoped>\n",
       "    .dataframe tbody tr th:only-of-type {\n",
       "        vertical-align: middle;\n",
       "    }\n",
       "\n",
       "    .dataframe tbody tr th {\n",
       "        vertical-align: top;\n",
       "    }\n",
       "\n",
       "    .dataframe thead th {\n",
       "        text-align: right;\n",
       "    }\n",
       "</style>\n",
       "<table border=\"1\" class=\"dataframe\">\n",
       "  <thead>\n",
       "    <tr style=\"text-align: right;\">\n",
       "      <th></th>\n",
       "      <th>a</th>\n",
       "      <th>b</th>\n",
       "      <th>c</th>\n",
       "    </tr>\n",
       "  </thead>\n",
       "  <tbody>\n",
       "    <tr>\n",
       "      <th>0</th>\n",
       "      <td>raju</td>\n",
       "      <td>30</td>\n",
       "      <td>99</td>\n",
       "    </tr>\n",
       "    <tr>\n",
       "      <th>1</th>\n",
       "      <td>kalyan</td>\n",
       "      <td>29</td>\n",
       "      <td>98</td>\n",
       "    </tr>\n",
       "    <tr>\n",
       "      <th>2</th>\n",
       "      <td>sunny</td>\n",
       "      <td>7</td>\n",
       "      <td>97</td>\n",
       "    </tr>\n",
       "  </tbody>\n",
       "</table>\n",
       "</div>"
      ],
      "text/plain": [
       "        a   b   c\n",
       "0    raju  30  99\n",
       "1  kalyan  29  98\n",
       "2   sunny   7  97"
      ]
     },
     "execution_count": 399,
     "metadata": {},
     "output_type": "execute_result"
    }
   ],
   "source": [
    "#rename column with list\n",
    "\n",
    "df.columns = ['a', 'b', 'c']\n",
    "df"
   ]
  },
  {
   "cell_type": "markdown",
   "id": "3f745083",
   "metadata": {},
   "source": [
    "## Rename column by index position\n",
    "- If there is a case where we want to rename the first column or the last column in the DataFrame, but we do not know the column name still we can rename the column using a DataFrame.columns attribute.\n",
    "\n",
    "- Note: Column index starts from 0 (zero) and it goes till the last column whose index value will be len(df.columns)-1 ."
   ]
  },
  {
   "cell_type": "code",
   "execution_count": 400,
   "id": "a2d6d608",
   "metadata": {},
   "outputs": [
    {
     "data": {
      "text/html": [
       "<div>\n",
       "<style scoped>\n",
       "    .dataframe tbody tr th:only-of-type {\n",
       "        vertical-align: middle;\n",
       "    }\n",
       "\n",
       "    .dataframe tbody tr th {\n",
       "        vertical-align: top;\n",
       "    }\n",
       "\n",
       "    .dataframe thead th {\n",
       "        text-align: right;\n",
       "    }\n",
       "</style>\n",
       "<table border=\"1\" class=\"dataframe\">\n",
       "  <thead>\n",
       "    <tr style=\"text-align: right;\">\n",
       "      <th></th>\n",
       "      <th>name</th>\n",
       "      <th>age</th>\n",
       "      <th>marks</th>\n",
       "    </tr>\n",
       "  </thead>\n",
       "  <tbody>\n",
       "    <tr>\n",
       "      <th>0</th>\n",
       "      <td>raju</td>\n",
       "      <td>30</td>\n",
       "      <td>99</td>\n",
       "    </tr>\n",
       "    <tr>\n",
       "      <th>1</th>\n",
       "      <td>kalyan</td>\n",
       "      <td>29</td>\n",
       "      <td>98</td>\n",
       "    </tr>\n",
       "    <tr>\n",
       "      <th>2</th>\n",
       "      <td>sunny</td>\n",
       "      <td>7</td>\n",
       "      <td>97</td>\n",
       "    </tr>\n",
       "  </tbody>\n",
       "</table>\n",
       "</div>"
      ],
      "text/plain": [
       "     name   age    marks\n",
       "0    raju     30      99\n",
       "1  kalyan     29      98\n",
       "2   sunny      7      97"
      ]
     },
     "execution_count": 400,
     "metadata": {},
     "output_type": "execute_result"
    }
   ],
   "source": [
    "my_dict = {' name': ['raju', 'kalyan', 'sunny'], ' age ': [30,29,7], ' marks': [99,98,97]}\n",
    "df = pd.DataFrame(my_dict)\n",
    "df"
   ]
  },
  {
   "cell_type": "code",
   "execution_count": 401,
   "id": "47d848e2",
   "metadata": {},
   "outputs": [
    {
     "name": "stdout",
     "output_type": "stream",
     "text": [
      "df.columns[2],  marks\n"
     ]
    }
   ],
   "source": [
    "print('df.columns[2],', df.columns[2])"
   ]
  },
  {
   "cell_type": "code",
   "execution_count": 402,
   "id": "a5e49e1c",
   "metadata": {},
   "outputs": [
    {
     "data": {
      "text/html": [
       "<div>\n",
       "<style scoped>\n",
       "    .dataframe tbody tr th:only-of-type {\n",
       "        vertical-align: middle;\n",
       "    }\n",
       "\n",
       "    .dataframe tbody tr th {\n",
       "        vertical-align: top;\n",
       "    }\n",
       "\n",
       "    .dataframe thead th {\n",
       "        text-align: right;\n",
       "    }\n",
       "</style>\n",
       "<table border=\"1\" class=\"dataframe\">\n",
       "  <thead>\n",
       "    <tr style=\"text-align: right;\">\n",
       "      <th></th>\n",
       "      <th>name</th>\n",
       "      <th>age</th>\n",
       "      <th>percentage</th>\n",
       "    </tr>\n",
       "  </thead>\n",
       "  <tbody>\n",
       "    <tr>\n",
       "      <th>0</th>\n",
       "      <td>raju</td>\n",
       "      <td>30</td>\n",
       "      <td>99</td>\n",
       "    </tr>\n",
       "    <tr>\n",
       "      <th>1</th>\n",
       "      <td>kalyan</td>\n",
       "      <td>29</td>\n",
       "      <td>98</td>\n",
       "    </tr>\n",
       "    <tr>\n",
       "      <th>2</th>\n",
       "      <td>sunny</td>\n",
       "      <td>7</td>\n",
       "      <td>97</td>\n",
       "    </tr>\n",
       "  </tbody>\n",
       "</table>\n",
       "</div>"
      ],
      "text/plain": [
       "     name   age   percentage\n",
       "0    raju     30          99\n",
       "1  kalyan     29          98\n",
       "2   sunny      7          97"
      ]
     },
     "execution_count": 402,
     "metadata": {},
     "output_type": "execute_result"
    }
   ],
   "source": [
    "#rename column present at index 2\n",
    "\n",
    "df.rename(columns = {df.columns[2]:'percentage'}, inplace = True)\n",
    "df"
   ]
  },
  {
   "cell_type": "code",
   "execution_count": 403,
   "id": "5c414082",
   "metadata": {},
   "outputs": [
    {
     "name": "stdout",
     "output_type": "stream",
     "text": [
      "df.columns[2], percentage\n"
     ]
    }
   ],
   "source": [
    "print('df.columns[2],', df.columns[2])"
   ]
  },
  {
   "cell_type": "code",
   "execution_count": 404,
   "id": "f5a40614",
   "metadata": {},
   "outputs": [
    {
     "data": {
      "text/html": [
       "<div>\n",
       "<style scoped>\n",
       "    .dataframe tbody tr th:only-of-type {\n",
       "        vertical-align: middle;\n",
       "    }\n",
       "\n",
       "    .dataframe tbody tr th {\n",
       "        vertical-align: top;\n",
       "    }\n",
       "\n",
       "    .dataframe thead th {\n",
       "        text-align: right;\n",
       "    }\n",
       "</style>\n",
       "<table border=\"1\" class=\"dataframe\">\n",
       "  <thead>\n",
       "    <tr style=\"text-align: right;\">\n",
       "      <th></th>\n",
       "      <th>abc</th>\n",
       "      <th>xyz</th>\n",
       "      <th>percentage</th>\n",
       "    </tr>\n",
       "  </thead>\n",
       "  <tbody>\n",
       "    <tr>\n",
       "      <th>0</th>\n",
       "      <td>raju</td>\n",
       "      <td>30</td>\n",
       "      <td>99</td>\n",
       "    </tr>\n",
       "    <tr>\n",
       "      <th>1</th>\n",
       "      <td>kalyan</td>\n",
       "      <td>29</td>\n",
       "      <td>98</td>\n",
       "    </tr>\n",
       "    <tr>\n",
       "      <th>2</th>\n",
       "      <td>sunny</td>\n",
       "      <td>7</td>\n",
       "      <td>97</td>\n",
       "    </tr>\n",
       "  </tbody>\n",
       "</table>\n",
       "</div>"
      ],
      "text/plain": [
       "      abc  xyz  percentage\n",
       "0    raju   30          99\n",
       "1  kalyan   29          98\n",
       "2   sunny    7          97"
      ]
     },
     "execution_count": 404,
     "metadata": {},
     "output_type": "execute_result"
    }
   ],
   "source": [
    "#rename multiple columns using index\n",
    "\n",
    "df.rename(columns = {df.columns[0]:'abc', df.columns[1]:'xyz'}, inplace = True)\n",
    "df"
   ]
  },
  {
   "cell_type": "markdown",
   "id": "6290773a",
   "metadata": {},
   "source": [
    "## Raise error while renaming a column\n",
    "- By default, The DataFrame.rename() doesn’t throw any error if column names you tried to rename doesn’t exist in the dataset.\n",
    "\n",
    "- Do you want to throw an error in such cases?\n",
    "\n",
    "- If yes, then use the errors parameter of DataFrame.rename().\n",
    "\n",
    "- Set errors='raised' to throws KeyError for the unknown columns\n",
    "- Set errors='ignore' to not throw any errors.\n",
    "## Note:\n",
    "\n",
    "- If the new name mapping is not provided for some column label then it isn’t renamed.\n",
    "- Extra labels in the mapping don’t throw an error."
   ]
  },
  {
   "cell_type": "code",
   "execution_count": 405,
   "id": "32804b1f",
   "metadata": {},
   "outputs": [
    {
     "data": {
      "text/html": [
       "<div>\n",
       "<style scoped>\n",
       "    .dataframe tbody tr th:only-of-type {\n",
       "        vertical-align: middle;\n",
       "    }\n",
       "\n",
       "    .dataframe tbody tr th {\n",
       "        vertical-align: top;\n",
       "    }\n",
       "\n",
       "    .dataframe thead th {\n",
       "        text-align: right;\n",
       "    }\n",
       "</style>\n",
       "<table border=\"1\" class=\"dataframe\">\n",
       "  <thead>\n",
       "    <tr style=\"text-align: right;\">\n",
       "      <th></th>\n",
       "      <th>name</th>\n",
       "      <th>age</th>\n",
       "      <th>marks</th>\n",
       "    </tr>\n",
       "  </thead>\n",
       "  <tbody>\n",
       "    <tr>\n",
       "      <th>0</th>\n",
       "      <td>raju</td>\n",
       "      <td>30</td>\n",
       "      <td>99</td>\n",
       "    </tr>\n",
       "    <tr>\n",
       "      <th>1</th>\n",
       "      <td>kalyan</td>\n",
       "      <td>29</td>\n",
       "      <td>98</td>\n",
       "    </tr>\n",
       "    <tr>\n",
       "      <th>2</th>\n",
       "      <td>sunny</td>\n",
       "      <td>7</td>\n",
       "      <td>97</td>\n",
       "    </tr>\n",
       "  </tbody>\n",
       "</table>\n",
       "</div>"
      ],
      "text/plain": [
       "     name   age    marks\n",
       "0    raju     30      99\n",
       "1  kalyan     29      98\n",
       "2   sunny      7      97"
      ]
     },
     "execution_count": 405,
     "metadata": {},
     "output_type": "execute_result"
    }
   ],
   "source": [
    "my_dict = {' name': ['raju', 'kalyan', 'sunny'], ' age ': [30,29,7], ' marks': [99,98,97]}\n",
    "df = pd.DataFrame(my_dict)\n",
    "df"
   ]
  },
  {
   "cell_type": "code",
   "execution_count": 406,
   "id": "fa93872c",
   "metadata": {},
   "outputs": [
    {
     "ename": "KeyError",
     "evalue": "\"['unknown'] not found in axis\"",
     "output_type": "error",
     "traceback": [
      "\u001b[1;31m---------------------------------------------------------------------------\u001b[0m",
      "\u001b[1;31mKeyError\u001b[0m                                  Traceback (most recent call last)",
      "\u001b[1;32mC:\\Users\\RAJU~1.GUL\\AppData\\Local\\Temp/ipykernel_2072/1790001949.py\u001b[0m in \u001b[0;36m<module>\u001b[1;34m\u001b[0m\n\u001b[1;32m----> 1\u001b[1;33m \u001b[0mdf\u001b[0m\u001b[1;33m.\u001b[0m\u001b[0mrename\u001b[0m\u001b[1;33m(\u001b[0m\u001b[0mcolumns\u001b[0m \u001b[1;33m=\u001b[0m \u001b[1;33m{\u001b[0m\u001b[1;34m'unknown'\u001b[0m\u001b[1;33m:\u001b[0m \u001b[1;34m'a'\u001b[0m\u001b[1;33m}\u001b[0m\u001b[1;33m,\u001b[0m \u001b[0minplace\u001b[0m \u001b[1;33m=\u001b[0m \u001b[1;32mTrue\u001b[0m \u001b[1;33m,\u001b[0m \u001b[0merrors\u001b[0m \u001b[1;33m=\u001b[0m \u001b[1;34m'raise'\u001b[0m\u001b[1;33m)\u001b[0m\u001b[1;33m\u001b[0m\u001b[1;33m\u001b[0m\u001b[0m\n\u001b[0m",
      "\u001b[1;32m~\\Anaconda3\\lib\\site-packages\\pandas\\util\\_decorators.py\u001b[0m in \u001b[0;36mwrapper\u001b[1;34m(*args, **kwargs)\u001b[0m\n\u001b[0;32m    322\u001b[0m         \u001b[1;33m@\u001b[0m\u001b[0mwraps\u001b[0m\u001b[1;33m(\u001b[0m\u001b[0mfunc\u001b[0m\u001b[1;33m)\u001b[0m\u001b[1;33m\u001b[0m\u001b[1;33m\u001b[0m\u001b[0m\n\u001b[0;32m    323\u001b[0m         \u001b[1;32mdef\u001b[0m \u001b[0mwrapper\u001b[0m\u001b[1;33m(\u001b[0m\u001b[1;33m*\u001b[0m\u001b[0margs\u001b[0m\u001b[1;33m,\u001b[0m \u001b[1;33m**\u001b[0m\u001b[0mkwargs\u001b[0m\u001b[1;33m)\u001b[0m \u001b[1;33m->\u001b[0m \u001b[0mCallable\u001b[0m\u001b[1;33m[\u001b[0m\u001b[1;33m...\u001b[0m\u001b[1;33m,\u001b[0m \u001b[0mAny\u001b[0m\u001b[1;33m]\u001b[0m\u001b[1;33m:\u001b[0m\u001b[1;33m\u001b[0m\u001b[1;33m\u001b[0m\u001b[0m\n\u001b[1;32m--> 324\u001b[1;33m             \u001b[1;32mreturn\u001b[0m \u001b[0mfunc\u001b[0m\u001b[1;33m(\u001b[0m\u001b[1;33m*\u001b[0m\u001b[0margs\u001b[0m\u001b[1;33m,\u001b[0m \u001b[1;33m**\u001b[0m\u001b[0mkwargs\u001b[0m\u001b[1;33m)\u001b[0m\u001b[1;33m\u001b[0m\u001b[1;33m\u001b[0m\u001b[0m\n\u001b[0m\u001b[0;32m    325\u001b[0m \u001b[1;33m\u001b[0m\u001b[0m\n\u001b[0;32m    326\u001b[0m         \u001b[0mkind\u001b[0m \u001b[1;33m=\u001b[0m \u001b[0minspect\u001b[0m\u001b[1;33m.\u001b[0m\u001b[0mParameter\u001b[0m\u001b[1;33m.\u001b[0m\u001b[0mPOSITIONAL_OR_KEYWORD\u001b[0m\u001b[1;33m\u001b[0m\u001b[1;33m\u001b[0m\u001b[0m\n",
      "\u001b[1;32m~\\Anaconda3\\lib\\site-packages\\pandas\\core\\frame.py\u001b[0m in \u001b[0;36mrename\u001b[1;34m(self, mapper, index, columns, axis, copy, inplace, level, errors)\u001b[0m\n\u001b[0;32m   5037\u001b[0m         \u001b[1;36m4\u001b[0m  \u001b[1;36m3\u001b[0m  \u001b[1;36m6\u001b[0m\u001b[1;33m\u001b[0m\u001b[1;33m\u001b[0m\u001b[0m\n\u001b[0;32m   5038\u001b[0m         \"\"\"\n\u001b[1;32m-> 5039\u001b[1;33m         return super().rename(\n\u001b[0m\u001b[0;32m   5040\u001b[0m             \u001b[0mmapper\u001b[0m\u001b[1;33m=\u001b[0m\u001b[0mmapper\u001b[0m\u001b[1;33m,\u001b[0m\u001b[1;33m\u001b[0m\u001b[1;33m\u001b[0m\u001b[0m\n\u001b[0;32m   5041\u001b[0m             \u001b[0mindex\u001b[0m\u001b[1;33m=\u001b[0m\u001b[0mindex\u001b[0m\u001b[1;33m,\u001b[0m\u001b[1;33m\u001b[0m\u001b[1;33m\u001b[0m\u001b[0m\n",
      "\u001b[1;32m~\\Anaconda3\\lib\\site-packages\\pandas\\core\\generic.py\u001b[0m in \u001b[0;36mrename\u001b[1;34m(self, mapper, index, columns, axis, copy, inplace, level, errors)\u001b[0m\n\u001b[0;32m   1152\u001b[0m                         \u001b[1;32mif\u001b[0m \u001b[0mindexer\u001b[0m\u001b[1;33m[\u001b[0m\u001b[0mindex\u001b[0m\u001b[1;33m]\u001b[0m \u001b[1;33m==\u001b[0m \u001b[1;33m-\u001b[0m\u001b[1;36m1\u001b[0m\u001b[1;33m\u001b[0m\u001b[1;33m\u001b[0m\u001b[0m\n\u001b[0;32m   1153\u001b[0m                     ]\n\u001b[1;32m-> 1154\u001b[1;33m                     \u001b[1;32mraise\u001b[0m \u001b[0mKeyError\u001b[0m\u001b[1;33m(\u001b[0m\u001b[1;34mf\"{missing_labels} not found in axis\"\u001b[0m\u001b[1;33m)\u001b[0m\u001b[1;33m\u001b[0m\u001b[1;33m\u001b[0m\u001b[0m\n\u001b[0m\u001b[0;32m   1155\u001b[0m \u001b[1;33m\u001b[0m\u001b[0m\n\u001b[0;32m   1156\u001b[0m             \u001b[0mnew_index\u001b[0m \u001b[1;33m=\u001b[0m \u001b[0max\u001b[0m\u001b[1;33m.\u001b[0m\u001b[0m_transform_index\u001b[0m\u001b[1;33m(\u001b[0m\u001b[0mf\u001b[0m\u001b[1;33m,\u001b[0m \u001b[0mlevel\u001b[0m\u001b[1;33m)\u001b[0m\u001b[1;33m\u001b[0m\u001b[1;33m\u001b[0m\u001b[0m\n",
      "\u001b[1;31mKeyError\u001b[0m: \"['unknown'] not found in axis\""
     ]
    }
   ],
   "source": [
    "df.rename(columns = {'unknown': 'a'}, inplace = True , errors = 'raise')"
   ]
  },
  {
   "cell_type": "markdown",
   "id": "20454f06",
   "metadata": {},
   "source": [
    "## Rename column by adding prefix/suffix\n",
    "- We can rename the DataFrame columns using DataFrame.add_prefix() and DataFrame.add_suffix() functions. It appends the input string as a prefix or suffix to the column names respectively.\n",
    "\n",
    "- Note: These functions are only applicable to column labels and not row index of the DataFrame."
   ]
  },
  {
   "cell_type": "code",
   "execution_count": 407,
   "id": "ab83d7db",
   "metadata": {},
   "outputs": [
    {
     "data": {
      "text/html": [
       "<div>\n",
       "<style scoped>\n",
       "    .dataframe tbody tr th:only-of-type {\n",
       "        vertical-align: middle;\n",
       "    }\n",
       "\n",
       "    .dataframe tbody tr th {\n",
       "        vertical-align: top;\n",
       "    }\n",
       "\n",
       "    .dataframe thead th {\n",
       "        text-align: right;\n",
       "    }\n",
       "</style>\n",
       "<table border=\"1\" class=\"dataframe\">\n",
       "  <thead>\n",
       "    <tr style=\"text-align: right;\">\n",
       "      <th></th>\n",
       "      <th>name</th>\n",
       "      <th>age</th>\n",
       "      <th>marks</th>\n",
       "    </tr>\n",
       "  </thead>\n",
       "  <tbody>\n",
       "    <tr>\n",
       "      <th>0</th>\n",
       "      <td>raju</td>\n",
       "      <td>30</td>\n",
       "      <td>99</td>\n",
       "    </tr>\n",
       "    <tr>\n",
       "      <th>1</th>\n",
       "      <td>kalyan</td>\n",
       "      <td>29</td>\n",
       "      <td>98</td>\n",
       "    </tr>\n",
       "    <tr>\n",
       "      <th>2</th>\n",
       "      <td>sunny</td>\n",
       "      <td>7</td>\n",
       "      <td>97</td>\n",
       "    </tr>\n",
       "  </tbody>\n",
       "</table>\n",
       "</div>"
      ],
      "text/plain": [
       "     name   age    marks\n",
       "0    raju     30      99\n",
       "1  kalyan     29      98\n",
       "2   sunny      7      97"
      ]
     },
     "execution_count": 407,
     "metadata": {},
     "output_type": "execute_result"
    }
   ],
   "source": [
    "my_dict = {' name': ['raju', 'kalyan', 'sunny'], ' age ': [30,29,7], ' marks': [99,98,97]}\n",
    "df = pd.DataFrame(my_dict)\n",
    "df"
   ]
  },
  {
   "cell_type": "code",
   "execution_count": 408,
   "id": "b027ccef",
   "metadata": {},
   "outputs": [
    {
     "data": {
      "text/html": [
       "<div>\n",
       "<style scoped>\n",
       "    .dataframe tbody tr th:only-of-type {\n",
       "        vertical-align: middle;\n",
       "    }\n",
       "\n",
       "    .dataframe tbody tr th {\n",
       "        vertical-align: top;\n",
       "    }\n",
       "\n",
       "    .dataframe thead th {\n",
       "        text-align: right;\n",
       "    }\n",
       "</style>\n",
       "<table border=\"1\" class=\"dataframe\">\n",
       "  <thead>\n",
       "    <tr style=\"text-align: right;\">\n",
       "      <th></th>\n",
       "      <th>$_ name</th>\n",
       "      <th>$_ age</th>\n",
       "      <th>$_ marks</th>\n",
       "    </tr>\n",
       "  </thead>\n",
       "  <tbody>\n",
       "    <tr>\n",
       "      <th>0</th>\n",
       "      <td>raju</td>\n",
       "      <td>30</td>\n",
       "      <td>99</td>\n",
       "    </tr>\n",
       "    <tr>\n",
       "      <th>1</th>\n",
       "      <td>kalyan</td>\n",
       "      <td>29</td>\n",
       "      <td>98</td>\n",
       "    </tr>\n",
       "    <tr>\n",
       "      <th>2</th>\n",
       "      <td>sunny</td>\n",
       "      <td>7</td>\n",
       "      <td>97</td>\n",
       "    </tr>\n",
       "  </tbody>\n",
       "</table>\n",
       "</div>"
      ],
      "text/plain": [
       "  $_ name  $_ age   $_ marks\n",
       "0    raju       30        99\n",
       "1  kalyan       29        98\n",
       "2   sunny        7        97"
      ]
     },
     "execution_count": 408,
     "metadata": {},
     "output_type": "execute_result"
    }
   ],
   "source": [
    "#adding prefix and suffix to column names\n",
    "\n",
    "df1 = df.add_prefix('$_')\n",
    "df1"
   ]
  },
  {
   "cell_type": "code",
   "execution_count": 410,
   "id": "4ab98815",
   "metadata": {},
   "outputs": [
    {
     "data": {
      "text/html": [
       "<div>\n",
       "<style scoped>\n",
       "    .dataframe tbody tr th:only-of-type {\n",
       "        vertical-align: middle;\n",
       "    }\n",
       "\n",
       "    .dataframe tbody tr th {\n",
       "        vertical-align: top;\n",
       "    }\n",
       "\n",
       "    .dataframe thead th {\n",
       "        text-align: right;\n",
       "    }\n",
       "</style>\n",
       "<table border=\"1\" class=\"dataframe\">\n",
       "  <thead>\n",
       "    <tr style=\"text-align: right;\">\n",
       "      <th></th>\n",
       "      <th>name-$</th>\n",
       "      <th>age -$</th>\n",
       "      <th>marks-$</th>\n",
       "    </tr>\n",
       "  </thead>\n",
       "  <tbody>\n",
       "    <tr>\n",
       "      <th>0</th>\n",
       "      <td>raju</td>\n",
       "      <td>30</td>\n",
       "      <td>99</td>\n",
       "    </tr>\n",
       "    <tr>\n",
       "      <th>1</th>\n",
       "      <td>kalyan</td>\n",
       "      <td>29</td>\n",
       "      <td>98</td>\n",
       "    </tr>\n",
       "    <tr>\n",
       "      <th>2</th>\n",
       "      <td>sunny</td>\n",
       "      <td>7</td>\n",
       "      <td>97</td>\n",
       "    </tr>\n",
       "  </tbody>\n",
       "</table>\n",
       "</div>"
      ],
      "text/plain": [
       "   name-$   age -$   marks-$\n",
       "0    raju       30        99\n",
       "1  kalyan       29        98\n",
       "2   sunny        7        97"
      ]
     },
     "execution_count": 410,
     "metadata": {},
     "output_type": "execute_result"
    }
   ],
   "source": [
    "df2 = df.add_suffix('-$')\n",
    "df2"
   ]
  },
  {
   "cell_type": "markdown",
   "id": "25f0d110",
   "metadata": {},
   "source": [
    "## Rename column using DataFrame.set_axis()\n",
    "- Use the set_axis() method you to rename all the index or column labels with a list. Using this function we can reassign column headers or row index of the DataFrame.\n",
    "\n",
    "- This function is useful when working with a data set with no column names.\n",
    "\n",
    "## Syntax:\n",
    "\n",
    "- DataFrame.set_axis(labels, axis=0, inplace=False)\n",
    "## Parameters:\n",
    "\n",
    "- labels: List of column names as an input.\n",
    "- axis: The axis to update. Set axis=1 rename column headers. The default value is 0. (i.e., rename row index)\n",
    "- inplace: It is used to decide whether to return a new DataFrame instance or rename the existing one. It is a boolean flag with the default False. If it is True then it renames the existing DataFrame rather than creating a copy.\n",
    "## Returns:\n",
    "\n",
    "- It returns an object of type DataFrame else None if inplace=True.\n",
    "\n",
    "- Note: Supply a list to the set_axis() method that is equal in length to the number of columns otherwise you will get an error."
   ]
  },
  {
   "cell_type": "code",
   "execution_count": 416,
   "id": "d6e07c75",
   "metadata": {},
   "outputs": [
    {
     "data": {
      "text/html": [
       "<div>\n",
       "<style scoped>\n",
       "    .dataframe tbody tr th:only-of-type {\n",
       "        vertical-align: middle;\n",
       "    }\n",
       "\n",
       "    .dataframe tbody tr th {\n",
       "        vertical-align: top;\n",
       "    }\n",
       "\n",
       "    .dataframe thead th {\n",
       "        text-align: right;\n",
       "    }\n",
       "</style>\n",
       "<table border=\"1\" class=\"dataframe\">\n",
       "  <thead>\n",
       "    <tr style=\"text-align: right;\">\n",
       "      <th></th>\n",
       "      <th>name</th>\n",
       "      <th>age</th>\n",
       "      <th>marks</th>\n",
       "    </tr>\n",
       "  </thead>\n",
       "  <tbody>\n",
       "    <tr>\n",
       "      <th>0</th>\n",
       "      <td>raju</td>\n",
       "      <td>30</td>\n",
       "      <td>99</td>\n",
       "    </tr>\n",
       "    <tr>\n",
       "      <th>1</th>\n",
       "      <td>kalyan</td>\n",
       "      <td>29</td>\n",
       "      <td>98</td>\n",
       "    </tr>\n",
       "    <tr>\n",
       "      <th>2</th>\n",
       "      <td>sunny</td>\n",
       "      <td>7</td>\n",
       "      <td>97</td>\n",
       "    </tr>\n",
       "  </tbody>\n",
       "</table>\n",
       "</div>"
      ],
      "text/plain": [
       "     name   age    marks\n",
       "0    raju     30      99\n",
       "1  kalyan     29      98\n",
       "2   sunny      7      97"
      ]
     },
     "execution_count": 416,
     "metadata": {},
     "output_type": "execute_result"
    }
   ],
   "source": [
    "my_dict = {' name': ['raju', 'kalyan', 'sunny'], ' age ': [30,29,7], ' marks': [99,98,97]}\n",
    "df = pd.DataFrame(my_dict)\n",
    "df"
   ]
  },
  {
   "cell_type": "code",
   "execution_count": 417,
   "id": "15ebe1be",
   "metadata": {},
   "outputs": [
    {
     "data": {
      "text/plain": [
       "array(['new_name', 'new_age', 'new_marks'], dtype=object)"
      ]
     },
     "execution_count": 417,
     "metadata": {},
     "output_type": "execute_result"
    }
   ],
   "source": [
    "df.set_axis(['new_name', 'new_age', 'new_marks'], axis = 'columns', inplace = True)\n",
    "df.columns.values"
   ]
  },
  {
   "cell_type": "markdown",
   "id": "2f5b286f",
   "metadata": {},
   "source": [
    "## Rename column in multi-index DataFrame\n",
    "- Pandas DataFrame can have single or multiple rows as column labels, i.e., a header to identify the columns. DataFrame with multiple headers is called a multi-index DataFrame.\n",
    "\n",
    "- Rename columns in all levels\n",
    "- We can apply DataFrame.rename() function on multi-index DataFrame.\n",
    "\n",
    "- In the below example, we use df.rename(columns={'old_col':'new_col'}) which rename the column labels in all the levels of multi-index DataFrame."
   ]
  },
  {
   "cell_type": "code",
   "execution_count": 418,
   "id": "f5eb36e2",
   "metadata": {},
   "outputs": [],
   "source": [
    "#create a column header\n",
    "\n",
    "col = pd.MultiIndex.from_arrays([['Class A', 'Class A', 'Class B', 'Class B'], \n",
    "                                ['Name', 'Marks', 'Name', 'Marks']])"
   ]
  },
  {
   "cell_type": "code",
   "execution_count": 419,
   "id": "9a70079a",
   "metadata": {},
   "outputs": [
    {
     "data": {
      "text/html": [
       "<div>\n",
       "<style scoped>\n",
       "    .dataframe tbody tr th:only-of-type {\n",
       "        vertical-align: middle;\n",
       "    }\n",
       "\n",
       "    .dataframe tbody tr th {\n",
       "        vertical-align: top;\n",
       "    }\n",
       "\n",
       "    .dataframe thead tr th {\n",
       "        text-align: left;\n",
       "    }\n",
       "</style>\n",
       "<table border=\"1\" class=\"dataframe\">\n",
       "  <thead>\n",
       "    <tr>\n",
       "      <th></th>\n",
       "      <th colspan=\"2\" halign=\"left\">Class A</th>\n",
       "      <th colspan=\"2\" halign=\"left\">Class B</th>\n",
       "    </tr>\n",
       "    <tr>\n",
       "      <th></th>\n",
       "      <th>Name</th>\n",
       "      <th>Marks</th>\n",
       "      <th>Name</th>\n",
       "      <th>Marks</th>\n",
       "    </tr>\n",
       "  </thead>\n",
       "  <tbody>\n",
       "    <tr>\n",
       "      <th>0</th>\n",
       "      <td>raju</td>\n",
       "      <td>99</td>\n",
       "      <td>kalyan</td>\n",
       "      <td>98</td>\n",
       "    </tr>\n",
       "    <tr>\n",
       "      <th>1</th>\n",
       "      <td>sunny</td>\n",
       "      <td>97</td>\n",
       "      <td>bunny</td>\n",
       "      <td>95</td>\n",
       "    </tr>\n",
       "  </tbody>\n",
       "</table>\n",
       "</div>"
      ],
      "text/plain": [
       "  Class A       Class B      \n",
       "     Name Marks    Name Marks\n",
       "0    raju    99  kalyan    98\n",
       "1   sunny    97   bunny    95"
      ]
     },
     "execution_count": 419,
     "metadata": {},
     "output_type": "execute_result"
    }
   ],
   "source": [
    "#create data frame from 2d Array\n",
    "\n",
    "df = pd.DataFrame([['raju', 99, 'kalyan', 98], ['sunny', 97, 'bunny', 95]], columns = col)\n",
    "df"
   ]
  },
  {
   "cell_type": "code",
   "execution_count": 420,
   "id": "fa117be1",
   "metadata": {},
   "outputs": [
    {
     "data": {
      "text/html": [
       "<div>\n",
       "<style scoped>\n",
       "    .dataframe tbody tr th:only-of-type {\n",
       "        vertical-align: middle;\n",
       "    }\n",
       "\n",
       "    .dataframe tbody tr th {\n",
       "        vertical-align: top;\n",
       "    }\n",
       "\n",
       "    .dataframe thead tr th {\n",
       "        text-align: left;\n",
       "    }\n",
       "</style>\n",
       "<table border=\"1\" class=\"dataframe\">\n",
       "  <thead>\n",
       "    <tr>\n",
       "      <th></th>\n",
       "      <th colspan=\"2\" halign=\"left\">Class A</th>\n",
       "      <th colspan=\"2\" halign=\"left\">Class B</th>\n",
       "    </tr>\n",
       "    <tr>\n",
       "      <th></th>\n",
       "      <th>SName</th>\n",
       "      <th>Marks</th>\n",
       "      <th>SName</th>\n",
       "      <th>Marks</th>\n",
       "    </tr>\n",
       "  </thead>\n",
       "  <tbody>\n",
       "    <tr>\n",
       "      <th>0</th>\n",
       "      <td>raju</td>\n",
       "      <td>99</td>\n",
       "      <td>kalyan</td>\n",
       "      <td>98</td>\n",
       "    </tr>\n",
       "    <tr>\n",
       "      <th>1</th>\n",
       "      <td>sunny</td>\n",
       "      <td>97</td>\n",
       "      <td>bunny</td>\n",
       "      <td>95</td>\n",
       "    </tr>\n",
       "  </tbody>\n",
       "</table>\n",
       "</div>"
      ],
      "text/plain": [
       "  Class A       Class B      \n",
       "    SName Marks   SName Marks\n",
       "0    raju    99  kalyan    98\n",
       "1   sunny    97   bunny    95"
      ]
     },
     "execution_count": 420,
     "metadata": {},
     "output_type": "execute_result"
    }
   ],
   "source": [
    "#Rename col label\n",
    "df = df.rename(columns = {'Name': 'SName'})\n",
    "df"
   ]
  },
  {
   "cell_type": "markdown",
   "id": "a2d52e62",
   "metadata": {},
   "source": [
    "## Rename columns in defined level\n",
    "- It is the case when we have the same column labels in multiple levels of the multi-index DataFrame. But, we need to rename the column in a selected level only. Or we want to rename column labels of a particular level only in such cases we can use the level parameter of DataFrame.rename().\n",
    "\n",
    "- This parameter is used to specify the level name or level index where we need to rename the columns."
   ]
  },
  {
   "cell_type": "code",
   "execution_count": 421,
   "id": "9247f130",
   "metadata": {},
   "outputs": [
    {
     "data": {
      "text/html": [
       "<div>\n",
       "<style scoped>\n",
       "    .dataframe tbody tr th:only-of-type {\n",
       "        vertical-align: middle;\n",
       "    }\n",
       "\n",
       "    .dataframe tbody tr th {\n",
       "        vertical-align: top;\n",
       "    }\n",
       "\n",
       "    .dataframe thead tr th {\n",
       "        text-align: left;\n",
       "    }\n",
       "</style>\n",
       "<table border=\"1\" class=\"dataframe\">\n",
       "  <thead>\n",
       "    <tr>\n",
       "      <th></th>\n",
       "      <th colspan=\"2\" halign=\"left\">Class A</th>\n",
       "      <th colspan=\"2\" halign=\"left\">Class B</th>\n",
       "    </tr>\n",
       "    <tr>\n",
       "      <th></th>\n",
       "      <th>SName</th>\n",
       "      <th>Marks</th>\n",
       "      <th>SName</th>\n",
       "      <th>Marks</th>\n",
       "    </tr>\n",
       "  </thead>\n",
       "  <tbody>\n",
       "    <tr>\n",
       "      <th>0</th>\n",
       "      <td>raju</td>\n",
       "      <td>99</td>\n",
       "      <td>kalyan</td>\n",
       "      <td>98</td>\n",
       "    </tr>\n",
       "    <tr>\n",
       "      <th>1</th>\n",
       "      <td>sunny</td>\n",
       "      <td>97</td>\n",
       "      <td>bunny</td>\n",
       "      <td>95</td>\n",
       "    </tr>\n",
       "  </tbody>\n",
       "</table>\n",
       "</div>"
      ],
      "text/plain": [
       "  Class A       Class B      \n",
       "    SName Marks   SName Marks\n",
       "0    raju    99  kalyan    98\n",
       "1   sunny    97   bunny    95"
      ]
     },
     "execution_count": 421,
     "metadata": {},
     "output_type": "execute_result"
    }
   ],
   "source": []
  },
  {
   "cell_type": "code",
   "execution_count": 422,
   "id": "648a0528",
   "metadata": {},
   "outputs": [
    {
     "data": {
      "text/html": [
       "<div>\n",
       "<style scoped>\n",
       "    .dataframe tbody tr th:only-of-type {\n",
       "        vertical-align: middle;\n",
       "    }\n",
       "\n",
       "    .dataframe tbody tr th {\n",
       "        vertical-align: top;\n",
       "    }\n",
       "\n",
       "    .dataframe thead tr th {\n",
       "        text-align: left;\n",
       "    }\n",
       "</style>\n",
       "<table border=\"1\" class=\"dataframe\">\n",
       "  <thead>\n",
       "    <tr>\n",
       "      <th></th>\n",
       "      <th colspan=\"2\" halign=\"left\">Class A</th>\n",
       "      <th colspan=\"2\" halign=\"left\">Class B</th>\n",
       "    </tr>\n",
       "    <tr>\n",
       "      <th></th>\n",
       "      <th>Name</th>\n",
       "      <th>Marks</th>\n",
       "      <th>Name</th>\n",
       "      <th>Marks</th>\n",
       "    </tr>\n",
       "  </thead>\n",
       "  <tbody>\n",
       "    <tr>\n",
       "      <th>0</th>\n",
       "      <td>raju</td>\n",
       "      <td>99</td>\n",
       "      <td>kalyan</td>\n",
       "      <td>98</td>\n",
       "    </tr>\n",
       "    <tr>\n",
       "      <th>1</th>\n",
       "      <td>sunny</td>\n",
       "      <td>97</td>\n",
       "      <td>bunny</td>\n",
       "      <td>95</td>\n",
       "    </tr>\n",
       "  </tbody>\n",
       "</table>\n",
       "</div>"
      ],
      "text/plain": [
       "  Class A       Class B      \n",
       "     Name Marks    Name Marks\n",
       "0    raju    99  kalyan    98\n",
       "1   sunny    97   bunny    95"
      ]
     },
     "execution_count": 422,
     "metadata": {},
     "output_type": "execute_result"
    }
   ],
   "source": [
    "#create a column header\n",
    "\n",
    "col = pd.MultiIndex.from_arrays([['Class A', 'Class A', 'Class B', 'Class B'], \n",
    "                                ['Name', 'Marks', 'Name', 'Marks']])\n",
    "\n",
    "#create data frame from 2d Array\n",
    "\n",
    "df = pd.DataFrame([['raju', 99, 'kalyan', 98], ['sunny', 97, 'bunny', 95]], columns = col)\n",
    "df"
   ]
  },
  {
   "cell_type": "code",
   "execution_count": 423,
   "id": "6cf6291d",
   "metadata": {},
   "outputs": [
    {
     "data": {
      "text/html": [
       "<div>\n",
       "<style scoped>\n",
       "    .dataframe tbody tr th:only-of-type {\n",
       "        vertical-align: middle;\n",
       "    }\n",
       "\n",
       "    .dataframe tbody tr th {\n",
       "        vertical-align: top;\n",
       "    }\n",
       "\n",
       "    .dataframe thead tr th {\n",
       "        text-align: left;\n",
       "    }\n",
       "</style>\n",
       "<table border=\"1\" class=\"dataframe\">\n",
       "  <thead>\n",
       "    <tr>\n",
       "      <th></th>\n",
       "      <th colspan=\"2\" halign=\"left\">Class A</th>\n",
       "      <th colspan=\"2\" halign=\"left\">Class B</th>\n",
       "    </tr>\n",
       "    <tr>\n",
       "      <th></th>\n",
       "      <th>NAME</th>\n",
       "      <th>MARKS</th>\n",
       "      <th>NAME</th>\n",
       "      <th>MARKS</th>\n",
       "    </tr>\n",
       "  </thead>\n",
       "  <tbody>\n",
       "    <tr>\n",
       "      <th>0</th>\n",
       "      <td>raju</td>\n",
       "      <td>99</td>\n",
       "      <td>kalyan</td>\n",
       "      <td>98</td>\n",
       "    </tr>\n",
       "    <tr>\n",
       "      <th>1</th>\n",
       "      <td>sunny</td>\n",
       "      <td>97</td>\n",
       "      <td>bunny</td>\n",
       "      <td>95</td>\n",
       "    </tr>\n",
       "  </tbody>\n",
       "</table>\n",
       "</div>"
      ],
      "text/plain": [
       "  Class A       Class B      \n",
       "     NAME MARKS    NAME MARKS\n",
       "0    raju    99  kalyan    98\n",
       "1   sunny    97   bunny    95"
      ]
     },
     "execution_count": 423,
     "metadata": {},
     "output_type": "execute_result"
    }
   ],
   "source": [
    "df = df.rename(columns = str.upper, level = 1)\n",
    "df"
   ]
  },
  {
   "cell_type": "markdown",
   "id": "06c2dcf7",
   "metadata": {},
   "source": [
    "## Convert Pandas DataFrame to Python dictionary\n",
    "- Data Analyst needs to collect the data from heterogeneous sources like CSV files or SQL tables or Python data structures like a dictionary, list, etc. Such data is converted into pandas DataFrame.\n",
    "\n",
    "- After analyzing the data, we need to convert the resultant DataFrame back to its original format like CSV files or a dictionary. Or sometimes, we need to convert it into some other form."
   ]
  },
  {
   "cell_type": "markdown",
   "id": "10e098ff",
   "metadata": {},
   "source": [
    "## The DataFrame.to_dict() function\n",
    "- Pandas have a DataFrame.to_dict() function to create a Python dict object from DataFrame.\n",
    "\n",
    "- DataFrame.to_dict(orient='dict', into=<class 'dict'>)\n",
    "\n",
    "## Parameters:\n",
    "\n",
    "- into: It is used to define the type of resultant dict. We can give an actual class or an empty instance.\n",
    "- orient: It defines the structure of key-value pairs in the resultant dict. The below table shows the input parameter, the format in which it creates the dict and key-value of the resultant dict."
   ]
  },
  {
   "cell_type": "code",
   "execution_count": 426,
   "id": "3d107d51",
   "metadata": {},
   "outputs": [
    {
     "name": "stdout",
     "output_type": "stream",
     "text": [
      "    Name  Marks\n",
      "0    Nat  70.88\n",
      "1  Harry  85.90\n",
      "2    Joe  91.45\n",
      "{'Name': {0: 'Nat', 1: 'Harry', 2: 'Joe'}, 'Marks': {0: 70.88, 1: 85.9, 2: 91.45}}\n"
     ]
    }
   ],
   "source": [
    "import pandas as pd\n",
    "\n",
    "# create dataframe from csv\n",
    "df = pd.read_csv(\"StudentData.csv\")\n",
    "print(df)\n",
    "\n",
    "# create dict from dataframe\n",
    "df_Dict = df.to_dict()\n",
    "print(df_Dict)"
   ]
  },
  {
   "cell_type": "markdown",
   "id": "f6b074d7",
   "metadata": {},
   "source": [
    "## DataFrame to dict with a list of values\n",
    "- It is a case when we have DataFrame, which needs to be converted into the dictionary object such that column label should be the keys in the dictionary, and all the columns’ data should be added into the resultant dict as a list of values against each key."
   ]
  },
  {
   "cell_type": "code",
   "execution_count": 428,
   "id": "d32df5b8",
   "metadata": {},
   "outputs": [
    {
     "data": {
      "text/html": [
       "<div>\n",
       "<style scoped>\n",
       "    .dataframe tbody tr th:only-of-type {\n",
       "        vertical-align: middle;\n",
       "    }\n",
       "\n",
       "    .dataframe tbody tr th {\n",
       "        vertical-align: top;\n",
       "    }\n",
       "\n",
       "    .dataframe thead th {\n",
       "        text-align: right;\n",
       "    }\n",
       "</style>\n",
       "<table border=\"1\" class=\"dataframe\">\n",
       "  <thead>\n",
       "    <tr style=\"text-align: right;\">\n",
       "      <th></th>\n",
       "      <th>Name</th>\n",
       "      <th>Marks</th>\n",
       "    </tr>\n",
       "  </thead>\n",
       "  <tbody>\n",
       "    <tr>\n",
       "      <th>0</th>\n",
       "      <td>Nat</td>\n",
       "      <td>70.88</td>\n",
       "    </tr>\n",
       "    <tr>\n",
       "      <th>1</th>\n",
       "      <td>Harry</td>\n",
       "      <td>85.90</td>\n",
       "    </tr>\n",
       "    <tr>\n",
       "      <th>2</th>\n",
       "      <td>Joe</td>\n",
       "      <td>91.45</td>\n",
       "    </tr>\n",
       "  </tbody>\n",
       "</table>\n",
       "</div>"
      ],
      "text/plain": [
       "    Name  Marks\n",
       "0    Nat  70.88\n",
       "1  Harry  85.90\n",
       "2    Joe  91.45"
      ]
     },
     "execution_count": 428,
     "metadata": {},
     "output_type": "execute_result"
    }
   ],
   "source": [
    "df = pd.read_csv(\"StudentData.csv\")\n",
    "df"
   ]
  },
  {
   "cell_type": "code",
   "execution_count": 429,
   "id": "ba9dcd9a",
   "metadata": {},
   "outputs": [
    {
     "data": {
      "text/plain": [
       "{'Name': ['Nat', 'Harry', 'Joe'], 'Marks': [70.88, 85.9, 91.45]}"
      ]
     },
     "execution_count": 429,
     "metadata": {},
     "output_type": "execute_result"
    }
   ],
   "source": [
    "df_dict = df.to_dict('list')\n",
    "df_dict"
   ]
  },
  {
   "cell_type": "markdown",
   "id": "d81f6d82",
   "metadata": {},
   "source": [
    "## DataFrame to dict with pandas series of values\n",
    "- When we need to convert the DataFrame into dict whereas column name as a key of the dict. And row index and data as a value in the dict for the respective keys.\n",
    "\n",
    "- {column_label : Series(row_index data)}\n",
    "- In that case, we can use the 'series' parameter of DataFrame.to_dict() function."
   ]
  },
  {
   "cell_type": "code",
   "execution_count": 431,
   "id": "cbb7d94c",
   "metadata": {},
   "outputs": [
    {
     "name": "stdout",
     "output_type": "stream",
     "text": [
      "{'Name': 0      Nat\n",
      "1    Harry\n",
      "2      Joe\n",
      "Name: Name, dtype: object, 'Marks': 0    70.88\n",
      "1    85.90\n",
      "2    91.45\n",
      "Name: Marks, dtype: float64}\n"
     ]
    }
   ],
   "source": [
    "df_dict = df.to_dict('series')\n",
    "print(df_dict)"
   ]
  },
  {
   "cell_type": "markdown",
   "id": "432f2be7",
   "metadata": {},
   "source": [
    "## DataFrame to dict without header and index\n",
    "- When we want to collect the data from DataFrame without the column headers or we need to separate the row index and header from the data, we can use the 'split' parameter of DataFrame.to_dict() function. It splits the input DataFrame into three parts, i.e., row index, column labels, and actual data.\n",
    "\n",
    "- {'row_index' : [index], 'column_label' : [columns], 'data' : [data]}"
   ]
  },
  {
   "cell_type": "code",
   "execution_count": 432,
   "id": "76f8e6ba",
   "metadata": {},
   "outputs": [
    {
     "name": "stdout",
     "output_type": "stream",
     "text": [
      "{'index': [0, 1, 2], 'columns': ['Name', 'Marks'], 'data': [['Nat', 70.88], ['Harry', 85.9], ['Joe', 91.45]]}\n"
     ]
    }
   ],
   "source": [
    "df_dict = df.to_dict('split')\n",
    "print(df_dict)"
   ]
  },
  {
   "cell_type": "code",
   "execution_count": 433,
   "id": "6017d71c",
   "metadata": {},
   "outputs": [
    {
     "name": "stdout",
     "output_type": "stream",
     "text": [
      "[['Nat', 70.88], ['Harry', 85.9], ['Joe', 91.45]]\n"
     ]
    }
   ],
   "source": [
    "print(df_dict['data'])"
   ]
  },
  {
   "cell_type": "markdown",
   "id": "67143a65",
   "metadata": {},
   "source": [
    "## DataFrame to dict by row\n",
    "\n",
    "- When we have a DataFrame where each row contains data that needs to be store in a separate dictionary object, i.e., we need a data row-wise, we can use the 'records' parameter of the DataFrame.to_dict() function.\n",
    "\n",
    "- It returns a list of dictionary objects. A dict for each row, where the key is a column label, and the value is column data.\n",
    "\n",
    "- [{column_label : data}, … , {column_label : data}]"
   ]
  },
  {
   "cell_type": "code",
   "execution_count": 434,
   "id": "9d9986d2",
   "metadata": {},
   "outputs": [
    {
     "name": "stdout",
     "output_type": "stream",
     "text": [
      "[{'Name': 'Nat', 'Marks': 70.88}, {'Name': 'Harry', 'Marks': 85.9}, {'Name': 'Joe', 'Marks': 91.45}]\n"
     ]
    },
    {
     "name": "stderr",
     "output_type": "stream",
     "text": [
      "C:\\Users\\RAJU~1.GUL\\AppData\\Local\\Temp/ipykernel_2072/3262765786.py:1: FutureWarning: Using short name for 'orient' is deprecated. Only the options: ('dict', list, 'series', 'split', 'records', 'index') will be used in a future version. Use one of the above to silence this warning.\n",
      "  df_dict = df.to_dict('record')\n"
     ]
    }
   ],
   "source": [
    "df_dict = df.to_dict('record')\n",
    "print(df_dict)"
   ]
  },
  {
   "cell_type": "markdown",
   "id": "f3949176",
   "metadata": {},
   "source": [
    "## DataFrame to dict by row index\n",
    "- When we have a DataFrame with row indexes and if we need to convert the data of each row from DataFrame to dict, we can use the index parameter of the DataFrame.to_dict() function.\n",
    "\n",
    "- It returns a list of dictionary objects. A dict is created for each row. Where the key is a row index, and the value is dict of column label and data.\n",
    "\n",
    "- {row_index : {column_label : data}}"
   ]
  },
  {
   "cell_type": "code",
   "execution_count": 435,
   "id": "30b388d6",
   "metadata": {},
   "outputs": [
    {
     "name": "stdout",
     "output_type": "stream",
     "text": [
      "{0: {'Name': 'Nat', 'Marks': 70.88}, 1: {'Name': 'Harry', 'Marks': 85.9}, 2: {'Name': 'Joe', 'Marks': 91.45}}\n"
     ]
    }
   ],
   "source": [
    "df_dict = df.to_dict('index')\n",
    "print(df_dict)"
   ]
  },
  {
   "cell_type": "markdown",
   "id": "b0c3122c",
   "metadata": {},
   "source": [
    "## DataFrame to dict with one column as the key\n",
    "- In this section, we target the use case when we need to create a dict from DataFrame where one column as a key of dict and other columns as the value of the dict.\n",
    "\n",
    "- Suppose we have student DataFrame with two columns, student’s Name, and student’s Marks. And we need to store each student’s data in the dict where the student name is the Key and their marks as a Value of the dict.\n",
    "\n",
    "- We can do it in various ways, as shown below.\n",
    "\n",
    "- Using df.set_index('Col1').to_dict()['Col2']\n",
    "- Using zip(df.Col1, df.Col2)\n",
    "- Using df.set_index('Col1').T.to_dict('list')"
   ]
  },
  {
   "cell_type": "code",
   "execution_count": 436,
   "id": "0334b415",
   "metadata": {},
   "outputs": [
    {
     "data": {
      "text/html": [
       "<div>\n",
       "<style scoped>\n",
       "    .dataframe tbody tr th:only-of-type {\n",
       "        vertical-align: middle;\n",
       "    }\n",
       "\n",
       "    .dataframe tbody tr th {\n",
       "        vertical-align: top;\n",
       "    }\n",
       "\n",
       "    .dataframe thead th {\n",
       "        text-align: right;\n",
       "    }\n",
       "</style>\n",
       "<table border=\"1\" class=\"dataframe\">\n",
       "  <thead>\n",
       "    <tr style=\"text-align: right;\">\n",
       "      <th></th>\n",
       "      <th>Name</th>\n",
       "      <th>Marks</th>\n",
       "    </tr>\n",
       "  </thead>\n",
       "  <tbody>\n",
       "    <tr>\n",
       "      <th>0</th>\n",
       "      <td>Nat</td>\n",
       "      <td>70.88</td>\n",
       "    </tr>\n",
       "    <tr>\n",
       "      <th>1</th>\n",
       "      <td>Harry</td>\n",
       "      <td>85.90</td>\n",
       "    </tr>\n",
       "    <tr>\n",
       "      <th>2</th>\n",
       "      <td>Joe</td>\n",
       "      <td>91.45</td>\n",
       "    </tr>\n",
       "  </tbody>\n",
       "</table>\n",
       "</div>"
      ],
      "text/plain": [
       "    Name  Marks\n",
       "0    Nat  70.88\n",
       "1  Harry  85.90\n",
       "2    Joe  91.45"
      ]
     },
     "execution_count": 436,
     "metadata": {},
     "output_type": "execute_result"
    }
   ],
   "source": [
    "df = pd.read_csv(\"StudentData.csv\")\n",
    "df"
   ]
  },
  {
   "cell_type": "code",
   "execution_count": 439,
   "id": "89780f89",
   "metadata": {},
   "outputs": [
    {
     "data": {
      "text/plain": [
       "0      Nat\n",
       "1    Harry\n",
       "2      Joe\n",
       "Name: Name, dtype: object"
      ]
     },
     "execution_count": 439,
     "metadata": {},
     "output_type": "execute_result"
    }
   ],
   "source": [
    "df.Name"
   ]
  },
  {
   "cell_type": "code",
   "execution_count": 440,
   "id": "18cb42fa",
   "metadata": {},
   "outputs": [
    {
     "data": {
      "text/plain": [
       "0    70.88\n",
       "1    85.90\n",
       "2    91.45\n",
       "Name: Marks, dtype: float64"
      ]
     },
     "execution_count": 440,
     "metadata": {},
     "output_type": "execute_result"
    }
   ],
   "source": [
    "df.Marks"
   ]
  },
  {
   "cell_type": "code",
   "execution_count": 437,
   "id": "3f6140c5",
   "metadata": {},
   "outputs": [
    {
     "data": {
      "text/plain": [
       "{'Nat': 70.88, 'Harry': 85.9, 'Joe': 91.45}"
      ]
     },
     "execution_count": 437,
     "metadata": {},
     "output_type": "execute_result"
    }
   ],
   "source": [
    "#create a dict with Name as key and marks as values\n",
    "\n",
    "df_dict = df.set_index('Name').to_dict()['Marks']\n",
    "df_dict"
   ]
  },
  {
   "cell_type": "code",
   "execution_count": 438,
   "id": "2d21161d",
   "metadata": {},
   "outputs": [
    {
     "data": {
      "text/plain": [
       "{'Nat': 70.88, 'Harry': 85.9, 'Joe': 91.45}"
      ]
     },
     "execution_count": 438,
     "metadata": {},
     "output_type": "execute_result"
    }
   ],
   "source": [
    "#by using zip()\n",
    "\n",
    "df_dict1 = dict(zip(df.Name, df.Marks))\n",
    "df_dict1"
   ]
  },
  {
   "cell_type": "markdown",
   "id": "879746ae",
   "metadata": {},
   "source": [
    "- If we want to collect the column data into the list, it can be done by applying transpose operation on the DataFrame and then converting it into dict."
   ]
  },
  {
   "cell_type": "code",
   "execution_count": 441,
   "id": "f9596c64",
   "metadata": {},
   "outputs": [
    {
     "data": {
      "text/plain": [
       "{'Nat': [70.88], 'Harry': [85.9], 'Joe': [91.45]}"
      ]
     },
     "execution_count": 441,
     "metadata": {},
     "output_type": "execute_result"
    }
   ],
   "source": [
    "# create dict with Name as key and marks as value\n",
    "\n",
    "df_dict = df.set_index('Name').T.to_dict('list')\n",
    "df_dict"
   ]
  },
  {
   "cell_type": "markdown",
   "id": "2a617139",
   "metadata": {},
   "source": [
    "## DataFrame to dict using into parameter\n",
    "- While converting a DataFrame to dict if we need output dict to be of a particular type, we can use the parameter into of DataFrame.to_dict() function. We can specify the class name or the instance of the class for the resultant dict."
   ]
  },
  {
   "cell_type": "code",
   "execution_count": 444,
   "id": "f616cc21",
   "metadata": {},
   "outputs": [
    {
     "data": {
      "text/plain": [
       "OrderedDict([('Name', OrderedDict([(0, 'Nat'), (1, 'Harry'), (2, 'Joe')])),\n",
       "             ('Marks', OrderedDict([(0, 70.88), (1, 85.9), (2, 91.45)]))])"
      ]
     },
     "execution_count": 444,
     "metadata": {},
     "output_type": "execute_result"
    }
   ],
   "source": [
    "#In the below example, we converted DataFrame to the dict of type OrderedDict.\n",
    "from collections import OrderedDict\n",
    "df_dict = df.to_dict(into=OrderedDict)\n",
    "df_dict"
   ]
  },
  {
   "cell_type": "markdown",
   "id": "93664954",
   "metadata": {},
   "source": [
    "## Set index in pandas DataFrame\n",
    "\n",
    "- DataFrame is the tabular structure in the Python pandas library. It represents each row and column by the label. Row label is called an index, whereas column label is called column index/header.\n",
    "\n",
    "- By default, while creating DataFrame, Python pandas assign a range of numbers (starting at 0) as a row index. Row indexes are used to identify each row. We can set a new row index or replace the existing ones using DataFrame.set_index() function, which we discuss further in more detail."
   ]
  },
  {
   "cell_type": "markdown",
   "id": "7b77f4b9",
   "metadata": {},
   "source": [
    "## The DataFrame.set_index() function\n",
    "- This function is used to re-assign a row label using the existing column of the DataFrame. It can assign one or multiple columns as a row index. Let’s see how to use DataFrame.set_index() function to set row index or replace existing.\n",
    "\n",
    "- syntax\n",
    "\n",
    "- DataFrame.set_index(keys, drop=True, append=False, inplace=False, verify_integrity=False)\n",
    "\n",
    "\n",
    "## Parameters\n",
    "\n",
    "- keys: It takes a single or list of column labels to set as an index. It also takes a list of new labels as input.\n",
    "- drop: It is a flag to specify if columns to be used as the new index should be deleted From DataFrame or not.\n",
    "- By default value is True, i.e., assign the column as an index and delete it.\n",
    "- append: It is a flag to specify whether to append columns to the existing index. By default, it is False, i.e., it replaces the current index rather than appending.\n",
    "- inplace: It is used to specify whether to return a new DataFrame or update an existing one. It is a boolean flag with default False.\n",
    "- verify_integrity: It is a boolean flag,\n",
    "   -  If True, then it checks the new index for duplicates and throws ValueError.\n",
    "   -  If False, then it defers the check until necessary.\n",
    "- Note: Setting to False will improve the performance of this method.\n",
    "\n",
    "## Return\n",
    "\n",
    "- DataFrame with the changed row labels or None if inplace=True."
   ]
  },
  {
   "cell_type": "markdown",
   "id": "cdfaeb72",
   "metadata": {},
   "source": [
    "## Set index using a column\n",
    "- How to set index in pandas DataFrame\n",
    "\n",
    "## Create pandas DataFrame\n",
    "We can create a DataFrame from a CSV file or dict.\n",
    "\n",
    "## Identify the columns to set as index\n",
    "- We can set a specific column or multiple columns as an index in pandas DataFrame. Create a list of column labels to be used to set an index.\n",
    "- ['col_label1', 'col_label2'...]\n",
    "\n",
    "## Use DataFrame.set_index() function\n",
    "We need to pass the column or list of column labels as input to the DataFrame.set_index() function to set it as an index of DataFrame. By default, these new index columns are deleted from the DataFrame.\n",
    "df = df.set_index(['col_label1', 'col_label2'…])\n",
    "\n",
    "## Set the index in place\n",
    "We can use the parameter inplace to set the index in the existing DataFrame rather than create a new copy.\n",
    "df.set_index(inplace=True)"
   ]
  },
  {
   "cell_type": "code",
   "execution_count": 451,
   "id": "c86791d5",
   "metadata": {},
   "outputs": [
    {
     "data": {
      "text/html": [
       "<div>\n",
       "<style scoped>\n",
       "    .dataframe tbody tr th:only-of-type {\n",
       "        vertical-align: middle;\n",
       "    }\n",
       "\n",
       "    .dataframe tbody tr th {\n",
       "        vertical-align: top;\n",
       "    }\n",
       "\n",
       "    .dataframe thead th {\n",
       "        text-align: right;\n",
       "    }\n",
       "</style>\n",
       "<table border=\"1\" class=\"dataframe\">\n",
       "  <thead>\n",
       "    <tr style=\"text-align: right;\">\n",
       "      <th></th>\n",
       "      <th>name</th>\n",
       "      <th>age</th>\n",
       "      <th>marks</th>\n",
       "    </tr>\n",
       "  </thead>\n",
       "  <tbody>\n",
       "    <tr>\n",
       "      <th>0</th>\n",
       "      <td>raju</td>\n",
       "      <td>30</td>\n",
       "      <td>99</td>\n",
       "    </tr>\n",
       "    <tr>\n",
       "      <th>1</th>\n",
       "      <td>kalyan</td>\n",
       "      <td>29</td>\n",
       "      <td>98</td>\n",
       "    </tr>\n",
       "    <tr>\n",
       "      <th>2</th>\n",
       "      <td>sunny</td>\n",
       "      <td>7</td>\n",
       "      <td>97</td>\n",
       "    </tr>\n",
       "  </tbody>\n",
       "</table>\n",
       "</div>"
      ],
      "text/plain": [
       "     name  age  marks\n",
       "0    raju   30     99\n",
       "1  kalyan   29     98\n",
       "2   sunny    7     97"
      ]
     },
     "execution_count": 451,
     "metadata": {},
     "output_type": "execute_result"
    }
   ],
   "source": [
    "my_dict = {'name': ['raju', 'kalyan', 'sunny'], 'age': [30,29,7], 'marks': [99,98,97]}\n",
    "df = pd.DataFrame(my_dict)\n",
    "df"
   ]
  },
  {
   "cell_type": "code",
   "execution_count": 453,
   "id": "b8b40ef4",
   "metadata": {},
   "outputs": [
    {
     "data": {
      "text/html": [
       "<div>\n",
       "<style scoped>\n",
       "    .dataframe tbody tr th:only-of-type {\n",
       "        vertical-align: middle;\n",
       "    }\n",
       "\n",
       "    .dataframe tbody tr th {\n",
       "        vertical-align: top;\n",
       "    }\n",
       "\n",
       "    .dataframe thead th {\n",
       "        text-align: right;\n",
       "    }\n",
       "</style>\n",
       "<table border=\"1\" class=\"dataframe\">\n",
       "  <thead>\n",
       "    <tr style=\"text-align: right;\">\n",
       "      <th></th>\n",
       "      <th>age</th>\n",
       "      <th>marks</th>\n",
       "    </tr>\n",
       "    <tr>\n",
       "      <th>name</th>\n",
       "      <th></th>\n",
       "      <th></th>\n",
       "    </tr>\n",
       "  </thead>\n",
       "  <tbody>\n",
       "    <tr>\n",
       "      <th>raju</th>\n",
       "      <td>30</td>\n",
       "      <td>99</td>\n",
       "    </tr>\n",
       "    <tr>\n",
       "      <th>kalyan</th>\n",
       "      <td>29</td>\n",
       "      <td>98</td>\n",
       "    </tr>\n",
       "    <tr>\n",
       "      <th>sunny</th>\n",
       "      <td>7</td>\n",
       "      <td>97</td>\n",
       "    </tr>\n",
       "  </tbody>\n",
       "</table>\n",
       "</div>"
      ],
      "text/plain": [
       "        age  marks\n",
       "name              \n",
       "raju     30     99\n",
       "kalyan   29     98\n",
       "sunny     7     97"
      ]
     },
     "execution_count": 453,
     "metadata": {},
     "output_type": "execute_result"
    }
   ],
   "source": [
    "#set index using column name\n",
    "\n",
    "df = df.set_index('name')\n",
    "df"
   ]
  },
  {
   "cell_type": "markdown",
   "id": "4ef9699a",
   "metadata": {},
   "source": [
    "## Set index using a list\n",
    "- As we have seen, we can pass column labels of the DataFrame to assign it as an index of the DataFrame. We can also give a list of labels which can be strings or numbers to DataFrame.set_index() function to set a new index in the DataFrame.\n",
    "\n",
    "- First, we create a Python Index object from a list of labels and then pass it as input to the DataFrame.set_index() function."
   ]
  },
  {
   "cell_type": "code",
   "execution_count": 454,
   "id": "e29950d3",
   "metadata": {},
   "outputs": [
    {
     "data": {
      "text/html": [
       "<div>\n",
       "<style scoped>\n",
       "    .dataframe tbody tr th:only-of-type {\n",
       "        vertical-align: middle;\n",
       "    }\n",
       "\n",
       "    .dataframe tbody tr th {\n",
       "        vertical-align: top;\n",
       "    }\n",
       "\n",
       "    .dataframe thead th {\n",
       "        text-align: right;\n",
       "    }\n",
       "</style>\n",
       "<table border=\"1\" class=\"dataframe\">\n",
       "  <thead>\n",
       "    <tr style=\"text-align: right;\">\n",
       "      <th></th>\n",
       "      <th>name</th>\n",
       "      <th>age</th>\n",
       "      <th>marks</th>\n",
       "    </tr>\n",
       "  </thead>\n",
       "  <tbody>\n",
       "    <tr>\n",
       "      <th>0</th>\n",
       "      <td>raju</td>\n",
       "      <td>30</td>\n",
       "      <td>99</td>\n",
       "    </tr>\n",
       "    <tr>\n",
       "      <th>1</th>\n",
       "      <td>kalyan</td>\n",
       "      <td>29</td>\n",
       "      <td>98</td>\n",
       "    </tr>\n",
       "    <tr>\n",
       "      <th>2</th>\n",
       "      <td>sunny</td>\n",
       "      <td>7</td>\n",
       "      <td>97</td>\n",
       "    </tr>\n",
       "  </tbody>\n",
       "</table>\n",
       "</div>"
      ],
      "text/plain": [
       "     name  age  marks\n",
       "0    raju   30     99\n",
       "1  kalyan   29     98\n",
       "2   sunny    7     97"
      ]
     },
     "execution_count": 454,
     "metadata": {},
     "output_type": "execute_result"
    }
   ],
   "source": [
    "my_dict = {'name': ['raju', 'kalyan', 'sunny'], 'age': [30,29,7], 'marks': [99,98,97]}\n",
    "df = pd.DataFrame(my_dict)\n",
    "df"
   ]
  },
  {
   "cell_type": "code",
   "execution_count": 455,
   "id": "8db09b69",
   "metadata": {},
   "outputs": [
    {
     "data": {
      "text/html": [
       "<div>\n",
       "<style scoped>\n",
       "    .dataframe tbody tr th:only-of-type {\n",
       "        vertical-align: middle;\n",
       "    }\n",
       "\n",
       "    .dataframe tbody tr th {\n",
       "        vertical-align: top;\n",
       "    }\n",
       "\n",
       "    .dataframe thead th {\n",
       "        text-align: right;\n",
       "    }\n",
       "</style>\n",
       "<table border=\"1\" class=\"dataframe\">\n",
       "  <thead>\n",
       "    <tr style=\"text-align: right;\">\n",
       "      <th></th>\n",
       "      <th>name</th>\n",
       "      <th>age</th>\n",
       "      <th>marks</th>\n",
       "    </tr>\n",
       "  </thead>\n",
       "  <tbody>\n",
       "    <tr>\n",
       "      <th>s1</th>\n",
       "      <td>raju</td>\n",
       "      <td>30</td>\n",
       "      <td>99</td>\n",
       "    </tr>\n",
       "    <tr>\n",
       "      <th>s2</th>\n",
       "      <td>kalyan</td>\n",
       "      <td>29</td>\n",
       "      <td>98</td>\n",
       "    </tr>\n",
       "    <tr>\n",
       "      <th>s3</th>\n",
       "      <td>sunny</td>\n",
       "      <td>7</td>\n",
       "      <td>97</td>\n",
       "    </tr>\n",
       "  </tbody>\n",
       "</table>\n",
       "</div>"
      ],
      "text/plain": [
       "      name  age  marks\n",
       "s1    raju   30     99\n",
       "s2  kalyan   29     98\n",
       "s3   sunny    7     97"
      ]
     },
     "execution_count": 455,
     "metadata": {},
     "output_type": "execute_result"
    }
   ],
   "source": [
    "index = pd.Index(['s1', 's2', 's3'])\n",
    "\n",
    "df = df.set_index(index)\n",
    "df"
   ]
  },
  {
   "cell_type": "markdown",
   "id": "1ca7accc",
   "metadata": {},
   "source": [
    "## Set index using multiple columns\n",
    "- Python pandas have DataFrame with multiple columns or rows as an index, and they are also called multi-index DataFrame. If we want to set multiple columns as row labels, we can use DataFrame.set_index() function.\n",
    "\n",
    "- Note: It throws KeyError for unknown column labels."
   ]
  },
  {
   "cell_type": "code",
   "execution_count": 459,
   "id": "98afb051",
   "metadata": {},
   "outputs": [
    {
     "data": {
      "text/html": [
       "<div>\n",
       "<style scoped>\n",
       "    .dataframe tbody tr th:only-of-type {\n",
       "        vertical-align: middle;\n",
       "    }\n",
       "\n",
       "    .dataframe tbody tr th {\n",
       "        vertical-align: top;\n",
       "    }\n",
       "\n",
       "    .dataframe thead th {\n",
       "        text-align: right;\n",
       "    }\n",
       "</style>\n",
       "<table border=\"1\" class=\"dataframe\">\n",
       "  <thead>\n",
       "    <tr style=\"text-align: right;\">\n",
       "      <th></th>\n",
       "      <th>name</th>\n",
       "      <th>age</th>\n",
       "      <th>marks</th>\n",
       "    </tr>\n",
       "  </thead>\n",
       "  <tbody>\n",
       "    <tr>\n",
       "      <th>0</th>\n",
       "      <td>raju</td>\n",
       "      <td>30</td>\n",
       "      <td>99</td>\n",
       "    </tr>\n",
       "    <tr>\n",
       "      <th>1</th>\n",
       "      <td>kalyan</td>\n",
       "      <td>29</td>\n",
       "      <td>98</td>\n",
       "    </tr>\n",
       "    <tr>\n",
       "      <th>2</th>\n",
       "      <td>sunny</td>\n",
       "      <td>7</td>\n",
       "      <td>97</td>\n",
       "    </tr>\n",
       "  </tbody>\n",
       "</table>\n",
       "</div>"
      ],
      "text/plain": [
       "     name  age  marks\n",
       "0    raju   30     99\n",
       "1  kalyan   29     98\n",
       "2   sunny    7     97"
      ]
     },
     "execution_count": 459,
     "metadata": {},
     "output_type": "execute_result"
    }
   ],
   "source": [
    "my_dict = {'name': ['raju', 'kalyan', 'sunny'], 'age': [30,29,7], 'marks': [99,98,97]}\n",
    "df = pd.DataFrame(my_dict)\n",
    "df"
   ]
  },
  {
   "cell_type": "code",
   "execution_count": 460,
   "id": "682ff90f",
   "metadata": {},
   "outputs": [
    {
     "data": {
      "text/html": [
       "<div>\n",
       "<style scoped>\n",
       "    .dataframe tbody tr th:only-of-type {\n",
       "        vertical-align: middle;\n",
       "    }\n",
       "\n",
       "    .dataframe tbody tr th {\n",
       "        vertical-align: top;\n",
       "    }\n",
       "\n",
       "    .dataframe thead th {\n",
       "        text-align: right;\n",
       "    }\n",
       "</style>\n",
       "<table border=\"1\" class=\"dataframe\">\n",
       "  <thead>\n",
       "    <tr style=\"text-align: right;\">\n",
       "      <th></th>\n",
       "      <th></th>\n",
       "      <th>age</th>\n",
       "    </tr>\n",
       "    <tr>\n",
       "      <th>name</th>\n",
       "      <th>marks</th>\n",
       "      <th></th>\n",
       "    </tr>\n",
       "  </thead>\n",
       "  <tbody>\n",
       "    <tr>\n",
       "      <th>raju</th>\n",
       "      <th>99</th>\n",
       "      <td>30</td>\n",
       "    </tr>\n",
       "    <tr>\n",
       "      <th>kalyan</th>\n",
       "      <th>98</th>\n",
       "      <td>29</td>\n",
       "    </tr>\n",
       "    <tr>\n",
       "      <th>sunny</th>\n",
       "      <th>97</th>\n",
       "      <td>7</td>\n",
       "    </tr>\n",
       "  </tbody>\n",
       "</table>\n",
       "</div>"
      ],
      "text/plain": [
       "              age\n",
       "name   marks     \n",
       "raju   99      30\n",
       "kalyan 98      29\n",
       "sunny  97       7"
      ]
     },
     "execution_count": 460,
     "metadata": {},
     "output_type": "execute_result"
    }
   ],
   "source": [
    "#set multi index\n",
    "\n",
    "df = df.set_index(['name', 'marks'])\n",
    "df"
   ]
  },
  {
   "cell_type": "markdown",
   "id": "c42a7ba4",
   "metadata": {},
   "source": [
    "## Set multi-index using a list and column\n",
    "\n",
    "- If there is a case where we want to create a two-level row index of the DataFrame, where one level is the new list of labels and another level is created from the existing column.\n",
    "\n",
    "- We can use DataFrame.set_index() to set the multi-level index of pandas DataFrame using a combination of a new list and the existing column.\n",
    "\n",
    "- We need to create a Python Index object from a list of new labels and pass that Index object and an existing column label as input to the DataFrame.set_index() function to create a two-level index."
   ]
  },
  {
   "cell_type": "code",
   "execution_count": 461,
   "id": "a8614037",
   "metadata": {},
   "outputs": [
    {
     "data": {
      "text/html": [
       "<div>\n",
       "<style scoped>\n",
       "    .dataframe tbody tr th:only-of-type {\n",
       "        vertical-align: middle;\n",
       "    }\n",
       "\n",
       "    .dataframe tbody tr th {\n",
       "        vertical-align: top;\n",
       "    }\n",
       "\n",
       "    .dataframe thead th {\n",
       "        text-align: right;\n",
       "    }\n",
       "</style>\n",
       "<table border=\"1\" class=\"dataframe\">\n",
       "  <thead>\n",
       "    <tr style=\"text-align: right;\">\n",
       "      <th></th>\n",
       "      <th>name</th>\n",
       "      <th>age</th>\n",
       "      <th>marks</th>\n",
       "    </tr>\n",
       "  </thead>\n",
       "  <tbody>\n",
       "    <tr>\n",
       "      <th>0</th>\n",
       "      <td>raju</td>\n",
       "      <td>30</td>\n",
       "      <td>99</td>\n",
       "    </tr>\n",
       "    <tr>\n",
       "      <th>1</th>\n",
       "      <td>kalyan</td>\n",
       "      <td>29</td>\n",
       "      <td>98</td>\n",
       "    </tr>\n",
       "    <tr>\n",
       "      <th>2</th>\n",
       "      <td>sunny</td>\n",
       "      <td>7</td>\n",
       "      <td>97</td>\n",
       "    </tr>\n",
       "  </tbody>\n",
       "</table>\n",
       "</div>"
      ],
      "text/plain": [
       "     name  age  marks\n",
       "0    raju   30     99\n",
       "1  kalyan   29     98\n",
       "2   sunny    7     97"
      ]
     },
     "execution_count": 461,
     "metadata": {},
     "output_type": "execute_result"
    }
   ],
   "source": [
    "my_dict = {'name': ['raju', 'kalyan', 'sunny'], 'age': [30,29,7], 'marks': [99,98,97]}\n",
    "df = pd.DataFrame(my_dict)\n",
    "df"
   ]
  },
  {
   "cell_type": "code",
   "execution_count": 463,
   "id": "40a2d95d",
   "metadata": {},
   "outputs": [
    {
     "data": {
      "text/html": [
       "<div>\n",
       "<style scoped>\n",
       "    .dataframe tbody tr th:only-of-type {\n",
       "        vertical-align: middle;\n",
       "    }\n",
       "\n",
       "    .dataframe tbody tr th {\n",
       "        vertical-align: top;\n",
       "    }\n",
       "\n",
       "    .dataframe thead th {\n",
       "        text-align: right;\n",
       "    }\n",
       "</style>\n",
       "<table border=\"1\" class=\"dataframe\">\n",
       "  <thead>\n",
       "    <tr style=\"text-align: right;\">\n",
       "      <th></th>\n",
       "      <th></th>\n",
       "      <th>age</th>\n",
       "      <th>marks</th>\n",
       "    </tr>\n",
       "    <tr>\n",
       "      <th></th>\n",
       "      <th>name</th>\n",
       "      <th></th>\n",
       "      <th></th>\n",
       "    </tr>\n",
       "  </thead>\n",
       "  <tbody>\n",
       "    <tr>\n",
       "      <th>s1</th>\n",
       "      <th>raju</th>\n",
       "      <td>30</td>\n",
       "      <td>99</td>\n",
       "    </tr>\n",
       "    <tr>\n",
       "      <th>s2</th>\n",
       "      <th>kalyan</th>\n",
       "      <td>29</td>\n",
       "      <td>98</td>\n",
       "    </tr>\n",
       "    <tr>\n",
       "      <th>s3</th>\n",
       "      <th>sunny</th>\n",
       "      <td>7</td>\n",
       "      <td>97</td>\n",
       "    </tr>\n",
       "  </tbody>\n",
       "</table>\n",
       "</div>"
      ],
      "text/plain": [
       "           age  marks\n",
       "   name              \n",
       "s1 raju     30     99\n",
       "s2 kalyan   29     98\n",
       "s3 sunny     7     97"
      ]
     },
     "execution_count": 463,
     "metadata": {},
     "output_type": "execute_result"
    }
   ],
   "source": [
    "index = pd.Index(['s1', 's2', 's3'])\n",
    "\n",
    "df = df.set_index([index, 'name'])\n",
    "df"
   ]
  },
  {
   "cell_type": "markdown",
   "id": "f11c831f",
   "metadata": {},
   "source": [
    "## Set multi-index using two Python series\n",
    "\n",
    "- When we want to replace the existing index with the multiple new series rather than the existing columns, we can create such a multi-index DataFrame by assigning new series using DataFrame.set_index() function."
   ]
  },
  {
   "cell_type": "code",
   "execution_count": 464,
   "id": "b7fea3b4",
   "metadata": {},
   "outputs": [
    {
     "name": "stdout",
     "output_type": "stream",
     "text": [
      "    Name  Age  Marks\n",
      "0    Joe   20  85.10\n",
      "1    Nat   21  77.80\n",
      "2  Harry   19  91.54\n",
      "      Name  Age  Marks\n",
      "1 1    Joe   20  85.10\n",
      "2 4    Nat   21  77.80\n",
      "3 9  Harry   19  91.54\n"
     ]
    }
   ],
   "source": [
    "student_dict = {'Name': ['Joe', 'Nat', 'Harry'], 'Age': [20, 21, 19], 'Marks': [85.10, 77.80, 91.54]}\n",
    "\n",
    "# create DataFrame from dict\n",
    "student_df = pd.DataFrame(student_dict)\n",
    "print(student_df)\n",
    "\n",
    "# set multi-index\n",
    "s = pd.Series([1, 2, 3])\n",
    "student_df = student_df.set_index([s, s ** 2])\n",
    "print(student_df)"
   ]
  },
  {
   "cell_type": "code",
   "execution_count": 465,
   "id": "9a60f977",
   "metadata": {},
   "outputs": [
    {
     "data": {
      "text/html": [
       "<div>\n",
       "<style scoped>\n",
       "    .dataframe tbody tr th:only-of-type {\n",
       "        vertical-align: middle;\n",
       "    }\n",
       "\n",
       "    .dataframe tbody tr th {\n",
       "        vertical-align: top;\n",
       "    }\n",
       "\n",
       "    .dataframe thead th {\n",
       "        text-align: right;\n",
       "    }\n",
       "</style>\n",
       "<table border=\"1\" class=\"dataframe\">\n",
       "  <thead>\n",
       "    <tr style=\"text-align: right;\">\n",
       "      <th></th>\n",
       "      <th>name</th>\n",
       "      <th>age</th>\n",
       "      <th>marks</th>\n",
       "    </tr>\n",
       "  </thead>\n",
       "  <tbody>\n",
       "    <tr>\n",
       "      <th>0</th>\n",
       "      <td>raju</td>\n",
       "      <td>30</td>\n",
       "      <td>99</td>\n",
       "    </tr>\n",
       "    <tr>\n",
       "      <th>1</th>\n",
       "      <td>kalyan</td>\n",
       "      <td>29</td>\n",
       "      <td>98</td>\n",
       "    </tr>\n",
       "    <tr>\n",
       "      <th>2</th>\n",
       "      <td>sunny</td>\n",
       "      <td>7</td>\n",
       "      <td>97</td>\n",
       "    </tr>\n",
       "  </tbody>\n",
       "</table>\n",
       "</div>"
      ],
      "text/plain": [
       "     name  age  marks\n",
       "0    raju   30     99\n",
       "1  kalyan   29     98\n",
       "2   sunny    7     97"
      ]
     },
     "execution_count": 465,
     "metadata": {},
     "output_type": "execute_result"
    }
   ],
   "source": [
    "my_dict = {'name': ['raju', 'kalyan', 'sunny'], 'age': [30,29, 7], 'marks': [99,98,97]}\n",
    "df = pd.DataFrame(my_dict)\n",
    "df"
   ]
  },
  {
   "cell_type": "code",
   "execution_count": 466,
   "id": "23014b2c",
   "metadata": {},
   "outputs": [
    {
     "name": "stdout",
     "output_type": "stream",
     "text": [
      "       name  age  marks\n",
      "1 2    raju   30     99\n",
      "2 4  kalyan   29     98\n",
      "3 6   sunny    7     97\n"
     ]
    }
   ],
   "source": [
    "#set multi index\n",
    "\n",
    "s = pd.Series([1,2,3])\n",
    "df1 = df.set_index([s, s*2])\n",
    "print(df1)"
   ]
  },
  {
   "cell_type": "markdown",
   "id": "9bdd5743",
   "metadata": {},
   "source": [
    "## Set index using a Python range\n",
    "- Suppose we need to set a sequence of numbers as an index of the DataFrame such that it should start at any number. For example, we want to assign a roll number to the student DataFrame beginning from 1.\n",
    "\n",
    "- It is not feasible to pass all the numbers as a list to the DataFrame.set_index() function. In such a case, we can use the Python range() function.\n",
    "\n",
    "- We can create pandas Index using range() function and pass it to the DataFrame.set_index() function."
   ]
  },
  {
   "cell_type": "code",
   "execution_count": 467,
   "id": "a59828d3",
   "metadata": {},
   "outputs": [
    {
     "data": {
      "text/html": [
       "<div>\n",
       "<style scoped>\n",
       "    .dataframe tbody tr th:only-of-type {\n",
       "        vertical-align: middle;\n",
       "    }\n",
       "\n",
       "    .dataframe tbody tr th {\n",
       "        vertical-align: top;\n",
       "    }\n",
       "\n",
       "    .dataframe thead th {\n",
       "        text-align: right;\n",
       "    }\n",
       "</style>\n",
       "<table border=\"1\" class=\"dataframe\">\n",
       "  <thead>\n",
       "    <tr style=\"text-align: right;\">\n",
       "      <th></th>\n",
       "      <th>name</th>\n",
       "      <th>age</th>\n",
       "      <th>marks</th>\n",
       "    </tr>\n",
       "  </thead>\n",
       "  <tbody>\n",
       "    <tr>\n",
       "      <th>0</th>\n",
       "      <td>raju</td>\n",
       "      <td>30</td>\n",
       "      <td>99</td>\n",
       "    </tr>\n",
       "    <tr>\n",
       "      <th>1</th>\n",
       "      <td>kalyan</td>\n",
       "      <td>29</td>\n",
       "      <td>98</td>\n",
       "    </tr>\n",
       "    <tr>\n",
       "      <th>2</th>\n",
       "      <td>sunny</td>\n",
       "      <td>7</td>\n",
       "      <td>97</td>\n",
       "    </tr>\n",
       "  </tbody>\n",
       "</table>\n",
       "</div>"
      ],
      "text/plain": [
       "     name  age  marks\n",
       "0    raju   30     99\n",
       "1  kalyan   29     98\n",
       "2   sunny    7     97"
      ]
     },
     "execution_count": 467,
     "metadata": {},
     "output_type": "execute_result"
    }
   ],
   "source": [
    "my_dict = {'name': ['raju', 'kalyan', 'sunny'], 'age': [30,29, 7], 'marks': [99,98,97]}\n",
    "df = pd.DataFrame(my_dict)\n",
    "df"
   ]
  },
  {
   "cell_type": "code",
   "execution_count": 468,
   "id": "5f694b0a",
   "metadata": {},
   "outputs": [
    {
     "name": "stdout",
     "output_type": "stream",
     "text": [
      "      name  age  marks\n",
      "s1    raju   30     99\n",
      "s2  kalyan   29     98\n",
      "s3   sunny    7     97\n"
     ]
    }
   ],
   "source": [
    "df2 = pd.DataFrame(my_dict, index = ['s1', 's2', 's3'])\n",
    "print(df2)"
   ]
  },
  {
   "cell_type": "code",
   "execution_count": 471,
   "id": "358d20a0",
   "metadata": {},
   "outputs": [
    {
     "data": {
      "text/html": [
       "<div>\n",
       "<style scoped>\n",
       "    .dataframe tbody tr th:only-of-type {\n",
       "        vertical-align: middle;\n",
       "    }\n",
       "\n",
       "    .dataframe tbody tr th {\n",
       "        vertical-align: top;\n",
       "    }\n",
       "\n",
       "    .dataframe thead th {\n",
       "        text-align: right;\n",
       "    }\n",
       "</style>\n",
       "<table border=\"1\" class=\"dataframe\">\n",
       "  <thead>\n",
       "    <tr style=\"text-align: right;\">\n",
       "      <th></th>\n",
       "      <th>name</th>\n",
       "      <th>age</th>\n",
       "      <th>marks</th>\n",
       "    </tr>\n",
       "  </thead>\n",
       "  <tbody>\n",
       "    <tr>\n",
       "      <th>1</th>\n",
       "      <td>raju</td>\n",
       "      <td>30</td>\n",
       "      <td>99</td>\n",
       "    </tr>\n",
       "    <tr>\n",
       "      <th>2</th>\n",
       "      <td>kalyan</td>\n",
       "      <td>29</td>\n",
       "      <td>98</td>\n",
       "    </tr>\n",
       "    <tr>\n",
       "      <th>3</th>\n",
       "      <td>sunny</td>\n",
       "      <td>7</td>\n",
       "      <td>97</td>\n",
       "    </tr>\n",
       "  </tbody>\n",
       "</table>\n",
       "</div>"
      ],
      "text/plain": [
       "     name  age  marks\n",
       "1    raju   30     99\n",
       "2  kalyan   29     98\n",
       "3   sunny    7     97"
      ]
     },
     "execution_count": 471,
     "metadata": {},
     "output_type": "execute_result"
    }
   ],
   "source": [
    "#set index \n",
    "index = pd.Index(range(1,4,1))\n",
    "df1 = df.set_index(index)\n",
    "df1"
   ]
  },
  {
   "cell_type": "markdown",
   "id": "2f693024",
   "metadata": {},
   "source": [
    "## Set index but keep column\n",
    "- By default, DataFrame.set_index() function takes column name as input which should be used as an index of the DataFrame. After setting the new index, it deletes the column which is used.\n",
    "\n",
    "- If we do not want to delete such a column from DataFrame, then we need to use the drop parameter of DataFrame.set_index(). It is a boolean flag such that,\n",
    "\n",
    "- If drop=True (default case), it deletes the column and uses it as an index.\n",
    "- If drop=False, it does not delete the column and uses it as an index."
   ]
  },
  {
   "cell_type": "code",
   "execution_count": 472,
   "id": "2e475cea",
   "metadata": {},
   "outputs": [
    {
     "data": {
      "text/html": [
       "<div>\n",
       "<style scoped>\n",
       "    .dataframe tbody tr th:only-of-type {\n",
       "        vertical-align: middle;\n",
       "    }\n",
       "\n",
       "    .dataframe tbody tr th {\n",
       "        vertical-align: top;\n",
       "    }\n",
       "\n",
       "    .dataframe thead th {\n",
       "        text-align: right;\n",
       "    }\n",
       "</style>\n",
       "<table border=\"1\" class=\"dataframe\">\n",
       "  <thead>\n",
       "    <tr style=\"text-align: right;\">\n",
       "      <th></th>\n",
       "      <th>name</th>\n",
       "      <th>age</th>\n",
       "      <th>marks</th>\n",
       "    </tr>\n",
       "  </thead>\n",
       "  <tbody>\n",
       "    <tr>\n",
       "      <th>0</th>\n",
       "      <td>raju</td>\n",
       "      <td>30</td>\n",
       "      <td>99</td>\n",
       "    </tr>\n",
       "    <tr>\n",
       "      <th>1</th>\n",
       "      <td>kalyan</td>\n",
       "      <td>29</td>\n",
       "      <td>98</td>\n",
       "    </tr>\n",
       "    <tr>\n",
       "      <th>2</th>\n",
       "      <td>sunny</td>\n",
       "      <td>7</td>\n",
       "      <td>97</td>\n",
       "    </tr>\n",
       "  </tbody>\n",
       "</table>\n",
       "</div>"
      ],
      "text/plain": [
       "     name  age  marks\n",
       "0    raju   30     99\n",
       "1  kalyan   29     98\n",
       "2   sunny    7     97"
      ]
     },
     "execution_count": 472,
     "metadata": {},
     "output_type": "execute_result"
    }
   ],
   "source": [
    "my_dict = {'name': ['raju', 'kalyan', 'sunny'], 'age': [30,29, 7], 'marks': [99,98,97]}\n",
    "df = pd.DataFrame(my_dict)\n",
    "df"
   ]
  },
  {
   "cell_type": "code",
   "execution_count": 476,
   "id": "3bc925cc",
   "metadata": {},
   "outputs": [
    {
     "data": {
      "text/html": [
       "<div>\n",
       "<style scoped>\n",
       "    .dataframe tbody tr th:only-of-type {\n",
       "        vertical-align: middle;\n",
       "    }\n",
       "\n",
       "    .dataframe tbody tr th {\n",
       "        vertical-align: top;\n",
       "    }\n",
       "\n",
       "    .dataframe thead th {\n",
       "        text-align: right;\n",
       "    }\n",
       "</style>\n",
       "<table border=\"1\" class=\"dataframe\">\n",
       "  <thead>\n",
       "    <tr style=\"text-align: right;\">\n",
       "      <th></th>\n",
       "      <th>name</th>\n",
       "      <th>age</th>\n",
       "      <th>marks</th>\n",
       "    </tr>\n",
       "    <tr>\n",
       "      <th>name</th>\n",
       "      <th></th>\n",
       "      <th></th>\n",
       "      <th></th>\n",
       "    </tr>\n",
       "  </thead>\n",
       "  <tbody>\n",
       "    <tr>\n",
       "      <th>raju</th>\n",
       "      <td>raju</td>\n",
       "      <td>30</td>\n",
       "      <td>99</td>\n",
       "    </tr>\n",
       "    <tr>\n",
       "      <th>kalyan</th>\n",
       "      <td>kalyan</td>\n",
       "      <td>29</td>\n",
       "      <td>98</td>\n",
       "    </tr>\n",
       "    <tr>\n",
       "      <th>sunny</th>\n",
       "      <td>sunny</td>\n",
       "      <td>7</td>\n",
       "      <td>97</td>\n",
       "    </tr>\n",
       "  </tbody>\n",
       "</table>\n",
       "</div>"
      ],
      "text/plain": [
       "          name  age  marks\n",
       "name                      \n",
       "raju      raju   30     99\n",
       "kalyan  kalyan   29     98\n",
       "sunny    sunny    7     97"
      ]
     },
     "execution_count": 476,
     "metadata": {},
     "output_type": "execute_result"
    }
   ],
   "source": [
    "#set index keep column\n",
    "\n",
    "df222 = df.set_index('name', drop = False)\n",
    "df222"
   ]
  },
  {
   "cell_type": "markdown",
   "id": "6d33d071",
   "metadata": {},
   "source": [
    "## Set index by keeping old index\n",
    "- DataFrame.set_index() is used to set a new index to the DataFrame. It is also used to extend the existing DataFrame, i.e., we can update the index by append to the existing index.\n",
    "\n",
    "- We need to use the append parameter of the DataFrame.set_index() function to append the new index to the existing one. By default, the value of append is False."
   ]
  },
  {
   "cell_type": "code",
   "execution_count": 477,
   "id": "e59ee064",
   "metadata": {},
   "outputs": [
    {
     "data": {
      "text/html": [
       "<div>\n",
       "<style scoped>\n",
       "    .dataframe tbody tr th:only-of-type {\n",
       "        vertical-align: middle;\n",
       "    }\n",
       "\n",
       "    .dataframe tbody tr th {\n",
       "        vertical-align: top;\n",
       "    }\n",
       "\n",
       "    .dataframe thead th {\n",
       "        text-align: right;\n",
       "    }\n",
       "</style>\n",
       "<table border=\"1\" class=\"dataframe\">\n",
       "  <thead>\n",
       "    <tr style=\"text-align: right;\">\n",
       "      <th></th>\n",
       "      <th>name</th>\n",
       "      <th>age</th>\n",
       "      <th>marks</th>\n",
       "    </tr>\n",
       "  </thead>\n",
       "  <tbody>\n",
       "    <tr>\n",
       "      <th>0</th>\n",
       "      <td>raju</td>\n",
       "      <td>30</td>\n",
       "      <td>99</td>\n",
       "    </tr>\n",
       "    <tr>\n",
       "      <th>1</th>\n",
       "      <td>kalyan</td>\n",
       "      <td>29</td>\n",
       "      <td>98</td>\n",
       "    </tr>\n",
       "    <tr>\n",
       "      <th>2</th>\n",
       "      <td>sunny</td>\n",
       "      <td>7</td>\n",
       "      <td>97</td>\n",
       "    </tr>\n",
       "  </tbody>\n",
       "</table>\n",
       "</div>"
      ],
      "text/plain": [
       "     name  age  marks\n",
       "0    raju   30     99\n",
       "1  kalyan   29     98\n",
       "2   sunny    7     97"
      ]
     },
     "execution_count": 477,
     "metadata": {},
     "output_type": "execute_result"
    }
   ],
   "source": [
    "my_dict = {'name': ['raju', 'kalyan', 'sunny'], 'age': [30,29, 7], 'marks': [99,98,97]}\n",
    "df = pd.DataFrame(my_dict)\n",
    "df"
   ]
  },
  {
   "cell_type": "code",
   "execution_count": 478,
   "id": "33efee17",
   "metadata": {},
   "outputs": [
    {
     "data": {
      "text/html": [
       "<div>\n",
       "<style scoped>\n",
       "    .dataframe tbody tr th:only-of-type {\n",
       "        vertical-align: middle;\n",
       "    }\n",
       "\n",
       "    .dataframe tbody tr th {\n",
       "        vertical-align: top;\n",
       "    }\n",
       "\n",
       "    .dataframe thead th {\n",
       "        text-align: right;\n",
       "    }\n",
       "</style>\n",
       "<table border=\"1\" class=\"dataframe\">\n",
       "  <thead>\n",
       "    <tr style=\"text-align: right;\">\n",
       "      <th></th>\n",
       "      <th>name</th>\n",
       "      <th>age</th>\n",
       "      <th>marks</th>\n",
       "    </tr>\n",
       "  </thead>\n",
       "  <tbody>\n",
       "    <tr>\n",
       "      <th>s1</th>\n",
       "      <td>raju</td>\n",
       "      <td>30</td>\n",
       "      <td>99</td>\n",
       "    </tr>\n",
       "    <tr>\n",
       "      <th>s2</th>\n",
       "      <td>kalyan</td>\n",
       "      <td>29</td>\n",
       "      <td>98</td>\n",
       "    </tr>\n",
       "    <tr>\n",
       "      <th>s3</th>\n",
       "      <td>sunny</td>\n",
       "      <td>7</td>\n",
       "      <td>97</td>\n",
       "    </tr>\n",
       "  </tbody>\n",
       "</table>\n",
       "</div>"
      ],
      "text/plain": [
       "      name  age  marks\n",
       "s1    raju   30     99\n",
       "s2  kalyan   29     98\n",
       "s3   sunny    7     97"
      ]
     },
     "execution_count": 478,
     "metadata": {},
     "output_type": "execute_result"
    }
   ],
   "source": [
    "df2 = pd.DataFrame(my_dict, index = ['s1', 's2', 's3'])\n",
    "df2"
   ]
  },
  {
   "cell_type": "code",
   "execution_count": 480,
   "id": "19e11d40",
   "metadata": {},
   "outputs": [
    {
     "data": {
      "text/html": [
       "<div>\n",
       "<style scoped>\n",
       "    .dataframe tbody tr th:only-of-type {\n",
       "        vertical-align: middle;\n",
       "    }\n",
       "\n",
       "    .dataframe tbody tr th {\n",
       "        vertical-align: top;\n",
       "    }\n",
       "\n",
       "    .dataframe thead th {\n",
       "        text-align: right;\n",
       "    }\n",
       "</style>\n",
       "<table border=\"1\" class=\"dataframe\">\n",
       "  <thead>\n",
       "    <tr style=\"text-align: right;\">\n",
       "      <th></th>\n",
       "      <th></th>\n",
       "      <th>age</th>\n",
       "      <th>marks</th>\n",
       "    </tr>\n",
       "    <tr>\n",
       "      <th></th>\n",
       "      <th>name</th>\n",
       "      <th></th>\n",
       "      <th></th>\n",
       "    </tr>\n",
       "  </thead>\n",
       "  <tbody>\n",
       "    <tr>\n",
       "      <th>s1</th>\n",
       "      <th>raju</th>\n",
       "      <td>30</td>\n",
       "      <td>99</td>\n",
       "    </tr>\n",
       "    <tr>\n",
       "      <th>s2</th>\n",
       "      <th>kalyan</th>\n",
       "      <td>29</td>\n",
       "      <td>98</td>\n",
       "    </tr>\n",
       "    <tr>\n",
       "      <th>s3</th>\n",
       "      <th>sunny</th>\n",
       "      <td>7</td>\n",
       "      <td>97</td>\n",
       "    </tr>\n",
       "  </tbody>\n",
       "</table>\n",
       "</div>"
      ],
      "text/plain": [
       "           age  marks\n",
       "   name              \n",
       "s1 raju     30     99\n",
       "s2 kalyan   29     98\n",
       "s3 sunny     7     97"
      ]
     },
     "execution_count": 480,
     "metadata": {},
     "output_type": "execute_result"
    }
   ],
   "source": [
    "#set index by append\n",
    "\n",
    "df22 = df2.set_index('name', append = True)\n",
    "df22"
   ]
  },
  {
   "cell_type": "markdown",
   "id": "c2a426b1",
   "metadata": {},
   "source": [
    "## Set index in place\n",
    "- In the above examples, whenever we executed DataFrame.set_index() operation, pandas created a new copy of DataFrame because the modification is not-in place.\n",
    "\n",
    "- Specify inplace=True to set index in the existing DataFrame rather than creating a copy of it.\n",
    "\n",
    "- If inplace=True then it updates the existing DataFrame and does not return anything.\n",
    "- If inplace=False then it creates a new DataFrame with updated changes and returns it.\n",
    "- Note: You don’t need to assign the result back to a variable as we are performing modifications in place."
   ]
  },
  {
   "cell_type": "code",
   "execution_count": 481,
   "id": "3438a87a",
   "metadata": {},
   "outputs": [
    {
     "data": {
      "text/html": [
       "<div>\n",
       "<style scoped>\n",
       "    .dataframe tbody tr th:only-of-type {\n",
       "        vertical-align: middle;\n",
       "    }\n",
       "\n",
       "    .dataframe tbody tr th {\n",
       "        vertical-align: top;\n",
       "    }\n",
       "\n",
       "    .dataframe thead th {\n",
       "        text-align: right;\n",
       "    }\n",
       "</style>\n",
       "<table border=\"1\" class=\"dataframe\">\n",
       "  <thead>\n",
       "    <tr style=\"text-align: right;\">\n",
       "      <th></th>\n",
       "      <th>name</th>\n",
       "      <th>age</th>\n",
       "      <th>marks</th>\n",
       "    </tr>\n",
       "  </thead>\n",
       "  <tbody>\n",
       "    <tr>\n",
       "      <th>0</th>\n",
       "      <td>raju</td>\n",
       "      <td>30</td>\n",
       "      <td>99</td>\n",
       "    </tr>\n",
       "    <tr>\n",
       "      <th>1</th>\n",
       "      <td>kalyan</td>\n",
       "      <td>29</td>\n",
       "      <td>98</td>\n",
       "    </tr>\n",
       "    <tr>\n",
       "      <th>2</th>\n",
       "      <td>sunny</td>\n",
       "      <td>7</td>\n",
       "      <td>97</td>\n",
       "    </tr>\n",
       "  </tbody>\n",
       "</table>\n",
       "</div>"
      ],
      "text/plain": [
       "     name  age  marks\n",
       "0    raju   30     99\n",
       "1  kalyan   29     98\n",
       "2   sunny    7     97"
      ]
     },
     "execution_count": 481,
     "metadata": {},
     "output_type": "execute_result"
    }
   ],
   "source": [
    "my_dict = {'name': ['raju', 'kalyan', 'sunny'], 'age': [30,29, 7], 'marks': [99,98,97]}\n",
    "df = pd.DataFrame(my_dict)\n",
    "df"
   ]
  },
  {
   "cell_type": "code",
   "execution_count": 482,
   "id": "800c907e",
   "metadata": {},
   "outputs": [
    {
     "data": {
      "text/html": [
       "<div>\n",
       "<style scoped>\n",
       "    .dataframe tbody tr th:only-of-type {\n",
       "        vertical-align: middle;\n",
       "    }\n",
       "\n",
       "    .dataframe tbody tr th {\n",
       "        vertical-align: top;\n",
       "    }\n",
       "\n",
       "    .dataframe thead th {\n",
       "        text-align: right;\n",
       "    }\n",
       "</style>\n",
       "<table border=\"1\" class=\"dataframe\">\n",
       "  <thead>\n",
       "    <tr style=\"text-align: right;\">\n",
       "      <th></th>\n",
       "      <th>age</th>\n",
       "      <th>marks</th>\n",
       "    </tr>\n",
       "    <tr>\n",
       "      <th>name</th>\n",
       "      <th></th>\n",
       "      <th></th>\n",
       "    </tr>\n",
       "  </thead>\n",
       "  <tbody>\n",
       "    <tr>\n",
       "      <th>raju</th>\n",
       "      <td>30</td>\n",
       "      <td>99</td>\n",
       "    </tr>\n",
       "    <tr>\n",
       "      <th>kalyan</th>\n",
       "      <td>29</td>\n",
       "      <td>98</td>\n",
       "    </tr>\n",
       "    <tr>\n",
       "      <th>sunny</th>\n",
       "      <td>7</td>\n",
       "      <td>97</td>\n",
       "    </tr>\n",
       "  </tbody>\n",
       "</table>\n",
       "</div>"
      ],
      "text/plain": [
       "        age  marks\n",
       "name              \n",
       "raju     30     99\n",
       "kalyan   29     98\n",
       "sunny     7     97"
      ]
     },
     "execution_count": 482,
     "metadata": {},
     "output_type": "execute_result"
    }
   ],
   "source": [
    "#set index inplace\n",
    "\n",
    "df.set_index('name', inplace = True)\n",
    "df"
   ]
  },
  {
   "cell_type": "markdown",
   "id": "69cb5094",
   "metadata": {},
   "source": [
    "## Set index using a column with duplicates\n",
    "- As we have discussed, we need to pass a column name that needs to be used to set row index in the DataFrame.\n",
    "\n",
    "- But, the column may contain duplicate values. By default, DataFrame.set_index() allows duplicate index. If we want to change this behavior, then we can use the verify_integrity parameter of DataFrame.set_index().\n",
    "\n",
    "- If verify_integrity=True, then it checks the new index for duplicates and throws ValueError.\n",
    "- If verify_integrity=False, then it defers the check until necessary.\n",
    "- Note: Setting to False will improve the performance of this method."
   ]
  },
  {
   "cell_type": "code",
   "execution_count": 485,
   "id": "c9b97a3f",
   "metadata": {},
   "outputs": [
    {
     "data": {
      "text/html": [
       "<div>\n",
       "<style scoped>\n",
       "    .dataframe tbody tr th:only-of-type {\n",
       "        vertical-align: middle;\n",
       "    }\n",
       "\n",
       "    .dataframe tbody tr th {\n",
       "        vertical-align: top;\n",
       "    }\n",
       "\n",
       "    .dataframe thead th {\n",
       "        text-align: right;\n",
       "    }\n",
       "</style>\n",
       "<table border=\"1\" class=\"dataframe\">\n",
       "  <thead>\n",
       "    <tr style=\"text-align: right;\">\n",
       "      <th></th>\n",
       "      <th>name</th>\n",
       "      <th>age</th>\n",
       "      <th>marks</th>\n",
       "    </tr>\n",
       "  </thead>\n",
       "  <tbody>\n",
       "    <tr>\n",
       "      <th>0</th>\n",
       "      <td>raju</td>\n",
       "      <td>30</td>\n",
       "      <td>99</td>\n",
       "    </tr>\n",
       "    <tr>\n",
       "      <th>1</th>\n",
       "      <td>kalyan</td>\n",
       "      <td>29</td>\n",
       "      <td>98</td>\n",
       "    </tr>\n",
       "    <tr>\n",
       "      <th>2</th>\n",
       "      <td>raju</td>\n",
       "      <td>7</td>\n",
       "      <td>97</td>\n",
       "    </tr>\n",
       "  </tbody>\n",
       "</table>\n",
       "</div>"
      ],
      "text/plain": [
       "     name  age  marks\n",
       "0    raju   30     99\n",
       "1  kalyan   29     98\n",
       "2    raju    7     97"
      ]
     },
     "execution_count": 485,
     "metadata": {},
     "output_type": "execute_result"
    }
   ],
   "source": [
    "my_dict = {'name': ['raju', 'kalyan', 'raju'], 'age': [30,29, 7], 'marks': [99,98,97]}\n",
    "df = pd.DataFrame(my_dict)\n",
    "df"
   ]
  },
  {
   "cell_type": "code",
   "execution_count": 486,
   "id": "45fcd3a3",
   "metadata": {},
   "outputs": [
    {
     "ename": "ValueError",
     "evalue": "Index has duplicate keys: Index(['raju'], dtype='object', name='name')",
     "output_type": "error",
     "traceback": [
      "\u001b[1;31m---------------------------------------------------------------------------\u001b[0m",
      "\u001b[1;31mValueError\u001b[0m                                Traceback (most recent call last)",
      "\u001b[1;32mC:\\Users\\RAJU~1.GUL\\AppData\\Local\\Temp/ipykernel_2072/4193742821.py\u001b[0m in \u001b[0;36m<module>\u001b[1;34m\u001b[0m\n\u001b[0;32m      1\u001b[0m \u001b[1;31m#set index error case\u001b[0m\u001b[1;33m\u001b[0m\u001b[1;33m\u001b[0m\u001b[0m\n\u001b[0;32m      2\u001b[0m \u001b[1;33m\u001b[0m\u001b[0m\n\u001b[1;32m----> 3\u001b[1;33m \u001b[0mdf\u001b[0m \u001b[1;33m=\u001b[0m \u001b[0mdf\u001b[0m\u001b[1;33m.\u001b[0m\u001b[0mset_index\u001b[0m\u001b[1;33m(\u001b[0m\u001b[1;34m'name'\u001b[0m\u001b[1;33m,\u001b[0m \u001b[0mverify_integrity\u001b[0m\u001b[1;33m=\u001b[0m\u001b[1;32mTrue\u001b[0m\u001b[1;33m)\u001b[0m\u001b[1;33m\u001b[0m\u001b[1;33m\u001b[0m\u001b[0m\n\u001b[0m\u001b[0;32m      4\u001b[0m \u001b[0mdf\u001b[0m\u001b[1;33m\u001b[0m\u001b[1;33m\u001b[0m\u001b[0m\n",
      "\u001b[1;32m~\\Anaconda3\\lib\\site-packages\\pandas\\util\\_decorators.py\u001b[0m in \u001b[0;36mwrapper\u001b[1;34m(*args, **kwargs)\u001b[0m\n\u001b[0;32m    309\u001b[0m                     \u001b[0mstacklevel\u001b[0m\u001b[1;33m=\u001b[0m\u001b[0mstacklevel\u001b[0m\u001b[1;33m,\u001b[0m\u001b[1;33m\u001b[0m\u001b[1;33m\u001b[0m\u001b[0m\n\u001b[0;32m    310\u001b[0m                 )\n\u001b[1;32m--> 311\u001b[1;33m             \u001b[1;32mreturn\u001b[0m \u001b[0mfunc\u001b[0m\u001b[1;33m(\u001b[0m\u001b[1;33m*\u001b[0m\u001b[0margs\u001b[0m\u001b[1;33m,\u001b[0m \u001b[1;33m**\u001b[0m\u001b[0mkwargs\u001b[0m\u001b[1;33m)\u001b[0m\u001b[1;33m\u001b[0m\u001b[1;33m\u001b[0m\u001b[0m\n\u001b[0m\u001b[0;32m    312\u001b[0m \u001b[1;33m\u001b[0m\u001b[0m\n\u001b[0;32m    313\u001b[0m         \u001b[1;32mreturn\u001b[0m \u001b[0mwrapper\u001b[0m\u001b[1;33m\u001b[0m\u001b[1;33m\u001b[0m\u001b[0m\n",
      "\u001b[1;32m~\\Anaconda3\\lib\\site-packages\\pandas\\core\\frame.py\u001b[0m in \u001b[0;36mset_index\u001b[1;34m(self, keys, drop, append, inplace, verify_integrity)\u001b[0m\n\u001b[0;32m   5508\u001b[0m         \u001b[1;32mif\u001b[0m \u001b[0mverify_integrity\u001b[0m \u001b[1;32mand\u001b[0m \u001b[1;32mnot\u001b[0m \u001b[0mindex\u001b[0m\u001b[1;33m.\u001b[0m\u001b[0mis_unique\u001b[0m\u001b[1;33m:\u001b[0m\u001b[1;33m\u001b[0m\u001b[1;33m\u001b[0m\u001b[0m\n\u001b[0;32m   5509\u001b[0m             \u001b[0mduplicates\u001b[0m \u001b[1;33m=\u001b[0m \u001b[0mindex\u001b[0m\u001b[1;33m[\u001b[0m\u001b[0mindex\u001b[0m\u001b[1;33m.\u001b[0m\u001b[0mduplicated\u001b[0m\u001b[1;33m(\u001b[0m\u001b[1;33m)\u001b[0m\u001b[1;33m]\u001b[0m\u001b[1;33m.\u001b[0m\u001b[0munique\u001b[0m\u001b[1;33m(\u001b[0m\u001b[1;33m)\u001b[0m\u001b[1;33m\u001b[0m\u001b[1;33m\u001b[0m\u001b[0m\n\u001b[1;32m-> 5510\u001b[1;33m             \u001b[1;32mraise\u001b[0m \u001b[0mValueError\u001b[0m\u001b[1;33m(\u001b[0m\u001b[1;34mf\"Index has duplicate keys: {duplicates}\"\u001b[0m\u001b[1;33m)\u001b[0m\u001b[1;33m\u001b[0m\u001b[1;33m\u001b[0m\u001b[0m\n\u001b[0m\u001b[0;32m   5511\u001b[0m \u001b[1;33m\u001b[0m\u001b[0m\n\u001b[0;32m   5512\u001b[0m         \u001b[1;31m# use set to handle duplicate column names gracefully in case of drop\u001b[0m\u001b[1;33m\u001b[0m\u001b[1;33m\u001b[0m\u001b[0m\n",
      "\u001b[1;31mValueError\u001b[0m: Index has duplicate keys: Index(['raju'], dtype='object', name='name')"
     ]
    }
   ],
   "source": [
    "#set index error case\n",
    "\n",
    "df = df.set_index('name', verify_integrity=True)\n",
    "df"
   ]
  },
  {
   "cell_type": "markdown",
   "id": "92014f34",
   "metadata": {},
   "source": [
    "## Set index by column number\n",
    "- If we need to set single or multiple columns as an index of the DataFrame, but we do not know the column labels to pass to DataFrame.set_index() function. In such a case, we can use the columns parameter of the DataFrame to retrieve the column index position.\n",
    "\n",
    "- We need to create a list of columns using column position df.columns[[0,1]] and pass it to the DataFrame.set_index() function."
   ]
  },
  {
   "cell_type": "code",
   "execution_count": 492,
   "id": "b50b838b",
   "metadata": {},
   "outputs": [
    {
     "data": {
      "text/html": [
       "<div>\n",
       "<style scoped>\n",
       "    .dataframe tbody tr th:only-of-type {\n",
       "        vertical-align: middle;\n",
       "    }\n",
       "\n",
       "    .dataframe tbody tr th {\n",
       "        vertical-align: top;\n",
       "    }\n",
       "\n",
       "    .dataframe thead th {\n",
       "        text-align: right;\n",
       "    }\n",
       "</style>\n",
       "<table border=\"1\" class=\"dataframe\">\n",
       "  <thead>\n",
       "    <tr style=\"text-align: right;\">\n",
       "      <th></th>\n",
       "      <th>name</th>\n",
       "      <th>age</th>\n",
       "      <th>marks</th>\n",
       "    </tr>\n",
       "  </thead>\n",
       "  <tbody>\n",
       "    <tr>\n",
       "      <th>0</th>\n",
       "      <td>raju</td>\n",
       "      <td>30</td>\n",
       "      <td>99</td>\n",
       "    </tr>\n",
       "    <tr>\n",
       "      <th>1</th>\n",
       "      <td>kalyan</td>\n",
       "      <td>29</td>\n",
       "      <td>98</td>\n",
       "    </tr>\n",
       "    <tr>\n",
       "      <th>2</th>\n",
       "      <td>sunny</td>\n",
       "      <td>7</td>\n",
       "      <td>97</td>\n",
       "    </tr>\n",
       "  </tbody>\n",
       "</table>\n",
       "</div>"
      ],
      "text/plain": [
       "     name  age  marks\n",
       "0    raju   30     99\n",
       "1  kalyan   29     98\n",
       "2   sunny    7     97"
      ]
     },
     "execution_count": 492,
     "metadata": {},
     "output_type": "execute_result"
    }
   ],
   "source": [
    "my_dict = {'name': ['raju', 'kalyan', 'sunny'], 'age': [30,29, 7], 'marks': [99,98,97]}\n",
    "df = pd.DataFrame(my_dict)\n",
    "df"
   ]
  },
  {
   "cell_type": "code",
   "execution_count": 493,
   "id": "a4605ed6",
   "metadata": {},
   "outputs": [
    {
     "data": {
      "text/html": [
       "<div>\n",
       "<style scoped>\n",
       "    .dataframe tbody tr th:only-of-type {\n",
       "        vertical-align: middle;\n",
       "    }\n",
       "\n",
       "    .dataframe tbody tr th {\n",
       "        vertical-align: top;\n",
       "    }\n",
       "\n",
       "    .dataframe thead th {\n",
       "        text-align: right;\n",
       "    }\n",
       "</style>\n",
       "<table border=\"1\" class=\"dataframe\">\n",
       "  <thead>\n",
       "    <tr style=\"text-align: right;\">\n",
       "      <th></th>\n",
       "      <th></th>\n",
       "      <th>age</th>\n",
       "    </tr>\n",
       "    <tr>\n",
       "      <th>name</th>\n",
       "      <th>marks</th>\n",
       "      <th></th>\n",
       "    </tr>\n",
       "  </thead>\n",
       "  <tbody>\n",
       "    <tr>\n",
       "      <th>raju</th>\n",
       "      <th>99</th>\n",
       "      <td>30</td>\n",
       "    </tr>\n",
       "    <tr>\n",
       "      <th>kalyan</th>\n",
       "      <th>98</th>\n",
       "      <td>29</td>\n",
       "    </tr>\n",
       "    <tr>\n",
       "      <th>sunny</th>\n",
       "      <th>97</th>\n",
       "      <td>7</td>\n",
       "    </tr>\n",
       "  </tbody>\n",
       "</table>\n",
       "</div>"
      ],
      "text/plain": [
       "              age\n",
       "name   marks     \n",
       "raju   99      30\n",
       "kalyan 98      29\n",
       "sunny  97       7"
      ]
     },
     "execution_count": 493,
     "metadata": {},
     "output_type": "execute_result"
    }
   ],
   "source": [
    "#set index\n",
    "cols = list(df.columns[[0,2]])\n",
    "df = df.set_index(cols)\n",
    "df"
   ]
  },
  {
   "cell_type": "markdown",
   "id": "c02fa8ed",
   "metadata": {},
   "source": [
    "## Reset index in pandas DataFrame\n",
    "\n",
    "- DataFrame is the tabular structure in the Python pandas library. It represents each row and column by the label. Row label is called an index, whereas column label is called column index/header.\n",
    "\n",
    "- After performing manipulations and filtering on the large dataset, we finally get the precise DataFrame as required. But, it carries the index of the original dataset. In such a case, we need to reset the index of the DataFrame."
   ]
  },
  {
   "cell_type": "markdown",
   "id": "5bac2ee9",
   "metadata": {},
   "source": [
    "## The DataFrame.reset_index() function\n",
    "- After dropping and filtering the rows, this function is used to reset the index of the resultant Python DataFrame. Let’s discuss how to use DataFrame.reset_index() function in detail.\n",
    "\n",
    "- Syntax\n",
    "\n",
    "## DataFrame.reset_index(level=None, drop=False, inplace=False, col_level=0, col_fill='')\n",
    "\n",
    "## Parameters\n",
    "\n",
    "- level: In multi-level DataFrame, it takes a level name or a position of Row index that needs to be reset. By default, it reset all levels in a row index.\n",
    "- drop: It is a boolean flag,\n",
    "- True – It does not add the current row index as a new column in DataFrame.\n",
    "- False (Default) – It adds the current row index as a new column in DataFrame.\n",
    "- inplace: It is used to specify whether to return a new DataFrame or update an existing one. It is a boolean flag with default False.\n",
    "- col_level: In multi-level DataFrame, determines which column header level the current row index is inserted into. By default, it is inserted into the first level.\n",
    "- col_fill: In multi-level DataFrame, if the column headers have multiple levels, it determines how the other levels are named.\n",
    "- For example, if we have a DataFrame with the two-column headers at levels 0 and 1, and if we add the current index as column header at level 0, we can specify the column header at level 1.\n",
    "\n",
    "## Returns\n",
    "\n",
    "- DataFrame with the new index or None if inplace=True."
   ]
  },
  {
   "cell_type": "markdown",
   "id": "119cafb9",
   "metadata": {},
   "source": [
    "## Reset index without new column\n",
    "- By default, DataFrame.reset_index() adds the current row index as a new ‘index’ column in DataFrame. If we do not want to add the new column, we can use the drop parameter.\n",
    "\n",
    "- If drop=True then it does not add the new column of the current row index in the DataFrame.\n",
    "- If drop=False, is the default behavior where it adds the new column of the current row index in the DataFrame."
   ]
  },
  {
   "cell_type": "code",
   "execution_count": 494,
   "id": "a050b047",
   "metadata": {},
   "outputs": [
    {
     "data": {
      "text/html": [
       "<div>\n",
       "<style scoped>\n",
       "    .dataframe tbody tr th:only-of-type {\n",
       "        vertical-align: middle;\n",
       "    }\n",
       "\n",
       "    .dataframe tbody tr th {\n",
       "        vertical-align: top;\n",
       "    }\n",
       "\n",
       "    .dataframe thead th {\n",
       "        text-align: right;\n",
       "    }\n",
       "</style>\n",
       "<table border=\"1\" class=\"dataframe\">\n",
       "  <thead>\n",
       "    <tr style=\"text-align: right;\">\n",
       "      <th></th>\n",
       "      <th>name</th>\n",
       "      <th>age</th>\n",
       "      <th>marks</th>\n",
       "    </tr>\n",
       "  </thead>\n",
       "  <tbody>\n",
       "    <tr>\n",
       "      <th>0</th>\n",
       "      <td>raju</td>\n",
       "      <td>30</td>\n",
       "      <td>99</td>\n",
       "    </tr>\n",
       "    <tr>\n",
       "      <th>1</th>\n",
       "      <td>kalyan</td>\n",
       "      <td>29</td>\n",
       "      <td>98</td>\n",
       "    </tr>\n",
       "    <tr>\n",
       "      <th>2</th>\n",
       "      <td>sunny</td>\n",
       "      <td>7</td>\n",
       "      <td>97</td>\n",
       "    </tr>\n",
       "  </tbody>\n",
       "</table>\n",
       "</div>"
      ],
      "text/plain": [
       "     name  age  marks\n",
       "0    raju   30     99\n",
       "1  kalyan   29     98\n",
       "2   sunny    7     97"
      ]
     },
     "execution_count": 494,
     "metadata": {},
     "output_type": "execute_result"
    }
   ],
   "source": [
    "my_dict = {'name': ['raju', 'kalyan', 'sunny'], 'age': [30,29, 7], 'marks': [99,98,97]}\n",
    "df = pd.DataFrame(my_dict)\n",
    "df"
   ]
  },
  {
   "cell_type": "code",
   "execution_count": 495,
   "id": "14dfd39d",
   "metadata": {},
   "outputs": [
    {
     "data": {
      "text/html": [
       "<div>\n",
       "<style scoped>\n",
       "    .dataframe tbody tr th:only-of-type {\n",
       "        vertical-align: middle;\n",
       "    }\n",
       "\n",
       "    .dataframe tbody tr th {\n",
       "        vertical-align: top;\n",
       "    }\n",
       "\n",
       "    .dataframe thead th {\n",
       "        text-align: right;\n",
       "    }\n",
       "</style>\n",
       "<table border=\"1\" class=\"dataframe\">\n",
       "  <thead>\n",
       "    <tr style=\"text-align: right;\">\n",
       "      <th></th>\n",
       "      <th>name</th>\n",
       "      <th>age</th>\n",
       "      <th>marks</th>\n",
       "    </tr>\n",
       "  </thead>\n",
       "  <tbody>\n",
       "    <tr>\n",
       "      <th>s1</th>\n",
       "      <td>raju</td>\n",
       "      <td>30</td>\n",
       "      <td>99</td>\n",
       "    </tr>\n",
       "    <tr>\n",
       "      <th>s2</th>\n",
       "      <td>kalyan</td>\n",
       "      <td>29</td>\n",
       "      <td>98</td>\n",
       "    </tr>\n",
       "    <tr>\n",
       "      <th>s3</th>\n",
       "      <td>sunny</td>\n",
       "      <td>7</td>\n",
       "      <td>97</td>\n",
       "    </tr>\n",
       "  </tbody>\n",
       "</table>\n",
       "</div>"
      ],
      "text/plain": [
       "      name  age  marks\n",
       "s1    raju   30     99\n",
       "s2  kalyan   29     98\n",
       "s3   sunny    7     97"
      ]
     },
     "execution_count": 495,
     "metadata": {},
     "output_type": "execute_result"
    }
   ],
   "source": [
    "#create data frame from dict\n",
    "\n",
    "df = pd.DataFrame(my_dict, index = ['s1', 's2', 's3'])\n",
    "df"
   ]
  },
  {
   "cell_type": "code",
   "execution_count": 496,
   "id": "114eba4d",
   "metadata": {},
   "outputs": [
    {
     "data": {
      "text/html": [
       "<div>\n",
       "<style scoped>\n",
       "    .dataframe tbody tr th:only-of-type {\n",
       "        vertical-align: middle;\n",
       "    }\n",
       "\n",
       "    .dataframe tbody tr th {\n",
       "        vertical-align: top;\n",
       "    }\n",
       "\n",
       "    .dataframe thead th {\n",
       "        text-align: right;\n",
       "    }\n",
       "</style>\n",
       "<table border=\"1\" class=\"dataframe\">\n",
       "  <thead>\n",
       "    <tr style=\"text-align: right;\">\n",
       "      <th></th>\n",
       "      <th>name</th>\n",
       "      <th>age</th>\n",
       "      <th>marks</th>\n",
       "    </tr>\n",
       "  </thead>\n",
       "  <tbody>\n",
       "    <tr>\n",
       "      <th>0</th>\n",
       "      <td>raju</td>\n",
       "      <td>30</td>\n",
       "      <td>99</td>\n",
       "    </tr>\n",
       "    <tr>\n",
       "      <th>1</th>\n",
       "      <td>kalyan</td>\n",
       "      <td>29</td>\n",
       "      <td>98</td>\n",
       "    </tr>\n",
       "    <tr>\n",
       "      <th>2</th>\n",
       "      <td>sunny</td>\n",
       "      <td>7</td>\n",
       "      <td>97</td>\n",
       "    </tr>\n",
       "  </tbody>\n",
       "</table>\n",
       "</div>"
      ],
      "text/plain": [
       "     name  age  marks\n",
       "0    raju   30     99\n",
       "1  kalyan   29     98\n",
       "2   sunny    7     97"
      ]
     },
     "execution_count": 496,
     "metadata": {},
     "output_type": "execute_result"
    }
   ],
   "source": [
    "#reset index without new column\n",
    "\n",
    "\n",
    "df = df.reset_index(drop = True)\n",
    "df"
   ]
  },
  {
   "cell_type": "markdown",
   "id": "3b465643",
   "metadata": {},
   "source": [
    "## Reset index in place\n",
    "- In the above examples, whenever we executed reset index operation, pandas created a new copy of DataFrame because the modification is not-in place.\n",
    "\n",
    "- Specify inplace=True to reset index in the existing DataFrame rather than creating a copy of it.\n",
    "\n",
    "- If the inplace=True then it updates the existing DataFrame and does not return anything.\n",
    "- If the inplace=False then it creates a new DataFrame with an updated index and returns it.\n",
    "- Note: You don’t need to assign the result back to a variable as we are performing modifications in place."
   ]
  },
  {
   "cell_type": "code",
   "execution_count": 497,
   "id": "52383128",
   "metadata": {},
   "outputs": [
    {
     "data": {
      "text/html": [
       "<div>\n",
       "<style scoped>\n",
       "    .dataframe tbody tr th:only-of-type {\n",
       "        vertical-align: middle;\n",
       "    }\n",
       "\n",
       "    .dataframe tbody tr th {\n",
       "        vertical-align: top;\n",
       "    }\n",
       "\n",
       "    .dataframe thead th {\n",
       "        text-align: right;\n",
       "    }\n",
       "</style>\n",
       "<table border=\"1\" class=\"dataframe\">\n",
       "  <thead>\n",
       "    <tr style=\"text-align: right;\">\n",
       "      <th></th>\n",
       "      <th>name</th>\n",
       "      <th>age</th>\n",
       "      <th>marks</th>\n",
       "    </tr>\n",
       "  </thead>\n",
       "  <tbody>\n",
       "    <tr>\n",
       "      <th>0</th>\n",
       "      <td>raju</td>\n",
       "      <td>30</td>\n",
       "      <td>99</td>\n",
       "    </tr>\n",
       "    <tr>\n",
       "      <th>1</th>\n",
       "      <td>kalyan</td>\n",
       "      <td>29</td>\n",
       "      <td>98</td>\n",
       "    </tr>\n",
       "    <tr>\n",
       "      <th>2</th>\n",
       "      <td>sunny</td>\n",
       "      <td>7</td>\n",
       "      <td>97</td>\n",
       "    </tr>\n",
       "  </tbody>\n",
       "</table>\n",
       "</div>"
      ],
      "text/plain": [
       "     name  age  marks\n",
       "0    raju   30     99\n",
       "1  kalyan   29     98\n",
       "2   sunny    7     97"
      ]
     },
     "execution_count": 497,
     "metadata": {},
     "output_type": "execute_result"
    }
   ],
   "source": [
    "my_dict = {'name': ['raju', 'kalyan', 'sunny'], 'age': [30,29, 7], 'marks': [99,98,97]}\n",
    "df = pd.DataFrame(my_dict)\n",
    "df"
   ]
  },
  {
   "cell_type": "code",
   "execution_count": 498,
   "id": "f348cf66",
   "metadata": {},
   "outputs": [
    {
     "data": {
      "text/html": [
       "<div>\n",
       "<style scoped>\n",
       "    .dataframe tbody tr th:only-of-type {\n",
       "        vertical-align: middle;\n",
       "    }\n",
       "\n",
       "    .dataframe tbody tr th {\n",
       "        vertical-align: top;\n",
       "    }\n",
       "\n",
       "    .dataframe thead th {\n",
       "        text-align: right;\n",
       "    }\n",
       "</style>\n",
       "<table border=\"1\" class=\"dataframe\">\n",
       "  <thead>\n",
       "    <tr style=\"text-align: right;\">\n",
       "      <th></th>\n",
       "      <th>name</th>\n",
       "      <th>age</th>\n",
       "      <th>marks</th>\n",
       "    </tr>\n",
       "  </thead>\n",
       "  <tbody>\n",
       "    <tr>\n",
       "      <th>s1</th>\n",
       "      <td>raju</td>\n",
       "      <td>30</td>\n",
       "      <td>99</td>\n",
       "    </tr>\n",
       "    <tr>\n",
       "      <th>s2</th>\n",
       "      <td>kalyan</td>\n",
       "      <td>29</td>\n",
       "      <td>98</td>\n",
       "    </tr>\n",
       "    <tr>\n",
       "      <th>s3</th>\n",
       "      <td>sunny</td>\n",
       "      <td>7</td>\n",
       "      <td>97</td>\n",
       "    </tr>\n",
       "  </tbody>\n",
       "</table>\n",
       "</div>"
      ],
      "text/plain": [
       "      name  age  marks\n",
       "s1    raju   30     99\n",
       "s2  kalyan   29     98\n",
       "s3   sunny    7     97"
      ]
     },
     "execution_count": 498,
     "metadata": {},
     "output_type": "execute_result"
    }
   ],
   "source": [
    "#create data frame from dict\n",
    "\n",
    "df = pd.DataFrame(my_dict, index = ['s1', 's2', 's3'])\n",
    "df"
   ]
  },
  {
   "cell_type": "code",
   "execution_count": 499,
   "id": "d0969180",
   "metadata": {},
   "outputs": [
    {
     "data": {
      "text/html": [
       "<div>\n",
       "<style scoped>\n",
       "    .dataframe tbody tr th:only-of-type {\n",
       "        vertical-align: middle;\n",
       "    }\n",
       "\n",
       "    .dataframe tbody tr th {\n",
       "        vertical-align: top;\n",
       "    }\n",
       "\n",
       "    .dataframe thead th {\n",
       "        text-align: right;\n",
       "    }\n",
       "</style>\n",
       "<table border=\"1\" class=\"dataframe\">\n",
       "  <thead>\n",
       "    <tr style=\"text-align: right;\">\n",
       "      <th></th>\n",
       "      <th>index</th>\n",
       "      <th>name</th>\n",
       "      <th>age</th>\n",
       "      <th>marks</th>\n",
       "    </tr>\n",
       "  </thead>\n",
       "  <tbody>\n",
       "    <tr>\n",
       "      <th>0</th>\n",
       "      <td>s1</td>\n",
       "      <td>raju</td>\n",
       "      <td>30</td>\n",
       "      <td>99</td>\n",
       "    </tr>\n",
       "    <tr>\n",
       "      <th>1</th>\n",
       "      <td>s2</td>\n",
       "      <td>kalyan</td>\n",
       "      <td>29</td>\n",
       "      <td>98</td>\n",
       "    </tr>\n",
       "    <tr>\n",
       "      <th>2</th>\n",
       "      <td>s3</td>\n",
       "      <td>sunny</td>\n",
       "      <td>7</td>\n",
       "      <td>97</td>\n",
       "    </tr>\n",
       "  </tbody>\n",
       "</table>\n",
       "</div>"
      ],
      "text/plain": [
       "  index    name  age  marks\n",
       "0    s1    raju   30     99\n",
       "1    s2  kalyan   29     98\n",
       "2    s3   sunny    7     97"
      ]
     },
     "execution_count": 499,
     "metadata": {},
     "output_type": "execute_result"
    }
   ],
   "source": [
    "#reset index in place\n",
    "\n",
    "df.reset_index(inplace = True)\n",
    "df"
   ]
  },
  {
   "cell_type": "markdown",
   "id": "40973bd6",
   "metadata": {},
   "source": [
    "## Reset index starts from 1\n",
    "- Suppose we have a huge dataset which we need to filter. After filtering the DataFrame, it still carries the original index. When we want to reset the index of the DataFrame such that the new index should start with 1, we can do that in two steps,\n",
    "\n",
    "- Use DataFrame.reset_index() to reset the row index to start at o.\n",
    "- Use the index parameter of the DataFrame to re-assign the index by adding 1 to each row index of the resultant DataFrame."
   ]
  },
  {
   "cell_type": "code",
   "execution_count": 500,
   "id": "b5a7d08f",
   "metadata": {},
   "outputs": [
    {
     "data": {
      "text/html": [
       "<div>\n",
       "<style scoped>\n",
       "    .dataframe tbody tr th:only-of-type {\n",
       "        vertical-align: middle;\n",
       "    }\n",
       "\n",
       "    .dataframe tbody tr th {\n",
       "        vertical-align: top;\n",
       "    }\n",
       "\n",
       "    .dataframe thead th {\n",
       "        text-align: right;\n",
       "    }\n",
       "</style>\n",
       "<table border=\"1\" class=\"dataframe\">\n",
       "  <thead>\n",
       "    <tr style=\"text-align: right;\">\n",
       "      <th></th>\n",
       "      <th>name</th>\n",
       "      <th>age</th>\n",
       "      <th>marks</th>\n",
       "    </tr>\n",
       "  </thead>\n",
       "  <tbody>\n",
       "    <tr>\n",
       "      <th>0</th>\n",
       "      <td>raju</td>\n",
       "      <td>30</td>\n",
       "      <td>99</td>\n",
       "    </tr>\n",
       "    <tr>\n",
       "      <th>1</th>\n",
       "      <td>kalyan</td>\n",
       "      <td>29</td>\n",
       "      <td>98</td>\n",
       "    </tr>\n",
       "    <tr>\n",
       "      <th>2</th>\n",
       "      <td>sunny</td>\n",
       "      <td>7</td>\n",
       "      <td>97</td>\n",
       "    </tr>\n",
       "  </tbody>\n",
       "</table>\n",
       "</div>"
      ],
      "text/plain": [
       "     name  age  marks\n",
       "0    raju   30     99\n",
       "1  kalyan   29     98\n",
       "2   sunny    7     97"
      ]
     },
     "execution_count": 500,
     "metadata": {},
     "output_type": "execute_result"
    }
   ],
   "source": [
    "my_dict = {'name': ['raju', 'kalyan', 'sunny'], 'age': [30,29, 7], 'marks': [99,98,97]}\n",
    "df = pd.DataFrame(my_dict)\n",
    "df"
   ]
  },
  {
   "cell_type": "code",
   "execution_count": 506,
   "id": "a1718022",
   "metadata": {},
   "outputs": [
    {
     "data": {
      "text/html": [
       "<div>\n",
       "<style scoped>\n",
       "    .dataframe tbody tr th:only-of-type {\n",
       "        vertical-align: middle;\n",
       "    }\n",
       "\n",
       "    .dataframe tbody tr th {\n",
       "        vertical-align: top;\n",
       "    }\n",
       "\n",
       "    .dataframe thead th {\n",
       "        text-align: right;\n",
       "    }\n",
       "</style>\n",
       "<table border=\"1\" class=\"dataframe\">\n",
       "  <thead>\n",
       "    <tr style=\"text-align: right;\">\n",
       "      <th></th>\n",
       "      <th>name</th>\n",
       "      <th>age</th>\n",
       "      <th>marks</th>\n",
       "    </tr>\n",
       "  </thead>\n",
       "  <tbody>\n",
       "    <tr>\n",
       "      <th>s1</th>\n",
       "      <td>raju</td>\n",
       "      <td>30</td>\n",
       "      <td>99</td>\n",
       "    </tr>\n",
       "    <tr>\n",
       "      <th>s2</th>\n",
       "      <td>kalyan</td>\n",
       "      <td>29</td>\n",
       "      <td>98</td>\n",
       "    </tr>\n",
       "    <tr>\n",
       "      <th>s3</th>\n",
       "      <td>sunny</td>\n",
       "      <td>7</td>\n",
       "      <td>97</td>\n",
       "    </tr>\n",
       "  </tbody>\n",
       "</table>\n",
       "</div>"
      ],
      "text/plain": [
       "      name  age  marks\n",
       "s1    raju   30     99\n",
       "s2  kalyan   29     98\n",
       "s3   sunny    7     97"
      ]
     },
     "execution_count": 506,
     "metadata": {},
     "output_type": "execute_result"
    }
   ],
   "source": [
    "#create data frame from dict\n",
    "\n",
    "df = pd.DataFrame(my_dict, index = ['s1', 's2', 's3'])\n",
    "df"
   ]
  },
  {
   "cell_type": "code",
   "execution_count": 507,
   "id": "b70ba6aa",
   "metadata": {},
   "outputs": [
    {
     "data": {
      "text/html": [
       "<div>\n",
       "<style scoped>\n",
       "    .dataframe tbody tr th:only-of-type {\n",
       "        vertical-align: middle;\n",
       "    }\n",
       "\n",
       "    .dataframe tbody tr th {\n",
       "        vertical-align: top;\n",
       "    }\n",
       "\n",
       "    .dataframe thead th {\n",
       "        text-align: right;\n",
       "    }\n",
       "</style>\n",
       "<table border=\"1\" class=\"dataframe\">\n",
       "  <thead>\n",
       "    <tr style=\"text-align: right;\">\n",
       "      <th></th>\n",
       "      <th>index</th>\n",
       "      <th>name</th>\n",
       "      <th>age</th>\n",
       "      <th>marks</th>\n",
       "    </tr>\n",
       "  </thead>\n",
       "  <tbody>\n",
       "    <tr>\n",
       "      <th>0</th>\n",
       "      <td>s1</td>\n",
       "      <td>raju</td>\n",
       "      <td>30</td>\n",
       "      <td>99</td>\n",
       "    </tr>\n",
       "    <tr>\n",
       "      <th>1</th>\n",
       "      <td>s2</td>\n",
       "      <td>kalyan</td>\n",
       "      <td>29</td>\n",
       "      <td>98</td>\n",
       "    </tr>\n",
       "    <tr>\n",
       "      <th>2</th>\n",
       "      <td>s3</td>\n",
       "      <td>sunny</td>\n",
       "      <td>7</td>\n",
       "      <td>97</td>\n",
       "    </tr>\n",
       "  </tbody>\n",
       "</table>\n",
       "</div>"
      ],
      "text/plain": [
       "  index    name  age  marks\n",
       "0    s1    raju   30     99\n",
       "1    s2  kalyan   29     98\n",
       "2    s3   sunny    7     97"
      ]
     },
     "execution_count": 507,
     "metadata": {},
     "output_type": "execute_result"
    }
   ],
   "source": [
    "#reset index\n",
    "\n",
    "df = df.reset_index()\n",
    "df"
   ]
  },
  {
   "cell_type": "code",
   "execution_count": 508,
   "id": "76f73786",
   "metadata": {},
   "outputs": [
    {
     "data": {
      "text/html": [
       "<div>\n",
       "<style scoped>\n",
       "    .dataframe tbody tr th:only-of-type {\n",
       "        vertical-align: middle;\n",
       "    }\n",
       "\n",
       "    .dataframe tbody tr th {\n",
       "        vertical-align: top;\n",
       "    }\n",
       "\n",
       "    .dataframe thead th {\n",
       "        text-align: right;\n",
       "    }\n",
       "</style>\n",
       "<table border=\"1\" class=\"dataframe\">\n",
       "  <thead>\n",
       "    <tr style=\"text-align: right;\">\n",
       "      <th></th>\n",
       "      <th>index</th>\n",
       "      <th>name</th>\n",
       "      <th>age</th>\n",
       "      <th>marks</th>\n",
       "    </tr>\n",
       "  </thead>\n",
       "  <tbody>\n",
       "    <tr>\n",
       "      <th>1</th>\n",
       "      <td>s1</td>\n",
       "      <td>raju</td>\n",
       "      <td>30</td>\n",
       "      <td>99</td>\n",
       "    </tr>\n",
       "    <tr>\n",
       "      <th>2</th>\n",
       "      <td>s2</td>\n",
       "      <td>kalyan</td>\n",
       "      <td>29</td>\n",
       "      <td>98</td>\n",
       "    </tr>\n",
       "    <tr>\n",
       "      <th>3</th>\n",
       "      <td>s3</td>\n",
       "      <td>sunny</td>\n",
       "      <td>7</td>\n",
       "      <td>97</td>\n",
       "    </tr>\n",
       "  </tbody>\n",
       "</table>\n",
       "</div>"
      ],
      "text/plain": [
       "  index    name  age  marks\n",
       "1    s1    raju   30     99\n",
       "2    s2  kalyan   29     98\n",
       "3    s3   sunny    7     97"
      ]
     },
     "execution_count": 508,
     "metadata": {},
     "output_type": "execute_result"
    }
   ],
   "source": [
    "#add 1 to each index\n",
    "\n",
    "df.index = df.index+1\n",
    "df"
   ]
  },
  {
   "cell_type": "markdown",
   "id": "51c26ff3",
   "metadata": {},
   "source": [
    "## Reset index to the range of numbers\n",
    "- In our student DataFrame, suppose we want to assign the Identity number to each student starting from 101. We can use the index parameter of DataFrame to change the index as a range of numbers that begins at a specific number.\n",
    "\n",
    "- First, we need to generate the range of numbers and then assign it to the DataFrame.index to reset the original index."
   ]
  },
  {
   "cell_type": "code",
   "execution_count": 509,
   "id": "db30a221",
   "metadata": {},
   "outputs": [
    {
     "data": {
      "text/html": [
       "<div>\n",
       "<style scoped>\n",
       "    .dataframe tbody tr th:only-of-type {\n",
       "        vertical-align: middle;\n",
       "    }\n",
       "\n",
       "    .dataframe tbody tr th {\n",
       "        vertical-align: top;\n",
       "    }\n",
       "\n",
       "    .dataframe thead th {\n",
       "        text-align: right;\n",
       "    }\n",
       "</style>\n",
       "<table border=\"1\" class=\"dataframe\">\n",
       "  <thead>\n",
       "    <tr style=\"text-align: right;\">\n",
       "      <th></th>\n",
       "      <th>name</th>\n",
       "      <th>age</th>\n",
       "      <th>marks</th>\n",
       "    </tr>\n",
       "  </thead>\n",
       "  <tbody>\n",
       "    <tr>\n",
       "      <th>s1</th>\n",
       "      <td>raju</td>\n",
       "      <td>30</td>\n",
       "      <td>99</td>\n",
       "    </tr>\n",
       "    <tr>\n",
       "      <th>s2</th>\n",
       "      <td>kalyan</td>\n",
       "      <td>29</td>\n",
       "      <td>98</td>\n",
       "    </tr>\n",
       "    <tr>\n",
       "      <th>s3</th>\n",
       "      <td>sunny</td>\n",
       "      <td>7</td>\n",
       "      <td>97</td>\n",
       "    </tr>\n",
       "  </tbody>\n",
       "</table>\n",
       "</div>"
      ],
      "text/plain": [
       "      name  age  marks\n",
       "s1    raju   30     99\n",
       "s2  kalyan   29     98\n",
       "s3   sunny    7     97"
      ]
     },
     "execution_count": 509,
     "metadata": {},
     "output_type": "execute_result"
    }
   ],
   "source": [
    "my_dict = {'name': ['raju', 'kalyan', 'sunny'], 'age': [30,29, 7], 'marks': [99,98,97]}\n",
    "df = pd.DataFrame(my_dict)\n",
    "df\n",
    "#create data frame from dict\n",
    "\n",
    "df = pd.DataFrame(my_dict, index = ['s1', 's2', 's3'])\n",
    "df"
   ]
  },
  {
   "cell_type": "code",
   "execution_count": 510,
   "id": "87f7139d",
   "metadata": {},
   "outputs": [
    {
     "data": {
      "text/html": [
       "<div>\n",
       "<style scoped>\n",
       "    .dataframe tbody tr th:only-of-type {\n",
       "        vertical-align: middle;\n",
       "    }\n",
       "\n",
       "    .dataframe tbody tr th {\n",
       "        vertical-align: top;\n",
       "    }\n",
       "\n",
       "    .dataframe thead th {\n",
       "        text-align: right;\n",
       "    }\n",
       "</style>\n",
       "<table border=\"1\" class=\"dataframe\">\n",
       "  <thead>\n",
       "    <tr style=\"text-align: right;\">\n",
       "      <th></th>\n",
       "      <th>name</th>\n",
       "      <th>age</th>\n",
       "      <th>marks</th>\n",
       "    </tr>\n",
       "  </thead>\n",
       "  <tbody>\n",
       "    <tr>\n",
       "      <th>101</th>\n",
       "      <td>raju</td>\n",
       "      <td>30</td>\n",
       "      <td>99</td>\n",
       "    </tr>\n",
       "    <tr>\n",
       "      <th>102</th>\n",
       "      <td>kalyan</td>\n",
       "      <td>29</td>\n",
       "      <td>98</td>\n",
       "    </tr>\n",
       "    <tr>\n",
       "      <th>103</th>\n",
       "      <td>sunny</td>\n",
       "      <td>7</td>\n",
       "      <td>97</td>\n",
       "    </tr>\n",
       "  </tbody>\n",
       "</table>\n",
       "</div>"
      ],
      "text/plain": [
       "       name  age  marks\n",
       "101    raju   30     99\n",
       "102  kalyan   29     98\n",
       "103   sunny    7     97"
      ]
     },
     "execution_count": 510,
     "metadata": {},
     "output_type": "execute_result"
    }
   ],
   "source": [
    "#assign new index from 1 to n\n",
    "\n",
    "df.index = pd.RangeIndex(start = 101, stop = 101+len(df), step =1)\n",
    "df"
   ]
  },
  {
   "cell_type": "markdown",
   "id": "ab4b3ec7",
   "metadata": {},
   "source": [
    "## Reset index and change column name\n",
    "- As we have already discussed, DataFrame.reset_index() adds the current index as a new column with the name ‘index’ in the DataFrame. If we want to give a name to such a newly added column, then we need to use DataFrame.rename() function with DataFrame.reset_index().\n",
    "\n",
    "- Example\n",
    "\n",
    "- Let’s see how to do the method chaining of DataFrame.reset_index() and DataFrame.rename() functions to rename a new ‘index’ column to ‘ID’."
   ]
  },
  {
   "cell_type": "code",
   "execution_count": 511,
   "id": "d4f2fa6c",
   "metadata": {},
   "outputs": [
    {
     "data": {
      "text/html": [
       "<div>\n",
       "<style scoped>\n",
       "    .dataframe tbody tr th:only-of-type {\n",
       "        vertical-align: middle;\n",
       "    }\n",
       "\n",
       "    .dataframe tbody tr th {\n",
       "        vertical-align: top;\n",
       "    }\n",
       "\n",
       "    .dataframe thead th {\n",
       "        text-align: right;\n",
       "    }\n",
       "</style>\n",
       "<table border=\"1\" class=\"dataframe\">\n",
       "  <thead>\n",
       "    <tr style=\"text-align: right;\">\n",
       "      <th></th>\n",
       "      <th>name</th>\n",
       "      <th>age</th>\n",
       "      <th>marks</th>\n",
       "    </tr>\n",
       "  </thead>\n",
       "  <tbody>\n",
       "    <tr>\n",
       "      <th>s1</th>\n",
       "      <td>raju</td>\n",
       "      <td>30</td>\n",
       "      <td>99</td>\n",
       "    </tr>\n",
       "    <tr>\n",
       "      <th>s2</th>\n",
       "      <td>kalyan</td>\n",
       "      <td>29</td>\n",
       "      <td>98</td>\n",
       "    </tr>\n",
       "    <tr>\n",
       "      <th>s3</th>\n",
       "      <td>sunny</td>\n",
       "      <td>7</td>\n",
       "      <td>97</td>\n",
       "    </tr>\n",
       "  </tbody>\n",
       "</table>\n",
       "</div>"
      ],
      "text/plain": [
       "      name  age  marks\n",
       "s1    raju   30     99\n",
       "s2  kalyan   29     98\n",
       "s3   sunny    7     97"
      ]
     },
     "execution_count": 511,
     "metadata": {},
     "output_type": "execute_result"
    }
   ],
   "source": [
    "my_dict = {'name': ['raju', 'kalyan', 'sunny'], 'age': [30,29, 7], 'marks': [99,98,97]}\n",
    "df = pd.DataFrame(my_dict)\n",
    "df\n",
    "#create data frame from dict\n",
    "\n",
    "df = pd.DataFrame(my_dict, index = ['s1', 's2', 's3'])\n",
    "df"
   ]
  },
  {
   "cell_type": "code",
   "execution_count": 512,
   "id": "461780fd",
   "metadata": {},
   "outputs": [
    {
     "data": {
      "text/html": [
       "<div>\n",
       "<style scoped>\n",
       "    .dataframe tbody tr th:only-of-type {\n",
       "        vertical-align: middle;\n",
       "    }\n",
       "\n",
       "    .dataframe tbody tr th {\n",
       "        vertical-align: top;\n",
       "    }\n",
       "\n",
       "    .dataframe thead th {\n",
       "        text-align: right;\n",
       "    }\n",
       "</style>\n",
       "<table border=\"1\" class=\"dataframe\">\n",
       "  <thead>\n",
       "    <tr style=\"text-align: right;\">\n",
       "      <th></th>\n",
       "      <th>ID</th>\n",
       "      <th>name</th>\n",
       "      <th>age</th>\n",
       "      <th>marks</th>\n",
       "    </tr>\n",
       "  </thead>\n",
       "  <tbody>\n",
       "    <tr>\n",
       "      <th>0</th>\n",
       "      <td>s1</td>\n",
       "      <td>raju</td>\n",
       "      <td>30</td>\n",
       "      <td>99</td>\n",
       "    </tr>\n",
       "    <tr>\n",
       "      <th>1</th>\n",
       "      <td>s2</td>\n",
       "      <td>kalyan</td>\n",
       "      <td>29</td>\n",
       "      <td>98</td>\n",
       "    </tr>\n",
       "    <tr>\n",
       "      <th>2</th>\n",
       "      <td>s3</td>\n",
       "      <td>sunny</td>\n",
       "      <td>7</td>\n",
       "      <td>97</td>\n",
       "    </tr>\n",
       "  </tbody>\n",
       "</table>\n",
       "</div>"
      ],
      "text/plain": [
       "   ID    name  age  marks\n",
       "0  s1    raju   30     99\n",
       "1  s2  kalyan   29     98\n",
       "2  s3   sunny    7     97"
      ]
     },
     "execution_count": 512,
     "metadata": {},
     "output_type": "execute_result"
    }
   ],
   "source": [
    "#reset index and rename\n",
    "\n",
    "df = df.reset_index().rename(columns={'index': 'ID'})\n",
    "df"
   ]
  },
  {
   "cell_type": "markdown",
   "id": "94887612",
   "metadata": {},
   "source": [
    "## Reset multi-level index\n",
    "- When Python pandas DataFrame has multiple row index or column headers, then are called multi-level or hierarchical DataFrame. We can apply DataFrame.reset index() on such multi-index DataFrame."
   ]
  },
  {
   "cell_type": "code",
   "execution_count": 516,
   "id": "0b85fbd8",
   "metadata": {},
   "outputs": [
    {
     "name": "stdout",
     "output_type": "stream",
     "text": [
      "                      Name      Marks\n",
      "                   Surname Percentage\n",
      "Standard   Class                     \n",
      "Standard 1 Class A     Joe      91.56\n",
      "           Class B     Nat      87.90\n",
      "Standard 2 Class A   Harry      70.10\n",
      "           Class B     Sam      65.48\n"
     ]
    }
   ],
   "source": [
    "import pandas as pd\n",
    "\n",
    "index = pd.MultiIndex.from_tuples([('Standard 1', 'Class A'),\n",
    "                                   ('Standard 1', 'Class B'),\n",
    "                                   ('Standard 2', 'Class A'),\n",
    "                                   ('Standard 2', 'Class B')],\n",
    "                                  names=['Standard', 'Class'])\n",
    "columns = pd.MultiIndex.from_tuples([('Name', 'Surname'),\n",
    "                                     ('Marks', 'Percentage')])\n",
    "\n",
    "# create multi-index dataframe\n",
    "student_df = pd.DataFrame([('Joe', 91.56),\n",
    "                           ('Nat', 87.90),\n",
    "                           ('Harry', 70.10),\n",
    "                           ('Sam', 65.48)],\n",
    "                          index=index, columns=columns)\n",
    "print(student_df)"
   ]
  },
  {
   "cell_type": "markdown",
   "id": "eb4342a7",
   "metadata": {},
   "source": [
    "- Now we see how to reset the index of the multi-level DataFrame using DataFrame.reset index(). By default, it reset the index of all the levels and add the new range of indexes in the DataFrame."
   ]
  },
  {
   "cell_type": "code",
   "execution_count": 514,
   "id": "49094f89",
   "metadata": {},
   "outputs": [
    {
     "name": "stdout",
     "output_type": "stream",
     "text": [
      "     Standard    Class    Name      Marks\n",
      "                       Surname Percentage\n",
      "0  Standard 1  Class A     Joe      91.56\n",
      "1  Standard 1  Class B     Nat      87.90\n",
      "2  Standard 2  Class A   Harry      70.10\n",
      "3  Standard 2  Class B     Sam      65.48\n"
     ]
    }
   ],
   "source": [
    "# reset multi-level index\n",
    "student_df = student_df.reset_index()\n",
    "print(student_df)"
   ]
  },
  {
   "cell_type": "markdown",
   "id": "2ede0a08",
   "metadata": {},
   "source": [
    "## Reset index by level\n",
    "- As we have seen, in the case of a multi-level index, by default DataFrame.reset_index() applies to the index of all the levels. If we want to reset the index of the specific level only then, we can use the level parameter of the DataFrame.reset_index() function.\n",
    "\n",
    "- It takes a level position or level name as input to reset that particular index only."
   ]
  },
  {
   "cell_type": "code",
   "execution_count": 518,
   "id": "8772a27e",
   "metadata": {},
   "outputs": [
    {
     "name": "stdout",
     "output_type": "stream",
     "text": [
      "                      Name      Marks\n",
      "                   Surname Percentage\n",
      "Standard   Class                     \n",
      "Standard 1 Class A     Joe      91.56\n",
      "           Class B     Nat      87.90\n",
      "Standard 2 Class A   Harry      70.10\n",
      "           Class B     Sam      65.48\n"
     ]
    }
   ],
   "source": [
    "import pandas as pd\n",
    "\n",
    "index = pd.MultiIndex.from_tuples([('Standard 1', 'Class A'),\n",
    "                                   ('Standard 1', 'Class B'),\n",
    "                                   ('Standard 2', 'Class A'),\n",
    "                                   ('Standard 2', 'Class B')],\n",
    "                                  names=['Standard', 'Class'])\n",
    "columns = pd.MultiIndex.from_tuples([('Name', 'Surname'),\n",
    "                                     ('Marks', 'Percentage')])\n",
    "\n",
    "# create multi-index dataframe\n",
    "student_df = pd.DataFrame([('Joe', 91.56),\n",
    "                           ('Nat', 87.90),\n",
    "                           ('Harry', 70.10),\n",
    "                           ('Sam', 65.48)],\n",
    "                          index=index, columns=columns)\n",
    "print(student_df)"
   ]
  },
  {
   "cell_type": "code",
   "execution_count": 517,
   "id": "72149185",
   "metadata": {},
   "outputs": [
    {
     "name": "stdout",
     "output_type": "stream",
     "text": [
      "           Standard    Name      Marks\n",
      "                    Surname Percentage\n",
      "Class                                 \n",
      "Class A  Standard 1     Joe      91.56\n",
      "Class B  Standard 1     Nat      87.90\n",
      "Class A  Standard 2   Harry      70.10\n",
      "Class B  Standard 2     Sam      65.48\n"
     ]
    }
   ],
   "source": [
    "# reset multi-level index by level\n",
    "student_df = student_df.reset_index(level='Standard')\n",
    "print(student_df)"
   ]
  },
  {
   "cell_type": "markdown",
   "id": "a879134a",
   "metadata": {},
   "source": [
    "## Reset index and creates new column in level\n",
    "- As we have observed in the above section, by default, DataFrame.reset_index() all the new column at the first level, i.e., level 0. If we want to add the new index column to other levels, we can use the col_level parameter.\n",
    "\n",
    "- It takes the level name or level position as an input if the columns have multiple levels, so it determines which level the labels are inserted into."
   ]
  },
  {
   "cell_type": "code",
   "execution_count": 519,
   "id": "e96ee021",
   "metadata": {},
   "outputs": [
    {
     "name": "stdout",
     "output_type": "stream",
     "text": [
      "                       Name      Marks\n",
      "           Standard Surname Percentage\n",
      "Class                                 \n",
      "Class A  Standard 1     Joe      91.56\n",
      "Class B  Standard 1     Nat      87.90\n",
      "Class A  Standard 2   Harry      70.10\n",
      "Class B  Standard 2     Sam      65.48\n"
     ]
    }
   ],
   "source": [
    "# reset multi-level index and add at level 1\n",
    "student_df = student_df.reset_index(level='Standard', col_level=1)\n",
    "print(student_df)"
   ]
  },
  {
   "cell_type": "markdown",
   "id": "f4d4c573",
   "metadata": {},
   "source": [
    "## Reset index and name other level\n",
    "- As we see in the above section, in multi-level DataFrame, we have added the ‘Standard’ index at level 1. If there is a case when we need to rename the other level, we need to use the col_fill parameter of DataFrame.\n",
    "\n",
    "- We can specify any existing column label under which the new column will be assigned. If we specify the new label, then it will create one.\n",
    "\n",
    "- Example\n",
    "\n",
    "- In the below example, we create a new column from the index ‘Standard’ at level 1 and assign a new column label ‘New_Header’ at level 0 of this new column."
   ]
  },
  {
   "cell_type": "code",
   "execution_count": 521,
   "id": "79bb2c9c",
   "metadata": {},
   "outputs": [
    {
     "name": "stdout",
     "output_type": "stream",
     "text": [
      "                      Name      Marks\n",
      "                   Surname Percentage\n",
      "Standard   Class                     \n",
      "Standard 1 Class A     Joe      91.56\n",
      "           Class B     Nat      87.90\n",
      "Standard 2 Class A   Harry      70.10\n",
      "           Class B     Sam      65.48\n"
     ]
    }
   ],
   "source": [
    "import pandas as pd\n",
    "\n",
    "index = pd.MultiIndex.from_tuples([('Standard 1', 'Class A'),\n",
    "                                   ('Standard 1', 'Class B'),\n",
    "                                   ('Standard 2', 'Class A'),\n",
    "                                   ('Standard 2', 'Class B')],\n",
    "                                  names=['Standard', 'Class'])\n",
    "columns = pd.MultiIndex.from_tuples([('Name', 'Surname'),\n",
    "                                     ('Marks', 'Percentage')])\n",
    "\n",
    "# create multi-index dataframe\n",
    "student_df = pd.DataFrame([('Joe', 91.56),\n",
    "                           ('Nat', 87.90),\n",
    "                           ('Harry', 70.10),\n",
    "                           ('Sam', 65.48)],\n",
    "                          index=index, columns=columns)\n",
    "print(student_df)"
   ]
  },
  {
   "cell_type": "code",
   "execution_count": 522,
   "id": "691a4afa",
   "metadata": {},
   "outputs": [
    {
     "name": "stdout",
     "output_type": "stream",
     "text": [
      "         New_Header    Name      Marks\n",
      "           Standard Surname Percentage\n",
      "Class                                 \n",
      "Class A  Standard 1     Joe      91.56\n",
      "Class B  Standard 1     Nat      87.90\n",
      "Class A  Standard 2   Harry      70.10\n",
      "Class B  Standard 2     Sam      65.48\n"
     ]
    }
   ],
   "source": [
    "# reset multi-level index\n",
    "student_df = student_df.reset_index(level='Standard', col_level=1, col_fill='New_Header')\n",
    "print(student_df)"
   ]
  },
  {
   "cell_type": "markdown",
   "id": "14e57eea",
   "metadata": {},
   "source": [
    "## 1. Pandas groupby() Syntax\n",
    "- Below is the syntax of the groupby() function, this function takes several params that are explained below and returns DataFrameGroupBy object that contains information about the groups.\n",
    "\n",
    "\n",
    "## Syntax of DataFrame.groupby()\n",
    "- DataFrame.groupby(by=None, axis=0, level=None, as_index=True, \n",
    "       sort=True, group_keys=True, squeeze=<no_default>, \n",
    "       observed=False, dropna=True)\n",
    "\n",
    "- by – List of column names to group by\n",
    "- axis – Default to 0. It takes 0 or ‘index’, 1 or ‘columns’\n",
    "- level – Used with MultiIndex.\n",
    "- as_index – sql style grouped otput.\n",
    "- sort – Default to True. Specify whether to sort after group\n",
    "- group_keys – add group keys or not\n",
    "- squeeze – depricated in new versions\n",
    "- observed – This only applies if any of the groupers are Categoricals.\n",
    "- dropna – Default to False. Use True to drop None/Nan on sory keys"
   ]
  },
  {
   "cell_type": "code",
   "execution_count": 532,
   "id": "a7986218",
   "metadata": {},
   "outputs": [
    {
     "name": "stdout",
     "output_type": "stream",
     "text": [
      "   Courses    Fee Duration  Discount\n",
      "0    Spark  22000   30days    1000.0\n",
      "1  PySpark  25000   50days    2300.0\n",
      "2   Hadoop  23000   55days    1000.0\n",
      "3   Python  24000   40days    1200.0\n",
      "4   Pandas  26000   60days    2500.0\n",
      "5   Hadoop  25000   35days       NaN\n",
      "6    Spark  25000   30days    1400.0\n",
      "7   Python  22000   50days    1600.0\n",
      "8       NA   1500   40days       0.0\n"
     ]
    }
   ],
   "source": [
    "import pandas as pd\n",
    "technologies   = ({\n",
    "    'Courses':[\"Spark\",\"PySpark\",\"Hadoop\",\"Python\",\"Pandas\",\"Hadoop\",\"Spark\",\"Python\",\"NA\"],\n",
    "    'Fee' :[22000,25000,23000,24000,26000,25000,25000,22000,1500],\n",
    "    'Duration':['30days','50days','55days','40days','60days','35days','30days','50days','40days'],\n",
    "    'Discount':[1000,2300,1000,1200,2500,None,1400,1600,0]\n",
    "          })\n",
    "df = pd.DataFrame(technologies)\n",
    "print(df)"
   ]
  },
  {
   "cell_type": "markdown",
   "id": "1a8e6ef0",
   "metadata": {},
   "source": [
    "## pandas groupby() Example\n",
    "- As I said above groupby() function returns DataFrameGroupBy object after grouping the data on pandas DataFrame. This object contains several methods (sum(), mean() e.t.c) that can be used to aggregate the grouped rows"
   ]
  },
  {
   "cell_type": "code",
   "execution_count": 533,
   "id": "b1479877",
   "metadata": {},
   "outputs": [
    {
     "data": {
      "text/html": [
       "<div>\n",
       "<style scoped>\n",
       "    .dataframe tbody tr th:only-of-type {\n",
       "        vertical-align: middle;\n",
       "    }\n",
       "\n",
       "    .dataframe tbody tr th {\n",
       "        vertical-align: top;\n",
       "    }\n",
       "\n",
       "    .dataframe thead th {\n",
       "        text-align: right;\n",
       "    }\n",
       "</style>\n",
       "<table border=\"1\" class=\"dataframe\">\n",
       "  <thead>\n",
       "    <tr style=\"text-align: right;\">\n",
       "      <th></th>\n",
       "      <th>Fee</th>\n",
       "      <th>Discount</th>\n",
       "    </tr>\n",
       "    <tr>\n",
       "      <th>Courses</th>\n",
       "      <th></th>\n",
       "      <th></th>\n",
       "    </tr>\n",
       "  </thead>\n",
       "  <tbody>\n",
       "    <tr>\n",
       "      <th>Hadoop</th>\n",
       "      <td>48000</td>\n",
       "      <td>1000.0</td>\n",
       "    </tr>\n",
       "    <tr>\n",
       "      <th>NA</th>\n",
       "      <td>1500</td>\n",
       "      <td>0.0</td>\n",
       "    </tr>\n",
       "    <tr>\n",
       "      <th>Pandas</th>\n",
       "      <td>26000</td>\n",
       "      <td>2500.0</td>\n",
       "    </tr>\n",
       "    <tr>\n",
       "      <th>PySpark</th>\n",
       "      <td>25000</td>\n",
       "      <td>2300.0</td>\n",
       "    </tr>\n",
       "    <tr>\n",
       "      <th>Python</th>\n",
       "      <td>46000</td>\n",
       "      <td>2800.0</td>\n",
       "    </tr>\n",
       "    <tr>\n",
       "      <th>Spark</th>\n",
       "      <td>47000</td>\n",
       "      <td>2400.0</td>\n",
       "    </tr>\n",
       "  </tbody>\n",
       "</table>\n",
       "</div>"
      ],
      "text/plain": [
       "           Fee  Discount\n",
       "Courses                 \n",
       "Hadoop   48000    1000.0\n",
       "NA        1500       0.0\n",
       "Pandas   26000    2500.0\n",
       "PySpark  25000    2300.0\n",
       "Python   46000    2800.0\n",
       "Spark    47000    2400.0"
      ]
     },
     "execution_count": 533,
     "metadata": {},
     "output_type": "execute_result"
    }
   ],
   "source": [
    "#use groupby to compute the sum\n",
    "\n",
    "df2 = df.groupby(['Courses']).sum()\n",
    "df2"
   ]
  },
  {
   "cell_type": "code",
   "execution_count": 531,
   "id": "b14dfbf4",
   "metadata": {},
   "outputs": [
    {
     "data": {
      "text/plain": [
       "Fee         48000.0\n",
       "Discount     2800.0\n",
       "dtype: float64"
      ]
     },
     "execution_count": 531,
     "metadata": {},
     "output_type": "execute_result"
    }
   ],
   "source": [
    "df2 = df.groupby(['Courses']).sum().max()\n",
    "df2"
   ]
  },
  {
   "cell_type": "markdown",
   "id": "6fd95ccb",
   "metadata": {},
   "source": [
    "## pandas groupby() on Two or More Columns\n",
    "- Most of the time we would need to perform groupby on multiple columns of DataFrame, you can do this by passing a list of column labels you wanted to perform group by on."
   ]
  },
  {
   "cell_type": "code",
   "execution_count": 527,
   "id": "3fecd5b8",
   "metadata": {},
   "outputs": [
    {
     "data": {
      "text/html": [
       "<div>\n",
       "<style scoped>\n",
       "    .dataframe tbody tr th:only-of-type {\n",
       "        vertical-align: middle;\n",
       "    }\n",
       "\n",
       "    .dataframe tbody tr th {\n",
       "        vertical-align: top;\n",
       "    }\n",
       "\n",
       "    .dataframe thead th {\n",
       "        text-align: right;\n",
       "    }\n",
       "</style>\n",
       "<table border=\"1\" class=\"dataframe\">\n",
       "  <thead>\n",
       "    <tr style=\"text-align: right;\">\n",
       "      <th></th>\n",
       "      <th></th>\n",
       "      <th>Fee</th>\n",
       "      <th>Discount</th>\n",
       "    </tr>\n",
       "    <tr>\n",
       "      <th>Courses</th>\n",
       "      <th>Duration</th>\n",
       "      <th></th>\n",
       "      <th></th>\n",
       "    </tr>\n",
       "  </thead>\n",
       "  <tbody>\n",
       "    <tr>\n",
       "      <th rowspan=\"2\" valign=\"top\">Hadoop</th>\n",
       "      <th>35days</th>\n",
       "      <td>25000</td>\n",
       "      <td>0.0</td>\n",
       "    </tr>\n",
       "    <tr>\n",
       "      <th>55days</th>\n",
       "      <td>23000</td>\n",
       "      <td>1000.0</td>\n",
       "    </tr>\n",
       "    <tr>\n",
       "      <th>NA</th>\n",
       "      <th>40days</th>\n",
       "      <td>1500</td>\n",
       "      <td>0.0</td>\n",
       "    </tr>\n",
       "    <tr>\n",
       "      <th>Pandas</th>\n",
       "      <th>60days</th>\n",
       "      <td>26000</td>\n",
       "      <td>2500.0</td>\n",
       "    </tr>\n",
       "    <tr>\n",
       "      <th>PySpark</th>\n",
       "      <th>50days</th>\n",
       "      <td>25000</td>\n",
       "      <td>2300.0</td>\n",
       "    </tr>\n",
       "    <tr>\n",
       "      <th rowspan=\"2\" valign=\"top\">Python</th>\n",
       "      <th>40days</th>\n",
       "      <td>24000</td>\n",
       "      <td>1200.0</td>\n",
       "    </tr>\n",
       "    <tr>\n",
       "      <th>50days</th>\n",
       "      <td>22000</td>\n",
       "      <td>1600.0</td>\n",
       "    </tr>\n",
       "    <tr>\n",
       "      <th>Spark</th>\n",
       "      <th>30days</th>\n",
       "      <td>47000</td>\n",
       "      <td>2400.0</td>\n",
       "    </tr>\n",
       "  </tbody>\n",
       "</table>\n",
       "</div>"
      ],
      "text/plain": [
       "                    Fee  Discount\n",
       "Courses Duration                 \n",
       "Hadoop  35days    25000       0.0\n",
       "        55days    23000    1000.0\n",
       "NA      40days     1500       0.0\n",
       "Pandas  60days    26000    2500.0\n",
       "PySpark 50days    25000    2300.0\n",
       "Python  40days    24000    1200.0\n",
       "        50days    22000    1600.0\n",
       "Spark   30days    47000    2400.0"
      ]
     },
     "execution_count": 527,
     "metadata": {},
     "output_type": "execute_result"
    }
   ],
   "source": [
    "df2 = df.groupby(['Courses', 'Duration']).sum()\n",
    "df2"
   ]
  },
  {
   "cell_type": "markdown",
   "id": "f0b6c652",
   "metadata": {},
   "source": [
    "## Add Index to the grouped data\n",
    "- By default groupby() result doesn’t include row Index, you can add the index using DataFrame.reset_index() method."
   ]
  },
  {
   "cell_type": "code",
   "execution_count": 536,
   "id": "ebabd4a6",
   "metadata": {},
   "outputs": [
    {
     "data": {
      "text/html": [
       "<div>\n",
       "<style scoped>\n",
       "    .dataframe tbody tr th:only-of-type {\n",
       "        vertical-align: middle;\n",
       "    }\n",
       "\n",
       "    .dataframe tbody tr th {\n",
       "        vertical-align: top;\n",
       "    }\n",
       "\n",
       "    .dataframe thead th {\n",
       "        text-align: right;\n",
       "    }\n",
       "</style>\n",
       "<table border=\"1\" class=\"dataframe\">\n",
       "  <thead>\n",
       "    <tr style=\"text-align: right;\">\n",
       "      <th></th>\n",
       "      <th>Courses</th>\n",
       "      <th>Duration</th>\n",
       "      <th>Fee</th>\n",
       "      <th>Discount</th>\n",
       "    </tr>\n",
       "  </thead>\n",
       "  <tbody>\n",
       "    <tr>\n",
       "      <th>0</th>\n",
       "      <td>Hadoop</td>\n",
       "      <td>35days</td>\n",
       "      <td>25000</td>\n",
       "      <td>0.0</td>\n",
       "    </tr>\n",
       "    <tr>\n",
       "      <th>1</th>\n",
       "      <td>Hadoop</td>\n",
       "      <td>55days</td>\n",
       "      <td>23000</td>\n",
       "      <td>1000.0</td>\n",
       "    </tr>\n",
       "    <tr>\n",
       "      <th>2</th>\n",
       "      <td>NA</td>\n",
       "      <td>40days</td>\n",
       "      <td>1500</td>\n",
       "      <td>0.0</td>\n",
       "    </tr>\n",
       "    <tr>\n",
       "      <th>3</th>\n",
       "      <td>Pandas</td>\n",
       "      <td>60days</td>\n",
       "      <td>26000</td>\n",
       "      <td>2500.0</td>\n",
       "    </tr>\n",
       "    <tr>\n",
       "      <th>4</th>\n",
       "      <td>PySpark</td>\n",
       "      <td>50days</td>\n",
       "      <td>25000</td>\n",
       "      <td>2300.0</td>\n",
       "    </tr>\n",
       "    <tr>\n",
       "      <th>5</th>\n",
       "      <td>Python</td>\n",
       "      <td>40days</td>\n",
       "      <td>24000</td>\n",
       "      <td>1200.0</td>\n",
       "    </tr>\n",
       "    <tr>\n",
       "      <th>6</th>\n",
       "      <td>Python</td>\n",
       "      <td>50days</td>\n",
       "      <td>22000</td>\n",
       "      <td>1600.0</td>\n",
       "    </tr>\n",
       "    <tr>\n",
       "      <th>7</th>\n",
       "      <td>Spark</td>\n",
       "      <td>30days</td>\n",
       "      <td>47000</td>\n",
       "      <td>2400.0</td>\n",
       "    </tr>\n",
       "  </tbody>\n",
       "</table>\n",
       "</div>"
      ],
      "text/plain": [
       "   Courses Duration    Fee  Discount\n",
       "0   Hadoop   35days  25000       0.0\n",
       "1   Hadoop   55days  23000    1000.0\n",
       "2       NA   40days   1500       0.0\n",
       "3   Pandas   60days  26000    2500.0\n",
       "4  PySpark   50days  25000    2300.0\n",
       "5   Python   40days  24000    1200.0\n",
       "6   Python   50days  22000    1600.0\n",
       "7    Spark   30days  47000    2400.0"
      ]
     },
     "execution_count": 536,
     "metadata": {},
     "output_type": "execute_result"
    }
   ],
   "source": [
    "#Add Row Index to the group y result\n",
    "df2 = df.groupby(['Courses', 'Duration']).sum().reset_index()\n",
    "df2"
   ]
  },
  {
   "cell_type": "markdown",
   "id": "53151421",
   "metadata": {},
   "source": [
    "## Drop NA /None/Nan (on group key) from Result\n",
    "- You can also choose whether to include NA/None/Nan in group keys or not by setting dropna parameter. By default the value of dropna set to True. so to not to include None/Nan values on group keys set dropna=False parameter."
   ]
  },
  {
   "cell_type": "code",
   "execution_count": 538,
   "id": "02fe8ccc",
   "metadata": {},
   "outputs": [
    {
     "data": {
      "text/html": [
       "<div>\n",
       "<style scoped>\n",
       "    .dataframe tbody tr th:only-of-type {\n",
       "        vertical-align: middle;\n",
       "    }\n",
       "\n",
       "    .dataframe tbody tr th {\n",
       "        vertical-align: top;\n",
       "    }\n",
       "\n",
       "    .dataframe thead th {\n",
       "        text-align: right;\n",
       "    }\n",
       "</style>\n",
       "<table border=\"1\" class=\"dataframe\">\n",
       "  <thead>\n",
       "    <tr style=\"text-align: right;\">\n",
       "      <th></th>\n",
       "      <th>Fee</th>\n",
       "      <th>Discount</th>\n",
       "    </tr>\n",
       "    <tr>\n",
       "      <th>Courses</th>\n",
       "      <th></th>\n",
       "      <th></th>\n",
       "    </tr>\n",
       "  </thead>\n",
       "  <tbody>\n",
       "    <tr>\n",
       "      <th>Hadoop</th>\n",
       "      <td>48000</td>\n",
       "      <td>1000.0</td>\n",
       "    </tr>\n",
       "    <tr>\n",
       "      <th>NA</th>\n",
       "      <td>1500</td>\n",
       "      <td>0.0</td>\n",
       "    </tr>\n",
       "    <tr>\n",
       "      <th>Pandas</th>\n",
       "      <td>26000</td>\n",
       "      <td>2500.0</td>\n",
       "    </tr>\n",
       "    <tr>\n",
       "      <th>PySpark</th>\n",
       "      <td>25000</td>\n",
       "      <td>2300.0</td>\n",
       "    </tr>\n",
       "    <tr>\n",
       "      <th>Python</th>\n",
       "      <td>46000</td>\n",
       "      <td>2800.0</td>\n",
       "    </tr>\n",
       "    <tr>\n",
       "      <th>Spark</th>\n",
       "      <td>47000</td>\n",
       "      <td>2400.0</td>\n",
       "    </tr>\n",
       "  </tbody>\n",
       "</table>\n",
       "</div>"
      ],
      "text/plain": [
       "           Fee  Discount\n",
       "Courses                 \n",
       "Hadoop   48000    1000.0\n",
       "NA        1500       0.0\n",
       "Pandas   26000    2500.0\n",
       "PySpark  25000    2300.0\n",
       "Python   46000    2800.0\n",
       "Spark    47000    2400.0"
      ]
     },
     "execution_count": 538,
     "metadata": {},
     "output_type": "execute_result"
    }
   ],
   "source": [
    "#drop rows that have None/Nan on group keys\n",
    "df2 = df.groupby(by = ['Courses'], dropna = False).sum()\n",
    "df2"
   ]
  },
  {
   "cell_type": "code",
   "execution_count": null,
   "id": "708c990c",
   "metadata": {},
   "outputs": [],
   "source": []
  },
  {
   "cell_type": "code",
   "execution_count": null,
   "id": "d0be05e3",
   "metadata": {},
   "outputs": [],
   "source": []
  },
  {
   "cell_type": "code",
   "execution_count": null,
   "id": "d2147e54",
   "metadata": {},
   "outputs": [],
   "source": []
  },
  {
   "cell_type": "code",
   "execution_count": null,
   "id": "125989a4",
   "metadata": {},
   "outputs": [],
   "source": []
  },
  {
   "cell_type": "code",
   "execution_count": null,
   "id": "f511ad17",
   "metadata": {},
   "outputs": [],
   "source": []
  },
  {
   "cell_type": "code",
   "execution_count": null,
   "id": "9826e79f",
   "metadata": {},
   "outputs": [],
   "source": []
  },
  {
   "cell_type": "code",
   "execution_count": null,
   "id": "900c49fd",
   "metadata": {},
   "outputs": [],
   "source": []
  },
  {
   "cell_type": "code",
   "execution_count": null,
   "id": "a86babca",
   "metadata": {},
   "outputs": [],
   "source": []
  },
  {
   "cell_type": "code",
   "execution_count": null,
   "id": "cd648bde",
   "metadata": {},
   "outputs": [],
   "source": []
  },
  {
   "cell_type": "code",
   "execution_count": null,
   "id": "d123e0ef",
   "metadata": {},
   "outputs": [],
   "source": []
  },
  {
   "cell_type": "code",
   "execution_count": null,
   "id": "31d84b2e",
   "metadata": {},
   "outputs": [],
   "source": []
  },
  {
   "cell_type": "code",
   "execution_count": null,
   "id": "68936404",
   "metadata": {},
   "outputs": [],
   "source": []
  }
 ],
 "metadata": {
  "kernelspec": {
   "display_name": "Python 3 (ipykernel)",
   "language": "python",
   "name": "python3"
  },
  "language_info": {
   "codemirror_mode": {
    "name": "ipython",
    "version": 3
   },
   "file_extension": ".py",
   "mimetype": "text/x-python",
   "name": "python",
   "nbconvert_exporter": "python",
   "pygments_lexer": "ipython3",
   "version": "3.9.13"
  }
 },
 "nbformat": 4,
 "nbformat_minor": 5
}
