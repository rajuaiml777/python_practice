{
 "cells": [
  {
   "cell_type": "code",
   "execution_count": 1,
   "id": "ad3259a2",
   "metadata": {},
   "outputs": [],
   "source": [
    "#Write a Python program to read an entire text file"
   ]
  },
  {
   "cell_type": "code",
   "execution_count": 4,
   "id": "69c723a4",
   "metadata": {},
   "outputs": [
    {
     "name": "stdout",
     "output_type": "stream",
     "text": [
      "What is Python?\n",
      "Python is a popular programming language. It was created by Guido van Rossum, and released in 1991.\n",
      "\n",
      "It is used for:\n",
      "\n",
      "web development (server-side),\n",
      "software development,\n",
      "mathematics,\n",
      "system scripting.\n",
      "What can Python do?\n",
      "Python can be used on a server to create web applications.\n",
      "Python can be used alongside software to create workflows.\n",
      "Python can connect to database systems. It can also read and modify files.\n",
      "Python can be used to handle big data and perform complex mathematics.\n",
      "Python can be used for rapid prototyping, or for production-ready software development.\n",
      "Why Python?\n",
      "Python works on different platforms (Windows, Mac, Linux, Raspberry Pi, etc).\n",
      "Python has a simple syntax similar to the English language.\n",
      "Python has syntax that allows developers to write programs with fewer lines than some other programming languages.\n",
      "Python runs on an interpreter system, meaning that code can be executed as soon as it is written. This means that prototyping can be very quick.\n",
      "Python can be treated in a procedural way, an object-oriented way or a functional way.\n"
     ]
    }
   ],
   "source": [
    "with open('python.txt', 'r') as file:\n",
    "    print(file.read())\n",
    "    "
   ]
  },
  {
   "cell_type": "code",
   "execution_count": 19,
   "id": "70843158",
   "metadata": {},
   "outputs": [
    {
     "name": "stdout",
     "output_type": "stream",
     "text": [
      "['What is Python?\\n', 'Python is a popular programming language. It was created by Guido van Rossum, and released in 1991.\\n', '\\n', 'It is used for:\\n', '\\n', 'web development (server-side),\\n', 'software development,\\n', 'mathematics,\\n', 'system scripting.\\n', 'What can Python do?\\n', 'Python can be used on a server to create web applications.\\n', 'Python can be used alongside software to create workflows.\\n', '\\n', 'Python can connect to database systems. It can also read and modify files.Python can connect to database systems. It can also read and modify files.Python can connect to database systems. It can also read and modify files.']\n",
      "[]\n"
     ]
    }
   ],
   "source": [
    "#Write a Python program to read first n lines of a file.\n",
    "with open(\"python.txt\", 'r+') as f: #doubt\n",
    "    print(f.readlines())\n",
    "    print(f.readlines())"
   ]
  },
  {
   "cell_type": "code",
   "execution_count": 15,
   "id": "aab5425d",
   "metadata": {},
   "outputs": [],
   "source": [
    "#Write a Python program to append text to a file and display the text.\n",
    "with open('python.txt', 'a') as f1:\n",
    "    f1.write(\"\\nPython can connect to database systems. It can also read and modify files.\")\n",
    "# with open('python.txt') as file:\n",
    "#     file.read()"
   ]
  },
  {
   "cell_type": "code",
   "execution_count": 17,
   "id": "479f5a83",
   "metadata": {},
   "outputs": [
    {
     "name": "stdout",
     "output_type": "stream",
     "text": [
      "What is Python?\n",
      "Python is a popular programming language. It was created by Guido van Rossum, and released in 1991.\n",
      "\n",
      "It is used for:\n",
      "\n",
      "web development (server-side),\n",
      "software development,\n",
      "mathematics,\n",
      "system scripting.\n",
      "What can Python do?\n",
      "Python can be used on a server to create web applications.\n",
      "Python can be used alongside software to create workflows.\n",
      "\n",
      "Python can connect to database systems. It can also read and modify files.Python can connect to database systems. It can also read and modify files.Python can connect to database systems. It can also read and modify files.\n"
     ]
    }
   ],
   "source": [
    "with open('python.txt') as file:\n",
    "    print(file.read())"
   ]
  },
  {
   "cell_type": "code",
   "execution_count": 22,
   "id": "b9865afd",
   "metadata": {},
   "outputs": [
    {
     "name": "stdout",
     "output_type": "stream",
     "text": [
      "What is Python?\n",
      "\n"
     ]
    }
   ],
   "source": [
    "#Write a Python program to read last n lines of a file.\n",
    "with open('python.txt', 'r') as f2: #doubt\n",
    "    print(f2.readline())\n"
   ]
  },
  {
   "cell_type": "code",
   "execution_count": 23,
   "id": "7855906b",
   "metadata": {},
   "outputs": [],
   "source": [
    "#Write a Python program to read a file line by line and store it into a list.\n",
    "l = []\n",
    "with open(\"python.txt\", 'r') as f3:\n",
    "    l.append(f3.readlines())\n",
    "    \n",
    "    "
   ]
  },
  {
   "cell_type": "code",
   "execution_count": 26,
   "id": "de32273f",
   "metadata": {},
   "outputs": [
    {
     "data": {
      "text/plain": [
       "[['What is Python?\\n',\n",
       "  'Python is a popular programming language. It was created by Guido van Rossum, and released in 1991.\\n',\n",
       "  '\\n',\n",
       "  'It is used for:\\n',\n",
       "  '\\n',\n",
       "  'web development (server-side),\\n',\n",
       "  'software development,\\n',\n",
       "  'mathematics,\\n',\n",
       "  'system scripting.\\n',\n",
       "  'What can Python do?\\n',\n",
       "  'Python can be used on a server to create web applications.\\n',\n",
       "  'Python can be used alongside software to create workflows.\\n',\n",
       "  '\\n',\n",
       "  'Python can connect to database systems. It can also read and modify files.Python can connect to database systems. It can also read and modify files.Python can connect to database systems. It can also read and modify files.']]"
      ]
     },
     "execution_count": 26,
     "metadata": {},
     "output_type": "execute_result"
    }
   ],
   "source": [
    "l"
   ]
  },
  {
   "cell_type": "code",
   "execution_count": 34,
   "id": "e13fd715",
   "metadata": {},
   "outputs": [],
   "source": [
    "#Write a Python program to read a file line by line store it into a variable\n",
    "\n",
    "with open('python.txt', 'r') as f4:\n",
    "    text = f4.readlines()\n",
    "  "
   ]
  },
  {
   "cell_type": "code",
   "execution_count": 35,
   "id": "e5327e1c",
   "metadata": {},
   "outputs": [
    {
     "name": "stdout",
     "output_type": "stream",
     "text": [
      "['What is Python?\\n', 'Python is a popular programming language. It was created by Guido van Rossum, and released in 1991.\\n', '\\n', 'It is used for:\\n', '\\n', 'web development (server-side),\\n', 'software development,\\n', 'mathematics,\\n', 'system scripting.\\n', 'What can Python do?\\n', 'Python can be used on a server to create web applications.\\n', 'Python can be used alongside software to create workflows.\\n', '\\n', 'Python can connect to database systems. It can also read and modify files.Python can connect to database systems. It can also read and modify files.Python can connect to database systems. It can also read and modify files.']\n"
     ]
    }
   ],
   "source": [
    "print(text)"
   ]
  },
  {
   "cell_type": "code",
   "execution_count": 36,
   "id": "0ed09c78",
   "metadata": {},
   "outputs": [],
   "source": [
    "# Write a Python program to read a file line by line store it into an array.\n",
    "with open('python.txt', 'r') as f5:\n",
    "    pass"
   ]
  },
  {
   "cell_type": "code",
   "execution_count": 47,
   "id": "9b9223df",
   "metadata": {},
   "outputs": [],
   "source": [
    "#Write a python program to find the longest words\n",
    "\n",
    "l = ['python', 'python1', 'python777']\n",
    "max = l[0]\n",
    "for word in l:\n",
    "    #print(word, len(word))\n",
    "    \n",
    "    if len(word) < len(max):\n",
    "        #max = word\n",
    "        \n",
    "        print(max)\n",
    "    "
   ]
  },
  {
   "cell_type": "code",
   "execution_count": 50,
   "id": "e00848d6",
   "metadata": {},
   "outputs": [],
   "source": [
    "# Write a Python program to count the number of lines in a text file\n",
    "l1= []\n",
    "with open(\"python.txt\", 'r') as f5:#doubt\n",
    "    l1.append(f5.readlines())\n",
    "    "
   ]
  },
  {
   "cell_type": "code",
   "execution_count": 52,
   "id": "6c1224c9",
   "metadata": {},
   "outputs": [
    {
     "data": {
      "text/plain": [
       "[['What is Python?\\n',\n",
       "  'Python is a popular programming language. It was created by Guido van Rossum, and released in 1991.\\n',\n",
       "  '\\n',\n",
       "  'It is used for:\\n',\n",
       "  '\\n',\n",
       "  'web development (server-side),\\n',\n",
       "  'software development,\\n',\n",
       "  'mathematics,\\n',\n",
       "  'system scripting.\\n',\n",
       "  'What can Python do?\\n',\n",
       "  'Python can be used on a server to create web applications.\\n',\n",
       "  'Python can be used alongside software to create workflows.\\n',\n",
       "  '\\n',\n",
       "  'Python can connect to database systems. It can also read and modify files.Python can connect to database systems. It can also read and modify files.Python can connect to database systems. It can also read and modify files.']]"
      ]
     },
     "execution_count": 52,
     "metadata": {},
     "output_type": "execute_result"
    }
   ],
   "source": [
    "l1"
   ]
  },
  {
   "cell_type": "code",
   "execution_count": 63,
   "id": "d917ce43",
   "metadata": {},
   "outputs": [],
   "source": [
    "# Write a Python program to count the frequency of words in a file\n",
    "with open('python.txt', 'r') as f7:\n",
    "    text = f7.readlines()\n",
    "    "
   ]
  },
  {
   "cell_type": "code",
   "execution_count": 69,
   "id": "5ff7e695",
   "metadata": {},
   "outputs": [],
   "source": [
    "ll= str(text).split(' ')"
   ]
  },
  {
   "cell_type": "code",
   "execution_count": 71,
   "id": "17bb5a66",
   "metadata": {},
   "outputs": [
    {
     "data": {
      "text/plain": [
       "96"
      ]
     },
     "execution_count": 71,
     "metadata": {},
     "output_type": "execute_result"
    }
   ],
   "source": [
    "len(ll)"
   ]
  },
  {
   "cell_type": "code",
   "execution_count": null,
   "id": "d787ac8b",
   "metadata": {},
   "outputs": [],
   "source": []
  }
 ],
 "metadata": {
  "kernelspec": {
   "display_name": "Python 3 (ipykernel)",
   "language": "python",
   "name": "python3"
  },
  "language_info": {
   "codemirror_mode": {
    "name": "ipython",
    "version": 3
   },
   "file_extension": ".py",
   "mimetype": "text/x-python",
   "name": "python",
   "nbconvert_exporter": "python",
   "pygments_lexer": "ipython3",
   "version": "3.9.12"
  }
 },
 "nbformat": 4,
 "nbformat_minor": 5
}
