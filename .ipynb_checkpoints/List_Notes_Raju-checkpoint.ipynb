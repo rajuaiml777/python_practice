{
 "cells": [
  {
   "cell_type": "markdown",
   "id": "1ada3263",
   "metadata": {},
   "source": [
    "**Python Lists**"
   ]
  },
  {
   "cell_type": "markdown",
   "id": "98547e31",
   "metadata": {},
   "source": [
    "**The following are the properties of a list.**\n",
    "\n",
    "Mutable: The elements of the list can be modified. We can add or remove items to the list after it has been created.\n",
    "\n",
    "Ordered: The items in the lists are ordered. Each item has a unique index value. The new items will be added to the end of the list.\n",
    "\n",
    "Heterogenous: The list can contain different kinds of elements i.e; they can contain elements of string, integer, boolean, or any type.\n",
    "\n",
    "Duplicates: The list can contain duplicates i.e., lists can have two items with the same values."
   ]
  },
  {
   "cell_type": "markdown",
   "id": "d6ce681a",
   "metadata": {},
   "source": [
    "**Why use a list?**\n",
    "\n",
    "The list data structure is very flexible It has many unique inbuilt functionalities like pop(), append(), etc \n",
    "which makes it easier, where the data keeps changing.\n",
    "\n",
    "Also, the list can contain duplicate elements i.e two or more items can have the same values.\n",
    "\n",
    "Lists are Heterogeneous i.e, different kinds of objects/elements can be added\n",
    "\n",
    "As Lists are mutable it is used in applications where the values of the items change frequently.\n"
   ]
  },
  {
   "cell_type": "markdown",
   "id": "eeed698c",
   "metadata": {},
   "source": [
    "**Creating a Python list**"
   ]
  },
  {
   "cell_type": "markdown",
   "id": "93dec402",
   "metadata": {},
   "source": [
    "The list can be created using either the list constructor or using square brackets [].\n",
    "\n",
    "Using list() constructor: In general, the constructor of a class has its class name. Similarly, Create a list \n",
    "by passing the comma-separated values inside the list().\n",
    "\n",
    "Using square bracket ([]): In this method, we can create a list simply by enclosing the items inside the square brackets."
   ]
  },
  {
   "cell_type": "code",
   "execution_count": 14,
   "id": "35f12786",
   "metadata": {},
   "outputs": [
    {
     "name": "stdout",
     "output_type": "stream",
     "text": [
      "[100, 200, 300]\n",
      "<class 'list'>\n",
      "1837939895296\n",
      "[100, 200, 300, 400, 500]\n",
      "<class 'list'>\n",
      "[100, 'raju', 7.77]\n",
      "<class 'list'>\n",
      "[]\n",
      "<class 'list'>\n",
      "[]\n",
      "<class 'list'>\n"
     ]
    }
   ],
   "source": [
    "# using list constructor\n",
    "my_list1 = list((100,200,300))\n",
    "print(my_list1)\n",
    "print(type(my_list1))\n",
    "print(id(my_list1))\n",
    "\n",
    "#list using square bracket\n",
    "my_list2 = [100, 200, 300, 400, 500]\n",
    "print(my_list2)\n",
    "print(type(my_list2))\n",
    "\n",
    "# with heterogeneous items\n",
    "my_list3 = [100, 'raju', 7.77]\n",
    "print(my_list3)\n",
    "print(type(my_list3))\n",
    "\n",
    "#empty list using list()\n",
    "my_list4 = list()\n",
    "print(my_list4)\n",
    "print(type(my_list4))\n",
    "\n",
    "#empty list using []\n",
    "my_list5 = []\n",
    "print(my_list5)\n",
    "print(type(my_list5))"
   ]
  },
  {
   "cell_type": "markdown",
   "id": "2cc8e2c9",
   "metadata": {},
   "source": [
    "Length of a List\n",
    "\n",
    "In order to find the number of items present in a list, we can use the len() function."
   ]
  },
  {
   "cell_type": "code",
   "execution_count": 15,
   "id": "949c06bb",
   "metadata": {},
   "outputs": [
    {
     "name": "stdout",
     "output_type": "stream",
     "text": [
      "4\n"
     ]
    }
   ],
   "source": [
    "my_list = [100, 200, 300, 'raju']\n",
    "print(len(my_list))"
   ]
  },
  {
   "cell_type": "markdown",
   "id": "81f553a3",
   "metadata": {},
   "source": [
    "**Accessing items of a List**\n",
    "The items in a list can be accessed through indexing and slicing. This section will guide you by accessing the list using the following two ways\n",
    "\n",
    "**Using indexing**, we can access any item from a list using its index number\n",
    "\n",
    "**Using slicing**, we can access a range of items from a list\n",
    "\n",
    "***Indexing***\n",
    "\n",
    "The list elements can be accessed using the “indexing” technique. Lists are ordered collections with unique indexes \n",
    "for each item. We can access the items in the list using this index number.\n",
    "\n",
    "To access the elements in the list from left to right, the index value starts from zero to (length of the list-1) \n",
    "can be used. For example, if we want to access the 3rd element we need to use 2 since the index value starts from 0.\n",
    "\n",
    "\n",
    "**Note:**\n",
    "\n",
    "As Lists are ordered sequences of items, the index values start from 0 to the Lists length.\n",
    "Whenever we try to access an item with an index more than the Lists length, it will throw the 'Index Error'.\n",
    "Similarly, the index values are always an integer. If we give any other type, then it will throw Type Error."
   ]
  },
  {
   "cell_type": "code",
   "execution_count": 19,
   "id": "06478864",
   "metadata": {},
   "outputs": [
    {
     "name": "stdout",
     "output_type": "stream",
     "text": [
      "200\n",
      "400\n"
     ]
    }
   ],
   "source": [
    "my_list = [100, 200, 'raju', 300, 400]\n",
    "#accessing second element from the list\n",
    "print(my_list[1])\n",
    "#accssing 5th element from the list\n",
    "print(my_list[4])"
   ]
  },
  {
   "cell_type": "markdown",
   "id": "58e4409b",
   "metadata": {},
   "source": [
    "As seen in the above example we accessed the second element in the list by passing the index value as 1.\n",
    "Similarly, we passed index 4 to access the 5th element in the list."
   ]
  },
  {
   "cell_type": "markdown",
   "id": "047715d2",
   "metadata": {},
   "source": [
    "***Negative Indexing***\n",
    "The elements in the list can be accessed from right to left by using negative indexing. \n",
    "The negative value starts from -1 to -length of the list. \n",
    "It indicates that the list is indexed from the reverse/backward."
   ]
  },
  {
   "cell_type": "code",
   "execution_count": 21,
   "id": "4710ae3f",
   "metadata": {},
   "outputs": [
    {
     "name": "stdout",
     "output_type": "stream",
     "text": [
      "400\n",
      "300\n",
      "200\n"
     ]
    }
   ],
   "source": [
    "my_list = [100, 200, 'raju', 300, 400]\n",
    "#accessing last element of the list\n",
    "print(my_list[-1])\n",
    "#accessing 2nd last element of the list\n",
    "print(my_list[-2])\n",
    "#accessing 4th element from last\n",
    "print(my_list[-4])"
   ]
  },
  {
   "cell_type": "markdown",
   "id": "64d468e6",
   "metadata": {},
   "source": [
    "As seen in the above example to access the 4th element from the last (right to left) we pass ‘-4’ in the index value."
   ]
  },
  {
   "cell_type": "markdown",
   "id": "a51f7a81",
   "metadata": {},
   "source": [
    "List Slicing\n",
    "Slicing a list implies, accessing a range of elements in a list. For example, \n",
    "if we want to get the elements in the position from 3 to 7, we can use the slicing method. \n",
    "We can even modify the values in a range by using this slicing technique.\n",
    "\n",
    "The below is the syntax for list slicing.\n",
    "\n",
    "listname[start_index : end_index : step]\n",
    "\n",
    "The start_index denotes the index position from where the slicing should begin and the end_index parameter denotes \n",
    "the index positions till which the slicing should be done.\n",
    "\n",
    "The step allows you to take each nth-element within a start_index:end_index range."
   ]
  },
  {
   "cell_type": "code",
   "execution_count": 23,
   "id": "55997b58",
   "metadata": {},
   "outputs": [
    {
     "name": "stdout",
     "output_type": "stream",
     "text": [
      "['raju', 300, 400]\n"
     ]
    }
   ],
   "source": [
    "my_list = [100, 200, 'raju', 300, 400]\n",
    "#exatracting a portion of the list from 2nd element till 5th element\n",
    "print(my_list[2:5])"
   ]
  },
  {
   "cell_type": "markdown",
   "id": "43d77de9",
   "metadata": {},
   "source": [
    "Let us see few more examples of slicing a list such as\n",
    "\n",
    "Extract a portion of the list\n",
    "\n",
    "Reverse a list\n",
    "\n",
    "Slicing with a step\n",
    "\n",
    "Slice without specifying start or end position"
   ]
  },
  {
   "cell_type": "code",
   "execution_count": 27,
   "id": "279aa321",
   "metadata": {},
   "outputs": [
    {
     "name": "stdout",
     "output_type": "stream",
     "text": [
      "[100, 'raju', 200, 300]\n",
      "[100, 200, 'kalyan']\n",
      "['kalyan', 300, 200, 'raju', 100]\n",
      "[300, 'kalyan']\n"
     ]
    }
   ],
   "source": [
    "#Examples\n",
    "my_list = [100, 'raju', 200, 300, 'kalyan']\n",
    "#slicing 1st 4 items\n",
    "print(my_list[:4])\n",
    "#point every 2nd element with the skip of 2\n",
    "print(my_list[::2])\n",
    "#reversing the list\n",
    "print(my_list[::-1])\n",
    "#with out end va;ue\n",
    "#starting from 3rd item to last item\n",
    "print(my_list[3:])"
   ]
  },
  {
   "cell_type": "code",
   "execution_count": 28,
   "id": "bcfc2506",
   "metadata": {},
   "outputs": [
    {
     "name": "stdout",
     "output_type": "stream",
     "text": [
      "100\n",
      "raju\n",
      "200\n",
      "300\n",
      "kalyan\n"
     ]
    }
   ],
   "source": [
    "#Iterating a List\n",
    "my_list = [100, 'raju', 200, 300, 'kalyan']\n",
    "for item in my_list:\n",
    "    print(item)"
   ]
  },
  {
   "cell_type": "markdown",
   "id": "cef9c862",
   "metadata": {},
   "source": [
    "Iterate along with an index number\n",
    "\n",
    "The index value starts from 0 to (length of the list-1). Hence using the function range() is ideal for this scenario.\n",
    "\n",
    "The range function returns a sequence of numbers. By default, it returns starting from 0 to the specified number \n",
    "\n",
    "(increments by 1). The starting and ending values can be passed according to our needs."
   ]
  },
  {
   "cell_type": "code",
   "execution_count": 29,
   "id": "0a395a9e",
   "metadata": {},
   "outputs": [
    {
     "name": "stdout",
     "output_type": "stream",
     "text": [
      "100\n",
      "raju\n",
      "200\n",
      "300\n",
      "kalyan\n"
     ]
    }
   ],
   "source": [
    "my_list = [100, 'raju', 200, 300, 'kalyan']\n",
    "\n",
    "#iterate a list\n",
    "\n",
    "for i in range(0, len(my_list)):\n",
    "    #print each item using index number\n",
    "    print(my_list[i])"
   ]
  },
  {
   "cell_type": "markdown",
   "id": "af4536fa",
   "metadata": {},
   "source": [
    "Adding elements to the list\n",
    "\n",
    "We can add a new element/list of elements to the list using the list methods such as append(), insert(), and extend().\n",
    "\n",
    "Append item at the end of the list\n",
    "\n",
    "The append() method will accept only one parameter and add it at the end of the list."
   ]
  },
  {
   "cell_type": "code",
   "execution_count": 32,
   "id": "64e97ed6",
   "metadata": {},
   "outputs": [
    {
     "name": "stdout",
     "output_type": "stream",
     "text": [
      "[100, 'raju', 200, 300, 'kalyan']\n",
      "[100, 'raju', 200, 300, 'kalyan', [1000, 2000, 3000]]\n"
     ]
    }
   ],
   "source": [
    "my_list = list([100, 'raju', 200, 300])\n",
    "#using append\n",
    "my_list.append('kalyan')\n",
    "print(my_list)\n",
    "#append the nested list at the end\n",
    "my_list.append([1000, 2000, 3000])\n",
    "print(my_list)"
   ]
  },
  {
   "cell_type": "markdown",
   "id": "6ae88bd5",
   "metadata": {},
   "source": [
    "Add item at the specified position in the list\n",
    "\n",
    "Use the insert() method to add the object/item at the specified position in the list. \n",
    "\n",
    "The insert method accepts two parameters position and object.\n",
    "\n",
    "insert(index, object)\n"
   ]
  },
  {
   "cell_type": "code",
   "execution_count": 35,
   "id": "42e46124",
   "metadata": {},
   "outputs": [
    {
     "name": "stdout",
     "output_type": "stream",
     "text": [
      "[100, 200, 777, 300]\n",
      "[100, 200, [1000, 2000, 'raju'], 777, 300]\n"
     ]
    }
   ],
   "source": [
    "my_list = [100, 200, 300]\n",
    "#using insert()\n",
    "#insert 777 at 2nd postion\n",
    "my_list.insert(2, 777)\n",
    "print(my_list)\n",
    "#insert the nested list at position 3\n",
    "my_list.insert(2, [1000, 2000, 'raju'])\n",
    "print(my_list)"
   ]
  },
  {
   "cell_type": "markdown",
   "id": "b2106007",
   "metadata": {},
   "source": [
    "***Using extend()***\n",
    "\n",
    "The extend method will accept the list of elements and add them at the end of the list. \n",
    "\n",
    "We can even add another list by using this method."
   ]
  },
  {
   "cell_type": "code",
   "execution_count": 39,
   "id": "e3f1ec9a",
   "metadata": {},
   "outputs": [
    {
     "name": "stdout",
     "output_type": "stream",
     "text": [
      "[100, 200, 'raju', 400, 1000, 2000, 3000]\n"
     ]
    }
   ],
   "source": [
    "my_list = list([100,200, 'raju', 400])\n",
    "\n",
    "# using extend\n",
    "\n",
    "my_list.extend([1000, 2000, 3000])\n",
    "print(my_list)"
   ]
  },
  {
   "cell_type": "markdown",
   "id": "333081a4",
   "metadata": {},
   "source": [
    "As seen in the above example we have three integer values at once. \n",
    "\n",
    "All the values get added in the order they were passed and it gets appended at the end of the list."
   ]
  },
  {
   "cell_type": "markdown",
   "id": "bf0fef98",
   "metadata": {},
   "source": [
    "Modify the items of a List\n",
    "\n",
    "The list is a mutable sequence of iterable objects. It means we can modify the items of a list. \n",
    "\n",
    "Use the index number and assignment operator (=) to assign a new value to an item.\n",
    "\n",
    "Let’s see how to perform the following two modification scenarios\n",
    "\n",
    "Modify the individual item.\n",
    "\n",
    "Modify the range of items"
   ]
  },
  {
   "cell_type": "code",
   "execution_count": 45,
   "id": "fd99b8d5",
   "metadata": {},
   "outputs": [
    {
     "name": "stdout",
     "output_type": "stream",
     "text": [
      "[100, 200, 1000, 'raju']\n",
      "[100, 777, 888, 999]\n",
      "[100, 777, 1, 2, 3, 4]\n"
     ]
    }
   ],
   "source": [
    "my_list = [100, 200, 300, 'raju']\n",
    "#modifying single item\n",
    "my_list[2] = 1000\n",
    "print(my_list)\n",
    "#modifying range of items\n",
    "my_list[1:4] = [777, 888, 999]\n",
    "print(my_list)\n",
    "#modifying 2nd item to end\n",
    "my_list[2:] = [1,2,3,4]\n",
    "print(my_list)"
   ]
  },
  {
   "cell_type": "code",
   "execution_count": 47,
   "id": "5cf4c975",
   "metadata": {},
   "outputs": [
    {
     "name": "stdout",
     "output_type": "stream",
     "text": [
      "[1, 4, 9, 16, 25]\n"
     ]
    }
   ],
   "source": [
    "#Modify all items\n",
    "\n",
    "my_list = list([1, 2, 3,4,5])\n",
    "for i in range(len(my_list)):\n",
    "    # # calculate square of each number\n",
    "    square = my_list[i]*my_list[i]\n",
    "    my_list[i] = square\n",
    "print(my_list)"
   ]
  },
  {
   "cell_type": "markdown",
   "id": "c3ab4005",
   "metadata": {},
   "source": [
    "**Removing elements from a List**\n",
    "\n",
    "remove(item)\tTo remove the first occurrence of the item from the list.\n",
    "\n",
    "pop(index)\tRemoves and returns the item at the given index from the list.\n",
    "\n",
    "clear()\tTo remove all items from the list. The output will be an empty list.\n",
    "\n",
    "del list_name\tDelete the entire list."
   ]
  },
  {
   "cell_type": "markdown",
   "id": "13a5d341",
   "metadata": {},
   "source": [
    "Remove specific item\n",
    "\n",
    "Use the remove() method to remove the first occurrence of the item from the list.\n",
    "\n",
    "Note:  It Throws a keyerror if an item not present in the original list."
   ]
  },
  {
   "cell_type": "code",
   "execution_count": 54,
   "id": "731be411",
   "metadata": {},
   "outputs": [
    {
     "name": "stdout",
     "output_type": "stream",
     "text": [
      "[100, 300, 400]\n"
     ]
    }
   ],
   "source": [
    "my_list = list([100, 200, 300, 400, 'raju'])\n",
    "#remove 200\n",
    "my_list.remove(200)\n",
    "#remove raju\n",
    "my_list.remove('raju')\n",
    "print(my_list)"
   ]
  },
  {
   "cell_type": "markdown",
   "id": "8b28a586",
   "metadata": {},
   "source": [
    "Remove item present at given index\n",
    "\n",
    "- Use the pop() method to remove the item at the given index. \n",
    "- The pop() method removes and returns the item present at the given index.\n",
    "\n",
    "- Note: It will remove the last time from the list if the index number is not passed."
   ]
  },
  {
   "cell_type": "code",
   "execution_count": 57,
   "id": "14e3415c",
   "metadata": {},
   "outputs": [],
   "source": [
    "my_list = list([100, 200, 300, 400, 500])"
   ]
  },
  {
   "cell_type": "code",
   "execution_count": 58,
   "id": "cfe996c0",
   "metadata": {},
   "outputs": [
    {
     "data": {
      "text/plain": [
       "300"
      ]
     },
     "execution_count": 58,
     "metadata": {},
     "output_type": "execute_result"
    }
   ],
   "source": [
    "#remove the item at index 2\n",
    "my_list.pop(2)"
   ]
  },
  {
   "cell_type": "code",
   "execution_count": 59,
   "id": "287e02f4",
   "metadata": {},
   "outputs": [
    {
     "data": {
      "text/plain": [
       "500"
      ]
     },
     "execution_count": 59,
     "metadata": {},
     "output_type": "execute_result"
    }
   ],
   "source": [
    "#remove the item without passing index number\n",
    "my_list.pop()#it will remove the last item from list"
   ]
  },
  {
   "cell_type": "code",
   "execution_count": 60,
   "id": "299e1759",
   "metadata": {},
   "outputs": [
    {
     "name": "stdout",
     "output_type": "stream",
     "text": [
      "[100, 200, 400]\n"
     ]
    }
   ],
   "source": [
    "print(my_list)"
   ]
  },
  {
   "cell_type": "markdown",
   "id": "b4f046c5",
   "metadata": {},
   "source": [
    "Remove the range of items\n",
    "- Use del keyword along with list slicing to remove the range of items"
   ]
  },
  {
   "cell_type": "code",
   "execution_count": 61,
   "id": "aca7657e",
   "metadata": {},
   "outputs": [],
   "source": [
    "my_list = list([100, 200, 300, 400, 500])"
   ]
  },
  {
   "cell_type": "code",
   "execution_count": 62,
   "id": "de01b6a2",
   "metadata": {},
   "outputs": [],
   "source": [
    "#remove the range of items\n",
    "#remove the items from 2 to 5\n",
    "del my_list[2:5]"
   ]
  },
  {
   "cell_type": "code",
   "execution_count": 63,
   "id": "7bec5816",
   "metadata": {},
   "outputs": [
    {
     "data": {
      "text/plain": [
       "[100, 200]"
      ]
     },
     "execution_count": 63,
     "metadata": {},
     "output_type": "execute_result"
    }
   ],
   "source": [
    "my_list"
   ]
  },
  {
   "cell_type": "code",
   "execution_count": 64,
   "id": "6e54f546",
   "metadata": {},
   "outputs": [],
   "source": [
    "my_list = list([100, 200, 300, 400, 500])\n",
    "#remove the all items starting from index 3\n",
    "del my_list[3:]"
   ]
  },
  {
   "cell_type": "code",
   "execution_count": 65,
   "id": "f3fa35f9",
   "metadata": {},
   "outputs": [
    {
     "data": {
      "text/plain": [
       "[100, 200, 300]"
      ]
     },
     "execution_count": 65,
     "metadata": {},
     "output_type": "execute_result"
    }
   ],
   "source": [
    "my_list"
   ]
  },
  {
   "cell_type": "markdown",
   "id": "3d84b529",
   "metadata": {},
   "source": [
    " Remove all items\n",
    "\n",
    "- Use the list’ clear() method to remove all items from the list. The clear() method truncates the list."
   ]
  },
  {
   "cell_type": "code",
   "execution_count": 67,
   "id": "4a9295d3",
   "metadata": {},
   "outputs": [],
   "source": [
    "my_list = list([100, 200, 300, 400, 500])"
   ]
  },
  {
   "cell_type": "code",
   "execution_count": 68,
   "id": "1dc498ab",
   "metadata": {},
   "outputs": [],
   "source": [
    "#claer list\n",
    "my_list.clear()"
   ]
  },
  {
   "cell_type": "code",
   "execution_count": 69,
   "id": "91b9f269",
   "metadata": {},
   "outputs": [
    {
     "data": {
      "text/plain": [
       "[]"
      ]
     },
     "execution_count": 69,
     "metadata": {},
     "output_type": "execute_result"
    }
   ],
   "source": [
    "my_list"
   ]
  },
  {
   "cell_type": "code",
   "execution_count": 70,
   "id": "085ea0c9",
   "metadata": {},
   "outputs": [],
   "source": [
    "#delete entire list\n",
    "my_list = list([100, 200, 300, 400, 500])\n",
    "del my_list"
   ]
  },
  {
   "cell_type": "markdown",
   "id": "99929dd1",
   "metadata": {},
   "source": [
    "Finding an element in the list\n",
    "\n",
    "- The index() function will accept the value of the element as a parameter and returns the first occurrence of the element \n",
    "- or returns ValueError if the element does not exist."
   ]
  },
  {
   "cell_type": "code",
   "execution_count": 71,
   "id": "bcd74535",
   "metadata": {},
   "outputs": [
    {
     "name": "stdout",
     "output_type": "stream",
     "text": [
      "1\n"
     ]
    }
   ],
   "source": [
    "my_list = list([100, 200, 300, 400, 500])\n",
    "print(my_list.index(200))"
   ]
  },
  {
   "cell_type": "code",
   "execution_count": 72,
   "id": "b82a1cb2",
   "metadata": {},
   "outputs": [
    {
     "ename": "ValueError",
     "evalue": "1000 is not in list",
     "output_type": "error",
     "traceback": [
      "\u001b[1;31m---------------------------------------------------------------------------\u001b[0m",
      "\u001b[1;31mValueError\u001b[0m                                Traceback (most recent call last)",
      "\u001b[1;32mC:\\Users\\RAJU~1.GUL\\AppData\\Local\\Temp/ipykernel_14364/1318984472.py\u001b[0m in \u001b[0;36m<module>\u001b[1;34m\u001b[0m\n\u001b[0;32m      1\u001b[0m \u001b[1;31m#return the error since element not exist in the list\u001b[0m\u001b[1;33m\u001b[0m\u001b[1;33m\u001b[0m\u001b[0m\n\u001b[1;32m----> 2\u001b[1;33m \u001b[0mmy_list\u001b[0m\u001b[1;33m.\u001b[0m\u001b[0mindex\u001b[0m\u001b[1;33m(\u001b[0m\u001b[1;36m1000\u001b[0m\u001b[1;33m)\u001b[0m\u001b[1;33m\u001b[0m\u001b[1;33m\u001b[0m\u001b[0m\n\u001b[0m",
      "\u001b[1;31mValueError\u001b[0m: 1000 is not in list"
     ]
    }
   ],
   "source": [
    "#return the error since element not exist in the list\n",
    "my_list.index(1000)"
   ]
  },
  {
   "cell_type": "markdown",
   "id": "9e48ec52",
   "metadata": {},
   "source": [
    "Concatenation of two lists\n",
    "\n",
    "- The concatenation of two lists means merging of two lists. There are two ways to do that.\n",
    "\n",
    "- Using the + operator.\n",
    "- Using the extend() method. The extend() method appends the new list’s items at the end of the calling list."
   ]
  },
  {
   "cell_type": "code",
   "execution_count": 73,
   "id": "1d24ddca",
   "metadata": {},
   "outputs": [],
   "source": [
    "my_list1 = list([100, 200, 300])\n",
    "my_list2 = list([777, 888, 999])"
   ]
  },
  {
   "cell_type": "code",
   "execution_count": 75,
   "id": "ab960892",
   "metadata": {},
   "outputs": [],
   "source": [
    "#concatenation using + operator\n",
    "my_list3 = my_list1+my_list2"
   ]
  },
  {
   "cell_type": "code",
   "execution_count": 76,
   "id": "b679dcb4",
   "metadata": {},
   "outputs": [
    {
     "data": {
      "text/plain": [
       "[100, 200, 300, 777, 888, 999]"
      ]
     },
     "execution_count": 76,
     "metadata": {},
     "output_type": "execute_result"
    }
   ],
   "source": [
    "my_list3"
   ]
  },
  {
   "cell_type": "code",
   "execution_count": 77,
   "id": "e37af696",
   "metadata": {},
   "outputs": [],
   "source": [
    "#concatenation using extend method\n",
    "my_list1.extend(my_list2)"
   ]
  },
  {
   "cell_type": "code",
   "execution_count": 78,
   "id": "aad0f644",
   "metadata": {},
   "outputs": [
    {
     "data": {
      "text/plain": [
       "[100, 200, 300, 777, 888, 999]"
      ]
     },
     "execution_count": 78,
     "metadata": {},
     "output_type": "execute_result"
    }
   ],
   "source": [
    "my_list"
   ]
  },
  {
   "cell_type": "markdown",
   "id": "1ea2f14c",
   "metadata": {},
   "source": [
    "Copying a list\n",
    "- There are two ways by which a copy of a list can be created. Let us see each one with an example.\n",
    "\n",
    "- Using assignment operator (=)\n",
    "- This is a straightforward way of creating a copy. In this method, the new list will be a deep copy. The changes that we make in the original list will be reflected in the new list.\n",
    "\n",
    "- This is called deep copying."
   ]
  },
  {
   "cell_type": "code",
   "execution_count": 91,
   "id": "bf2f6f2a",
   "metadata": {},
   "outputs": [],
   "source": [
    "my_list = [100, 200, 300]"
   ]
  },
  {
   "cell_type": "code",
   "execution_count": 92,
   "id": "6fdbcf02",
   "metadata": {},
   "outputs": [],
   "source": [
    "#copy using = operator\n",
    "new_list = my_list"
   ]
  },
  {
   "cell_type": "code",
   "execution_count": 93,
   "id": "5c6635c9",
   "metadata": {},
   "outputs": [
    {
     "data": {
      "text/plain": [
       "[100, 200, 300]"
      ]
     },
     "execution_count": 93,
     "metadata": {},
     "output_type": "execute_result"
    }
   ],
   "source": [
    "new_list"
   ]
  },
  {
   "cell_type": "code",
   "execution_count": 94,
   "id": "ea872727",
   "metadata": {},
   "outputs": [],
   "source": [
    "#making changes in original list\n",
    "my_list.append(777)"
   ]
  },
  {
   "cell_type": "code",
   "execution_count": 95,
   "id": "5888ba33",
   "metadata": {},
   "outputs": [
    {
     "data": {
      "text/plain": [
       "[100, 200, 300, 777]"
      ]
     },
     "execution_count": 95,
     "metadata": {},
     "output_type": "execute_result"
    }
   ],
   "source": [
    "my_list"
   ]
  },
  {
   "cell_type": "code",
   "execution_count": 96,
   "id": "4f0b48d1",
   "metadata": {},
   "outputs": [
    {
     "data": {
      "text/plain": [
       "[100, 200, 300, 777]"
      ]
     },
     "execution_count": 96,
     "metadata": {},
     "output_type": "execute_result"
    }
   ],
   "source": [
    "new_list #changes happend in new list also"
   ]
  },
  {
   "cell_type": "markdown",
   "id": "a2f8d197",
   "metadata": {},
   "source": [
    "- As seen in the above example a copy of the list has been created. The changes made to the original list are reflected in the - copied list as well.\n",
    "\n",
    "- Note: When you set list1 = list2, you are making them refer to the same list object, so when you modify one of them, all references associated with that object reflect the current state of the object. So don’t use the assignment operator to copy the dictionary instead use the copy() method."
   ]
  },
  {
   "cell_type": "markdown",
   "id": "7fa50803",
   "metadata": {},
   "source": [
    "Using the copy() method\n",
    "- The copy method can be used to create a copy of a list. \n",
    "- This will create a new list and any changes made in the original list will not reflect in the new list. This is shallow copying."
   ]
  },
  {
   "cell_type": "code",
   "execution_count": 85,
   "id": "15bf88be",
   "metadata": {},
   "outputs": [],
   "source": [
    "my_list = [100,200, 300]\n",
    "#using copy method \n",
    "new_list = my_list.copy()"
   ]
  },
  {
   "cell_type": "code",
   "execution_count": 86,
   "id": "e2879d5c",
   "metadata": {},
   "outputs": [
    {
     "data": {
      "text/plain": [
       "[100, 200, 300]"
      ]
     },
     "execution_count": 86,
     "metadata": {},
     "output_type": "execute_result"
    }
   ],
   "source": [
    "new_list"
   ]
  },
  {
   "cell_type": "code",
   "execution_count": 87,
   "id": "ad44a7dd",
   "metadata": {},
   "outputs": [],
   "source": [
    "#making changes in oiginal list\n",
    "my_list.append(777)"
   ]
  },
  {
   "cell_type": "code",
   "execution_count": 88,
   "id": "2d1e9cb8",
   "metadata": {},
   "outputs": [
    {
     "data": {
      "text/plain": [
       "[100, 200, 300, 777]"
      ]
     },
     "execution_count": 88,
     "metadata": {},
     "output_type": "execute_result"
    }
   ],
   "source": [
    "my_list"
   ]
  },
  {
   "cell_type": "code",
   "execution_count": 89,
   "id": "4cfb69e0",
   "metadata": {},
   "outputs": [
    {
     "data": {
      "text/plain": [
       "[100, 200, 300]"
      ]
     },
     "execution_count": 89,
     "metadata": {},
     "output_type": "execute_result"
    }
   ],
   "source": [
    "new_list"
   ]
  },
  {
   "cell_type": "markdown",
   "id": "4d5d3b88",
   "metadata": {},
   "source": [
    "As seen in the above example a copy of the list has been created. \n",
    "The changes made to the original list are not reflected in the copy."
   ]
  },
  {
   "cell_type": "markdown",
   "id": "ca26d150",
   "metadata": {},
   "source": [
    "List operations\n",
    "- We can perform some operations over the list by using certain functions like sort(), reverse(), clear() etc."
   ]
  },
  {
   "cell_type": "markdown",
   "id": "380d9d7e",
   "metadata": {},
   "source": [
    "Sort List using sort()\n",
    "- The sort function sorts the elements in the list in ascending order."
   ]
  },
  {
   "cell_type": "code",
   "execution_count": 98,
   "id": "080abeed",
   "metadata": {},
   "outputs": [],
   "source": [
    "my_list = [100, 200, 777, 300]"
   ]
  },
  {
   "cell_type": "code",
   "execution_count": 99,
   "id": "7af74e3c",
   "metadata": {},
   "outputs": [],
   "source": [
    "my_list.sort()"
   ]
  },
  {
   "cell_type": "code",
   "execution_count": 100,
   "id": "5ca455a4",
   "metadata": {},
   "outputs": [
    {
     "data": {
      "text/plain": [
       "[100, 200, 300, 777]"
      ]
     },
     "execution_count": 100,
     "metadata": {},
     "output_type": "execute_result"
    }
   ],
   "source": [
    "my_list"
   ]
  },
  {
   "cell_type": "markdown",
   "id": "9c159d84",
   "metadata": {},
   "source": [
    "Reverse a List using reverse()\n",
    "- The reverse function is used to reverse the elements in the list."
   ]
  },
  {
   "cell_type": "code",
   "execution_count": 101,
   "id": "9064abd2",
   "metadata": {},
   "outputs": [],
   "source": [
    "my_list = [100, 200, 300, 777]"
   ]
  },
  {
   "cell_type": "code",
   "execution_count": 102,
   "id": "df1137aa",
   "metadata": {},
   "outputs": [],
   "source": [
    "my_list.reverse()"
   ]
  },
  {
   "cell_type": "code",
   "execution_count": 103,
   "id": "f1acc171",
   "metadata": {},
   "outputs": [
    {
     "data": {
      "text/plain": [
       "[777, 300, 200, 100]"
      ]
     },
     "execution_count": 103,
     "metadata": {},
     "output_type": "execute_result"
    }
   ],
   "source": [
    "my_list"
   ]
  },
  {
   "cell_type": "markdown",
   "id": "4412543c",
   "metadata": {},
   "source": [
    "Python Built-in functions with List\n",
    "In addition to the built-in methods available in the list, we can use the built-in functions as well on the list. \n",
    "Let us see a few of them for example.\n",
    "\n",
    "Using max() & min()\n",
    "The max function returns the maximum value in the list while the min function returns the minimum value in the list."
   ]
  },
  {
   "cell_type": "code",
   "execution_count": 104,
   "id": "b89dee49",
   "metadata": {},
   "outputs": [],
   "source": [
    "my_list = [100, 200, 300, 777]"
   ]
  },
  {
   "cell_type": "code",
   "execution_count": 105,
   "id": "b13e3afc",
   "metadata": {},
   "outputs": [
    {
     "data": {
      "text/plain": [
       "100"
      ]
     },
     "execution_count": 105,
     "metadata": {},
     "output_type": "execute_result"
    }
   ],
   "source": [
    "min(my_list) ##returns the maximum number in the list."
   ]
  },
  {
   "cell_type": "code",
   "execution_count": 106,
   "id": "f2818eac",
   "metadata": {},
   "outputs": [
    {
     "data": {
      "text/plain": [
       "777"
      ]
     },
     "execution_count": 106,
     "metadata": {},
     "output_type": "execute_result"
    }
   ],
   "source": [
    "max(my_list) #returns the minimum number in the list."
   ]
  },
  {
   "cell_type": "markdown",
   "id": "c8a4dfc0",
   "metadata": {},
   "source": [
    "Using sum()\n",
    "\n",
    "- The sum function returns the sum of all the elements in the list."
   ]
  },
  {
   "cell_type": "code",
   "execution_count": 107,
   "id": "45517c4b",
   "metadata": {},
   "outputs": [
    {
     "data": {
      "text/plain": [
       "1000"
      ]
     },
     "execution_count": 107,
     "metadata": {},
     "output_type": "execute_result"
    }
   ],
   "source": [
    "my_list = [100, 200, 300, 400]\n",
    "sum(my_list)"
   ]
  },
  {
   "cell_type": "markdown",
   "id": "4a50f937",
   "metadata": {},
   "source": [
    "any()\n",
    "- The any() method will return true if there is at least one true value. \n",
    "- In the case of Empty List, it will return false.\n",
    "- Let us see the same possible combination of values for any() function in a list and its return values."
   ]
  },
  {
   "cell_type": "markdown",
   "id": "803f999b",
   "metadata": {},
   "source": [
    "Item Values in List\tReturn Value\n",
    "- All Values are True\t-- True\n",
    "- One or more False Values --\t True\n",
    "- All False Values\t -- False\n",
    " - Empty List\t--  False"
   ]
  },
  {
   "cell_type": "code",
   "execution_count": 110,
   "id": "04c41e8e",
   "metadata": {},
   "outputs": [
    {
     "name": "stdout",
     "output_type": "stream",
     "text": [
      "any() True Value:  True\n"
     ]
    }
   ],
   "source": [
    "#with all True values\n",
    "\n",
    "my_list = [1, 1, True]\n",
    "print(\"any() True Value: \", any(my_list))"
   ]
  },
  {
   "cell_type": "code",
   "execution_count": 111,
   "id": "1feaeb50",
   "metadata": {},
   "outputs": [
    {
     "name": "stdout",
     "output_type": "stream",
     "text": [
      "any() True Value:  True\n"
     ]
    }
   ],
   "source": [
    "#with one Flase\n",
    "my_list = [1, 1, 0, True]\n",
    "print(\"any() one Flase Value: \", any(my_list))"
   ]
  },
  {
   "cell_type": "code",
   "execution_count": 112,
   "id": "76c8e181",
   "metadata": {},
   "outputs": [
    {
     "name": "stdout",
     "output_type": "stream",
     "text": [
      "any() all Flase Value:  False\n"
     ]
    }
   ],
   "source": [
    "#with all Flase\n",
    "my_list = [0,0,False]\n",
    "print(\"any() all Flase Value: \", any(my_list))\n"
   ]
  },
  {
   "cell_type": "code",
   "execution_count": 113,
   "id": "f067828c",
   "metadata": {},
   "outputs": [
    {
     "name": "stdout",
     "output_type": "stream",
     "text": [
      "any() Empty list:  False\n"
     ]
    }
   ],
   "source": [
    "#empty list\n",
    "my_list = []\n",
    "print(\"any() Empty list: \", any(my_list))\n"
   ]
  },
  {
   "cell_type": "markdown",
   "id": "6109194f",
   "metadata": {},
   "source": [
    "##  Nested List\n",
    "- The list can contain another list (sub-list), which in turn contains another list and so on. This is termed a nested list."
   ]
  },
  {
   "cell_type": "code",
   "execution_count": 114,
   "id": "3377aae2",
   "metadata": {},
   "outputs": [],
   "source": [
    "my_list = [100, 200, 300, [777, 888, 999], 400]"
   ]
  },
  {
   "cell_type": "code",
   "execution_count": 115,
   "id": "ab379365",
   "metadata": {},
   "outputs": [
    {
     "data": {
      "text/plain": [
       "list"
      ]
     },
     "execution_count": 115,
     "metadata": {},
     "output_type": "execute_result"
    }
   ],
   "source": [
    "type(my_list)"
   ]
  },
  {
   "cell_type": "markdown",
   "id": "aea57dd3",
   "metadata": {},
   "source": [
    "- In order to retrieve the elements of the inner list we need a nested For-Loop."
   ]
  },
  {
   "cell_type": "code",
   "execution_count": 120,
   "id": "ab2c0006",
   "metadata": {},
   "outputs": [],
   "source": [
    "my_nestedlist = [[100, 200, 300],[777, 888, 999]]"
   ]
  },
  {
   "cell_type": "code",
   "execution_count": 121,
   "id": "701e34bc",
   "metadata": {},
   "outputs": [
    {
     "name": "stdout",
     "output_type": "stream",
     "text": [
      "accessing 3nd element of 2nd list 999\n"
     ]
    }
   ],
   "source": [
    "print('accessing 3nd element of 2nd list', my_nestedlist[1][2])"
   ]
  },
  {
   "cell_type": "code",
   "execution_count": 124,
   "id": "dd921583",
   "metadata": {},
   "outputs": [
    {
     "name": "stdout",
     "output_type": "stream",
     "text": [
      "lis [100, 200, 300] elements\n",
      "100\n",
      "200\n",
      "300\n",
      "lis [777, 888, 999] elements\n",
      "777\n",
      "888\n",
      "999\n"
     ]
    }
   ],
   "source": [
    "for i in my_nestedlist:\n",
    "    print('lis', i, 'elements')\n",
    "    for j in i:\n",
    "        print(j)"
   ]
  },
  {
   "cell_type": "markdown",
   "id": "025a4127",
   "metadata": {},
   "source": [
    "As we can see in the above output the indexing of the nested lists with \n",
    "\n",
    "the index value of the outer loop first followed by the inner list. \n",
    "\n",
    "We can print values of the inner lists through a nested for-loop."
   ]
  },
  {
   "cell_type": "markdown",
   "id": "36335e69",
   "metadata": {},
   "source": [
    "## List Comprehension\n",
    "- List comprehension is a simpler method to create a list from an existing list. \n",
    "\n",
    "- It is generally a list of iterables generated with an option to include only the items which satisfy a condition.\n",
    "\n",
    "## outputList = {expression(variable) for variable in inputList [if variable condition1][if variable condition2]\n",
    "\n",
    "- expression: Optional. expression to compute the members of the output List which satisfies the optional conditions\n",
    "- variable: Required. a variable that represents the members of the input List.\n",
    "- inputList: Required. Represents the input set.\n",
    "- condition1, condition2 etc; : Optional. Filter conditions for the members of the output List."
   ]
  },
  {
   "cell_type": "code",
   "execution_count": null,
   "id": "5d1617d6",
   "metadata": {},
   "outputs": [],
   "source": [
    "#outputList = {expression(variable) for variable in inputList [if variable condition1][if variable condition2]"
   ]
  },
  {
   "cell_type": "code",
   "execution_count": 129,
   "id": "56c528b4",
   "metadata": {},
   "outputs": [
    {
     "name": "stdout",
     "output_type": "stream",
     "text": [
      "[4, 16]\n"
     ]
    }
   ],
   "source": [
    "inputlist = [1,2,3,4,5]\n",
    "#creating list square value of even numbers\n",
    "squarelist = [var*var for var in inputlist if var%2==0]\n",
    "print(squarelist)"
   ]
  },
  {
   "cell_type": "code",
   "execution_count": 134,
   "id": "c2f1fcda",
   "metadata": {},
   "outputs": [
    {
     "name": "stdout",
     "output_type": "stream",
     "text": [
      "[1, 9, 25, 49, 81]\n"
     ]
    }
   ],
   "source": [
    "#create odd sqaure list for range of numbers\n",
    "squarelist1 = [var*var for var in range(10) if var%2!=0]\n",
    "print(squarelist1)"
   ]
  },
  {
   "cell_type": "code",
   "execution_count": 135,
   "id": "2bd25f88",
   "metadata": {},
   "outputs": [
    {
     "data": {
      "text/plain": [
       "True"
      ]
     },
     "execution_count": 135,
     "metadata": {},
     "output_type": "execute_result"
    }
   ],
   "source": [
    "my_list = [1, 2,3, 4,5]\n",
    "2 in my_list"
   ]
  },
  {
   "cell_type": "code",
   "execution_count": 136,
   "id": "e9e14413",
   "metadata": {},
   "outputs": [
    {
     "data": {
      "text/plain": [
       "False"
      ]
     },
     "execution_count": 136,
     "metadata": {},
     "output_type": "execute_result"
    }
   ],
   "source": [
    "2 not in my_list"
   ]
  },
  {
   "cell_type": "code",
   "execution_count": 138,
   "id": "3d9634e2",
   "metadata": {},
   "outputs": [
    {
     "data": {
      "text/plain": [
       "True"
      ]
     },
     "execution_count": 138,
     "metadata": {},
     "output_type": "execute_result"
    }
   ],
   "source": [
    "10 not in my_list"
   ]
  },
  {
   "cell_type": "code",
   "execution_count": 139,
   "id": "8c2cbb2f",
   "metadata": {},
   "outputs": [
    {
     "data": {
      "text/plain": [
       "[1, 2, 3, 4, 5, 1, 2, 3, 4, 5, 1, 2, 3, 4, 5, 1, 2, 3, 4, 5, 1, 2, 3, 4, 5]"
      ]
     },
     "execution_count": 139,
     "metadata": {},
     "output_type": "execute_result"
    }
   ],
   "source": [
    "my_list*5 # Repeat the list my_list 5 times"
   ]
  },
  {
   "cell_type": "code",
   "execution_count": null,
   "id": "1f83a465",
   "metadata": {},
   "outputs": [],
   "source": []
  },
  {
   "cell_type": "code",
   "execution_count": null,
   "id": "a4350517",
   "metadata": {},
   "outputs": [],
   "source": []
  }
 ],
 "metadata": {
  "kernelspec": {
   "display_name": "Python 3 (ipykernel)",
   "language": "python",
   "name": "python3"
  },
  "language_info": {
   "codemirror_mode": {
    "name": "ipython",
    "version": 3
   },
   "file_extension": ".py",
   "mimetype": "text/x-python",
   "name": "python",
   "nbconvert_exporter": "python",
   "pygments_lexer": "ipython3",
   "version": "3.9.12"
  }
 },
 "nbformat": 4,
 "nbformat_minor": 5
}
