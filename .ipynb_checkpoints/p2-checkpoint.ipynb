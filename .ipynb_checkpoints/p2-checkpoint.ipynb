{
 "cells": [
  {
   "cell_type": "code",
   "execution_count": 11,
   "id": "6476ca19",
   "metadata": {},
   "outputs": [
    {
     "name": "stdout",
     "output_type": "stream",
     "text": [
      "777\n",
      "777\n"
     ]
    }
   ],
   "source": [
    "x = 999\n",
    "def func():\n",
    "    \"\"\"\n",
    "    jkshkjdSHAJKDKJSHA\"\"\"\n",
    "    global x\n",
    "    x = 777\n",
    "    print(x)\n",
    "func()\n",
    "print(x)"
   ]
  },
  {
   "cell_type": "code",
   "execution_count": 9,
   "id": "e09788c5",
   "metadata": {},
   "outputs": [
    {
     "name": "stdout",
     "output_type": "stream",
     "text": [
      "777\n"
     ]
    }
   ],
   "source": [
    "print(x)"
   ]
  },
  {
   "cell_type": "code",
   "execution_count": 15,
   "id": "9928601b",
   "metadata": {},
   "outputs": [
    {
     "data": {
      "text/plain": [
       "'\\n    jkshkjdSHAJKDKJSHA'"
      ]
     },
     "execution_count": 15,
     "metadata": {},
     "output_type": "execute_result"
    }
   ],
   "source": [
    "func.__doc__"
   ]
  },
  {
   "cell_type": "code",
   "execution_count": 18,
   "id": "ba97ff6f",
   "metadata": {},
   "outputs": [
    {
     "name": "stdout",
     "output_type": "stream",
     "text": [
      "3\n"
     ]
    }
   ],
   "source": [
    "#positional Arguments:\n",
    "def func1(a,b):\n",
    "    print(a+b)\n",
    "func1(1,2)"
   ]
  },
  {
   "cell_type": "code",
   "execution_count": 19,
   "id": "42fd7707",
   "metadata": {},
   "outputs": [
    {
     "name": "stdout",
     "output_type": "stream",
     "text": [
      "my name raju age 29\n"
     ]
    }
   ],
   "source": [
    "#keyword agrguments\n",
    "def func2(name, age):\n",
    "    print('my name', name, 'age', age)\n",
    "func2(name = 'raju', age = 29)"
   ]
  },
  {
   "cell_type": "code",
   "execution_count": 22,
   "id": "7b6e5e57",
   "metadata": {},
   "outputs": [
    {
     "name": "stdout",
     "output_type": "stream",
     "text": [
      "hello guest maorning\n"
     ]
    }
   ],
   "source": [
    "#default argumentsc\n",
    "def func3(name = 'guest'):\n",
    "    print('hello', name, 'maorning')\n",
    "func3()"
   ]
  },
  {
   "cell_type": "code",
   "execution_count": 23,
   "id": "f0c4b601",
   "metadata": {},
   "outputs": [
    {
     "name": "stdout",
     "output_type": "stream",
     "text": [
      "hello raju maorning\n"
     ]
    }
   ],
   "source": [
    "func3('raju')"
   ]
  },
  {
   "cell_type": "code",
   "execution_count": 27,
   "id": "03386191",
   "metadata": {},
   "outputs": [
    {
     "data": {
      "text/plain": [
       "10"
      ]
     },
     "execution_count": 27,
     "metadata": {},
     "output_type": "execute_result"
    }
   ],
   "source": [
    "def func4(*numbers):\n",
    "    t = 0\n",
    "    for n in numbers:\n",
    "        t = t + n\n",
    "    return t\n",
    "func4(1,2,3,4)"
   ]
  },
  {
   "cell_type": "code",
   "execution_count": 29,
   "id": "5258d448",
   "metadata": {},
   "outputs": [
    {
     "data": {
      "text/plain": [
       "120"
      ]
     },
     "execution_count": 29,
     "metadata": {},
     "output_type": "execute_result"
    }
   ],
   "source": [
    "def fact(num):\n",
    "    if num == 0:\n",
    "        return 1\n",
    "    else:\n",
    "        return num*fact(num-1)\n",
    "fact(5)"
   ]
  },
  {
   "cell_type": "code",
   "execution_count": 33,
   "id": "27562234",
   "metadata": {},
   "outputs": [
    {
     "data": {
      "text/plain": [
       "[2, 4, -4]"
      ]
     },
     "execution_count": 33,
     "metadata": {},
     "output_type": "execute_result"
    }
   ],
   "source": [
    "lst = [1,2,3,4, -4]\n",
    "even = list(filter(lambda x : x%2==0, lst))\n",
    "even"
   ]
  },
  {
   "cell_type": "code",
   "execution_count": 57,
   "id": "7f5a4806",
   "metadata": {},
   "outputs": [],
   "source": [
    "lst = [-1,-2, 1,2,3]\n",
    "postive_no = list(filter(lambda x : x*2, lst))"
   ]
  },
  {
   "cell_type": "code",
   "execution_count": 58,
   "id": "ea666238",
   "metadata": {},
   "outputs": [
    {
     "data": {
      "text/plain": [
       "[-1, -2, 1, 2, 3]"
      ]
     },
     "execution_count": 58,
     "metadata": {},
     "output_type": "execute_result"
    }
   ],
   "source": [
    "postive_no"
   ]
  },
  {
   "cell_type": "code",
   "execution_count": 41,
   "id": "a299b06f",
   "metadata": {},
   "outputs": [],
   "source": [
    "#fhjkdhsf\n"
   ]
  },
  {
   "cell_type": "code",
   "execution_count": 50,
   "id": "8a253c51",
   "metadata": {},
   "outputs": [],
   "source": [
    "def func5(msg):\n",
    "    if msg.lower() =='left':\n",
    "        print('go left 20Km')\n",
    "    elif msg.lower() == 'right':\n",
    "        print('go right 2okm')\n",
    "    else:\n",
    "        pass"
   ]
  },
  {
   "cell_type": "code",
   "execution_count": 52,
   "id": "ceed5213",
   "metadata": {},
   "outputs": [
    {
     "name": "stdout",
     "output_type": "stream",
     "text": [
      "go left 20Km\n"
     ]
    }
   ],
   "source": [
    "func5(\"LEFt\")"
   ]
  },
  {
   "cell_type": "code",
   "execution_count": null,
   "id": "b688dddc",
   "metadata": {},
   "outputs": [],
   "source": [
    "filter(fun, seq)#filtered list"
   ]
  },
  {
   "cell_type": "code",
   "execution_count": null,
   "id": "d89d6917",
   "metadata": {},
   "outputs": [],
   "source": [
    "map(fun, seq)#new list"
   ]
  },
  {
   "cell_type": "code",
   "execution_count": null,
   "id": "4c773157",
   "metadata": {},
   "outputs": [],
   "source": [
    "reduce(fun, seq)#single value"
   ]
  },
  {
   "cell_type": "code",
   "execution_count": 60,
   "id": "04747f7f",
   "metadata": {},
   "outputs": [
    {
     "data": {
      "text/plain": [
       "[5, 10, 15, 20]"
      ]
     },
     "execution_count": 60,
     "metadata": {},
     "output_type": "execute_result"
    }
   ],
   "source": [
    "lst = [1,2,3,4]\n",
    "new = list(map(lambda x : x*5, lst))\n",
    "new"
   ]
  },
  {
   "cell_type": "code",
   "execution_count": 67,
   "id": "86a56cff",
   "metadata": {},
   "outputs": [
    {
     "data": {
      "text/plain": [
       "10"
      ]
     },
     "execution_count": 67,
     "metadata": {},
     "output_type": "execute_result"
    }
   ],
   "source": [
    "from functools import reduce\n",
    "lst1 = [1,2,3,4]\n",
    "new2 = reduce(lambda x, y: x+y, lst1)\n",
    "new2"
   ]
  },
  {
   "cell_type": "code",
   "execution_count": 68,
   "id": "9f9d4a50",
   "metadata": {},
   "outputs": [
    {
     "data": {
      "text/plain": [
       "120"
      ]
     },
     "execution_count": 68,
     "metadata": {},
     "output_type": "execute_result"
    }
   ],
   "source": [
    "from functools import reduce\n",
    "lst = [1,2,3,4,5]\n",
    "new = reduce(lambda x, y: x*y, lst)\n",
    "new"
   ]
  },
  {
   "cell_type": "code",
   "execution_count": 69,
   "id": "4cdf7935",
   "metadata": {},
   "outputs": [
    {
     "data": {
      "text/plain": [
       "list"
      ]
     },
     "execution_count": 69,
     "metadata": {},
     "output_type": "execute_result"
    }
   ],
   "source": [
    "lst = [1,2,3,4,5]\n",
    "type(lst)"
   ]
  },
  {
   "cell_type": "code",
   "execution_count": 70,
   "id": "2ca34801",
   "metadata": {},
   "outputs": [
    {
     "data": {
      "text/plain": [
       "5"
      ]
     },
     "execution_count": 70,
     "metadata": {},
     "output_type": "execute_result"
    }
   ],
   "source": [
    "len(lst)"
   ]
  },
  {
   "cell_type": "code",
   "execution_count": 71,
   "id": "0d02eb4c",
   "metadata": {},
   "outputs": [],
   "source": [
    "lst2 = [7,8,9,0]"
   ]
  },
  {
   "cell_type": "code",
   "execution_count": null,
   "id": "b0f16621",
   "metadata": {},
   "outputs": [],
   "source": []
  },
  {
   "cell_type": "code",
   "execution_count": null,
   "id": "68e8abcd",
   "metadata": {},
   "outputs": [],
   "source": []
  }
 ],
 "metadata": {
  "kernelspec": {
   "display_name": "Python 3 (ipykernel)",
   "language": "python",
   "name": "python3"
  },
  "language_info": {
   "codemirror_mode": {
    "name": "ipython",
    "version": 3
   },
   "file_extension": ".py",
   "mimetype": "text/x-python",
   "name": "python",
   "nbconvert_exporter": "python",
   "pygments_lexer": "ipython3",
   "version": "3.9.12"
  }
 },
 "nbformat": 4,
 "nbformat_minor": 5
}
