{
 "cells": [
  {
   "cell_type": "markdown",
   "id": "5cf0689a",
   "metadata": {},
   "source": [
    "## Dictionaries in Python\n",
    "\n",
    "- Dictionaries are unordered collections of unique values stored in (Key-Value) pairs.\n",
    "\n",
    "- Python dictionary represents a mapping between a key and a value. In simple terms, a Python dictionary can store pairs of keys and values. Each key is linked to a specific value. Once stored in a dictionary, you can later obtain the value using just the key.\n",
    "\n",
    "- For example, consider the Phone lookup where it is very easy and fast to find the phone number(value) when we know the name(Key) associated with it.\n",
    "\n",
    "## Characteristics of dictionaries\n",
    "- Unordered: The items in dictionaries are stored without any index value, which is typically a range of numbers. They are stored as Key-Value pairs, and the keys are their index, which will not be in any sequence.\n",
    "- Unique: As mentioned above, each value has a Key; the Keys in Dictionaries should be unique.  If we store any value with a Key that already exists, then the most recent value will replace the old value.\n",
    "- Mutable: The dictionaries are collections that are changeable, which implies that we can add or remove items after the creation."
   ]
  },
  {
   "cell_type": "markdown",
   "id": "d3cf1c54",
   "metadata": {},
   "source": [
    "## Creating a dictionary\n",
    "\n",
    "- There are following three ways to create a dictionary.\n",
    "\n",
    "- Using curly brackets: The dictionaries are created by enclosing the comma-separated Key: Value pairs inside the {} curly brackets. The colon ‘:‘ is used to separate the key and value in a pair.\n",
    "- Using dict() constructor:  Create a dictionary by passing the comma-separated key: value pairs inside the dict().\n",
    "- Using sequence having each item as a pair (key-value)\n"
   ]
  },
  {
   "cell_type": "code",
   "execution_count": 2,
   "id": "3fb345c8",
   "metadata": {},
   "outputs": [
    {
     "name": "stdout",
     "output_type": "stream",
     "text": [
      "{'name': 'raju', 'age': '30', 'car': 'BMW'}\n",
      "<class 'dict'>\n"
     ]
    }
   ],
   "source": [
    "# create a dictionary with {}\n",
    "my_dict = {'name': 'raju', 'age': '30', 'car': 'BMW'}\n",
    "print(my_dict)\n",
    "print(type(my_dict))"
   ]
  },
  {
   "cell_type": "code",
   "execution_count": 3,
   "id": "acdadc79",
   "metadata": {},
   "outputs": [
    {
     "name": "stdout",
     "output_type": "stream",
     "text": [
      "{'name': 'raju', 'age': '30', 'car': 'BMW'}\n",
      "<class 'dict'>\n"
     ]
    }
   ],
   "source": [
    "#create a dictionary using dict()\n",
    "my_dict = dict({'name': 'raju', 'age': '30', 'car': 'BMW'})\n",
    "print(my_dict)\n",
    "print(type(my_dict))\n"
   ]
  },
  {
   "cell_type": "code",
   "execution_count": 5,
   "id": "3b96b1a6",
   "metadata": {},
   "outputs": [
    {
     "name": "stdout",
     "output_type": "stream",
     "text": [
      "{'name': 'raju', 'age': 30, 'car': 'BMW'}\n",
      "<class 'dict'>\n"
     ]
    }
   ],
   "source": [
    "# create a dictionary from sequence having each item as a pair\n",
    "my_dict = dict([('name', 'raju'), ('age', 30), ('car', 'BMW')])\n",
    "print(my_dict)\n",
    "print(type(my_dict))"
   ]
  },
  {
   "cell_type": "code",
   "execution_count": 7,
   "id": "b8e2668a",
   "metadata": {},
   "outputs": [
    {
     "name": "stdout",
     "output_type": "stream",
     "text": [
      "{'raju': 'name', 30: 'age'}\n"
     ]
    }
   ],
   "source": [
    "# create dictionary with mixed keys keys\n",
    "# first key is string and second is an integer\n",
    "my_dict = {'raju': 'name', 30 : 'age'}\n",
    "print(my_dict)"
   ]
  },
  {
   "cell_type": "code",
   "execution_count": 8,
   "id": "8ba8c36f",
   "metadata": {},
   "outputs": [
    {
     "name": "stdout",
     "output_type": "stream",
     "text": [
      "{'name': 'raju', 'values': [100, 200, 300]}\n"
     ]
    }
   ],
   "source": [
    "# create dictionary with value as a list\n",
    "my_dict = {'name': 'raju', 'values': [100, 200, 300]}\n",
    "print(my_dict)"
   ]
  },
  {
   "cell_type": "markdown",
   "id": "570c4d1c",
   "metadata": {},
   "source": [
    "## Empty Dictionary\n",
    "- When we create a dictionary without any elements inside the curly brackets then it will be an empty dictionary.\n",
    "## Note:\n",
    "\n",
    "- A dictionary value can be of any type, and duplicates are allowed in that.\n",
    "- Keys in the dictionary must be unique and of immutable types like string, numbers, or tuples.\n"
   ]
  },
  {
   "cell_type": "code",
   "execution_count": 9,
   "id": "47fc846e",
   "metadata": {},
   "outputs": [
    {
     "name": "stdout",
     "output_type": "stream",
     "text": [
      "<class 'dict'>\n"
     ]
    }
   ],
   "source": [
    "my_dict = {}\n",
    "print(type(my_dict))"
   ]
  },
  {
   "cell_type": "markdown",
   "id": "2d1231a7",
   "metadata": {},
   "source": [
    "## Accessing elements of a dictionary\n",
    "\n",
    "- There are two different ways to access the elements of a dictionary.\n",
    "\n",
    "- Retrieve value using the key name inside the [] square brackets\n",
    "- Retrieve value by passing key name as a parameter to the get() method of a dictionary."
   ]
  },
  {
   "cell_type": "code",
   "execution_count": 11,
   "id": "9db29161",
   "metadata": {},
   "outputs": [
    {
     "name": "stdout",
     "output_type": "stream",
     "text": [
      "raju\n"
     ]
    }
   ],
   "source": [
    "my_dict = {'name': 'raju', 'age': 30, 'car': 'BMW'}\n",
    "# access value using key name in []\n",
    "print(my_dict['name'])"
   ]
  },
  {
   "cell_type": "code",
   "execution_count": 13,
   "id": "2d66fd5d",
   "metadata": {},
   "outputs": [
    {
     "name": "stdout",
     "output_type": "stream",
     "text": [
      "BMW\n"
     ]
    }
   ],
   "source": [
    "#  get key value using key name in get()\n",
    "print(my_dict.get(\"car\"))"
   ]
  },
  {
   "cell_type": "markdown",
   "id": "e2099579",
   "metadata": {},
   "source": [
    "## Get all keys and values\n",
    "- Use the following dictionary methods to retrieve all key and values at once\n",
    "\n",
    "- keys()\tReturns the list of all keys present in the dictionary.\n",
    "- values()\tReturns the list of all values present in the dictionary\n",
    "- items()\tReturns all the items present in the dictionary. Each item will be inside a tuple as a key-value pair."
   ]
  },
  {
   "cell_type": "code",
   "execution_count": 15,
   "id": "9f45db41",
   "metadata": {},
   "outputs": [
    {
     "name": "stdout",
     "output_type": "stream",
     "text": [
      "dict_keys(['name', 'age', 'car'])\n",
      "<class 'dict_keys'>\n"
     ]
    }
   ],
   "source": [
    "my_dict = {'name': 'raju', 'age': 30, 'car': 'BMW'}\n",
    "## Get all keys\n",
    "print(my_dict.keys())\n",
    "print(type(my_dict.keys()))"
   ]
  },
  {
   "cell_type": "code",
   "execution_count": 17,
   "id": "a90fcf6d",
   "metadata": {},
   "outputs": [
    {
     "name": "stdout",
     "output_type": "stream",
     "text": [
      "dict_values(['raju', 30, 'BMW'])\n",
      "<class 'dict_values'>\n"
     ]
    }
   ],
   "source": [
    "# get all values\n",
    "print(my_dict.values())\n",
    "print(type(my_dict.values()))"
   ]
  },
  {
   "cell_type": "code",
   "execution_count": 18,
   "id": "e8d4ce79",
   "metadata": {},
   "outputs": [
    {
     "name": "stdout",
     "output_type": "stream",
     "text": [
      "dict_items([('name', 'raju'), ('age', 30), ('car', 'BMW')])\n",
      "<class 'dict_items'>\n"
     ]
    }
   ],
   "source": [
    "# Get all key-value pair\n",
    "print(my_dict.items())\n",
    "print(type(my_dict.items()))"
   ]
  },
  {
   "cell_type": "markdown",
   "id": "729d7337",
   "metadata": {},
   "source": [
    "## Iterating a dictionary\n",
    "- We can iterate through a dictionary using a for-loop and access the individual keys and their corresponding values.\n"
   ]
  },
  {
   "cell_type": "code",
   "execution_count": 20,
   "id": "4ec42428",
   "metadata": {},
   "outputs": [
    {
     "name": "stdout",
     "output_type": "stream",
     "text": [
      "key : value\n",
      "name : raju\n",
      "age : 30\n",
      "car : BMW\n"
     ]
    }
   ],
   "source": [
    "my_dict = {'name': 'raju', 'age': 30, 'car': 'BMW'}\n",
    "#Iterating a dictionary using for loop\n",
    "print('key', ':', 'value')\n",
    "for key in my_dict:\n",
    "    print(key, ':', my_dict[key])"
   ]
  },
  {
   "cell_type": "code",
   "execution_count": 22,
   "id": "e3ab4050",
   "metadata": {},
   "outputs": [
    {
     "name": "stdout",
     "output_type": "stream",
     "text": [
      "key : value\n",
      "name raju\n",
      "age 30\n",
      "car BMW\n"
     ]
    }
   ],
   "source": [
    "#using items() method\n",
    "print('key', ':', 'value')\n",
    "for key_value in my_dict.items():\n",
    "     # first is key, and second is value\n",
    "        print(key_value[0], key_value[1])\n",
    "    \n"
   ]
  },
  {
   "cell_type": "code",
   "execution_count": 23,
   "id": "c77bfbfe",
   "metadata": {},
   "outputs": [
    {
     "name": "stdout",
     "output_type": "stream",
     "text": [
      "3\n"
     ]
    }
   ],
   "source": [
    "## Find a length of a dictionary\n",
    "\n",
    "# In order to find the number of items in a dictionary, we can use the len() function.\n",
    "\n",
    "# count number of keys present in  a dictionary\n",
    "my_dict = {'name': 'raju', 'age': 30, 'car': 'BMW'}\n",
    "print(len(my_dict))"
   ]
  },
  {
   "cell_type": "markdown",
   "id": "bb9e0c37",
   "metadata": {},
   "source": [
    "## Adding items to the dictionary\n",
    "\n",
    "- We can add new items to the dictionary using the following two ways.\n",
    "\n",
    "- Using key-value assignment: Using a simple assignment statement where value can be assigned directly to the new key.\n",
    "- Using update() Method: In this method, the item passed inside the update() method will be inserted into the dictionary. The item can be another dictionary or any iterable like a tuple of key-value pairs."
   ]
  },
  {
   "cell_type": "code",
   "execution_count": 26,
   "id": "32ff4009",
   "metadata": {},
   "outputs": [
    {
     "name": "stdout",
     "output_type": "stream",
     "text": [
      "{'name': 'raju', 'age': 30, 'car': 'BMW', 'program': 'python', 'name2': 'kalyan'}\n"
     ]
    }
   ],
   "source": [
    "my_dict = {'name': 'raju', 'age': 30, 'car': 'BMW'}\n",
    "# update dictionary by adding 2 new keys\n",
    "my_dict['program'] = 'python'\n",
    "my_dict.update({'name2': 'kalyan'})\n",
    "print(my_dict)"
   ]
  },
  {
   "cell_type": "code",
   "execution_count": 28,
   "id": "96092ad7",
   "metadata": {},
   "outputs": [
    {
     "name": "stdout",
     "output_type": "stream",
     "text": [
      "{'name': 'raju', 'age': 30, 'car': 'BMW', 'program': 'python', 'name2': 'kalyan'}\n"
     ]
    }
   ],
   "source": [
    "#Note: We can also add more than one key using the update() method.\n",
    "my_dict = {'name': 'raju','age': 30, 'car': 'BMW'}\n",
    "my_dict.update([('program', 'python'), ('name2','kalyan')])\n",
    "print(my_dict)"
   ]
  },
  {
   "cell_type": "code",
   "execution_count": 32,
   "id": "b22ba94f",
   "metadata": {},
   "outputs": [
    {
     "name": "stdout",
     "output_type": "stream",
     "text": [
      "{'name': 'raju', 'age': 30, 'car': 'BMW', 'program': 'python', 'name2': 'kalyan', 'a': 100}\n"
     ]
    }
   ],
   "source": [
    "my_dict = {'name': 'raju','age': 30, 'car': 'BMW'}\n",
    "my_dict.update([('program', 'python'), ('name2','kalyan'), ('a', 100)])\n",
    "print(my_dict)"
   ]
  },
  {
   "cell_type": "markdown",
   "id": "f511433d",
   "metadata": {},
   "source": [
    "#Set default value to a key\n",
    "- Using the setdefault() method default value can be assigned to a key in the dictionary. In case the key doesn’t exist already, then the key will be inserted into the dictionary, and the value becomes the default value, and None will be inserted if a value is not mentioned.\n",
    "\n",
    "- In case the key exists, then it will return the value of a key."
   ]
  },
  {
   "cell_type": "code",
   "execution_count": 33,
   "id": "050c8fa7",
   "metadata": {},
   "outputs": [
    {
     "name": "stdout",
     "output_type": "stream",
     "text": [
      "{'name': 'raju', 'age': 30, 'car': 'BMW', 'state': 'TS'}\n"
     ]
    }
   ],
   "source": [
    "my_dict = {'name': 'raju', 'age': 30, 'car': 'BMW'}\n",
    "# set default value if key doesn't exists\n",
    "my_dict.setdefault('state', 'TS')\n",
    "print(my_dict)"
   ]
  },
  {
   "cell_type": "code",
   "execution_count": 35,
   "id": "1c0b073b",
   "metadata": {},
   "outputs": [
    {
     "name": "stdout",
     "output_type": "stream",
     "text": [
      "{'name': 'raju', 'age': 30, 'car': 'BMW', 'state': 'TS', 'zip': None}\n"
     ]
    }
   ],
   "source": [
    "# key doesn't exists and value not mentioned. default None\n",
    "my_dict.setdefault('zip')\n",
    "print(my_dict)"
   ]
  },
  {
   "cell_type": "code",
   "execution_count": 36,
   "id": "1482bbfd",
   "metadata": {},
   "outputs": [
    {
     "name": "stdout",
     "output_type": "stream",
     "text": [
      "{'name': 'raju', 'age': 30, 'car': 'BMW', 'state': 'TS', 'zip': None}\n"
     ]
    }
   ],
   "source": [
    "# key exists and value mentioned. doesn't  change value\n",
    "my_dict.setdefault('name', 'raju')\n",
    "print(my_dict)\n",
    "#Note: As seen in the above example the value of the setdefault() method has no effect on the ‘name’ as the key already exists."
   ]
  },
  {
   "cell_type": "code",
   "execution_count": 37,
   "id": "4fa935c6",
   "metadata": {},
   "outputs": [
    {
     "name": "stdout",
     "output_type": "stream",
     "text": [
      "name : raju\n",
      "age : 30\n",
      "car : BMW\n",
      "state : TS\n",
      "zip : None\n"
     ]
    }
   ],
   "source": [
    "for key, val in my_dict.items():\n",
    "    print(key, ':', val)"
   ]
  },
  {
   "cell_type": "markdown",
   "id": "3d8fda07",
   "metadata": {},
   "source": [
    "## Modify the values of the dictionary keys\n",
    "\n",
    "- We can modify the values of the existing dictionary keys using the following two ways.\n",
    "\n",
    "- Using key name: We can directly assign new values by using its key name. The key name will be the existing one and we can mention the new value.\n",
    "- Using update() method: We can use the update method by passing the key-value pair to change the value. Here the key name will be the existing one, and the value to be updated will be new."
   ]
  },
  {
   "cell_type": "code",
   "execution_count": 38,
   "id": "2ebc1b8c",
   "metadata": {},
   "outputs": [
    {
     "name": "stdout",
     "output_type": "stream",
     "text": [
      "Canada\n",
      "USA\n"
     ]
    }
   ],
   "source": [
    "person = {\"name\": \"Jessa\", \"country\": \"USA\"}\n",
    "\n",
    "# updating the country name\n",
    "person[\"country\"] = \"Canada\"\n",
    "# print the updated country\n",
    "print(person['country'])\n",
    "\n",
    "\n",
    "# updating the country name using update() method\n",
    "person.update({\"country\": \"USA\"})\n",
    "# print the updated country\n",
    "print(person['country'])\n"
   ]
  },
  {
   "cell_type": "markdown",
   "id": "df323235",
   "metadata": {},
   "source": [
    "## Removing items from the dictionary\n",
    "- There are several methods to remove items from the dictionary. Whether we want to remove the single item or the last inserted item or delete the entire dictionary, we can choose the method to be used.\n",
    "\n",
    "- pop(key[,d])\tReturn and removes the item with the key and return its value. If the key is not found, it raises KeyError.\n",
    "- popitem()\tReturn and removes the last inserted item from the dictionary. If the dictionary is empty, it raises KeyError.\n",
    "- del key\tThe del keyword will delete the item with the key that is passed\n",
    "- clear()\tRemoves all items from the dictionary. Empty the dictionary\n",
    "- del dict_name\tDelete the entire dictionary"
   ]
  },
  {
   "cell_type": "code",
   "execution_count": 41,
   "id": "558436e4",
   "metadata": {},
   "outputs": [
    {
     "name": "stdout",
     "output_type": "stream",
     "text": [
      "('car', 'BMW')\n",
      "{'name': 'raju', 'age': 30}\n"
     ]
    }
   ],
   "source": [
    "my_dict = {'name': 'raju', 'age': 30, 'car': 'BMW'}\n",
    "#remove last inserted item from dict\n",
    "print(my_dict.popitem())\n",
    "print(my_dict)"
   ]
  },
  {
   "cell_type": "code",
   "execution_count": 45,
   "id": "6b02f01e",
   "metadata": {},
   "outputs": [
    {
     "name": "stdout",
     "output_type": "stream",
     "text": [
      "BMW\n",
      "{'name': 'raju', 'age': 30}\n"
     ]
    }
   ],
   "source": [
    "# Remove key 'car' from the dictionary\n",
    "my_dict = {'name': 'raju', 'age': 30, 'car': 'BMW'}\n",
    "deleted_key = my_dict.pop('car')\n",
    "print(deleted_key)\n",
    "print(my_dict)"
   ]
  },
  {
   "cell_type": "code",
   "execution_count": 47,
   "id": "f00a4536",
   "metadata": {},
   "outputs": [
    {
     "name": "stdout",
     "output_type": "stream",
     "text": [
      "{'name': 'raju', 'car': 'BMW'}\n"
     ]
    }
   ],
   "source": [
    "# delete key 'age'\n",
    "my_dict = {'name': 'raju', 'age': 30, 'car': 'BMW'}\n",
    "del my_dict['age']\n",
    "\n",
    "print(my_dict)"
   ]
  },
  {
   "cell_type": "code",
   "execution_count": 48,
   "id": "455ea55a",
   "metadata": {},
   "outputs": [
    {
     "name": "stdout",
     "output_type": "stream",
     "text": [
      "{}\n"
     ]
    }
   ],
   "source": [
    "# remove all item (key-values) from dict\n",
    "my_dict = {'name': 'raju', 'age': 30, 'car': 'BMW'}\n",
    "my_dict.clear()\n",
    "print(my_dict)"
   ]
  },
  {
   "cell_type": "markdown",
   "id": "454538b9",
   "metadata": {},
   "source": [
    "## Checking if a key exists\n",
    "- In order to check whether a particular key exists in a dictionary, we can use the keys() method and in operator. We can use the in operator to check whether the key is present in the list of keys returned by the keys() method.\n",
    "\n",
    "- In this method, we can just check whether our key is present in the list of keys that will be returned from the keys() method."
   ]
  },
  {
   "cell_type": "code",
   "execution_count": 49,
   "id": "56501301",
   "metadata": {},
   "outputs": [
    {
     "name": "stdout",
     "output_type": "stream",
     "text": [
      "car name is  BMW\n"
     ]
    }
   ],
   "source": [
    "my_dict = {'name': 'raju', 'age': 30, 'car': 'BMW'}\n",
    "# Get the list of keys and check if 'car' key is present\n",
    "key_name = 'car'\n",
    "if key_name in my_dict.keys():\n",
    "    print('car name is ', my_dict['car'])\n",
    "else:\n",
    "    print('key not found')"
   ]
  },
  {
   "cell_type": "markdown",
   "id": "7a9791a4",
   "metadata": {},
   "source": [
    "## Join two dictionary\n",
    "- We can add two dictionaries using the update() method or unpacking arbitrary keywords operator **\n",
    "\n",
    "- Using update() method\n",
    "- In this method, the dictionary to be added will be passed as the argument to the update() method and the updated dictionary will have items of both the dictionaries.\n"
   ]
  },
  {
   "cell_type": "code",
   "execution_count": 52,
   "id": "fe7fae8d",
   "metadata": {},
   "outputs": [
    {
     "name": "stdout",
     "output_type": "stream",
     "text": [
      "{'name': 'raju', 'age': 30, 'car': 'BMW'}\n",
      "{'a': 100, 'b': 200}\n"
     ]
    }
   ],
   "source": [
    "dict1 = dict([('name', 'raju'), ('age', 30),('car', 'BMW')])\n",
    "dict2 = dict([('a', 100), ('b',200)])\n",
    "print(dict1)\n",
    "print(dict2)"
   ]
  },
  {
   "cell_type": "code",
   "execution_count": 54,
   "id": "7ca5f11f",
   "metadata": {},
   "outputs": [
    {
     "name": "stdout",
     "output_type": "stream",
     "text": [
      "{'name': 'raju', 'age': 30, 'car': 'BMW', 'a': 100, 'b': 200}\n"
     ]
    }
   ],
   "source": [
    "dict1.update(dict2)\n",
    "print(dict1)"
   ]
  },
  {
   "cell_type": "markdown",
   "id": "5604bfe1",
   "metadata": {},
   "source": [
    "## Using **kwargs to unpack\n",
    "\n",
    "- We can unpack any number of dictionary and add their contents to another dictionary using **kwargs. In this way, we can add multiple length arguments to one dictionary in a single statement."
   ]
  },
  {
   "cell_type": "code",
   "execution_count": 56,
   "id": "169d0058",
   "metadata": {},
   "outputs": [],
   "source": [
    "dict1 = dict([('name', 'raju'), ('age', 30),('car', 'BMW')])\n",
    "dict2 = dict([('a', 100), ('b',200)])\n",
    "dict3 = dict([('x', 777),('y', 999)])"
   ]
  },
  {
   "cell_type": "code",
   "execution_count": 58,
   "id": "27d3d8e3",
   "metadata": {},
   "outputs": [
    {
     "name": "stdout",
     "output_type": "stream",
     "text": [
      "{'name': 'raju', 'age': 30, 'car': 'BMW', 'a': 100, 'b': 200, 'x': 777, 'y': 999}\n"
     ]
    }
   ],
   "source": [
    "# join three dictionaries\n",
    "final_dict = {**dict1, **dict2, **dict3}\n",
    "print(final_dict)"
   ]
  },
  {
   "cell_type": "markdown",
   "id": "6edec7b3",
   "metadata": {},
   "source": [
    "## Join two dictionaries having few items in common\n",
    "- Note: One thing to note here is that if both the dictionaries have a common key then the first dictionary value will be overridden with the second dictionary value."
   ]
  },
  {
   "cell_type": "code",
   "execution_count": 60,
   "id": "00856cba",
   "metadata": {},
   "outputs": [
    {
     "name": "stdout",
     "output_type": "stream",
     "text": [
      "{'name': 'rajukalyan', 'age': 30, 'car': 'BMW', 'b': 200}\n"
     ]
    }
   ],
   "source": [
    "dict1 = dict([('name', 'raju'), ('age', 30),('car', 'BMW')])\n",
    "dict2 = dict([('name', 'rajukalyan'), ('b',200)])\n",
    "dict1.update(dict2)\n",
    "print(dict1)\n",
    "# As mentioned in the case of the same key in two dictionaries the latest one will override the old one."
   ]
  },
  {
   "cell_type": "markdown",
   "id": "5e1589b6",
   "metadata": {},
   "source": [
    "## Copy a Dictionary\n",
    "- We can create a copy of a dictionary using the following two ways\n",
    "\n",
    "- Using copy() method.\n",
    "- Using the dict() constructor"
   ]
  },
  {
   "cell_type": "code",
   "execution_count": 61,
   "id": "d6f9343e",
   "metadata": {},
   "outputs": [
    {
     "name": "stdout",
     "output_type": "stream",
     "text": [
      "{'name': 'raju', 'age': 30, 'car': 'BMW'}\n"
     ]
    }
   ],
   "source": [
    "dict1 = dict([('name', 'raju'), ('age', 30),('car', 'BMW')])\n",
    "dict2 = dict1.copy()\n",
    "print(dict2)"
   ]
  },
  {
   "cell_type": "code",
   "execution_count": 62,
   "id": "5a64af03",
   "metadata": {},
   "outputs": [
    {
     "name": "stdout",
     "output_type": "stream",
     "text": [
      "{'name': 'raju', 'age': 30, 'car': 'BMW'}\n"
     ]
    }
   ],
   "source": [
    "# Copy dictionary using dict() constructor\n",
    "dict3 = dict(dict1)\n",
    "print(dict3)"
   ]
  },
  {
   "cell_type": "markdown",
   "id": "299ab731",
   "metadata": {},
   "source": [
    "- Copy using the assignment operator\n",
    "- We can simply use the '=' operator to create a copy.\n",
    "\n",
    "- Note: When you set dict2 = dict1, you are making them refer to the same dict object, so when you modify one of them, all references associated with that object reflect the current state of the object. So don’t use the assignment operator to copy the dictionary instead use the copy() method."
   ]
  },
  {
   "cell_type": "code",
   "execution_count": 68,
   "id": "523a1220",
   "metadata": {},
   "outputs": [
    {
     "name": "stdout",
     "output_type": "stream",
     "text": [
      "{'name': 'raju', 'age': 30, 'car': 'BMW'}\n",
      "{'name': 'raju', 'age': 30, 'car': 'BMW', 'name2': 'kalyan'}\n",
      "{'name': 'raju', 'age': 30, 'car': 'BMW', 'name2': 'kalyan'}\n"
     ]
    }
   ],
   "source": [
    "dict1 = dict([('name', 'raju'), ('age', 30),('car', 'BMW')])\n",
    "dict2 = dict1\n",
    "print(dict2)\n",
    "# modify dict2\n",
    "dict2.update({'name2': 'kalyan'})\n",
    "print(dict2)\n",
    "print(dict1)"
   ]
  },
  {
   "cell_type": "markdown",
   "id": "6eafe8ee",
   "metadata": {},
   "source": [
    "## Nested dictionary\n",
    "- Nested dictionaries are dictionaries that have one or more dictionaries as their members. It is a collection of many dictionaries in one dictionary."
   ]
  },
  {
   "cell_type": "code",
   "execution_count": 77,
   "id": "10b5e4b8",
   "metadata": {},
   "outputs": [
    {
     "name": "stdout",
     "output_type": "stream",
     "text": [
      "details: {'name': 'raju', 'age': 30, 'car': 'BMW', 'address2': {'place': 'HYD', 'state': 'TS'}}\n",
      "place: HYD\n"
     ]
    }
   ],
   "source": [
    "# address dictionary to store person address\n",
    "address = {'place': 'HYD', 'state': 'TS'}\n",
    "my_dict = {'name': 'raju', 'age': 30, 'car': 'BMW', 'address2': address}\n",
    "print(\"details:\", my_dict)\n",
    "# Get nested dictionary key 'city'\n",
    "print(\"place:\", my_dict['address2']['place'])"
   ]
  },
  {
   "cell_type": "code",
   "execution_count": 81,
   "id": "be794a1b",
   "metadata": {},
   "outputs": [
    {
     "name": "stdout",
     "output_type": "stream",
     "text": [
      "Person details\n",
      "name : raju\n",
      "age : 30\n",
      "car : BMW\n",
      "my address\n",
      "place : HYD\n",
      "state : TS\n"
     ]
    }
   ],
   "source": [
    "# Iterating outer dictionary\n",
    "print(\"Person details\")\n",
    "for key, value in my_dict.items():\n",
    "    if key == 'address2':\n",
    "        # Iterating through nested dictionary\n",
    "        print(\"my address\")\n",
    "        for nested_key, nested_val in value.items():\n",
    "            print(nested_key, ':', nested_val)\n",
    "    else:\n",
    "        print(key, ':', value)"
   ]
  },
  {
   "cell_type": "markdown",
   "id": "7d958cf9",
   "metadata": {},
   "source": [
    "## Add multiple dictionaries inside a single dictionary\n",
    "\n",
    "- Let us see an example of creating multiple nested dictionaries inside a single dictionary.\n",
    "\n",
    "- In this example, we will create a separate dictionary for each student and in the end, we will add each student to the ‘class_777’ dictionary. So each student is nothing but a key in a ‘class_777’ dictionary.\n",
    "\n",
    "- In order to access the nested dictionary values, we have to pass the outer dictionary key, followed by the individual dictionary key.\n",
    "\n",
    "- For example, class_777['student3']['name']\n",
    "\n",
    "- We can iterate through the individual member dictionaries using nested for-loop with the outer loop for the outer dictionary and inner loop for retrieving the members of the collection."
   ]
  },
  {
   "cell_type": "code",
   "execution_count": 82,
   "id": "e2c4584b",
   "metadata": {},
   "outputs": [],
   "source": [
    "# each dictionary will store data of a single student\n",
    "dict1 = {'name': 'raju', 'marks': 97, \"place\": 'HYD'}\n",
    "dict2 = {'name': 'kalyan', 'marks': 98, 'place': 'madhapur'}\n",
    "dict3 = {'name': 'rajukalyan', 'marks': 99, 'place': 'hitechcity'}\n"
   ]
  },
  {
   "cell_type": "code",
   "execution_count": 84,
   "id": "cbe7bb89",
   "metadata": {},
   "outputs": [
    {
     "name": "stdout",
     "output_type": "stream",
     "text": [
      "{'student1': {'name': 'raju', 'marks': 97, 'place': 'HYD'}, 'student2': {'name': 'kalyan', 'marks': 98, 'place': 'madhapur'}, 'student3': {'name': 'rajukalyan', 'marks': 99, 'place': 'hitechcity'}}\n"
     ]
    }
   ],
   "source": [
    "# Outer dictionary to store all student dictionaries (nested dictionaries)\n",
    "class_777 = {'student1': dict1, 'student2': dict2, 'student3': dict3}\n",
    "print(class_777)"
   ]
  },
  {
   "cell_type": "code",
   "execution_count": 88,
   "id": "cff95c26",
   "metadata": {},
   "outputs": [
    {
     "name": "stdout",
     "output_type": "stream",
     "text": [
      "student3 name rajukalyan\n",
      "student3 marks 99\n"
     ]
    }
   ],
   "source": [
    "# Get student3's name and mark\n",
    "print(\"student3 name\", class_777['student3']['name'])\n",
    "print('student3 marks', class_777['student3']['marks'])"
   ]
  },
  {
   "cell_type": "code",
   "execution_count": 90,
   "id": "fa4a9c70",
   "metadata": {},
   "outputs": [
    {
     "name": "stdout",
     "output_type": "stream",
     "text": [
      "\n",
      "Class details\n",
      "\n",
      "student1\n",
      "name : raju\n",
      "marks : 97\n",
      "place : HYD\n",
      "student2\n",
      "name : kalyan\n",
      "marks : 98\n",
      "place : madhapur\n",
      "student3\n",
      "name : rajukalyan\n",
      "marks : 99\n",
      "place : hitechcity\n"
     ]
    }
   ],
   "source": [
    "print(\"\\nClass details\\n\")\n",
    "for key, value in class_777.items():\n",
    "     # Iterating through nested dictionary\n",
    "    # Display each student data\n",
    "    print(key)\n",
    "    for nested_key, nested_value in value.items():\n",
    "        print(nested_key, ':', nested_value)"
   ]
  },
  {
   "cell_type": "markdown",
   "id": "575df5e2",
   "metadata": {},
   "source": [
    "## Sort dictionary\n",
    "- The built-in method sorted() will sort the keys in the dictionary and returns a sorted list. In case we want to sort the values we can first get the values using the values() and then sort them."
   ]
  },
  {
   "cell_type": "code",
   "execution_count": 91,
   "id": "5c98b4e8",
   "metadata": {},
   "outputs": [
    {
     "name": "stdout",
     "output_type": "stream",
     "text": [
      "[('a', 99), ('b', 98), ('c', 97)]\n"
     ]
    }
   ],
   "source": [
    "my_dict = {'c':97, 'b': 98, 'a': 99}\n",
    "# sorting dictionary by keys\n",
    "print(sorted(my_dict.items()))"
   ]
  },
  {
   "cell_type": "code",
   "execution_count": 92,
   "id": "d2e38cba",
   "metadata": {},
   "outputs": [
    {
     "name": "stdout",
     "output_type": "stream",
     "text": [
      "['a', 'b', 'c']\n"
     ]
    }
   ],
   "source": [
    "#sort dict keys\n",
    "print(sorted(my_dict))"
   ]
  },
  {
   "cell_type": "code",
   "execution_count": 93,
   "id": "3ba0969f",
   "metadata": {},
   "outputs": [
    {
     "name": "stdout",
     "output_type": "stream",
     "text": [
      "[97, 98, 99]\n"
     ]
    }
   ],
   "source": [
    "# sort dictionary values\n",
    "print(sorted(my_dict.values()))"
   ]
  },
  {
   "cell_type": "markdown",
   "id": "9f05947f",
   "metadata": {},
   "source": [
    "## Dictionary comprehension\n",
    "- Dictionary comprehension is one way of creating the dictionary where the values of the key values are generated in a for-loop and we can filter the items to be added to the dictionary with an optional if condition. The general syntax is as follows\n",
    "\n",
    "- output_dictionary = {key : value for key,value in iterable [if key,value condition1]}"
   ]
  },
  {
   "cell_type": "code",
   "execution_count": 96,
   "id": "fda4af55",
   "metadata": {},
   "outputs": [
    {
     "name": "stdout",
     "output_type": "stream",
     "text": [
      "{2: 4, 4: 16, 10: 100}\n"
     ]
    }
   ],
   "source": [
    "# calculate the square of each even number from a list and store in dict\n",
    "num = [1,2,3,4,5,10]\n",
    "even_square = {x:x**2 for x in num if x%2==0}\n",
    "print(even_square)"
   ]
  },
  {
   "cell_type": "code",
   "execution_count": 100,
   "id": "9d9ec8d2",
   "metadata": {},
   "outputs": [
    {
     "name": "stdout",
     "output_type": "stream",
     "text": [
      "{1177: 'raju', 7020: 'kalyan', 5777: 'sunny'}\n"
     ]
    }
   ],
   "source": [
    "#We can even have two different iterables for the key and value and zip them inside the for loop to create a dictionary.\n",
    "\n",
    "telephone_book = [1177, 7020, 5777]\n",
    "persons = ['raju', 'kalyan', 'sunny']\n",
    "\n",
    "telephone_dict = {key:value for key, value in zip(telephone_book, persons)}\n",
    "print(telephone_dict)\n",
    "#In the above example, we are creating a telephone directory with separate tuples for the key which is the name, and the telephone number which is the value. We are zipping both the tuples together inside the for a loop"
   ]
  },
  {
   "cell_type": "markdown",
   "id": "e0350e31",
   "metadata": {},
   "source": [
    "## Python Built-in functions with dictionary\n",
    "- max() and min()\n",
    "- As the name suggests the max() and min() functions will return the keys with maximum and minimum values in a dictionary respectively. Only the keys are considered here not their corresponding values."
   ]
  },
  {
   "cell_type": "code",
   "execution_count": 102,
   "id": "5ff11dea",
   "metadata": {},
   "outputs": [
    {
     "name": "stdout",
     "output_type": "stream",
     "text": [
      "print max key 3\n",
      "print min key 1\n"
     ]
    }
   ],
   "source": [
    "my_dict = {'1': 'aaa', '2': 'bbb', '3': 'ccc'}\n",
    "print('print max key', max(my_dict))\n",
    "print('print min key', min(my_dict))"
   ]
  },
  {
   "cell_type": "markdown",
   "id": "1d421541",
   "metadata": {},
   "source": [
    "## all()\n",
    "- When the built-in function all() is used with the dictionary the return value will be true in the case of all – true keys and false in case one of the keys is false.\n",
    "\n",
    "- Few things to note here are\n",
    "\n",
    "- Only key values should be true\n",
    "- The key values can be either True or 1 or ‘0’\n",
    "- 0 and False in Key will return false\n",
    "- An empty dictionary will return true."
   ]
  },
  {
   "cell_type": "code",
   "execution_count": 103,
   "id": "3f93a100",
   "metadata": {},
   "outputs": [
    {
     "name": "stdout",
     "output_type": "stream",
     "text": [
      "All True Keys:: True\n",
      "One False Key False\n",
      "Empty Dictionary True\n",
      "With 0 in single quotes True\n"
     ]
    }
   ],
   "source": [
    "#dictionary with both 'true' keys\n",
    "dict1 = {1:'True',1:'False'}\n",
    "\n",
    "#dictionary with one false key\n",
    "dict2 = {0:'True',1:'False'}\n",
    "\n",
    "#empty dictionary\n",
    "dict3= {}\n",
    "\n",
    "#'0' is true actually\n",
    "dict4 = {'0':False}\n",
    "\n",
    "print('All True Keys::',all(dict1))\n",
    "print('One False Key',all(dict2))\n",
    "print('Empty Dictionary',all(dict3))\n",
    "print('With 0 in single quotes',all(dict4))"
   ]
  },
  {
   "cell_type": "markdown",
   "id": "88153394",
   "metadata": {},
   "source": [
    "## any()\n",
    "- any() function will return true if dictionary keys contain anyone false which could be 0 or false. Let us see what any() method will return for the above cases."
   ]
  },
  {
   "cell_type": "code",
   "execution_count": 104,
   "id": "36ff7e0d",
   "metadata": {},
   "outputs": [
    {
     "name": "stdout",
     "output_type": "stream",
     "text": [
      "All True Keys:: True\n",
      "One False Key :: True\n",
      "Empty Dictionary :: False\n",
      "With 0 in single quotes :: True\n",
      "all false ::  False\n"
     ]
    }
   ],
   "source": [
    "#dictionary with both 'true' keys\n",
    "dict1 = {1:'True',1:'False'}\n",
    "\n",
    "#dictionary with one false key\n",
    "dict2 = {0:'True',1:'False'}\n",
    "\n",
    "#empty dictionary\n",
    "dict3= {}\n",
    "\n",
    "#'0' is true actually\n",
    "dict4 = {'0':False}\n",
    "\n",
    "#all false\n",
    "dict5 = {0:False}\n",
    "\n",
    "print('All True Keys::',any(dict1))\n",
    "print('One False Key ::',any(dict2))\n",
    "print('Empty Dictionary ::',any(dict3))\n",
    "print('With 0 in single quotes ::',any(dict4))\n",
    "print('all false :: ',any(dict5))\n",
    "#As we can see this method returns true even if there is one true value and one thing to note here is that it returns false for empty dictionary and all false dictionary."
   ]
  },
  {
   "cell_type": "markdown",
   "id": "837cb1e8",
   "metadata": {},
   "source": [
    "## When to use dictionaries?\n",
    "- Dictionaries are items stored in Key-Value pairs that actually use the mapping format to actually store the values. It uses hashing internally for this. For retrieving a value with its key, the time taken will be very less as O(1).\n",
    "\n",
    "- For example, consider the phone lookup where it is very easy and fast to find the phone number (value) when we know the name (key) associated with it.\n",
    "\n",
    "- So to associate values with keys in a more optimized format and to retrieve them efficiently using that key, later on, dictionaries could be used."
   ]
  },
  {
   "cell_type": "code",
   "execution_count": null,
   "id": "5ca01d21",
   "metadata": {},
   "outputs": [],
   "source": []
  },
  {
   "cell_type": "code",
   "execution_count": null,
   "id": "2e4f1591",
   "metadata": {},
   "outputs": [],
   "source": []
  },
  {
   "cell_type": "code",
   "execution_count": null,
   "id": "ab1ec284",
   "metadata": {},
   "outputs": [],
   "source": []
  }
 ],
 "metadata": {
  "kernelspec": {
   "display_name": "Python 3 (ipykernel)",
   "language": "python",
   "name": "python3"
  },
  "language_info": {
   "codemirror_mode": {
    "name": "ipython",
    "version": 3
   },
   "file_extension": ".py",
   "mimetype": "text/x-python",
   "name": "python",
   "nbconvert_exporter": "python",
   "pygments_lexer": "ipython3",
   "version": "3.9.12"
  }
 },
 "nbformat": 4,
 "nbformat_minor": 5
}
