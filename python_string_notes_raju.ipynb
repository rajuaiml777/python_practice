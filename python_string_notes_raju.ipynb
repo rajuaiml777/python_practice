{
 "cells": [
  {
   "cell_type": "markdown",
   "id": "52b36f8e",
   "metadata": {},
   "source": [
    "## Strings\n",
    "- Strings in python are surrounded by either single quotation marks, or double quotation marks.\n",
    "\n",
    "- 'hello' is the same as \"hello\".\n",
    "\n",
    "- You can display a string literal with the print() function:\n",
    "\n",
    "\n",
    "- In Python, Strings are arrays of bytes representing Unicode characters. However, Python does not have a character data type, a single character is simply a string with a length of 1. Square brackets can be used to access elements of the string."
   ]
  },
  {
   "cell_type": "markdown",
   "id": "f50f6a1e",
   "metadata": {},
   "source": [
    "## Creating a String\n",
    "- Strings in Python can be created using single quotes or double quotes or even triple quotes."
   ]
  },
  {
   "cell_type": "code",
   "execution_count": 3,
   "id": "89b852c6",
   "metadata": {},
   "outputs": [
    {
     "name": "stdout",
     "output_type": "stream",
     "text": [
      "print string with single quotes\n",
      "raju kalyan\n",
      "<class 'str'>\n"
     ]
    }
   ],
   "source": [
    "#creating a sting with sinle quotes\n",
    "my_str = 'raju kalyan'\n",
    "print(\"print string with single quotes\")\n",
    "print(my_str)\n",
    "print(type(my_str))"
   ]
  },
  {
   "cell_type": "code",
   "execution_count": 5,
   "id": "e65d9740",
   "metadata": {},
   "outputs": [
    {
     "name": "stdout",
     "output_type": "stream",
     "text": [
      "print string with double quotes\n",
      "raju kalyan\n"
     ]
    }
   ],
   "source": [
    "#creating string with double quotes\n",
    "my_str = \"raju kalyan\"\n",
    "print('print string with double quotes')\n",
    "print(my_str)"
   ]
  },
  {
   "cell_type": "code",
   "execution_count": 7,
   "id": "eaa520f9",
   "metadata": {},
   "outputs": [
    {
     "name": "stdout",
     "output_type": "stream",
     "text": [
      "print string with tripple quotes\n",
      "raju kalyan\n",
      "<class 'str'>\n"
     ]
    }
   ],
   "source": [
    "#creating string with tripple quotes\n",
    "my_str = '''raju kalyan'''\n",
    "print('print string with tripple quotes')\n",
    "print(my_str)\n",
    "print(type(my_str))"
   ]
  },
  {
   "cell_type": "code",
   "execution_count": 8,
   "id": "d31d6b75",
   "metadata": {},
   "outputs": [
    {
     "name": "stdout",
     "output_type": "stream",
     "text": [
      "raju\n"
     ]
    }
   ],
   "source": [
    "#Assign String to a Variable\n",
    "a = \"raju\"\n",
    "print(a)"
   ]
  },
  {
   "cell_type": "code",
   "execution_count": 10,
   "id": "eb45040c",
   "metadata": {},
   "outputs": [
    {
     "name": "stdout",
     "output_type": "stream",
     "text": [
      "raju Kalyan\n"
     ]
    },
    {
     "data": {
      "text/plain": [
       "str"
      ]
     },
     "execution_count": 10,
     "metadata": {},
     "output_type": "execute_result"
    }
   ],
   "source": [
    "#Multiline Strings\n",
    "#You can assign a multiline string to a variable by using three quotes:\n",
    "a = '''raju Kalyan'''#using 3 sinle quotes\n",
    "print(a)\n",
    "type(a)"
   ]
  },
  {
   "cell_type": "code",
   "execution_count": 11,
   "id": "ff0f4d12",
   "metadata": {},
   "outputs": [
    {
     "name": "stdout",
     "output_type": "stream",
     "text": [
      "raju\n"
     ]
    },
    {
     "data": {
      "text/plain": [
       "str"
      ]
     },
     "execution_count": 11,
     "metadata": {},
     "output_type": "execute_result"
    }
   ],
   "source": [
    "#you can use three double quotes \n",
    "a = \"\"\"raju\"\"\"\n",
    "print(a)\n",
    "type(a)"
   ]
  },
  {
   "cell_type": "markdown",
   "id": "64a5939d",
   "metadata": {},
   "source": [
    "## Looping Through a String\n",
    "- Since strings are arrays, we can loop through the characters in a string, with a for loop."
   ]
  },
  {
   "cell_type": "code",
   "execution_count": 13,
   "id": "7506d4e7",
   "metadata": {},
   "outputs": [
    {
     "name": "stdout",
     "output_type": "stream",
     "text": [
      "r\n",
      "a\n",
      "j\n",
      "u\n",
      " \n",
      "K\n",
      "a\n",
      "l\n",
      "y\n",
      "a\n",
      "n\n"
     ]
    }
   ],
   "source": [
    "for i in \"raju Kalyan\":\n",
    "    print(i)"
   ]
  },
  {
   "cell_type": "code",
   "execution_count": 14,
   "id": "7bfa86f2",
   "metadata": {},
   "outputs": [
    {
     "name": "stdout",
     "output_type": "stream",
     "text": [
      "4\n"
     ]
    }
   ],
   "source": [
    "##String Length\n",
    "#To get the length of a string, use the len() function.\n",
    "a = 'raju'\n",
    "print(len(a))"
   ]
  },
  {
   "cell_type": "code",
   "execution_count": 15,
   "id": "a93e5d1a",
   "metadata": {},
   "outputs": [
    {
     "name": "stdout",
     "output_type": "stream",
     "text": [
      "True\n"
     ]
    }
   ],
   "source": [
    "#Check String\n",
    "#To check if a certain phrase or character is present in a string, we can use the keyword in.\n",
    "\n",
    "txt = 'python4 is developed by kalyan'\n",
    "print('kalyan' in txt)"
   ]
  },
  {
   "cell_type": "code",
   "execution_count": 16,
   "id": "9fc4cfab",
   "metadata": {},
   "outputs": [
    {
     "name": "stdout",
     "output_type": "stream",
     "text": [
      "yes kalyan is present\n"
     ]
    }
   ],
   "source": [
    "#Use it in an if statement:\n",
    "txt = 'python4 is developed by kalyan'\n",
    "if 'kalyan' in txt:\n",
    "    print('yes kalyan is present')"
   ]
  },
  {
   "cell_type": "code",
   "execution_count": 17,
   "id": "02f614eb",
   "metadata": {},
   "outputs": [],
   "source": [
    "#Use it in an if statement:\n",
    "txt = 'python4 is developed by kalyan'\n",
    "if 'kalyan2' in txt:\n",
    "    print('yes kalyan is present')"
   ]
  },
  {
   "cell_type": "code",
   "execution_count": 18,
   "id": "6cf90e8e",
   "metadata": {},
   "outputs": [
    {
     "name": "stdout",
     "output_type": "stream",
     "text": [
      "True\n"
     ]
    }
   ],
   "source": [
    "#Check if NOT\n",
    "#To check if a certain phrase or character is NOT present in a string, we can use the keyword not in.\n",
    "txt = 'python4 is developed by kalyan'\n",
    "print('kalyan2' not in txt)\n"
   ]
  },
  {
   "cell_type": "code",
   "execution_count": 20,
   "id": "00600f01",
   "metadata": {},
   "outputs": [
    {
     "name": "stdout",
     "output_type": "stream",
     "text": [
      "False\n"
     ]
    }
   ],
   "source": [
    "txt = 'python4 is developed by kalyan'\n",
    "print('kalyan' not in txt)"
   ]
  },
  {
   "cell_type": "code",
   "execution_count": 22,
   "id": "f44b1d0e",
   "metadata": {},
   "outputs": [
    {
     "name": "stdout",
     "output_type": "stream",
     "text": [
      "yes kalyan2 is not present\n"
     ]
    }
   ],
   "source": [
    "#Use it in an if statement:\n",
    "txt = 'python4 is developed by kalyan'\n",
    "if 'kalyan2' not in txt:\n",
    "    print('yes kalyan2 is not present')"
   ]
  },
  {
   "cell_type": "code",
   "execution_count": 1,
   "id": "7640347c",
   "metadata": {},
   "outputs": [],
   "source": [
    "txt = 'python4 is developed by kalyan'\n",
    "if 'kalyan' not in txt:\n",
    "    print('yes kalyan is not present')"
   ]
  },
  {
   "cell_type": "markdown",
   "id": "95a41347",
   "metadata": {},
   "source": [
    "## Accessing characters in Python\n",
    "- In Python, individual characters of a String can be accessed by using the method of Indexing. \n",
    "- Indexing allows negative address references to access characters from the back of the String, \n",
    "- e.g. -1 refers to the last character, -2 refers to the second last character, and so on. \n",
    "\n",
    "- While accessing an index out of the range will cause an IndexError. \n",
    "- Only Integers are allowed to be passed as an index, float or other types that will cause a TypeError. "
   ]
  },
  {
   "cell_type": "code",
   "execution_count": 28,
   "id": "c83f2cd0",
   "metadata": {},
   "outputs": [
    {
     "name": "stdout",
     "output_type": "stream",
     "text": [
      "\n",
      " the 1st char is:\n",
      "r\n"
     ]
    }
   ],
   "source": [
    "my_str = 'rajukalyan'\n",
    "#print 1st character of the string\n",
    "print(\"\\n the 1st char is:\")\n",
    "print(my_str[0])"
   ]
  },
  {
   "cell_type": "code",
   "execution_count": 27,
   "id": "1af65990",
   "metadata": {},
   "outputs": [
    {
     "name": "stdout",
     "output_type": "stream",
     "text": [
      "\n",
      " The last character is:\n",
      "n\n"
     ]
    }
   ],
   "source": [
    "#print last character of the string\n",
    "print(\"\\n The last character is:\")\n",
    "print(my_str[-1])"
   ]
  },
  {
   "cell_type": "markdown",
   "id": "60c2acbc",
   "metadata": {},
   "source": [
    "## Slicing\n",
    "- You can return a range of characters by using the slice syntax.\n",
    "\n",
    "- Specify the start index and the end index, separated by a colon, to return a part of the string."
   ]
  },
  {
   "cell_type": "code",
   "execution_count": 31,
   "id": "0598337d",
   "metadata": {},
   "outputs": [
    {
     "name": "stdout",
     "output_type": "stream",
     "text": [
      "printing 2nd to 7th char\n",
      "jukal\n"
     ]
    }
   ],
   "source": [
    "my_str ='rajukalyan'\n",
    "print(\"printing 2nd to 7th char\")\n",
    "print(my_str[2:7])"
   ]
  },
  {
   "cell_type": "code",
   "execution_count": 32,
   "id": "389380e4",
   "metadata": {},
   "outputs": [
    {
     "name": "stdout",
     "output_type": "stream",
     "text": [
      "ukaly\n"
     ]
    }
   ],
   "source": [
    "#printing char between 3rd to 2nd last char\n",
    "print(my_str[3:-2])"
   ]
  },
  {
   "cell_type": "code",
   "execution_count": 33,
   "id": "1da94148",
   "metadata": {},
   "outputs": [
    {
     "name": "stdout",
     "output_type": "stream",
     "text": [
      "rajuk\n"
     ]
    }
   ],
   "source": [
    "#get char from starting position to 5th\n",
    "print(my_str[:5])"
   ]
  },
  {
   "cell_type": "code",
   "execution_count": 34,
   "id": "97af4f48",
   "metadata": {},
   "outputs": [
    {
     "name": "stdout",
     "output_type": "stream",
     "text": [
      "jukalyan\n"
     ]
    }
   ],
   "source": [
    "#get the char from 2nd position to end\n",
    "print(my_str[2:])"
   ]
  },
  {
   "cell_type": "code",
   "execution_count": 35,
   "id": "7d5f7ad1",
   "metadata": {},
   "outputs": [
    {
     "name": "stdout",
     "output_type": "stream",
     "text": [
      "aly\n"
     ]
    }
   ],
   "source": [
    "#Negative Indexing\n",
    "#Use negative indexes to start the slice from the end of the string:\n",
    "print(my_str[-5:-2])"
   ]
  },
  {
   "cell_type": "markdown",
   "id": "6854b07f",
   "metadata": {},
   "source": [
    "## Deleting/Updating from a String\n",
    "- In Python, Updation or deletion of characters from a String is not allowed. This will cause an error because \n",
    "- item assignment or item deletion from a String is not supported. Although deletion of the entire String is \n",
    "- possible with the use of a built-in del keyword. This is because Strings are immutable, hence elements of a\n",
    "- String cannot be changed once it has been assigned. Only new strings can be reassigned to the same name. "
   ]
  },
  {
   "cell_type": "code",
   "execution_count": 36,
   "id": "246ae2e3",
   "metadata": {},
   "outputs": [
    {
     "ename": "TypeError",
     "evalue": "'str' object does not support item assignment",
     "output_type": "error",
     "traceback": [
      "\u001b[1;31m---------------------------------------------------------------------------\u001b[0m",
      "\u001b[1;31mTypeError\u001b[0m                                 Traceback (most recent call last)",
      "\u001b[1;32mC:\\Users\\RAJU~1.GUL\\AppData\\Local\\Temp/ipykernel_16980/3385884293.py\u001b[0m in \u001b[0;36m<module>\u001b[1;34m\u001b[0m\n\u001b[0;32m      1\u001b[0m \u001b[0mmy_str\u001b[0m \u001b[1;33m=\u001b[0m \u001b[1;34m'raju'\u001b[0m\u001b[1;33m\u001b[0m\u001b[1;33m\u001b[0m\u001b[0m\n\u001b[0;32m      2\u001b[0m \u001b[1;31m#updating the char of the string\u001b[0m\u001b[1;33m\u001b[0m\u001b[1;33m\u001b[0m\u001b[0m\n\u001b[1;32m----> 3\u001b[1;33m \u001b[0mmy_str\u001b[0m\u001b[1;33m[\u001b[0m\u001b[1;36m2\u001b[0m\u001b[1;33m]\u001b[0m \u001b[1;33m=\u001b[0m \u001b[1;34m'g'\u001b[0m\u001b[1;33m\u001b[0m\u001b[1;33m\u001b[0m\u001b[0m\n\u001b[0m",
      "\u001b[1;31mTypeError\u001b[0m: 'str' object does not support item assignment"
     ]
    }
   ],
   "source": [
    "my_str = 'raju'\n",
    "#updating the char of the string\n",
    "my_str[2] = 'g'"
   ]
  },
  {
   "cell_type": "code",
   "execution_count": 37,
   "id": "463e0089",
   "metadata": {},
   "outputs": [
    {
     "name": "stdout",
     "output_type": "stream",
     "text": [
      "raju\n",
      "kalayan\n"
     ]
    }
   ],
   "source": [
    "#Updating Entire String:\n",
    "my_str1 = 'raju'\n",
    "print(my_str1)\n",
    "my_str1 = 'kalayan'\n",
    "print(my_str1)"
   ]
  },
  {
   "cell_type": "code",
   "execution_count": 38,
   "id": "fdbfa43a",
   "metadata": {},
   "outputs": [
    {
     "ename": "TypeError",
     "evalue": "'str' object doesn't support item deletion",
     "output_type": "error",
     "traceback": [
      "\u001b[1;31m---------------------------------------------------------------------------\u001b[0m",
      "\u001b[1;31mTypeError\u001b[0m                                 Traceback (most recent call last)",
      "\u001b[1;32mC:\\Users\\RAJU~1.GUL\\AppData\\Local\\Temp/ipykernel_16980/1148231225.py\u001b[0m in \u001b[0;36m<module>\u001b[1;34m\u001b[0m\n\u001b[0;32m      3\u001b[0m \u001b[1;33m\u001b[0m\u001b[0m\n\u001b[0;32m      4\u001b[0m \u001b[1;31m#deleting char of the string\u001b[0m\u001b[1;33m\u001b[0m\u001b[1;33m\u001b[0m\u001b[0m\n\u001b[1;32m----> 5\u001b[1;33m \u001b[1;32mdel\u001b[0m \u001b[0mmy_str\u001b[0m\u001b[1;33m[\u001b[0m\u001b[1;36m2\u001b[0m\u001b[1;33m]\u001b[0m\u001b[1;33m\u001b[0m\u001b[1;33m\u001b[0m\u001b[0m\n\u001b[0m",
      "\u001b[1;31mTypeError\u001b[0m: 'str' object doesn't support item deletion"
     ]
    }
   ],
   "source": [
    "# Deletion of a character: \n",
    "my_str = 'raju'\n",
    "\n",
    "#deleting char of the string\n",
    "del my_str[2]"
   ]
  },
  {
   "cell_type": "markdown",
   "id": "2967fb47",
   "metadata": {},
   "source": [
    "## Deleting Entire String:\n",
    "- Deletion of the entire string is possible with the use of del keyword. Further, \n",
    "- if we try to print the string, this will produce an error because String is deleted and is unavailable to be printed."
   ]
  },
  {
   "cell_type": "code",
   "execution_count": 40,
   "id": "71f0475a",
   "metadata": {},
   "outputs": [
    {
     "name": "stdout",
     "output_type": "stream",
     "text": [
      "raju\n"
     ]
    },
    {
     "ename": "NameError",
     "evalue": "name 'my_str' is not defined",
     "output_type": "error",
     "traceback": [
      "\u001b[1;31m---------------------------------------------------------------------------\u001b[0m",
      "\u001b[1;31mNameError\u001b[0m                                 Traceback (most recent call last)",
      "\u001b[1;32mC:\\Users\\RAJU~1.GUL\\AppData\\Local\\Temp/ipykernel_16980/723681509.py\u001b[0m in \u001b[0;36m<module>\u001b[1;34m\u001b[0m\n\u001b[0;32m      2\u001b[0m \u001b[0mprint\u001b[0m\u001b[1;33m(\u001b[0m\u001b[0mmy_str\u001b[0m\u001b[1;33m)\u001b[0m\u001b[1;33m\u001b[0m\u001b[1;33m\u001b[0m\u001b[0m\n\u001b[0;32m      3\u001b[0m \u001b[1;32mdel\u001b[0m \u001b[0mmy_str\u001b[0m\u001b[1;33m\u001b[0m\u001b[1;33m\u001b[0m\u001b[0m\n\u001b[1;32m----> 4\u001b[1;33m \u001b[0mprint\u001b[0m\u001b[1;33m(\u001b[0m\u001b[0mmy_str\u001b[0m\u001b[1;33m)\u001b[0m\u001b[1;33m\u001b[0m\u001b[1;33m\u001b[0m\u001b[0m\n\u001b[0m",
      "\u001b[1;31mNameError\u001b[0m: name 'my_str' is not defined"
     ]
    }
   ],
   "source": [
    "my_str = 'raju'\n",
    "print(my_str)\n",
    "del my_str\n",
    "print(my_str)"
   ]
  },
  {
   "cell_type": "markdown",
   "id": "d836eb42",
   "metadata": {},
   "source": [
    "## Escape Sequencing in Python\n",
    "- While printing Strings with single and double quotes in it causes SyntaxError \n",
    "- because String already contains Single and Double Quotes and hence cannot be printed with the use of either of these. \n",
    "- Hence, to print such a String either Triple Quotes are used or Escape sequences are used to print such Strings. \n",
    "\n",
    "- Escape sequences start with a backslash and can be interpreted differently. \n",
    "- If single quotes are used to represent a string, \n",
    "- then all the single quotes present in the string must be escaped and same is done for Double Quotes. "
   ]
  },
  {
   "cell_type": "code",
   "execution_count": 43,
   "id": "692ed7be",
   "metadata": {},
   "outputs": [
    {
     "name": "stdout",
     "output_type": "stream",
     "text": [
      "I'm \"raju\"\n"
     ]
    }
   ],
   "source": [
    "#Escaping single quotes\n",
    "my_str = 'I\\'m \"raju\"'\n",
    "print(my_str)"
   ]
  },
  {
   "cell_type": "code",
   "execution_count": 45,
   "id": "891bc8c0",
   "metadata": {},
   "outputs": [
    {
     "name": "stdout",
     "output_type": "stream",
     "text": [
      "I'm raju \"kalyan\"\n"
     ]
    }
   ],
   "source": [
    "#Escaping double quotes\n",
    "my_str = \"I'm raju \\\"kalyan\\\"\"\n",
    "print(my_str)"
   ]
  },
  {
   "cell_type": "code",
   "execution_count": 46,
   "id": "bf5b28a9",
   "metadata": {},
   "outputs": [
    {
     "name": "stdout",
     "output_type": "stream",
     "text": [
      "C:\\Python\\raju\\\n"
     ]
    }
   ],
   "source": [
    "#printing the path use o escape sequence\n",
    "path = \"C:\\\\Python\\\\raju\\\\\"\n",
    "print(path)"
   ]
  },
  {
   "cell_type": "code",
   "execution_count": 56,
   "id": "d41c2f3f",
   "metadata": {},
   "outputs": [
    {
     "name": "stdout",
     "output_type": "stream",
     "text": [
      "E:\\RAJU\\resumes\n"
     ]
    }
   ],
   "source": [
    "#To ignore the escape sequences in a String, r or R is used, \n",
    "#this implies that the string is a raw string and escape sequences inside it are to be ignored.\n",
    "\n",
    "path = r\"E:\\RAJU\\resumes\"\n",
    "print(path)"
   ]
  },
  {
   "cell_type": "code",
   "execution_count": 58,
   "id": "720a8d95",
   "metadata": {},
   "outputs": [
    {
     "name": "stdout",
     "output_type": "stream",
     "text": [
      "E:\\RAJU\\resumes\n"
     ]
    }
   ],
   "source": [
    "path = R\"E:\\RAJU\\resumes\"\n",
    "print(path)"
   ]
  },
  {
   "cell_type": "markdown",
   "id": "9a3e2c4b",
   "metadata": {},
   "source": [
    "## Formatting of Strings\n",
    "- Strings in Python can be formatted with the use of format() method \n",
    "- which is a very versatile and powerful tool for formatting Strings. \n",
    "- Format method in String contains curly braces {} as placeholders which can hold arguments according to position\n",
    "- or keyword to specify the order."
   ]
  },
  {
   "cell_type": "code",
   "execution_count": 64,
   "id": "90964733",
   "metadata": {},
   "outputs": [
    {
     "name": "stdout",
     "output_type": "stream",
     "text": [
      "raju kalyan python\n"
     ]
    }
   ],
   "source": [
    "my_str = \"{} {} {}\".format('raju', 'kalyan', 'python')\n",
    "print(my_str)"
   ]
  },
  {
   "cell_type": "code",
   "execution_count": 66,
   "id": "3f1a2c68",
   "metadata": {},
   "outputs": [
    {
     "name": "stdout",
     "output_type": "stream",
     "text": [
      "raju kalyan python\n"
     ]
    }
   ],
   "source": [
    "my_str = \"{0} {1} {2}\".format('raju', 'kalyan', 'python')\n",
    "print(my_str)"
   ]
  },
  {
   "cell_type": "code",
   "execution_count": 68,
   "id": "d65e4c6a",
   "metadata": {},
   "outputs": [
    {
     "name": "stdout",
     "output_type": "stream",
     "text": [
      "raju kalyan python\n"
     ]
    }
   ],
   "source": [
    "my_str = \"{a} {b} {c}\".format(a='raju', b = 'kalyan', c = 'python')\n",
    "print(my_str)"
   ]
  },
  {
   "cell_type": "code",
   "execution_count": 71,
   "id": "6f220492",
   "metadata": {},
   "outputs": [
    {
     "name": "stdout",
     "output_type": "stream",
     "text": [
      "0.14\n"
     ]
    }
   ],
   "source": [
    "## Rounding off Integers\n",
    "my_str = \"{0:.2f}\".format(1/7)\n",
    "print(my_str)"
   ]
  },
  {
   "cell_type": "code",
   "execution_count": 72,
   "id": "dfc96552",
   "metadata": {},
   "outputs": [
    {
     "name": "stdout",
     "output_type": "stream",
     "text": [
      "0.143\n"
     ]
    }
   ],
   "source": [
    "## Rounding off Integers\n",
    "my_str = \"{0:.3f}\".format(1/7)\n",
    "print(my_str)"
   ]
  },
  {
   "cell_type": "code",
   "execution_count": 73,
   "id": "3f6b7a36",
   "metadata": {},
   "outputs": [
    {
     "name": "stdout",
     "output_type": "stream",
     "text": [
      "\n",
      "Left, center and right alignment with Formatting: \n",
      "|raju      |  kalyan  |    python|\n"
     ]
    }
   ],
   "source": [
    "#A string can be left() or center(^) justified with the use of format specifiers, separated by a colon(:).  \n",
    "\n",
    "\n",
    "# String alignment\n",
    "my_str = \"|{:<10}|{:^10}|{:>10}|\".format('raju', 'kalyan', 'python')\n",
    "print(\"\\nLeft, center and right alignment with Formatting: \")\n",
    "print(my_str)"
   ]
  },
  {
   "cell_type": "code",
   "execution_count": 74,
   "id": "b51a1b1f",
   "metadata": {},
   "outputs": [
    {
     "name": "stdout",
     "output_type": "stream",
     "text": [
      "|      raju |   kalyan   | python    \n"
     ]
    }
   ],
   "source": [
    "my_str = \"|{:>10} | {:^10} | {:<10}\".format(\"raju\", 'kalyan','python')\n",
    "print(my_str)"
   ]
  },
  {
   "cell_type": "code",
   "execution_count": 75,
   "id": "349f8c23",
   "metadata": {},
   "outputs": [
    {
     "name": "stdout",
     "output_type": "stream",
     "text": [
      "\n",
      "   rajukalyan    was founded in 2009!\n"
     ]
    }
   ],
   "source": [
    "# To demonstrate aligning of spaces\n",
    "my_str = \"\\n{0:^16} was founded in {1:<4}!\".format(\"rajukalyan\", 2009)\n",
    "print(my_str)"
   ]
  },
  {
   "cell_type": "code",
   "execution_count": 83,
   "id": "4f781ae3",
   "metadata": {},
   "outputs": [
    {
     "name": "stdout",
     "output_type": "stream",
     "text": [
      "the value of integer1 is 12.79\n"
     ]
    }
   ],
   "source": [
    "#Old style formatting was done without the use of format method by using % operator \n",
    "\n",
    "myint = 12.793975\n",
    "print(\"the value of integer1 is %3.2f\" %myint)"
   ]
  },
  {
   "cell_type": "code",
   "execution_count": 84,
   "id": "18a9a7cd",
   "metadata": {},
   "outputs": [
    {
     "name": "stdout",
     "output_type": "stream",
     "text": [
      "the value of integer1 is 12.7940\n"
     ]
    }
   ],
   "source": [
    "print(\"the value of integer1 is %3.4f\" %myint)"
   ]
  },
  {
   "cell_type": "code",
   "execution_count": 85,
   "id": "c00d34ee",
   "metadata": {},
   "outputs": [
    {
     "name": "stdout",
     "output_type": "stream",
     "text": [
      "My name is raju, and I am 30\n"
     ]
    }
   ],
   "source": [
    "age = 30\n",
    "txt = \"My name is raju, and I am {}\"\n",
    "print(txt.format(age))"
   ]
  },
  {
   "cell_type": "code",
   "execution_count": 86,
   "id": "3496165c",
   "metadata": {},
   "outputs": [
    {
     "name": "stdout",
     "output_type": "stream",
     "text": [
      "my name is raju and my age is 30\n"
     ]
    }
   ],
   "source": [
    "name = 'raju'\n",
    "age = 30\n",
    "print(f'my name is {name} and my age is {age}')"
   ]
  },
  {
   "cell_type": "code",
   "execution_count": 88,
   "id": "6f84291f",
   "metadata": {},
   "outputs": [
    {
     "name": "stdout",
     "output_type": "stream",
     "text": [
      "my name is raju and my age is 30\n"
     ]
    }
   ],
   "source": [
    "print('my name is {} and my age is {}'.format(name, age))"
   ]
  },
  {
   "cell_type": "code",
   "execution_count": 89,
   "id": "a537dfd0",
   "metadata": {},
   "outputs": [
    {
     "name": "stdout",
     "output_type": "stream",
     "text": [
      "I want 3 pieces of item 567 for 49.95 dollars.\n"
     ]
    }
   ],
   "source": [
    "quantity = 3\n",
    "itemno = 567\n",
    "price = 49.95\n",
    "myorder = \"I want {} pieces of item {} for {} dollars.\"\n",
    "print(myorder.format(quantity, itemno, price))"
   ]
  },
  {
   "cell_type": "markdown",
   "id": "6df540b1",
   "metadata": {},
   "source": [
    "## String Methods\n",
    "- capitalize()\n",
    "- In Python, the capitalize() method returns a copy of the original string and converts the first character of the string \n",
    "- to a capital (uppercase) letter while making all other characters in the string lowercase letters.\n",
    "\n"
   ]
  },
  {
   "cell_type": "code",
   "execution_count": 92,
   "id": "c1d67059",
   "metadata": {},
   "outputs": [],
   "source": [
    "name = 'raju'"
   ]
  },
  {
   "cell_type": "code",
   "execution_count": 93,
   "id": "c1b79da6",
   "metadata": {},
   "outputs": [
    {
     "data": {
      "text/plain": [
       "'Raju'"
      ]
     },
     "execution_count": 93,
     "metadata": {},
     "output_type": "execute_result"
    }
   ],
   "source": [
    "name.capitalize()"
   ]
  },
  {
   "cell_type": "code",
   "execution_count": 95,
   "id": "e6c98be9",
   "metadata": {},
   "outputs": [
    {
     "name": "stdout",
     "output_type": "stream",
     "text": [
      "RajuKalyan\n"
     ]
    }
   ],
   "source": [
    "name1 = 'raju'\n",
    "name2 = 'kalyan'\n",
    "print(name1.capitalize() + name2.capitalize())"
   ]
  },
  {
   "cell_type": "code",
   "execution_count": 97,
   "id": "9cc50f1b",
   "metadata": {},
   "outputs": [
    {
     "name": "stdout",
     "output_type": "stream",
     "text": [
      "30 is my age\n"
     ]
    }
   ],
   "source": [
    "txt = '30 is my age'\n",
    "print(txt.capitalize())"
   ]
  },
  {
   "cell_type": "markdown",
   "id": "ecd15670",
   "metadata": {},
   "source": [
    "- The casefold() method returns a string where all the characters are lower case.\n",
    "\n",
    "- This method is similar to the lower() method, but the casefold() method is stronger, more aggressive, meaning \n",
    "- that it will convert more characters into lower case, and will find more matches when comparing two strings and \n",
    "- both are converted using the casefold() method."
   ]
  },
  {
   "cell_type": "code",
   "execution_count": 99,
   "id": "da73a36f",
   "metadata": {},
   "outputs": [
    {
     "name": "stdout",
     "output_type": "stream",
     "text": [
      "hello raju welcome to python class\n"
     ]
    }
   ],
   "source": [
    "#casefold() \n",
    "\n",
    "txt = 'hello raju welcome to python class'\n",
    "print(txt.casefold())"
   ]
  },
  {
   "cell_type": "markdown",
   "id": "4f53f147",
   "metadata": {},
   "source": [
    "## center()\n",
    "- The center() method will center align the string, using a specified character (space is default) as the fill character.\n",
    "- Syntax\n",
    "- string.center(length, character)\n",
    "- length:\tRequired. The length of the returned string\n",
    "- character:\tOptional. The character to fill the missing space on each side. Default is \" \" (space)\n"
   ]
  },
  {
   "cell_type": "code",
   "execution_count": 101,
   "id": "cf08b92b",
   "metadata": {},
   "outputs": [
    {
     "name": "stdout",
     "output_type": "stream",
     "text": [
      "        raju        \n"
     ]
    }
   ],
   "source": [
    "my_str = 'raju'\n",
    "print(my_str.center(20))"
   ]
  },
  {
   "cell_type": "code",
   "execution_count": 103,
   "id": "43bd05b3",
   "metadata": {},
   "outputs": [
    {
     "name": "stdout",
     "output_type": "stream",
     "text": [
      "RRRRRRRRrajuRRRRRRRR\n"
     ]
    }
   ],
   "source": [
    "my_str = 'raju'\n",
    "print(my_str.center(20, 'R'))"
   ]
  },
  {
   "cell_type": "markdown",
   "id": "c211c656",
   "metadata": {},
   "source": [
    "## count()\n",
    "- The count() method returns the number of times a specified value appears in the string.\n",
    "- Syntax\n",
    "-  string.count(value, start, end)\n",
    "- value:\tRequired. A String. The string to value to search for\n",
    "- start:\tOptional. An Integer. The position to start the search. Default is 0\n",
    "- end:\tOptional. An Integer. The position to end the search. Default is the end of the string"
   ]
  },
  {
   "cell_type": "code",
   "execution_count": 105,
   "id": "43cc582d",
   "metadata": {},
   "outputs": [
    {
     "name": "stdout",
     "output_type": "stream",
     "text": [
      "2\n"
     ]
    }
   ],
   "source": [
    "txt = \"I love apples, apple are my favorite fruit\"\n",
    "\n",
    "x = txt.count(\"apple\")\n",
    "\n",
    "print(x)"
   ]
  },
  {
   "cell_type": "code",
   "execution_count": 107,
   "id": "877e31d2",
   "metadata": {},
   "outputs": [
    {
     "name": "stdout",
     "output_type": "stream",
     "text": [
      "1\n"
     ]
    }
   ],
   "source": [
    "txt = 'I love apples, apple are my favorite fruit'\n",
    "x = txt.count('apple', 10, 25)\n",
    "print(x)"
   ]
  },
  {
   "cell_type": "markdown",
   "id": "54ce2dd2",
   "metadata": {},
   "source": [
    "## endswith()\n",
    "- The endswith() method returns True if the string ends with the specified value, otherwise False.\n",
    "- Syntax\n",
    "- string.endswith(value, start, end)\n",
    "- value\t: Required. The value to check if the string ends with\n",
    "- start\t: Optional. An Integer specifying at which position to start the search\n",
    "- end\t: Optional. An Integer specifying at which position to end the search"
   ]
  },
  {
   "cell_type": "code",
   "execution_count": 110,
   "id": "f575d316",
   "metadata": {},
   "outputs": [
    {
     "name": "stdout",
     "output_type": "stream",
     "text": [
      "True\n"
     ]
    }
   ],
   "source": [
    "txt = 'Hello welcome to my world.'\n",
    "x = txt.endswith('.')\n",
    "print(x)"
   ]
  },
  {
   "cell_type": "code",
   "execution_count": 111,
   "id": "41a7cb66",
   "metadata": {},
   "outputs": [
    {
     "name": "stdout",
     "output_type": "stream",
     "text": [
      "False\n"
     ]
    }
   ],
   "source": [
    "#Check if position 5 to 11 ends with the phrase \"my world.\":\n",
    "txt = \"Hello, welcome to my world.\"\n",
    "\n",
    "x = txt.endswith(\"my world.\", 5, 11)\n",
    "\n",
    "print(x)"
   ]
  },
  {
   "cell_type": "markdown",
   "id": "25b3570c",
   "metadata": {},
   "source": [
    "## startswith()\n",
    "- The startswith() method returns True if the string starts with the specified value, otherwise False.\n",
    "- Syntax\n",
    "- string.startswith(value, start, end)\n",
    "- value: \tRequired. The value to check if the string starts with\n",
    "- start: \tOptional. An Integer specifying at which position to start the search\n",
    "- end: \tOptional. An Integer specifying at which position to end the search"
   ]
  },
  {
   "cell_type": "code",
   "execution_count": 112,
   "id": "071bb8f2",
   "metadata": {},
   "outputs": [
    {
     "name": "stdout",
     "output_type": "stream",
     "text": [
      "True\n"
     ]
    }
   ],
   "source": [
    "#Check if position 7 to 20 starts with the characters \"wel\":\n",
    "txt = \"Hello, welcome to my world\"\n",
    "print(txt.startswith('wel', 7, 20))"
   ]
  },
  {
   "cell_type": "code",
   "execution_count": 115,
   "id": "f0e4debf",
   "metadata": {},
   "outputs": [
    {
     "name": "stdout",
     "output_type": "stream",
     "text": [
      "True\n"
     ]
    }
   ],
   "source": [
    "t = \"Hello, welcome to my world\"\n",
    "print(txt.startswith('H'))"
   ]
  },
  {
   "cell_type": "code",
   "execution_count": 116,
   "id": "5d61539d",
   "metadata": {},
   "outputs": [
    {
     "name": "stdout",
     "output_type": "stream",
     "text": [
      "True\n"
     ]
    }
   ],
   "source": [
    "t = \"Hello, welcome to my world\"\n",
    "print(txt.startswith('Hello'))"
   ]
  },
  {
   "cell_type": "markdown",
   "id": "97b389e4",
   "metadata": {},
   "source": [
    "## find()\n",
    "- The find() method finds the first occurrence of the specified value.\n",
    "\n",
    "- The find() method returns -1 if the value is not found.\n",
    "\n",
    "- The find() method is almost the same as the index() method, \n",
    "- the only difference is that the index() method raises an exception if the value is not found.\n",
    "\n",
    "- Syntax\n",
    "- string.find(value, start, end)\n",
    "\n",
    "- value\tRequired. The value to search for\n",
    "- start\tOptional. Where to start the search. Default is 0\n",
    "- end\tOptional. Where to end the search. Default is to the end of the string\n"
   ]
  },
  {
   "cell_type": "code",
   "execution_count": 2,
   "id": "dc151a17",
   "metadata": {},
   "outputs": [
    {
     "name": "stdout",
     "output_type": "stream",
     "text": [
      "30\n"
     ]
    }
   ],
   "source": [
    "txt = \"hello welcome to my world the python\"\n",
    "print(txt.find('python'))"
   ]
  },
  {
   "cell_type": "code",
   "execution_count": 120,
   "id": "78feb0d7",
   "metadata": {},
   "outputs": [
    {
     "name": "stdout",
     "output_type": "stream",
     "text": [
      "1\n"
     ]
    }
   ],
   "source": [
    "#Where in the text is the first occurrence of the letter \"e\"?:\n",
    "txt = \"hello welcome to my world python\"\n",
    "print(txt.find('e'))"
   ]
  },
  {
   "cell_type": "code",
   "execution_count": 122,
   "id": "3ea84344",
   "metadata": {},
   "outputs": [
    {
     "name": "stdout",
     "output_type": "stream",
     "text": [
      "7\n"
     ]
    }
   ],
   "source": [
    "#Where in the text is the first occurrence of the letter \"e\" when you only search between position 5 and 10?\n",
    "print(txt.find('e', 7, 10))\n"
   ]
  },
  {
   "cell_type": "code",
   "execution_count": 123,
   "id": "239a61f9",
   "metadata": {},
   "outputs": [
    {
     "name": "stdout",
     "output_type": "stream",
     "text": [
      "-1\n"
     ]
    },
    {
     "ename": "ValueError",
     "evalue": "substring not found",
     "output_type": "error",
     "traceback": [
      "\u001b[1;31m---------------------------------------------------------------------------\u001b[0m",
      "\u001b[1;31mValueError\u001b[0m                                Traceback (most recent call last)",
      "\u001b[1;32mC:\\Users\\RAJU~1.GUL\\AppData\\Local\\Temp/ipykernel_16980/3743687891.py\u001b[0m in \u001b[0;36m<module>\u001b[1;34m\u001b[0m\n\u001b[0;32m      3\u001b[0m \u001b[1;33m\u001b[0m\u001b[0m\n\u001b[0;32m      4\u001b[0m \u001b[0mprint\u001b[0m\u001b[1;33m(\u001b[0m\u001b[0mtxt\u001b[0m\u001b[1;33m.\u001b[0m\u001b[0mfind\u001b[0m\u001b[1;33m(\u001b[0m\u001b[1;34m\"q\"\u001b[0m\u001b[1;33m)\u001b[0m\u001b[1;33m)\u001b[0m\u001b[1;33m\u001b[0m\u001b[1;33m\u001b[0m\u001b[0m\n\u001b[1;32m----> 5\u001b[1;33m \u001b[0mprint\u001b[0m\u001b[1;33m(\u001b[0m\u001b[0mtxt\u001b[0m\u001b[1;33m.\u001b[0m\u001b[0mindex\u001b[0m\u001b[1;33m(\u001b[0m\u001b[1;34m\"q\"\u001b[0m\u001b[1;33m)\u001b[0m\u001b[1;33m)\u001b[0m\u001b[1;33m\u001b[0m\u001b[1;33m\u001b[0m\u001b[0m\n\u001b[0m",
      "\u001b[1;31mValueError\u001b[0m: substring not found"
     ]
    }
   ],
   "source": [
    "# If the value is not found, the find() method returns -1, but the index() method will raise an exception:\n",
    "txt = \"Hello, welcome to my world.\"\n",
    "\n",
    "print(txt.find(\"q\"))\n",
    "print(txt.index(\"q\"))"
   ]
  },
  {
   "cell_type": "markdown",
   "id": "eae7ebb7",
   "metadata": {},
   "source": [
    "## index() \n",
    "- The index() method finds the first occurrence of the specified value.\n",
    "\n",
    "- The index() method raises an exception if the value is not found.\n",
    "\n",
    "- The index() method is almost the same as the find() method, the only difference is that the find() method returns -1 if \n",
    "- the value is not found."
   ]
  },
  {
   "cell_type": "code",
   "execution_count": 124,
   "id": "cf9e1dbb",
   "metadata": {},
   "outputs": [
    {
     "name": "stdout",
     "output_type": "stream",
     "text": [
      "1\n"
     ]
    }
   ],
   "source": [
    "txt = \"Hello, welcome to my world.\"\n",
    "\n",
    "x = txt.index(\"e\")\n",
    "\n",
    "print(x)"
   ]
  },
  {
   "cell_type": "code",
   "execution_count": 125,
   "id": "a827a8c4",
   "metadata": {},
   "outputs": [
    {
     "name": "stdout",
     "output_type": "stream",
     "text": [
      "8\n"
     ]
    }
   ],
   "source": [
    "txt = \"Hello, welcome to my world.\"\n",
    "\n",
    "x = txt.index(\"e\", 5, 10)\n",
    "\n",
    "print(x)"
   ]
  },
  {
   "cell_type": "code",
   "execution_count": 126,
   "id": "7eea4bad",
   "metadata": {},
   "outputs": [
    {
     "name": "stdout",
     "output_type": "stream",
     "text": [
      "-1\n"
     ]
    },
    {
     "ename": "ValueError",
     "evalue": "substring not found",
     "output_type": "error",
     "traceback": [
      "\u001b[1;31m---------------------------------------------------------------------------\u001b[0m",
      "\u001b[1;31mValueError\u001b[0m                                Traceback (most recent call last)",
      "\u001b[1;32mC:\\Users\\RAJU~1.GUL\\AppData\\Local\\Temp/ipykernel_16980/2078698787.py\u001b[0m in \u001b[0;36m<module>\u001b[1;34m\u001b[0m\n\u001b[0;32m      2\u001b[0m \u001b[1;33m\u001b[0m\u001b[0m\n\u001b[0;32m      3\u001b[0m \u001b[0mprint\u001b[0m\u001b[1;33m(\u001b[0m\u001b[0mtxt\u001b[0m\u001b[1;33m.\u001b[0m\u001b[0mfind\u001b[0m\u001b[1;33m(\u001b[0m\u001b[1;34m\"q\"\u001b[0m\u001b[1;33m)\u001b[0m\u001b[1;33m)\u001b[0m\u001b[1;33m\u001b[0m\u001b[1;33m\u001b[0m\u001b[0m\n\u001b[1;32m----> 4\u001b[1;33m \u001b[0mprint\u001b[0m\u001b[1;33m(\u001b[0m\u001b[0mtxt\u001b[0m\u001b[1;33m.\u001b[0m\u001b[0mindex\u001b[0m\u001b[1;33m(\u001b[0m\u001b[1;34m\"q\"\u001b[0m\u001b[1;33m)\u001b[0m\u001b[1;33m)\u001b[0m\u001b[1;33m\u001b[0m\u001b[1;33m\u001b[0m\u001b[0m\n\u001b[0m",
      "\u001b[1;31mValueError\u001b[0m: substring not found"
     ]
    }
   ],
   "source": [
    "#If the value is not found, the find() method returns -1, but the index() method will raise an exception:\n",
    "txt = \"Hello, welcome to my world.\"\n",
    "\n",
    "print(txt.find(\"q\"))\n",
    "print(txt.index(\"q\"))"
   ]
  },
  {
   "cell_type": "markdown",
   "id": "97a45112",
   "metadata": {},
   "source": [
    "## isalnum()\n",
    "-The isalnum() method returns True if all the characters are alphanumeric, meaning alphabet letter (a-z) and numbers (0-9).\n",
    "\n",
    "- Example of characters that are not alphanumeric: (space)!#%&? etc.\n",
    "\n",
    "- Syntax\n",
    "- string.isalnum()\n",
    "\n"
   ]
  },
  {
   "cell_type": "code",
   "execution_count": 127,
   "id": "110dbcad",
   "metadata": {},
   "outputs": [
    {
     "name": "stdout",
     "output_type": "stream",
     "text": [
      "True\n"
     ]
    }
   ],
   "source": [
    "my_str = 'raju777'\n",
    "print(my_str.isalnum())"
   ]
  },
  {
   "cell_type": "code",
   "execution_count": 129,
   "id": "a8e64271",
   "metadata": {},
   "outputs": [
    {
     "name": "stdout",
     "output_type": "stream",
     "text": [
      "True\n"
     ]
    }
   ],
   "source": [
    "my_str2 = 'raju'\n",
    "print(my_str2.isalnum())"
   ]
  },
  {
   "cell_type": "code",
   "execution_count": 130,
   "id": "4ad1d590",
   "metadata": {},
   "outputs": [
    {
     "name": "stdout",
     "output_type": "stream",
     "text": [
      "True\n"
     ]
    }
   ],
   "source": [
    "my_str3 = '777'\n",
    "print(my_str3.isalnum())"
   ]
  },
  {
   "cell_type": "code",
   "execution_count": 131,
   "id": "6ceedf84",
   "metadata": {},
   "outputs": [
    {
     "name": "stdout",
     "output_type": "stream",
     "text": [
      "False\n"
     ]
    }
   ],
   "source": [
    "my_str4 = '#$#$'\n",
    "print(my_str4.isalnum())"
   ]
  },
  {
   "cell_type": "markdown",
   "id": "226dff10",
   "metadata": {},
   "source": [
    "## isalpha()\n",
    "\n",
    "- The isalpha() method returns True if all the characters are alphabet letters (a-z).\n",
    "\n",
    "- Syntax\n",
    "- string.isalpha()"
   ]
  },
  {
   "cell_type": "code",
   "execution_count": 133,
   "id": "05b26674",
   "metadata": {},
   "outputs": [
    {
     "name": "stdout",
     "output_type": "stream",
     "text": [
      "False\n"
     ]
    }
   ],
   "source": [
    "my_str = 'raju777'\n",
    "print(my_str.isalpha())"
   ]
  },
  {
   "cell_type": "code",
   "execution_count": 134,
   "id": "aa7bc3b3",
   "metadata": {},
   "outputs": [
    {
     "name": "stdout",
     "output_type": "stream",
     "text": [
      "True\n"
     ]
    }
   ],
   "source": [
    "my_str = 'raju'\n",
    "print(my_str.isalpha())"
   ]
  },
  {
   "cell_type": "markdown",
   "id": "0259dfb5",
   "metadata": {},
   "source": [
    "## isdigit()\n",
    "\n",
    "- The isdigit() method returns True if all the characters are digits, otherwise False.\n",
    "\n",
    "- Exponents, like ², are also considered to be a digit."
   ]
  },
  {
   "cell_type": "code",
   "execution_count": 135,
   "id": "a7eec0a1",
   "metadata": {},
   "outputs": [
    {
     "name": "stdout",
     "output_type": "stream",
     "text": [
      "True\n"
     ]
    }
   ],
   "source": [
    "my_str = '777'\n",
    "print(my_str.isdigit())"
   ]
  },
  {
   "cell_type": "code",
   "execution_count": 136,
   "id": "63d0a2f3",
   "metadata": {},
   "outputs": [
    {
     "name": "stdout",
     "output_type": "stream",
     "text": [
      "False\n"
     ]
    }
   ],
   "source": [
    "my_str = 'raju777'\n",
    "print(my_str.isdigit())"
   ]
  },
  {
   "cell_type": "markdown",
   "id": "4040f44b",
   "metadata": {},
   "source": [
    "## islower()\n",
    "- The islower() method returns True if all the characters are in lower case, otherwise False.\n",
    "\n",
    "- Numbers, symbols and spaces are not checked, only alphabet characters.\n",
    "- Syntax ; string.islower()\n"
   ]
  },
  {
   "cell_type": "code",
   "execution_count": 137,
   "id": "8db5b5da",
   "metadata": {},
   "outputs": [
    {
     "name": "stdout",
     "output_type": "stream",
     "text": [
      "True\n"
     ]
    }
   ],
   "source": [
    "my_str = 'raju'\n",
    "print(my_str.islower())"
   ]
  },
  {
   "cell_type": "code",
   "execution_count": 138,
   "id": "9dc7cd4c",
   "metadata": {},
   "outputs": [
    {
     "name": "stdout",
     "output_type": "stream",
     "text": [
      "True\n"
     ]
    }
   ],
   "source": [
    "my_str = 'raju777'\n",
    "print(my_str.islower())"
   ]
  },
  {
   "cell_type": "code",
   "execution_count": 139,
   "id": "3698f366",
   "metadata": {},
   "outputs": [
    {
     "name": "stdout",
     "output_type": "stream",
     "text": [
      "False\n"
     ]
    }
   ],
   "source": [
    "my_str = \"Raju\"\n",
    "print(my_str.islower())"
   ]
  },
  {
   "cell_type": "markdown",
   "id": "edf8c903",
   "metadata": {},
   "source": [
    "## isnumeric()\n",
    "\n",
    "- The isnumeric() method returns True if all the characters are numeric (0-9), otherwise False.\n",
    "\n",
    "- Exponents, like ² and ¾ are also considered to be numeric values.\n",
    "\n",
    "- \"-1\" and \"1.5\" are NOT considered numeric values, because all the characters in the string must be numeric, and the - and the . are not.\n",
    "- Syntax\n",
    "- string.isnumeric()"
   ]
  },
  {
   "cell_type": "code",
   "execution_count": 141,
   "id": "9600812d",
   "metadata": {},
   "outputs": [
    {
     "name": "stdout",
     "output_type": "stream",
     "text": [
      "True\n"
     ]
    }
   ],
   "source": [
    "my_str = '777'\n",
    "print(my_str.isnumeric())"
   ]
  },
  {
   "cell_type": "code",
   "execution_count": 142,
   "id": "332788cd",
   "metadata": {},
   "outputs": [
    {
     "name": "stdout",
     "output_type": "stream",
     "text": [
      "False\n"
     ]
    }
   ],
   "source": [
    "my_str = 'raju777'\n",
    "print(my_str.isnumeric())"
   ]
  },
  {
   "cell_type": "code",
   "execution_count": 143,
   "id": "1e16af27",
   "metadata": {},
   "outputs": [
    {
     "name": "stdout",
     "output_type": "stream",
     "text": [
      "False\n"
     ]
    }
   ],
   "source": [
    "my_str = '7.77'\n",
    "print(my_str.isnumeric())"
   ]
  },
  {
   "cell_type": "code",
   "execution_count": 144,
   "id": "a71d2e60",
   "metadata": {},
   "outputs": [
    {
     "name": "stdout",
     "output_type": "stream",
     "text": [
      "False\n"
     ]
    }
   ],
   "source": [
    "my_str = '-777'\n",
    "print(my_str.isnumeric())"
   ]
  },
  {
   "cell_type": "markdown",
   "id": "4f0fbb84",
   "metadata": {},
   "source": [
    "# isupper()\n",
    "- The isupper() method returns True if all the characters are in upper case, otherwise False.\n",
    "\n",
    "- Numbers, symbols and spaces are not checked, only alphabet characters.\n",
    "- Syntax\n",
    "- string.isupper()"
   ]
  },
  {
   "cell_type": "code",
   "execution_count": 146,
   "id": "f33429d0",
   "metadata": {},
   "outputs": [
    {
     "name": "stdout",
     "output_type": "stream",
     "text": [
      "True\n"
     ]
    }
   ],
   "source": [
    "my_str = 'RAJU'\n",
    "print(my_str.isupper())"
   ]
  },
  {
   "cell_type": "code",
   "execution_count": 147,
   "id": "1ed7b723",
   "metadata": {},
   "outputs": [
    {
     "name": "stdout",
     "output_type": "stream",
     "text": [
      "False\n"
     ]
    }
   ],
   "source": [
    "my_str = 'Raju'\n",
    "print(my_str.isupper())"
   ]
  },
  {
   "cell_type": "markdown",
   "id": "287601fa",
   "metadata": {},
   "source": [
    "# zfill()\n",
    "- The zfill() method adds zeros (0) at the beginning of the string, until it reaches the specified length.\n",
    "\n",
    "- If the value of the len parameter is less than the length of the string, no filling is done."
   ]
  },
  {
   "cell_type": "code",
   "execution_count": 150,
   "id": "ad39fcbe",
   "metadata": {},
   "outputs": [
    {
     "name": "stdout",
     "output_type": "stream",
     "text": [
      "000000raju\n"
     ]
    }
   ],
   "source": [
    "my_str = 'raju'\n",
    "print(my_str.zfill(10))"
   ]
  },
  {
   "cell_type": "code",
   "execution_count": 151,
   "id": "641791b5",
   "metadata": {},
   "outputs": [
    {
     "name": "stdout",
     "output_type": "stream",
     "text": [
      "raju\n"
     ]
    }
   ],
   "source": [
    "my_str = \"raju\"\n",
    "print(my_str.zfill(4))"
   ]
  },
  {
   "cell_type": "markdown",
   "id": "88d8f430",
   "metadata": {},
   "source": [
    "# upper()\n",
    "\n",
    "- The upper() method returns a string where all characters are in upper case.\n",
    "\n",
    "- Symbols and Numbers are ignored."
   ]
  },
  {
   "cell_type": "code",
   "execution_count": 152,
   "id": "bce68c05",
   "metadata": {},
   "outputs": [
    {
     "name": "stdout",
     "output_type": "stream",
     "text": [
      "RAJU\n"
     ]
    }
   ],
   "source": [
    "my_str = 'Raju'\n",
    "print(my_str.upper())"
   ]
  },
  {
   "cell_type": "markdown",
   "id": "bfee403c",
   "metadata": {},
   "source": [
    "## strip() \n",
    "- The strip() method removes any leading (spaces at the beginning) and trailing (spaces at the end) \n",
    "- characters (space is the default leading character to remove)"
   ]
  },
  {
   "cell_type": "code",
   "execution_count": 153,
   "id": "30e1856f",
   "metadata": {},
   "outputs": [
    {
     "name": "stdout",
     "output_type": "stream",
     "text": [
      "of all fruits banana is my favorite\n"
     ]
    }
   ],
   "source": [
    "txt = \"     banana     \"\n",
    "\n",
    "x = txt.strip()\n",
    "\n",
    "print(\"of all fruits\", x, \"is my favorite\")"
   ]
  },
  {
   "cell_type": "code",
   "execution_count": 154,
   "id": "77845f1a",
   "metadata": {},
   "outputs": [
    {
     "name": "stdout",
     "output_type": "stream",
     "text": [
      "banana\n"
     ]
    }
   ],
   "source": [
    "#Remove the leading and trailing characters:\n",
    "txt = \",,,,,rrttgg.....banana....rrr\"\n",
    "\n",
    "x = txt.strip(\",.grt\")\n",
    "\n",
    "print(x)"
   ]
  },
  {
   "cell_type": "markdown",
   "id": "47ba113c",
   "metadata": {},
   "source": [
    "## split()\n",
    "- split() method in Python split a string into a list of strings after breaking the given string by the specified separator.\n",
    "- Syntax : str.split(separator, maxsplit)\n",
    "## Parameters :\n",
    "- separator : This is a delimiter. The string splits at this specified separator. If is not provided then any white space is a separator.\n",
    "\n",
    "- maxsplit : It is a number, which tells us to split the string into maximum of provided number of times. If it is not provided then the default is -1 that means there is no limit.\n",
    "\n",
    "- Returns : Returns a list of strings after breaking the given string by the specified separator."
   ]
  },
  {
   "cell_type": "code",
   "execution_count": 156,
   "id": "886108c4",
   "metadata": {},
   "outputs": [
    {
     "name": "stdout",
     "output_type": "stream",
     "text": [
      "['my', 'name', 'is', 'raju.', 'python', 'is', 'my', 'best', 'programming', 'language']\n"
     ]
    }
   ],
   "source": [
    "my_str = 'my name is raju. python is my best programming language'\n",
    "print(my_str.split()) #default seperator is space"
   ]
  },
  {
   "cell_type": "code",
   "execution_count": 157,
   "id": "28efaa4a",
   "metadata": {},
   "outputs": [
    {
     "name": "stdout",
     "output_type": "stream",
     "text": [
      "['raju', ' kalyan', ' python']\n"
     ]
    }
   ],
   "source": [
    "#splits at ','\n",
    "my_str = 'raju, kalyan, python'\n",
    "print(my_str.split(','))"
   ]
  },
  {
   "cell_type": "code",
   "execution_count": 158,
   "id": "a9dd1843",
   "metadata": {},
   "outputs": [
    {
     "name": "stdout",
     "output_type": "stream",
     "text": [
      "['raju', 'kalyan', 'python']\n"
     ]
    }
   ],
   "source": [
    "#split at ':'\n",
    "my_str = 'raju:kalyan:python'\n",
    "print(my_str.split(':'))"
   ]
  },
  {
   "cell_type": "code",
   "execution_count": 161,
   "id": "eb3dc14b",
   "metadata": {},
   "outputs": [
    {
     "name": "stdout",
     "output_type": "stream",
     "text": [
      "['raju', 'kalyan', 'python', '#']\n"
     ]
    }
   ],
   "source": [
    "#split ar 'R'\n",
    "my_str = 'rajuRkalyanRpythonR#'\n",
    "print(my_str.split('R'))"
   ]
  },
  {
   "cell_type": "code",
   "execution_count": 162,
   "id": "4f8eb0ee",
   "metadata": {},
   "outputs": [
    {
     "name": "stdout",
     "output_type": "stream",
     "text": [
      "['raju, kalyan, python, program']\n"
     ]
    }
   ],
   "source": [
    "#Example to demonstrate how split() function works when maxsplit is specified\n",
    "#max split 0\n",
    "my_str = 'raju, kalyan, python, program'\n",
    "print(my_str.split(',', 0))"
   ]
  },
  {
   "cell_type": "code",
   "execution_count": 165,
   "id": "64608ad8",
   "metadata": {},
   "outputs": [
    {
     "name": "stdout",
     "output_type": "stream",
     "text": [
      "['raju', ' kalyan', ' python', ' program']\n"
     ]
    }
   ],
   "source": [
    "#max split 4\n",
    "print(my_str.split(',', 4))"
   ]
  },
  {
   "cell_type": "code",
   "execution_count": 166,
   "id": "3b5daaf7",
   "metadata": {},
   "outputs": [
    {
     "name": "stdout",
     "output_type": "stream",
     "text": [
      "['raju', ' kalyan, python, program']\n"
     ]
    }
   ],
   "source": [
    "#max split 1\n",
    "print(my_str.split(',', 1))"
   ]
  },
  {
   "cell_type": "markdown",
   "id": "720740e5",
   "metadata": {},
   "source": [
    "## join()\n",
    "- Python String join() method is a string method and returns a string in which the elements of the \n",
    "- sequence have been joined by the str separator.\n",
    "## Syntax: \n",
    "\n",
    "- string_name.join(iterable) \n",
    "\n",
    "## Parameters: \n",
    "\n",
    "- The join() method takes iterable – objects capable of returning their members one at a time. Some examples are List, Tuple, String, Dictionary, and Set\n",
    "\n",
    "## Return Value: \n",
    "\n",
    "- The join() method returns a string concatenated with the elements of iterable. \n",
    "\n",
    "## Type Error:\n",
    "\n",
    "- If the iterable contains any non-string values, it raises a TypeError exception. "
   ]
  },
  {
   "cell_type": "code",
   "execution_count": 169,
   "id": "daa8b514",
   "metadata": {},
   "outputs": [
    {
     "name": "stdout",
     "output_type": "stream",
     "text": [
      "a-b-c-d-e\n"
     ]
    }
   ],
   "source": [
    "list1 =['a','b','c','d','e']\n",
    "s = '-'\n",
    "s = s.join(list1)\n",
    "print(s)"
   ]
  },
  {
   "cell_type": "code",
   "execution_count": 171,
   "id": "54528d7f",
   "metadata": {},
   "outputs": [
    {
     "name": "stdout",
     "output_type": "stream",
     "text": [
      "abcde\n"
     ]
    }
   ],
   "source": [
    "#Joining with an empty string\n",
    "my_str = ''.join(list1)\n",
    "print(my_str)"
   ]
  },
  {
   "cell_type": "code",
   "execution_count": 173,
   "id": "05e6f91b",
   "metadata": {},
   "outputs": [
    {
     "name": "stdout",
     "output_type": "stream",
     "text": [
      "nameRRRageRRRprogram\n"
     ]
    }
   ],
   "source": [
    "#Join all items in a dictionary into a string, using the word \"RRR\" as separator:\n",
    "mydict = {'name': 'raju', 'age': 30, 'program': 'python'}\n",
    "sep = 'RRR'\n",
    "my_str = sep.join(mydict)\n",
    "print(my_str)\n",
    "#Note: When using a dictionary as an iterable, the returned values are the keys, not the values."
   ]
  },
  {
   "cell_type": "markdown",
   "id": "2c61e0f9",
   "metadata": {},
   "source": [
    "## replace()\n",
    "\n",
    "- The replace() method replaces a specified phrase with another specified phrase.\n",
    "\n",
    "## Syntax\n",
    "- string.replace(oldvalue, newvalue, count)\n",
    "- oldvalue\tRequired. The string to search for\n",
    "- newvalue\tRequired. The string to replace the old value with\n",
    "- count\tOptional. A number specifying how many occurrences of the old value you want to replace. Default is all occurrences"
   ]
  },
  {
   "cell_type": "code",
   "execution_count": 176,
   "id": "ca8041a5",
   "metadata": {},
   "outputs": [
    {
     "name": "stdout",
     "output_type": "stream",
     "text": [
      "I know python\n"
     ]
    }
   ],
   "source": [
    "my_str = 'I know raju'\n",
    "print(my_str.replace('raju', 'python'))"
   ]
  },
  {
   "cell_type": "code",
   "execution_count": 177,
   "id": "95218c07",
   "metadata": {},
   "outputs": [
    {
     "name": "stdout",
     "output_type": "stream",
     "text": [
      "three three was a race horse, two two was three too.\n"
     ]
    }
   ],
   "source": [
    "#Replace all occurrence of the word \"one\":\n",
    "\n",
    "txt = \"one one was a race horse, two two was one too.\"\n",
    "\n",
    "x = txt.replace(\"one\", \"three\")\n",
    "\n",
    "print(x)"
   ]
  },
  {
   "cell_type": "code",
   "execution_count": 179,
   "id": "e345ee27",
   "metadata": {},
   "outputs": [
    {
     "name": "stdout",
     "output_type": "stream",
     "text": [
      "three three was a race horse, two two was one too.\n"
     ]
    }
   ],
   "source": [
    "#Replace the two first occurrence of the word \"one\":\n",
    "\n",
    "txt = \"one one was a race horse, two two was one too.\"\n",
    "\n",
    "x = txt.replace(\"one\", \"three\", 2)\n",
    "\n",
    "print(x)"
   ]
  },
  {
   "cell_type": "markdown",
   "id": "9ea4bfde",
   "metadata": {},
   "source": [
    "## swapcase()\n",
    "- The string swapcase() method converts all uppercase characters to lowercase and vice versa of the given string, and returns it.\n",
    "## Syntax:\n",
    "\n",
    "- string_name.swapcase()\n",
    "- Here string_name is the string whose cases are to be swapped.\n",
    "- Return value:\n",
    "\n",
    "- The swapcase() method returns a string with all the cases changed."
   ]
  },
  {
   "cell_type": "code",
   "execution_count": 180,
   "id": "a76b2cc0",
   "metadata": {},
   "outputs": [
    {
     "name": "stdout",
     "output_type": "stream",
     "text": [
      "RaJu\n"
     ]
    }
   ],
   "source": [
    "my_str = 'rAjU'\n",
    "print(my_str.swapcase())"
   ]
  },
  {
   "cell_type": "code",
   "execution_count": 181,
   "id": "819d7648",
   "metadata": {},
   "outputs": [
    {
     "name": "stdout",
     "output_type": "stream",
     "text": [
      "RAJU KALYAN\n"
     ]
    }
   ],
   "source": [
    "my_str = 'raju kalyan'\n",
    "print(my_str.swapcase())"
   ]
  },
  {
   "cell_type": "code",
   "execution_count": 182,
   "id": "8a530e6c",
   "metadata": {},
   "outputs": [
    {
     "name": "stdout",
     "output_type": "stream",
     "text": [
      "raju\n"
     ]
    }
   ],
   "source": [
    "my_str = \"RAJU\"\n",
    "print(my_str.swapcase())"
   ]
  },
  {
   "cell_type": "markdown",
   "id": "7c55592e",
   "metadata": {},
   "source": [
    "## title()\n",
    "- The title() method returns a string where the first character in every word is upper case. Like a header, or a title.\n",
    "\n",
    "- If the word contains a number or a symbol, the first letter after that will be converted to upper case.\n",
    "\n",
    "## Syntax\n",
    "- string.title()"
   ]
  },
  {
   "cell_type": "code",
   "execution_count": 183,
   "id": "fd3191e4",
   "metadata": {},
   "outputs": [
    {
     "name": "stdout",
     "output_type": "stream",
     "text": [
      "Welcome To My 2Nd World\n"
     ]
    }
   ],
   "source": [
    "#Make the first letter in each word upper case:\n",
    "\n",
    "txt = \"Welcome to my 2nd world\"\n",
    "print(txt.title())"
   ]
  },
  {
   "cell_type": "code",
   "execution_count": 184,
   "id": "dc67e496",
   "metadata": {},
   "outputs": [
    {
     "name": "stdout",
     "output_type": "stream",
     "text": [
      "Hello B2B2B2 And 3G3G3G\n"
     ]
    }
   ],
   "source": [
    "#Note that the first letter after a non-alphabet letter is converted into a upper case letter:\n",
    "\n",
    "txt = \"hello b2b2b2 and 3g3g3g\"\n",
    "print(txt.title())"
   ]
  },
  {
   "cell_type": "markdown",
   "id": "64de259c",
   "metadata": {},
   "source": [
    "## lstrip()\n",
    "- The lstrip() method removes any leading characters (space is the default leading character to remove)\n",
    "\n",
    "## Syntax\n",
    "- string.lstrip(characters)\n",
    "\n",
    "- characters\tOptional. A set of characters to remove as leading characters\n",
    "\n"
   ]
  },
  {
   "cell_type": "code",
   "execution_count": 188,
   "id": "9875114f",
   "metadata": {},
   "outputs": [
    {
     "name": "stdout",
     "output_type": "stream",
     "text": [
      "my name is raju        kalyan\n"
     ]
    }
   ],
   "source": [
    "a = \"   raju      \"\n",
    "x = a.lstrip()\n",
    "print('my name is',  x ,' kalyan')"
   ]
  },
  {
   "cell_type": "code",
   "execution_count": 189,
   "id": "1cdeafa9",
   "metadata": {},
   "outputs": [
    {
     "name": "stdout",
     "output_type": "stream",
     "text": [
      "banana\n"
     ]
    }
   ],
   "source": [
    "# Remove the leading characters:\n",
    "\n",
    "txt = \",,,,,ssaaww.....banana\"\n",
    "\n",
    "x = txt.lstrip(\",.asw\")\n",
    "\n",
    "print(x)"
   ]
  },
  {
   "cell_type": "markdown",
   "id": "a82ca01f",
   "metadata": {},
   "source": [
    "## rstrip()\n",
    "- The rstrip() method removes any trailing characters (characters at the end a string), space is the default trailing character to remove.\n",
    "## Syntax\n",
    "- string.rstrip(characters)\n",
    "- characters\tOptional. A set of characters to remove as trailing characters"
   ]
  },
  {
   "cell_type": "code",
   "execution_count": 191,
   "id": "e24bfdd0",
   "metadata": {},
   "outputs": [
    {
     "name": "stdout",
     "output_type": "stream",
     "text": [
      "my name is        raju  kalyan\n"
     ]
    }
   ],
   "source": [
    "a = \"       raju  \"\n",
    "x = a.rstrip()\n",
    "print('my name is',  x ,' kalyan')"
   ]
  },
  {
   "cell_type": "code",
   "execution_count": 192,
   "id": "f7368264",
   "metadata": {},
   "outputs": [
    {
     "name": "stdout",
     "output_type": "stream",
     "text": [
      "of all fruits      banana is my favorite\n"
     ]
    }
   ],
   "source": [
    "txt = \"     banana     \"\n",
    "\n",
    "x = txt.rstrip()\n",
    "\n",
    "print(\"of all fruits\", x, \"is my favorite\")"
   ]
  },
  {
   "cell_type": "code",
   "execution_count": 193,
   "id": "5dac9eee",
   "metadata": {},
   "outputs": [
    {
     "name": "stdout",
     "output_type": "stream",
     "text": [
      "banana\n"
     ]
    }
   ],
   "source": [
    "#Remove the trailing characters if they are commas, s, q, or w:\n",
    "\n",
    "txt = \"banana,,,,,ssqqqww.....\"\n",
    "\n",
    "x = txt.rstrip(\",.qsw\")\n",
    "\n",
    "print(x)"
   ]
  },
  {
   "cell_type": "markdown",
   "id": "d9044751",
   "metadata": {},
   "source": [
    "## rjust()\n",
    "- 1. String rjust() The string rjust() method returns a new string of given length after substituting a given character in left side of original string.\n",
    "\n",
    "## Syntax:\n",
    "\n",
    "- string.rjust(length, fillchar)\n",
    "## Parameters:\n",
    "\n",
    "- length: length of the modified string. If length is less than or equal to the length of the original string then original string is returned.\n",
    "- fillchar: (optional) characters which needs to be padded. If it’s not provided, space is taken as a default argument.\n",
    "\n",
    "## Returns:\n",
    "\n",
    "- Returns a new string of given length after substituting a given character in left side of original string."
   ]
  },
  {
   "cell_type": "code",
   "execution_count": 194,
   "id": "c0537e06",
   "metadata": {},
   "outputs": [
    {
     "name": "stdout",
     "output_type": "stream",
     "text": [
      "    raju\n"
     ]
    }
   ],
   "source": [
    "# Python program to demonstrate working of \n",
    "# rjust()\n",
    "string = 'raju'\n",
    "length = 8\n",
    "  \n",
    "# If no fill character is provided, space\n",
    "# is used as fill character\n",
    "print(string.rjust(length))"
   ]
  },
  {
   "cell_type": "code",
   "execution_count": 195,
   "id": "d70b524a",
   "metadata": {},
   "outputs": [
    {
     "name": "stdout",
     "output_type": "stream",
     "text": [
      "***geeks\n"
     ]
    }
   ],
   "source": [
    "# example string\n",
    "string = 'geeks'\n",
    "length = 8\n",
    "fillchar = '*'\n",
    "  \n",
    "print(string.rjust(length, fillchar))"
   ]
  },
  {
   "cell_type": "markdown",
   "id": "84a04e7e",
   "metadata": {},
   "source": [
    "## ljust()\n",
    "\n",
    "- The string ljust() method returns a new string of given length after substituting a given character in right side of original string.\n",
    "\n",
    "## Syntax:\n",
    "\n",
    "- string.ljust(length, fillchar)\n",
    "\n",
    "## Parameters:\n",
    "\n",
    "- length: length of the modified string. If length is less than or equal to the length of the original string then original string is returned.\n",
    "fillchar: (optional) characters which needs to be padded. If it’s not provided, space is taken as a default argument.\n",
    "\n",
    "## Returns:\n",
    "\n",
    "- Returns a new string of given length after substituting a given character in right side of original string."
   ]
  },
  {
   "cell_type": "code",
   "execution_count": 196,
   "id": "f8d03365",
   "metadata": {},
   "outputs": [
    {
     "name": "stdout",
     "output_type": "stream",
     "text": [
      "raju    \n"
     ]
    }
   ],
   "source": [
    "# example string\n",
    "string = 'raju'\n",
    "length = 8\n",
    "  \n",
    "# If no fill character is provided, space\n",
    "# is used as fill character.\n",
    "print(string.ljust(length))"
   ]
  },
  {
   "cell_type": "code",
   "execution_count": 197,
   "id": "5a378a29",
   "metadata": {},
   "outputs": [
    {
     "name": "stdout",
     "output_type": "stream",
     "text": [
      "geeks***\n"
     ]
    }
   ],
   "source": [
    "# example string\n",
    "string = 'geeks'\n",
    "length = 8\n",
    "fillchar = '*'\n",
    "  \n",
    "# print left justified string\n",
    "print(string.ljust(length, fillchar))"
   ]
  },
  {
   "cell_type": "markdown",
   "id": "d12d6dae",
   "metadata": {},
   "source": [
    "## rindex()\n",
    "- The rindex() method finds the last occurrence of the specified value.\n",
    "\n",
    "- The rindex() method raises an exception if the value is not found.\n",
    "\n",
    "- The rindex() method is almost the same as the rfind() method. See example below.\n",
    "\n",
    "## Syntax\n",
    "- string.rindex(value, start, end)\n",
    "\n",
    "- value\tRequired. The value to search for\n",
    "- start\tOptional. Where to start the search. Default is 0\n",
    "- end\tOptional. Where to end the search. Default is to the end of the string\n",
    "\n"
   ]
  },
  {
   "cell_type": "code",
   "execution_count": 199,
   "id": "9446f24a",
   "metadata": {},
   "outputs": [
    {
     "name": "stdout",
     "output_type": "stream",
     "text": [
      "12\n"
     ]
    }
   ],
   "source": [
    "#Where in the text is the last occurrence of the string \"casa\"?:\n",
    "\n",
    "txt = \"Mi casa, su casa.\"\n",
    "\n",
    "x = txt.rindex(\"casa\")\n",
    "\n",
    "print(x)"
   ]
  },
  {
   "cell_type": "code",
   "execution_count": 200,
   "id": "95a385e4",
   "metadata": {},
   "outputs": [
    {
     "name": "stdout",
     "output_type": "stream",
     "text": [
      "13\n"
     ]
    }
   ],
   "source": [
    "# Where in the text is the last occurrence of the letter \"e\"?:\n",
    "\n",
    "txt = \"Hello, welcome to my world.\"\n",
    "\n",
    "x = txt.rindex(\"e\")\n",
    "\n",
    "print(x)"
   ]
  },
  {
   "cell_type": "code",
   "execution_count": 201,
   "id": "c494ae5c",
   "metadata": {},
   "outputs": [
    {
     "name": "stdout",
     "output_type": "stream",
     "text": [
      "8\n"
     ]
    }
   ],
   "source": [
    "# Where in the text is the last occurrence of the letter \"e\" when you only search between position 5 and 10?:\n",
    "\n",
    "txt = \"Hello, welcome to my world.\"\n",
    "\n",
    "x = txt.rindex(\"e\", 5, 10)\n",
    "\n",
    "print(x)"
   ]
  },
  {
   "cell_type": "code",
   "execution_count": 202,
   "id": "3765b9ca",
   "metadata": {},
   "outputs": [
    {
     "name": "stdout",
     "output_type": "stream",
     "text": [
      "-1\n"
     ]
    },
    {
     "ename": "ValueError",
     "evalue": "substring not found",
     "output_type": "error",
     "traceback": [
      "\u001b[1;31m---------------------------------------------------------------------------\u001b[0m",
      "\u001b[1;31mValueError\u001b[0m                                Traceback (most recent call last)",
      "\u001b[1;32mC:\\Users\\RAJU~1.GUL\\AppData\\Local\\Temp/ipykernel_16980/2456147840.py\u001b[0m in \u001b[0;36m<module>\u001b[1;34m\u001b[0m\n\u001b[0;32m      4\u001b[0m \u001b[1;33m\u001b[0m\u001b[0m\n\u001b[0;32m      5\u001b[0m \u001b[0mprint\u001b[0m\u001b[1;33m(\u001b[0m\u001b[0mtxt\u001b[0m\u001b[1;33m.\u001b[0m\u001b[0mrfind\u001b[0m\u001b[1;33m(\u001b[0m\u001b[1;34m\"q\"\u001b[0m\u001b[1;33m)\u001b[0m\u001b[1;33m)\u001b[0m\u001b[1;33m\u001b[0m\u001b[1;33m\u001b[0m\u001b[0m\n\u001b[1;32m----> 6\u001b[1;33m \u001b[0mprint\u001b[0m\u001b[1;33m(\u001b[0m\u001b[0mtxt\u001b[0m\u001b[1;33m.\u001b[0m\u001b[0mrindex\u001b[0m\u001b[1;33m(\u001b[0m\u001b[1;34m\"q\"\u001b[0m\u001b[1;33m)\u001b[0m\u001b[1;33m)\u001b[0m\u001b[1;33m\u001b[0m\u001b[1;33m\u001b[0m\u001b[0m\n\u001b[0m",
      "\u001b[1;31mValueError\u001b[0m: substring not found"
     ]
    }
   ],
   "source": [
    "#If the value is not found, the rfind() method returns -1, but the rindex() method will raise an exception:\n",
    "\n",
    "txt = \"Hello, welcome to my world.\"\n",
    "\n",
    "print(txt.rfind(\"q\"))\n",
    "print(txt.rindex(\"q\"))\n"
   ]
  },
  {
   "cell_type": "markdown",
   "id": "8a1fecd9",
   "metadata": {},
   "source": [
    "## rfind()\n",
    "\n",
    "- The rfind() method finds the last occurrence of the specified value.\n",
    "\n",
    "- The rfind() method returns -1 if the value is not found.\n",
    "\n",
    "- The rfind() method is almost the same as the rindex() method. See example below.\n",
    "\n",
    "## Syntax\n",
    "- string.rfind(value, start, end)\n",
    "\n",
    "- value\tRequired. The value to search for\n",
    "- start\tOptional. Where to start the search. Default is 0\n",
    "- end\tOptional. Where to end the search. Default is to the end of the string"
   ]
  },
  {
   "cell_type": "code",
   "execution_count": 204,
   "id": "3eff4193",
   "metadata": {},
   "outputs": [
    {
     "name": "stdout",
     "output_type": "stream",
     "text": [
      "12\n"
     ]
    }
   ],
   "source": [
    "#Where in the text is the last occurrence of the string \"casa\"?:\n",
    "\n",
    "txt = \"Mi casa, su casa.\"\n",
    "\n",
    "x = txt.rfind(\"casa\")\n",
    "\n",
    "print(x)"
   ]
  },
  {
   "cell_type": "code",
   "execution_count": 207,
   "id": "ada56549",
   "metadata": {},
   "outputs": [
    {
     "name": "stdout",
     "output_type": "stream",
     "text": [
      "13\n"
     ]
    }
   ],
   "source": [
    "#Where in the text is the last occurrence of the letter \"e\"?:\n",
    "\n",
    "txt = \"Hello, welcome to my world.\"\n",
    "\n",
    "x = txt.rfind(\"e\")\n",
    "\n",
    "print(x)"
   ]
  },
  {
   "cell_type": "code",
   "execution_count": 208,
   "id": "b555b614",
   "metadata": {},
   "outputs": [
    {
     "name": "stdout",
     "output_type": "stream",
     "text": [
      "8\n"
     ]
    }
   ],
   "source": [
    "#Where in the text is the last occurrence of the letter \"e\" when you only search between position 5 and 10?:\n",
    "\n",
    "txt = \"Hello, welcome to my world.\"\n",
    "\n",
    "x = txt.rfind(\"e\", 5, 10)\n",
    "\n",
    "print(x)"
   ]
  },
  {
   "cell_type": "code",
   "execution_count": 209,
   "id": "e29272e3",
   "metadata": {},
   "outputs": [
    {
     "name": "stdout",
     "output_type": "stream",
     "text": [
      "-1\n"
     ]
    },
    {
     "ename": "ValueError",
     "evalue": "substring not found",
     "output_type": "error",
     "traceback": [
      "\u001b[1;31m---------------------------------------------------------------------------\u001b[0m",
      "\u001b[1;31mValueError\u001b[0m                                Traceback (most recent call last)",
      "\u001b[1;32mC:\\Users\\RAJU~1.GUL\\AppData\\Local\\Temp/ipykernel_16980/2129814549.py\u001b[0m in \u001b[0;36m<module>\u001b[1;34m\u001b[0m\n\u001b[0;32m      4\u001b[0m \u001b[1;33m\u001b[0m\u001b[0m\n\u001b[0;32m      5\u001b[0m \u001b[0mprint\u001b[0m\u001b[1;33m(\u001b[0m\u001b[0mtxt\u001b[0m\u001b[1;33m.\u001b[0m\u001b[0mrfind\u001b[0m\u001b[1;33m(\u001b[0m\u001b[1;34m\"q\"\u001b[0m\u001b[1;33m)\u001b[0m\u001b[1;33m)\u001b[0m\u001b[1;33m\u001b[0m\u001b[1;33m\u001b[0m\u001b[0m\n\u001b[1;32m----> 6\u001b[1;33m \u001b[0mprint\u001b[0m\u001b[1;33m(\u001b[0m\u001b[0mtxt\u001b[0m\u001b[1;33m.\u001b[0m\u001b[0mrindex\u001b[0m\u001b[1;33m(\u001b[0m\u001b[1;34m\"q\"\u001b[0m\u001b[1;33m)\u001b[0m\u001b[1;33m)\u001b[0m\u001b[1;33m\u001b[0m\u001b[1;33m\u001b[0m\u001b[0m\n\u001b[0m",
      "\u001b[1;31mValueError\u001b[0m: substring not found"
     ]
    }
   ],
   "source": [
    "#If the value is not found, the rfind() method returns -1, but the rindex() method will raise an exception:\n",
    "\n",
    "txt = \"Hello, welcome to my world.\"\n",
    "\n",
    "print(txt.rfind(\"q\"))\n",
    "print(txt.rindex(\"q\"))"
   ]
  },
  {
   "cell_type": "markdown",
   "id": "f221bf28",
   "metadata": {},
   "source": [
    "## partition()\n",
    "\n",
    "- The partition() method searches for a specified string, and splits the string into a tuple containing three elements.\n",
    "\n",
    "- The first element contains the part before the specified string.\n",
    "\n",
    "- The second element contains the specified string.\n",
    "\n",
    "- The third element contains the part after the string.\n",
    "- Note: This method searches for the first occurrence of the specified string.\n",
    "## Syntax\n",
    "- string.partition(value)\n",
    "- value\tRequired. The string to search for"
   ]
  },
  {
   "cell_type": "code",
   "execution_count": 210,
   "id": "047085ad",
   "metadata": {},
   "outputs": [
    {
     "name": "stdout",
     "output_type": "stream",
     "text": [
      "('I could eat ', 'bananas', ' all day')\n"
     ]
    }
   ],
   "source": [
    "# Search for the word \"bananas\", and return a tuple with three elements:\n",
    "\n",
    "# 1 - everything before the \"match\"\n",
    "# 2 - the \"match\"\n",
    "# 3 - everything after the \"match\"\n",
    "\n",
    "txt = \"I could eat bananas all day\"\n",
    "print(txt.partition('bananas'))"
   ]
  },
  {
   "cell_type": "code",
   "execution_count": 211,
   "id": "6125d6a7",
   "metadata": {},
   "outputs": [
    {
     "name": "stdout",
     "output_type": "stream",
     "text": [
      "('I could eat bananas all day', '', '')\n"
     ]
    }
   ],
   "source": [
    "# If the specified value is not found, the partition() method returns a tuple containing: 1 - the whole string, 2 - an empty string, 3 - an empty string:\n",
    "\n",
    "txt = \"I could eat bananas all day\"\n",
    "\n",
    "x = txt.partition(\"apples\")\n",
    "\n",
    "print(x)"
   ]
  },
  {
   "cell_type": "code",
   "execution_count": 3,
   "id": "7ce488ff",
   "metadata": {},
   "outputs": [
    {
     "name": "stdout",
     "output_type": "stream",
     "text": [
      "Hello, universe!\n",
      "Heo, word!\n",
      "-------Hello, world!\n",
      "Hello, world!-------\n",
      "---Hello, world!----\n",
      "Hello, world\n",
      "ello, world!\n",
      "Hello, world\n"
     ]
    }
   ],
   "source": [
    "#Using string methods to modify strings:\n",
    "\n",
    "string1 = 'Hello, world!'\n",
    "\n",
    "# Replacing a substring in a string\n",
    "print(string1.replace('world', 'universe'))  # prints 'Hello, universe!'\n",
    "\n",
    "# Removing all occurrences of a substring from a string\n",
    "print(string1.replace('l', ''))  # prints 'Heo, word!'\n",
    "\n",
    "# Adding padding to a string\n",
    "print(string1.rjust(20, '-'))  # prints '-------Hello, world!'\n",
    "print(string1.ljust(20, '-'))  # prints 'Hello, world!-------'\n",
    "print(string1.center(20, '-'))  # prints '---Hello, world!----'\n",
    "\n",
    "# Removing leading and trailing characters from a string\n",
    "print(string1.strip('!'))  # prints 'Hello, world'\n",
    "print(string1.lstrip('H'))  # prints 'ello, world!'\n",
    "print(string1.rstrip('!'))  # prints 'Hello, world'"
   ]
  },
  {
   "cell_type": "code",
   "execution_count": 4,
   "id": "85b1de25",
   "metadata": {},
   "outputs": [
    {
     "name": "stdout",
     "output_type": "stream",
     "text": [
      "Hello, world!\n",
      "Hello, world!\n",
      "Hello, world!\n"
     ]
    }
   ],
   "source": [
    "#Using string concatenation to build a string\n",
    "\n",
    "string1 = 'Hello'\n",
    "string2 = ', world!'\n",
    "\n",
    "# Concatenating strings using the + operator\n",
    "string3 = string1 + string2\n",
    "print(string3)  # prints 'Hello, world!'\n",
    "\n",
    "# Concatenating strings using string formatting\n",
    "string4 = '{}{}'.format(string1, string2)\n",
    "print(string4)  # prints 'Hello, world!'\n",
    "\n",
    "# Concatenating strings using f-strings (Python 3.6 and above)\n",
    "string5 = f'{string1}{string2}'\n",
    "print(string5)  # prints 'Hello, world!'"
   ]
  },
  {
   "cell_type": "code",
   "execution_count": 5,
   "id": "356c9781",
   "metadata": {},
   "outputs": [
    {
     "name": "stdout",
     "output_type": "stream",
     "text": [
      "True\n",
      "False\n",
      "True\n",
      "False\n",
      "False\n",
      "False\n",
      "False\n",
      "False\n"
     ]
    }
   ],
   "source": [
    "#Using string methods to extract information from strings:\n",
    "\n",
    "string1 = 'Hello, world!'\n",
    "\n",
    "# Checking if a string starts with a certain substring\n",
    "print(string1.startswith('Hello'))  # prints True\n",
    "print(string1.startswith('hello'))  # prints False\n",
    "\n",
    "# Checking if a string ends with a certain substring\n",
    "print(string1.endswith('world!'))  # prints True\n",
    "print(string1.endswith('world'))  # prints False\n",
    "\n",
    "# Checking if a string is all uppercase or all lowercase\n",
    "print(string1.isupper())  # prints False\n",
    "print(string1.islower())  # prints False\n",
    "\n",
    "# Checking if a string is alphabetic\n",
    "print(string1.isalpha())  # prints False\n",
    "\n",
    "# Checking if a string is alphanumeric\n",
    "print(string1.isalnum())  # prints False"
   ]
  },
  {
   "cell_type": "code",
   "execution_count": 6,
   "id": "4d12e669",
   "metadata": {},
   "outputs": [
    {
     "name": "stdout",
     "output_type": "stream",
     "text": [
      "HELLO, WORLD!\n",
      "hello, world!\n",
      "Hello, world!\n",
      "Hello, world!\n",
      "['Hello', ' world!']\n",
      "Hello,world!\n"
     ]
    }
   ],
   "source": [
    "#Using string methods to manipulate strings\n",
    "\n",
    "string1 = 'Hello, world!'\n",
    "\n",
    "# Changing the case of the string\n",
    "print(string1.upper())  # prints 'HELLO, WORLD!'\n",
    "print(string1.lower())  # prints 'hello, world!'\n",
    "print(string1.capitalize())  # prints 'Hello, world!'\n",
    "\n",
    "# Removing whitespace from the beginning and end of the string\n",
    "string2 = '  Hello, world!  '\n",
    "print(string2.strip())  # prints 'Hello, world!'\n",
    "\n",
    "# Splitting the string into a list of substrings\n",
    "print(string1.split(','))  # prints ['Hello', ' world!']\n",
    "\n",
    "# Joining a list of strings into a single string\n",
    "words = ['Hello', 'world!']\n",
    "print(','.join(words))  # prints 'Hello,world!'"
   ]
  },
  {
   "cell_type": "code",
   "execution_count": 7,
   "id": "54fa6ac0",
   "metadata": {},
   "outputs": [
    {
     "name": "stdout",
     "output_type": "stream",
     "text": [
      "['25']\n",
      "['Hello', 'my', 'name', 'is', 'Alice', 'and', 'I', 'am', '25', 'years', 'old']\n",
      "[]\n"
     ]
    }
   ],
   "source": [
    "#Using regular expressions to extract information from a string:\n",
    "\n",
    "\n",
    "\n",
    "import re\n",
    "\n",
    "string1 = 'Hello, my name is Alice and I am 25 years old.'\n",
    "\n",
    "# Extracting all digits from the string\n",
    "print(re.findall(r'\\d+', string1))  # prints ['25']\n",
    "\n",
    "# Extracting all words from the string\n",
    "print(re.findall(r'\\b\\w+\\b', string1))  # prints ['Hello', 'my', 'name', 'is', 'Alice', 'and', 'I', 'am', '25', 'years', 'old']\n",
    "\n",
    "# Extracting all email addresses from the string (assuming there are none)\n",
    "print(re.findall(r'[\\w\\.-]+@[\\w\\.-]+', string1))  # prints []"
   ]
  },
  {
   "cell_type": "code",
   "execution_count": 8,
   "id": "4e7170a3",
   "metadata": {},
   "outputs": [
    {
     "name": "stdout",
     "output_type": "stream",
     "text": [
      "Hello, world! !!!\n",
      "Hello, world! *******!!!\n",
      "Hello, world! *******!!!\n"
     ]
    }
   ],
   "source": [
    "#Using string formatting and string interpolation to build a string:\n",
    "\n",
    "string1 = 'Hello, world!'\n",
    "\n",
    "# Building a string using string formatting\n",
    "string2 = '{} {}'.format(string1, '!!!')\n",
    "print(string2)  # prints 'Hello, world! !!!'\n",
    "\n",
    "# Building a string using string interpolation\n",
    "string3 = f'{string1} {\"!!!\".rjust(10, \"*\")}'\n",
    "print(string3)  # prints 'Hello, world! *****!!!'\n",
    "\n",
    "# Building a string using a combination of string formatting and string interpolation\n",
    "string4 = '{}{}'.format(string1, f' {\"!!!\".rjust(10, \"*\")}')\n",
    "print(string4)  # prints 'Hello, world! *****!!!'"
   ]
  },
  {
   "cell_type": "code",
   "execution_count": 9,
   "id": "ed98fac9",
   "metadata": {},
   "outputs": [
    {
     "name": "stdout",
     "output_type": "stream",
     "text": [
      "['HELLO, WORLD!', 'HELLO, UNIVERSE!', 'GOODBYE, WORLD!']\n",
      "['Hello, world!', 'Hello, universe!']\n",
      "['Hello, world!', 'Hello, universe!', 'Goodbye, world!']\n"
     ]
    }
   ],
   "source": [
    "#Using string methods and list comprehensions to manipulate a list of strings:\n",
    "\n",
    "strings = ['Hello, world!', 'Hello, universe!', 'Goodbye, world!']\n",
    "\n",
    "# Creating a new list with all strings converted to uppercase\n",
    "uppercase_strings = [string.upper() for string in strings]\n",
    "print(uppercase_strings)  # prints ['HELLO, WORLD!', 'HELLO, UNIVERSE!', 'GOODBYE, WORLD!']\n",
    "\n",
    "# Creating a new list with all strings that contain the word 'Hello'\n",
    "hello_strings = [string for string in strings if 'Hello' in string]\n",
    "print(hello_strings)  # prints ['Hello, world!', 'Hello, universe!']\n",
    "\n",
    "# Sorting the list of strings in reverse alphabetical order\n",
    "sorted_strings = sorted(strings, reverse=True)\n",
    "print(sorted_strings)  # prints ['Hello, universe!', 'Hello, world!', 'Goodbye, world!']"
   ]
  },
  {
   "cell_type": "code",
   "execution_count": 16,
   "id": "88a2179c",
   "metadata": {},
   "outputs": [
    {
     "name": "stdout",
     "output_type": "stream",
     "text": [
      "False\n",
      "True\n",
      "False\n",
      "False\n",
      "False\n",
      "False\n",
      "True\n",
      "False\n",
      "True\n",
      "False\n",
      "False\n",
      "False\n",
      "False\n",
      "False\n",
      "False\n",
      "False\n"
     ]
    }
   ],
   "source": [
    "#Using the string module to perform various string operations:\n",
    "\n",
    "import string\n",
    "\n",
    "string1 = 'Hello, world!'\n",
    "\n",
    "# Checking if a string is a punctuation character\n",
    "print(string1[0] in string.punctuation)  # prints False\n",
    "print(string1[-1] in string.punctuation)  # prints True\n",
    "\n",
    "# Checking if a string is a whitespace character\n",
    "print(string1[0] in string.whitespace)  # prints False\n",
    "print(string1[-1] in string.whitespace)  # prints False\n",
    "\n",
    "# Checking if a string is an ASCII lowercase letter\n",
    "print(string1[0] in string.ascii_lowercase)  # prints False\n",
    "print(string1[-1] in string.ascii_lowercase)  # prints False\n",
    "\n",
    "# Checking if a string is an ASCII uppercase letter\n",
    "print(string1[0] in string.ascii_uppercase)  # prints True\n",
    "print(string1[-1] in string.ascii_uppercase)  # prints False\n",
    "\n",
    "# Checking if a string is an ASCII letter\n",
    "print(string1[0] in string.ascii_letters)  # prints True\n",
    "print(string1[-1] in string.ascii_letters)  # prints False\n",
    "\n",
    "# Checking if a string is an ASCII decimal digit\n",
    "print(string1[0] in string.digits)  # prints False\n",
    "print(string1[-1] in string.digits)  # prints False\n",
    "\n",
    "# Checking if a string is an ASCII hexadecimal digit\n",
    "print(string1[0] in string.hexdigits)  # prints False\n",
    "print(string1[-1] in string.hexdigits)  # prints False\n",
    "\n",
    "# Checking if a string is an ASCII octal digit\n",
    "print(string1[0] in string.octdigits)  # prints False\n",
    "print(string1[-1] in string.octdigits)  # prints False"
   ]
  },
  {
   "cell_type": "code",
   "execution_count": 19,
   "id": "5bd32f32",
   "metadata": {},
   "outputs": [
    {
     "name": "stdout",
     "output_type": "stream",
     "text": [
      "world! Hello,\n",
      "dog. lazy the over jumps fox brown quick The\n",
      "words. no has string This\n"
     ]
    }
   ],
   "source": [
    "#Defining a function to reverse the words in a string:\n",
    "\n",
    "def reverse_words(string):\n",
    "    \"\"\"Reverse the words in a string.\"\"\"\n",
    "    words = string.split()\n",
    "    words.reverse()\n",
    "    return ' '.join(words)\n",
    "\n",
    "string1 = 'Hello, world!'\n",
    "print(reverse_words(string1))  # prints 'world! Hello,'\n",
    "\n",
    "string2 = 'The quick brown fox jumps over the lazy dog.'\n",
    "print(reverse_words(string2))  # prints 'dog. lazy the over jumps fox brown quick The'\n",
    "\n",
    "string3 = 'This string has no words.'\n",
    "print(reverse_words(string3))  # prints 'words. no has string This'"
   ]
  },
  {
   "cell_type": "code",
   "execution_count": 20,
   "id": "29e61515",
   "metadata": {},
   "outputs": [
    {
     "name": "stdout",
     "output_type": "stream",
     "text": [
      "True\n",
      "False\n",
      "True\n",
      "False\n"
     ]
    }
   ],
   "source": [
    "#An anagram is a word or phrase formed by rearranging the letters of another word or phrase. For example, the word \"listen\" is an anagram of the word \"silent\", and the phrase \"School master\" is an anagram of the phrase \"The classroom\". Anagrams are often used as a form of word play or puzzles, and can be used to create hidden messages or codes.\n",
    "def is_anagram(string1, string2):\n",
    "    \"\"\"Check if a string is an anagram of another string.\"\"\"\n",
    "    string1 = string1.lower()\n",
    "    string2 = string2.lower()\n",
    "    return sorted(string1) == sorted(string2)\n",
    "\n",
    "string1 = 'listen'\n",
    "string2 = 'silent'\n",
    "print(is_anagram(string1, string2))  # prints True\n",
    "\n",
    "string3 = 'hello'\n",
    "string4 = 'world'\n",
    "print(is_anagram(string3, string4))  # prints False\n",
    "\n",
    "string5 = 'School master'\n",
    "string6 = 'The classroom'\n",
    "print(is_anagram(string5, string6))  # prints True\n",
    "\n",
    "string7 = 'aabbcc'\n",
    "string8 = 'ababab'\n",
    "print(is_anagram(string7, string8))  # prints False"
   ]
  },
  {
   "cell_type": "code",
   "execution_count": 25,
   "id": "b6329c1a",
   "metadata": {},
   "outputs": [
    {
     "ename": "AttributeError",
     "evalue": "'str' object has no attribute 'ascii_lowercase'",
     "output_type": "error",
     "traceback": [
      "\u001b[1;31m---------------------------------------------------------------------------\u001b[0m",
      "\u001b[1;31mAttributeError\u001b[0m                            Traceback (most recent call last)",
      "Input \u001b[1;32mIn [25]\u001b[0m, in \u001b[0;36m<cell line: 15>\u001b[1;34m()\u001b[0m\n\u001b[0;32m     12\u001b[0m     \u001b[38;5;28;01mreturn\u001b[39;00m \u001b[38;5;129;01mnot\u001b[39;00m alphabet\n\u001b[0;32m     14\u001b[0m string1 \u001b[38;5;241m=\u001b[39m \u001b[38;5;124m'\u001b[39m\u001b[38;5;124mThe quick brown fox jumps over the lazy dog.\u001b[39m\u001b[38;5;124m'\u001b[39m\n\u001b[1;32m---> 15\u001b[0m \u001b[38;5;28mprint\u001b[39m(\u001b[43mis_pangram\u001b[49m\u001b[43m(\u001b[49m\u001b[43mstring1\u001b[49m\u001b[43m)\u001b[49m)  \u001b[38;5;66;03m# prints True\u001b[39;00m\n\u001b[0;32m     17\u001b[0m string2 \u001b[38;5;241m=\u001b[39m \u001b[38;5;124m'\u001b[39m\u001b[38;5;124mHello, world!\u001b[39m\u001b[38;5;124m'\u001b[39m\n\u001b[0;32m     18\u001b[0m \u001b[38;5;28mprint\u001b[39m(is_pangram(string2))  \u001b[38;5;66;03m# prints False\u001b[39;00m\n",
      "Input \u001b[1;32mIn [25]\u001b[0m, in \u001b[0;36mis_pangram\u001b[1;34m(string)\u001b[0m\n\u001b[0;32m      6\u001b[0m \u001b[38;5;28;01mdef\u001b[39;00m \u001b[38;5;21mis_pangram\u001b[39m(string):\n\u001b[0;32m      7\u001b[0m     \u001b[38;5;124;03m\"\"\"Check if a string is a pangram.\"\"\"\u001b[39;00m\n\u001b[1;32m----> 8\u001b[0m     alphabet \u001b[38;5;241m=\u001b[39m \u001b[38;5;28mset\u001b[39m(\u001b[43mstring\u001b[49m\u001b[38;5;241;43m.\u001b[39;49m\u001b[43mascii_lowercase\u001b[49m)\n\u001b[0;32m      9\u001b[0m     \u001b[38;5;28;01mfor\u001b[39;00m c \u001b[38;5;129;01min\u001b[39;00m string\u001b[38;5;241m.\u001b[39mlower():\n\u001b[0;32m     10\u001b[0m         \u001b[38;5;28;01mif\u001b[39;00m c \u001b[38;5;129;01min\u001b[39;00m alphabet:\n",
      "\u001b[1;31mAttributeError\u001b[0m: 'str' object has no attribute 'ascii_lowercase'"
     ]
    }
   ],
   "source": [
    "#A pangram is a sentence or phrase that uses every letter of the alphabet at least once. This function checks if a given string is a pangram by creating a set of all the lowercase letters in the alphabet, and then checking if each letter in the input string is in the set. If a letter is in the set, it is removed from the set. If the set is empty at the end, the input string is a pangram.\n",
    "\n",
    "\n",
    "import string\n",
    "\n",
    "def is_pangram(string):\n",
    "    \"\"\"Check if a string is a pangram.\"\"\"\n",
    "    alphabet = set(string.ascii_lowercase)\n",
    "    for c in string.lower():\n",
    "        if c in alphabet:\n",
    "            alphabet.remove(c)\n",
    "    return not alphabet\n",
    "\n",
    "string1 = 'The quick brown fox jumps over the lazy dog.'\n",
    "print(is_pangram(string1))  # prints True\n",
    "\n",
    "string2 = 'Hello, world!'\n",
    "print(is_pangram(string2))  # prints False\n",
    "\n",
    "string3 = 'abcdefghijklmnopqrstuvwxyz'\n",
    "print(is_pangram(string3))  # prints True\n",
    "\n",
    "string4 = 'A pangram is a sentence containing every letter of the alphabet.'\n",
    "print(is_pangram(string4))  # prints True\n",
    "\n",
    "string5 = 'A pangram is a sentence containing every letter of the alphabet, but this one is missing the letter x.'\n",
    "print(is_pangram(string5))  # prints False"
   ]
  },
  {
   "cell_type": "code",
   "execution_count": 26,
   "id": "933ae478",
   "metadata": {},
   "outputs": [
    {
     "ename": "AttributeError",
     "evalue": "'str' object has no attribute 'ascii_lowercase'",
     "output_type": "error",
     "traceback": [
      "\u001b[1;31m---------------------------------------------------------------------------\u001b[0m",
      "\u001b[1;31mAttributeError\u001b[0m                            Traceback (most recent call last)",
      "Input \u001b[1;32mIn [26]\u001b[0m, in \u001b[0;36m<cell line: 12>\u001b[1;34m()\u001b[0m\n\u001b[0;32m      9\u001b[0m     \u001b[38;5;28;01mreturn\u001b[39;00m \u001b[38;5;129;01mnot\u001b[39;00m alphabet\n\u001b[0;32m     11\u001b[0m string1 \u001b[38;5;241m=\u001b[39m \u001b[38;5;124m'\u001b[39m\u001b[38;5;124mThe quick brown fox jumps over the lazy dog.\u001b[39m\u001b[38;5;124m'\u001b[39m\n\u001b[1;32m---> 12\u001b[0m \u001b[38;5;28mprint\u001b[39m(\u001b[43mis_pangram\u001b[49m\u001b[43m(\u001b[49m\u001b[43mstring1\u001b[49m\u001b[43m)\u001b[49m)  \u001b[38;5;66;03m# prints True\u001b[39;00m\n\u001b[0;32m     14\u001b[0m string2 \u001b[38;5;241m=\u001b[39m \u001b[38;5;124m'\u001b[39m\u001b[38;5;124mHello, world!\u001b[39m\u001b[38;5;124m'\u001b[39m\n\u001b[0;32m     15\u001b[0m \u001b[38;5;28mprint\u001b[39m(is_pangram(string2))  \u001b[38;5;66;03m# prints False\u001b[39;00m\n",
      "Input \u001b[1;32mIn [26]\u001b[0m, in \u001b[0;36mis_pangram\u001b[1;34m(string)\u001b[0m\n\u001b[0;32m      3\u001b[0m \u001b[38;5;28;01mdef\u001b[39;00m \u001b[38;5;21mis_pangram\u001b[39m(string):\n\u001b[0;32m      4\u001b[0m     \u001b[38;5;124;03m\"\"\"Check if a string is a pangram.\"\"\"\u001b[39;00m\n\u001b[1;32m----> 5\u001b[0m     alphabet \u001b[38;5;241m=\u001b[39m \u001b[38;5;28mset\u001b[39m(\u001b[43mstring\u001b[49m\u001b[38;5;241;43m.\u001b[39;49m\u001b[43mascii_lowercase\u001b[49m)  \u001b[38;5;66;03m# use string.ascii_lowercase\u001b[39;00m\n\u001b[0;32m      6\u001b[0m     \u001b[38;5;28;01mfor\u001b[39;00m c \u001b[38;5;129;01min\u001b[39;00m string\u001b[38;5;241m.\u001b[39mlower():\n\u001b[0;32m      7\u001b[0m         \u001b[38;5;28;01mif\u001b[39;00m c \u001b[38;5;129;01min\u001b[39;00m alphabet:\n",
      "\u001b[1;31mAttributeError\u001b[0m: 'str' object has no attribute 'ascii_lowercase'"
     ]
    }
   ],
   "source": [
    "import string\n",
    "\n",
    "def is_pangram(string):\n",
    "    \"\"\"Check if a string is a pangram.\"\"\"\n",
    "    alphabet = set(string.ascii_lowercase)  # use string.ascii_lowercase\n",
    "    for c in string.lower():\n",
    "        if c in alphabet:\n",
    "            alphabet.remove(c)\n",
    "    return not alphabet\n",
    "\n",
    "string1 = 'The quick brown fox jumps over the lazy dog.'\n",
    "print(is_pangram(string1))  # prints True\n",
    "\n",
    "string2 = 'Hello, world!'\n",
    "print(is_pangram(string2))  # prints False\n",
    "\n",
    "string3 = 'abcdefghijklmnopqrstuvwxyz'\n",
    "print(is_pangram(string3))  # prints True\n",
    "\n",
    "string4 = 'A pangram is a sentence containing every letter of the alphabet.'\n",
    "print(is_pangram(string4))  # prints True\n",
    "\n",
    "string5 = 'A pangram is a sentence containing every letter of the alphabet, but this one is missing the letter x.'\n",
    "print(is_pangram(string5))  # prints False"
   ]
  },
  {
   "cell_type": "code",
   "execution_count": 29,
   "id": "e630c227",
   "metadata": {},
   "outputs": [
    {
     "name": "stdout",
     "output_type": "stream",
     "text": [
      "{'H': 1, 'e': 1, 'l': 3, 'o': 2, ',': 1, ' ': 1, 'w': 1, 'r': 1, 'd': 1, '!': 1}\n",
      "{'T': 1, 'h': 2, 'e': 3, ' ': 7, 'q': 1, 'u': 2, 'i': 1, 'c': 1, 'k': 1, 'b': 1, 'r': 2, 'o': 3, 'w': 1, 'n': 1, 'f': 1, 'x': 1, 'j': 1, 'm': 1, 'p': 1, 's': 1, 'v': 1, 't': 1, 'l': 1, 'a': 1, 'z': 1, 'y': 1}\n"
     ]
    }
   ],
   "source": [
    "# Write a function that takes a string as input and returns a dictionary with the frequency of each character in the string.\n",
    "\n",
    "def character_frequency(string):\n",
    "    \"\"\"Count the frequency of each character in a string.\"\"\"\n",
    "    frequency = {}\n",
    "    for c in string:\n",
    "        if c in frequency:\n",
    "            frequency[c] += 1\n",
    "        else:\n",
    "            frequency[c] = 1\n",
    "    return frequency\n",
    "\n",
    "print(character_frequency('Hello, world!'))  # prints {'H': 1, 'e': 1, 'l': 3, 'o': 2, ', ': 1, 'w': 1, 'r': 1, 'd': 1, '!': 1}\n",
    "print(character_frequency('The quick brown fox jumps over the lazy'))"
   ]
  },
  {
   "cell_type": "code",
   "execution_count": 31,
   "id": "6a88b562",
   "metadata": {},
   "outputs": [
    {
     "name": "stdout",
     "output_type": "stream",
     "text": [
      "Hello, World!\n",
      "The Quick Brown Fox Jumps Over The Lazy Dog.\n",
      "This String Has No Capitalized Words.\n"
     ]
    }
   ],
   "source": [
    "#Write a function that takes a string as input and returns a new string with all the words capitalized.\n",
    "\n",
    "def capitalize_words(string):\n",
    "    \"\"\"Capitalize all words in a string.\"\"\"\n",
    "    words = string.split()\n",
    "    capitalized_words = [word.capitalize() for word in words]\n",
    "    return ' '.join(capitalized_words)\n",
    "\n",
    "print(capitalize_words('Hello, world!'))  # prints 'Hello, World!'\n",
    "print(capitalize_words('The quick brown fox jumps over the lazy dog.'))  # prints 'The Quick Brown Fox Jumps Over The Lazy Dog.'\n",
    "print(capitalize_words('This string has no capitalized words.'))  # prints 'This String Has No Capitalized Words.'"
   ]
  },
  {
   "cell_type": "code",
   "execution_count": 32,
   "id": "7726e8b2",
   "metadata": {},
   "outputs": [
    {
     "name": "stdout",
     "output_type": "stream",
     "text": [
      "Hello, world!\n",
      "The brown dog. fox jumps lazy over quick the\n",
      "This alphabetical has no order. string\n"
     ]
    }
   ],
   "source": [
    "#Write a function that takes a string as input and returns a new string with all the words in alphabetical order.\n",
    "\n",
    "def sort_words(string):\n",
    "    \"\"\"Sort the words in a string alphabetically.\"\"\"\n",
    "    words = string.split()\n",
    "    sorted_words = sorted(words)\n",
    "    return ' '.join(sorted_words)\n",
    "\n",
    "print(sort_words('Hello, world!'))  # prints 'Hello, world!'\n",
    "print(sort_words('The quick brown fox jumps over the lazy dog.'))  # prints 'The brown fox jumps lazy over quick the the dog.'\n",
    "print(sort_words('This string has no alphabetical order.'))  # prints 'alphabetical has no order. string This'"
   ]
  },
  {
   "cell_type": "code",
   "execution_count": 33,
   "id": "6b195f8b",
   "metadata": {},
   "outputs": [
    {
     "name": "stdout",
     "output_type": "stream",
     "text": [
      "H*ll*, w*rld!\n",
      "Th* q**ck br*wn f*x j*mps *v*r th* l*zy d*g.\n",
      "Th*s str*ng h*s n* v*w*ls.\n"
     ]
    }
   ],
   "source": [
    "#Write a function that takes a string as input and returns a new string with all the vowels replaced by '*'.\n",
    "\n",
    "def mask_vowels(string):\n",
    "    \"\"\"Replace all vowels in a string with '*'.\"\"\"\n",
    "    vowels = 'aeiouAEIOU'\n",
    "    return ''.join('*' if c in vowels else c for c in string)\n",
    "\n",
    "print(mask_vowels('Hello, world!'))  # prints 'H*ll*, w*rld!'\n",
    "print(mask_vowels('The quick brown fox jumps over the lazy dog.'))  # prints 'Th* q**ck br*wn f*x j*mps *v*r th* l*zy d*g.'\n",
    "print(mask_vowels('This string has no vowels.'))  # prints 'Th*s str*ng h*s n* v*w*ls.'"
   ]
  },
  {
   "cell_type": "code",
   "execution_count": 34,
   "id": "ee1feef6",
   "metadata": {},
   "outputs": [
    {
     "name": "stdout",
     "output_type": "stream",
     "text": [
      "3\n",
      "11\n",
      "6\n"
     ]
    }
   ],
   "source": [
    "#Write a function that takes a string as input and returns the number of vowels in the string.\n",
    "\n",
    "def count_vowels(string):\n",
    "    \"\"\"Count the number of vowels in a string.\"\"\"\n",
    "    vowels = 'aeiouAEIOU'\n",
    "    return sum(1 for c in string if c in vowels)\n",
    "\n",
    "print(count_vowels('Hello, world!'))  # prints 3\n",
    "print(count_vowels('The quick brown fox jumps over the lazy dog.'))  # prints 12\n",
    "print(count_vowels('This string has no vowels.'))  # prints 0"
   ]
  },
  {
   "cell_type": "code",
   "execution_count": 35,
   "id": "e4902777",
   "metadata": {},
   "outputs": [
    {
     "name": "stdout",
     "output_type": "stream",
     "text": [
      "Hello,\n",
      "quick\n",
      "string\n"
     ]
    }
   ],
   "source": [
    "#Write a function that takes a string as input and returns the longest word in the string.\n",
    "\n",
    "def longest_word(string):\n",
    "    \"\"\"Find the longest word in a string.\"\"\"\n",
    "    words = string.split()\n",
    "    longest = max(words, key=len)\n",
    "    return longest\n",
    "\n",
    "print(longest_word('Hello, world!'))  # prints 'world'\n",
    "print(longest_word('The quick brown fox jumps over the lazy dog.'))  # prints 'jumps'\n",
    "print(longest_word('This string has no long words.'))  # prints 'string'"
   ]
  },
  {
   "cell_type": "code",
   "execution_count": 36,
   "id": "8a55af56",
   "metadata": {},
   "outputs": [
    {
     "name": "stdout",
     "output_type": "stream",
     "text": [
      "Hello,\n",
      "The\n",
      "no\n"
     ]
    }
   ],
   "source": [
    "#Write a function that takes a string as input and returns the shortest word in the string.\n",
    "\n",
    "def shortest_word(string):\n",
    "    \"\"\"Find the shortest word in a string.\"\"\"\n",
    "    words = string.split()\n",
    "    shortest = min(words, key=len)\n",
    "    return shortest\n",
    "\n",
    "print(shortest_word('Hello, world!'))  # prints 'Hello'\n",
    "print(shortest_word('The quick brown fox jumps over the lazy dog.'))  # prints 'The'\n",
    "print(shortest_word('This string has no short words.'))  # prints 'no'"
   ]
  },
  {
   "cell_type": "code",
   "execution_count": 37,
   "id": "17d943de",
   "metadata": {},
   "outputs": [
    {
     "name": "stdout",
     "output_type": "stream",
     "text": [
      "world! Hello,\n",
      "dog. quick jumps over lazy the brown fox The\n",
      "string word order. no has This\n"
     ]
    }
   ],
   "source": [
    "#Write a function that takes a string as input and returns a new string with all the words shuffled randomly.\n",
    "\n",
    "import random\n",
    "\n",
    "def shuffle_words(string):\n",
    "    \"\"\"Shuffle the words in a string randomly.\"\"\"\n",
    "    words = string.split()\n",
    "    random.shuffle(words)\n",
    "    return ' '.join(words)\n",
    "\n",
    "print(shuffle_words('Hello, world!'))  # example output: 'world! Hello,'\n",
    "print(shuffle_words('The quick brown fox jumps over the lazy dog.'))  # example output: 'jumps brown the fox The over dog. lazy quick'\n",
    "print(shuffle_words('This string has no word order.'))  # example output: 'order. This word no string has'"
   ]
  },
  {
   "cell_type": "code",
   "execution_count": 38,
   "id": "f1e01e28",
   "metadata": {},
   "outputs": [
    {
     "name": "stdout",
     "output_type": "stream",
     "text": [
      "el,wrd\n",
      "h uc rw o up vrtelz o.\n",
      "hssrn a oee nie.\n"
     ]
    }
   ],
   "source": [
    "#Write a function that takes a string as input and returns a new string with all the characters in even indices removed.\n",
    "\n",
    "def remove_even_indices(string):\n",
    "    \"\"\"Remove all characters in even indices from a string.\"\"\"\n",
    "    return string[1::2]\n",
    "\n",
    "print(remove_even_indices('Hello, world!'))  # prints 'el ol'\n",
    "print(remove_even_indices('The quick brown fox jumps over the lazy dog.'))  # prints 'h qikrn ojmvr hzy o'\n",
    "print(remove_even_indices('This string has no even indices.'))  # prints 'h tigas n enie'"
   ]
  },
  {
   "cell_type": "code",
   "execution_count": 39,
   "id": "ea3d7ad4",
   "metadata": {},
   "outputs": [
    {
     "name": "stdout",
     "output_type": "stream",
     "text": [
      "3\n",
      "4\n",
      "3\n"
     ]
    }
   ],
   "source": [
    "#Write a function that takes a string as input and returns the number of times a given character appears in the string.\n",
    "\n",
    "def count_character(string, character):\n",
    "    \"\"\"Count the number of times a character appears in a string.\"\"\"\n",
    "    return sum(1 for c in string if c == character)\n",
    "\n",
    "print(count_character('Hello, world!', 'l'))  # prints 2\n",
    "print(count_character('The quick brown fox jumps over the lazy dog.', 'o'))  # prints 4\n",
    "print(count_character('This string has no character count.', 'a'))  # prints 0"
   ]
  },
  {
   "cell_type": "code",
   "execution_count": 40,
   "id": "17a7936e",
   "metadata": {},
   "outputs": [
    {
     "name": "stdout",
     "output_type": "stream",
     "text": [
      "H\n",
      "T\n",
      "T\n"
     ]
    }
   ],
   "source": [
    "#Write a function that takes a string as input and returns the first non-repeated character in the string.\n",
    "\n",
    "def first_non_repeated(string):\n",
    "    \"\"\"Find the first non-repeated character in a string.\"\"\"\n",
    "    for c in string:\n",
    "        if string.count(c) == 1:\n",
    "            return c\n",
    "    return None\n",
    "\n",
    "print(first_non_repeated('Hello, world!'))  # prints 'H'\n",
    "print(first_non_repeated('The quick brown fox jumps over the lazy dog.'))  # prints 'T'\n",
    "print(first_non_repeated('This string has no non-repeated characters.'))  # prints None"
   ]
  },
  {
   "cell_type": "code",
   "execution_count": 41,
   "id": "7b5f4eec",
   "metadata": {},
   "outputs": [
    {
     "name": "stdout",
     "output_type": "stream",
     "text": [
      "loHe, wrd!\n",
      " oehurTqickbwnfxjmpsvtlazydg.\n",
      " rhsnaceitTgofquy.\n"
     ]
    }
   ],
   "source": [
    "#Write a function that takes a string as input and returns a new string with the characters sorted in descending order by frequency.\n",
    "\n",
    "def sort_by_frequency(string):\n",
    "    \"\"\"Sort the characters in a string by frequency in descending order.\"\"\"\n",
    "    frequency = {}\n",
    "    for c in string:\n",
    "        if c in frequency:\n",
    "            frequency[c] += 1\n",
    "        else:\n",
    "            frequency[c] = 1\n",
    "    return ''.join(c for c, _ in sorted(frequency.items(), key=lambda item: item[1], reverse=True))\n",
    "\n",
    "print(sort_by_frequency('Hello, world!'))  # prints 'l,oH'\n",
    "print(sort_by_frequency('The quick brown fox jumps over the lazy dog.'))  # prints 'eT qikbrnfjmsovwxyz'\n",
    "print(sort_by_frequency('This string has no character frequency.'))  # prints '  shTAitrgn'"
   ]
  },
  {
   "cell_type": "code",
   "execution_count": 42,
   "id": "3b9b0b24",
   "metadata": {},
   "outputs": [
    {
     "name": "stdout",
     "output_type": "stream",
     "text": [
      "eo, o!\n",
      "e ui o o u oe e a o.\n",
      "i i a o ooa.\n"
     ]
    }
   ],
   "source": [
    "#Write a function that takes a string as input and returns a new string with all the consonants removed.\n",
    "\n",
    "def remove_consonants(string):\n",
    "    \"\"\"Remove all consonants from a string.\"\"\"\n",
    "    consonants = 'bcdfghjklmnpqrstvwxyzBCDFGHJKLMNPQRSTVWXYZ'\n",
    "    return ''.join(c for c in string if c not in consonants)\n",
    "\n",
    "print(remove_consonants('Hello, world!'))  # prints 'eo,o'\n",
    "print(remove_consonants('The quick brown fox jumps over the lazy dog.'))  # prints 'aeiouAEIOU'\n",
    "print(remove_consonants('This string has no consonants.'))  # prints 'iouAEIOU'"
   ]
  },
  {
   "cell_type": "code",
   "execution_count": 43,
   "id": "4e31b305",
   "metadata": {},
   "outputs": [
    {
     "name": "stdout",
     "output_type": "stream",
     "text": [
      "l\n",
      "h\n",
      "h\n"
     ]
    }
   ],
   "source": [
    "#Write a function that takes a string as input and returns the first character that appears more than once in the string.\n",
    "\n",
    "def first_repeated(string):\n",
    "    \"\"\"Find the first character that appears more than once in a string.\"\"\"\n",
    "    for c in string:\n",
    "        if string.count(c) > 1:\n",
    "            return c\n",
    "    return None\n",
    "\n",
    "print(first_repeated('Hello, world!'))  # prints 'l'\n",
    "print(first_repeated('The quick brown fox jumps over the lazy dog.'))  # prints 'e'\n",
    "print(first_repeated('This string has no repeated characters.'))  # prints None"
   ]
  },
  {
   "cell_type": "code",
   "execution_count": 44,
   "id": "d724331b",
   "metadata": {},
   "outputs": [
    {
     "name": "stdout",
     "output_type": "stream",
     "text": [
      "eoo\n",
      "euioouoeeao\n",
      "iiaoooe\n"
     ]
    }
   ],
   "source": [
    "#Write a function that takes a string as input and returns a new string with all the characters that are not vowels removed.\n",
    "\n",
    "def remove_non_vowels(string):\n",
    "    \"\"\"Remove all characters that are not vowels from a string.\"\"\"\n",
    "    vowels = 'aeiouAEIOU'\n",
    "    return ''.join(filter(lambda c: c in vowels, string))\n",
    "\n",
    "print(remove_non_vowels('Hello, world!'))  # prints 'eo'\n",
    "print(remove_non_vowels('The quick brown fox jumps over the lazy dog.'))  # prints 'aeiouAEIOU'\n",
    "print(remove_non_vowels('This string has no non-vowels.'))  # prints 'iouAEIOU'"
   ]
  },
  {
   "cell_type": "code",
   "execution_count": 45,
   "id": "75d3be45",
   "metadata": {},
   "outputs": [
    {
     "name": "stdout",
     "output_type": "stream",
     "text": [
      "eo, o!\n",
      "e ui o o u oe e a o.\n",
      "i i a o ooa.\n"
     ]
    }
   ],
   "source": [
    "#Write a function that takes a string as input and returns a new string with all the characters that are not consonants removed.\n",
    "\n",
    "def remove_non_consonants(string):\n",
    "    \"\"\"Remove all characters that are not consonants from a string.\"\"\"\n",
    "    consonants = 'bcdfghjklmnpqrstvwxyzBCDFGHJKLMNPQRSTVWXYZ'\n",
    "    return ''.join(filter(lambda c: c not in consonants, string))\n",
    "\n",
    "print(remove_non_consonants('Hello, world!'))  # prints 'eo,o'\n",
    "print(remove_non_consonants('The quick brown fox jumps over the lazy dog.'))  # prints 'aeiouAEIOU'\n",
    "print(remove_non_consonants('This string has no consonants.'))  # prints 'iouAEIOU'"
   ]
  },
  {
   "cell_type": "code",
   "execution_count": 46,
   "id": "1dbdf242",
   "metadata": {},
   "outputs": [
    {
     "name": "stdout",
     "output_type": "stream",
     "text": [
      "\n",
      "The fox over the lazy dog.\n",
      "This has no long\n"
     ]
    }
   ],
   "source": [
    "#Write a function that takes a string as input and returns a new string with all the words that contain more than 4 characters removed.\n",
    "\n",
    "def remove_long_words(string):\n",
    "    \"\"\"Remove all words that contain more than 4 characters from a string.\"\"\"\n",
    "    words = string.split()\n",
    "    return ' '.join(filter(lambda word: len(word) <= 4, words))\n",
    "\n",
    "print(remove_long_words('Hello, world!'))  # prints 'Hello,!'\n",
    "print(remove_long_words('The quick brown fox jumps over the lazy dog.'))  # prints 'The over dog.'\n",
    "print(remove_long_words('This string has no long words.'))  # prints 'This no.'"
   ]
  },
  {
   "cell_type": "code",
   "execution_count": 48,
   "id": "e461a7fc",
   "metadata": {},
   "outputs": [
    {
     "name": "stdout",
     "output_type": "stream",
     "text": [
      "\n",
      "\n",
      "\n"
     ]
    }
   ],
   "source": [
    "#Write a function that takes a string as input and returns a new string with all the words that contain at least one vowel removed.\n",
    "\n",
    "def remove_vowel_words(string):\n",
    "    \"\"\"Remove all words that contain at least one vowel from a string.\"\"\"\n",
    "    vowels = 'aeiouAEIOU'\n",
    "    words = string.split()\n",
    "    return ' '.join(filter(lambda word: all(c not in vowels for c in word), words))\n",
    "\n",
    "print(remove_vowel_words('Hello, world!'))  # prints ','\n",
    "print(remove_vowel_words('The quick brown fox jumps over the lazy dog.'))  # prints 'The'\n",
    "print(remove_vowel_words('This string has no vowel words.'))  # prints 'This'"
   ]
  },
  {
   "cell_type": "code",
   "execution_count": null,
   "id": "8e4c372b",
   "metadata": {},
   "outputs": [],
   "source": []
  }
 ],
 "metadata": {
  "kernelspec": {
   "display_name": "Python 3 (ipykernel)",
   "language": "python",
   "name": "python3"
  },
  "language_info": {
   "codemirror_mode": {
    "name": "ipython",
    "version": 3
   },
   "file_extension": ".py",
   "mimetype": "text/x-python",
   "name": "python",
   "nbconvert_exporter": "python",
   "pygments_lexer": "ipython3",
   "version": "3.9.12"
  }
 },
 "nbformat": 4,
 "nbformat_minor": 5
}
