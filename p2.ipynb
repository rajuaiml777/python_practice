{
 "cells": [
  {
   "cell_type": "code",
   "execution_count": 11,
   "id": "8d2da613",
   "metadata": {},
   "outputs": [
    {
     "name": "stdout",
     "output_type": "stream",
     "text": [
      "777\n",
      "777\n"
     ]
    }
   ],
   "source": [
    "x = 999\n",
    "def func():\n",
    "    \"\"\"\n",
    "    jkshkjdSHAJKDKJSHA\"\"\"\n",
    "    global x\n",
    "    x = 777\n",
    "    print(x)\n",
    "func()\n",
    "print(x)"
   ]
  },
  {
   "cell_type": "code",
   "execution_count": 9,
   "id": "a12db142",
   "metadata": {},
   "outputs": [
    {
     "name": "stdout",
     "output_type": "stream",
     "text": [
      "777\n"
     ]
    }
   ],
   "source": [
    "print(x)"
   ]
  },
  {
   "cell_type": "code",
   "execution_count": 15,
   "id": "ae35ed8e",
   "metadata": {},
   "outputs": [
    {
     "data": {
      "text/plain": [
       "'\\n    jkshkjdSHAJKDKJSHA'"
      ]
     },
     "execution_count": 15,
     "metadata": {},
     "output_type": "execute_result"
    }
   ],
   "source": [
    "func.__doc__"
   ]
  },
  {
   "cell_type": "code",
   "execution_count": 18,
   "id": "6b3ee58b",
   "metadata": {},
   "outputs": [
    {
     "name": "stdout",
     "output_type": "stream",
     "text": [
      "3\n"
     ]
    }
   ],
   "source": [
    "#positional Arguments:\n",
    "def func1(a,b):\n",
    "    print(a+b)\n",
    "func1(1,2)"
   ]
  },
  {
   "cell_type": "code",
   "execution_count": 19,
   "id": "43f6a6e3",
   "metadata": {},
   "outputs": [
    {
     "name": "stdout",
     "output_type": "stream",
     "text": [
      "my name raju age 29\n"
     ]
    }
   ],
   "source": [
    "#keyword agrguments\n",
    "def func2(name, age):\n",
    "    print('my name', name, 'age', age)\n",
    "func2(name = 'raju', age = 29)"
   ]
  },
  {
   "cell_type": "code",
   "execution_count": 22,
   "id": "79d7fcfb",
   "metadata": {},
   "outputs": [
    {
     "name": "stdout",
     "output_type": "stream",
     "text": [
      "hello guest maorning\n"
     ]
    }
   ],
   "source": [
    "#default argumentsc\n",
    "def func3(name = 'guest'):\n",
    "    print('hello', name, 'maorning')\n",
    "func3()"
   ]
  },
  {
   "cell_type": "code",
   "execution_count": 23,
   "id": "d0002c0e",
   "metadata": {},
   "outputs": [
    {
     "name": "stdout",
     "output_type": "stream",
     "text": [
      "hello raju maorning\n"
     ]
    }
   ],
   "source": [
    "func3('raju')"
   ]
  },
  {
   "cell_type": "code",
   "execution_count": 27,
   "id": "0d730856",
   "metadata": {},
   "outputs": [
    {
     "data": {
      "text/plain": [
       "10"
      ]
     },
     "execution_count": 27,
     "metadata": {},
     "output_type": "execute_result"
    }
   ],
   "source": [
    "def func4(*numbers):\n",
    "    t = 0\n",
    "    for n in numbers:\n",
    "        t = t + n\n",
    "    return t\n",
    "func4(1,2,3,4)"
   ]
  },
  {
   "cell_type": "code",
   "execution_count": 29,
   "id": "42bc1747",
   "metadata": {},
   "outputs": [
    {
     "data": {
      "text/plain": [
       "120"
      ]
     },
     "execution_count": 29,
     "metadata": {},
     "output_type": "execute_result"
    }
   ],
   "source": [
    "def fact(num):\n",
    "    if num == 0:\n",
    "        return 1\n",
    "    else:\n",
    "        return num*fact(num-1)\n",
    "fact(5)"
   ]
  },
  {
   "cell_type": "code",
   "execution_count": 33,
   "id": "a660b670",
   "metadata": {},
   "outputs": [
    {
     "data": {
      "text/plain": [
       "[2, 4, -4]"
      ]
     },
     "execution_count": 33,
     "metadata": {},
     "output_type": "execute_result"
    }
   ],
   "source": [
    "lst = [1,2,3,4, -4]\n",
    "even = list(filter(lambda x : x%2==0, lst))\n",
    "even"
   ]
  },
  {
   "cell_type": "code",
   "execution_count": 57,
   "id": "0954c25e",
   "metadata": {},
   "outputs": [],
   "source": [
    "lst = [-1,-2, 1,2,3]\n",
    "postive_no = list(filter(lambda x : x*2, lst))"
   ]
  },
  {
   "cell_type": "code",
   "execution_count": 58,
   "id": "f089272f",
   "metadata": {},
   "outputs": [
    {
     "data": {
      "text/plain": [
       "[-1, -2, 1, 2, 3]"
      ]
     },
     "execution_count": 58,
     "metadata": {},
     "output_type": "execute_result"
    }
   ],
   "source": [
    "postive_no"
   ]
  },
  {
   "cell_type": "code",
   "execution_count": 41,
   "id": "04628d70",
   "metadata": {},
   "outputs": [],
   "source": [
    "#fhjkdhsf\n"
   ]
  },
  {
   "cell_type": "code",
   "execution_count": 50,
   "id": "95bd06ca",
   "metadata": {},
   "outputs": [],
   "source": [
    "def func5(msg):\n",
    "    if msg.lower() =='left':\n",
    "        print('go left 20Km')\n",
    "    elif msg.lower() == 'right':\n",
    "        print('go right 2okm')\n",
    "    else:\n",
    "        pass"
   ]
  },
  {
   "cell_type": "code",
   "execution_count": 52,
   "id": "7fca9685",
   "metadata": {},
   "outputs": [
    {
     "name": "stdout",
     "output_type": "stream",
     "text": [
      "go left 20Km\n"
     ]
    }
   ],
   "source": [
    "func5(\"LEFt\")"
   ]
  },
  {
   "cell_type": "code",
   "execution_count": null,
   "id": "59c6c7ad",
   "metadata": {},
   "outputs": [],
   "source": [
    "filter(fun, seq)#filtered list"
   ]
  },
  {
   "cell_type": "code",
   "execution_count": null,
   "id": "e3b962c0",
   "metadata": {},
   "outputs": [],
   "source": [
    "map(fun, seq)#new list"
   ]
  },
  {
   "cell_type": "code",
   "execution_count": null,
   "id": "91a6c9e7",
   "metadata": {},
   "outputs": [],
   "source": [
    "reduce(fun, seq)#single value"
   ]
  },
  {
   "cell_type": "code",
   "execution_count": 60,
   "id": "59130851",
   "metadata": {},
   "outputs": [
    {
     "data": {
      "text/plain": [
       "[5, 10, 15, 20]"
      ]
     },
     "execution_count": 60,
     "metadata": {},
     "output_type": "execute_result"
    }
   ],
   "source": [
    "lst = [1,2,3,4]\n",
    "new = list(map(lambda x : x*5, lst))\n",
    "new"
   ]
  },
  {
   "cell_type": "code",
   "execution_count": 67,
   "id": "350772da",
   "metadata": {},
   "outputs": [
    {
     "data": {
      "text/plain": [
       "10"
      ]
     },
     "execution_count": 67,
     "metadata": {},
     "output_type": "execute_result"
    }
   ],
   "source": [
    "from functools import reduce\n",
    "lst1 = [1,2,3,4]\n",
    "new2 = reduce(lambda x, y: x+y, lst1)\n",
    "new2"
   ]
  },
  {
   "cell_type": "code",
   "execution_count": 68,
   "id": "b522ac5b",
   "metadata": {},
   "outputs": [
    {
     "data": {
      "text/plain": [
       "120"
      ]
     },
     "execution_count": 68,
     "metadata": {},
     "output_type": "execute_result"
    }
   ],
   "source": [
    "from functools import reduce\n",
    "lst = [1,2,3,4,5]\n",
    "new = reduce(lambda x, y: x*y, lst)\n",
    "new"
   ]
  },
  {
   "cell_type": "code",
   "execution_count": 75,
   "id": "5349dad0",
   "metadata": {},
   "outputs": [
    {
     "data": {
      "text/plain": [
       "list"
      ]
     },
     "execution_count": 75,
     "metadata": {},
     "output_type": "execute_result"
    }
   ],
   "source": [
    "lst = [1,2,3,4,5]\n",
    "type(lst)"
   ]
  },
  {
   "cell_type": "code",
   "execution_count": 70,
   "id": "52719c8a",
   "metadata": {},
   "outputs": [
    {
     "data": {
      "text/plain": [
       "5"
      ]
     },
     "execution_count": 70,
     "metadata": {},
     "output_type": "execute_result"
    }
   ],
   "source": [
    "len(lst)"
   ]
  },
  {
   "cell_type": "code",
   "execution_count": 76,
   "id": "e4d0c9c3",
   "metadata": {},
   "outputs": [],
   "source": [
    "lst2 = [7,8,9,0]"
   ]
  },
  {
   "cell_type": "code",
   "execution_count": 72,
   "id": "0e262b8e",
   "metadata": {},
   "outputs": [
    {
     "data": {
      "text/plain": [
       "[1, 2, 3, 4, 5, 7, 8, 9, 0]"
      ]
     },
     "execution_count": 72,
     "metadata": {},
     "output_type": "execute_result"
    }
   ],
   "source": [
    "lst3 = lst+lst2\n",
    "lst3"
   ]
  },
  {
   "cell_type": "code",
   "execution_count": 73,
   "id": "8cee5f9d",
   "metadata": {},
   "outputs": [],
   "source": [
    "lst.append(lst2)"
   ]
  },
  {
   "cell_type": "code",
   "execution_count": 74,
   "id": "0e0f8501",
   "metadata": {},
   "outputs": [
    {
     "data": {
      "text/plain": [
       "[1, 2, 3, 4, 5, [7, 8, 9, 0]]"
      ]
     },
     "execution_count": 74,
     "metadata": {},
     "output_type": "execute_result"
    }
   ],
   "source": [
    "lst"
   ]
  },
  {
   "cell_type": "code",
   "execution_count": 78,
   "id": "680e4a9d",
   "metadata": {},
   "outputs": [
    {
     "data": {
      "text/plain": [
       "[1, 2, 3, 4, 5]"
      ]
     },
     "execution_count": 78,
     "metadata": {},
     "output_type": "execute_result"
    }
   ],
   "source": [
    "lst\n"
   ]
  },
  {
   "cell_type": "code",
   "execution_count": 79,
   "id": "889e8b75",
   "metadata": {},
   "outputs": [
    {
     "data": {
      "text/plain": [
       "1"
      ]
     },
     "execution_count": 79,
     "metadata": {},
     "output_type": "execute_result"
    }
   ],
   "source": [
    "lst[0]"
   ]
  },
  {
   "cell_type": "code",
   "execution_count": 80,
   "id": "70bbf99a",
   "metadata": {},
   "outputs": [
    {
     "data": {
      "text/plain": [
       "[2, 3, 4, 5]"
      ]
     },
     "execution_count": 80,
     "metadata": {},
     "output_type": "execute_result"
    }
   ],
   "source": [
    "lst[1:]"
   ]
  },
  {
   "cell_type": "code",
   "execution_count": 81,
   "id": "289928b3",
   "metadata": {},
   "outputs": [
    {
     "data": {
      "text/plain": [
       "[3, 4, 5]"
      ]
     },
     "execution_count": 81,
     "metadata": {},
     "output_type": "execute_result"
    }
   ],
   "source": [
    "lst[2:5]"
   ]
  },
  {
   "cell_type": "code",
   "execution_count": 87,
   "id": "21c3a659",
   "metadata": {},
   "outputs": [
    {
     "data": {
      "text/plain": [
       "[5, 4, 3, 2, 1]"
      ]
     },
     "execution_count": 87,
     "metadata": {},
     "output_type": "execute_result"
    }
   ],
   "source": [
    "lst[::-1]"
   ]
  },
  {
   "cell_type": "code",
   "execution_count": 88,
   "id": "2a43a1e7",
   "metadata": {},
   "outputs": [],
   "source": [
    "lst.append('raju')"
   ]
  },
  {
   "cell_type": "code",
   "execution_count": 89,
   "id": "7809f347",
   "metadata": {},
   "outputs": [
    {
     "data": {
      "text/plain": [
       "[1, 2, 3, 4, 5, 'raju']"
      ]
     },
     "execution_count": 89,
     "metadata": {},
     "output_type": "execute_result"
    }
   ],
   "source": [
    "lst"
   ]
  },
  {
   "cell_type": "code",
   "execution_count": 92,
   "id": "8f0636f2",
   "metadata": {},
   "outputs": [],
   "source": [
    "lst.insert(4, 'kalyan')"
   ]
  },
  {
   "cell_type": "code",
   "execution_count": 93,
   "id": "c162acf6",
   "metadata": {},
   "outputs": [
    {
     "data": {
      "text/plain": [
       "[1, 2, 3, 4, 'kalyan', 5, 'raju']"
      ]
     },
     "execution_count": 93,
     "metadata": {},
     "output_type": "execute_result"
    }
   ],
   "source": [
    "lst"
   ]
  },
  {
   "cell_type": "code",
   "execution_count": 94,
   "id": "bc2cea82",
   "metadata": {},
   "outputs": [],
   "source": [
    "lst.extend([10,20])"
   ]
  },
  {
   "cell_type": "code",
   "execution_count": 95,
   "id": "b0d58652",
   "metadata": {},
   "outputs": [
    {
     "data": {
      "text/plain": [
       "[1, 2, 3, 4, 'kalyan', 5, 'raju', 10, 20]"
      ]
     },
     "execution_count": 95,
     "metadata": {},
     "output_type": "execute_result"
    }
   ],
   "source": [
    "lst"
   ]
  },
  {
   "cell_type": "code",
   "execution_count": 97,
   "id": "bdaef934",
   "metadata": {},
   "outputs": [],
   "source": [
    "lst.remove('kalyan')"
   ]
  },
  {
   "cell_type": "code",
   "execution_count": 98,
   "id": "b0119c99",
   "metadata": {},
   "outputs": [
    {
     "data": {
      "text/plain": [
       "[1, 2, 3, 4, 5, 'raju', 10, 20]"
      ]
     },
     "execution_count": 98,
     "metadata": {},
     "output_type": "execute_result"
    }
   ],
   "source": [
    "lst"
   ]
  },
  {
   "cell_type": "code",
   "execution_count": 99,
   "id": "d6167e41",
   "metadata": {},
   "outputs": [
    {
     "data": {
      "text/plain": [
       "20"
      ]
     },
     "execution_count": 99,
     "metadata": {},
     "output_type": "execute_result"
    }
   ],
   "source": [
    "lst.pop()"
   ]
  },
  {
   "cell_type": "code",
   "execution_count": 100,
   "id": "f916c91f",
   "metadata": {},
   "outputs": [],
   "source": [
    "lst.reverse()"
   ]
  },
  {
   "cell_type": "code",
   "execution_count": 101,
   "id": "e3292a55",
   "metadata": {},
   "outputs": [
    {
     "data": {
      "text/plain": [
       "[10, 'raju', 5, 4, 3, 2, 1]"
      ]
     },
     "execution_count": 101,
     "metadata": {},
     "output_type": "execute_result"
    }
   ],
   "source": [
    "lst"
   ]
  },
  {
   "cell_type": "code",
   "execution_count": 104,
   "id": "203f2a90",
   "metadata": {},
   "outputs": [
    {
     "data": {
      "text/plain": [
       "2"
      ]
     },
     "execution_count": 104,
     "metadata": {},
     "output_type": "execute_result"
    }
   ],
   "source": [
    "lst.index(5)"
   ]
  },
  {
   "cell_type": "code",
   "execution_count": 106,
   "id": "6f790d3d",
   "metadata": {},
   "outputs": [
    {
     "data": {
      "text/plain": [
       "1"
      ]
     },
     "execution_count": 106,
     "metadata": {},
     "output_type": "execute_result"
    }
   ],
   "source": [
    "lst.count(5)"
   ]
  },
  {
   "cell_type": "code",
   "execution_count": 108,
   "id": "e44b0576",
   "metadata": {},
   "outputs": [],
   "source": [
    "lst22 = lst.copy()"
   ]
  },
  {
   "cell_type": "code",
   "execution_count": 109,
   "id": "c9f89c2e",
   "metadata": {},
   "outputs": [
    {
     "data": {
      "text/plain": [
       "[10, 'raju', 5, 4, 3, 2, 1]"
      ]
     },
     "execution_count": 109,
     "metadata": {},
     "output_type": "execute_result"
    }
   ],
   "source": [
    "lst22"
   ]
  },
  {
   "cell_type": "code",
   "execution_count": 110,
   "id": "3be59e59",
   "metadata": {},
   "outputs": [],
   "source": [
    "lst22.clear()"
   ]
  },
  {
   "cell_type": "code",
   "execution_count": 111,
   "id": "1e9cb290",
   "metadata": {},
   "outputs": [
    {
     "data": {
      "text/plain": [
       "[]"
      ]
     },
     "execution_count": 111,
     "metadata": {},
     "output_type": "execute_result"
    }
   ],
   "source": [
    "lst22"
   ]
  },
  {
   "cell_type": "code",
   "execution_count": 112,
   "id": "4c6b7fef",
   "metadata": {},
   "outputs": [],
   "source": [
    "del lst22"
   ]
  },
  {
   "cell_type": "code",
   "execution_count": 113,
   "id": "be6136b6",
   "metadata": {},
   "outputs": [
    {
     "ename": "NameError",
     "evalue": "name 'lst22' is not defined",
     "output_type": "error",
     "traceback": [
      "\u001b[1;31m---------------------------------------------------------------------------\u001b[0m",
      "\u001b[1;31mNameError\u001b[0m                                 Traceback (most recent call last)",
      "Input \u001b[1;32mIn [113]\u001b[0m, in \u001b[0;36m<cell line: 1>\u001b[1;34m()\u001b[0m\n\u001b[1;32m----> 1\u001b[0m \u001b[43mlst22\u001b[49m\n",
      "\u001b[1;31mNameError\u001b[0m: name 'lst22' is not defined"
     ]
    }
   ],
   "source": [
    "lst22"
   ]
  },
  {
   "cell_type": "code",
   "execution_count": 114,
   "id": "b8a1f060",
   "metadata": {},
   "outputs": [
    {
     "data": {
      "text/plain": [
       "1"
      ]
     },
     "execution_count": 114,
     "metadata": {},
     "output_type": "execute_result"
    }
   ],
   "source": [
    "ls = [1,2,3,4,5]\n",
    "min(ls)"
   ]
  },
  {
   "cell_type": "code",
   "execution_count": 115,
   "id": "b84f2403",
   "metadata": {},
   "outputs": [
    {
     "data": {
      "text/plain": [
       "5"
      ]
     },
     "execution_count": 115,
     "metadata": {},
     "output_type": "execute_result"
    }
   ],
   "source": [
    "max(ls)"
   ]
  },
  {
   "cell_type": "code",
   "execution_count": 116,
   "id": "2cd36d59",
   "metadata": {},
   "outputs": [
    {
     "data": {
      "text/plain": [
       "15"
      ]
     },
     "execution_count": 116,
     "metadata": {},
     "output_type": "execute_result"
    }
   ],
   "source": [
    "sum(ls)"
   ]
  },
  {
   "cell_type": "code",
   "execution_count": 118,
   "id": "9b827af4",
   "metadata": {},
   "outputs": [
    {
     "data": {
      "text/plain": [
       "list"
      ]
     },
     "execution_count": 118,
     "metadata": {},
     "output_type": "execute_result"
    }
   ],
   "source": [
    "type(ls)"
   ]
  },
  {
   "cell_type": "code",
   "execution_count": 119,
   "id": "89237798",
   "metadata": {},
   "outputs": [
    {
     "data": {
      "text/plain": [
       "2462179282176"
      ]
     },
     "execution_count": 119,
     "metadata": {},
     "output_type": "execute_result"
    }
   ],
   "source": [
    "id(ls)"
   ]
  },
  {
   "cell_type": "code",
   "execution_count": 120,
   "id": "64475201",
   "metadata": {},
   "outputs": [
    {
     "data": {
      "text/plain": [
       "5"
      ]
     },
     "execution_count": 120,
     "metadata": {},
     "output_type": "execute_result"
    }
   ],
   "source": [
    "len(ls)"
   ]
  },
  {
   "cell_type": "code",
   "execution_count": 121,
   "id": "63e141f3",
   "metadata": {},
   "outputs": [
    {
     "data": {
      "text/plain": [
       "{'name': 'raju', 'age': 29}"
      ]
     },
     "execution_count": 121,
     "metadata": {},
     "output_type": "execute_result"
    }
   ],
   "source": [
    "dict1 = {'name': 'raju', 'age': 29}\n",
    "dict1"
   ]
  },
  {
   "cell_type": "code",
   "execution_count": 122,
   "id": "b3acf3e0",
   "metadata": {},
   "outputs": [
    {
     "data": {
      "text/plain": [
       "dict_keys(['name', 'age'])"
      ]
     },
     "execution_count": 122,
     "metadata": {},
     "output_type": "execute_result"
    }
   ],
   "source": [
    "dict1.keys()"
   ]
  },
  {
   "cell_type": "code",
   "execution_count": 123,
   "id": "f33eb803",
   "metadata": {},
   "outputs": [
    {
     "data": {
      "text/plain": [
       "dict_items([('name', 'raju'), ('age', 29)])"
      ]
     },
     "execution_count": 123,
     "metadata": {},
     "output_type": "execute_result"
    }
   ],
   "source": [
    "dict1.items()"
   ]
  },
  {
   "cell_type": "code",
   "execution_count": 124,
   "id": "73f80ce1",
   "metadata": {},
   "outputs": [
    {
     "data": {
      "text/plain": [
       "dict_values(['raju', 29])"
      ]
     },
     "execution_count": 124,
     "metadata": {},
     "output_type": "execute_result"
    }
   ],
   "source": [
    "dict1.values()"
   ]
  },
  {
   "cell_type": "code",
   "execution_count": 128,
   "id": "4837a92c",
   "metadata": {},
   "outputs": [
    {
     "data": {
      "text/plain": [
       "dict"
      ]
     },
     "execution_count": 128,
     "metadata": {},
     "output_type": "execute_result"
    }
   ],
   "source": [
    "type(dict1)"
   ]
  },
  {
   "cell_type": "code",
   "execution_count": 129,
   "id": "f9302613",
   "metadata": {},
   "outputs": [
    {
     "data": {
      "text/plain": [
       "2"
      ]
     },
     "execution_count": 129,
     "metadata": {},
     "output_type": "execute_result"
    }
   ],
   "source": [
    "len(dict1)"
   ]
  },
  {
   "cell_type": "code",
   "execution_count": 131,
   "id": "38654565",
   "metadata": {},
   "outputs": [
    {
     "name": "stdout",
     "output_type": "stream",
     "text": [
      "('name', 'raju')\n",
      "('age', 29)\n"
     ]
    }
   ],
   "source": [
    "for i in dict1.items():\n",
    "    print(i)"
   ]
  },
  {
   "cell_type": "code",
   "execution_count": 132,
   "id": "e37f6292",
   "metadata": {},
   "outputs": [
    {
     "data": {
      "text/plain": [
       "('age', 29)"
      ]
     },
     "execution_count": 132,
     "metadata": {},
     "output_type": "execute_result"
    }
   ],
   "source": [
    "dict1.popitem()"
   ]
  },
  {
   "cell_type": "code",
   "execution_count": 133,
   "id": "13af2574",
   "metadata": {},
   "outputs": [
    {
     "data": {
      "text/plain": [
       "{'name': 'raju', 'age': 29, 'values': [1, 2, 3, 4]}"
      ]
     },
     "execution_count": 133,
     "metadata": {},
     "output_type": "execute_result"
    }
   ],
   "source": [
    "dict1 = {'name': 'raju', 'age': 29, 'values': [1,2,3,4]}\n",
    "dict1"
   ]
  },
  {
   "cell_type": "code",
   "execution_count": 134,
   "id": "d2cd3314",
   "metadata": {},
   "outputs": [
    {
     "data": {
      "text/plain": [
       "dict_keys(['name', 'age', 'values'])"
      ]
     },
     "execution_count": 134,
     "metadata": {},
     "output_type": "execute_result"
    }
   ],
   "source": [
    "dict1.keys()"
   ]
  },
  {
   "cell_type": "code",
   "execution_count": 181,
   "id": "fb0c163d",
   "metadata": {},
   "outputs": [
    {
     "data": {
      "text/plain": [
       "{'name': 'raju', 'age': 25}"
      ]
     },
     "execution_count": 181,
     "metadata": {},
     "output_type": "execute_result"
    }
   ],
   "source": [
    "dict2 = dict([('name', 'raju'), ('age', 25)])\n",
    "dict2"
   ]
  },
  {
   "cell_type": "code",
   "execution_count": 139,
   "id": "00125bdf",
   "metadata": {},
   "outputs": [
    {
     "data": {
      "text/plain": [
       "dict"
      ]
     },
     "execution_count": 139,
     "metadata": {},
     "output_type": "execute_result"
    }
   ],
   "source": [
    "my_dict = {}\n",
    "type(my_dict)"
   ]
  },
  {
   "cell_type": "code",
   "execution_count": 141,
   "id": "0511d804",
   "metadata": {},
   "outputs": [
    {
     "data": {
      "text/plain": [
       "'raju'"
      ]
     },
     "execution_count": 141,
     "metadata": {},
     "output_type": "execute_result"
    }
   ],
   "source": [
    "dict2['name']"
   ]
  },
  {
   "cell_type": "code",
   "execution_count": 143,
   "id": "2e28d168",
   "metadata": {},
   "outputs": [
    {
     "name": "stdout",
     "output_type": "stream",
     "text": [
      "name raju\n",
      "age 25\n"
     ]
    }
   ],
   "source": [
    "for k in dict2:\n",
    "    print(k, dict2[k])"
   ]
  },
  {
   "cell_type": "code",
   "execution_count": 144,
   "id": "c6e0927e",
   "metadata": {},
   "outputs": [
    {
     "name": "stdout",
     "output_type": "stream",
     "text": [
      "name raju\n",
      "age 25\n"
     ]
    }
   ],
   "source": [
    "for k in dict2.items():\n",
    "    print(k[0], k[1])"
   ]
  },
  {
   "cell_type": "code",
   "execution_count": 145,
   "id": "90e09e96",
   "metadata": {},
   "outputs": [
    {
     "data": {
      "text/plain": [
       "{'name': 'raju', 'age': 25}"
      ]
     },
     "execution_count": 145,
     "metadata": {},
     "output_type": "execute_result"
    }
   ],
   "source": [
    "dict2"
   ]
  },
  {
   "cell_type": "code",
   "execution_count": 146,
   "id": "60138da0",
   "metadata": {},
   "outputs": [],
   "source": [
    "dict2['gender'] = 'male'"
   ]
  },
  {
   "cell_type": "code",
   "execution_count": 147,
   "id": "897341c3",
   "metadata": {},
   "outputs": [
    {
     "data": {
      "text/plain": [
       "{'name': 'raju', 'age': 25, 'gender': 'male'}"
      ]
     },
     "execution_count": 147,
     "metadata": {},
     "output_type": "execute_result"
    }
   ],
   "source": [
    "dict2"
   ]
  },
  {
   "cell_type": "code",
   "execution_count": 148,
   "id": "3853fc62",
   "metadata": {},
   "outputs": [],
   "source": [
    "dict2.update({'2': 5})"
   ]
  },
  {
   "cell_type": "code",
   "execution_count": 149,
   "id": "589bd2e5",
   "metadata": {},
   "outputs": [
    {
     "data": {
      "text/plain": [
       "{'name': 'raju', 'age': 25, 'gender': 'male', '2': 5}"
      ]
     },
     "execution_count": 149,
     "metadata": {},
     "output_type": "execute_result"
    }
   ],
   "source": [
    "dict2"
   ]
  },
  {
   "cell_type": "code",
   "execution_count": 155,
   "id": "db08a25b",
   "metadata": {},
   "outputs": [],
   "source": [
    "dict2.update([('2',3), ('4',7)])"
   ]
  },
  {
   "cell_type": "code",
   "execution_count": 156,
   "id": "81db8b04",
   "metadata": {},
   "outputs": [
    {
     "data": {
      "text/plain": [
       "{'name': 'raju', 'age': 25, 'gender': 'male', '2': 3, '4': 7}"
      ]
     },
     "execution_count": 156,
     "metadata": {},
     "output_type": "execute_result"
    }
   ],
   "source": [
    "dict2"
   ]
  },
  {
   "cell_type": "code",
   "execution_count": 159,
   "id": "71a94ab1",
   "metadata": {},
   "outputs": [
    {
     "data": {
      "text/plain": [
       "'TS'"
      ]
     },
     "execution_count": 159,
     "metadata": {},
     "output_type": "execute_result"
    }
   ],
   "source": [
    "dict2.setdefault('state', 'TS')"
   ]
  },
  {
   "cell_type": "code",
   "execution_count": 160,
   "id": "8713b1b9",
   "metadata": {},
   "outputs": [
    {
     "data": {
      "text/plain": [
       "{'name': 'raju',\n",
       " 'age': 25,\n",
       " 'gender': 'male',\n",
       " '2': 3,\n",
       " '4': 7,\n",
       " 'sate': 'TS',\n",
       " 'state': 'TS'}"
      ]
     },
     "execution_count": 160,
     "metadata": {},
     "output_type": "execute_result"
    }
   ],
   "source": [
    "dict2"
   ]
  },
  {
   "cell_type": "code",
   "execution_count": 161,
   "id": "96e258ed",
   "metadata": {},
   "outputs": [],
   "source": [
    "dict2.setdefault('abc')"
   ]
  },
  {
   "cell_type": "code",
   "execution_count": 162,
   "id": "3bdf3e1e",
   "metadata": {},
   "outputs": [
    {
     "data": {
      "text/plain": [
       "{'name': 'raju',\n",
       " 'age': 25,\n",
       " 'gender': 'male',\n",
       " '2': 3,\n",
       " '4': 7,\n",
       " 'sate': 'TS',\n",
       " 'state': 'TS',\n",
       " 'abc': None}"
      ]
     },
     "execution_count": 162,
     "metadata": {},
     "output_type": "execute_result"
    }
   ],
   "source": [
    "dict2"
   ]
  },
  {
   "cell_type": "code",
   "execution_count": 163,
   "id": "2eaca23b",
   "metadata": {},
   "outputs": [],
   "source": [
    "dict2[\"age\"] = 27"
   ]
  },
  {
   "cell_type": "code",
   "execution_count": 164,
   "id": "1bd20ca4",
   "metadata": {},
   "outputs": [
    {
     "data": {
      "text/plain": [
       "{'name': 'raju',\n",
       " 'age': 27,\n",
       " 'gender': 'male',\n",
       " '2': 3,\n",
       " '4': 7,\n",
       " 'sate': 'TS',\n",
       " 'state': 'TS',\n",
       " 'abc': None}"
      ]
     },
     "execution_count": 164,
     "metadata": {},
     "output_type": "execute_result"
    }
   ],
   "source": [
    "dict2"
   ]
  },
  {
   "cell_type": "code",
   "execution_count": 166,
   "id": "ce44d07d",
   "metadata": {},
   "outputs": [
    {
     "data": {
      "text/plain": [
       "('abc', None)"
      ]
     },
     "execution_count": 166,
     "metadata": {},
     "output_type": "execute_result"
    }
   ],
   "source": [
    "dict2.popitem()"
   ]
  },
  {
   "cell_type": "code",
   "execution_count": 167,
   "id": "22279c67",
   "metadata": {},
   "outputs": [
    {
     "data": {
      "text/plain": [
       "'TS'"
      ]
     },
     "execution_count": 167,
     "metadata": {},
     "output_type": "execute_result"
    }
   ],
   "source": [
    "dict2.pop('sate')"
   ]
  },
  {
   "cell_type": "code",
   "execution_count": 168,
   "id": "f0972e22",
   "metadata": {},
   "outputs": [
    {
     "data": {
      "text/plain": [
       "{'name': 'raju', 'age': 27, 'gender': 'male', '2': 3, '4': 7, 'state': 'TS'}"
      ]
     },
     "execution_count": 168,
     "metadata": {},
     "output_type": "execute_result"
    }
   ],
   "source": [
    "dict2"
   ]
  },
  {
   "cell_type": "code",
   "execution_count": 169,
   "id": "d80fbbe9",
   "metadata": {},
   "outputs": [],
   "source": [
    "del dict2['gender']"
   ]
  },
  {
   "cell_type": "code",
   "execution_count": 170,
   "id": "0f06e908",
   "metadata": {},
   "outputs": [
    {
     "data": {
      "text/plain": [
       "{'name': 'raju', 'age': 27, '2': 3, '4': 7, 'state': 'TS'}"
      ]
     },
     "execution_count": 170,
     "metadata": {},
     "output_type": "execute_result"
    }
   ],
   "source": [
    "dict2"
   ]
  },
  {
   "cell_type": "code",
   "execution_count": 171,
   "id": "a0eea988",
   "metadata": {},
   "outputs": [],
   "source": [
    "dict3 = dict2"
   ]
  },
  {
   "cell_type": "code",
   "execution_count": 172,
   "id": "f06c6a97",
   "metadata": {},
   "outputs": [
    {
     "data": {
      "text/plain": [
       "{'name': 'raju', 'age': 27, '2': 3, '4': 7, 'state': 'TS'}"
      ]
     },
     "execution_count": 172,
     "metadata": {},
     "output_type": "execute_result"
    }
   ],
   "source": [
    "dict3"
   ]
  },
  {
   "cell_type": "code",
   "execution_count": 173,
   "id": "9ff72919",
   "metadata": {},
   "outputs": [],
   "source": [
    "dict3.clear()"
   ]
  },
  {
   "cell_type": "code",
   "execution_count": 174,
   "id": "634b24e7",
   "metadata": {},
   "outputs": [
    {
     "data": {
      "text/plain": [
       "{}"
      ]
     },
     "execution_count": 174,
     "metadata": {},
     "output_type": "execute_result"
    }
   ],
   "source": [
    "dict3"
   ]
  },
  {
   "cell_type": "code",
   "execution_count": 175,
   "id": "988fbbbe",
   "metadata": {},
   "outputs": [],
   "source": [
    "del dict3"
   ]
  },
  {
   "cell_type": "code",
   "execution_count": 176,
   "id": "12e54401",
   "metadata": {},
   "outputs": [
    {
     "ename": "NameError",
     "evalue": "name 'dict3' is not defined",
     "output_type": "error",
     "traceback": [
      "\u001b[1;31m---------------------------------------------------------------------------\u001b[0m",
      "\u001b[1;31mNameError\u001b[0m                                 Traceback (most recent call last)",
      "Input \u001b[1;32mIn [176]\u001b[0m, in \u001b[0;36m<cell line: 1>\u001b[1;34m()\u001b[0m\n\u001b[1;32m----> 1\u001b[0m \u001b[43mdict3\u001b[49m\n",
      "\u001b[1;31mNameError\u001b[0m: name 'dict3' is not defined"
     ]
    }
   ],
   "source": [
    "dict3"
   ]
  },
  {
   "cell_type": "code",
   "execution_count": 182,
   "id": "39e78c9f",
   "metadata": {},
   "outputs": [
    {
     "data": {
      "text/plain": [
       "{'name': 'raju', 'age': 25}"
      ]
     },
     "execution_count": 182,
     "metadata": {},
     "output_type": "execute_result"
    }
   ],
   "source": [
    "dict2"
   ]
  },
  {
   "cell_type": "code",
   "execution_count": 183,
   "id": "8c6186c7",
   "metadata": {},
   "outputs": [
    {
     "name": "stdout",
     "output_type": "stream",
     "text": [
      "my name is raju\n"
     ]
    }
   ],
   "source": [
    "key = 'name'\n",
    "if key in dict2:\n",
    "    print('my name is', dict2['name'])\n",
    "else:\n",
    "    print('not')"
   ]
  },
  {
   "cell_type": "code",
   "execution_count": 184,
   "id": "41eb763f",
   "metadata": {},
   "outputs": [],
   "source": [
    "dict1 = dict([('name', 'raju'), ('age', 25), ('car', 'BMW')])\n",
    "dict2 = dict([('a', 100), ('b', 200)])\n",
    "dict1.update(dict2)"
   ]
  },
  {
   "cell_type": "code",
   "execution_count": 185,
   "id": "a33ba76d",
   "metadata": {},
   "outputs": [
    {
     "data": {
      "text/plain": [
       "{'name': 'raju', 'age': 25, 'car': 'BMW', 'a': 100, 'b': 200}"
      ]
     },
     "execution_count": 185,
     "metadata": {},
     "output_type": "execute_result"
    }
   ],
   "source": [
    "dict1"
   ]
  },
  {
   "cell_type": "code",
   "execution_count": 186,
   "id": "e958de66",
   "metadata": {},
   "outputs": [
    {
     "data": {
      "text/plain": [
       "{'name': 'raju',\n",
       " 'age': 25,\n",
       " 'car': 'BMW',\n",
       " 'a': 100,\n",
       " 'b': 200,\n",
       " 'c': 300,\n",
       " 'd': 400}"
      ]
     },
     "execution_count": 186,
     "metadata": {},
     "output_type": "execute_result"
    }
   ],
   "source": [
    "dict1 = dict([('name', 'raju'), ('age', 25), ('car', 'BMW')])\n",
    "dict2 = dict([('a', 100), ('b', 200)])\n",
    "dict3 = dict([('c', 300), ('d', 400)])\n",
    "final_dict = {**dict1, **dict2, **dict3}\n",
    "final_dict"
   ]
  },
  {
   "cell_type": "code",
   "execution_count": 187,
   "id": "67b759a8",
   "metadata": {},
   "outputs": [
    {
     "data": {
      "text/plain": [
       "{'c': 300,\n",
       " 'd': 400,\n",
       " 'a': 100,\n",
       " 'b': 200,\n",
       " 'name': 'raju',\n",
       " 'age': 25,\n",
       " 'car': 'BMW'}"
      ]
     },
     "execution_count": 187,
     "metadata": {},
     "output_type": "execute_result"
    }
   ],
   "source": [
    "final_dict = {**dict3, **dict2, **dict1}\n",
    "final_dict"
   ]
  },
  {
   "cell_type": "code",
   "execution_count": 188,
   "id": "94b9582f",
   "metadata": {},
   "outputs": [],
   "source": [
    "dict4 = {'d1': dict1, 'd2': dict2}"
   ]
  },
  {
   "cell_type": "code",
   "execution_count": 189,
   "id": "6bccf1e3",
   "metadata": {},
   "outputs": [
    {
     "data": {
      "text/plain": [
       "{'d1': {'name': 'raju', 'age': 25, 'car': 'BMW'}, 'd2': {'a': 100, 'b': 200}}"
      ]
     },
     "execution_count": 189,
     "metadata": {},
     "output_type": "execute_result"
    }
   ],
   "source": [
    "dict4"
   ]
  },
  {
   "cell_type": "code",
   "execution_count": 190,
   "id": "4993894f",
   "metadata": {},
   "outputs": [
    {
     "data": {
      "text/plain": [
       "{'name': 'raju', 'age': 25, 'car': 'BMW'}"
      ]
     },
     "execution_count": 190,
     "metadata": {},
     "output_type": "execute_result"
    }
   ],
   "source": [
    "dict4['d1']"
   ]
  },
  {
   "cell_type": "code",
   "execution_count": 191,
   "id": "191902a9",
   "metadata": {},
   "outputs": [
    {
     "data": {
      "text/plain": [
       "'raju'"
      ]
     },
     "execution_count": 191,
     "metadata": {},
     "output_type": "execute_result"
    }
   ],
   "source": [
    "dict4['d1']['name']"
   ]
  },
  {
   "cell_type": "code",
   "execution_count": 192,
   "id": "764e623e",
   "metadata": {},
   "outputs": [
    {
     "data": {
      "text/plain": [
       "['age', 'car', 'name']"
      ]
     },
     "execution_count": 192,
     "metadata": {},
     "output_type": "execute_result"
    }
   ],
   "source": [
    "sorted(dict1)"
   ]
  },
  {
   "cell_type": "code",
   "execution_count": 193,
   "id": "31d64879",
   "metadata": {},
   "outputs": [
    {
     "data": {
      "text/plain": [
       "[100, 200]"
      ]
     },
     "execution_count": 193,
     "metadata": {},
     "output_type": "execute_result"
    }
   ],
   "source": [
    "sorted(dict2.values())"
   ]
  },
  {
   "cell_type": "code",
   "execution_count": 194,
   "id": "7b41b5e6",
   "metadata": {},
   "outputs": [
    {
     "data": {
      "text/plain": [
       "[('a', 100), ('b', 200)]"
      ]
     },
     "execution_count": 194,
     "metadata": {},
     "output_type": "execute_result"
    }
   ],
   "source": [
    "sorted(dict2.items())"
   ]
  },
  {
   "cell_type": "code",
   "execution_count": 195,
   "id": "a74f2d8b",
   "metadata": {},
   "outputs": [
    {
     "data": {
      "text/plain": [
       "{2: 4, 4: 16}"
      ]
     },
     "execution_count": 195,
     "metadata": {},
     "output_type": "execute_result"
    }
   ],
   "source": [
    "num = [1,2,3,4,5,4,]\n",
    "even_sq = {x:x**2 for x in num if x%2==0}\n",
    "even_sq"
   ]
  },
  {
   "cell_type": "code",
   "execution_count": 196,
   "id": "820d0531",
   "metadata": {},
   "outputs": [
    {
     "data": {
      "text/plain": [
       "{'raju': 25, 'kalyan': 27, 'sunny': 5}"
      ]
     },
     "execution_count": 196,
     "metadata": {},
     "output_type": "execute_result"
    }
   ],
   "source": [
    "names = ['raju', 'kalyan', 'sunny']\n",
    "ages = [25, 27, 5]\n",
    "dc = {key:value for key, value in zip(names, ages)}\n",
    "dc"
   ]
  },
  {
   "cell_type": "code",
   "execution_count": 200,
   "id": "32a88736",
   "metadata": {},
   "outputs": [
    {
     "data": {
      "text/plain": [
       "'sunny'"
      ]
     },
     "execution_count": 200,
     "metadata": {},
     "output_type": "execute_result"
    }
   ],
   "source": [
    "max(dc)"
   ]
  },
  {
   "cell_type": "code",
   "execution_count": 201,
   "id": "a820d797",
   "metadata": {},
   "outputs": [
    {
     "data": {
      "text/plain": [
       "'kalyan'"
      ]
     },
     "execution_count": 201,
     "metadata": {},
     "output_type": "execute_result"
    }
   ],
   "source": [
    "min(dc)"
   ]
  },
  {
   "cell_type": "code",
   "execution_count": 202,
   "id": "cce00b72",
   "metadata": {},
   "outputs": [
    {
     "data": {
      "text/plain": [
       "{'raju': 25, 'kalyan': 27, 'sunny': 5}"
      ]
     },
     "execution_count": 202,
     "metadata": {},
     "output_type": "execute_result"
    }
   ],
   "source": [
    "dc"
   ]
  },
  {
   "cell_type": "code",
   "execution_count": 204,
   "id": "66d4dc7b",
   "metadata": {},
   "outputs": [
    {
     "data": {
      "text/plain": [
       "25"
      ]
     },
     "execution_count": 204,
     "metadata": {},
     "output_type": "execute_result"
    }
   ],
   "source": [
    "name = dc.get('raju')\n",
    "name"
   ]
  },
  {
   "cell_type": "code",
   "execution_count": 221,
   "id": "426b8a93",
   "metadata": {},
   "outputs": [],
   "source": [
    "s = 'hello world'"
   ]
  },
  {
   "cell_type": "code",
   "execution_count": 222,
   "id": "d1efdfb2",
   "metadata": {},
   "outputs": [
    {
     "data": {
      "text/plain": [
       "'h'"
      ]
     },
     "execution_count": 222,
     "metadata": {},
     "output_type": "execute_result"
    }
   ],
   "source": [
    "s[0]"
   ]
  },
  {
   "cell_type": "code",
   "execution_count": 223,
   "id": "89c3bceb",
   "metadata": {},
   "outputs": [
    {
     "data": {
      "text/plain": [
       "'ello world'"
      ]
     },
     "execution_count": 223,
     "metadata": {},
     "output_type": "execute_result"
    }
   ],
   "source": [
    "s[1:]"
   ]
  },
  {
   "cell_type": "code",
   "execution_count": 224,
   "id": "76c68193",
   "metadata": {},
   "outputs": [
    {
     "data": {
      "text/plain": [
       "'d'"
      ]
     },
     "execution_count": 224,
     "metadata": {},
     "output_type": "execute_result"
    }
   ],
   "source": [
    "s[-1]"
   ]
  },
  {
   "cell_type": "code",
   "execution_count": 225,
   "id": "7b69931b",
   "metadata": {},
   "outputs": [
    {
     "data": {
      "text/plain": [
       "''"
      ]
     },
     "execution_count": 225,
     "metadata": {},
     "output_type": "execute_result"
    }
   ],
   "source": [
    "s[-2:-5]"
   ]
  },
  {
   "cell_type": "code",
   "execution_count": 226,
   "id": "c5b3afe1",
   "metadata": {},
   "outputs": [
    {
     "data": {
      "text/plain": [
       "'wor'"
      ]
     },
     "execution_count": 226,
     "metadata": {},
     "output_type": "execute_result"
    }
   ],
   "source": [
    "s[-5:-2]"
   ]
  },
  {
   "cell_type": "code",
   "execution_count": 227,
   "id": "8a64a7e1",
   "metadata": {},
   "outputs": [
    {
     "data": {
      "text/plain": [
       "'hd'"
      ]
     },
     "execution_count": 227,
     "metadata": {},
     "output_type": "execute_result"
    }
   ],
   "source": [
    "s[0]+s[-1]"
   ]
  },
  {
   "cell_type": "code",
   "execution_count": 228,
   "id": "f6e389c0",
   "metadata": {},
   "outputs": [
    {
     "data": {
      "text/plain": [
       "'hello worldhello world'"
      ]
     },
     "execution_count": 228,
     "metadata": {},
     "output_type": "execute_result"
    }
   ],
   "source": [
    "s*2"
   ]
  },
  {
   "cell_type": "code",
   "execution_count": 230,
   "id": "90217369",
   "metadata": {},
   "outputs": [
    {
     "name": "stdout",
     "output_type": "stream",
     "text": [
      "hh\n",
      "ee\n",
      "ll\n",
      "ll\n",
      "oo\n",
      "  \n",
      "ww\n",
      "oo\n",
      "rr\n",
      "ll\n",
      "dd\n"
     ]
    }
   ],
   "source": [
    "for i in s:\n",
    "    print(i*2)"
   ]
  },
  {
   "cell_type": "code",
   "execution_count": 231,
   "id": "bed1e85f",
   "metadata": {},
   "outputs": [
    {
     "data": {
      "text/plain": [
       "'Hello world'"
      ]
     },
     "execution_count": 231,
     "metadata": {},
     "output_type": "execute_result"
    }
   ],
   "source": [
    "s.capitalize()"
   ]
  },
  {
   "cell_type": "code",
   "execution_count": 232,
   "id": "6c159759",
   "metadata": {},
   "outputs": [
    {
     "data": {
      "text/plain": [
       "'HELLO WORLD'"
      ]
     },
     "execution_count": 232,
     "metadata": {},
     "output_type": "execute_result"
    }
   ],
   "source": [
    "s.upper()"
   ]
  },
  {
   "cell_type": "code",
   "execution_count": 233,
   "id": "e1226ab3",
   "metadata": {},
   "outputs": [
    {
     "data": {
      "text/plain": [
       "'hello world'"
      ]
     },
     "execution_count": 233,
     "metadata": {},
     "output_type": "execute_result"
    }
   ],
   "source": [
    "s.lower()"
   ]
  },
  {
   "cell_type": "code",
   "execution_count": 234,
   "id": "9c7e22ba",
   "metadata": {},
   "outputs": [
    {
     "data": {
      "text/plain": [
       "11"
      ]
     },
     "execution_count": 234,
     "metadata": {},
     "output_type": "execute_result"
    }
   ],
   "source": [
    "len(s)"
   ]
  },
  {
   "cell_type": "code",
   "execution_count": 235,
   "id": "d1f5799e",
   "metadata": {},
   "outputs": [
    {
     "data": {
      "text/plain": [
       "str"
      ]
     },
     "execution_count": 235,
     "metadata": {},
     "output_type": "execute_result"
    }
   ],
   "source": [
    "type(s)"
   ]
  },
  {
   "cell_type": "code",
   "execution_count": 236,
   "id": "a4c023c3",
   "metadata": {},
   "outputs": [
    {
     "data": {
      "text/plain": [
       "'hello world'"
      ]
     },
     "execution_count": 236,
     "metadata": {},
     "output_type": "execute_result"
    }
   ],
   "source": [
    "s.casefold()"
   ]
  },
  {
   "cell_type": "code",
   "execution_count": 237,
   "id": "6b334654",
   "metadata": {},
   "outputs": [],
   "source": [
    "s = 'RAJU'"
   ]
  },
  {
   "cell_type": "code",
   "execution_count": 238,
   "id": "c1cc5d68",
   "metadata": {},
   "outputs": [
    {
     "data": {
      "text/plain": [
       "'raju'"
      ]
     },
     "execution_count": 238,
     "metadata": {},
     "output_type": "execute_result"
    }
   ],
   "source": [
    "s.casefold()"
   ]
  },
  {
   "cell_type": "code",
   "execution_count": 241,
   "id": "b7a675bc",
   "metadata": {},
   "outputs": [
    {
     "data": {
      "text/plain": [
       "'                  RAJU                  '"
      ]
     },
     "execution_count": 241,
     "metadata": {},
     "output_type": "execute_result"
    }
   ],
   "source": [
    "s.center(40)"
   ]
  },
  {
   "cell_type": "code",
   "execution_count": 242,
   "id": "e75c15b9",
   "metadata": {},
   "outputs": [
    {
     "data": {
      "text/plain": [
       "False"
      ]
     },
     "execution_count": 242,
     "metadata": {},
     "output_type": "execute_result"
    }
   ],
   "source": [
    "s.endswith('r')"
   ]
  },
  {
   "cell_type": "code",
   "execution_count": 246,
   "id": "0c515ddb",
   "metadata": {},
   "outputs": [
    {
     "data": {
      "text/plain": [
       "True"
      ]
     },
     "execution_count": 246,
     "metadata": {},
     "output_type": "execute_result"
    }
   ],
   "source": [
    "s.casefold().startswith('r')"
   ]
  },
  {
   "cell_type": "code",
   "execution_count": 244,
   "id": "2f149e10",
   "metadata": {},
   "outputs": [
    {
     "data": {
      "text/plain": [
       "'RAJU'"
      ]
     },
     "execution_count": 244,
     "metadata": {},
     "output_type": "execute_result"
    }
   ],
   "source": [
    "s"
   ]
  },
  {
   "cell_type": "code",
   "execution_count": 245,
   "id": "1387a882",
   "metadata": {},
   "outputs": [
    {
     "data": {
      "text/plain": [
       "True"
      ]
     },
     "execution_count": 245,
     "metadata": {},
     "output_type": "execute_result"
    }
   ],
   "source": [
    "s.startswith('R')"
   ]
  },
  {
   "cell_type": "code",
   "execution_count": 247,
   "id": "4b4b4180",
   "metadata": {},
   "outputs": [
    {
     "data": {
      "text/plain": [
       "True"
      ]
     },
     "execution_count": 247,
     "metadata": {},
     "output_type": "execute_result"
    }
   ],
   "source": [
    "s.isalnum()"
   ]
  },
  {
   "cell_type": "code",
   "execution_count": 248,
   "id": "9e0d684a",
   "metadata": {},
   "outputs": [
    {
     "data": {
      "text/plain": [
       "True"
      ]
     },
     "execution_count": 248,
     "metadata": {},
     "output_type": "execute_result"
    }
   ],
   "source": [
    "s.isalnum()"
   ]
  },
  {
   "cell_type": "code",
   "execution_count": 249,
   "id": "8d4ce88f",
   "metadata": {},
   "outputs": [],
   "source": [
    "s = 'raju123'"
   ]
  },
  {
   "cell_type": "code",
   "execution_count": 250,
   "id": "3b97878a",
   "metadata": {},
   "outputs": [
    {
     "data": {
      "text/plain": [
       "True"
      ]
     },
     "execution_count": 250,
     "metadata": {},
     "output_type": "execute_result"
    }
   ],
   "source": [
    "s.isalnum()"
   ]
  },
  {
   "cell_type": "code",
   "execution_count": 251,
   "id": "1867b902",
   "metadata": {},
   "outputs": [
    {
     "data": {
      "text/plain": [
       "False"
      ]
     },
     "execution_count": 251,
     "metadata": {},
     "output_type": "execute_result"
    }
   ],
   "source": [
    "s.isalpha()"
   ]
  },
  {
   "cell_type": "code",
   "execution_count": 252,
   "id": "88d3a92d",
   "metadata": {},
   "outputs": [
    {
     "data": {
      "text/plain": [
       "False"
      ]
     },
     "execution_count": 252,
     "metadata": {},
     "output_type": "execute_result"
    }
   ],
   "source": [
    "s.isalpha()"
   ]
  },
  {
   "cell_type": "code",
   "execution_count": 253,
   "id": "6dfc81aa",
   "metadata": {},
   "outputs": [
    {
     "data": {
      "text/plain": [
       "True"
      ]
     },
     "execution_count": 253,
     "metadata": {},
     "output_type": "execute_result"
    }
   ],
   "source": [
    "s = 'raju'\n",
    "s.isalpha()"
   ]
  },
  {
   "cell_type": "code",
   "execution_count": 255,
   "id": "180dc738",
   "metadata": {},
   "outputs": [
    {
     "name": "stdout",
     "output_type": "stream",
     "text": [
      " \n",
      " \n",
      "1\n",
      "2\n",
      "3\n"
     ]
    }
   ],
   "source": [
    "s = 'raju kalyan 123'\n",
    "for i in s:\n",
    "    if i.isalpha()==False:\n",
    "        print(i)"
   ]
  },
  {
   "cell_type": "code",
   "execution_count": 256,
   "id": "d63855c4",
   "metadata": {},
   "outputs": [
    {
     "data": {
      "text/plain": [
       "'raju kalyan 123'"
      ]
     },
     "execution_count": 256,
     "metadata": {},
     "output_type": "execute_result"
    }
   ],
   "source": [
    "s"
   ]
  },
  {
   "cell_type": "code",
   "execution_count": 257,
   "id": "6b20e18c",
   "metadata": {},
   "outputs": [
    {
     "data": {
      "text/plain": [
       "False"
      ]
     },
     "execution_count": 257,
     "metadata": {},
     "output_type": "execute_result"
    }
   ],
   "source": [
    "s.isdigit()"
   ]
  },
  {
   "cell_type": "code",
   "execution_count": 258,
   "id": "aeaa976c",
   "metadata": {},
   "outputs": [
    {
     "data": {
      "text/plain": [
       "True"
      ]
     },
     "execution_count": 258,
     "metadata": {},
     "output_type": "execute_result"
    }
   ],
   "source": [
    "s = '777'\n",
    "s.isdigit()"
   ]
  },
  {
   "cell_type": "code",
   "execution_count": 259,
   "id": "764b3bb1",
   "metadata": {},
   "outputs": [
    {
     "data": {
      "text/plain": [
       "True"
      ]
     },
     "execution_count": 259,
     "metadata": {},
     "output_type": "execute_result"
    }
   ],
   "source": [
    "s = 'raju'\n",
    "s.islower()"
   ]
  },
  {
   "cell_type": "code",
   "execution_count": 260,
   "id": "9acbdda6",
   "metadata": {},
   "outputs": [
    {
     "data": {
      "text/plain": [
       "False"
      ]
     },
     "execution_count": 260,
     "metadata": {},
     "output_type": "execute_result"
    }
   ],
   "source": [
    "s.isupper()"
   ]
  },
  {
   "cell_type": "code",
   "execution_count": 261,
   "id": "bd5f399c",
   "metadata": {},
   "outputs": [],
   "source": [
    "s = '   raju   '"
   ]
  },
  {
   "cell_type": "code",
   "execution_count": 262,
   "id": "5c3b5aaa",
   "metadata": {},
   "outputs": [
    {
     "data": {
      "text/plain": [
       "'raju'"
      ]
     },
     "execution_count": 262,
     "metadata": {},
     "output_type": "execute_result"
    }
   ],
   "source": [
    "s.strip()"
   ]
  },
  {
   "cell_type": "code",
   "execution_count": 263,
   "id": "18e72fa9",
   "metadata": {},
   "outputs": [
    {
     "data": {
      "text/plain": [
       "'   python   '"
      ]
     },
     "execution_count": 263,
     "metadata": {},
     "output_type": "execute_result"
    }
   ],
   "source": [
    "s.replace('raju', 'python')"
   ]
  },
  {
   "cell_type": "code",
   "execution_count": 266,
   "id": "55395438",
   "metadata": {},
   "outputs": [
    {
     "data": {
      "text/plain": [
       "'i am learning python'"
      ]
     },
     "execution_count": 266,
     "metadata": {},
     "output_type": "execute_result"
    }
   ],
   "source": [
    "s = 'i am learning python'\n",
    "s2 = ''.join(s)\n",
    "s2"
   ]
  },
  {
   "cell_type": "code",
   "execution_count": 267,
   "id": "6e71d859",
   "metadata": {},
   "outputs": [
    {
     "data": {
      "text/plain": [
       "'i am learning python'"
      ]
     },
     "execution_count": 267,
     "metadata": {},
     "output_type": "execute_result"
    }
   ],
   "source": [
    "s"
   ]
  },
  {
   "cell_type": "code",
   "execution_count": 268,
   "id": "b6e923ae",
   "metadata": {},
   "outputs": [
    {
     "data": {
      "text/plain": [
       "-1"
      ]
     },
     "execution_count": 268,
     "metadata": {},
     "output_type": "execute_result"
    }
   ],
   "source": [
    "s.find('raju')"
   ]
  },
  {
   "cell_type": "code",
   "execution_count": 269,
   "id": "107ba259",
   "metadata": {},
   "outputs": [
    {
     "data": {
      "text/plain": [
       "14"
      ]
     },
     "execution_count": 269,
     "metadata": {},
     "output_type": "execute_result"
    }
   ],
   "source": [
    "s.find('python')"
   ]
  },
  {
   "cell_type": "code",
   "execution_count": 270,
   "id": "e16fffcc",
   "metadata": {},
   "outputs": [
    {
     "ename": "ValueError",
     "evalue": "substring not found",
     "output_type": "error",
     "traceback": [
      "\u001b[1;31m---------------------------------------------------------------------------\u001b[0m",
      "\u001b[1;31mValueError\u001b[0m                                Traceback (most recent call last)",
      "Input \u001b[1;32mIn [270]\u001b[0m, in \u001b[0;36m<cell line: 1>\u001b[1;34m()\u001b[0m\n\u001b[1;32m----> 1\u001b[0m \u001b[43ms\u001b[49m\u001b[38;5;241;43m.\u001b[39;49m\u001b[43mindex\u001b[49m\u001b[43m(\u001b[49m\u001b[38;5;124;43m'\u001b[39;49m\u001b[38;5;124;43mraju\u001b[39;49m\u001b[38;5;124;43m'\u001b[39;49m\u001b[43m)\u001b[49m\n",
      "\u001b[1;31mValueError\u001b[0m: substring not found"
     ]
    }
   ],
   "source": [
    "s.index('raju')"
   ]
  },
  {
   "cell_type": "code",
   "execution_count": 271,
   "id": "9fdbc9e3",
   "metadata": {},
   "outputs": [
    {
     "data": {
      "text/plain": [
       "14"
      ]
     },
     "execution_count": 271,
     "metadata": {},
     "output_type": "execute_result"
    }
   ],
   "source": [
    "s.index('python')"
   ]
  },
  {
   "cell_type": "code",
   "execution_count": 274,
   "id": "54c92f31",
   "metadata": {},
   "outputs": [],
   "source": [
    "s = 'mr raju'"
   ]
  },
  {
   "cell_type": "code",
   "execution_count": 276,
   "id": "ab7dd1c4",
   "metadata": {},
   "outputs": [
    {
     "data": {
      "text/plain": [
       "'raju'"
      ]
     },
     "execution_count": 276,
     "metadata": {},
     "output_type": "execute_result"
    }
   ],
   "source": [
    "s.removeprefix('mr ')"
   ]
  },
  {
   "cell_type": "code",
   "execution_count": 279,
   "id": "24c425ab",
   "metadata": {},
   "outputs": [
    {
     "data": {
      "text/plain": [
       "'raju '"
      ]
     },
     "execution_count": 279,
     "metadata": {},
     "output_type": "execute_result"
    }
   ],
   "source": [
    "s = 'raju gulla'\n",
    "s.removesuffix('gulla')"
   ]
  },
  {
   "cell_type": "code",
   "execution_count": 280,
   "id": "bbaa38f6",
   "metadata": {},
   "outputs": [
    {
     "data": {
      "text/plain": [
       "['raju', 'gulla']"
      ]
     },
     "execution_count": 280,
     "metadata": {},
     "output_type": "execute_result"
    }
   ],
   "source": [
    "s.split()"
   ]
  },
  {
   "cell_type": "code",
   "execution_count": 281,
   "id": "6bb15371",
   "metadata": {},
   "outputs": [
    {
     "data": {
      "text/plain": [
       "'RAJU GULLA'"
      ]
     },
     "execution_count": 281,
     "metadata": {},
     "output_type": "execute_result"
    }
   ],
   "source": [
    "s.swapcase()"
   ]
  },
  {
   "cell_type": "code",
   "execution_count": 282,
   "id": "a5653aed",
   "metadata": {},
   "outputs": [
    {
     "data": {
      "text/plain": [
       "'RAJU GULLA'"
      ]
     },
     "execution_count": 282,
     "metadata": {},
     "output_type": "execute_result"
    }
   ],
   "source": [
    "s.swapcase()"
   ]
  },
  {
   "cell_type": "code",
   "execution_count": 283,
   "id": "07c25441",
   "metadata": {},
   "outputs": [
    {
     "data": {
      "text/plain": [
       "'raju gulla'"
      ]
     },
     "execution_count": 283,
     "metadata": {},
     "output_type": "execute_result"
    }
   ],
   "source": [
    "s.zfill(10)"
   ]
  },
  {
   "cell_type": "code",
   "execution_count": 284,
   "id": "421618ec",
   "metadata": {},
   "outputs": [
    {
     "data": {
      "text/plain": [
       "'0000000000raju gulla'"
      ]
     },
     "execution_count": 284,
     "metadata": {},
     "output_type": "execute_result"
    }
   ],
   "source": [
    "s.zfill(20)"
   ]
  },
  {
   "cell_type": "code",
   "execution_count": 288,
   "id": "e571216e",
   "metadata": {},
   "outputs": [
    {
     "data": {
      "text/plain": [
       "'Raju Gulla'"
      ]
     },
     "execution_count": 288,
     "metadata": {},
     "output_type": "execute_result"
    }
   ],
   "source": [
    "s.title()"
   ]
  },
  {
   "cell_type": "code",
   "execution_count": 289,
   "id": "6d67e748",
   "metadata": {},
   "outputs": [
    {
     "data": {
      "text/plain": [
       "'Raju Gulla'"
      ]
     },
     "execution_count": 289,
     "metadata": {},
     "output_type": "execute_result"
    }
   ],
   "source": [
    "s.title()"
   ]
  },
  {
   "cell_type": "code",
   "execution_count": 290,
   "id": "d8e8ffea",
   "metadata": {},
   "outputs": [
    {
     "data": {
      "text/plain": [
       "'Raju A1B3'"
      ]
     },
     "execution_count": 290,
     "metadata": {},
     "output_type": "execute_result"
    }
   ],
   "source": [
    "s = 'raju a1b3'\n",
    "s.title()"
   ]
  },
  {
   "cell_type": "code",
   "execution_count": 291,
   "id": "b435f2f1",
   "metadata": {},
   "outputs": [],
   "source": [
    "words = ['hello', 'world', 'how', 'are', 'you']"
   ]
  },
  {
   "cell_type": "code",
   "execution_count": 294,
   "id": "fbb4a792",
   "metadata": {},
   "outputs": [
    {
     "data": {
      "text/plain": [
       "'hello world how are you'"
      ]
     },
     "execution_count": 294,
     "metadata": {},
     "output_type": "execute_result"
    }
   ],
   "source": [
    "a = ' '.join(words)\n",
    "a"
   ]
  },
  {
   "cell_type": "code",
   "execution_count": 295,
   "id": "e6df9676",
   "metadata": {},
   "outputs": [],
   "source": [
    "name = 'raju'\n",
    "age = 25"
   ]
  },
  {
   "cell_type": "code",
   "execution_count": 297,
   "id": "a3bca29b",
   "metadata": {},
   "outputs": [
    {
     "name": "stdout",
     "output_type": "stream",
     "text": [
      "my name is raju and my age is 25\n"
     ]
    }
   ],
   "source": [
    "print(\"my name is {} and my age is {}\".format(name, age))"
   ]
  },
  {
   "cell_type": "code",
   "execution_count": 299,
   "id": "6ff48423",
   "metadata": {},
   "outputs": [
    {
     "name": "stdout",
     "output_type": "stream",
     "text": [
      "my anme is raju and my age is 25\n"
     ]
    }
   ],
   "source": [
    "print(f'my anme is {name} and my age is {age}')"
   ]
  },
  {
   "cell_type": "code",
   "execution_count": 301,
   "id": "a516bf67",
   "metadata": {},
   "outputs": [],
   "source": [
    "name = ' i\\'m raju'#escape charecter"
   ]
  },
  {
   "cell_type": "code",
   "execution_count": 302,
   "id": "b2af687e",
   "metadata": {},
   "outputs": [
    {
     "data": {
      "text/plain": [
       "\" i'm raju\""
      ]
     },
     "execution_count": 302,
     "metadata": {},
     "output_type": "execute_result"
    }
   ],
   "source": [
    "name"
   ]
  },
  {
   "cell_type": "code",
   "execution_count": 303,
   "id": "f9f84c14",
   "metadata": {},
   "outputs": [
    {
     "data": {
      "text/plain": [
       "7"
      ]
     },
     "execution_count": 303,
     "metadata": {},
     "output_type": "execute_result"
    }
   ],
   "source": [
    "7\n"
   ]
  },
  {
   "cell_type": "code",
   "execution_count": 305,
   "id": "b1e15de6",
   "metadata": {},
   "outputs": [
    {
     "data": {
      "text/plain": [
       "'123'"
      ]
     },
     "execution_count": 305,
     "metadata": {},
     "output_type": "execute_result"
    }
   ],
   "source": [
    "import re\n",
    "\n",
    "string = 'raju 123'\n",
    "pattern = '\\d+'\n",
    "match = re.search(pattern, string)\n",
    "match.group()"
   ]
  },
  {
   "cell_type": "code",
   "execution_count": 313,
   "id": "6f6b601f",
   "metadata": {},
   "outputs": [
    {
     "data": {
      "text/plain": [
       "['123', '345']"
      ]
     },
     "execution_count": 313,
     "metadata": {},
     "output_type": "execute_result"
    }
   ],
   "source": [
    "string = 'raju 123 345'\n",
    "pattern = '\\d+'\n",
    "\n",
    "match = re.findall(pattern, string)\n",
    "match"
   ]
  },
  {
   "cell_type": "code",
   "execution_count": 6,
   "id": "441392f1",
   "metadata": {},
   "outputs": [
    {
     "name": "stdout",
     "output_type": "stream",
     "text": [
      "['quick', 'brown', 'jumps']\n"
     ]
    }
   ],
   "source": [
    "import re\n",
    "\n",
    "string = \"The quick brown fox jumps over the lazy dog.\"\n",
    "pattern = r\"\\b\\w{5}\\b\"\n",
    "regex = re.compile(pattern)\n",
    "\n",
    "matches = regex.findall(string)\n",
    "print(matches)"
   ]
  },
  {
   "cell_type": "code",
   "execution_count": 318,
   "id": "4fb311c7",
   "metadata": {},
   "outputs": [
    {
     "data": {
      "text/plain": [
       "['raju']"
      ]
     },
     "execution_count": 318,
     "metadata": {},
     "output_type": "execute_result"
    }
   ],
   "source": [
    "pattern = re.compile(r\"\\b\\w{4}\\b\")\n",
    "res = pattern.findall(\"raju kalyan\")\n",
    "res"
   ]
  },
  {
   "cell_type": "code",
   "execution_count": 319,
   "id": "4fc8bebe",
   "metadata": {},
   "outputs": [
    {
     "data": {
      "text/plain": [
       "['123']"
      ]
     },
     "execution_count": 319,
     "metadata": {},
     "output_type": "execute_result"
    }
   ],
   "source": [
    "pt = re.compile(r\"\\b\\d{3}\\b\")\n",
    "res = pt.findall('raju kalyan 123')\n",
    "res"
   ]
  },
  {
   "cell_type": "code",
   "execution_count": 13,
   "id": "3791e7a5",
   "metadata": {},
   "outputs": [
    {
     "data": {
      "text/plain": [
       "['raju']"
      ]
     },
     "execution_count": 13,
     "metadata": {},
     "output_type": "execute_result"
    }
   ],
   "source": [
    "import re\n",
    "string = \"raju kalyan\"\n",
    "pattern = r\"\\b\\w{4}\\b\"\n",
    "reg = re.compile(pattern)\n",
    "match = reg.findall(string)\n",
    "match"
   ]
  },
  {
   "cell_type": "code",
   "execution_count": 15,
   "id": "7336c57d",
   "metadata": {},
   "outputs": [
    {
     "name": "stdout",
     "output_type": "stream",
     "text": [
      "['raju']\n"
     ]
    }
   ],
   "source": [
    "import re\n",
    "\n",
    "string = \"raju kalyan\"\n",
    "pattern = r\"\\b\\w{4}\\b\"\n",
    "regex = re.compile(pattern)\n",
    "\n",
    "matches = regex.findall(string)\n",
    "print(matches)"
   ]
  },
  {
   "cell_type": "code",
   "execution_count": 18,
   "id": "e5a51fa6",
   "metadata": {},
   "outputs": [
    {
     "data": {
      "text/plain": [
       "'raju'"
      ]
     },
     "execution_count": 18,
     "metadata": {},
     "output_type": "execute_result"
    }
   ],
   "source": [
    "res = re.search(r\"\\b\\w{4}\\b\", 'raju kalyan')\n",
    "res.group()"
   ]
  },
  {
   "cell_type": "code",
   "execution_count": 21,
   "id": "89c5507e",
   "metadata": {},
   "outputs": [
    {
     "data": {
      "text/plain": [
       "<re.Match object; span=(0, 7), match='raju 12'>"
      ]
     },
     "execution_count": 21,
     "metadata": {},
     "output_type": "execute_result"
    }
   ],
   "source": [
    "res = re.search(r\"(\\w{4}).+(\\d{2})\", 'raju 12')\n",
    "res"
   ]
  },
  {
   "cell_type": "code",
   "execution_count": null,
   "id": "9aeaeba7",
   "metadata": {},
   "outputs": [],
   "source": [
    "r\"(\\w{10}).+(\\d{2})\""
   ]
  },
  {
   "cell_type": "code",
   "execution_count": 23,
   "id": "7d18eca2",
   "metadata": {},
   "outputs": [
    {
     "data": {
      "text/plain": [
       "'raju'"
      ]
     },
     "execution_count": 23,
     "metadata": {},
     "output_type": "execute_result"
    }
   ],
   "source": [
    "res.group(1)"
   ]
  },
  {
   "cell_type": "code",
   "execution_count": 24,
   "id": "1bec34f1",
   "metadata": {},
   "outputs": [
    {
     "data": {
      "text/plain": [
       "'12'"
      ]
     },
     "execution_count": 24,
     "metadata": {},
     "output_type": "execute_result"
    }
   ],
   "source": [
    "res.group(2)"
   ]
  },
  {
   "cell_type": "code",
   "execution_count": 27,
   "id": "f4f3722a",
   "metadata": {},
   "outputs": [
    {
     "data": {
      "text/plain": [
       "<re.Match object; span=(0, 4), match='raju'>"
      ]
     },
     "execution_count": 27,
     "metadata": {},
     "output_type": "execute_result"
    }
   ],
   "source": [
    "res = re.search(\"Raju\", \"raju kalyan\", re.IGNORECASE)\n",
    "res"
   ]
  },
  {
   "cell_type": "code",
   "execution_count": 28,
   "id": "dcb2fcb9",
   "metadata": {},
   "outputs": [
    {
     "data": {
      "text/plain": [
       "'raju'"
      ]
     },
     "execution_count": 28,
     "metadata": {},
     "output_type": "execute_result"
    }
   ],
   "source": [
    "res.group()"
   ]
  },
  {
   "cell_type": "code",
   "execution_count": 29,
   "id": "06e9e7b1",
   "metadata": {},
   "outputs": [],
   "source": [
    "import re"
   ]
  },
  {
   "cell_type": "code",
   "execution_count": 30,
   "id": "cd712b80",
   "metadata": {},
   "outputs": [
    {
     "data": {
      "text/plain": [
       "<re.Match object; span=(0, 4), match='raju'>"
      ]
     },
     "execution_count": 30,
     "metadata": {},
     "output_type": "execute_result"
    }
   ],
   "source": [
    "res = re.match(r\"\\b\\w{4}\\b\", 'raju kalyan')\n",
    "res"
   ]
  },
  {
   "cell_type": "code",
   "execution_count": 31,
   "id": "13500ceb",
   "metadata": {},
   "outputs": [],
   "source": [
    "res1 = re.search(\"\\b\\w{4}\\b\", 'raju kalyan')\n",
    "res1"
   ]
  },
  {
   "cell_type": "code",
   "execution_count": 32,
   "id": "8a4da741",
   "metadata": {},
   "outputs": [
    {
     "name": "stdout",
     "output_type": "stream",
     "text": [
      "The text contains spam words!\n"
     ]
    }
   ],
   "source": [
    "import re\n",
    "\n",
    "def check_text_for_spam(text, spam_words_list):\n",
    "    # Compile the regular expression\n",
    "    regex = re.compile('|'.join(spam_words_list))\n",
    "    \n",
    "    # Search the text for any occurrences of the spam words\n",
    "    match = regex.search(text)\n",
    "    \n",
    "    if match:\n",
    "        # If the text contains any of the spam words, return True\n",
    "        return True\n",
    "    else:\n",
    "        # If the text does not contain any of the spam words, return False\n",
    "        return False\n",
    "\n",
    "# Example usage:\n",
    "spam_words_list = ['spam', 'free money', 'win a prize']\n",
    "text = 'Hello, do you want to win a prize?'\n",
    "\n",
    "if check_text_for_spam(text, spam_words_list):\n",
    "    print('The text contains spam words!')\n",
    "else:\n",
    "    print('The text does not contain any spam words.')"
   ]
  },
  {
   "cell_type": "code",
   "execution_count": 33,
   "id": "720c8a7f",
   "metadata": {},
   "outputs": [
    {
     "name": "stdout",
     "output_type": "stream",
     "text": [
      "spam\n"
     ]
    }
   ],
   "source": [
    "def check_text_for_spam(text, spam_words_list):\n",
    "    # Compile the regular expression\n",
    "    regex = re.compile('|'.join(spam_words_list))\n",
    "    \n",
    "    # Search the text for any occurrences of the spam words\n",
    "    match = regex.search(text)\n",
    "    \n",
    "    if match:\n",
    "        # If the text contains any of the spam words, return 'spam'\n",
    "        return 'spam'\n",
    "    else:\n",
    "        # If the text does not contain any of the spam words, return 'ham'\n",
    "        return 'ham'\n",
    "\n",
    "# Example usage:\n",
    "spam_words_list = ['spam', 'free money', 'win a prize']\n",
    "text = 'Hello, do you want to win a prize?'\n",
    "\n",
    "result = check_text_for_spam(text, spam_words_list)\n",
    "print(result)"
   ]
  },
  {
   "cell_type": "code",
   "execution_count": 34,
   "id": "a9fe7a18",
   "metadata": {},
   "outputs": [
    {
     "name": "stdout",
     "output_type": "stream",
     "text": [
      "spam\n"
     ]
    }
   ],
   "source": [
    "import re\n",
    "\n",
    "def check_text_for_spam(text, spam_words_list):\n",
    "    # Escape any special characters in the spam words\n",
    "    spam_words_list = [re.escape(word) for word in spam_words_list]\n",
    "    \n",
    "    # Compile the regular expression\n",
    "    regex = re.compile('|'.join(spam_words_list))\n",
    "    \n",
    "    # Search the text for any occurrences of the spam words\n",
    "    match = regex.search(text)\n",
    "    \n",
    "    if match:\n",
    "        # If the text contains any of the spam words, return 'spam'\n",
    "        return 'spam'\n",
    "    else:\n",
    "        # If the text does not contain any of the spam words, return 'ham'\n",
    "        return 'ham'\n",
    "\n",
    "# Example usage:\n",
    "spam_words_list = ['spam', 'free money', 'win a prize']\n",
    "text = 'Hello, do you want to win a prize?'\n",
    "\n",
    "result = check_text_for_spam(text, spam_words_list)\n",
    "print(result)"
   ]
  },
  {
   "cell_type": "code",
   "execution_count": 35,
   "id": "ebf441f0",
   "metadata": {},
   "outputs": [
    {
     "name": "stdout",
     "output_type": "stream",
     "text": [
      "{'spam_text': 'spam'}\n"
     ]
    }
   ],
   "source": [
    "import re\n",
    "\n",
    "class SpamFilter:\n",
    "    def __init__(self, spam_words_list):\n",
    "        # Compile the regular expression\n",
    "        self.regex = re.compile(\"|\".join(spam_words_list))\n",
    "        \n",
    "    def preprocess(self, text):\n",
    "        text = re.sub(r'\\xa0|\\n|\\�|\\:|\\.|\\/',' ',str(text).lower())\n",
    "        text = re.sub(r'\\-',' ',text)\n",
    "        text = re.sub(r'\\d','',text)\n",
    "        text = ' '.join([''.join([l for l in x if l.isalpha()]) for x in text.split()])\n",
    "        text = text.strip()\n",
    "        text = re.sub(r'\\s+',' ',text)\n",
    "        return \" \"+text+\" \"\n",
    "        \n",
    "    def predict(self, text):\n",
    "        if type(text)==str:\n",
    "            text = \" \"+text.lower()+\" \".replace(\"*\",\"\\*\")#.replace(\"+\",\"\\+\").replace(\"-\",\"\\-\")\n",
    "            if self.regex.search(text) != None:\n",
    "                result = 'spam'\n",
    "            else:\n",
    "                text = self.preprocess(text)\n",
    "                if self.regex.search(text) != None:\n",
    "                    result = 'spam'\n",
    "                else:\n",
    "                    result = 'ham'\n",
    "        else:\n",
    "            result = 'ham'\n",
    "            \n",
    "        return {'spam_text': result}\n",
    "\n",
    "# Example usage:\n",
    "spam_filter = SpamFilter(['spam', 'free money', 'win a prize'])\n",
    "text = 'Hello, do you want to win a prize?'\n",
    "\n",
    "result = spam_filter.predict(text)\n",
    "print(result)"
   ]
  },
  {
   "cell_type": "code",
   "execution_count": null,
   "id": "b553157e",
   "metadata": {},
   "outputs": [],
   "source": []
  },
  {
   "cell_type": "code",
   "execution_count": null,
   "id": "c06364f8",
   "metadata": {},
   "outputs": [],
   "source": []
  },
  {
   "cell_type": "code",
   "execution_count": null,
   "id": "f7565fd1",
   "metadata": {},
   "outputs": [],
   "source": []
  },
  {
   "cell_type": "code",
   "execution_count": null,
   "id": "a338ae95",
   "metadata": {},
   "outputs": [],
   "source": []
  }
 ],
 "metadata": {
  "kernelspec": {
   "display_name": "Python 3 (ipykernel)",
   "language": "python",
   "name": "python3"
  },
  "language_info": {
   "codemirror_mode": {
    "name": "ipython",
    "version": 3
   },
   "file_extension": ".py",
   "mimetype": "text/x-python",
   "name": "python",
   "nbconvert_exporter": "python",
   "pygments_lexer": "ipython3",
   "version": "3.9.12"
  }
 },
 "nbformat": 4,
 "nbformat_minor": 5
}
