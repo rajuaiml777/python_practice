{
 "cells": [
  {
   "cell_type": "markdown",
   "id": "00b7aee6",
   "metadata": {},
   "source": [
    "## Python Functions\n",
    "\n",
    "- In Python, the function is a block of code defined with a name. We use functions whenever we need to perform the same task multiple times without writing the same code again. It can take arguments and returns the value.\n",
    "\n",
    "- Python has a DRY principle like other programming languages. DRY stands for Don’t Repeat Yourself. Consider a scenario where we need to do some action/task many times. We can define that action only once using a function and call that function whenever required to do the same activity.\n",
    "\n",
    "- Function improves efficiency and reduces errors because of the reusability of a code. Once we create a function, we can call it anywhere and anytime. The benefit of using a function is reusability and modularity."
   ]
  },
  {
   "cell_type": "markdown",
   "id": "83b90dc3",
   "metadata": {},
   "source": [
    "# Types of Functions\n",
    "## Python support two types of functions\n",
    "\n",
    "- Built-in function\n",
    "- User-defined function\n",
    "## Built-in function\n",
    "\n",
    "- The functions which are come along with Python itself are called a built-in function or predefined function. Some of them are listed below.\n",
    "range(), id(), type(), input(), eval() etc."
   ]
  },
  {
   "cell_type": "code",
   "execution_count": 2,
   "id": "ed54c25a",
   "metadata": {},
   "outputs": [
    {
     "name": "stdout",
     "output_type": "stream",
     "text": [
      "1 2 3 4 5 6 7 8 9 "
     ]
    }
   ],
   "source": [
    "#Example: Python range() function generates the immutable sequence of numbers starting from the given start integer to the stop integer.\n",
    "for i in range(1,10):\n",
    "    print(i, end =\" \")"
   ]
  },
  {
   "cell_type": "markdown",
   "id": "f97f4a50",
   "metadata": {},
   "source": [
    "## User-defined function\n",
    "\n",
    "- Functions which are created by programmer explicitly according to the requirement are called a user-defined function.\n",
    "\n",
    "## Creating a Function\n",
    "\n",
    "- Use the following steps to to define a function in Python.\n",
    "\n",
    "- Use the def keyword with the function name to define a function.\n",
    "- Next, pass the number of parameters as per your requirement. (Optional).\n",
    "- Next, define the function body with a block of code. This block of code is nothing but the action you wanted to perform.\n",
    "- In Python, no need to specify curly braces for the function body. The only indentation is essential to separate code blocks. Otherwise, you will get an error."
   ]
  },
  {
   "cell_type": "code",
   "execution_count": null,
   "id": "961358e5",
   "metadata": {},
   "outputs": [],
   "source": [
    "# Syntax of creating a function\n",
    "def function_name(parameter1, parameter2):\n",
    "    # function body\n",
    "    # write some function\n",
    "return value"
   ]
  },
  {
   "cell_type": "markdown",
   "id": "142e228d",
   "metadata": {},
   "source": [
    "- Here,\n",
    "\n",
    "- function_name: Function name is the name of the function. We can give any name to function.\n",
    "- parameter: Parameter is the value passed to the function. We can pass any number of parameters. Function body uses the parameter’s value to perform an action\n",
    "- function_body: The function body is a block of code that performs some task. This block of code is nothing but the action you wanted to accomplish.\n",
    "- return value: Return value is the output of the function.\n",
    "\n",
    "- Note: While defining a function, we use two keywords, def (mandatory) and return (optional).\n"
   ]
  },
  {
   "cell_type": "code",
   "execution_count": 5,
   "id": "7d632f7d",
   "metadata": {},
   "outputs": [
    {
     "name": "stdout",
     "output_type": "stream",
     "text": [
      "welcome to python\n"
     ]
    }
   ],
   "source": [
    "#Creating a function without any parameters\n",
    "# function\n",
    "def message():\n",
    "    print('welcome to python') \n",
    "# call function using its name\n",
    "message()"
   ]
  },
  {
   "cell_type": "code",
   "execution_count": 7,
   "id": "b66846e7",
   "metadata": {},
   "outputs": [
    {
     "name": "stdout",
     "output_type": "stream",
     "text": [
      "my name is raju\n",
      "my age is 30\n"
     ]
    }
   ],
   "source": [
    "#Creating a function with parameters\n",
    "def mydetails(name, age):\n",
    "    print('my name is', name)\n",
    "    print(f'my age is', age)\n",
    "mydetails('raju',30)"
   ]
  },
  {
   "cell_type": "code",
   "execution_count": 12,
   "id": "15e7a014",
   "metadata": {},
   "outputs": [
    {
     "name": "stdout",
     "output_type": "stream",
     "text": [
      "adition results: 7\n"
     ]
    }
   ],
   "source": [
    "#Creating a function with parameters and return value\n",
    "#function\n",
    "def calc(a,b):\n",
    "    add = a+b\n",
    "    #return the addition\n",
    "    return add\n",
    "#call function\n",
    "# take the values in variable\n",
    "res = calc(3,4)\n",
    "print(f\"adition results: {res}\")"
   ]
  },
  {
   "cell_type": "markdown",
   "id": "c9a8cd54",
   "metadata": {},
   "source": [
    "## Calling a function\n",
    "- Once we defined a function or finalized structure, we can call that function by using its name. We can also call that function from another function or program by importing it.\n",
    "\n",
    "- To call a function, use the name of the function with the parenthesis, and if the function accepts parameters, then pass those parameters in the parenthesis."
   ]
  },
  {
   "cell_type": "code",
   "execution_count": 13,
   "id": "df720491",
   "metadata": {},
   "outputs": [],
   "source": [
    "def even_odd(n):\n",
    "    if n%2==0:\n",
    "        print('even number')\n",
    "    else:\n",
    "        print('odd number')\n",
    "    "
   ]
  },
  {
   "cell_type": "code",
   "execution_count": 14,
   "id": "ff2d022e",
   "metadata": {},
   "outputs": [
    {
     "name": "stdout",
     "output_type": "stream",
     "text": [
      "even number\n"
     ]
    }
   ],
   "source": [
    "# calling function by its name\n",
    "even_odd(4)"
   ]
  },
  {
   "cell_type": "markdown",
   "id": "ddd3b5d8",
   "metadata": {},
   "source": [
    "## Calling a function of a module\n",
    "- You can take advantage of the built-in module and use the functions defined in it. For example, Python has a random module that is used for generating random numbers and data. It has various functions to create different types of random data.\n",
    "\n",
    "- Let’s see how to use functions defined in any module.\n",
    "\n",
    "- First, we need to use the import statement to import a specific function from a module.\n",
    "- Next, we can call that function by its name."
   ]
  },
  {
   "cell_type": "code",
   "execution_count": 15,
   "id": "16d27319",
   "metadata": {},
   "outputs": [
    {
     "name": "stdout",
     "output_type": "stream",
     "text": [
      "9\n"
     ]
    }
   ],
   "source": [
    "#import randint function\n",
    "from random import randint\n",
    "\n",
    "# call randint function to get random number\n",
    "\n",
    "print(randint(2,10))"
   ]
  },
  {
   "cell_type": "markdown",
   "id": "0917d302",
   "metadata": {},
   "source": [
    "## Docstrings\n",
    "- In Python, the documentation string is also called a docstring. It is a descriptive text (like a comment) written by a programmer to let others know what block of code does.\n",
    "\n",
    "- We write docstring in source code and define it immediately after module, class, function, or method definition.\n",
    "\n",
    "- It is being declared using triple single quotes (''' ''') or triple-double quote(\"\"\" \"\"\").\n",
    "\n",
    "- We can access docstring using doc attribute (__doc__) for any object like list, tuple, dict, and user-defined function, etc.\n",
    "\n"
   ]
  },
  {
   "cell_type": "markdown",
   "id": "d21e3bf8",
   "metadata": {},
   "source": [
    "## Single-Line Docstring\n",
    "- The single-line docstring is a docstring that fits in one line. We can use the triple single or triple-double quotes to define it. The Opening and closing quotes need to be the same. By convention, we should use to use the triple-double quotes to define docstring."
   ]
  },
  {
   "cell_type": "code",
   "execution_count": 16,
   "id": "288f1e26",
   "metadata": {},
   "outputs": [
    {
     "name": "stdout",
     "output_type": "stream",
     "text": [
      "this function returns the factorial of given number\n"
     ]
    }
   ],
   "source": [
    "def factorial(x):\n",
    "    \"\"\"this function returns the factorial of given number\"\"\"\n",
    "    return x\n",
    "#access the doc string\n",
    "print(factorial.__doc__)"
   ]
  },
  {
   "cell_type": "code",
   "execution_count": 17,
   "id": "df59ec09",
   "metadata": {},
   "outputs": [
    {
     "name": "stdout",
     "output_type": "stream",
     "text": [
      "Help on function factorial in module __main__:\n",
      "\n",
      "factorial(x)\n",
      "    this function returns the factorial of given number\n",
      "\n",
      "None\n"
     ]
    }
   ],
   "source": [
    "#When you use the help function to get the information of any function, it returns the docstring.\n",
    "# pass function name to help() function\n",
    "print(help(factorial))"
   ]
  },
  {
   "cell_type": "markdown",
   "id": "47089dfd",
   "metadata": {},
   "source": [
    "## Multi-Line Docstring\n",
    "- A multi-line Docstrings is the same single-line Docstrings, but it is followed by a single blank line with the descriptive text."
   ]
  },
  {
   "cell_type": "code",
   "execution_count": 19,
   "id": "33fcd711",
   "metadata": {},
   "outputs": [
    {
     "name": "stdout",
     "output_type": "stream",
     "text": [
      "              \n",
      "       Description of function\n",
      "\n",
      "       Arguments:   \n",
      "       parameter1(int):Description of parameter1\n",
      "\n",
      "       Returns:      \n",
      "       int value     \n",
      "    \n"
     ]
    }
   ],
   "source": [
    "def any_fun(parameter1):\n",
    "    \"\"\"              \n",
    "       Description of function\n",
    "\n",
    "       Arguments:   \n",
    "       parameter1(int):Description of parameter1\n",
    "\n",
    "       Returns:      \n",
    "       int value     \n",
    "    \"\"\"              \n",
    "print(any_fun.__doc__)"
   ]
  },
  {
   "cell_type": "markdown",
   "id": "5125fdda",
   "metadata": {},
   "source": [
    "## Return Value From a Function\n",
    "\n",
    "- In Python, to return value from the function, a return statement is used. It returns the value of the expression following the returns keyword.\n",
    "\n",
    "- Syntax of return statement\n",
    "- def fun():\n",
    "\n",
    "    statement-1\n",
    "    \n",
    "    statement-2\n",
    "    \n",
    "    statement-3\n",
    "    .          \n",
    "    .          \n",
    "    return [expression]\n",
    "    \n",
    "    \n",
    "## The return value is nothing but a outcome of function.\n",
    "\n",
    "- The return statement ends the function execution.\n",
    "- For a function, it is not mandatory to return a value.\n",
    "- If a return statement is used without any expression, then the None is returned.\n",
    "- The return statement should be inside of the function block.\n",
    "    \n"
   ]
  },
  {
   "cell_type": "code",
   "execution_count": 21,
   "id": "35d388d5",
   "metadata": {},
   "outputs": [],
   "source": [
    "def is_even(list):\n",
    "    even_num = []\n",
    "    for n in list:\n",
    "        if n%2==0:\n",
    "            even_num.append(n)\n",
    "    #return a list\n",
    "    return even_num"
   ]
  },
  {
   "cell_type": "code",
   "execution_count": 22,
   "id": "da55f625",
   "metadata": {},
   "outputs": [
    {
     "name": "stdout",
     "output_type": "stream",
     "text": [
      "even numbers are[2, 4, 10]\n"
     ]
    }
   ],
   "source": [
    "#pass the list to the function\n",
    "even_num = is_even([1,2,3,4,5, 10])\n",
    "print(f\"even numbers are{even_num}\")"
   ]
  },
  {
   "cell_type": "markdown",
   "id": "1d68ab17",
   "metadata": {},
   "source": [
    "## Return Multiple Values\n",
    "- You can also return multiple values from a function. Use the return statement by separating each expression by a comma."
   ]
  },
  {
   "cell_type": "code",
   "execution_count": 1,
   "id": "c71a20a4",
   "metadata": {},
   "outputs": [
    {
     "name": "stdout",
     "output_type": "stream",
     "text": [
      "addition:7\n",
      "subtraction:1\n",
      "multiplication:12\n",
      "division:1.3333333333333333\n"
     ]
    }
   ],
   "source": [
    "def calc(n1,n2):\n",
    "    add = n1+n2\n",
    "    sub = n1-n2\n",
    "    mul = n1*n2\n",
    "    div = n1/n2\n",
    "    #return 4 values\n",
    "    return add, sub, mul, div\n",
    "#read 4 return values in 4 variables\n",
    "a,b,c,d = calc(4,3)\n",
    "print(f\"addition:{a}\")\n",
    "print(f\"subtraction:{b}\")\n",
    "print(f\"multiplication:{c}\")\n",
    "print(f\"division:{d}\")"
   ]
  },
  {
   "cell_type": "markdown",
   "id": "a23dcc84",
   "metadata": {},
   "source": [
    "# The pass Statement\n",
    "- In Python, the pass is the keyword, which won’t do anything. Sometimes there is a situation where we need to define a syntactically empty block. We can define that block using the pass keyword.\n",
    "\n",
    "- When the interpreter finds a pass statement in the program, it returns no operation.\n",
    "\n",
    "- Example"
   ]
  },
  {
   "cell_type": "code",
   "execution_count": 2,
   "id": "917d5e3a",
   "metadata": {},
   "outputs": [],
   "source": [
    "def addition(num1, num2):\n",
    "    # Implementation of addition function in comming release\n",
    "    # Pass statement \n",
    "    pass\n",
    "\n",
    "addition(10, 2)"
   ]
  },
  {
   "cell_type": "markdown",
   "id": "a6a079d1",
   "metadata": {},
   "source": [
    "# How does Function work in Python?\n",
    "- In Python, functions allow the programmer to create short and clean code to be reused in an entire program.\n",
    "\n",
    "- The function helps us to organize code. The function accepts parameters as input, processes them, and in the end, returns values as output.\n",
    "\n",
    "- Let’s assume we defined a function that computes some task. When we call that function from another function, the program controller goes to that function, does some computation, and returns some value as output to the caller function."
   ]
  },
  {
   "cell_type": "markdown",
   "id": "607e5e9d",
   "metadata": {},
   "source": [
    "# Scope and Lifetime of Variables\n",
    "- When we define a function with variables, then those variables’ scope is limited to that function. In Python, the scope of a variable is an area where a variable is declared. It is called the variable’s local scope.\n",
    "\n",
    "- We cannot access the local variables from outside of the function. Because the scope is local, those variables are not visible from the outside of the function.\n",
    "\n",
    "- Note: The inner function does have access to the outer function’s local scope.\n",
    "\n",
    "- When we are executing a function, the life of the variables is up to running time. Once we return from the function, those variables get destroyed. So function does no need to remember the value of a variable from its previous call."
   ]
  },
  {
   "cell_type": "code",
   "execution_count": 5,
   "id": "88340504",
   "metadata": {},
   "outputs": [
    {
     "name": "stdout",
     "output_type": "stream",
     "text": [
      "Python\n",
      "DataScience\n"
     ]
    }
   ],
   "source": [
    "global_lang = 'DataScience'\n",
    "\n",
    "def var_scope_test():\n",
    "    local_lang = 'Python'\n",
    "    print(local_lang)\n",
    "\n",
    "var_scope_test()\n",
    "# Output 'Python'\n",
    "\n",
    "# outside of function\n",
    "print(global_lang)\n",
    "# Output 'DataScience'\n"
   ]
  },
  {
   "cell_type": "code",
   "execution_count": 5,
   "id": "22fdc627",
   "metadata": {},
   "outputs": [
    {
     "ename": "NameError",
     "evalue": "name 'local_lang' is not defined",
     "output_type": "error",
     "traceback": [
      "\u001b[1;31m---------------------------------------------------------------------------\u001b[0m",
      "\u001b[1;31mNameError\u001b[0m                                 Traceback (most recent call last)",
      "Input \u001b[1;32mIn [5]\u001b[0m, in \u001b[0;36m<cell line: 2>\u001b[1;34m()\u001b[0m\n\u001b[0;32m      1\u001b[0m \u001b[38;5;66;03m# NameError: name 'local_lang' is not defined\u001b[39;00m\n\u001b[1;32m----> 2\u001b[0m \u001b[38;5;28mprint\u001b[39m(\u001b[43mlocal_lang\u001b[49m)\n",
      "\u001b[1;31mNameError\u001b[0m: name 'local_lang' is not defined"
     ]
    }
   ],
   "source": [
    "# NameError: name 'local_lang' is not defined\n",
    "print(local_lang)"
   ]
  },
  {
   "cell_type": "markdown",
   "id": "3535995f",
   "metadata": {},
   "source": [
    "- In the above example, we print the local and global variable values from outside of the function. The global variable is accessible with its name global_lang.\n",
    "\n",
    "- But when we try to access the local variable with its name local_lang, we got a NameError, because the local variable is not accessible from outside of the function."
   ]
  },
  {
   "cell_type": "markdown",
   "id": "19f8069a",
   "metadata": {},
   "source": [
    "# Local Variable in function\n",
    "- A local variable is a variable declared inside the function that is not accessible from outside of the function. The scope of the local variable is limited to that function only where it is declared.\n",
    "\n",
    "- If we try to access the local variable from the outside of the function, we will get the error as NameError."
   ]
  },
  {
   "cell_type": "code",
   "execution_count": 9,
   "id": "1dd2b387",
   "metadata": {},
   "outputs": [
    {
     "name": "stdout",
     "output_type": "stream",
     "text": [
      "value is: 999\n"
     ]
    }
   ],
   "source": [
    "def function1():\n",
    "    #local variable\n",
    "    loc_var = 999\n",
    "    print('value is:', loc_var)\n",
    "def function2():\n",
    "    print('values is:', loc_var)\n",
    "function1()"
   ]
  },
  {
   "cell_type": "code",
   "execution_count": 10,
   "id": "752be5f7",
   "metadata": {},
   "outputs": [
    {
     "ename": "NameError",
     "evalue": "name 'loc_var' is not defined",
     "output_type": "error",
     "traceback": [
      "\u001b[1;31m---------------------------------------------------------------------------\u001b[0m",
      "\u001b[1;31mNameError\u001b[0m                                 Traceback (most recent call last)",
      "Input \u001b[1;32mIn [10]\u001b[0m, in \u001b[0;36m<cell line: 1>\u001b[1;34m()\u001b[0m\n\u001b[1;32m----> 1\u001b[0m \u001b[43mfunction2\u001b[49m\u001b[43m(\u001b[49m\u001b[43m)\u001b[49m\n",
      "Input \u001b[1;32mIn [9]\u001b[0m, in \u001b[0;36mfunction2\u001b[1;34m()\u001b[0m\n\u001b[0;32m      5\u001b[0m \u001b[38;5;28;01mdef\u001b[39;00m \u001b[38;5;21mfunction2\u001b[39m():\n\u001b[1;32m----> 6\u001b[0m     \u001b[38;5;28mprint\u001b[39m(\u001b[38;5;124m'\u001b[39m\u001b[38;5;124mvalues is:\u001b[39m\u001b[38;5;124m'\u001b[39m, \u001b[43mloc_var\u001b[49m)\n",
      "\u001b[1;31mNameError\u001b[0m: name 'loc_var' is not defined"
     ]
    }
   ],
   "source": [
    "function2()"
   ]
  },
  {
   "cell_type": "markdown",
   "id": "ec197a7b",
   "metadata": {},
   "source": [
    "# Global Variable in function\n",
    "- A Global variable is a variable that declares outside of the function. The scope of a global variable is broad. It is accessible in all functions of the same module."
   ]
  },
  {
   "cell_type": "code",
   "execution_count": 11,
   "id": "9b2e27aa",
   "metadata": {},
   "outputs": [
    {
     "name": "stdout",
     "output_type": "stream",
     "text": [
      "Value in 1nd function : 999\n",
      "Value in 2nd function : 999\n"
     ]
    }
   ],
   "source": [
    "global_var = 999\n",
    "\n",
    "def function1():\n",
    "    print(\"Value in 1nd function :\", global_var)\n",
    "\n",
    "def function2():\n",
    "    print(\"Value in 2nd function :\", global_var)\n",
    "\n",
    "function1()\n",
    "function2()"
   ]
  },
  {
   "cell_type": "markdown",
   "id": "5524335b",
   "metadata": {},
   "source": [
    "# Global Keyword in Function\n",
    "- In Python, global is the keyword used to access the actual global variable from outside the function. we use the global keyword for two purposes:\n",
    "\n",
    "- To declare a global variable inside the function.\n",
    "- Declaring a variable as global, which makes it available to function to perform the modification.\n",
    "- Let’s see what happens when we don’t use global keyword to access the global variable in the function"
   ]
  },
  {
   "cell_type": "code",
   "execution_count": 12,
   "id": "c6c4cde2",
   "metadata": {},
   "outputs": [
    {
     "name": "stdout",
     "output_type": "stream",
     "text": [
      "value in 1st function : 5\n",
      "Value in 2nd function: 555\n",
      "value in 3rd function: 5\n"
     ]
    }
   ],
   "source": [
    "#global variable\n",
    "global_var = 5\n",
    "def function1():\n",
    "    print('value in 1st function :', global_var)\n",
    "def function2():\n",
    "    #modify global variable\n",
    "    #function will treat it as a local variable\n",
    "    global_var = 555\n",
    "    print('Value in 2nd function:', global_var)\n",
    "    \n",
    "def function3():\n",
    "    print('value in 3rd function:', global_var)\n",
    "function1()\n",
    "function2()\n",
    "function3()"
   ]
  },
  {
   "cell_type": "markdown",
   "id": "18218f8e",
   "metadata": {},
   "source": [
    "- As you can see, function2() treated global_var as a new variable (local variable). To solve such issues or access/modify global variables inside a function, we use the global keyword."
   ]
  },
  {
   "cell_type": "code",
   "execution_count": 17,
   "id": "158f61fb",
   "metadata": {},
   "outputs": [
    {
     "name": "stdout",
     "output_type": "stream",
     "text": [
      "value in 1st function: 5\n",
      "vlaue in 2nd function: 555\n",
      "Value in 3rd function : 555\n"
     ]
    }
   ],
   "source": [
    "#global variable\n",
    "x = 5\n",
    "#defining 1st function\n",
    "def function1():\n",
    "    print('value in 1st function:', x)\n",
    "#defining 2nd function\n",
    "def function2():\n",
    "    #modify global variable using global keyword\n",
    "    global x\n",
    "    x = 555\n",
    "    print('vlaue in 2nd function:', x)\n",
    "#defining 3rd function\n",
    "def fuction3():\n",
    "    print('value in 3rd function:', x)\n",
    "function1()\n",
    "function2()\n",
    "function3()"
   ]
  },
  {
   "cell_type": "code",
   "execution_count": 9,
   "id": "7badd069",
   "metadata": {},
   "outputs": [
    {
     "name": "stdout",
     "output_type": "stream",
     "text": [
      "777\n",
      "outside: 777\n"
     ]
    }
   ],
   "source": [
    "def fun():\n",
    "    global x\n",
    "    x = 777\n",
    "    print(x)\n",
    "fun()\n",
    "print('outside:', x)"
   ]
  },
  {
   "cell_type": "markdown",
   "id": "27ddf382",
   "metadata": {},
   "source": [
    "# Nonlocal Variable in Function\n",
    "- In Python, nonlocal is the keyword used to declare a variable that acts as a global variable for a nested function (i.e., function within another function).\n",
    "\n",
    "- We can use a nonlocal keyword when we want to declare a variable in the local scope but act as a global scope."
   ]
  },
  {
   "cell_type": "code",
   "execution_count": 18,
   "id": "d0a50dd8",
   "metadata": {},
   "outputs": [
    {
     "name": "stdout",
     "output_type": "stream",
     "text": [
      "value of x inside inner function is : 700\n",
      "value of x inside outer function is : 700\n"
     ]
    }
   ],
   "source": [
    "def outer_func():\n",
    "    x = 777\n",
    "    def inner_func():\n",
    "        #local variable now acts as global variable\n",
    "        nonlocal x\n",
    "        x = 700\n",
    "        print('value of x inside inner function is :', x)\n",
    "    inner_func()\n",
    "    print('value of x inside outer function is :', x)\n",
    "outer_func()"
   ]
  },
  {
   "cell_type": "markdown",
   "id": "26397786",
   "metadata": {},
   "source": [
    "# Python Function Arguments\n",
    "- The argument is a value, a variable, or an object that we pass to a function or method call. In Python, there are four types of arguments allowed.\n",
    "\n",
    "- Positional arguments\n",
    "- keyword arguments\n",
    "- Default arguments\n",
    "- Variable-length arguments"
   ]
  },
  {
   "cell_type": "markdown",
   "id": "0ae0400c",
   "metadata": {},
   "source": [
    "# Positional Arguments\n",
    "- Positional arguments are arguments that are pass to function in proper positional order. That is, the 1st positional argument needs to be 1st when the function is called. The 2nd positional argument needs to be 2nd when the function is called, etc. See the following example for more understanding."
   ]
  },
  {
   "cell_type": "code",
   "execution_count": 19,
   "id": "cf698625",
   "metadata": {},
   "outputs": [
    {
     "name": "stdout",
     "output_type": "stream",
     "text": [
      "40\n",
      "-40\n"
     ]
    }
   ],
   "source": [
    "def add(a, b):\n",
    "    print(a - b)\n",
    "\n",
    "add(50, 10)\n",
    "# Output 40\n",
    "add(10, 50)\n",
    "# Output -40"
   ]
  },
  {
   "cell_type": "code",
   "execution_count": 20,
   "id": "f2174dae",
   "metadata": {},
   "outputs": [
    {
     "ename": "TypeError",
     "evalue": "add() takes 2 positional arguments but 3 were given",
     "output_type": "error",
     "traceback": [
      "\u001b[1;31m---------------------------------------------------------------------------\u001b[0m",
      "\u001b[1;31mTypeError\u001b[0m                                 Traceback (most recent call last)",
      "Input \u001b[1;32mIn [20]\u001b[0m, in \u001b[0;36m<cell line: 6>\u001b[1;34m()\u001b[0m\n\u001b[0;32m      3\u001b[0m \u001b[38;5;28;01mdef\u001b[39;00m \u001b[38;5;21madd\u001b[39m(a, b):\n\u001b[0;32m      4\u001b[0m     \u001b[38;5;28mprint\u001b[39m(a \u001b[38;5;241m-\u001b[39m b)\n\u001b[1;32m----> 6\u001b[0m \u001b[43madd\u001b[49m\u001b[43m(\u001b[49m\u001b[38;5;241;43m105\u001b[39;49m\u001b[43m,\u001b[49m\u001b[43m \u001b[49m\u001b[38;5;241;43m561\u001b[39;49m\u001b[43m,\u001b[49m\u001b[43m \u001b[49m\u001b[38;5;241;43m4\u001b[39;49m\u001b[43m)\u001b[49m\n",
      "\u001b[1;31mTypeError\u001b[0m: add() takes 2 positional arguments but 3 were given"
     ]
    }
   ],
   "source": [
    "# If you try to use pass more parameters you will get an error.\n",
    "\n",
    "def add(a, b):\n",
    "    print(a - b)\n",
    "\n",
    "add(105, 561, 4)"
   ]
  },
  {
   "cell_type": "markdown",
   "id": "5eaec516",
   "metadata": {},
   "source": [
    "- In the positional argument number and position of arguments must be matched. If we change the order, then the result may change. Also, If we change the number of arguments, then we will get an error."
   ]
  },
  {
   "cell_type": "markdown",
   "id": "1f2c432a",
   "metadata": {},
   "source": [
    "# Keyword Arguments\n",
    "- A keyword argument is an argument value, passed to function preceded by the variable name and an equals sign."
   ]
  },
  {
   "cell_type": "code",
   "execution_count": 21,
   "id": "b6fb1f99",
   "metadata": {},
   "outputs": [
    {
     "name": "stdout",
     "output_type": "stream",
     "text": [
      "Hello raju gulla\n",
      "Hello xyz kalayan\n"
     ]
    }
   ],
   "source": [
    "def message(name, surname):\n",
    "    print(\"Hello\", name, surname)\n",
    "\n",
    "message(name=\"raju\", surname=\"gulla\")\n",
    "message(surname=\"kalayan\", name=\"xyz\")"
   ]
  },
  {
   "cell_type": "markdown",
   "id": "0390b969",
   "metadata": {},
   "source": [
    "- In keyword arguments order of argument is not matter, but the number of arguments must match. Otherwise, we will get an error.\n",
    "\n",
    "- While using keyword and positional argument simultaneously, we need to pass 1st arguments as positional arguments and then keyword arguments. Otherwise, we will get SyntaxError. See the following example."
   ]
  },
  {
   "cell_type": "code",
   "execution_count": 22,
   "id": "e77ffffd",
   "metadata": {},
   "outputs": [
    {
     "name": "stdout",
     "output_type": "stream",
     "text": [
      "Hello..! John Wilson\n",
      "Hello..! John Wilson\n"
     ]
    }
   ],
   "source": [
    "def message(first_nm, last_nm):\n",
    "    print(\"Hello..!\", first_nm, last_nm)\n",
    "\n",
    "# correct use\n",
    "message(\"John\", \"Wilson\")\n",
    "message(\"John\", last_nm=\"Wilson\")"
   ]
  },
  {
   "cell_type": "code",
   "execution_count": 23,
   "id": "123624d7",
   "metadata": {},
   "outputs": [
    {
     "ename": "SyntaxError",
     "evalue": "positional argument follows keyword argument (1939409195.py, line 3)",
     "output_type": "error",
     "traceback": [
      "\u001b[1;36m  Input \u001b[1;32mIn [23]\u001b[1;36m\u001b[0m\n\u001b[1;33m    message(first_nm=\"John\", \"Wilson\")\u001b[0m\n\u001b[1;37m                                     ^\u001b[0m\n\u001b[1;31mSyntaxError\u001b[0m\u001b[1;31m:\u001b[0m positional argument follows keyword argument\n"
     ]
    }
   ],
   "source": [
    "# Error\n",
    "# SyntaxError: positional argument follows keyword argument\n",
    "message(first_nm=\"John\", \"Wilson\")"
   ]
  },
  {
   "cell_type": "markdown",
   "id": "b818e97f",
   "metadata": {},
   "source": [
    "# Default Arguments\n",
    "- Default arguments take the default value during the function call if we do not pass them. We can assign a default value to an argument in function definition using the = assignment operator.\n",
    "\n",
    "- For example, A function show_employee() that accepts the employee’s name and salary and displays both. Let’s modify a function definition and assigned a default value 8000 to a salary. Next, if salary value is missing in the function call, the function automatically takes default value 9000 as a salary."
   ]
  },
  {
   "cell_type": "code",
   "execution_count": 26,
   "id": "bf9b6a29",
   "metadata": {},
   "outputs": [
    {
     "name": "stdout",
     "output_type": "stream",
     "text": [
      "Hello Raju\n",
      "Hello Guest\n"
     ]
    }
   ],
   "source": [
    "# function with default argument\n",
    "def message(name=\"Guest\"):\n",
    "    print(\"Hello\", name)\n",
    "\n",
    "# calling function with argument\n",
    "message(\"Raju\")\n",
    "\n",
    "# calling function without argument\n",
    "message()\n",
    "\n",
    "#When we call a function with an argument, it will take that value."
   ]
  },
  {
   "cell_type": "markdown",
   "id": "16779e52",
   "metadata": {},
   "source": [
    "# Variable-length Arguments\n",
    "- In Python, sometimes, there is a situation where we need to pass multiple numbers of arguments to the function. Such types of arguments are called variable-length arguments. We can declare a variable-length argument with the * (asterisk) symbol.\n",
    "\n",
    "- def fun(*var):\n",
    "    function body\n",
    "- We can pass any number of arguments to this function. Internally all these values are represented in the form of a tuple."
   ]
  },
  {
   "cell_type": "code",
   "execution_count": 27,
   "id": "d3f1276f",
   "metadata": {},
   "outputs": [
    {
     "name": "stdout",
     "output_type": "stream",
     "text": [
      "Sum is: 0\n",
      "Sum is: 26\n",
      "Sum is: 87.5\n"
     ]
    }
   ],
   "source": [
    "def addition(*numbers):\n",
    "    total = 0\n",
    "    for no in numbers:\n",
    "        total = total + no\n",
    "    print(\"Sum is:\", total)\n",
    "\n",
    "\n",
    "# 0 arguments\n",
    "addition()\n",
    "\n",
    "# 5 arguments\n",
    "addition(10, 5, 2, 5, 4)\n",
    "\n",
    "\n",
    "# 3 arguments\n",
    "addition(78, 7, 2.5)"
   ]
  },
  {
   "cell_type": "markdown",
   "id": "834c956b",
   "metadata": {},
   "source": [
    "# Recursive Function\n",
    "- A recursive function is a function that calls itself, again and again.\n",
    "\n",
    "- Consider, calculating the factorial of a number is a repetitive activity, in that case, we can call a function again and again, which calculates factorial."
   ]
  },
  {
   "cell_type": "code",
   "execution_count": null,
   "id": "3932e877",
   "metadata": {},
   "outputs": [],
   "source": [
    "factorial(5)\n",
    "    \n",
    "5*factorial(4)\n",
    "5*4*factorial(3)\n",
    "5*4*3*factorial(2)\n",
    "5*4*3*2*factorial(1)\n",
    "5*4*3*2*1 = 120"
   ]
  },
  {
   "cell_type": "code",
   "execution_count": 28,
   "id": "fcf64b91",
   "metadata": {},
   "outputs": [
    {
     "name": "stdout",
     "output_type": "stream",
     "text": [
      "factorial of a number is: 120\n"
     ]
    }
   ],
   "source": [
    "def factorial(no):\n",
    "    if no == 0:\n",
    "        return 1\n",
    "    else:\n",
    "        return no * factorial(no - 1)\n",
    "\n",
    "print(\"factorial of a number is:\", factorial(5))"
   ]
  },
  {
   "cell_type": "markdown",
   "id": "0c02ddb7",
   "metadata": {},
   "source": [
    "# The advantages of the recursive function are:\n",
    "\n",
    "- By using recursive, we can reduce the length of the code.\n",
    "- The readability of code improves due to code reduction.\n",
    "- Useful for solving a complex problem\n",
    "# The disadvantage of the recursive function:\n",
    "\n",
    "- The recursive function takes more memory and time for execution.\n",
    "- Debugging is not easy for the recursive function."
   ]
  },
  {
   "cell_type": "markdown",
   "id": "fa8c5fa6",
   "metadata": {},
   "source": [
    "# Python Anonymous/Lambda Function\n",
    "- Sometimes we need to declare a function without any name. The nameless property function is called an anonymous function or lambda function.\n",
    "\n",
    "- The reason behind the using anonymous function is for instant use, that is, one-time usage. Normal function is declared using the def function. Whereas the anonymous function is declared using the lambda keyword.\n",
    "\n",
    "- In opposite to a normal function, a Python lambda function is a single expression. But, in a lambda body, we can expand with expressions over multiple lines using parentheses or a multiline string.\n",
    "- ex : lambda n:n+n"
   ]
  },
  {
   "cell_type": "markdown",
   "id": "2114e79c",
   "metadata": {},
   "source": [
    "## Syntax of lambda function:\n",
    "\n",
    "- lambda: argument_list:expression\n",
    "- When we define a function using the lambda keyword, the code is very concise so that there is more readability in the code. A lambda function can have any number of arguments but return only one value after expression evaluation.\n",
    "\n",
    "- Let’s see an example to print even numbers without a lambda function and with a lambda function. See the difference in line of code as well as readability of code.\n",
    "\n",
    "- Example 1: Program for even numbers without lambda function"
   ]
  },
  {
   "cell_type": "code",
   "execution_count": 31,
   "id": "43856482",
   "metadata": {},
   "outputs": [
    {
     "name": "stdout",
     "output_type": "stream",
     "text": [
      "Even numbers are: [10, 12, 78, 14]\n"
     ]
    }
   ],
   "source": [
    "def even_numbers(nums):\n",
    "    even_list = []\n",
    "    for n in nums:\n",
    "        if n % 2 == 0:\n",
    "            even_list.append(n)\n",
    "    return even_list\n",
    "\n",
    "num_list = [10, 5, 12, 78, 14, 1, 7, 9]\n",
    "ans = even_numbers(num_list)\n",
    "print(\"Even numbers are:\", ans)"
   ]
  },
  {
   "cell_type": "code",
   "execution_count": 10,
   "id": "a396aeed",
   "metadata": {},
   "outputs": [
    {
     "name": "stdout",
     "output_type": "stream",
     "text": [
      "Even numbers are:  [10, 12, 78, 14]\n"
     ]
    }
   ],
   "source": [
    "# Example 2: Program for even number with a lambda function\n",
    "\n",
    "lst = [10, 5, 12, 78, 14, 1, 7, 9]\n",
    "even_nos = list(filter(lambda x: x % 2 == 0, lst))\n",
    "print(\"Even numbers are: \", even_nos)"
   ]
  },
  {
   "cell_type": "markdown",
   "id": "2fa42700",
   "metadata": {},
   "source": [
    "- We are not required to write explicitly return statements in the lambda function because the lambda internally returns expression value.\n",
    "\n",
    "- Lambda functions are more useful when we pass a function as an argument to another function. We can also use the lambda function with built-in functions such as filter, map, reduce because this function requires another function as an argument."
   ]
  },
  {
   "cell_type": "markdown",
   "id": "f6af308b",
   "metadata": {},
   "source": [
    "# filter() function in Python\n",
    "- In Python, the filter() function is used to return the filtered value. We use this function to filter values based on some conditions.\n",
    "\n",
    "- Syntax of filter() function:\n",
    "\n",
    "- filter(funtion, sequence)\n",
    "- where,\n",
    "\n",
    "- function – Function argument is responsible for performing condition checking.\n",
    "- sequence – Sequence argument can be anything like list, tuple, string\n"
   ]
  },
  {
   "cell_type": "code",
   "execution_count": 34,
   "id": "9844682f",
   "metadata": {},
   "outputs": [
    {
     "name": "stdout",
     "output_type": "stream",
     "text": [
      "Positive numbers are:  [5, 12, 14, 9]\n"
     ]
    }
   ],
   "source": [
    "#Example: lambda function with  filter()\n",
    "\n",
    "l = [-10, 5, 12, -78, 14, -1, -7, 9]\n",
    "positive_nos = list(filter(lambda x: x > 0, l))\n",
    "print(\"Positive numbers are: \", positive_nos)"
   ]
  },
  {
   "cell_type": "code",
   "execution_count": 13,
   "id": "36d89bbb",
   "metadata": {},
   "outputs": [
    {
     "name": "stdout",
     "output_type": "stream",
     "text": [
      "['apple', 'orange']\n"
     ]
    }
   ],
   "source": [
    "# Find the words that start with a vowel in a list\n",
    "def starts_with_vowel(word):\n",
    "    return word[0] in ['a', 'e', 'i', 'o', 'u']\n",
    "\n",
    "words = ['apple', 'banana', 'orange', 'grape']\n",
    "vowel_words = filter(starts_with_vowel, words)\n",
    "print(list(vowel_words))  # prints ['apple', 'orange']\n"
   ]
  },
  {
   "cell_type": "code",
   "execution_count": 16,
   "id": "48c5c1f4",
   "metadata": {},
   "outputs": [
    {
     "name": "stdout",
     "output_type": "stream",
     "text": [
      "[2, 3, 5]\n"
     ]
    }
   ],
   "source": [
    "#Find the prime numbers in a list\n",
    "def is_prime(x):\n",
    "    if x < 2:\n",
    "        return False\n",
    "    for i in range(2, x):\n",
    "        if x % i == 0:\n",
    "            return False\n",
    "    return True\n",
    "\n",
    "numbers = [1, 2, 3, 4, 5, 6]\n",
    "primes = filter(is_prime, numbers)\n",
    "print(list(primes))  # prints [2, 3, 5]"
   ]
  },
  {
   "cell_type": "code",
   "execution_count": 21,
   "id": "4427c81d",
   "metadata": {},
   "outputs": [
    {
     "name": "stdout",
     "output_type": "stream",
     "text": [
      "['racecar', 'level', 'civic', 'aba']\n"
     ]
    }
   ],
   "source": [
    "def is_palindrome(word):\n",
    "    return word == word[::-1]\n",
    "\n",
    "words = ['racecar', 'hello', 'level', 'civic', 'aba']\n",
    "palindromes = filter(is_palindrome, words)\n",
    "print(list(palindromes))  # prints ['racecar', 'level', 'civic', 'aba']"
   ]
  },
  {
   "cell_type": "code",
   "execution_count": 41,
   "id": "70395880",
   "metadata": {},
   "outputs": [
    {
     "name": "stdout",
     "output_type": "stream",
     "text": [
      "['racecar', 'madam', 'level']\n"
     ]
    }
   ],
   "source": [
    "def filter_palindrome_words(words):\n",
    "    def is_palindrome(word):\n",
    "        return word == word[::-1]\n",
    "    \n",
    "    return filter(is_palindrome, words)\n",
    "\n",
    "words = ['cat', 'dog', 'racecar', 'madam', 'level']\n",
    "palindrome_words = filter_palindrome_words(words)\n",
    "print(list(palindrome_words))  # prints ['racecar', 'madam', 'level']"
   ]
  },
  {
   "cell_type": "code",
   "execution_count": 22,
   "id": "6b4c739b",
   "metadata": {},
   "outputs": [
    {
     "name": "stdout",
     "output_type": "stream",
     "text": [
      "['bird', 'fish', 'elephant']\n"
     ]
    }
   ],
   "source": [
    "def filter_even_length_words(words):\n",
    "    def has_even_length(word):\n",
    "        return len(word) % 2 == 0\n",
    "    \n",
    "    return filter(has_even_length, words)\n",
    "\n",
    "words = ['cat', 'dog', 'bird', 'fish', 'elephant']\n",
    "even_length_words = filter_even_length_words(words)\n",
    "print(list(even_length_words))  # prints ['bird', 'elephant']"
   ]
  },
  {
   "cell_type": "code",
   "execution_count": 32,
   "id": "4940347d",
   "metadata": {},
   "outputs": [
    {
     "name": "stdout",
     "output_type": "stream",
     "text": [
      "['ab', 'xy']\n"
     ]
    }
   ],
   "source": [
    "def filter_two_letter_words(words):\n",
    "    def has_two_letters(word):\n",
    "        return len(word) == 2\n",
    "    \n",
    "    return filter(has_two_letters, words)\n",
    "\n",
    "words = ['cat', 'dog', 'bird', 'fish', 'elephant', 'ab', 'xy']\n",
    "two_letter_words = filter_two_letter_words(words)\n",
    "print(list(two_letter_words)) "
   ]
  },
  {
   "cell_type": "code",
   "execution_count": 33,
   "id": "2c312e17",
   "metadata": {},
   "outputs": [
    {
     "name": "stdout",
     "output_type": "stream",
     "text": [
      "['bird', 'fish', 'elephant']\n"
     ]
    }
   ],
   "source": [
    "def filter_long_words(words, min_length):\n",
    "    def is_long(word):\n",
    "        return len(word) >= min_length\n",
    "    \n",
    "    return filter(is_long, words)\n",
    "\n",
    "words = ['cat', 'dog', 'bird', 'fish', 'elephant']\n",
    "long_words = filter_long_words(words, 4)\n",
    "print(list(long_words))  # prints ['bird', 'elephant']"
   ]
  },
  {
   "cell_type": "code",
   "execution_count": 34,
   "id": "0fbce261",
   "metadata": {},
   "outputs": [
    {
     "name": "stdout",
     "output_type": "stream",
     "text": [
      "[4, 5]\n"
     ]
    }
   ],
   "source": [
    "def filter_unique_elements(elements):\n",
    "    def is_unique(element):\n",
    "        return elements.count(element) == 1\n",
    "    \n",
    "    return filter(is_unique, elements)\n",
    "\n",
    "elements = [1, 2, 3, 4, 5, 1, 2, 3]\n",
    "unique_elements = filter_unique_elements(elements)\n",
    "print(list(unique_elements))  # prints [4, 5]"
   ]
  },
  {
   "cell_type": "code",
   "execution_count": 35,
   "id": "60caa982",
   "metadata": {},
   "outputs": [
    {
     "name": "stdout",
     "output_type": "stream",
     "text": [
      "['dog', 'bird', 'fish', 'elephant']\n"
     ]
    }
   ],
   "source": [
    "def filter_unique_words(words):\n",
    "    def is_unique(word):\n",
    "        return words.count(word) == 1\n",
    "    \n",
    "    return filter(is_unique, words)\n",
    "\n",
    "words = ['cat', 'dog', 'bird', 'fish', 'elephant', 'cat']\n",
    "unique_words = filter_unique_words(words)\n",
    "print(list(unique_words))  # prints ['dog', 'bird', 'fish', 'elephant']"
   ]
  },
  {
   "cell_type": "code",
   "execution_count": 26,
   "id": "a3e60826",
   "metadata": {},
   "outputs": [
    {
     "name": "stdout",
     "output_type": "stream",
     "text": [
      "['john@example.com', 'jane@example.com']\n"
     ]
    }
   ],
   "source": [
    "import re\n",
    "\n",
    "def filter_emails(emails):\n",
    "    def is_valid(email):\n",
    "        pattern = r'^[a-zA-Z0-9_.+-]+@[a-zA-Z0-9-]+\\.[a-zA-Z0-9-.]+$'\n",
    "        return re.match(pattern, email) is not None\n",
    "    \n",
    "    return filter(is_valid, emails)\n",
    "\n",
    "emails = [\n",
    "    'john@example.com',\n",
    "    'invalid@',\n",
    "    'invalid@.com',\n",
    "    'invalid@com.',\n",
    "    'jane@example.com'\n",
    "]\n",
    "valid_emails = filter_emails(emails)\n",
    "print(list(valid_emails))  # prints ['john@example.com', 'jane@example.com']"
   ]
  },
  {
   "cell_type": "code",
   "execution_count": null,
   "id": "6a66687b",
   "metadata": {},
   "outputs": [],
   "source": []
  },
  {
   "cell_type": "markdown",
   "id": "62c65b30",
   "metadata": {},
   "source": [
    "# map() function in Python\n",
    "- In Python, the map() function is used to apply some functionality for every element present in the given sequence and generate a new series with a required modification.\n",
    "\n",
    "- Ex: for every element present in the sequence, perform cube operation and generate a new cube list.\n",
    "\n",
    "- Syntax of map() function:\n",
    "\n",
    "- map(function,sequence)\n",
    "- where,\n",
    "\n",
    "- function – function argument responsible for applied on each element of the sequence\n",
    "- sequence – Sequence argument can be anything like list, tuple, string\n"
   ]
  },
  {
   "cell_type": "code",
   "execution_count": null,
   "id": "60653cf6",
   "metadata": {},
   "outputs": [],
   "source": [
    "#The map() function in Python is a built-in function that applies a function to each element of an iterable (such as a list, tuple, or string) \n",
    "#and returns a new iterable with the modified elements. The syntax for the map() function is as follows:\n",
    "#map(function, iterable, *iterables)\n",
    "#Here, function is the function to be applied to the elements of the iterable(s), and iterable is the iterable (e.g., a list, tuple, or string) to which the function is to be applied. \n",
    "#The *iterables syntax indicates that the map() function can accept multiple iterables as arguments, in which case the function is applied to the corresponding elements of each iterable."
   ]
  },
  {
   "cell_type": "code",
   "execution_count": null,
   "id": "bf8c3258",
   "metadata": {},
   "outputs": [],
   "source": []
  },
  {
   "cell_type": "code",
   "execution_count": null,
   "id": "280e5ded",
   "metadata": {},
   "outputs": [],
   "source": []
  },
  {
   "cell_type": "code",
   "execution_count": 36,
   "id": "0b81c3da",
   "metadata": {},
   "outputs": [
    {
     "name": "stdout",
     "output_type": "stream",
     "text": [
      "Cube values are: [8, 27, 343, 512, 729]\n"
     ]
    }
   ],
   "source": [
    "# Example: lambda function with map() function\n",
    "\n",
    "list1 = [2, 3, 7, 8, 9]\n",
    "list2 = list(map(lambda x: x*x*x, list1))\n",
    "print(\"Cube values are:\", list2)"
   ]
  },
  {
   "cell_type": "code",
   "execution_count": 42,
   "id": "dd4b569f",
   "metadata": {},
   "outputs": [
    {
     "name": "stdout",
     "output_type": "stream",
     "text": [
      "[6, 8, 10, 12]\n"
     ]
    }
   ],
   "source": [
    "def add_two(x, y):\n",
    "    return x + y\n",
    "\n",
    "numbers1 = [1, 2, 3, 4]\n",
    "numbers2 = [5, 6, 7, 8]\n",
    "summations = map(add_two, numbers1, numbers2)\n",
    "print(list(summations))  # prints [6, 8, 10, 12]"
   ]
  },
  {
   "cell_type": "code",
   "execution_count": 43,
   "id": "8a12a836",
   "metadata": {},
   "outputs": [
    {
     "name": "stdout",
     "output_type": "stream",
     "text": [
      "['CAT', 'DOG', 'BIRD', 'FISH']\n"
     ]
    }
   ],
   "source": [
    "def convert_to_uppercase(string):\n",
    "    return string.upper()\n",
    "\n",
    "strings = ['cat', 'dog', 'bird', 'fish']\n",
    "uppercase_strings = map(convert_to_uppercase, strings)\n",
    "print(list(uppercase_strings))  # prints ['CAT', 'DOG', 'BIRD', 'FISH']"
   ]
  },
  {
   "cell_type": "code",
   "execution_count": 44,
   "id": "51fec37c",
   "metadata": {},
   "outputs": [
    {
     "name": "stdout",
     "output_type": "stream",
     "text": [
      "['tac', 'god', 'drib', 'hsif']\n"
     ]
    }
   ],
   "source": [
    "def reverse(string):\n",
    "    return string[::-1]\n",
    "\n",
    "strings = ['cat', 'dog', 'bird', 'fish']\n",
    "reversed_strings = map(reverse, strings)\n",
    "print(list(reversed_strings))  # prints ['tac', 'god', 'drib', 'hsif']"
   ]
  },
  {
   "cell_type": "code",
   "execution_count": 46,
   "id": "fba10700",
   "metadata": {},
   "outputs": [
    {
     "name": "stdout",
     "output_type": "stream",
     "text": [
      "[3, 3, 4, 4]\n"
     ]
    }
   ],
   "source": [
    "def find_length(string):\n",
    "    return len(string)\n",
    "\n",
    "strings = ['cat', 'dog', 'bird', 'fish']\n",
    "lengths = map(find_length, strings)\n",
    "print(list(lengths))  # prints [3, 3, 4, 4]"
   ]
  },
  {
   "cell_type": "code",
   "execution_count": 47,
   "id": "27fb8a2d",
   "metadata": {},
   "outputs": [
    {
     "name": "stdout",
     "output_type": "stream",
     "text": [
      "['t', 'g', 'd', 'h']\n"
     ]
    }
   ],
   "source": [
    "def extract_last_letter(string):\n",
    "    return string[-1]\n",
    "\n",
    "strings = ['cat', 'dog', 'bird', 'fish']\n",
    "last_letters = map(extract_last_letter, strings)\n",
    "print(list(last_letters))  # prints ['t', 'g', 'd', 'h']"
   ]
  },
  {
   "cell_type": "code",
   "execution_count": 48,
   "id": "0ee07e21",
   "metadata": {},
   "outputs": [
    {
     "name": "stdout",
     "output_type": "stream",
     "text": [
      "[False, True, False, True, False]\n"
     ]
    }
   ],
   "source": [
    "def is_even(x):\n",
    "    return x % 2 == 0\n",
    "\n",
    "numbers = [1, 2, 3, 4, 5]\n",
    "evens = map(is_even, numbers)\n",
    "print(list(evens))  # prints [False, True, False, True, False]"
   ]
  },
  {
   "cell_type": "code",
   "execution_count": 49,
   "id": "31377d14",
   "metadata": {},
   "outputs": [
    {
     "name": "stdout",
     "output_type": "stream",
     "text": [
      "[28, 80, 162]\n"
     ]
    }
   ],
   "source": [
    "def multiply(x, y, z):\n",
    "    return x * y * z\n",
    "\n",
    "numbers1 = [1, 2, 3]\n",
    "numbers2 = [4, 5, 6]\n",
    "numbers3 = [7, 8, 9]\n",
    "products = map(multiply, numbers1, numbers2, numbers3)\n",
    "print(list(products))  # prints [28, 80, 162]"
   ]
  },
  {
   "cell_type": "code",
   "execution_count": null,
   "id": "e0f5e1f6",
   "metadata": {},
   "outputs": [],
   "source": [
    "def extract_digits(string):\n",
    "    digits = []\n",
    "    for char in string:\n",
    "        if char.isdigit():\n",
    "            digits.append(int(char))\n",
    "    return digits\n",
    "\n",
    "strings = ['abc123', 'def456', 'ghi789']\n",
    "digits = map(extract_digits, strings)\n",
    "print(list(digits))  # prints [[1, 2, 3], [4, 5, 6], [7, 8, 9]]"
   ]
  },
  {
   "cell_type": "code",
   "execution_count": 51,
   "id": "ee43dfa5",
   "metadata": {},
   "outputs": [
    {
     "name": "stdout",
     "output_type": "stream",
     "text": [
      "[[1, 2, 3], [3, 4, 7]]\n"
     ]
    }
   ],
   "source": [
    "def e_d(st):\n",
    "    di = []\n",
    "    for char in st:\n",
    "        if char.isdigit():\n",
    "            di.append(int(char))\n",
    "    return di\n",
    "st = ['abc123', 'xyz347']\n",
    "dig = map(e_d, st)\n",
    "print(list(dig))"
   ]
  },
  {
   "cell_type": "code",
   "execution_count": 52,
   "id": "ca2c0d42",
   "metadata": {},
   "outputs": [
    {
     "name": "stdout",
     "output_type": "stream",
     "text": [
      "['Mr.cat', 'Mrs.dog', 'Ms.bird', 'Dr.fish']\n"
     ]
    }
   ],
   "source": [
    "def add_prefix(string, prefix):\n",
    "    return prefix + string\n",
    "\n",
    "strings = ['cat', 'dog', 'bird', 'fish']\n",
    "prefixes = ['Mr.', 'Mrs.', 'Ms.', 'Dr.']\n",
    "prefixed_strings = map(add_prefix, strings, prefixes)\n",
    "print(list(prefixed_strings))  # prints ['Mr.cat', 'Mrs.dog', 'Ms.bird', 'Dr.fish']"
   ]
  },
  {
   "cell_type": "code",
   "execution_count": 53,
   "id": "cd70d45a",
   "metadata": {},
   "outputs": [
    {
     "name": "stdout",
     "output_type": "stream",
     "text": [
      "[7, 8, 9]\n"
     ]
    }
   ],
   "source": [
    "def find_largest(x, y, z):\n",
    "    return max(x, y, z)\n",
    "\n",
    "numbers1 = [1, 2, 3]\n",
    "numbers2 = [4, 5, 6]\n",
    "numbers3 = [7, 8, 9]\n",
    "largest_numbers = map(find_largest, numbers1, numbers2, numbers3)\n",
    "print(list(largest_numbers))  # prints [7, 8, 9]"
   ]
  },
  {
   "cell_type": "code",
   "execution_count": 54,
   "id": "d244e172",
   "metadata": {},
   "outputs": [
    {
     "name": "stdout",
     "output_type": "stream",
     "text": [
      "[4, 4, 4, 4]\n"
     ]
    }
   ],
   "source": [
    "def find_difference(x, y):\n",
    "    return abs(x - y)\n",
    "\n",
    "numbers1 = [1, 2, 3, 4]\n",
    "numbers2 = [5, 6, 7, 8]\n",
    "differences = map(find_difference, numbers1, numbers2)\n",
    "print(list(differences))  # prints [4, 4, 4, 4]"
   ]
  },
  {
   "cell_type": "code",
   "execution_count": 55,
   "id": "28782361",
   "metadata": {},
   "outputs": [
    {
     "name": "stdout",
     "output_type": "stream",
     "text": [
      "['1', '10', '11', '100', '101']\n"
     ]
    }
   ],
   "source": [
    "def convert_to_binary(x):\n",
    "    return bin(x)[2:]\n",
    "\n",
    "numbers = [1, 2, 3, 4, 5]\n",
    "binaries = map(convert_to_binary, numbers)\n",
    "print(list(binaries))  # prints ['1', '10', '11', '100', '101']"
   ]
  },
  {
   "cell_type": "code",
   "execution_count": 56,
   "id": "12a04cf6",
   "metadata": {},
   "outputs": [
    {
     "name": "stdout",
     "output_type": "stream",
     "text": [
      "['JS', 'JD', 'BJ']\n"
     ]
    }
   ],
   "source": [
    "def get_initials(name):\n",
    "    parts = name.split()\n",
    "    initials = ''\n",
    "    for part in parts:\n",
    "        initials += part[0]\n",
    "    return initials\n",
    "\n",
    "names = ['John Smith', 'Jane Doe', 'Bob Johnson']\n",
    "initials = map(get_initials, names)\n",
    "print(list(initials))  # prints ['JS', 'JD', 'BJ']"
   ]
  },
  {
   "cell_type": "code",
   "execution_count": 57,
   "id": "c5d4eb21",
   "metadata": {},
   "outputs": [
    {
     "name": "stdout",
     "output_type": "stream",
     "text": [
      "[['a', 't'], ['d', 'o', 'g'], ['i']]\n"
     ]
    }
   ],
   "source": [
    "def find_common_letters(string1, string2):\n",
    "    common_letters = []\n",
    "    for char in string1:\n",
    "        if char in string2:\n",
    "            common_letters.append(char)\n",
    "    return common_letters\n",
    "\n",
    "strings1 = ['cat', 'dog', 'bird']\n",
    "strings2 = ['bat', 'dog', 'fish']\n",
    "common_letters = map(find_common_letters, strings1, strings2)\n",
    "print(list(common_letters))  # prints [['c', 'a', 't'], ['d', 'o', 'g'], []]"
   ]
  },
  {
   "cell_type": "code",
   "execution_count": null,
   "id": "0816401d",
   "metadata": {},
   "outputs": [],
   "source": []
  },
  {
   "cell_type": "code",
   "execution_count": null,
   "id": "aa4e9191",
   "metadata": {},
   "outputs": [],
   "source": []
  },
  {
   "cell_type": "code",
   "execution_count": null,
   "id": "dea9bd7d",
   "metadata": {},
   "outputs": [],
   "source": []
  },
  {
   "cell_type": "markdown",
   "id": "a6ca08fe",
   "metadata": {},
   "source": [
    "# reduce() function in Python\n",
    "- In Python, the reduce() function is used to minimize sequence elements into a single value by applying the specified condition.\n",
    "\n",
    "- The reduce() function is present in the functools module; hence, we need to import it using the import statement before using it.\n",
    "\n",
    "- Syntax of reduce() function:\n",
    "\n",
    "- reduce(function, sequence)\n",
    "- Example: lambda function with reduce()"
   ]
  },
  {
   "cell_type": "code",
   "execution_count": null,
   "id": "a0a36895",
   "metadata": {},
   "outputs": [],
   "source": [
    "#The reduce() function is a built-in function in Python that applies a function to a sequence of elements from left to right, cumulatively reducing them to a single value. It is defined in the functools module, so you need to import it before you can use it.\n",
    "\n",
    "#Here is the basic syntax for using the reduce() function:\n",
    "# from functools import reduce\n",
    "# result = reduce(function, iterable)\n",
    "# The function argument is a function that takes in two arguments and returns a single value. The iterable argument is an iterable, such as a list or a tuple, that contains the elements to be reduced.\n",
    "\n",
    "# The reduce() function applies the function to the first two elements of the iterable, then applies the function to the result of that operation and the next element of the iterable, and so on, until the end of the iterable is reached. The final result is the reduced value."
   ]
  },
  {
   "cell_type": "code",
   "execution_count": 38,
   "id": "7f930d7c",
   "metadata": {},
   "outputs": [
    {
     "name": "stdout",
     "output_type": "stream",
     "text": [
      "Addition of all list elements is :  54\n"
     ]
    }
   ],
   "source": [
    "from functools import reduce\n",
    "list1 = [20, 13, 4, 8, 9]\n",
    "add = reduce(lambda x, y: x+y, list1)\n",
    "print(\"Addition of all list elements is : \", add)"
   ]
  },
  {
   "cell_type": "code",
   "execution_count": 64,
   "id": "a56c6f59",
   "metadata": {},
   "outputs": [
    {
     "name": "stdout",
     "output_type": "stream",
     "text": [
      "fish\n"
     ]
    }
   ],
   "source": [
    "\n",
    "from functools import reduce\n",
    "\n",
    "def find_longest(string1, string2):\n",
    "    return string1 if len(string1) > len(string2) else string2\n",
    "\n",
    "strings = ['cat', 'dog', 'bird', 'fish']\n",
    "longest_string = reduce(find_longest, strings)\n",
    "print(longest_string)"
   ]
  },
  {
   "cell_type": "code",
   "execution_count": 65,
   "id": "85fc7350",
   "metadata": {},
   "outputs": [
    {
     "name": "stdout",
     "output_type": "stream",
     "text": [
      "1\n"
     ]
    }
   ],
   "source": [
    "from functools import reduce\n",
    "\n",
    "def find_smallest(x, y):\n",
    "    return x if x < y else y\n",
    "\n",
    "numbers = [5, 8, 1, 4, 7, 2]\n",
    "smallest_number = reduce(find_smallest, numbers)\n",
    "print(smallest_number)"
   ]
  },
  {
   "cell_type": "code",
   "execution_count": 67,
   "id": "b55560d1",
   "metadata": {},
   "outputs": [
    {
     "name": "stdout",
     "output_type": "stream",
     "text": [
      "[3]\n"
     ]
    }
   ],
   "source": [
    "from functools import reduce\n",
    "\n",
    "def find_common_elements(list1, list2):\n",
    "    common_elements = []\n",
    "    for element in list1:\n",
    "        if element in list2:\n",
    "            common_elements.append(element)\n",
    "    return common_elements\n",
    "\n",
    "lists = [[1, 2, 3], [2, 3, 4], [3, 4, 5], [4, 5, 3]]\n",
    "common_elements = reduce(find_common_elements, lists)\n",
    "print(common_elements)  # prints [3]"
   ]
  },
  {
   "cell_type": "code",
   "execution_count": 68,
   "id": "a2bfdb18",
   "metadata": {},
   "outputs": [
    {
     "name": "stdout",
     "output_type": "stream",
     "text": [
      "{'o', 'a', 'i', 'd', 'r', 't', 'f', 'g', 'b', 'h', 's', 'c'}\n"
     ]
    }
   ],
   "source": [
    "from functools import reduce\n",
    "\n",
    "def find_unique_letters(string1, string2):\n",
    "    unique_letters = set(string1)\n",
    "    for char in string2:\n",
    "        unique_letters.add(char)\n",
    "    return unique_letters\n",
    "\n",
    "strings = ['cat', 'dog', 'bird', 'fish']\n",
    "unique_letters = reduce(find_unique_letters, strings)\n",
    "print(unique_letters)  # prints {'c', 'a', 't', 'd', 'o', 'g', 'b', 'i', 'r', 'f', 'h'}"
   ]
  },
  {
   "cell_type": "code",
   "execution_count": 81,
   "id": "7617a65c",
   "metadata": {},
   "outputs": [
    {
     "name": "stdout",
     "output_type": "stream",
     "text": [
      "120\n"
     ]
    }
   ],
   "source": [
    "from functools import reduce\n",
    "\n",
    "def multiply(x, y):\n",
    "    return x * y\n",
    "\n",
    "numbers = [1, 2, 3, 4, 5]\n",
    "result = reduce(multiply, numbers)\n",
    "print(result)"
   ]
  },
  {
   "cell_type": "code",
   "execution_count": 83,
   "id": "074b394f",
   "metadata": {},
   "outputs": [
    {
     "name": "stdout",
     "output_type": "stream",
     "text": [
      "thisisasentence\n"
     ]
    }
   ],
   "source": [
    "from functools import reduce\n",
    "\n",
    "def concatenate(x, y):\n",
    "    return x + y\n",
    "\n",
    "words = ['this', 'is', 'a', 'sentence']\n",
    "result = reduce(concatenate, words)\n",
    "print(result)"
   ]
  },
  {
   "cell_type": "code",
   "execution_count": 84,
   "id": "0cee03d4",
   "metadata": {},
   "outputs": [
    {
     "name": "stdout",
     "output_type": "stream",
     "text": [
      "55\n"
     ]
    }
   ],
   "source": [
    "from functools import reduce\n",
    "\n",
    "def sum_of_squares(x, y):\n",
    "    return x + y**2\n",
    "\n",
    "numbers = [1, 2, 3, 4, 5]\n",
    "result = reduce(sum_of_squares, numbers)\n",
    "print(result)"
   ]
  },
  {
   "cell_type": "code",
   "execution_count": 86,
   "id": "b45bd1a2",
   "metadata": {},
   "outputs": [
    {
     "name": "stdout",
     "output_type": "stream",
     "text": [
      "8\n"
     ]
    }
   ],
   "source": [
    "from functools import reduce\n",
    "\n",
    "def find_max(x, y):\n",
    "    if x > y:\n",
    "        return x\n",
    "    return y\n",
    "\n",
    "numbers = [3, 4, 6, 2, 8, 1]\n",
    "result = reduce(find_max, numbers)\n",
    "print(result)  # Output: 8"
   ]
  },
  {
   "cell_type": "code",
   "execution_count": 93,
   "id": "cc4393d4",
   "metadata": {},
   "outputs": [
    {
     "name": "stdout",
     "output_type": "stream",
     "text": [
      "apple000\n"
     ]
    }
   ],
   "source": [
    "from functools import reduce\n",
    "\n",
    "def count_vowels(x, y):\n",
    "    vowels = 'aeiouAEIOU'\n",
    "    return x + str(int(y in vowels))\n",
    "\n",
    "words = ['apple', 'banana', 'cherry', 'date']\n",
    "result = reduce(count_vowels, words)\n",
    "print(result)  # Output: 9"
   ]
  },
  {
   "cell_type": "code",
   "execution_count": 90,
   "id": "d6f540f1",
   "metadata": {},
   "outputs": [
    {
     "name": "stdout",
     "output_type": "stream",
     "text": [
      "{'a': 1, 'b': 3, 'c': 4, 'd': 5}\n"
     ]
    }
   ],
   "source": [
    "from functools import reduce\n",
    "\n",
    "def merge_dictionaries(x, y):\n",
    "    z = x.copy()\n",
    "    z.update(y)\n",
    "    return z\n",
    "\n",
    "dicts = [{'a': 1, 'b': 2}, {'b': 3, 'c': 4}, {'d': 5}]\n",
    "result = reduce(merge_dictionaries, dicts)\n",
    "print(result)  # Output: {'a': 1, 'b': 3, 'c': 4, 'd': 5}\n",
    "#In this example, the reduce function applies the merge_dictionaries function to the elements of the dicts list, starting from the first two elements and then applying the function to the result of the previous step and the next element in the list until all elements have been processed. The final result is a dictionary that contains all the keys and values from all dictionaries in the list."
   ]
  },
  {
   "cell_type": "code",
   "execution_count": 91,
   "id": "22167ea2",
   "metadata": {},
   "outputs": [
    {
     "name": "stdout",
     "output_type": "stream",
     "text": [
      "{1, 2, 3, 4, 5, 6, 7}\n"
     ]
    }
   ],
   "source": [
    "from functools import reduce\n",
    "\n",
    "def merge_sets(x, y):\n",
    "    return x | y\n",
    "\n",
    "sets = [{1, 2, 3}, {3, 4, 5}, {5, 6, 7}]\n",
    "result = reduce(merge_sets, sets)\n",
    "print(result)  # Output: {1, 2, 3, 4, 5, 6, 7}"
   ]
  },
  {
   "cell_type": "code",
   "execution_count": 95,
   "id": "1affcf37",
   "metadata": {},
   "outputs": [
    {
     "name": "stdout",
     "output_type": "stream",
     "text": [
      "[1, 2, 3, 4, 5, 6, 7, 8, 9]\n"
     ]
    }
   ],
   "source": [
    "from functools import reduce\n",
    "\n",
    "def merge_lists(x, y):\n",
    "    return x + y\n",
    "\n",
    "lists = [[1, 2, 3], [4, 5], [6, 7, 8, 9]]\n",
    "result = reduce(merge_lists, lists)\n",
    "print(result)  # Output: [1, 2, 3, 4, 5, 6, 7, 8, 9]"
   ]
  },
  {
   "cell_type": "code",
   "execution_count": null,
   "id": "1ea014b4",
   "metadata": {},
   "outputs": [],
   "source": []
  },
  {
   "cell_type": "code",
   "execution_count": null,
   "id": "7e1acc5a",
   "metadata": {},
   "outputs": [],
   "source": []
  }
 ],
 "metadata": {
  "kernelspec": {
   "display_name": "Python 3 (ipykernel)",
   "language": "python",
   "name": "python3"
  },
  "language_info": {
   "codemirror_mode": {
    "name": "ipython",
    "version": 3
   },
   "file_extension": ".py",
   "mimetype": "text/x-python",
   "name": "python",
   "nbconvert_exporter": "python",
   "pygments_lexer": "ipython3",
   "version": "3.9.12"
  }
 },
 "nbformat": 4,
 "nbformat_minor": 5
}
