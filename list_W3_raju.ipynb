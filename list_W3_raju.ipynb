{
 "cells": [
  {
   "cell_type": "code",
   "execution_count": 27,
   "id": "2beea30c",
   "metadata": {},
   "outputs": [],
   "source": [
    "#11. Write a Python function that takes two lists and returns True if they have at least one common member\n",
    "def two_list(l1, l2):\n",
    "    res = False\n",
    "    for a in l1:\n",
    "        for b in l2:\n",
    "            if a == b:\n",
    "                res = True\n",
    "                return res\n",
    "       \n",
    "        \n",
    "        "
   ]
  },
  {
   "cell_type": "code",
   "execution_count": 28,
   "id": "714c3320",
   "metadata": {},
   "outputs": [
    {
     "data": {
      "text/plain": [
       "True"
      ]
     },
     "execution_count": 28,
     "metadata": {},
     "output_type": "execute_result"
    }
   ],
   "source": [
    "two_list([1,2,3], [1,8,9])"
   ]
  },
  {
   "cell_type": "code",
   "execution_count": 21,
   "id": "babfcb00",
   "metadata": {},
   "outputs": [
    {
     "name": "stdout",
     "output_type": "stream",
     "text": [
      "same\n",
      "not same\n",
      "not same\n",
      "not same\n",
      "not same\n",
      "not same\n",
      "not same\n",
      "not same\n",
      "not same\n"
     ]
    }
   ],
   "source": [
    "l1 =[1,2,3]\n",
    "l2 = [1,8,9]\n",
    "for a in l1:\n",
    "    for b in l2:\n",
    "        if a == b:\n",
    "            print('same')\n",
    "        else:\n",
    "            print('not same')"
   ]
  },
  {
   "cell_type": "code",
   "execution_count": 23,
   "id": "77351e2f",
   "metadata": {},
   "outputs": [
    {
     "name": "stdout",
     "output_type": "stream",
     "text": [
      "same\n"
     ]
    }
   ],
   "source": [
    "for a, b in zip(l1,l2):\n",
    "    #print(a,b)\n",
    "    if a == b:\n",
    "        print('same')"
   ]
  },
  {
   "cell_type": "code",
   "execution_count": 35,
   "id": "dfc0b9f1",
   "metadata": {},
   "outputs": [],
   "source": [
    "#12. Write a Python program to print a specified list after removing the 0th, 4th and 5th elements.\n",
    "# Sample List : ['Red', 'Green', 'White', 'Black', 'Pink', 'Yellow']\n",
    "# Expected Output : ['Green', 'White', 'Black']\n",
    "list1 = ['Red', 'Green', 'White', 'Black', 'Pink', 'Yellow']"
   ]
  },
  {
   "cell_type": "code",
   "execution_count": 36,
   "id": "88aeb076",
   "metadata": {},
   "outputs": [
    {
     "data": {
      "text/plain": [
       "'Red'"
      ]
     },
     "execution_count": 36,
     "metadata": {},
     "output_type": "execute_result"
    }
   ],
   "source": [
    "list1.pop(0)"
   ]
  },
  {
   "cell_type": "code",
   "execution_count": 37,
   "id": "654780f4",
   "metadata": {},
   "outputs": [
    {
     "data": {
      "text/plain": [
       "'Pink'"
      ]
     },
     "execution_count": 37,
     "metadata": {},
     "output_type": "execute_result"
    }
   ],
   "source": [
    "list1.pop(3)"
   ]
  },
  {
   "cell_type": "code",
   "execution_count": 40,
   "id": "52df86b2",
   "metadata": {},
   "outputs": [
    {
     "data": {
      "text/plain": [
       "['Green', 'White', 'Black', 'Yellow']"
      ]
     },
     "execution_count": 40,
     "metadata": {},
     "output_type": "execute_result"
    }
   ],
   "source": [
    "list1"
   ]
  },
  {
   "cell_type": "code",
   "execution_count": 41,
   "id": "dc5dea1c",
   "metadata": {},
   "outputs": [
    {
     "data": {
      "text/plain": [
       "'Yellow'"
      ]
     },
     "execution_count": 41,
     "metadata": {},
     "output_type": "execute_result"
    }
   ],
   "source": [
    "list1.pop(3)"
   ]
  },
  {
   "cell_type": "code",
   "execution_count": 42,
   "id": "0e3a88da",
   "metadata": {},
   "outputs": [
    {
     "data": {
      "text/plain": [
       "['Green', 'White', 'Black']"
      ]
     },
     "execution_count": 42,
     "metadata": {},
     "output_type": "execute_result"
    }
   ],
   "source": [
    "list1"
   ]
  },
  {
   "cell_type": "code",
   "execution_count": 50,
   "id": "bef121e7",
   "metadata": {},
   "outputs": [
    {
     "data": {
      "text/plain": [
       "['Green', 'White', 'Black']"
      ]
     },
     "execution_count": 50,
     "metadata": {},
     "output_type": "execute_result"
    }
   ],
   "source": [
    "list2 = ['Red', 'Green', 'White', 'Black', 'Pink', 'Yellow']\n",
    "list2 = [ j for (i,j) in enumerate(list2) if i not in (0,4,5)]\n",
    "list2"
   ]
  },
  {
   "cell_type": "code",
   "execution_count": 56,
   "id": "0f21bf57",
   "metadata": {},
   "outputs": [],
   "source": [
    "x1 = [3,3,3,4,4,4,4,5,5,6,3,3,4,4,4]\n",
    "x2 = [10,20,30,40,25,35]\n",
    "x3 = [ ]\n",
    "idx = 0\n",
    "l = x1[0]\n",
    "for v in x1:\n",
    "    if l!=v:\n",
    "        idx+=1\n",
    "    x3.append(x2[idx])\n",
    "    l = v\n",
    "    "
   ]
  },
  {
   "cell_type": "code",
   "execution_count": 53,
   "id": "1f9ba08a",
   "metadata": {},
   "outputs": [
    {
     "data": {
      "text/plain": [
       "[10, 10, 10, 20, 20, 20, 20, 30, 30, 40, 25, 25, 35, 35, 35]"
      ]
     },
     "execution_count": 53,
     "metadata": {},
     "output_type": "execute_result"
    }
   ],
   "source": [
    "x3"
   ]
  },
  {
   "cell_type": "code",
   "execution_count": 61,
   "id": "8a620884",
   "metadata": {},
   "outputs": [
    {
     "name": "stdout",
     "output_type": "stream",
     "text": [
      "1 2 3 4 5 6 7 8 9 10 \n",
      "2 4 6 8 10 12 14 16 18 20 \n",
      "3 6 9 12 15 18 21 24 27 30 \n",
      "4 8 12 16 20 24 28 32 36 40 \n",
      "5 10 15 20 25 30 35 40 45 50 \n",
      "6 12 18 24 30 36 42 48 54 60 \n",
      "7 14 21 28 35 42 49 56 63 70 \n",
      "8 16 24 32 40 48 56 64 72 80 \n",
      "9 18 27 36 45 54 63 72 81 90 \n",
      "10 20 30 40 50 60 70 80 90 100 \n"
     ]
    }
   ],
   "source": [
    "# Write a nested for loop program to print multiplication table in Python\n",
    "\n",
    "for i in range(1,11):\n",
    "    for j in range(1,11):\n",
    "        print(i*j, end = \" \")\n",
    "    print()"
   ]
  },
  {
   "cell_type": "code",
   "execution_count": 68,
   "id": "580b1bd9",
   "metadata": {},
   "outputs": [
    {
     "name": "stdout",
     "output_type": "stream",
     "text": [
      "*\n",
      "**\n",
      "***\n",
      "****\n",
      "*****\n"
     ]
    }
   ],
   "source": [
    "rows = 5\n",
    "for i in range(1, rows+1):\n",
    "    for j in range(1, i+1):\n",
    "        print('*', end = \"\")\n",
    "    print()"
   ]
  },
  {
   "cell_type": "code",
   "execution_count": null,
   "id": "f4e46755",
   "metadata": {},
   "outputs": [],
   "source": [
    "# Assume we wanted to repeat each name from a list five times.\n",
    "\n",
    "# Here we will iterate the list using an outer for loop\n",
    "# In each iteration of outer for loop, the inner for loop execute five times to print the current name five times"
   ]
  },
  {
   "cell_type": "code",
   "execution_count": 79,
   "id": "39fa14ed",
   "metadata": {},
   "outputs": [
    {
     "name": "stdout",
     "output_type": "stream",
     "text": [
      "KellyKellyKellyKellyKelly\n",
      "JessaJessaJessaJessaJessa\n",
      "EmmaEmmaEmmaEmmaEmma\n"
     ]
    }
   ],
   "source": [
    "names = ['Kelly', 'Jessa', 'Emma']\n",
    "for name in names:\n",
    "    print(name * 5, end = \"\")\n",
    "    print()"
   ]
  },
  {
   "cell_type": "code",
   "execution_count": 76,
   "id": "95651b15",
   "metadata": {},
   "outputs": [
    {
     "data": {
      "text/plain": [
       "['KellyKellyKellyKellyKelly',\n",
       " 'JessaJessaJessaJessaJessa',\n",
       " 'EmmaEmmaEmmaEmmaEmma']"
      ]
     },
     "execution_count": 76,
     "metadata": {},
     "output_type": "execute_result"
    }
   ],
   "source": [
    "[ name*5 for name in names]"
   ]
  },
  {
   "cell_type": "code",
   "execution_count": 77,
   "id": "e18a7abb",
   "metadata": {},
   "outputs": [
    {
     "name": "stdout",
     "output_type": "stream",
     "text": [
      "Kelly Kelly Kelly Kelly Kelly \n",
      "Jessa Jessa Jessa Jessa Jessa \n",
      "Emma Emma Emma Emma Emma \n"
     ]
    }
   ],
   "source": [
    "for name in names:\n",
    "    count = 0\n",
    "    while count < 5:\n",
    "        print(name, end = ' ')\n",
    "        count+=1\n",
    "    print()"
   ]
  },
  {
   "cell_type": "code",
   "execution_count": 84,
   "id": "36e582da",
   "metadata": {},
   "outputs": [
    {
     "name": "stdout",
     "output_type": "stream",
     "text": [
      "*****\n",
      "*****\n",
      "*****\n"
     ]
    }
   ],
   "source": [
    "# Practice: Print a rectangle Pattern with 5 rows and 3 columns of stars\n",
    "n = 5\n",
    "for i in range(1, n+1):\n",
    "    for j in range(1, i-2):\n",
    "        print('*'*n)"
   ]
  },
  {
   "cell_type": "code",
   "execution_count": 85,
   "id": "6bd505a9",
   "metadata": {},
   "outputs": [
    {
     "name": "stdout",
     "output_type": "stream",
     "text": [
      "***\n",
      "***\n",
      "***\n",
      "***\n",
      "***\n"
     ]
    }
   ],
   "source": [
    "for i in range(5):\n",
    "    for j in range(3):\n",
    "        print(\"*\", end = \"\")\n",
    "    print()"
   ]
  },
  {
   "cell_type": "code",
   "execution_count": 86,
   "id": "7be3ebef",
   "metadata": {},
   "outputs": [
    {
     "name": "stdout",
     "output_type": "stream",
     "text": [
      "2 * 4 =  8\n",
      "2 * 6 =  12\n",
      "4 * 2 =  8\n",
      "4 * 6 =  24\n",
      "6 * 2 =  12\n",
      "6 * 4 =  24\n"
     ]
    }
   ],
   "source": [
    "# In the following example, we have two loops. The outer for loop iterates the first list, and the inner loop also iterates the second list of numbers.\n",
    "\n",
    "# If the outer number and the inner loop’s current number are the same, then move to the next iteration of an inner loop.\n",
    "first = [2, 4, 6]\n",
    "second = [2, 4, 6]\n",
    "for i in first:\n",
    "    for j in second:\n",
    "        if i == j:\n",
    "            continue\n",
    "        print(i, '*', j, '= ', i * j)"
   ]
  },
  {
   "cell_type": "code",
   "execution_count": 88,
   "id": "f2eaa910",
   "metadata": {},
   "outputs": [
    {
     "name": "stdout",
     "output_type": "stream",
     "text": [
      "1 * 1 = 1\n",
      "1 * 2 = 2\n",
      "1 * 3 = 3\n",
      "1 * 4 = 4\n",
      "1 * 5 = 5\n",
      "1 * 6 = 6\n",
      "1 * 7 = 7\n",
      "1 * 8 = 8\n",
      "1 * 9 = 9\n",
      "1 * 10 = 10\n",
      "\n",
      "2 * 1 = 2\n",
      "2 * 2 = 4\n",
      "2 * 3 = 6\n",
      "2 * 4 = 8\n",
      "2 * 5 = 10\n",
      "2 * 6 = 12\n",
      "2 * 7 = 14\n",
      "2 * 8 = 16\n",
      "2 * 9 = 18\n",
      "2 * 10 = 20\n",
      "\n",
      "3 * 1 = 3\n",
      "3 * 2 = 6\n",
      "3 * 3 = 9\n",
      "3 * 4 = 12\n",
      "3 * 5 = 15\n",
      "3 * 6 = 18\n",
      "3 * 7 = 21\n",
      "3 * 8 = 24\n",
      "3 * 9 = 27\n",
      "3 * 10 = 30\n",
      "\n",
      "4 * 1 = 4\n",
      "4 * 2 = 8\n",
      "4 * 3 = 12\n",
      "4 * 4 = 16\n",
      "4 * 5 = 20\n",
      "4 * 6 = 24\n",
      "4 * 7 = 28\n",
      "4 * 8 = 32\n",
      "4 * 9 = 36\n",
      "4 * 10 = 40\n",
      "\n",
      "5 * 1 = 5\n",
      "5 * 2 = 10\n",
      "5 * 3 = 15\n",
      "5 * 4 = 20\n",
      "5 * 5 = 25\n",
      "5 * 6 = 30\n",
      "5 * 7 = 35\n",
      "5 * 8 = 40\n",
      "5 * 9 = 45\n",
      "5 * 10 = 50\n",
      "\n",
      "6 * 1 = 6\n",
      "6 * 2 = 12\n",
      "6 * 3 = 18\n",
      "6 * 4 = 24\n",
      "6 * 5 = 30\n",
      "6 * 6 = 36\n",
      "6 * 7 = 42\n",
      "6 * 8 = 48\n",
      "6 * 9 = 54\n",
      "6 * 10 = 60\n",
      "\n",
      "7 * 1 = 7\n",
      "7 * 2 = 14\n",
      "7 * 3 = 21\n",
      "7 * 4 = 28\n",
      "7 * 5 = 35\n",
      "7 * 6 = 42\n",
      "7 * 7 = 49\n",
      "7 * 8 = 56\n",
      "7 * 9 = 63\n",
      "7 * 10 = 70\n",
      "\n",
      "8 * 1 = 8\n",
      "8 * 2 = 16\n",
      "8 * 3 = 24\n",
      "8 * 4 = 32\n",
      "8 * 5 = 40\n",
      "8 * 6 = 48\n",
      "8 * 7 = 56\n",
      "8 * 8 = 64\n",
      "8 * 9 = 72\n",
      "8 * 10 = 80\n",
      "\n",
      "9 * 1 = 9\n",
      "9 * 2 = 18\n",
      "9 * 3 = 27\n",
      "9 * 4 = 36\n",
      "9 * 5 = 45\n",
      "9 * 6 = 54\n",
      "9 * 7 = 63\n",
      "9 * 8 = 72\n",
      "9 * 9 = 81\n",
      "9 * 10 = 90\n",
      "\n",
      "10 * 1 = 10\n",
      "10 * 2 = 20\n",
      "10 * 3 = 30\n",
      "10 * 4 = 40\n",
      "10 * 5 = 50\n",
      "10 * 6 = 60\n",
      "10 * 7 = 70\n",
      "10 * 8 = 80\n",
      "10 * 9 = 90\n",
      "10 * 10 = 100\n",
      "\n"
     ]
    }
   ],
   "source": [
    "#Tables in python\n",
    "for i in range(1,11):\n",
    "    for j in range(1,11):\n",
    "        print(i, '*', j, '=', i*j)\n",
    "    print()"
   ]
  },
  {
   "cell_type": "code",
   "execution_count": 91,
   "id": "2fbbf73f",
   "metadata": {},
   "outputs": [
    {
     "name": "stdout",
     "output_type": "stream",
     "text": [
      "11 * 1 = 11\n",
      "11 * 2 = 22\n",
      "11 * 3 = 33\n",
      "11 * 4 = 44\n",
      "11 * 5 = 55\n",
      "11 * 6 = 66\n",
      "11 * 7 = 77\n",
      "11 * 8 = 88\n",
      "11 * 9 = 99\n",
      "11 * 10 = 110\n",
      "\n",
      "12 * 1 = 12\n",
      "12 * 2 = 24\n",
      "12 * 3 = 36\n",
      "12 * 4 = 48\n",
      "12 * 5 = 60\n",
      "12 * 6 = 72\n",
      "12 * 7 = 84\n",
      "12 * 8 = 96\n",
      "12 * 9 = 108\n",
      "12 * 10 = 120\n",
      "\n",
      "13 * 1 = 13\n",
      "13 * 2 = 26\n",
      "13 * 3 = 39\n",
      "13 * 4 = 52\n",
      "13 * 5 = 65\n",
      "13 * 6 = 78\n",
      "13 * 7 = 91\n",
      "13 * 8 = 104\n",
      "13 * 9 = 117\n",
      "13 * 10 = 130\n",
      "\n",
      "14 * 1 = 14\n",
      "14 * 2 = 28\n",
      "14 * 3 = 42\n",
      "14 * 4 = 56\n",
      "14 * 5 = 70\n",
      "14 * 6 = 84\n",
      "14 * 7 = 98\n",
      "14 * 8 = 112\n",
      "14 * 9 = 126\n",
      "14 * 10 = 140\n",
      "\n",
      "15 * 1 = 15\n",
      "15 * 2 = 30\n",
      "15 * 3 = 45\n",
      "15 * 4 = 60\n",
      "15 * 5 = 75\n",
      "15 * 6 = 90\n",
      "15 * 7 = 105\n",
      "15 * 8 = 120\n",
      "15 * 9 = 135\n",
      "15 * 10 = 150\n",
      "\n",
      "16 * 1 = 16\n",
      "16 * 2 = 32\n",
      "16 * 3 = 48\n",
      "16 * 4 = 64\n",
      "16 * 5 = 80\n",
      "16 * 6 = 96\n",
      "16 * 7 = 112\n",
      "16 * 8 = 128\n",
      "16 * 9 = 144\n",
      "16 * 10 = 160\n",
      "\n",
      "17 * 1 = 17\n",
      "17 * 2 = 34\n",
      "17 * 3 = 51\n",
      "17 * 4 = 68\n",
      "17 * 5 = 85\n",
      "17 * 6 = 102\n",
      "17 * 7 = 119\n",
      "17 * 8 = 136\n",
      "17 * 9 = 153\n",
      "17 * 10 = 170\n",
      "\n",
      "18 * 1 = 18\n",
      "18 * 2 = 36\n",
      "18 * 3 = 54\n",
      "18 * 4 = 72\n",
      "18 * 5 = 90\n",
      "18 * 6 = 108\n",
      "18 * 7 = 126\n",
      "18 * 8 = 144\n",
      "18 * 9 = 162\n",
      "18 * 10 = 180\n",
      "\n",
      "19 * 1 = 19\n",
      "19 * 2 = 38\n",
      "19 * 3 = 57\n",
      "19 * 4 = 76\n",
      "19 * 5 = 95\n",
      "19 * 6 = 114\n",
      "19 * 7 = 133\n",
      "19 * 8 = 152\n",
      "19 * 9 = 171\n",
      "19 * 10 = 190\n",
      "\n",
      "20 * 1 = 20\n",
      "20 * 2 = 40\n",
      "20 * 3 = 60\n",
      "20 * 4 = 80\n",
      "20 * 5 = 100\n",
      "20 * 6 = 120\n",
      "20 * 7 = 140\n",
      "20 * 8 = 160\n",
      "20 * 9 = 180\n",
      "20 * 10 = 200\n",
      "\n"
     ]
    }
   ],
   "source": [
    "for i in range(11,21):\n",
    "    for j in range(1, 11):\n",
    "        print(i, '*', j, '=', i*j)\n",
    "    print()"
   ]
  },
  {
   "cell_type": "code",
   "execution_count": 94,
   "id": "13dd1485",
   "metadata": {},
   "outputs": [],
   "source": [
    "first = [2, 3, 4]\n",
    "second = [20, 30, 40]\n",
    "final = []"
   ]
  },
  {
   "cell_type": "code",
   "execution_count": 99,
   "id": "78ed8f83",
   "metadata": {},
   "outputs": [],
   "source": [
    "for i in first:\n",
    "    for j in second:\n",
    "        final.append(i+j)\n",
    "        "
   ]
  },
  {
   "cell_type": "code",
   "execution_count": 96,
   "id": "ed967300",
   "metadata": {},
   "outputs": [
    {
     "data": {
      "text/plain": [
       "[22, 32, 42, 23, 33, 43, 24, 34, 44]"
      ]
     },
     "execution_count": 96,
     "metadata": {},
     "output_type": "execute_result"
    }
   ],
   "source": [
    "final"
   ]
  },
  {
   "cell_type": "code",
   "execution_count": 100,
   "id": "c41b3874",
   "metadata": {},
   "outputs": [
    {
     "data": {
      "text/plain": [
       "[22, 32, 42, 23, 33, 43, 24, 34, 44]"
      ]
     },
     "execution_count": 100,
     "metadata": {},
     "output_type": "execute_result"
    }
   ],
   "source": [
    "[i+j for i in first for j in second]"
   ]
  },
  {
   "cell_type": "code",
   "execution_count": 101,
   "id": "280850fc",
   "metadata": {},
   "outputs": [
    {
     "data": {
      "text/plain": [
       "[[20, 40], [30, 40], [20, 40], [30, 40], [20, 40], [30, 40]]"
      ]
     },
     "execution_count": 101,
     "metadata": {},
     "output_type": "execute_result"
    }
   ],
   "source": [
    "[[i,j] for i in first for i in second if i!=j]"
   ]
  },
  {
   "cell_type": "code",
   "execution_count": 102,
   "id": "aa47f863",
   "metadata": {},
   "outputs": [
    {
     "data": {
      "text/plain": [
       "[60, 70, 60, 70, 60, 70]"
      ]
     },
     "execution_count": 102,
     "metadata": {},
     "output_type": "execute_result"
    }
   ],
   "source": [
    "[i+j for i in first for i in second if i!=j]"
   ]
  },
  {
   "cell_type": "code",
   "execution_count": 103,
   "id": "40fd7857",
   "metadata": {},
   "outputs": [
    {
     "name": "stdout",
     "output_type": "stream",
     "text": [
      "12345678910\n",
      "12345678910\n",
      "12345678910\n",
      "12345678910\n",
      "12345678910\n"
     ]
    }
   ],
   "source": [
    "#In this example, we will print the first 10 numbers on each line 5 times.\n",
    "i = 1\n",
    "while i<=5:\n",
    "    j = 1\n",
    "    while j<=10:\n",
    "        print(j, end = \"\")\n",
    "        j = j+1\n",
    "    i = i+1\n",
    "    print()"
   ]
  },
  {
   "cell_type": "code",
   "execution_count": null,
   "id": "ec9b81a4",
   "metadata": {},
   "outputs": [],
   "source": [
    "print('Show Perfect number fom 1 to 100')\n",
    "n = 2\n",
    "# outer while loop\n",
    "while n <= 100:\n",
    "    x_sum = 0\n",
    "    # inner for loop\n",
    "    for i in range(1, n):\n",
    "        if n % i == 0:\n",
    "            x_sum += i\n",
    "    if x_sum == n:\n",
    "        print('Perfect number:', n)\n",
    "    n += 1\n"
   ]
  },
  {
   "cell_type": "code",
   "execution_count": null,
   "id": "cb75f76f",
   "metadata": {},
   "outputs": [],
   "source": []
  }
 ],
 "metadata": {
  "kernelspec": {
   "display_name": "Python 3 (ipykernel)",
   "language": "python",
   "name": "python3"
  },
  "language_info": {
   "codemirror_mode": {
    "name": "ipython",
    "version": 3
   },
   "file_extension": ".py",
   "mimetype": "text/x-python",
   "name": "python",
   "nbconvert_exporter": "python",
   "pygments_lexer": "ipython3",
   "version": "3.9.7"
  }
 },
 "nbformat": 4,
 "nbformat_minor": 5
}
