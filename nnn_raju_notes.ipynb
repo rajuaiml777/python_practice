{
 "cells": [
  {
   "cell_type": "markdown",
   "id": "26c73b7d",
   "metadata": {},
   "source": [
    "## Numpy\n",
    "\n",
    "- Python NumPy is a general-purpose array processing package which provides tools for handling the n-dimensional arrays. It provides various computing tools such as comprehensive mathematical functions, linear algebra routines. NumPy provides both the flexibility of Python and the speed of well-optimized compiled C code. It’s easy to use syntax makes it highly accessible and productive for programmers from any background.\n",
    "\n",
    "- This NumPy tutorial helps you learn the fundamentals of NumPy from Basics to Advance, like operations on NumPy array, matrices using a huge dataset of NumPy – programs and projects."
   ]
  },
  {
   "cell_type": "markdown",
   "id": "80bf042b",
   "metadata": {},
   "source": [
    "## What is NumPy? \n",
    "- NumPy is a general-purpose array-processing package. It provides a high-performance multidimensional array object, and tools for working with these arrays. It is the fundamental package for scientific computing with Python. It is open-source software. It contains various features including these important ones:\n",
    "\n",
    "- A powerful N-dimensional array object\n",
    "- Sophisticated (broadcasting) functions\n",
    "- Tools for integrating C/C++ and Fortran code\n",
    "- Useful linear algebra, Fourier transform, and random number capabilities\n",
    "- Besides its obvious scientific uses, NumPy can also be used as an efficient multi-dimensional container of generic data. Arbitrary data-types can be defined using Numpy which allows NumPy to seamlessly and speedily integrate with a wide variety of databases."
   ]
  },
  {
   "cell_type": "markdown",
   "id": "b7d470c5",
   "metadata": {},
   "source": [
    "- Numpy is a general-purpose array-processing package. It provides a high-performance multidimensional array object, and tools for working with these arrays. It is the fundamental package for scientific computing with Python.\n",
    "- Besides its obvious scientific uses, Numpy can also be used as an efficient multi-dimensional container of generic data.\n",
    "\n",
    "## Arrays in Numpy\n",
    "- Array in Numpy is a table of elements (usually numbers), all of the same type, indexed by a tuple of positive integers. In Numpy, number of dimensions of the array is called rank of the array.A tuple of integers giving the size of the array along each dimension is known as shape of the array. An array class in Numpy is called as ndarray. Elements in Numpy arrays are accessed by using square brackets and can be initialized by using nested Python Lists.\n",
    "\n",
    "## Creating a Numpy Array\n",
    "- Arrays in Numpy can be created by multiple ways, with various number of Ranks, defining the size of the Array. Arrays can also be created with the use of various data types such as lists, tuples, etc. The type of the resultant array is deduced from the type of the elements in the sequences.\n",
    "- Note: Type of array can be explicitly defined while creating the array."
   ]
  },
  {
   "cell_type": "code",
   "execution_count": 109,
   "id": "1ca0ca45",
   "metadata": {},
   "outputs": [
    {
     "data": {
      "text/plain": [
       "array([1, 2, 3, 4])"
      ]
     },
     "execution_count": 109,
     "metadata": {},
     "output_type": "execute_result"
    }
   ],
   "source": [
    "#creating rank1 array\n",
    "arr = np.array([1,2,3,4])\n",
    "arr"
   ]
  },
  {
   "cell_type": "code",
   "execution_count": 110,
   "id": "69ef5a22",
   "metadata": {},
   "outputs": [
    {
     "data": {
      "text/plain": [
       "array([[1, 2, 3],\n",
       "       [4, 5, 7]])"
      ]
     },
     "execution_count": 110,
     "metadata": {},
     "output_type": "execute_result"
    }
   ],
   "source": [
    "#creating rank2 array\n",
    "arr = np.array([[1,2,3], [4,5,7]])\n",
    "arr"
   ]
  },
  {
   "cell_type": "code",
   "execution_count": 7,
   "id": "4909b31c",
   "metadata": {},
   "outputs": [
    {
     "data": {
      "text/plain": [
       "array([[1, 2, 3],\n",
       "       [4, 5, 6]])"
      ]
     },
     "execution_count": 7,
     "metadata": {},
     "output_type": "execute_result"
    }
   ],
   "source": [
    "#installation\n",
    "#pip install numpy\n",
    "import numpy as np\n",
    "#creating array objects\n",
    "arr = np.array([[1,2,3], [4,5,6]])\n",
    "arr\n",
    "\n"
   ]
  },
  {
   "cell_type": "code",
   "execution_count": 8,
   "id": "ead37a88",
   "metadata": {},
   "outputs": [
    {
     "name": "stdout",
     "output_type": "stream",
     "text": [
      "Array is type of : <class 'numpy.ndarray'>\n"
     ]
    }
   ],
   "source": [
    "# type of arr object\n",
    "print('Array is type of :', type(arr))"
   ]
  },
  {
   "cell_type": "code",
   "execution_count": 10,
   "id": "590ff45e",
   "metadata": {},
   "outputs": [
    {
     "name": "stdout",
     "output_type": "stream",
     "text": [
      "no. of dimention: 2\n"
     ]
    }
   ],
   "source": [
    "#printing array dimention\n",
    "print('no. of dimention:', arr.ndim)"
   ]
  },
  {
   "cell_type": "code",
   "execution_count": 11,
   "id": "daf77f1d",
   "metadata": {},
   "outputs": [
    {
     "name": "stdout",
     "output_type": "stream",
     "text": [
      "shape of arr: (2, 3)\n"
     ]
    }
   ],
   "source": [
    "#printing shape of array\n",
    "print('shape of arr:', arr.shape)"
   ]
  },
  {
   "cell_type": "code",
   "execution_count": 13,
   "id": "d1ca834c",
   "metadata": {},
   "outputs": [
    {
     "name": "stdout",
     "output_type": "stream",
     "text": [
      "size of array: 6\n"
     ]
    }
   ],
   "source": [
    "#printing size(total no of elements) of array\n",
    "print('size of array:', arr.size)"
   ]
  },
  {
   "cell_type": "code",
   "execution_count": 14,
   "id": "ad2ab795",
   "metadata": {},
   "outputs": [
    {
     "name": "stdout",
     "output_type": "stream",
     "text": [
      "type of elements in arr: int32\n"
     ]
    }
   ],
   "source": [
    "#printing type of elements in array\n",
    "print('type of elements in arr:', arr.dtype)"
   ]
  },
  {
   "cell_type": "markdown",
   "id": "ec9ab617",
   "metadata": {},
   "source": [
    "## Array creation: There are various ways to create arrays in NumPy.\n",
    "\n",
    "- For example, you can create an array from a regular Python list or tuple using the array function. The type of the resulting array is deduced from the type of the elements in the sequences.\n",
    "- Often, the elements of an array are originally unknown, but its size is known. Hence, NumPy offers several functions to create arrays with initial placeholder content. These minimize the necessity of growing arrays, an expensive operation. For example: np.zeros, np.ones, np.full, np.empty, etc.\n",
    "- To create sequences of numbers, NumPy provides a function analogous to range that returns arrays instead of lists."
   ]
  },
  {
   "cell_type": "code",
   "execution_count": 115,
   "id": "b9fa75a3",
   "metadata": {},
   "outputs": [
    {
     "data": {
      "text/plain": [
       "array([1, 2, 3, 4])"
      ]
     },
     "execution_count": 115,
     "metadata": {},
     "output_type": "execute_result"
    }
   ],
   "source": [
    "#Numpy array from list\n",
    "l1 = [1,2,3,4]\n",
    "a = np.array(l1)\n",
    "a"
   ]
  },
  {
   "cell_type": "code",
   "execution_count": 17,
   "id": "315f80a2",
   "metadata": {},
   "outputs": [
    {
     "data": {
      "text/plain": [
       "array([[1., 2., 3.],\n",
       "       [7., 8., 9.]])"
      ]
     },
     "execution_count": 17,
     "metadata": {},
     "output_type": "execute_result"
    }
   ],
   "source": [
    "`#array creation techniques\n",
    "#creating array from list with type float\n",
    "arr = np.array([[1,2,3],[7,8,9]], dtype = float)\n",
    "arr"
   ]
  },
  {
   "cell_type": "code",
   "execution_count": 112,
   "id": "bb4c9542",
   "metadata": {},
   "outputs": [
    {
     "data": {
      "text/plain": [
       "array([[4., 7.],\n",
       "       [2., 6.]])"
      ]
     },
     "execution_count": 112,
     "metadata": {},
     "output_type": "execute_result"
    }
   ],
   "source": [
    "# First Array\n",
    "arr1 = np.array([[4, 7], [2, 6]], \n",
    "                 dtype = np.float64)\n",
    "arr1"
   ]
  },
  {
   "cell_type": "code",
   "execution_count": 22,
   "id": "9b80460f",
   "metadata": {},
   "outputs": [
    {
     "data": {
      "text/plain": [
       "array([[1, 3, 3],\n",
       "       [2, 4, 5]])"
      ]
     },
     "execution_count": 22,
     "metadata": {},
     "output_type": "execute_result"
    }
   ],
   "source": [
    "#creating array from list with type int\n",
    "arr = np.array([[1.2, 3.1, 3.2], [2.1, 4.1, 5.2]], dtype = int)\n",
    "arr"
   ]
  },
  {
   "cell_type": "code",
   "execution_count": 113,
   "id": "57100eb7",
   "metadata": {},
   "outputs": [
    {
     "data": {
      "text/plain": [
       "array([[3., 6.],\n",
       "       [2., 8.]])"
      ]
     },
     "execution_count": 113,
     "metadata": {},
     "output_type": "execute_result"
    }
   ],
   "source": [
    "# Second Array\n",
    "arr2 = np.array([[3, 6], [2, 8]], \n",
    "                 dtype = np.float64) \n",
    "arr2"
   ]
  },
  {
   "cell_type": "code",
   "execution_count": 116,
   "id": "01d48fc8",
   "metadata": {},
   "outputs": [
    {
     "data": {
      "text/plain": [
       "array([1, 2, 3, 4])"
      ]
     },
     "execution_count": 116,
     "metadata": {},
     "output_type": "execute_result"
    }
   ],
   "source": [
    "#numpy array from tuple\n",
    "tup = (1,2,3,4)\n",
    "b = np.array(tup)\n",
    "b"
   ]
  },
  {
   "cell_type": "code",
   "execution_count": 24,
   "id": "c55abcc8",
   "metadata": {},
   "outputs": [
    {
     "data": {
      "text/plain": [
       "array([1, 2, 3])"
      ]
     },
     "execution_count": 24,
     "metadata": {},
     "output_type": "execute_result"
    }
   ],
   "source": [
    "#creating array from tuple\n",
    "\n",
    "b = np.array((1,2,3))\n",
    "b"
   ]
  },
  {
   "cell_type": "code",
   "execution_count": 26,
   "id": "a4df80d2",
   "metadata": {},
   "outputs": [
    {
     "data": {
      "text/plain": [
       "array([[0., 0., 0., 0.],\n",
       "       [0., 0., 0., 0.],\n",
       "       [0., 0., 0., 0.]])"
      ]
     },
     "execution_count": 26,
     "metadata": {},
     "output_type": "execute_result"
    }
   ],
   "source": [
    "#creating 3*4 array with all zeros\n",
    "c = np.zeros((3,4))\n",
    "c"
   ]
  },
  {
   "cell_type": "code",
   "execution_count": 28,
   "id": "1f96e41c",
   "metadata": {},
   "outputs": [
    {
     "data": {
      "text/plain": [
       "array([[7.+0.j, 7.+0.j, 7.+0.j],\n",
       "       [7.+0.j, 7.+0.j, 7.+0.j],\n",
       "       [7.+0.j, 7.+0.j, 7.+0.j]])"
      ]
     },
     "execution_count": 28,
     "metadata": {},
     "output_type": "execute_result"
    }
   ],
   "source": [
    "#create a constant value array of complex type\n",
    "d = np.full((3,3), 7, dtype = 'complex')\n",
    "d"
   ]
  },
  {
   "cell_type": "code",
   "execution_count": 29,
   "id": "178caf79",
   "metadata": {},
   "outputs": [
    {
     "data": {
      "text/plain": [
       "array([[7.+0.j, 7.+0.j, 7.+0.j],\n",
       "       [7.+0.j, 7.+0.j, 7.+0.j],\n",
       "       [7.+0.j, 7.+0.j, 7.+0.j],\n",
       "       [7.+0.j, 7.+0.j, 7.+0.j]])"
      ]
     },
     "execution_count": 29,
     "metadata": {},
     "output_type": "execute_result"
    }
   ],
   "source": [
    "d = np.full((4,3), 7, dtype = 'complex')\n",
    "d"
   ]
  },
  {
   "cell_type": "code",
   "execution_count": 32,
   "id": "e20203d0",
   "metadata": {},
   "outputs": [
    {
     "data": {
      "text/plain": [
       "array([[0.19253656, 0.78347515],\n",
       "       [0.84214278, 0.45152065]])"
      ]
     },
     "execution_count": 32,
     "metadata": {},
     "output_type": "execute_result"
    }
   ],
   "source": [
    "#create an array with random values\n",
    "e = np.random.random((2,2))#Return random floats in the half-open interval [0.0, 1.0)\n",
    "e"
   ]
  },
  {
   "cell_type": "code",
   "execution_count": 34,
   "id": "7c3d7a6b",
   "metadata": {},
   "outputs": [
    {
     "data": {
      "text/plain": [
       "array([[0.2392568 , 0.12976588, 0.53773186, 0.14613846],\n",
       "       [0.01446284, 0.75527725, 0.09389902, 0.20671368],\n",
       "       [0.88295148, 0.36926252, 0.39866325, 0.57728931]])"
      ]
     },
     "execution_count": 34,
     "metadata": {},
     "output_type": "execute_result"
    }
   ],
   "source": [
    "e2 = np.random.random((3,4))\n",
    "e2"
   ]
  },
  {
   "cell_type": "markdown",
   "id": "5cdaeb71",
   "metadata": {},
   "source": [
    "- arange: returns evenly spaced values within a given interval. step size is specified."
   ]
  },
  {
   "cell_type": "code",
   "execution_count": 35,
   "id": "0797b8eb",
   "metadata": {},
   "outputs": [
    {
     "data": {
      "text/plain": [
       "array([ 0,  5, 10, 15, 20, 25])"
      ]
     },
     "execution_count": 35,
     "metadata": {},
     "output_type": "execute_result"
    }
   ],
   "source": [
    "#create a sequence of integers from 0 to 30 with step of 5\n",
    "#Syntax: numpy.arange([start, ]stop, [step, ]dtype=None)\n",
    "f = np.arange(0,30,5)\n",
    "f"
   ]
  },
  {
   "cell_type": "markdown",
   "id": "9290b6d4",
   "metadata": {},
   "source": [
    "- linspace: returns evenly spaced values within a given interval. num no. of elements are returned."
   ]
  },
  {
   "cell_type": "code",
   "execution_count": 36,
   "id": "f211c0eb",
   "metadata": {},
   "outputs": [
    {
     "data": {
      "text/plain": [
       "array([0.        , 0.55555556, 1.11111111, 1.66666667, 2.22222222,\n",
       "       2.77777778, 3.33333333, 3.88888889, 4.44444444, 5.        ])"
      ]
     },
     "execution_count": 36,
     "metadata": {},
     "output_type": "execute_result"
    }
   ],
   "source": [
    "#crete a sequence of 10 values in range 0 to 5\n",
    "\n",
    "g = np.linspace(0,5,10)\n",
    "g"
   ]
  },
  {
   "cell_type": "markdown",
   "id": "f40acc2c",
   "metadata": {},
   "source": [
    "- **Reshaping array:** We can use reshape method to reshape an array. Consider an array with shape (a1, a2, a3, …, aN). We can reshape and convert it into another array with shape (b1, b2, b3, …, bM). The only required condition is: a1 x a2 x a3 … x aN = b1 x b2 x b3 … x bM . (i.e original size of array remains unchanged.)"
   ]
  },
  {
   "cell_type": "code",
   "execution_count": 37,
   "id": "4b73136b",
   "metadata": {},
   "outputs": [
    {
     "data": {
      "text/plain": [
       "array([[1, 2, 3, 4],\n",
       "       [7, 8, 9, 7],\n",
       "       [4, 5, 3, 2]])"
      ]
     },
     "execution_count": 37,
     "metadata": {},
     "output_type": "execute_result"
    }
   ],
   "source": [
    "#reshaping 3*4 array to 2*2*3 array\n",
    "arr = np.array([[1,2,3,4], [7,8,9,7], [4,5,3,2]])\n",
    "arr"
   ]
  },
  {
   "cell_type": "code",
   "execution_count": 38,
   "id": "c6f13511",
   "metadata": {},
   "outputs": [
    {
     "data": {
      "text/plain": [
       "(3, 4)"
      ]
     },
     "execution_count": 38,
     "metadata": {},
     "output_type": "execute_result"
    }
   ],
   "source": [
    "arr.shape"
   ]
  },
  {
   "cell_type": "code",
   "execution_count": 39,
   "id": "a3cabc3b",
   "metadata": {},
   "outputs": [
    {
     "data": {
      "text/plain": [
       "array([[[1, 2, 3],\n",
       "        [4, 7, 8]],\n",
       "\n",
       "       [[9, 7, 4],\n",
       "        [5, 3, 2]]])"
      ]
     },
     "execution_count": 39,
     "metadata": {},
     "output_type": "execute_result"
    }
   ],
   "source": [
    "newarr = arr.reshape(2,2,3)\n",
    "newarr"
   ]
  },
  {
   "cell_type": "code",
   "execution_count": 40,
   "id": "69419f04",
   "metadata": {},
   "outputs": [
    {
     "data": {
      "text/plain": [
       "(2, 2, 3)"
      ]
     },
     "execution_count": 40,
     "metadata": {},
     "output_type": "execute_result"
    }
   ],
   "source": [
    "newarr.shape"
   ]
  },
  {
   "cell_type": "markdown",
   "id": "48dd8ad5",
   "metadata": {},
   "source": [
    "- **Flatten array:** We can use flatten method to get a copy of array collapsed into one dimension. It accepts order argument. Default value is ‘C’ (for row-major order). Use ‘F’ for column major order."
   ]
  },
  {
   "cell_type": "code",
   "execution_count": 41,
   "id": "5b807f3f",
   "metadata": {},
   "outputs": [
    {
     "data": {
      "text/plain": [
       "array([[1, 2, 3],\n",
       "       [7, 8, 9]])"
      ]
     },
     "execution_count": 41,
     "metadata": {},
     "output_type": "execute_result"
    }
   ],
   "source": [
    "#Flatten array\n",
    "arr = np.array([[1,2,3], [7,8,9]])\n",
    "arr"
   ]
  },
  {
   "cell_type": "code",
   "execution_count": 42,
   "id": "74ec7db3",
   "metadata": {},
   "outputs": [
    {
     "data": {
      "text/plain": [
       "array([1, 2, 3, 7, 8, 9])"
      ]
     },
     "execution_count": 42,
     "metadata": {},
     "output_type": "execute_result"
    }
   ],
   "source": [
    "flarr = arr.flatten()\n",
    "flarr"
   ]
  },
  {
   "cell_type": "markdown",
   "id": "7902fada",
   "metadata": {},
   "source": [
    "- **Array Indexing:** Knowing the basics of array indexing is important for analysing and manipulating the array object. NumPy offers many ways to do array indexing.\n",
    "\n",
    "- **Slicing:** Just like lists in python, NumPy arrays can be sliced. As arrays can be multidimensional, you need to specify a slice for each dimension of the array.\n",
    "- **Integer array indexing:** In this method, lists are passed for indexing for each dimension. One to one mapping of corresponding elements is done to construct a new arbitrary array.\n",
    "- **Boolean array indexing:** This method is used when we want to pick elements from array which satisfy some condition."
   ]
  },
  {
   "cell_type": "code",
   "execution_count": 58,
   "id": "43c63c25",
   "metadata": {},
   "outputs": [
    {
     "data": {
      "text/plain": [
       "array([[  -2. ,    4. ,    7. ,    0. ],\n",
       "       [   2. ,    0. ,    3. ,    4. ],\n",
       "       [   3.4, -555. ,    9. ,    7. ],\n",
       "       [  -3. ,   -4. ,    0. ,    5. ]])"
      ]
     },
     "execution_count": 58,
     "metadata": {},
     "output_type": "execute_result"
    }
   ],
   "source": [
    "#indexing in numpy\n",
    "arr = np.array([[-2, 4,7, 0], [2,0,3,4], [3.4, -555, 9, 7], [-3, -4, 0, 5]])\n",
    "arr"
   ]
  },
  {
   "cell_type": "code",
   "execution_count": 49,
   "id": "2c461c9e",
   "metadata": {},
   "outputs": [
    {
     "data": {
      "text/plain": [
       "array([[-2.,  7.],\n",
       "       [ 2.,  3.]])"
      ]
     },
     "execution_count": 49,
     "metadata": {},
     "output_type": "execute_result"
    }
   ],
   "source": [
    "#slicing array\n",
    "temp = arr[:2, ::2]\n",
    "temp"
   ]
  },
  {
   "cell_type": "code",
   "execution_count": 52,
   "id": "260e7ec9",
   "metadata": {},
   "outputs": [
    {
     "data": {
      "text/plain": [
       "array([[ 5. ,  0. , -4. , -3. ],\n",
       "       [ 7. ,  9. , -5. ,  3.4],\n",
       "       [ 4. ,  3. ,  0. ,  2. ],\n",
       "       [ 0. ,  7. ,  4. , -2. ]])"
      ]
     },
     "execution_count": 52,
     "metadata": {},
     "output_type": "execute_result"
    }
   ],
   "source": [
    "arr1 = arr[::-1, ::-1]#reversing array\n",
    "arr1"
   ]
  },
  {
   "cell_type": "code",
   "execution_count": 59,
   "id": "00cf3285",
   "metadata": {},
   "outputs": [
    {
     "data": {
      "text/plain": [
       "array([  -2.,    3., -555.,   -3.])"
      ]
     },
     "execution_count": 59,
     "metadata": {},
     "output_type": "execute_result"
    }
   ],
   "source": [
    "#integer array indexing example\n",
    "temp = arr[[0,1,2,3], [0,2,1,0]]\n",
    "temp"
   ]
  },
  {
   "cell_type": "code",
   "execution_count": 60,
   "id": "a783f6a2",
   "metadata": {},
   "outputs": [
    {
     "data": {
      "text/plain": [
       "array([4. , 7. , 2. , 3. , 4. , 3.4, 9. , 7. , 5. ])"
      ]
     },
     "execution_count": 60,
     "metadata": {},
     "output_type": "execute_result"
    }
   ],
   "source": [
    "#boolen array indexing\n",
    "cond = arr>0\n",
    "temp = arr[cond]\n",
    "temp"
   ]
  },
  {
   "cell_type": "markdown",
   "id": "7d9ffa3c",
   "metadata": {},
   "source": [
    "- **Basic operations:** Plethora of built-in arithmetic functions are provided in NumPy.\n",
    "\n",
    "- **Operations on single array:** We can use overloaded arithmetic operators to do element-wise operation on array to create a new array. In case of +=, -=, *= operators, the existing array is modified."
   ]
  },
  {
   "cell_type": "code",
   "execution_count": 62,
   "id": "ea3e99e8",
   "metadata": {},
   "outputs": [
    {
     "data": {
      "text/plain": [
       "array([1, 2, 3, 4])"
      ]
     },
     "execution_count": 62,
     "metadata": {},
     "output_type": "execute_result"
    }
   ],
   "source": [
    "#basic operation on single array\n",
    "\n",
    "a =np.array([1,2,3,4])\n",
    "a"
   ]
  },
  {
   "cell_type": "code",
   "execution_count": 63,
   "id": "9df76a0d",
   "metadata": {},
   "outputs": [
    {
     "data": {
      "text/plain": [
       "array([2, 3, 4, 5])"
      ]
     },
     "execution_count": 63,
     "metadata": {},
     "output_type": "execute_result"
    }
   ],
   "source": [
    "#add 1 to every element\n",
    "a1 = a+1\n",
    "a1"
   ]
  },
  {
   "cell_type": "code",
   "execution_count": 64,
   "id": "1c9b93d1",
   "metadata": {},
   "outputs": [
    {
     "data": {
      "text/plain": [
       "array([-2, -1,  0,  1])"
      ]
     },
     "execution_count": 64,
     "metadata": {},
     "output_type": "execute_result"
    }
   ],
   "source": [
    "#subtract 3 from each element\n",
    "a2 = a-3\n",
    "a2"
   ]
  },
  {
   "cell_type": "code",
   "execution_count": 65,
   "id": "b56e6958",
   "metadata": {},
   "outputs": [
    {
     "data": {
      "text/plain": [
       "array([10, 20, 30, 40])"
      ]
     },
     "execution_count": 65,
     "metadata": {},
     "output_type": "execute_result"
    }
   ],
   "source": [
    "#multiply each element by 10\n",
    "a3 = a*10\n",
    "a3"
   ]
  },
  {
   "cell_type": "code",
   "execution_count": 66,
   "id": "cf24da10",
   "metadata": {},
   "outputs": [
    {
     "data": {
      "text/plain": [
       "array([ 1,  4,  9, 16], dtype=int32)"
      ]
     },
     "execution_count": 66,
     "metadata": {},
     "output_type": "execute_result"
    }
   ],
   "source": [
    "#square each element\n",
    "a4 = a**2\n",
    "a4"
   ]
  },
  {
   "cell_type": "code",
   "execution_count": 67,
   "id": "45539640",
   "metadata": {},
   "outputs": [
    {
     "data": {
      "text/plain": [
       "array([2, 4, 6, 8])"
      ]
     },
     "execution_count": 67,
     "metadata": {},
     "output_type": "execute_result"
    }
   ],
   "source": [
    "#modifying existing array\n",
    "a*=2\n",
    "a"
   ]
  },
  {
   "cell_type": "code",
   "execution_count": 70,
   "id": "5bfa1a65",
   "metadata": {},
   "outputs": [
    {
     "data": {
      "text/plain": [
       "array([[ 1,  2,  3],\n",
       "       [33,  4,  5],\n",
       "       [ 7,  8,  9]])"
      ]
     },
     "execution_count": 70,
     "metadata": {},
     "output_type": "execute_result"
    }
   ],
   "source": [
    "#transpose of array\n",
    "a = np.array([[1,2,3], [33,4,5], [7,8,9]])\n",
    "a"
   ]
  },
  {
   "cell_type": "code",
   "execution_count": 72,
   "id": "28564781",
   "metadata": {},
   "outputs": [
    {
     "data": {
      "text/plain": [
       "array([[ 1, 33,  7],\n",
       "       [ 2,  4,  8],\n",
       "       [ 3,  5,  9]])"
      ]
     },
     "execution_count": 72,
     "metadata": {},
     "output_type": "execute_result"
    }
   ],
   "source": [
    "a1= a.T\n",
    "a1"
   ]
  },
  {
   "cell_type": "markdown",
   "id": "55a575c6",
   "metadata": {},
   "source": [
    "- **Unary operators:** Many unary operations are provided as a method of ndarray class. This includes sum, min, max, etc. These functions can also be applied row-wise or column-wise by setting an axis parameter."
   ]
  },
  {
   "cell_type": "code",
   "execution_count": 73,
   "id": "4fbe1372",
   "metadata": {},
   "outputs": [],
   "source": [
    "#unary operator in numpy\n",
    "arr = np.array([[1,3,4], [4,5,7], [9,8,7]])"
   ]
  },
  {
   "cell_type": "code",
   "execution_count": 74,
   "id": "acb165a3",
   "metadata": {},
   "outputs": [
    {
     "data": {
      "text/plain": [
       "9"
      ]
     },
     "execution_count": 74,
     "metadata": {},
     "output_type": "execute_result"
    }
   ],
   "source": [
    "#max element of arry\n",
    "arr.max()"
   ]
  },
  {
   "cell_type": "code",
   "execution_count": 78,
   "id": "123a556e",
   "metadata": {},
   "outputs": [
    {
     "name": "stdout",
     "output_type": "stream",
     "text": [
      "row wise maximum elements: [4 7 9]\n"
     ]
    }
   ],
   "source": [
    "print('row wise maximum elements:', arr.max(axis = 1))"
   ]
  },
  {
   "cell_type": "code",
   "execution_count": 79,
   "id": "78a5955c",
   "metadata": {},
   "outputs": [
    {
     "name": "stdout",
     "output_type": "stream",
     "text": [
      "column wise minmum elements: [1 3 4]\n"
     ]
    }
   ],
   "source": [
    "print('column wise minmum elements:', arr.min(axis=0))"
   ]
  },
  {
   "cell_type": "code",
   "execution_count": 80,
   "id": "2ae0a2e2",
   "metadata": {},
   "outputs": [
    {
     "data": {
      "text/plain": [
       "48"
      ]
     },
     "execution_count": 80,
     "metadata": {},
     "output_type": "execute_result"
    }
   ],
   "source": [
    "#sum array elements\n",
    "arr.sum()"
   ]
  },
  {
   "cell_type": "code",
   "execution_count": 81,
   "id": "907a809a",
   "metadata": {},
   "outputs": [
    {
     "data": {
      "text/plain": [
       "array([ 1,  4,  8, 12, 17, 24, 33, 41, 48], dtype=int32)"
      ]
     },
     "execution_count": 81,
     "metadata": {},
     "output_type": "execute_result"
    }
   ],
   "source": [
    "#cummulative sum along each row\n",
    "arr.cumsum()"
   ]
  },
  {
   "cell_type": "markdown",
   "id": "d8381907",
   "metadata": {},
   "source": [
    "- **Binary operators:** These operations apply on array elementwise and a new array is created. You can use all basic arithmetic operators like +, -, /, , etc. In case of +=, -=, = operators, the existing array is modified."
   ]
  },
  {
   "cell_type": "code",
   "execution_count": 86,
   "id": "b820df80",
   "metadata": {},
   "outputs": [],
   "source": [
    "a = np.array([[1,2], [3,4]])\n",
    "b = np.array([[3,4],[2,5]])"
   ]
  },
  {
   "cell_type": "code",
   "execution_count": 87,
   "id": "4620c74f",
   "metadata": {},
   "outputs": [
    {
     "data": {
      "text/plain": [
       "array([[4, 6],\n",
       "       [5, 9]])"
      ]
     },
     "execution_count": 87,
     "metadata": {},
     "output_type": "execute_result"
    }
   ],
   "source": [
    "#add arrays\n",
    "a+b"
   ]
  },
  {
   "cell_type": "code",
   "execution_count": 88,
   "id": "59fdc32d",
   "metadata": {},
   "outputs": [
    {
     "data": {
      "text/plain": [
       "array([[ 3,  8],\n",
       "       [ 6, 20]])"
      ]
     },
     "execution_count": 88,
     "metadata": {},
     "output_type": "execute_result"
    }
   ],
   "source": [
    "#multiply arrays\n",
    "a*b"
   ]
  },
  {
   "cell_type": "code",
   "execution_count": 89,
   "id": "d1e1d6bf",
   "metadata": {},
   "outputs": [
    {
     "data": {
      "text/plain": [
       "array([[ 7, 14],\n",
       "       [17, 32]])"
      ]
     },
     "execution_count": 89,
     "metadata": {},
     "output_type": "execute_result"
    }
   ],
   "source": [
    "#matrix multiplication\n",
    "a.dot(b)"
   ]
  },
  {
   "cell_type": "code",
   "execution_count": 91,
   "id": "9ee5e805",
   "metadata": {},
   "outputs": [
    {
     "data": {
      "text/plain": [
       "array([[4, 6],\n",
       "       [5, 9]])"
      ]
     },
     "execution_count": 91,
     "metadata": {},
     "output_type": "execute_result"
    }
   ],
   "source": [
    "z = np.add(a,b)\n",
    "z"
   ]
  },
  {
   "cell_type": "code",
   "execution_count": 92,
   "id": "dea79fd9",
   "metadata": {},
   "outputs": [
    {
     "data": {
      "text/plain": [
       "array([[-2, -2],\n",
       "       [ 1, -1]])"
      ]
     },
     "execution_count": 92,
     "metadata": {},
     "output_type": "execute_result"
    }
   ],
   "source": [
    "x = np.subtract(a,b)\n",
    "x"
   ]
  },
  {
   "cell_type": "markdown",
   "id": "3e3a2aa2",
   "metadata": {},
   "source": [
    "- **Universal functions (ufunc):** NumPy provides familiar mathematical functions such as sin, cos, exp, etc. These functions also operate elementwise on an array, producing an array as output.\n",
    "- Note: All the operations we did above using overloaded operators can be done using ufuncs like np.add, np.subtract, np.multiply, np.divide, np.sum, etc. "
   ]
  },
  {
   "cell_type": "code",
   "execution_count": 93,
   "id": "9a041d69",
   "metadata": {},
   "outputs": [
    {
     "data": {
      "text/plain": [
       "array([0.        , 1.57079633, 3.14159265])"
      ]
     },
     "execution_count": 93,
     "metadata": {},
     "output_type": "execute_result"
    }
   ],
   "source": [
    "#universal functions in numpy\n",
    "a = np.array([0, np.pi/2, np.pi])\n",
    "a"
   ]
  },
  {
   "cell_type": "code",
   "execution_count": 94,
   "id": "3a8c2852",
   "metadata": {},
   "outputs": [
    {
     "name": "stdout",
     "output_type": "stream",
     "text": [
      "sin values of array element [0.0000000e+00 1.0000000e+00 1.2246468e-16]\n"
     ]
    }
   ],
   "source": [
    "print('sin values of array element', np.sin(a))"
   ]
  },
  {
   "cell_type": "code",
   "execution_count": 95,
   "id": "b605ab0a",
   "metadata": {},
   "outputs": [
    {
     "name": "stdout",
     "output_type": "stream",
     "text": [
      "exponential of array elements: [ 1.          2.71828183  7.3890561  20.08553692]\n"
     ]
    }
   ],
   "source": [
    "#exponential values\n",
    "a = np.array([0,1,2,3])\n",
    "print('exponential of array elements:', np.exp(a))"
   ]
  },
  {
   "cell_type": "code",
   "execution_count": 96,
   "id": "a0755d61",
   "metadata": {},
   "outputs": [
    {
     "name": "stdout",
     "output_type": "stream",
     "text": [
      "square root of array values [0 1 4 9]\n"
     ]
    }
   ],
   "source": [
    "print('square root of array values', np.square(a))"
   ]
  },
  {
   "cell_type": "markdown",
   "id": "60d7d1a1",
   "metadata": {},
   "source": [
    "- **Sorting array:** There is a simple np.sort method for sorting NumPy arrays. Let’s explore it a bit."
   ]
  },
  {
   "cell_type": "code",
   "execution_count": 97,
   "id": "b8551ff1",
   "metadata": {},
   "outputs": [
    {
     "data": {
      "text/plain": [
       "array([[ 2,  3,  1],\n",
       "       [-2,  3, -4],\n",
       "       [ 7,  8,  9]])"
      ]
     },
     "execution_count": 97,
     "metadata": {},
     "output_type": "execute_result"
    }
   ],
   "source": [
    "a = np.array([[2,3,1], [-2, 3,-4], [7,8,9]])\n",
    "a"
   ]
  },
  {
   "cell_type": "code",
   "execution_count": 99,
   "id": "d104d02d",
   "metadata": {},
   "outputs": [
    {
     "data": {
      "text/plain": [
       "array([-4, -2,  1,  2,  3,  3,  7,  8,  9])"
      ]
     },
     "execution_count": 99,
     "metadata": {},
     "output_type": "execute_result"
    }
   ],
   "source": [
    "#sorted array\n",
    "np.sort(a, axis = None)"
   ]
  },
  {
   "cell_type": "code",
   "execution_count": 100,
   "id": "5da49927",
   "metadata": {},
   "outputs": [
    {
     "data": {
      "text/plain": [
       "array([[ 1,  2,  3],\n",
       "       [-4, -2,  3],\n",
       "       [ 7,  8,  9]])"
      ]
     },
     "execution_count": 100,
     "metadata": {},
     "output_type": "execute_result"
    }
   ],
   "source": [
    "#sort array row wise\n",
    "np.sort(a, axis = 1)"
   ]
  },
  {
   "cell_type": "code",
   "execution_count": 102,
   "id": "75f945f1",
   "metadata": {},
   "outputs": [
    {
     "data": {
      "text/plain": [
       "array([[ 2,  3,  1],\n",
       "       [-2,  3, -4],\n",
       "       [ 7,  8,  9]])"
      ]
     },
     "execution_count": 102,
     "metadata": {},
     "output_type": "execute_result"
    }
   ],
   "source": [
    "a"
   ]
  },
  {
   "cell_type": "code",
   "execution_count": 147,
   "id": "c738b0d3",
   "metadata": {},
   "outputs": [
    {
     "name": "stdout",
     "output_type": "stream",
     "text": [
      "column wise sor by applying merge-sort:\n",
      " [[1 2 3]\n",
      " [4 5 6]]\n"
     ]
    }
   ],
   "source": [
    "#specify sort algorithm\n",
    "print('column wise sor by applying merge-sort:\\n', np.sort(a,axis = 0, kind = 'mergesort'))"
   ]
  },
  {
   "cell_type": "code",
   "execution_count": 103,
   "id": "739961bd",
   "metadata": {},
   "outputs": [],
   "source": [
    "# Example to show sorting of structured array\n",
    "# set alias names for dtypes\n",
    "dtypes = [('name', 'S10'), ('grad_year', int), ('cgpa', float)]\n",
    " "
   ]
  },
  {
   "cell_type": "code",
   "execution_count": 104,
   "id": "ba82e975",
   "metadata": {},
   "outputs": [],
   "source": [
    "# Values to be put in array\n",
    "values = [('Hrithik', 2009, 8.5), ('Ajay', 2008, 8.7),\n",
    "           ('Pankaj', 2008, 7.9), ('Aakash', 2009, 9.0)]\n"
   ]
  },
  {
   "cell_type": "code",
   "execution_count": 105,
   "id": "a2b30913",
   "metadata": {},
   "outputs": [
    {
     "name": "stdout",
     "output_type": "stream",
     "text": [
      "\n",
      "Array sorted by names:\n",
      " [(b'Aakash', 2009, 9. ) (b'Ajay', 2008, 8.7) (b'Hrithik', 2009, 8.5)\n",
      " (b'Pankaj', 2008, 7.9)]\n"
     ]
    }
   ],
   "source": [
    "            \n",
    "# Creating array\n",
    "arr = np.array(values, dtype = dtypes)\n",
    "print (\"\\nArray sorted by names:\\n\",\n",
    "            np.sort(arr, order = 'name'))\n",
    "  "
   ]
  },
  {
   "cell_type": "code",
   "execution_count": 106,
   "id": "ae50d9b0",
   "metadata": {},
   "outputs": [
    {
     "name": "stdout",
     "output_type": "stream",
     "text": [
      "Array sorted by graduation year and then cgpa:\n",
      " [(b'Pankaj', 2008, 7.9) (b'Ajay', 2008, 8.7) (b'Hrithik', 2009, 8.5)\n",
      " (b'Aakash', 2009, 9. )]\n"
     ]
    }
   ],
   "source": [
    "           \n",
    "print (\"Array sorted by graduation year and then cgpa:\\n\",\n",
    "                np.sort(arr, order = ['grad_year', 'cgpa']))"
   ]
  },
  {
   "cell_type": "markdown",
   "id": "077effea",
   "metadata": {},
   "source": [
    "## NumPy array in Python\n",
    "\n",
    "- Python lists are a substitute for arrays, but they fail to deliver the performance required while computing large sets of numerical data. To address this issue we use a python library called NumPy. The word NumPy stands for Numerical Python. NumPy offers an array object called ndarray. They are similar to standard python sequences but differ in certain key factors.\n",
    "\n",
    "## NumPy arrays vs inbuilt Python sequences\n",
    "- Unlike lists, NumPy arrays are of fixed size, and changing the size of an array will lead to the creation of a new array while the original array will be deleted.\n",
    "- All the elements in an array are of the same type.\n",
    "- Numpy arrays are faster, more efficient, and require less syntax than standard python sequences.\n",
    "- Note: Various scientific and mathematical Python-based packages use Numpy. They might take input as an inbuilt Python sequence but they are likely to convert the data into a NumPy array in order to attain faster processing. This explains the need to understand NumPy.\n",
    "\n",
    "## Why is Numpy so fast?\n",
    "- Numpy arrays are written mostly in C language. Being written in C, the NumPy arrays are stored in contiguous memory locations which makes them accessible and easier to manipulate. This means that you can get the performance level of a C code with the ease of writing a python program."
   ]
  },
  {
   "cell_type": "markdown",
   "id": "2ad40cdd",
   "metadata": {},
   "source": [
    "## Basics of NumPy Arrays\n",
    "\n",
    "- NumPy stands for Numerical Python. It is a Python library used for working with an array. In Python, we use the list for purpose of the array but it’s slow to process. NumPy array is a powerful N-dimensional array object and its use in linear algebra, Fourier transform, and random number capabilities. It provides an array object much faster than traditional Python lists.\n",
    "\n",
    "## Types of Array:\n",
    "- One Dimensional Array\n",
    "- Multi-Dimensional Array"
   ]
  },
  {
   "cell_type": "code",
   "execution_count": 118,
   "id": "0bea1851",
   "metadata": {},
   "outputs": [
    {
     "data": {
      "text/plain": [
       "array([1, 2, 3, 4])"
      ]
     },
     "execution_count": 118,
     "metadata": {},
     "output_type": "execute_result"
    }
   ],
   "source": [
    "#one dimensional array\n",
    "\n",
    "lst = [1,2,3,4]\n",
    "arr = np.array(lst)\n",
    "arr"
   ]
  },
  {
   "cell_type": "code",
   "execution_count": 119,
   "id": "f0050943",
   "metadata": {},
   "outputs": [
    {
     "data": {
      "text/plain": [
       "numpy.ndarray"
      ]
     },
     "execution_count": 119,
     "metadata": {},
     "output_type": "execute_result"
    }
   ],
   "source": [
    "type(arr)"
   ]
  },
  {
   "cell_type": "code",
   "execution_count": 121,
   "id": "f682635e",
   "metadata": {},
   "outputs": [
    {
     "data": {
      "text/plain": [
       "array([[1, 2, 3, 4],\n",
       "       [7, 8, 9, 2],\n",
       "       [3, 4, 5, 7]])"
      ]
     },
     "execution_count": 121,
     "metadata": {},
     "output_type": "execute_result"
    }
   ],
   "source": [
    "#Multi-Dimensional Array:\n",
    "#Data in multidimensional arrays are stored in tabular form.\n",
    "#creating list\n",
    "\n",
    "l1 = [1,2,3,4]\n",
    "l2 = [7,8,9,2]\n",
    "l3 = [3,4,5,7]\n",
    "arr = np.array([l1,l2,l3])\n",
    "arr"
   ]
  },
  {
   "cell_type": "markdown",
   "id": "c0fd0ec6",
   "metadata": {},
   "source": [
    "- Note: use [ ] operators inside numpy.array() for multi-dimensional"
   ]
  },
  {
   "cell_type": "markdown",
   "id": "531eb8a1",
   "metadata": {},
   "source": [
    "## Some different way of creating Numpy Array :\n",
    "\n",
    "- numpy.fromiter(): The fromiter() function create a new one-dimensional array from an iterable object.\n",
    "\n",
    "- Syntax: numpy.fromiter(iterable, dtype, count=-1)"
   ]
  },
  {
   "cell_type": "code",
   "execution_count": 128,
   "id": "4ed727cf",
   "metadata": {},
   "outputs": [
    {
     "data": {
      "text/plain": [
       "[0, 1, 4, 9, 16, 25, 36, 49]"
      ]
     },
     "execution_count": 128,
     "metadata": {},
     "output_type": "execute_result"
    }
   ],
   "source": [
    "iterable = (a*a for a in range(8))\n",
    "list(iterable)"
   ]
  },
  {
   "cell_type": "code",
   "execution_count": 125,
   "id": "c1ad8018",
   "metadata": {},
   "outputs": [
    {
     "name": "stdout",
     "output_type": "stream",
     "text": [
      "fromiter() array : [ 0.  1.  4.  9. 16. 25. 36. 49.]\n"
     ]
    }
   ],
   "source": [
    "arr = np.fromiter(iterable, float)\n",
    " \n",
    "print(\"fromiter() array :\",arr)"
   ]
  },
  {
   "cell_type": "code",
   "execution_count": 131,
   "id": "10bc5cba",
   "metadata": {},
   "outputs": [
    {
     "data": {
      "text/plain": [
       "array(['r', 'a', 'j', 'u', 'k', 'a', 'l', 'y', 'a', 'n'], dtype='<U2')"
      ]
     },
     "execution_count": 131,
     "metadata": {},
     "output_type": "execute_result"
    }
   ],
   "source": [
    "var = 'rajukalyan'\n",
    "arr = np.fromiter(var, dtype = 'U2')\n",
    "arr"
   ]
  },
  {
   "cell_type": "markdown",
   "id": "a15151b3",
   "metadata": {},
   "source": [
    "- numpy.arange(): This is an inbuilt NumPy function that returns evenly spaced values within a given interval.\n",
    "\n",
    "- Syntax: numpy.arange([start, ]stop, [step, ]dtype=None)"
   ]
  },
  {
   "cell_type": "code",
   "execution_count": 133,
   "id": "81449a8b",
   "metadata": {},
   "outputs": [
    {
     "data": {
      "text/plain": [
       "array([ 1.,  3.,  5.,  7.,  9., 11., 13., 15., 17., 19.], dtype=float32)"
      ]
     },
     "execution_count": 133,
     "metadata": {},
     "output_type": "execute_result"
    }
   ],
   "source": [
    "arr = np.arange(1,20,2, dtype = np.float32)\n",
    "arr"
   ]
  },
  {
   "cell_type": "markdown",
   "id": "245aa517",
   "metadata": {},
   "source": [
    "- numpy.linspace(): This function returns evenly spaced numbers over a specified between two limits. \n",
    "\n",
    "- Syntax: numpy.linspace(start, stop, num=50, endpoint=True, retstep=False, dtype=None, axis=0)"
   ]
  },
  {
   "cell_type": "code",
   "execution_count": 135,
   "id": "e846017f",
   "metadata": {},
   "outputs": [
    {
     "data": {
      "text/plain": [
       "array([ 3.5 ,  6.75, 10.  ])"
      ]
     },
     "execution_count": 135,
     "metadata": {},
     "output_type": "execute_result"
    }
   ],
   "source": [
    "arr = np.linspace(3.5, 10, 3)\n",
    "arr"
   ]
  },
  {
   "cell_type": "code",
   "execution_count": 137,
   "id": "ad6e3a6d",
   "metadata": {},
   "outputs": [
    {
     "data": {
      "text/plain": [
       "array([ 3,  6, 10])"
      ]
     },
     "execution_count": 137,
     "metadata": {},
     "output_type": "execute_result"
    }
   ],
   "source": [
    "arr = np.linspace(3.5, 10, 3, dtype = np.int32)\n",
    "arr"
   ]
  },
  {
   "cell_type": "markdown",
   "id": "653fc342",
   "metadata": {},
   "source": [
    "- numpy.empty(): This function create a new array of given shape and type, without initializing value.\n",
    "\n",
    "- Syntax: numpy.empty(shape, dtype=float, order=’C’)"
   ]
  },
  {
   "cell_type": "code",
   "execution_count": 140,
   "id": "074d681f",
   "metadata": {},
   "outputs": [
    {
     "data": {
      "text/plain": [
       "array([[0, 0, 0],\n",
       "       [0, 0, 0],\n",
       "       [0, 0, 0],\n",
       "       [0, 0, 0]])"
      ]
     },
     "execution_count": 140,
     "metadata": {},
     "output_type": "execute_result"
    }
   ],
   "source": [
    "np.empty([4,3], dtype = np.int32, order = 'f')"
   ]
  },
  {
   "cell_type": "code",
   "execution_count": 139,
   "id": "3ff82d5a",
   "metadata": {},
   "outputs": [
    {
     "data": {
      "text/plain": [
       "array([[0, 0, 0],\n",
       "       [0, 0, 0],\n",
       "       [0, 0, 0],\n",
       "       [0, 0, 0]])"
      ]
     },
     "execution_count": 139,
     "metadata": {},
     "output_type": "execute_result"
    }
   ],
   "source": [
    "np.empty([4, 3],\n",
    "         dtype = np.int32,\n",
    "         order = 'f')"
   ]
  },
  {
   "cell_type": "markdown",
   "id": "253fd76c",
   "metadata": {},
   "source": [
    "- numpy.ones(): This function is used to get a new array of given shape and type, filled with ones(1).\n",
    "\n",
    "- Syntax: numpy.ones(shape, dtype=None, order=’C’)"
   ]
  },
  {
   "cell_type": "code",
   "execution_count": 142,
   "id": "5934e1e4",
   "metadata": {},
   "outputs": [
    {
     "data": {
      "text/plain": [
       "array([[1, 1, 1],\n",
       "       [1, 1, 1],\n",
       "       [1, 1, 1],\n",
       "       [1, 1, 1]])"
      ]
     },
     "execution_count": 142,
     "metadata": {},
     "output_type": "execute_result"
    }
   ],
   "source": [
    "np.ones([4,3], dtype = np.int32, order = 'f')"
   ]
  },
  {
   "cell_type": "markdown",
   "id": "08d58319",
   "metadata": {},
   "source": [
    "- numpy.zeros(): This function is used to get a new array of given shape and type, filled with zeros(0). \n",
    "\n",
    "- Syntax: numpy.ones(shape, dtype=None)"
   ]
  },
  {
   "cell_type": "code",
   "execution_count": 143,
   "id": "d3842158",
   "metadata": {},
   "outputs": [
    {
     "data": {
      "text/plain": [
       "array([[0, 0, 0],\n",
       "       [0, 0, 0],\n",
       "       [0, 0, 0],\n",
       "       [0, 0, 0]])"
      ]
     },
     "execution_count": 143,
     "metadata": {},
     "output_type": "execute_result"
    }
   ],
   "source": [
    "np.zeros([4,3], dtype = np.int32, order = 'f')"
   ]
  },
  {
   "cell_type": "markdown",
   "id": "04a57079",
   "metadata": {},
   "source": [
    "## Python Lists VS Numpy Arrays\n",
    "\n",
    "- NumPy is the fundamental package for scientific computing in Python. NumPy arrays facilitate advanced mathematical and other types of operations on large numbers of data. Typically, such operations are executed more efficiently and with less code than is possible using Python’s built-in sequences. NumPy is not another programming language but a Python extension module. It provides fast and efficient operations on arrays of homogeneous data.\n",
    "\n",
    "## Some important points about Numpy arrays:\n",
    "\n",
    "- We can create a N-dimensional array in python using numpy.array().\n",
    "- Array are by default Homogeneous, which means data inside an array must be of the same Datatype. (Note you can also create a structured array in python).\n",
    "- Element wise operation is possible.\n",
    "- Numpy array has the various function, methods, and variables, to ease our task of matrix computation.\n",
    "- Elements of an array are stored contiguously in memory. For example, all rows of a two dimensioned array must have the same number of columns. Or a three dimensioned array must have the same number of rows and columns on each card."
   ]
  },
  {
   "cell_type": "code",
   "execution_count": 145,
   "id": "c5b654fa",
   "metadata": {},
   "outputs": [
    {
     "name": "stdout",
     "output_type": "stream",
     "text": [
      "[1 2 3]\n"
     ]
    }
   ],
   "source": [
    "# Single Dimensional Numpy Array;\n",
    "  \n",
    "a = np.array([1, 2, 3])\n",
    "print(a)"
   ]
  },
  {
   "cell_type": "code",
   "execution_count": 146,
   "id": "14ae4cf7",
   "metadata": {},
   "outputs": [
    {
     "name": "stdout",
     "output_type": "stream",
     "text": [
      "[[1 2 3]\n",
      " [4 5 6]]\n"
     ]
    }
   ],
   "source": [
    "#Multi-dimensional Numpy Array:\n",
    "  \n",
    "a = np.array([(1, 2, 3), (4, 5, 6)])\n",
    "print(a)"
   ]
  },
  {
   "cell_type": "markdown",
   "id": "6472449b",
   "metadata": {},
   "source": [
    "## Advantages of using Numpy Arrays Over Python Lists:\n",
    "\n",
    "- consumes less memory.\n",
    "- fast as compared to the python List.\n",
    "- convenient to use.\n",
    "## List: A list is a collection which is ordered and changeable. In Python, lists are written with square brackets.\n",
    "\n",
    "## Some important points about Python Lists:\n",
    "\n",
    "- The list can be homogeneous or heterogeneous.\n",
    "- Element wise operation is not possible on the list.\n",
    "- Python list is by default 1 dimensional. But we can create an N-Dimensional list. But then too it will be 1 D list storing another 1D list\n",
    "- Elements of a list need not be contiguous in memory.\n",
    "- Below are some examples which clearly demonstrate how Numpy arrays are better than Python lists by analyzing the memory consumption, execution time comparison, and operations supported by both of them."
   ]
  },
  {
   "cell_type": "markdown",
   "id": "3e2777d3",
   "metadata": {},
   "source": [
    "## Example 1: Memory consumption between Numpy array and lists\n",
    "- In this example, a Python list and a Numpy array of size 1000 will be created. The size of each element and then the whole size of both the containers will be calculated and comparison will be done in terms of memory consumption."
   ]
  },
  {
   "cell_type": "code",
   "execution_count": 150,
   "id": "bd72b999",
   "metadata": {},
   "outputs": [],
   "source": [
    "import numpy as np\n",
    "import sys"
   ]
  },
  {
   "cell_type": "code",
   "execution_count": 151,
   "id": "466ba037",
   "metadata": {},
   "outputs": [],
   "source": [
    "#declaring list of 1000 elements\n",
    "S = range(1000)"
   ]
  },
  {
   "cell_type": "code",
   "execution_count": 152,
   "id": "f64bf2cc",
   "metadata": {},
   "outputs": [
    {
     "name": "stdout",
     "output_type": "stream",
     "text": [
      "size of each element of list in bytes 48\n"
     ]
    }
   ],
   "source": [
    "print('size of each element of list in bytes', sys.getsizeof(S))"
   ]
  },
  {
   "cell_type": "code",
   "execution_count": 153,
   "id": "a83f2240",
   "metadata": {},
   "outputs": [
    {
     "name": "stdout",
     "output_type": "stream",
     "text": [
      "size of whole list in bytes: 48000\n"
     ]
    }
   ],
   "source": [
    "print('size of whole list in bytes:', sys.getsizeof(S)*len(S))"
   ]
  },
  {
   "cell_type": "code",
   "execution_count": 154,
   "id": "8debef3e",
   "metadata": {},
   "outputs": [],
   "source": [
    "#declaring numpy array of 1000 elements\n",
    "D = np.arange(1000)"
   ]
  },
  {
   "cell_type": "code",
   "execution_count": 155,
   "id": "be52ba5b",
   "metadata": {},
   "outputs": [
    {
     "name": "stdout",
     "output_type": "stream",
     "text": [
      "size of each element of the numpy array in bytes: 4\n"
     ]
    }
   ],
   "source": [
    "print('size of each element of the numpy array in bytes:', D.itemsize)"
   ]
  },
  {
   "cell_type": "code",
   "execution_count": 156,
   "id": "4227082d",
   "metadata": {},
   "outputs": [
    {
     "name": "stdout",
     "output_type": "stream",
     "text": [
      "size of the whole numpy array in bytes: 4000\n"
     ]
    }
   ],
   "source": [
    "print('size of the whole numpy array in bytes:', D.size*D.itemsize)"
   ]
  },
  {
   "cell_type": "markdown",
   "id": "89e7a463",
   "metadata": {},
   "source": [
    "## Example 2: Time comparison between Numpy array and Python lists\n",
    "- In this example, 2 Python lists and 2 Numpy arrays will be created and each container has 1000000 elements. Multiplication of elements in both the lists and Numpy arrays respectively will be carried out and the difference in time needed for the execution for both the containers will be analyzed to determine which one takes less time to perform the operation."
   ]
  },
  {
   "cell_type": "code",
   "execution_count": 2,
   "id": "0b773f49",
   "metadata": {},
   "outputs": [],
   "source": [
    "import numpy as np\n",
    "import time\n",
    "#size of array and list\n",
    "size = 1000000\n",
    "#declaring list\n",
    "list1 = range(size)\n",
    "list2 = range(size)\n",
    "\n",
    "#declaring arrays\n",
    "array1 = np.arange(size)\n",
    "array2 = np.arange(size)"
   ]
  },
  {
   "cell_type": "code",
   "execution_count": 8,
   "id": "ab30f313",
   "metadata": {},
   "outputs": [
    {
     "name": "stdout",
     "output_type": "stream",
     "text": [
      "Time taken by lists to perform multiplication: 0.18584036827087402 seconds\n"
     ]
    }
   ],
   "source": [
    "#capturing time before the multiplication of python list\n",
    "initialTime = time.time()\n",
    "\n",
    "#multiply elements of both the lists and stored in another list\n",
    "resultantList = [(a*b) for a,b in zip(list1, list2)]\n",
    "#calculating excution time\n",
    "print('Time taken by lists to perform multiplication:', (time.time() - initialTime), 'seconds')"
   ]
  },
  {
   "cell_type": "code",
   "execution_count": 10,
   "id": "5f1e1762",
   "metadata": {},
   "outputs": [
    {
     "name": "stdout",
     "output_type": "stream",
     "text": [
      "Time taken by numpy arrays to perform multiplication: 0.002998828887939453 seconds\n"
     ]
    }
   ],
   "source": [
    "#capturing time before the multiplication of Numpy arrays\n",
    "initialTime = time.time()\n",
    "#multiplying elements of both the numpy arrays and stored in another numpy array\n",
    "resultantArray = array1*array2\n",
    "#calculating the execution time\n",
    "print('Time taken by numpy arrays to perform multiplication:', (time.time()-initialTime), 'seconds')"
   ]
  },
  {
   "cell_type": "markdown",
   "id": "1141b53d",
   "metadata": {},
   "source": [
    "## Example 3: Effect of operations on Numpy array and Python Lists\n",
    "- In this example, the incapability of the Python list to carry out a basic operation is demonstrated. A Python list and a Numpy array having the same elements will be declared and an integer will be added to increment each element of the container by that integer value without looping statements. The effect of this operation on the Numpy array and Python list will be analyzed."
   ]
  },
  {
   "cell_type": "code",
   "execution_count": 11,
   "id": "aa8afb50",
   "metadata": {},
   "outputs": [
    {
     "name": "stdout",
     "output_type": "stream",
     "text": [
      "List dont support list+int\n"
     ]
    }
   ],
   "source": [
    "#declaring a list\n",
    "ls = [1,2,3,4]\n",
    "#converting list to numpy array\n",
    "arr = np.array(ls)\n",
    "try:\n",
    "    #adding 4 to each element of list\n",
    "    ls = ls+4\n",
    "except(TypeError):\n",
    "    print('List dont support list+int')\n"
   ]
  },
  {
   "cell_type": "code",
   "execution_count": 12,
   "id": "28e0fbbb",
   "metadata": {},
   "outputs": [
    {
     "name": "stdout",
     "output_type": "stream",
     "text": [
      "modified numpy array [5 6 7 8]\n"
     ]
    }
   ],
   "source": [
    "#now on array\n",
    "try:\n",
    "    #adding 4 to each element of numpy array\n",
    "    arr = arr+4\n",
    "    #printing the numpy array\n",
    "    print(\"modified numpy array\", arr)\n",
    "except(TypeError):\n",
    "    print('numpy arrays dont support list+int')"
   ]
  },
  {
   "cell_type": "markdown",
   "id": "43a4dc4c",
   "metadata": {},
   "source": [
    "## How to create a vector in Python using NumPy\n",
    "\n",
    "- Vector are built from components, which are ordinary numbers. We can think of a vector as a list of numbers, and vector algebra as operations performed on the numbers in the list. In other words vector is the numpy 1-D array.\n",
    "\n",
    "- In order to create a vector, we use np.array method. \n",
    "\n",
    "- Syntax : np.array(list)\n",
    "- Argument : It take 1-D list it can be 1 row and n columns or n rows and 1 column\n",
    "- Return : It returns vector which is numpy.ndarray\n",
    "\n",
    "\n",
    "- Note: We can create vector with other method as well which return 1-D numpy array for example np.arange(10), np.zeros((4, 1)) gives 1-D array, but most appropriate way is using np.array with the 1-D list."
   ]
  },
  {
   "cell_type": "code",
   "execution_count": null,
   "id": "497c2f9b",
   "metadata": {},
   "outputs": [],
   "source": [
    "#creating a 1-D list(horizontal)\n",
    "list1 = [1,2,3]"
   ]
  },
  {
   "cell_type": "code",
   "execution_count": null,
   "id": "03cb25d5",
   "metadata": {},
   "outputs": [],
   "source": [
    "#creating a 1-D list(vertical)\n",
    "\n",
    "list2 = [[10],\n",
    "        [11],\n",
    "        [12]]"
   ]
  },
  {
   "cell_type": "code",
   "execution_count": 9,
   "id": "ee4ccf33",
   "metadata": {},
   "outputs": [
    {
     "name": "stdout",
     "output_type": "stream",
     "text": [
      "Horizontal Vector\n",
      "[1 2 3]\n"
     ]
    }
   ],
   "source": [
    "#creating a vector1 ...vector as row\n",
    "import numpy as np\n",
    "vector1 = np.array(list1)\n",
    "print('Horizontal Vector')\n",
    "print(vector1)"
   ]
  },
  {
   "cell_type": "code",
   "execution_count": 7,
   "id": "ea4cbe95",
   "metadata": {},
   "outputs": [
    {
     "name": "stdout",
     "output_type": "stream",
     "text": [
      "Vertical Vector\n",
      "[[10]\n",
      " [11]\n",
      " [12]]\n"
     ]
    }
   ],
   "source": [
    "#creating a vector 2 ......vector as column\n",
    "vector2 = np.array(list2)\n",
    "print('Vertical Vector')\n",
    "print(vector2)"
   ]
  },
  {
   "cell_type": "markdown",
   "id": "eebe2222",
   "metadata": {},
   "source": [
    "## Basic Arithmetic operation: \n",
    "- In this example we will see do arithmetic operations which are element-wise between two vectors of equal length to result in a new vector with the same length "
   ]
  },
  {
   "cell_type": "code",
   "execution_count": 22,
   "id": "2c68caaf",
   "metadata": {},
   "outputs": [],
   "source": [
    "#creating a 1-D list (horizontal)\n",
    "l1 = [1,2,3]\n",
    "l2 = [8,9,10]"
   ]
  },
  {
   "cell_type": "code",
   "execution_count": 23,
   "id": "58d9698b",
   "metadata": {},
   "outputs": [],
   "source": [
    "#creating a 1st vector\n",
    "v1 = np.array(l1)"
   ]
  },
  {
   "cell_type": "code",
   "execution_count": 24,
   "id": "05907ecc",
   "metadata": {},
   "outputs": [
    {
     "name": "stdout",
     "output_type": "stream",
     "text": [
      "showing 1st vector:[1 2 3]\n"
     ]
    }
   ],
   "source": [
    "print('showing 1st vector:'  + str(v1))"
   ]
  },
  {
   "cell_type": "code",
   "execution_count": 25,
   "id": "35a5ae3e",
   "metadata": {},
   "outputs": [],
   "source": [
    "v2 = np.array(l2)"
   ]
  },
  {
   "cell_type": "code",
   "execution_count": 26,
   "id": "d26ca728",
   "metadata": {},
   "outputs": [
    {
     "name": "stdout",
     "output_type": "stream",
     "text": [
      "2nd vector:[ 8  9 10]\n"
     ]
    }
   ],
   "source": [
    "print('2nd vector:' + str(v2))"
   ]
  },
  {
   "cell_type": "code",
   "execution_count": 27,
   "id": "040f09bb",
   "metadata": {},
   "outputs": [],
   "source": [
    "#adding both vectors\n",
    "add1 = v1+v2\n"
   ]
  },
  {
   "cell_type": "code",
   "execution_count": 28,
   "id": "ca88be97",
   "metadata": {},
   "outputs": [
    {
     "name": "stdout",
     "output_type": "stream",
     "text": [
      "vector addition:[ 9 11 13]\n"
     ]
    }
   ],
   "source": [
    "print('vector addition:' + str(add1))"
   ]
  },
  {
   "cell_type": "code",
   "execution_count": 29,
   "id": "caabd765",
   "metadata": {},
   "outputs": [],
   "source": [
    "sub = v2-v1"
   ]
  },
  {
   "cell_type": "code",
   "execution_count": 30,
   "id": "734fd635",
   "metadata": {},
   "outputs": [
    {
     "name": "stdout",
     "output_type": "stream",
     "text": [
      "vector subtraction:[7 7 7]\n"
     ]
    }
   ],
   "source": [
    "print('vector subtraction:' + str(sub))"
   ]
  },
  {
   "cell_type": "code",
   "execution_count": 31,
   "id": "c5295ca0",
   "metadata": {},
   "outputs": [],
   "source": [
    "mul = v1*v2"
   ]
  },
  {
   "cell_type": "code",
   "execution_count": 32,
   "id": "f5076ff9",
   "metadata": {},
   "outputs": [
    {
     "name": "stdout",
     "output_type": "stream",
     "text": [
      "vector multiplication[ 8 18 30]\n"
     ]
    }
   ],
   "source": [
    "print('vector multiplication' + str(mul))"
   ]
  },
  {
   "cell_type": "code",
   "execution_count": 33,
   "id": "16adb917",
   "metadata": {},
   "outputs": [],
   "source": [
    "div1 = v2/v1"
   ]
  },
  {
   "cell_type": "code",
   "execution_count": 34,
   "id": "852c506e",
   "metadata": {},
   "outputs": [
    {
     "name": "stdout",
     "output_type": "stream",
     "text": [
      "vector division[8.         4.5        3.33333333]\n"
     ]
    }
   ],
   "source": [
    "print('vector division' + str(div1))"
   ]
  },
  {
   "cell_type": "markdown",
   "id": "ff1a36b9",
   "metadata": {},
   "source": [
    "## Vector Dot Product \n",
    "- In mathematics, the dot product or scalar product is an algebraic operation that takes two equal-length sequences of numbers and returns a single number. \n",
    "- For this we will use dot method.\n"
   ]
  },
  {
   "cell_type": "code",
   "execution_count": 35,
   "id": "0c6001e8",
   "metadata": {},
   "outputs": [],
   "source": [
    "# getting dot product of both the vectors\n",
    "# a . b = (a1 * b1 + a2 * b2 + a3 * b3)\n",
    "# a . b = (a1b1 + a2b2 + a3b3)\n",
    "\n",
    "dot_product = v1.dot(v2)"
   ]
  },
  {
   "cell_type": "code",
   "execution_count": 36,
   "id": "4920a10f",
   "metadata": {},
   "outputs": [
    {
     "name": "stdout",
     "output_type": "stream",
     "text": [
      "dot product 56\n"
     ]
    }
   ],
   "source": [
    "print('dot product', dot_product)"
   ]
  },
  {
   "cell_type": "markdown",
   "id": "206a12cd",
   "metadata": {},
   "source": [
    "## Vector-Scalar Multiplication \n",
    "- Multiplying a vector by a scalar is called scalar multiplication. To perform scalar multiplication, we need to multiply the scalar by each component of the vector."
   ]
  },
  {
   "cell_type": "code",
   "execution_count": 44,
   "id": "5d7eadf5",
   "metadata": {},
   "outputs": [],
   "source": [
    "#creating 1-D list\n",
    "ls1 = [1,2,4]"
   ]
  },
  {
   "cell_type": "code",
   "execution_count": 45,
   "id": "de0580e9",
   "metadata": {},
   "outputs": [],
   "source": [
    "#creating 1-D vector \n",
    "v1 = np.array(ls1)"
   ]
  },
  {
   "cell_type": "code",
   "execution_count": 46,
   "id": "ffb23192",
   "metadata": {},
   "outputs": [
    {
     "name": "stdout",
     "output_type": "stream",
     "text": [
      "1-D vector[1 2 4]\n"
     ]
    }
   ],
   "source": [
    "print('1-D vector' + str(v1))"
   ]
  },
  {
   "cell_type": "code",
   "execution_count": 47,
   "id": "71889925",
   "metadata": {},
   "outputs": [],
   "source": [
    "#scalar value\n",
    "scalar = 2"
   ]
  },
  {
   "cell_type": "code",
   "execution_count": 48,
   "id": "5002b40e",
   "metadata": {},
   "outputs": [
    {
     "name": "stdout",
     "output_type": "stream",
     "text": [
      "Scalar 2\n"
     ]
    }
   ],
   "source": [
    "print('Scalar ' + str(scalar))"
   ]
  },
  {
   "cell_type": "code",
   "execution_count": 49,
   "id": "70a35fb4",
   "metadata": {},
   "outputs": [],
   "source": [
    "# getting scalar multiplication value\n",
    "# s * v = (s * v1, s * v2, s * v3)\n",
    "\n",
    "scalar_mul = v1*scalar"
   ]
  },
  {
   "cell_type": "code",
   "execution_count": 50,
   "id": "e75b8ba1",
   "metadata": {},
   "outputs": [
    {
     "name": "stdout",
     "output_type": "stream",
     "text": [
      "scalar mul[2 4 8]\n"
     ]
    }
   ],
   "source": [
    "print('scalar mul' + str(scalar_mul))"
   ]
  },
  {
   "cell_type": "markdown",
   "id": "5c628ea7",
   "metadata": {},
   "source": [
    "## Numpy fromrecords() method\n",
    "\n",
    "- With the help of numpy.core.fromrecords() method, we can create the record array by using the list of individual records by using numpy.core.fromrecords() method.\n",
    "\n",
    "- Syntax : numpy.core.fromrecords([(tup1), (tup2)], metadata)\n",
    "\n",
    "- Return : Return the record of an array."
   ]
  },
  {
   "cell_type": "code",
   "execution_count": 53,
   "id": "6c73a629",
   "metadata": {},
   "outputs": [],
   "source": [
    "# In this example we can see that using numpy.core.fromrecords() method, we are able to get to get the record array by using individual records of list.\n",
    "\n",
    "\n",
    "a = np.core.records.fromrecords([(101, 'raju', 29), (301, 'kalyan', 30)], names = 'Rollno, Name, Age')"
   ]
  },
  {
   "cell_type": "code",
   "execution_count": 54,
   "id": "15791136",
   "metadata": {},
   "outputs": [
    {
     "name": "stdout",
     "output_type": "stream",
     "text": [
      "[(101, 'raju', 29) (301, 'kalyan', 30)]\n"
     ]
    }
   ],
   "source": [
    "print(a)"
   ]
  },
  {
   "cell_type": "code",
   "execution_count": 55,
   "id": "4ca8bc8e",
   "metadata": {},
   "outputs": [
    {
     "name": "stdout",
     "output_type": "stream",
     "text": [
      "<class 'numpy.recarray'>\n"
     ]
    }
   ],
   "source": [
    "print(type(a))"
   ]
  },
  {
   "cell_type": "code",
   "execution_count": 56,
   "id": "8546b601",
   "metadata": {},
   "outputs": [
    {
     "name": "stdout",
     "output_type": "stream",
     "text": [
      "(101, 'raju', 29)\n"
     ]
    }
   ],
   "source": [
    "print(a[0])"
   ]
  },
  {
   "cell_type": "code",
   "execution_count": 57,
   "id": "75f8da47",
   "metadata": {},
   "outputs": [
    {
     "name": "stdout",
     "output_type": "stream",
     "text": [
      "['raju' 'kalyan']\n"
     ]
    }
   ],
   "source": [
    "print(a.Name)"
   ]
  },
  {
   "cell_type": "code",
   "execution_count": 58,
   "id": "b11ef405",
   "metadata": {},
   "outputs": [
    {
     "name": "stdout",
     "output_type": "stream",
     "text": [
      "[29 30]\n"
     ]
    }
   ],
   "source": [
    "print(a.Age)"
   ]
  },
  {
   "cell_type": "markdown",
   "id": "9c9f7e3c",
   "metadata": {},
   "source": [
    "## How to Copy NumPy array into another array?\n",
    "\n",
    "- Many times there is a need to copy one array to another. Numpy provides the facility to copy array using different methods. There are 3 methods to copy a Numpy array to another array.\n",
    "\n",
    "\n",
    "- Method 1: Using np.empty_like() function\n",
    "\n",
    "- This function returns a new array with the same shape and type as a given array.\n",
    "\n",
    "- Syntax:\n",
    "\n",
    "- numpy.empty_like(a, dtype = None, order = ‘K’, subok = True)"
   ]
  },
  {
   "cell_type": "code",
   "execution_count": 59,
   "id": "fff2b66c",
   "metadata": {},
   "outputs": [],
   "source": [
    "ary = np.array([1,2,3,4,5,7,8,9,10])"
   ]
  },
  {
   "cell_type": "code",
   "execution_count": 61,
   "id": "814ce263",
   "metadata": {},
   "outputs": [
    {
     "name": "stdout",
     "output_type": "stream",
     "text": [
      "original array\n",
      "[ 1  2  3  4  5  7  8  9 10]\n"
     ]
    }
   ],
   "source": [
    "print('original array')\n",
    "print(ary)"
   ]
  },
  {
   "cell_type": "code",
   "execution_count": 62,
   "id": "048969fa",
   "metadata": {},
   "outputs": [],
   "source": [
    "#creating empty array similar to ary\n",
    "copy = np.empty_like(ary)"
   ]
  },
  {
   "cell_type": "code",
   "execution_count": 64,
   "id": "b6c98e59",
   "metadata": {},
   "outputs": [],
   "source": [
    "copy[:] = ary#copy"
   ]
  },
  {
   "cell_type": "code",
   "execution_count": 65,
   "id": "cf6907ff",
   "metadata": {},
   "outputs": [
    {
     "name": "stdout",
     "output_type": "stream",
     "text": [
      "copy of given array\n",
      "[ 1  2  3  4  5  7  8  9 10]\n"
     ]
    }
   ],
   "source": [
    "print('copy of given array')\n",
    "print(copy)"
   ]
  },
  {
   "cell_type": "markdown",
   "id": "9b82ac04",
   "metadata": {},
   "source": [
    "- Method 2: Using np.copy() function\n",
    "\n",
    "- This function returns an array copy of the given object.\n",
    "\n",
    "- Syntax :\n",
    "\n",
    "- numpy.copy(a, order='K', subok=False)"
   ]
  },
  {
   "cell_type": "code",
   "execution_count": 66,
   "id": "9a89dcfd",
   "metadata": {},
   "outputs": [
    {
     "name": "stdout",
     "output_type": "stream",
     "text": [
      "original array\n",
      "[ 1  2  3  4  5  7  8  9 10]\n"
     ]
    }
   ],
   "source": [
    "ary = np.array([1,2,3,4,5,7,8,9,10])\n",
    "print('original array')\n",
    "print(ary)"
   ]
  },
  {
   "cell_type": "code",
   "execution_count": 67,
   "id": "9f735256",
   "metadata": {},
   "outputs": [],
   "source": [
    "copy_array = np.copy(ary)"
   ]
  },
  {
   "cell_type": "code",
   "execution_count": 68,
   "id": "116a2352",
   "metadata": {},
   "outputs": [
    {
     "name": "stdout",
     "output_type": "stream",
     "text": [
      "copy of given array\n",
      "[ 1  2  3  4  5  7  8  9 10]\n"
     ]
    }
   ],
   "source": [
    "print('copy of given array')\n",
    "print(copy_array)"
   ]
  },
  {
   "cell_type": "code",
   "execution_count": 69,
   "id": "c7b2a0a5",
   "metadata": {},
   "outputs": [
    {
     "name": "stdout",
     "output_type": "stream",
     "text": [
      "original array\n",
      "[ 1  2  3  4  5  7  8  9 10]\n"
     ]
    }
   ],
   "source": [
    "# Method 3: Using Assignment Operator\n",
    "\n",
    "ary = np.array([1,2,3,4,5,7,8,9,10])\n",
    "print('original array')\n",
    "print(ary)"
   ]
  },
  {
   "cell_type": "code",
   "execution_count": 70,
   "id": "af27b9fb",
   "metadata": {},
   "outputs": [],
   "source": [
    "copy_array = ary"
   ]
  },
  {
   "cell_type": "code",
   "execution_count": 71,
   "id": "ea6686f0",
   "metadata": {},
   "outputs": [
    {
     "name": "stdout",
     "output_type": "stream",
     "text": [
      "copy of the array [ 1  2  3  4  5  7  8  9 10]\n"
     ]
    }
   ],
   "source": [
    "print('copy of the array', copy_array)"
   ]
  },
  {
   "cell_type": "markdown",
   "id": "71843541",
   "metadata": {},
   "source": [
    "## Appending values at the end of an NumPy array\n",
    "\n",
    "- Let us see how to append values at the end of a NumPy array. Adding values at the end of the array is a necessary task especially when the data is not fixed and is prone to change. For this task we can use numpy.append(). This function can help us to append a single value as well as multiple values at the end of the array.\n",
    "\n",
    "- Syntax : numpy.append(array, values, axis = None)\n",
    "- Parameters :\n",
    "\n",
    "- array : Input array.\n",
    "- values : values to be added in the array.\n",
    "- axis : Axis along which we want to insert the values.\n",
    "- Returns : An copy of array with values being appended at the end as per the mentioned object\n",
    "- along a given axis."
   ]
  },
  {
   "cell_type": "code",
   "execution_count": 72,
   "id": "12dbb3fe",
   "metadata": {},
   "outputs": [],
   "source": [
    "arr = np.array([1,2,3,4,7,8,5])"
   ]
  },
  {
   "cell_type": "code",
   "execution_count": 75,
   "id": "e4132e67",
   "metadata": {},
   "outputs": [],
   "source": [
    "arr = np.append(arr, [777])"
   ]
  },
  {
   "cell_type": "code",
   "execution_count": 76,
   "id": "f94cca3a",
   "metadata": {},
   "outputs": [
    {
     "data": {
      "text/plain": [
       "array([  1,   2,   3,   4,   7,   8,   5,   7, 777])"
      ]
     },
     "execution_count": 76,
     "metadata": {},
     "output_type": "execute_result"
    }
   ],
   "source": [
    "arr"
   ]
  },
  {
   "cell_type": "code",
   "execution_count": 77,
   "id": "15969129",
   "metadata": {},
   "outputs": [],
   "source": [
    "arr1 = np.append(arr, [777, 888, 999])"
   ]
  },
  {
   "cell_type": "code",
   "execution_count": 78,
   "id": "83e2b6d5",
   "metadata": {},
   "outputs": [
    {
     "data": {
      "text/plain": [
       "array([  1,   2,   3,   4,   7,   8,   5,   7, 777, 777, 888, 999])"
      ]
     },
     "execution_count": 78,
     "metadata": {},
     "output_type": "execute_result"
    }
   ],
   "source": [
    "arr1"
   ]
  },
  {
   "cell_type": "markdown",
   "id": "08fdf90d",
   "metadata": {},
   "source": [
    "- Example 2 : Appending another array at the end of 1D array. You may pass a list or an array to the append function, the result will be the same."
   ]
  },
  {
   "cell_type": "code",
   "execution_count": 79,
   "id": "1d2d0865",
   "metadata": {},
   "outputs": [],
   "source": [
    "arr1 = np.array([1,2,3,4])"
   ]
  },
  {
   "cell_type": "code",
   "execution_count": 80,
   "id": "aae2a09e",
   "metadata": {},
   "outputs": [],
   "source": [
    "arr2 = np.array([5,7,8,9])"
   ]
  },
  {
   "cell_type": "code",
   "execution_count": 81,
   "id": "ef579270",
   "metadata": {},
   "outputs": [],
   "source": [
    "arr = np.append(arr1, arr2)"
   ]
  },
  {
   "cell_type": "code",
   "execution_count": 84,
   "id": "49f57d80",
   "metadata": {},
   "outputs": [
    {
     "name": "stdout",
     "output_type": "stream",
     "text": [
      "after appending [1 2 3 4 5 7 8 9]\n"
     ]
    }
   ],
   "source": [
    "print(\"after appending\", arr)"
   ]
  },
  {
   "cell_type": "markdown",
   "id": "18200208",
   "metadata": {},
   "source": [
    "- Example 3 : Appending values at the end of the n-dimensional array. It is important that the dimensions of both the array matches otherwise it will give an error."
   ]
  },
  {
   "cell_type": "code",
   "execution_count": 85,
   "id": "48b3c6d4",
   "metadata": {},
   "outputs": [],
   "source": [
    "arr1 = np.arange(1, 13).reshape(2,6)"
   ]
  },
  {
   "cell_type": "code",
   "execution_count": 86,
   "id": "a623e34d",
   "metadata": {},
   "outputs": [
    {
     "data": {
      "text/plain": [
       "array([[ 1,  2,  3,  4,  5,  6],\n",
       "       [ 7,  8,  9, 10, 11, 12]])"
      ]
     },
     "execution_count": 86,
     "metadata": {},
     "output_type": "execute_result"
    }
   ],
   "source": [
    "arr1"
   ]
  },
  {
   "cell_type": "code",
   "execution_count": 87,
   "id": "b9ba17aa",
   "metadata": {},
   "outputs": [],
   "source": [
    "# create another array which is\n",
    "# to be appended column-wise\n",
    "col_arr = np.arange(5,11).reshape(1,6)"
   ]
  },
  {
   "cell_type": "code",
   "execution_count": 88,
   "id": "a6e063fa",
   "metadata": {},
   "outputs": [
    {
     "data": {
      "text/plain": [
       "array([[ 5,  6,  7,  8,  9, 10]])"
      ]
     },
     "execution_count": 88,
     "metadata": {},
     "output_type": "execute_result"
    }
   ],
   "source": [
    "arr2"
   ]
  },
  {
   "cell_type": "code",
   "execution_count": 89,
   "id": "f6c62cba",
   "metadata": {},
   "outputs": [],
   "source": [
    "arr = np.append(arr1, col_arr, axis = 0)#column wise"
   ]
  },
  {
   "cell_type": "code",
   "execution_count": 90,
   "id": "2f792fa7",
   "metadata": {},
   "outputs": [
    {
     "data": {
      "text/plain": [
       "array([[ 1,  2,  3,  4,  5,  6],\n",
       "       [ 7,  8,  9, 10, 11, 12],\n",
       "       [ 5,  6,  7,  8,  9, 10]])"
      ]
     },
     "execution_count": 90,
     "metadata": {},
     "output_type": "execute_result"
    }
   ],
   "source": [
    "arr"
   ]
  },
  {
   "cell_type": "code",
   "execution_count": 99,
   "id": "0a285a4a",
   "metadata": {},
   "outputs": [
    {
     "data": {
      "text/plain": [
       "array([[1],\n",
       "       [2]])"
      ]
     },
     "execution_count": 99,
     "metadata": {},
     "output_type": "execute_result"
    }
   ],
   "source": [
    "# create another array which is\n",
    "# to be appended row-wise\n",
    "row_arr = np.array([1,2]).reshape(2,1)\n",
    "row_arr"
   ]
  },
  {
   "cell_type": "code",
   "execution_count": 97,
   "id": "3f5e203f",
   "metadata": {},
   "outputs": [],
   "source": [
    "arr_row = np.append(arr1, row_arr, axis = 1)"
   ]
  },
  {
   "cell_type": "code",
   "execution_count": 98,
   "id": "b04014e2",
   "metadata": {},
   "outputs": [
    {
     "data": {
      "text/plain": [
       "array([[ 1,  2,  3,  4,  5,  6,  1],\n",
       "       [ 7,  8,  9, 10, 11, 12,  2]])"
      ]
     },
     "execution_count": 98,
     "metadata": {},
     "output_type": "execute_result"
    }
   ],
   "source": [
    "arr_row"
   ]
  },
  {
   "cell_type": "code",
   "execution_count": null,
   "id": "4d165925",
   "metadata": {},
   "outputs": [],
   "source": []
  },
  {
   "cell_type": "code",
   "execution_count": null,
   "id": "8d16665b",
   "metadata": {},
   "outputs": [],
   "source": []
  },
  {
   "cell_type": "code",
   "execution_count": null,
   "id": "11fc4b7e",
   "metadata": {},
   "outputs": [],
   "source": []
  },
  {
   "cell_type": "code",
   "execution_count": null,
   "id": "32ea60f3",
   "metadata": {},
   "outputs": [],
   "source": []
  },
  {
   "cell_type": "code",
   "execution_count": null,
   "id": "53d788ab",
   "metadata": {},
   "outputs": [],
   "source": []
  },
  {
   "cell_type": "code",
   "execution_count": null,
   "id": "222bf137",
   "metadata": {},
   "outputs": [],
   "source": []
  },
  {
   "cell_type": "code",
   "execution_count": null,
   "id": "b8d291c5",
   "metadata": {},
   "outputs": [],
   "source": []
  },
  {
   "cell_type": "code",
   "execution_count": null,
   "id": "51beb60b",
   "metadata": {},
   "outputs": [],
   "source": []
  },
  {
   "cell_type": "code",
   "execution_count": null,
   "id": "c92682cf",
   "metadata": {},
   "outputs": [],
   "source": []
  },
  {
   "cell_type": "code",
   "execution_count": null,
   "id": "93a91050",
   "metadata": {},
   "outputs": [],
   "source": []
  },
  {
   "cell_type": "code",
   "execution_count": null,
   "id": "57ed0652",
   "metadata": {},
   "outputs": [],
   "source": []
  }
 ],
 "metadata": {
  "kernelspec": {
   "display_name": "Python 3 (ipykernel)",
   "language": "python",
   "name": "python3"
  },
  "language_info": {
   "codemirror_mode": {
    "name": "ipython",
    "version": 3
   },
   "file_extension": ".py",
   "mimetype": "text/x-python",
   "name": "python",
   "nbconvert_exporter": "python",
   "pygments_lexer": "ipython3",
   "version": "3.8.12"
  }
 },
 "nbformat": 4,
 "nbformat_minor": 5
}
