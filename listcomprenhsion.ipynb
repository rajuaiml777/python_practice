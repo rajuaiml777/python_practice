{
 "cells": [
  {
   "cell_type": "code",
   "execution_count": 4,
   "id": "2df00755",
   "metadata": {},
   "outputs": [
    {
     "name": "stdout",
     "output_type": "stream",
     "text": [
      "[3, 6, 9, 12, 15]\n"
     ]
    }
   ],
   "source": [
    " nums = [1,2,3,4,5]\n",
    "dd = map(lambda x : x+x+x, nums)\n",
    "print(list(dd))"
   ]
  },
  {
   "cell_type": "code",
   "execution_count": null,
   "id": "8739b88d",
   "metadata": {},
   "outputs": [],
   "source": []
  },
  {
   "cell_type": "code",
   "execution_count": 5,
   "id": "ae1e60ef",
   "metadata": {},
   "outputs": [
    {
     "data": {
      "text/plain": [
       "[1, 8, 27, 64, 125]"
      ]
     },
     "execution_count": 5,
     "metadata": {},
     "output_type": "execute_result"
    }
   ],
   "source": [
    "d = list(map(lambda x : x**3, nums))\n",
    "d"
   ]
  },
  {
   "cell_type": "code",
   "execution_count": 8,
   "id": "3064cd7b",
   "metadata": {},
   "outputs": [
    {
     "data": {
      "text/plain": [
       "[2, 4, 6, 8]"
      ]
     },
     "execution_count": 8,
     "metadata": {},
     "output_type": "execute_result"
    }
   ],
   "source": [
    "def add(n):\n",
    "    return n+n\n",
    "num = [1,2,3,4]\n",
    "df = list(map(add, num))\n",
    "df"
   ]
  },
  {
   "cell_type": "code",
   "execution_count": 11,
   "id": "5e8cd5c0",
   "metadata": {},
   "outputs": [
    {
     "data": {
      "text/plain": [
       "[8, 10, 12, 14]"
      ]
     },
     "execution_count": 11,
     "metadata": {},
     "output_type": "execute_result"
    }
   ],
   "source": [
    "nums1 = [1,2,3,4]\n",
    "nums2 = [7,8,9,10]\n",
    "ff = list(map(lambda x,y: x+y, nums1, nums2))\n",
    "ff"
   ]
  },
  {
   "cell_type": "code",
   "execution_count": 12,
   "id": "b956b1d1",
   "metadata": {},
   "outputs": [
    {
     "data": {
      "text/plain": [
       "[['a', 'p', 'p', 'l', 'e'], ['b', 'a', 'l', 'l'], ['c', 'a', 't']]"
      ]
     },
     "execution_count": 12,
     "metadata": {},
     "output_type": "execute_result"
    }
   ],
   "source": [
    "l = ['apple', 'ball', 'cat']\n",
    "tt = list(map(list, l))\n",
    "tt"
   ]
  },
  {
   "cell_type": "code",
   "execution_count": 13,
   "id": "d6ff9e71",
   "metadata": {},
   "outputs": [
    {
     "data": {
      "text/plain": [
       "['a', 'p', 'p', 'l', 'e']"
      ]
     },
     "execution_count": 13,
     "metadata": {},
     "output_type": "execute_result"
    }
   ],
   "source": [
    "list('apple')"
   ]
  },
  {
   "cell_type": "code",
   "execution_count": 30,
   "id": "ac18a71f",
   "metadata": {},
   "outputs": [
    {
     "name": "stdout",
     "output_type": "stream",
     "text": [
      "13\n"
     ]
    }
   ],
   "source": [
    "def countsetbit(num):\n",
    "    binary = bin(num)\n",
    "    return len([ch for ch in binary if ch=='1' ])\n",
    "def countsetbitall(input):\n",
    "    print(sum(map(countsetbit, input)))\n",
    "\n",
    "if __name__ == \"__main__\":\n",
    "    n = 8\n",
    "    \n",
    "    input = []\n",
    "    for i in range(1, n+1):\n",
    "        input.append(i)\n",
    "    countsetbitall(input)"
   ]
  },
  {
   "cell_type": "code",
   "execution_count": 25,
   "id": "9b753d9e",
   "metadata": {},
   "outputs": [
    {
     "name": "stdout",
     "output_type": "stream",
     "text": [
      "13\n"
     ]
    }
   ],
   "source": [
    "def countsetbitall(n):\n",
    "    print(sum(map(lambda x: bin(x).count('1'), range(1, n+1))))\n",
    "n=8\n",
    "countsetbitall(n)"
   ]
  },
  {
   "cell_type": "code",
   "execution_count": 32,
   "id": "03b05eb6",
   "metadata": {},
   "outputs": [
    {
     "name": "stdout",
     "output_type": "stream",
     "text": [
      "[21, 64, 135]\n"
     ]
    }
   ],
   "source": [
    "def mul(a,b,c):\n",
    "    return a*b*c\n",
    "\n",
    "l1 = [1,2,3]\n",
    "l2 = [3,4,5]\n",
    "l3 = [7,8,9]\n",
    "result = list(map(mul, l1, l2,l3))\n",
    "print(result)"
   ]
  },
  {
   "cell_type": "code",
   "execution_count": 33,
   "id": "1b3f8d4c",
   "metadata": {},
   "outputs": [
    {
     "name": "stdout",
     "output_type": "stream",
     "text": [
      "[1.0, 1.0, 1.0, 1.0, 1.0]\n"
     ]
    }
   ],
   "source": [
    "def division(a,b):\n",
    "    return a/b\n",
    "\n",
    "lst = [1,2,3,4,5]\n",
    "tup = (1,2,3,4,5)\n",
    "res = list(map(division, lst, tup))\n",
    "print(res)"
   ]
  },
  {
   "cell_type": "code",
   "execution_count": 6,
   "id": "001df7a6",
   "metadata": {},
   "outputs": [],
   "source": [
    "import handcalcs.render\n",
    "from math import sqrt"
   ]
  },
  {
   "cell_type": "code",
   "execution_count": 3,
   "id": "dbc17953",
   "metadata": {},
   "outputs": [],
   "source": [
    "# !pip install handcalcs"
   ]
  },
  {
   "cell_type": "code",
   "execution_count": 20,
   "id": "d0bbdf58",
   "metadata": {},
   "outputs": [
    {
     "data": {
      "text/latex": [
       "\\[\n",
       "\\begin{aligned}\n",
       "a &= 10 \\; \n",
       "\\\\[10pt]\n",
       "b &= 20 \\; \n",
       "\\\\[10pt]\n",
       "c &= 30 \\; \n",
       "\\\\[10pt]\n",
       "d &= b + c  = 20 + 30 &= 50  \n",
       "\\end{aligned}\n",
       "\\]"
      ],
      "text/plain": [
       "<IPython.core.display.Latex object>"
      ]
     },
     "metadata": {},
     "output_type": "display_data"
    }
   ],
   "source": [
    "%%render\n",
    "a = 10\n",
    "b = 20\n",
    "c = 30\n",
    "d = b+c"
   ]
  },
  {
   "cell_type": "code",
   "execution_count": 11,
   "id": "f830e7c1",
   "metadata": {},
   "outputs": [
    {
     "name": "stderr",
     "output_type": "stream",
     "text": [
      "UsageError: Line magic function `%%render` not found.\n"
     ]
    }
   ],
   "source": [
    "import handcalcs.render\n",
    "from math import tan\n",
    " \n",
    "p = 5\n",
    "r = 12\n",
    "s = 3.5\n",
    " \n",
    "# run the code below in a new Jupyter cell\n",
    "%%render\n",
    "t = tan(p ** r + r / s) * r"
   ]
  },
  {
   "cell_type": "code",
   "execution_count": 24,
   "id": "5aadc878",
   "metadata": {},
   "outputs": [
    {
     "data": {
      "text/latex": [
       "\\[\n",
       "\\begin{aligned}\n",
       "p &= 5 \\; \n",
       "\\\\[10pt]\n",
       "r &= 12 \\; \n",
       "\\\\[10pt]\n",
       "s &= 3.500 \\; \n",
       "\\\\[10pt]\n",
       "t &= \\tan \\left( \\left( p \\right) ^{ r } + \\frac{ r }{ s } \\right) \\cdot r  = \\tan \\left( \\left( 5 \\right) ^{ 12 } + \\frac{ 12 }{ 3.500 } \\right) \\cdot 12 &= -23.933  \n",
       "\\end{aligned}\n",
       "\\]"
      ],
      "text/plain": [
       "<IPython.core.display.Latex object>"
      ]
     },
     "metadata": {},
     "output_type": "display_data"
    }
   ],
   "source": [
    "%%render\n",
    "p = 5\n",
    "r = 12\n",
    "s = 3.5\n",
    "t = tan(p**r+r/s)*r"
   ]
  },
  {
   "cell_type": "code",
   "execution_count": 27,
   "id": "e1d965c7",
   "metadata": {},
   "outputs": [
    {
     "data": {
      "text/latex": [
       "\\[\n",
       "\\begin{aligned}\n",
       "r &= \\frac{ \\left( - b \\right) + \\sqrt { \\left( b \\right) ^{ 2 } - 4 \\cdot a \\cdot c } }{ 2 \\cdot a }  = \\frac{ \\left( - 7 \\right) + \\sqrt { \\left( 7 \\right) ^{ 2 } - 4 \\cdot 6 \\cdot -8 } }{ 2 \\cdot 6 } &= 0.710  \n",
       "\\end{aligned}\n",
       "\\]"
      ],
      "text/plain": [
       "<IPython.core.display.Latex object>"
      ]
     },
     "metadata": {},
     "output_type": "display_data"
    }
   ],
   "source": [
    "%%render\n",
    "r = (-b + sqrt(b**2 - 4 * a*c))/(2*a)"
   ]
  },
  {
   "cell_type": "code",
   "execution_count": 42,
   "id": "75ac59b1",
   "metadata": {},
   "outputs": [
    {
     "name": "stdout",
     "output_type": "stream",
     "text": [
      "This module contains some useful functions on pathnames. The path parameters are either strings or bytes . These functions here are used for different purposes such as for merging, normalizing and retrieving path names in python . All of these functions accept either only bytes or only string objects as their parameters. \n",
      "The result is an object of the same type, if a path or file name is returned. As there are different versions of operating system so there are several versions of this module in the standard library.\n",
      "\n"
     ]
    }
   ],
   "source": [
    "with open('python.txt', 'r+') as f:\n",
    "    print(f.read())"
   ]
  },
  {
   "cell_type": "code",
   "execution_count": 43,
   "id": "3b6c948c",
   "metadata": {},
   "outputs": [
    {
     "name": "stdout",
     "output_type": "stream",
     "text": [
      "['This module contains some useful functions on pathnames. The path parameters are either strings or bytes . These functions here are used for different purposes such as for merging, normalizing and retrieving path names in python . All of these functions accept either only bytes or only string objects as their parameters. \\n', 'The result is an object of the same type, if a path or file name is returned. As there are different versions of operating system so there are several versions of this module in the standard library.\\n']\n"
     ]
    }
   ],
   "source": [
    "with open('python.txt', 'r+') as file:\n",
    "    print(file.readlines())"
   ]
  },
  {
   "cell_type": "code",
   "execution_count": 45,
   "id": "13ca82bb",
   "metadata": {},
   "outputs": [
    {
     "name": "stdout",
     "output_type": "stream",
     "text": [
      "what is your name and i am apple\n",
      "what is your color and i am red\n",
      "what is your shape and i am circle\n"
     ]
    }
   ],
   "source": [
    "ques = ['name', 'color', 'shape']\n",
    "ans = ['apple', 'red', 'circle']\n",
    "for ques, ans in zip(ques, ans):\n",
    "    print('what is your {0} and i am {1}'.format(ques, ans))"
   ]
  },
  {
   "cell_type": "code",
   "execution_count": 53,
   "id": "cfc4d205",
   "metadata": {},
   "outputs": [
    {
     "data": {
      "text/plain": [
       "[0, 1, 4, 9, 16]"
      ]
     },
     "execution_count": 53,
     "metadata": {},
     "output_type": "execute_result"
    }
   ],
   "source": [
    "[i**2 for i in range(10) if i < 5]"
   ]
  },
  {
   "cell_type": "code",
   "execution_count": 55,
   "id": "b4d5c2aa",
   "metadata": {},
   "outputs": [
    {
     "data": {
      "text/plain": [
       "['a', 'p', 'p', 'l', 'e']"
      ]
     },
     "execution_count": 55,
     "metadata": {},
     "output_type": "execute_result"
    }
   ],
   "source": [
    "[letter for letter in 'apple']"
   ]
  },
  {
   "cell_type": "code",
   "execution_count": 58,
   "id": "3c481b1a",
   "metadata": {},
   "outputs": [
    {
     "data": {
      "text/plain": [
       "[8, 9, 10, 11]"
      ]
     },
     "execution_count": 58,
     "metadata": {},
     "output_type": "execute_result"
    }
   ],
   "source": [
    "num = [1, 2,3,4]\n",
    "xx = list(map(lambda x : x+7, num))\n",
    "xx"
   ]
  },
  {
   "cell_type": "code",
   "execution_count": 61,
   "id": "50599f97",
   "metadata": {},
   "outputs": [
    {
     "data": {
      "text/plain": [
       "[4, 7]"
      ]
     },
     "execution_count": 61,
     "metadata": {},
     "output_type": "execute_result"
    }
   ],
   "source": [
    "num1 = [1,2]\n",
    "num2 = [3,5]\n",
    "f = list(map(lambda x, y : x+y, num1, num2))\n",
    "f"
   ]
  },
  {
   "cell_type": "code",
   "execution_count": 62,
   "id": "1d272b9f",
   "metadata": {},
   "outputs": [
    {
     "data": {
      "text/plain": [
       "['h', 'u', 'm', 'a', 'n']"
      ]
     },
     "execution_count": 62,
     "metadata": {},
     "output_type": "execute_result"
    }
   ],
   "source": [
    "list(map(lambda x: x, 'human'))"
   ]
  },
  {
   "cell_type": "code",
   "execution_count": 64,
   "id": "0b108f27",
   "metadata": {},
   "outputs": [
    {
     "data": {
      "text/plain": [
       "[0, 2, 4, 6, 8]"
      ]
     },
     "execution_count": 64,
     "metadata": {},
     "output_type": "execute_result"
    }
   ],
   "source": [
    "lst = [i for i in range(10) if i%2==0]\n",
    "lst"
   ]
  },
  {
   "cell_type": "code",
   "execution_count": 72,
   "id": "3b7c2741",
   "metadata": {},
   "outputs": [
    {
     "data": {
      "text/plain": [
       "[0, 30, 60, 90]"
      ]
     },
     "execution_count": 72,
     "metadata": {},
     "output_type": "execute_result"
    }
   ],
   "source": [
    "lst1 = [y for y in range(100) if y%2==0 if y%5==0 if y%3 ==0]\n",
    "lst1"
   ]
  },
  {
   "cell_type": "code",
   "execution_count": 75,
   "id": "71695cf8",
   "metadata": {},
   "outputs": [
    {
     "data": {
      "text/plain": [
       "['even', 'odd', 'even', 'odd', 'even', 'odd', 'even', 'odd', 'even', 'odd']"
      ]
     },
     "execution_count": 75,
     "metadata": {},
     "output_type": "execute_result"
    }
   ],
   "source": [
    "obj = ['even' if i%2==0 else 'odd' for i in range(10)]\n",
    "obj"
   ]
  },
  {
   "cell_type": "code",
   "execution_count": 80,
   "id": "f050e9bc",
   "metadata": {},
   "outputs": [
    {
     "name": "stdout",
     "output_type": "stream",
     "text": [
      "transposed_row [1]\n",
      "transposed_row [1, 4]\n",
      "transposed_row [2]\n",
      "transposed_row [2, 5]\n",
      "transposed_row [3]\n",
      "transposed_row [3, 7]\n",
      "transposed_row [4]\n",
      "transposed_row [4, 8]\n",
      "[[1, 4], [2, 5], [3, 7], [4, 8]]\n"
     ]
    }
   ],
   "source": [
    "transposed = []\n",
    "matrix = [[1,2,3,4], [4,5,7,8]]\n",
    "for i in range(len(matrix[0])):\n",
    "    transposed_row = []\n",
    "    \n",
    "    for row in matrix:\n",
    "        transposed_row.append(row[i])\n",
    "        print('transposed_row', transposed_row)\n",
    "    transposed.append(transposed_row)\n",
    "print(transposed)"
   ]
  },
  {
   "cell_type": "code",
   "execution_count": null,
   "id": "7f4545cd",
   "metadata": {},
   "outputs": [],
   "source": [
    "matrix = [[1, 2], [3,4], [5,6], [7,8]]\n",
    "transpose = [[row[i] for row in matrix] for i in range(2)]\n",
    "print (transpose)"
   ]
  },
  {
   "cell_type": "code",
   "execution_count": 82,
   "id": "c2aa9f00",
   "metadata": {},
   "outputs": [
    {
     "name": "stdout",
     "output_type": "stream",
     "text": [
      "[[1, 3, 5, 7], [2, 4, 6, 8]]\n"
     ]
    }
   ],
   "source": [
    "matrix = [[1,2], [3,4], [5,6], [7,8]]\n",
    "transpose = [[row[i] for row in matrix] for i in range(2)]\n",
    "print(transpose)"
   ]
  },
  {
   "cell_type": "code",
   "execution_count": 83,
   "id": "f99ca7a6",
   "metadata": {},
   "outputs": [
    {
     "data": {
      "text/plain": [
       "[7, 8, 9]"
      ]
     },
     "execution_count": 83,
     "metadata": {},
     "output_type": "execute_result"
    }
   ],
   "source": [
    "a = [2,3,4,7,8,9]\n",
    "b = [i for i in a if i>5]\n",
    "b"
   ]
  },
  {
   "cell_type": "code",
   "execution_count": 87,
   "id": "be866138",
   "metadata": {},
   "outputs": [
    {
     "data": {
      "text/plain": [
       "[7, 8, 9]"
      ]
     },
     "execution_count": 87,
     "metadata": {},
     "output_type": "execute_result"
    }
   ],
   "source": [
    "b = []\n",
    "for i in a:\n",
    "    if i>5:\n",
    "        b.append(i)\n",
    "b"
   ]
  },
  {
   "cell_type": "code",
   "execution_count": 85,
   "id": "b8981a99",
   "metadata": {},
   "outputs": [
    {
     "data": {
      "text/plain": [
       "[2, 3, 4, 7, 8, 9]"
      ]
     },
     "execution_count": 85,
     "metadata": {},
     "output_type": "execute_result"
    }
   ],
   "source": [
    "a"
   ]
  },
  {
   "cell_type": "code",
   "execution_count": 89,
   "id": "80b33211",
   "metadata": {},
   "outputs": [
    {
     "data": {
      "text/plain": [
       "([3, 4, 7, 8, 9], [7, 8, 9])"
      ]
     },
     "execution_count": 89,
     "metadata": {},
     "output_type": "execute_result"
    }
   ],
   "source": [
    "b = []\n",
    "b1 = []\n",
    "for i in a:\n",
    "    if i>2:\n",
    "        b.append(i)\n",
    "        if i>5:\n",
    "            b1.append(i)\n",
    "b, b1"
   ]
  },
  {
   "cell_type": "code",
   "execution_count": 91,
   "id": "5749495d",
   "metadata": {},
   "outputs": [
    {
     "data": {
      "text/plain": [
       "[14, 16, 18]"
      ]
     },
     "execution_count": 91,
     "metadata": {},
     "output_type": "execute_result"
    }
   ],
   "source": [
    "c = [x*2 for x in a if x>5]\n",
    "c"
   ]
  },
  {
   "cell_type": "code",
   "execution_count": 93,
   "id": "ad6e9eba",
   "metadata": {},
   "outputs": [
    {
     "data": {
      "text/plain": [
       "['raju', 'ramu']"
      ]
     },
     "execution_count": 93,
     "metadata": {},
     "output_type": "execute_result"
    }
   ],
   "source": [
    "names = ['raju', 'ramu', 'kalyan']\n",
    "new_names = [name for name in names if name.lower().startswith('r')]\n",
    "new_names"
   ]
  },
  {
   "cell_type": "code",
   "execution_count": 95,
   "id": "88afb1e7",
   "metadata": {},
   "outputs": [
    {
     "data": {
      "text/plain": [
       "['kalyan']"
      ]
     },
     "execution_count": 95,
     "metadata": {},
     "output_type": "execute_result"
    }
   ],
   "source": [
    "new_names = [name for name in names if name.lower().endswith('n')]\n",
    "new_names"
   ]
  },
  {
   "cell_type": "code",
   "execution_count": 97,
   "id": "08e23bdd",
   "metadata": {},
   "outputs": [
    {
     "data": {
      "text/plain": [
       "array([[6, 3, 5, 9],\n",
       "       [0, 2, 0, 3],\n",
       "       [6, 5, 8, 1],\n",
       "       [1, 1, 3, 3]])"
      ]
     },
     "execution_count": 97,
     "metadata": {},
     "output_type": "execute_result"
    }
   ],
   "source": [
    "import numpy as np\n",
    "A = np.random.randint(10, size = (4,4))\n",
    "A"
   ]
  },
  {
   "cell_type": "code",
   "execution_count": 98,
   "id": "6e8f2b18",
   "metadata": {},
   "outputs": [
    {
     "data": {
      "text/plain": [
       "[9, 3, 8, 3]"
      ]
     },
     "execution_count": 98,
     "metadata": {},
     "output_type": "execute_result"
    }
   ],
   "source": [
    "max_element = [max(i) for i in A]\n",
    "max_element"
   ]
  },
  {
   "cell_type": "code",
   "execution_count": 99,
   "id": "123275fc",
   "metadata": {},
   "outputs": [
    {
     "data": {
      "text/plain": [
       "[4, 7, 9]"
      ]
     },
     "execution_count": 99,
     "metadata": {},
     "output_type": "execute_result"
    }
   ],
   "source": [
    "vals = [[2,3,4], [4,5,7], [7,8,9]]\n",
    "val_max = [max(x) for x in vals]\n",
    "val_max"
   ]
  },
  {
   "cell_type": "code",
   "execution_count": 100,
   "id": "f666fe79",
   "metadata": {},
   "outputs": [
    {
     "data": {
      "text/plain": [
       "['sunny']"
      ]
     },
     "execution_count": 100,
     "metadata": {},
     "output_type": "execute_result"
    }
   ],
   "source": [
    "names = ['raju', 'ramu', 'kalyan', 'sunny']\n",
    "new_names = [name for name in names if name.lower().endswith('y') & len(name)>2]#and\n",
    "new_names"
   ]
  },
  {
   "cell_type": "code",
   "execution_count": 108,
   "id": "3865818b",
   "metadata": {},
   "outputs": [
    {
     "data": {
      "text/plain": [
       "['kalyan']"
      ]
     },
     "execution_count": 108,
     "metadata": {},
     "output_type": "execute_result"
    }
   ],
   "source": [
    "new_names = [name for name in names if name.lower().endswith('n') |  name.startswith('k')]#or\n",
    "new_names"
   ]
  },
  {
   "cell_type": "code",
   "execution_count": 109,
   "id": "53b0fda2",
   "metadata": {},
   "outputs": [
    {
     "data": {
      "text/plain": [
       "[1, 2, 3, 4, 5, 2, 3, 2, 6]"
      ]
     },
     "execution_count": 109,
     "metadata": {},
     "output_type": "execute_result"
    }
   ],
   "source": [
    "vals = [[1,2,3],[4,5,2],[3,2,6]]\n",
    "vals_exp = [j for i in vals for j in i]\n",
    "vals_exp"
   ]
  },
  {
   "cell_type": "code",
   "execution_count": 111,
   "id": "9e20dfb6",
   "metadata": {},
   "outputs": [],
   "source": [
    "import pandas as pd"
   ]
  },
  {
   "cell_type": "code",
   "execution_count": 112,
   "id": "0a4ea1e4",
   "metadata": {},
   "outputs": [
    {
     "data": {
      "text/plain": [
       "0    1\n",
       "0    2\n",
       "0    3\n",
       "1    4\n",
       "1    5\n",
       "1    2\n",
       "2    3\n",
       "2    2\n",
       "2    6\n",
       "dtype: object"
      ]
     },
     "execution_count": 112,
     "metadata": {},
     "output_type": "execute_result"
    }
   ],
   "source": [
    "pd.Series(vals).explode()"
   ]
  },
  {
   "cell_type": "code",
   "execution_count": 121,
   "id": "b7de876c",
   "metadata": {},
   "outputs": [
    {
     "data": {
      "text/plain": [
       "['aa', 'bb', 'cc', 'dd']"
      ]
     },
     "execution_count": 121,
     "metadata": {},
     "output_type": "execute_result"
    }
   ],
   "source": [
    "text = [['bar','foo','fooba'],['Rome','Madrid','Houston'], ['aa','bb','cc','dd']]\n",
    "text_1 = [y for x in text if len(x)>3 for y in x]\n",
    "text_1"
   ]
  },
  {
   "cell_type": "code",
   "execution_count": 116,
   "id": "2d464f35",
   "metadata": {},
   "outputs": [
    {
     "data": {
      "text/plain": [
       "['Rome', 'Madrid', 'Houston', 'raju', 'aa', 'bb', 'cc', 'dd']"
      ]
     },
     "execution_count": 116,
     "metadata": {},
     "output_type": "execute_result"
    }
   ],
   "source": [
    "text_1 = []\n",
    "for x in text:\n",
    "    if len(x)>3:\n",
    "        for y in x:\n",
    "            text_1.append(y)\n",
    "text_1"
   ]
  },
  {
   "cell_type": "code",
   "execution_count": 115,
   "id": "9ffc84aa",
   "metadata": {},
   "outputs": [
    {
     "data": {
      "text/plain": [
       "['fooba', 'Madrid', 'Houston']"
      ]
     },
     "execution_count": 115,
     "metadata": {},
     "output_type": "execute_result"
    }
   ],
   "source": [
    "text_2 = [y for x in text for y in x if len(y)>4]\n",
    "text_2"
   ]
  },
  {
   "cell_type": "code",
   "execution_count": 117,
   "id": "1c62e503",
   "metadata": {},
   "outputs": [
    {
     "data": {
      "text/plain": [
       "['fooba', 'Madrid', 'Houston']"
      ]
     },
     "execution_count": 117,
     "metadata": {},
     "output_type": "execute_result"
    }
   ],
   "source": [
    "text_2 = []\n",
    "for x in text:\n",
    "    for y in x:\n",
    "        if len(y)>4:\n",
    "            text_2.append(y)\n",
    "text_2"
   ]
  },
  {
   "cell_type": "code",
   "execution_count": 123,
   "id": "279bbafe",
   "metadata": {},
   "outputs": [
    {
     "data": {
      "text/plain": [
       "['FOO', 'FOOBA']"
      ]
     },
     "execution_count": 123,
     "metadata": {},
     "output_type": "execute_result"
    }
   ],
   "source": [
    "text_3 = [y.upper() for x in text if len(x)==3 for y in x if y.startswith('f')]\n",
    "text_3"
   ]
  },
  {
   "cell_type": "code",
   "execution_count": 124,
   "id": "28f607e6",
   "metadata": {},
   "outputs": [
    {
     "data": {
      "text/plain": [
       "['FOO', 'FOOBA']"
      ]
     },
     "execution_count": 124,
     "metadata": {},
     "output_type": "execute_result"
    }
   ],
   "source": [
    "text_3 = []\n",
    "for x in text:\n",
    "    if len(x)==3:\n",
    "        for y in x:\n",
    "            if y.startswith('f'):\n",
    "                text_3.append(y.upper())\n",
    "text_3"
   ]
  },
  {
   "cell_type": "code",
   "execution_count": null,
   "id": "c6e6a724",
   "metadata": {},
   "outputs": [],
   "source": []
  }
 ],
 "metadata": {
  "kernelspec": {
   "display_name": "Python 3 (ipykernel)",
   "language": "python",
   "name": "python3"
  },
  "language_info": {
   "codemirror_mode": {
    "name": "ipython",
    "version": 3
   },
   "file_extension": ".py",
   "mimetype": "text/x-python",
   "name": "python",
   "nbconvert_exporter": "python",
   "pygments_lexer": "ipython3",
   "version": "3.9.12"
  }
 },
 "nbformat": 4,
 "nbformat_minor": 5
}
